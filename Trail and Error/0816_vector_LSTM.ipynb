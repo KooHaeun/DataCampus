{
  "nbformat": 4,
  "nbformat_minor": 0,
  "metadata": {
    "colab": {
      "name": "0816_vector_LSTM.ipynb",
      "provenance": [],
      "collapsed_sections": [
        "mfW18DK7Yv8P"
      ]
    },
    "kernelspec": {
      "name": "python3",
      "display_name": "Python 3"
    },
    "language_info": {
      "name": "python"
    },
    "accelerator": "GPU"
  },
  "cells": [
    {
      "cell_type": "code",
      "metadata": {
        "colab": {
          "base_uri": "https://localhost:8080/"
        },
        "id": "nNniS9GBH4g6",
        "outputId": "3302d5bc-6b87-4595-a2e6-1919d87b4244"
      },
      "source": [
        "from google.colab import drive\n",
        "drive.mount('/content/drive')"
      ],
      "execution_count": 1,
      "outputs": [
        {
          "output_type": "stream",
          "text": [
            "Mounted at /content/drive\n"
          ],
          "name": "stdout"
        }
      ]
    },
    {
      "cell_type": "code",
      "metadata": {
        "id": "OlF4eLFJH_PE"
      },
      "source": [
        "path1='/content/drive/Shareddrives/데이터 청년 캠퍼스/젓가락질 데이터/새 젓가락질 데이터/excel 파일/newdata1_notcorrect.xlsx'"
      ],
      "execution_count": 24,
      "outputs": []
    },
    {
      "cell_type": "code",
      "metadata": {
        "id": "i-PA1j6mQQKb"
      },
      "source": [
        "path2='/content/drive/Shareddrives/데이터 청년 캠퍼스/젓가락질 데이터/새 젓가락질 데이터/excel 파일/newdata1_correct.xlsx'"
      ],
      "execution_count": 30,
      "outputs": []
    },
    {
      "cell_type": "code",
      "metadata": {
        "id": "l-wKvH23IXGO"
      },
      "source": [
        "import pandas as pd\n",
        "import numpy as np"
      ],
      "execution_count": 3,
      "outputs": []
    },
    {
      "cell_type": "code",
      "metadata": {
        "id": "uBJLW85cIUzM"
      },
      "source": [
        "data= pd.read_excel(path1)"
      ],
      "execution_count": 25,
      "outputs": []
    },
    {
      "cell_type": "code",
      "metadata": {
        "id": "B8VIJreM5IyC"
      },
      "source": [
        "data= pd.read_excel(path2)"
      ],
      "execution_count": 31,
      "outputs": []
    },
    {
      "cell_type": "code",
      "metadata": {
        "colab": {
          "base_uri": "https://localhost:8080/",
          "height": 626
        },
        "id": "C7omcGqRSjnb",
        "outputId": "b96ccdfe-6385-4222-d6a6-c8bb0db24446"
      },
      "source": [
        "data"
      ],
      "execution_count": 5,
      "outputs": [
        {
          "output_type": "execute_result",
          "data": {
            "text/html": [
              "<div>\n",
              "<style scoped>\n",
              "    .dataframe tbody tr th:only-of-type {\n",
              "        vertical-align: middle;\n",
              "    }\n",
              "\n",
              "    .dataframe tbody tr th {\n",
              "        vertical-align: top;\n",
              "    }\n",
              "\n",
              "    .dataframe thead th {\n",
              "        text-align: right;\n",
              "    }\n",
              "</style>\n",
              "<table border=\"1\" class=\"dataframe\">\n",
              "  <thead>\n",
              "    <tr style=\"text-align: right;\">\n",
              "      <th></th>\n",
              "      <th>Unnamed: 0</th>\n",
              "      <th>x_0</th>\n",
              "      <th>y_0</th>\n",
              "      <th>z_0</th>\n",
              "      <th>x_1</th>\n",
              "      <th>y_1</th>\n",
              "      <th>z_1</th>\n",
              "      <th>x_2</th>\n",
              "      <th>y_2</th>\n",
              "      <th>z_2</th>\n",
              "      <th>x_3</th>\n",
              "      <th>y_3</th>\n",
              "      <th>z_3</th>\n",
              "      <th>x_4</th>\n",
              "      <th>y_4</th>\n",
              "      <th>z_4</th>\n",
              "      <th>x_5</th>\n",
              "      <th>y_5</th>\n",
              "      <th>z_5</th>\n",
              "      <th>x_6</th>\n",
              "      <th>y_6</th>\n",
              "      <th>z_6</th>\n",
              "      <th>x_7</th>\n",
              "      <th>y_7</th>\n",
              "      <th>z_7</th>\n",
              "      <th>x_8</th>\n",
              "      <th>y_8</th>\n",
              "      <th>z_8</th>\n",
              "      <th>x_9</th>\n",
              "      <th>y_9</th>\n",
              "      <th>z_9</th>\n",
              "      <th>x_10</th>\n",
              "      <th>y_10</th>\n",
              "      <th>z_10</th>\n",
              "      <th>x_11</th>\n",
              "      <th>y_11</th>\n",
              "      <th>z_11</th>\n",
              "      <th>x_12</th>\n",
              "      <th>y_12</th>\n",
              "      <th>z_12</th>\n",
              "      <th>x_13</th>\n",
              "      <th>y_13</th>\n",
              "      <th>z_13</th>\n",
              "      <th>x_14</th>\n",
              "      <th>y_14</th>\n",
              "      <th>z_14</th>\n",
              "      <th>x_15</th>\n",
              "      <th>y_15</th>\n",
              "      <th>z_15</th>\n",
              "      <th>x_16</th>\n",
              "      <th>y_16</th>\n",
              "      <th>z_16</th>\n",
              "      <th>y</th>\n",
              "      <th>image</th>\n",
              "    </tr>\n",
              "  </thead>\n",
              "  <tbody>\n",
              "    <tr>\n",
              "      <th>0</th>\n",
              "      <td>0</td>\n",
              "      <td>0.842716</td>\n",
              "      <td>0.782446</td>\n",
              "      <td>-1.140933e-04</td>\n",
              "      <td>0.776988</td>\n",
              "      <td>0.737829</td>\n",
              "      <td>-0.103192</td>\n",
              "      <td>0.700529</td>\n",
              "      <td>0.631812</td>\n",
              "      <td>-0.129643</td>\n",
              "      <td>0.645707</td>\n",
              "      <td>0.528296</td>\n",
              "      <td>-0.142960</td>\n",
              "      <td>0.584502</td>\n",
              "      <td>0.443486</td>\n",
              "      <td>-0.154931</td>\n",
              "      <td>0.640736</td>\n",
              "      <td>0.585204</td>\n",
              "      <td>0.002349</td>\n",
              "      <td>0.562272</td>\n",
              "      <td>0.528287</td>\n",
              "      <td>0.010689</td>\n",
              "      <td>0.517682</td>\n",
              "      <td>0.522407</td>\n",
              "      <td>-0.006403</td>\n",
              "      <td>0.497249</td>\n",
              "      <td>0.545619</td>\n",
              "      <td>-0.016460</td>\n",
              "      <td>0.663450</td>\n",
              "      <td>0.551101</td>\n",
              "      <td>0.058779</td>\n",
              "      <td>0.592838</td>\n",
              "      <td>0.461502</td>\n",
              "      <td>0.091146</td>\n",
              "      <td>0.549607</td>\n",
              "      <td>0.441128</td>\n",
              "      <td>0.080085</td>\n",
              "      <td>0.527822</td>\n",
              "      <td>0.461714</td>\n",
              "      <td>0.071064</td>\n",
              "      <td>0.686698</td>\n",
              "      <td>0.534689</td>\n",
              "      <td>0.101654</td>\n",
              "      <td>0.635410</td>\n",
              "      <td>0.460119</td>\n",
              "      <td>0.128617</td>\n",
              "      <td>0.607273</td>\n",
              "      <td>0.438271</td>\n",
              "      <td>0.110121</td>\n",
              "      <td>0.593358</td>\n",
              "      <td>0.448840</td>\n",
              "      <td>0.096160</td>\n",
              "      <td>0</td>\n",
              "      <td>not_correct6.mp4_000000.865.jpg</td>\n",
              "    </tr>\n",
              "    <tr>\n",
              "      <th>1</th>\n",
              "      <td>1</td>\n",
              "      <td>0.833609</td>\n",
              "      <td>0.812045</td>\n",
              "      <td>-6.010709e-05</td>\n",
              "      <td>0.759722</td>\n",
              "      <td>0.759953</td>\n",
              "      <td>-0.095471</td>\n",
              "      <td>0.689738</td>\n",
              "      <td>0.662963</td>\n",
              "      <td>-0.112031</td>\n",
              "      <td>0.632792</td>\n",
              "      <td>0.566935</td>\n",
              "      <td>-0.116597</td>\n",
              "      <td>0.571007</td>\n",
              "      <td>0.484590</td>\n",
              "      <td>-0.126882</td>\n",
              "      <td>0.649387</td>\n",
              "      <td>0.613105</td>\n",
              "      <td>0.009088</td>\n",
              "      <td>0.570258</td>\n",
              "      <td>0.556476</td>\n",
              "      <td>0.021829</td>\n",
              "      <td>0.519910</td>\n",
              "      <td>0.540198</td>\n",
              "      <td>0.011657</td>\n",
              "      <td>0.483163</td>\n",
              "      <td>0.546860</td>\n",
              "      <td>0.007305</td>\n",
              "      <td>0.670124</td>\n",
              "      <td>0.593308</td>\n",
              "      <td>0.065496</td>\n",
              "      <td>0.590522</td>\n",
              "      <td>0.516746</td>\n",
              "      <td>0.097883</td>\n",
              "      <td>0.537683</td>\n",
              "      <td>0.488213</td>\n",
              "      <td>0.095057</td>\n",
              "      <td>0.498238</td>\n",
              "      <td>0.493242</td>\n",
              "      <td>0.094791</td>\n",
              "      <td>0.692305</td>\n",
              "      <td>0.588571</td>\n",
              "      <td>0.109738</td>\n",
              "      <td>0.624259</td>\n",
              "      <td>0.528744</td>\n",
              "      <td>0.132509</td>\n",
              "      <td>0.585214</td>\n",
              "      <td>0.523428</td>\n",
              "      <td>0.114372</td>\n",
              "      <td>0.557527</td>\n",
              "      <td>0.540661</td>\n",
              "      <td>0.104297</td>\n",
              "      <td>0</td>\n",
              "      <td>not_correct6.mp4_000001.133.jpg</td>\n",
              "    </tr>\n",
              "    <tr>\n",
              "      <th>2</th>\n",
              "      <td>2</td>\n",
              "      <td>0.827795</td>\n",
              "      <td>0.811853</td>\n",
              "      <td>-7.674606e-05</td>\n",
              "      <td>0.758514</td>\n",
              "      <td>0.748932</td>\n",
              "      <td>-0.092523</td>\n",
              "      <td>0.691262</td>\n",
              "      <td>0.649749</td>\n",
              "      <td>-0.109974</td>\n",
              "      <td>0.632867</td>\n",
              "      <td>0.558151</td>\n",
              "      <td>-0.116863</td>\n",
              "      <td>0.568531</td>\n",
              "      <td>0.473262</td>\n",
              "      <td>-0.129361</td>\n",
              "      <td>0.662207</td>\n",
              "      <td>0.589793</td>\n",
              "      <td>0.006099</td>\n",
              "      <td>0.581559</td>\n",
              "      <td>0.536337</td>\n",
              "      <td>0.011935</td>\n",
              "      <td>0.526597</td>\n",
              "      <td>0.540811</td>\n",
              "      <td>-0.001575</td>\n",
              "      <td>0.489300</td>\n",
              "      <td>0.570892</td>\n",
              "      <td>-0.010433</td>\n",
              "      <td>0.682026</td>\n",
              "      <td>0.581602</td>\n",
              "      <td>0.060122</td>\n",
              "      <td>0.600767</td>\n",
              "      <td>0.511563</td>\n",
              "      <td>0.087442</td>\n",
              "      <td>0.545872</td>\n",
              "      <td>0.498132</td>\n",
              "      <td>0.074161</td>\n",
              "      <td>0.507228</td>\n",
              "      <td>0.513862</td>\n",
              "      <td>0.061762</td>\n",
              "      <td>0.699472</td>\n",
              "      <td>0.584825</td>\n",
              "      <td>0.103628</td>\n",
              "      <td>0.632570</td>\n",
              "      <td>0.526405</td>\n",
              "      <td>0.127334</td>\n",
              "      <td>0.590473</td>\n",
              "      <td>0.517471</td>\n",
              "      <td>0.109403</td>\n",
              "      <td>0.563207</td>\n",
              "      <td>0.530330</td>\n",
              "      <td>0.097003</td>\n",
              "      <td>0</td>\n",
              "      <td>not_correct6.mp4_000001.067.jpg</td>\n",
              "    </tr>\n",
              "    <tr>\n",
              "      <th>3</th>\n",
              "      <td>3</td>\n",
              "      <td>0.822658</td>\n",
              "      <td>0.805489</td>\n",
              "      <td>-2.895495e-05</td>\n",
              "      <td>0.754118</td>\n",
              "      <td>0.750679</td>\n",
              "      <td>-0.098330</td>\n",
              "      <td>0.690233</td>\n",
              "      <td>0.646275</td>\n",
              "      <td>-0.118107</td>\n",
              "      <td>0.635111</td>\n",
              "      <td>0.547389</td>\n",
              "      <td>-0.124501</td>\n",
              "      <td>0.572632</td>\n",
              "      <td>0.461750</td>\n",
              "      <td>-0.138872</td>\n",
              "      <td>0.677016</td>\n",
              "      <td>0.550104</td>\n",
              "      <td>-0.015406</td>\n",
              "      <td>0.601703</td>\n",
              "      <td>0.498217</td>\n",
              "      <td>-0.017207</td>\n",
              "      <td>0.541034</td>\n",
              "      <td>0.505073</td>\n",
              "      <td>-0.038715</td>\n",
              "      <td>0.494831</td>\n",
              "      <td>0.542250</td>\n",
              "      <td>-0.056795</td>\n",
              "      <td>0.693122</td>\n",
              "      <td>0.544757</td>\n",
              "      <td>0.040906</td>\n",
              "      <td>0.617862</td>\n",
              "      <td>0.476016</td>\n",
              "      <td>0.063106</td>\n",
              "      <td>0.560412</td>\n",
              "      <td>0.468312</td>\n",
              "      <td>0.044285</td>\n",
              "      <td>0.515386</td>\n",
              "      <td>0.494499</td>\n",
              "      <td>0.026130</td>\n",
              "      <td>0.706276</td>\n",
              "      <td>0.555743</td>\n",
              "      <td>0.088869</td>\n",
              "      <td>0.643321</td>\n",
              "      <td>0.505108</td>\n",
              "      <td>0.104395</td>\n",
              "      <td>0.604636</td>\n",
              "      <td>0.509386</td>\n",
              "      <td>0.078139</td>\n",
              "      <td>0.576758</td>\n",
              "      <td>0.535674</td>\n",
              "      <td>0.060277</td>\n",
              "      <td>0</td>\n",
              "      <td>not_correct6.mp4_000000.995.jpg</td>\n",
              "    </tr>\n",
              "    <tr>\n",
              "      <th>4</th>\n",
              "      <td>4</td>\n",
              "      <td>0.822961</td>\n",
              "      <td>0.789329</td>\n",
              "      <td>-4.619699e-06</td>\n",
              "      <td>0.745776</td>\n",
              "      <td>0.758975</td>\n",
              "      <td>-0.093209</td>\n",
              "      <td>0.685100</td>\n",
              "      <td>0.651833</td>\n",
              "      <td>-0.119981</td>\n",
              "      <td>0.640956</td>\n",
              "      <td>0.546083</td>\n",
              "      <td>-0.131199</td>\n",
              "      <td>0.577306</td>\n",
              "      <td>0.462655</td>\n",
              "      <td>-0.152721</td>\n",
              "      <td>0.675048</td>\n",
              "      <td>0.551836</td>\n",
              "      <td>-0.030683</td>\n",
              "      <td>0.601711</td>\n",
              "      <td>0.502408</td>\n",
              "      <td>-0.040214</td>\n",
              "      <td>0.541667</td>\n",
              "      <td>0.500511</td>\n",
              "      <td>-0.065521</td>\n",
              "      <td>0.496009</td>\n",
              "      <td>0.521983</td>\n",
              "      <td>-0.088187</td>\n",
              "      <td>0.701095</td>\n",
              "      <td>0.535877</td>\n",
              "      <td>0.022455</td>\n",
              "      <td>0.623545</td>\n",
              "      <td>0.472821</td>\n",
              "      <td>0.036702</td>\n",
              "      <td>0.570822</td>\n",
              "      <td>0.478817</td>\n",
              "      <td>0.018019</td>\n",
              "      <td>0.527108</td>\n",
              "      <td>0.501342</td>\n",
              "      <td>0.001376</td>\n",
              "      <td>0.721678</td>\n",
              "      <td>0.534232</td>\n",
              "      <td>0.067375</td>\n",
              "      <td>0.651698</td>\n",
              "      <td>0.492781</td>\n",
              "      <td>0.076761</td>\n",
              "      <td>0.616117</td>\n",
              "      <td>0.516320</td>\n",
              "      <td>0.058052</td>\n",
              "      <td>0.590876</td>\n",
              "      <td>0.540543</td>\n",
              "      <td>0.047452</td>\n",
              "      <td>0</td>\n",
              "      <td>not_correct6.mp4_000000.931.jpg</td>\n",
              "    </tr>\n",
              "    <tr>\n",
              "      <th>...</th>\n",
              "      <td>...</td>\n",
              "      <td>...</td>\n",
              "      <td>...</td>\n",
              "      <td>...</td>\n",
              "      <td>...</td>\n",
              "      <td>...</td>\n",
              "      <td>...</td>\n",
              "      <td>...</td>\n",
              "      <td>...</td>\n",
              "      <td>...</td>\n",
              "      <td>...</td>\n",
              "      <td>...</td>\n",
              "      <td>...</td>\n",
              "      <td>...</td>\n",
              "      <td>...</td>\n",
              "      <td>...</td>\n",
              "      <td>...</td>\n",
              "      <td>...</td>\n",
              "      <td>...</td>\n",
              "      <td>...</td>\n",
              "      <td>...</td>\n",
              "      <td>...</td>\n",
              "      <td>...</td>\n",
              "      <td>...</td>\n",
              "      <td>...</td>\n",
              "      <td>...</td>\n",
              "      <td>...</td>\n",
              "      <td>...</td>\n",
              "      <td>...</td>\n",
              "      <td>...</td>\n",
              "      <td>...</td>\n",
              "      <td>...</td>\n",
              "      <td>...</td>\n",
              "      <td>...</td>\n",
              "      <td>...</td>\n",
              "      <td>...</td>\n",
              "      <td>...</td>\n",
              "      <td>...</td>\n",
              "      <td>...</td>\n",
              "      <td>...</td>\n",
              "      <td>...</td>\n",
              "      <td>...</td>\n",
              "      <td>...</td>\n",
              "      <td>...</td>\n",
              "      <td>...</td>\n",
              "      <td>...</td>\n",
              "      <td>...</td>\n",
              "      <td>...</td>\n",
              "      <td>...</td>\n",
              "      <td>...</td>\n",
              "      <td>...</td>\n",
              "      <td>...</td>\n",
              "      <td>...</td>\n",
              "      <td>...</td>\n",
              "    </tr>\n",
              "    <tr>\n",
              "      <th>92</th>\n",
              "      <td>92</td>\n",
              "      <td>0.799155</td>\n",
              "      <td>0.782329</td>\n",
              "      <td>3.656383e-05</td>\n",
              "      <td>0.721850</td>\n",
              "      <td>0.795658</td>\n",
              "      <td>-0.076016</td>\n",
              "      <td>0.668530</td>\n",
              "      <td>0.695060</td>\n",
              "      <td>-0.100448</td>\n",
              "      <td>0.643667</td>\n",
              "      <td>0.586911</td>\n",
              "      <td>-0.091661</td>\n",
              "      <td>0.617755</td>\n",
              "      <td>0.509348</td>\n",
              "      <td>-0.092211</td>\n",
              "      <td>0.695493</td>\n",
              "      <td>0.614065</td>\n",
              "      <td>-0.153902</td>\n",
              "      <td>0.625028</td>\n",
              "      <td>0.541037</td>\n",
              "      <td>-0.182900</td>\n",
              "      <td>0.575730</td>\n",
              "      <td>0.497590</td>\n",
              "      <td>-0.204186</td>\n",
              "      <td>0.532415</td>\n",
              "      <td>0.459131</td>\n",
              "      <td>-0.222282</td>\n",
              "      <td>0.721289</td>\n",
              "      <td>0.580676</td>\n",
              "      <td>-0.101915</td>\n",
              "      <td>0.648774</td>\n",
              "      <td>0.534575</td>\n",
              "      <td>-0.113719</td>\n",
              "      <td>0.606343</td>\n",
              "      <td>0.527033</td>\n",
              "      <td>-0.120857</td>\n",
              "      <td>0.574024</td>\n",
              "      <td>0.518987</td>\n",
              "      <td>-0.136745</td>\n",
              "      <td>0.738386</td>\n",
              "      <td>0.562334</td>\n",
              "      <td>-0.044968</td>\n",
              "      <td>0.679482</td>\n",
              "      <td>0.567485</td>\n",
              "      <td>-0.033773</td>\n",
              "      <td>0.684618</td>\n",
              "      <td>0.645174</td>\n",
              "      <td>-0.016641</td>\n",
              "      <td>0.695989</td>\n",
              "      <td>0.693458</td>\n",
              "      <td>-0.011170</td>\n",
              "      <td>0</td>\n",
              "      <td>not_correct6.mp4_000006.588.jpg</td>\n",
              "    </tr>\n",
              "    <tr>\n",
              "      <th>93</th>\n",
              "      <td>93</td>\n",
              "      <td>0.799998</td>\n",
              "      <td>0.785775</td>\n",
              "      <td>-6.905118e-07</td>\n",
              "      <td>0.735834</td>\n",
              "      <td>0.779779</td>\n",
              "      <td>-0.085655</td>\n",
              "      <td>0.681728</td>\n",
              "      <td>0.663388</td>\n",
              "      <td>-0.109628</td>\n",
              "      <td>0.650864</td>\n",
              "      <td>0.548924</td>\n",
              "      <td>-0.103073</td>\n",
              "      <td>0.618953</td>\n",
              "      <td>0.462512</td>\n",
              "      <td>-0.108618</td>\n",
              "      <td>0.683096</td>\n",
              "      <td>0.652471</td>\n",
              "      <td>-0.145125</td>\n",
              "      <td>0.608167</td>\n",
              "      <td>0.604470</td>\n",
              "      <td>-0.185036</td>\n",
              "      <td>0.556406</td>\n",
              "      <td>0.577412</td>\n",
              "      <td>-0.219323</td>\n",
              "      <td>0.509511</td>\n",
              "      <td>0.548579</td>\n",
              "      <td>-0.244734</td>\n",
              "      <td>0.705009</td>\n",
              "      <td>0.608633</td>\n",
              "      <td>-0.085427</td>\n",
              "      <td>0.639125</td>\n",
              "      <td>0.531506</td>\n",
              "      <td>-0.100349</td>\n",
              "      <td>0.606914</td>\n",
              "      <td>0.498978</td>\n",
              "      <td>-0.102706</td>\n",
              "      <td>0.585065</td>\n",
              "      <td>0.472675</td>\n",
              "      <td>-0.109517</td>\n",
              "      <td>0.724625</td>\n",
              "      <td>0.575016</td>\n",
              "      <td>-0.026619</td>\n",
              "      <td>0.676903</td>\n",
              "      <td>0.506012</td>\n",
              "      <td>-0.033268</td>\n",
              "      <td>0.682794</td>\n",
              "      <td>0.545126</td>\n",
              "      <td>-0.019321</td>\n",
              "      <td>0.694061</td>\n",
              "      <td>0.578188</td>\n",
              "      <td>-0.015124</td>\n",
              "      <td>0</td>\n",
              "      <td>not_correct6.mp4_000005.655.jpg</td>\n",
              "    </tr>\n",
              "    <tr>\n",
              "      <th>94</th>\n",
              "      <td>94</td>\n",
              "      <td>0.803024</td>\n",
              "      <td>0.776190</td>\n",
              "      <td>2.436026e-05</td>\n",
              "      <td>0.726535</td>\n",
              "      <td>0.789589</td>\n",
              "      <td>-0.067719</td>\n",
              "      <td>0.669307</td>\n",
              "      <td>0.693906</td>\n",
              "      <td>-0.090962</td>\n",
              "      <td>0.649116</td>\n",
              "      <td>0.586009</td>\n",
              "      <td>-0.087989</td>\n",
              "      <td>0.629411</td>\n",
              "      <td>0.502472</td>\n",
              "      <td>-0.083453</td>\n",
              "      <td>0.696273</td>\n",
              "      <td>0.631347</td>\n",
              "      <td>-0.167596</td>\n",
              "      <td>0.632952</td>\n",
              "      <td>0.551516</td>\n",
              "      <td>-0.216626</td>\n",
              "      <td>0.582559</td>\n",
              "      <td>0.501566</td>\n",
              "      <td>-0.255326</td>\n",
              "      <td>0.539189</td>\n",
              "      <td>0.463410</td>\n",
              "      <td>-0.281420</td>\n",
              "      <td>0.722562</td>\n",
              "      <td>0.584835</td>\n",
              "      <td>-0.120043</td>\n",
              "      <td>0.665133</td>\n",
              "      <td>0.500153</td>\n",
              "      <td>-0.135875</td>\n",
              "      <td>0.624293</td>\n",
              "      <td>0.469015</td>\n",
              "      <td>-0.144130</td>\n",
              "      <td>0.597793</td>\n",
              "      <td>0.452159</td>\n",
              "      <td>-0.160047</td>\n",
              "      <td>0.742735</td>\n",
              "      <td>0.558582</td>\n",
              "      <td>-0.068888</td>\n",
              "      <td>0.694212</td>\n",
              "      <td>0.503919</td>\n",
              "      <td>-0.060020</td>\n",
              "      <td>0.693729</td>\n",
              "      <td>0.568149</td>\n",
              "      <td>-0.046562</td>\n",
              "      <td>0.704748</td>\n",
              "      <td>0.618612</td>\n",
              "      <td>-0.045032</td>\n",
              "      <td>0</td>\n",
              "      <td>not_correct6.mp4_000005.387.jpg</td>\n",
              "    </tr>\n",
              "    <tr>\n",
              "      <th>95</th>\n",
              "      <td>95</td>\n",
              "      <td>0.802844</td>\n",
              "      <td>0.795097</td>\n",
              "      <td>2.972710e-05</td>\n",
              "      <td>0.725337</td>\n",
              "      <td>0.823272</td>\n",
              "      <td>-0.076616</td>\n",
              "      <td>0.659711</td>\n",
              "      <td>0.715640</td>\n",
              "      <td>-0.104828</td>\n",
              "      <td>0.631256</td>\n",
              "      <td>0.585035</td>\n",
              "      <td>-0.096771</td>\n",
              "      <td>0.614848</td>\n",
              "      <td>0.489745</td>\n",
              "      <td>-0.095727</td>\n",
              "      <td>0.696581</td>\n",
              "      <td>0.663695</td>\n",
              "      <td>-0.196533</td>\n",
              "      <td>0.620477</td>\n",
              "      <td>0.588603</td>\n",
              "      <td>-0.235739</td>\n",
              "      <td>0.572565</td>\n",
              "      <td>0.541517</td>\n",
              "      <td>-0.270530</td>\n",
              "      <td>0.528789</td>\n",
              "      <td>0.498619</td>\n",
              "      <td>-0.301058</td>\n",
              "      <td>0.728034</td>\n",
              "      <td>0.605694</td>\n",
              "      <td>-0.139878</td>\n",
              "      <td>0.651922</td>\n",
              "      <td>0.546820</td>\n",
              "      <td>-0.132757</td>\n",
              "      <td>0.620027</td>\n",
              "      <td>0.577348</td>\n",
              "      <td>-0.113634</td>\n",
              "      <td>0.596353</td>\n",
              "      <td>0.599634</td>\n",
              "      <td>-0.119562</td>\n",
              "      <td>0.749436</td>\n",
              "      <td>0.566682</td>\n",
              "      <td>-0.078077</td>\n",
              "      <td>0.681130</td>\n",
              "      <td>0.537354</td>\n",
              "      <td>-0.059505</td>\n",
              "      <td>0.676624</td>\n",
              "      <td>0.608074</td>\n",
              "      <td>-0.029499</td>\n",
              "      <td>0.685187</td>\n",
              "      <td>0.657012</td>\n",
              "      <td>-0.021236</td>\n",
              "      <td>0</td>\n",
              "      <td>not_correct6.mp4_000005.989.jpg</td>\n",
              "    </tr>\n",
              "    <tr>\n",
              "      <th>96</th>\n",
              "      <td>96</td>\n",
              "      <td>0.801972</td>\n",
              "      <td>0.787640</td>\n",
              "      <td>3.910163e-05</td>\n",
              "      <td>0.723413</td>\n",
              "      <td>0.812443</td>\n",
              "      <td>-0.080384</td>\n",
              "      <td>0.663881</td>\n",
              "      <td>0.713038</td>\n",
              "      <td>-0.106316</td>\n",
              "      <td>0.639858</td>\n",
              "      <td>0.592419</td>\n",
              "      <td>-0.096576</td>\n",
              "      <td>0.620187</td>\n",
              "      <td>0.500319</td>\n",
              "      <td>-0.092343</td>\n",
              "      <td>0.684920</td>\n",
              "      <td>0.663333</td>\n",
              "      <td>-0.175638</td>\n",
              "      <td>0.613300</td>\n",
              "      <td>0.589130</td>\n",
              "      <td>-0.213563</td>\n",
              "      <td>0.563861</td>\n",
              "      <td>0.544177</td>\n",
              "      <td>-0.245911</td>\n",
              "      <td>0.517565</td>\n",
              "      <td>0.504059</td>\n",
              "      <td>-0.275526</td>\n",
              "      <td>0.714025</td>\n",
              "      <td>0.614148</td>\n",
              "      <td>-0.118416</td>\n",
              "      <td>0.639925</td>\n",
              "      <td>0.558655</td>\n",
              "      <td>-0.128717</td>\n",
              "      <td>0.601957</td>\n",
              "      <td>0.565596</td>\n",
              "      <td>-0.130072</td>\n",
              "      <td>0.572362</td>\n",
              "      <td>0.570798</td>\n",
              "      <td>-0.144680</td>\n",
              "      <td>0.735875</td>\n",
              "      <td>0.576045</td>\n",
              "      <td>-0.056357</td>\n",
              "      <td>0.679570</td>\n",
              "      <td>0.553635</td>\n",
              "      <td>-0.044832</td>\n",
              "      <td>0.686230</td>\n",
              "      <td>0.624909</td>\n",
              "      <td>-0.013589</td>\n",
              "      <td>0.699639</td>\n",
              "      <td>0.675061</td>\n",
              "      <td>-0.002439</td>\n",
              "      <td>0</td>\n",
              "      <td>not_correct6.mp4_000006.055.jpg</td>\n",
              "    </tr>\n",
              "  </tbody>\n",
              "</table>\n",
              "<p>97 rows × 54 columns</p>\n",
              "</div>"
            ],
            "text/plain": [
              "    Unnamed: 0       x_0  ...  y                            image\n",
              "0            0  0.842716  ...  0  not_correct6.mp4_000000.865.jpg\n",
              "1            1  0.833609  ...  0  not_correct6.mp4_000001.133.jpg\n",
              "2            2  0.827795  ...  0  not_correct6.mp4_000001.067.jpg\n",
              "3            3  0.822658  ...  0  not_correct6.mp4_000000.995.jpg\n",
              "4            4  0.822961  ...  0  not_correct6.mp4_000000.931.jpg\n",
              "..         ...       ...  ... ..                              ...\n",
              "92          92  0.799155  ...  0  not_correct6.mp4_000006.588.jpg\n",
              "93          93  0.799998  ...  0  not_correct6.mp4_000005.655.jpg\n",
              "94          94  0.803024  ...  0  not_correct6.mp4_000005.387.jpg\n",
              "95          95  0.802844  ...  0  not_correct6.mp4_000005.989.jpg\n",
              "96          96  0.801972  ...  0  not_correct6.mp4_000006.055.jpg\n",
              "\n",
              "[97 rows x 54 columns]"
            ]
          },
          "metadata": {
            "tags": []
          },
          "execution_count": 5
        }
      ]
    },
    {
      "cell_type": "markdown",
      "metadata": {
        "id": "Pq1lcOnVStYY"
      },
      "source": [
        "#이웃한 점 : 16개\n",
        "0-1, 1-2, 2-3, 3-4, \\\n",
        "0-5, 5-6, 6-7, 7-8, 5-9 \\\n",
        "9-10, 10-11, 11-12, 9-13 \\\n",
        "13-14, 14-15, 15-16"
      ]
    },
    {
      "cell_type": "code",
      "metadata": {
        "id": "D_SyxLeGTwIj"
      },
      "source": [
        "length1 = [[data['x_1'][i] - data['x_0'][i], data['y_1'][i] - data['y_0'][i], data['z_1'][i] - data['z_0'][i]] for i in range(len(data))]"
      ],
      "execution_count": 32,
      "outputs": []
    },
    {
      "cell_type": "code",
      "metadata": {
        "id": "s0ra7EvVLazX"
      },
      "source": [
        "length1 = np.array(length1)"
      ],
      "execution_count": 33,
      "outputs": []
    },
    {
      "cell_type": "code",
      "metadata": {
        "colab": {
          "base_uri": "https://localhost:8080/"
        },
        "id": "hpFU9tHse4cl",
        "outputId": "9071c162-11e3-4b54-8d97-e14b2666d5aa"
      },
      "source": [
        "length1.shape"
      ],
      "execution_count": 34,
      "outputs": [
        {
          "output_type": "execute_result",
          "data": {
            "text/plain": [
              "(79, 3)"
            ]
          },
          "metadata": {
            "tags": []
          },
          "execution_count": 34
        }
      ]
    },
    {
      "cell_type": "code",
      "metadata": {
        "id": "WMF2ODyoUmu7"
      },
      "source": [
        "length2 = [[data['x_2'][i] - data['x_1'][i], data['y_2'][i] - data['y_1'][i], data['z_2'][i] - data['z_1'][i]] for i in range(len(data))]"
      ],
      "execution_count": 162,
      "outputs": []
    },
    {
      "cell_type": "code",
      "metadata": {
        "id": "B2Fi1BAuLdpY"
      },
      "source": [
        "length2 = np.array(length2)"
      ],
      "execution_count": 163,
      "outputs": []
    },
    {
      "cell_type": "code",
      "metadata": {
        "id": "4DSKUD87VX7z"
      },
      "source": [
        "length3 = [[data['x_3'][i] - data['x_2'][i], data['y_3'][i] - data['y_2'][i], data['z_3'][i] - data['z_2'][i]] for i in range(len(data))]"
      ],
      "execution_count": 164,
      "outputs": []
    },
    {
      "cell_type": "code",
      "metadata": {
        "id": "0HPiTwnuLfeY"
      },
      "source": [
        "length3 = np.array(length3)"
      ],
      "execution_count": 165,
      "outputs": []
    },
    {
      "cell_type": "code",
      "metadata": {
        "id": "ccRKneRJVfAU"
      },
      "source": [
        "length4 = [[data['x_4'][i] - data['x_3'][i], data['y_4'][i] - data['y_3'][i], data['z_4'][i] - data['z_3'][i]] for i in range(len(data))]"
      ],
      "execution_count": 166,
      "outputs": []
    },
    {
      "cell_type": "code",
      "metadata": {
        "id": "W7dwvfjJLg9I"
      },
      "source": [
        "length4 = np.array(length4)"
      ],
      "execution_count": 167,
      "outputs": []
    },
    {
      "cell_type": "code",
      "metadata": {
        "id": "eUFFcKhQVlUs"
      },
      "source": [
        "length5 = [[data['x_5'][i] - data['x_0'][i], data['y_5'][i] - data['y_0'][i], data['z_5'][i] - data['z_0'][i]] for i in range(len(data))]"
      ],
      "execution_count": 168,
      "outputs": []
    },
    {
      "cell_type": "code",
      "metadata": {
        "id": "cTUh8vOoLifA"
      },
      "source": [
        "length5 = np.array(length5)"
      ],
      "execution_count": 169,
      "outputs": []
    },
    {
      "cell_type": "code",
      "metadata": {
        "id": "Xz18d5_kVrOW"
      },
      "source": [
        "length6 = [[data['x_6'][i] - data['x_5'][i], data['y_6'][i] - data['y_5'][i], data['z_6'][i] - data['z_5'][i]] for i in range(len(data))]"
      ],
      "execution_count": 170,
      "outputs": []
    },
    {
      "cell_type": "code",
      "metadata": {
        "id": "bgYI1rshLkdQ"
      },
      "source": [
        "length6 = np.array(length6)"
      ],
      "execution_count": 171,
      "outputs": []
    },
    {
      "cell_type": "code",
      "metadata": {
        "id": "wI7BT4NiVvES"
      },
      "source": [
        "length7 = [[data['x_7'][i] - data['x_6'][i], data['y_7'][i] - data['y_6'][i], data['z_7'][i] - data['z_6'][i]] for i in range(len(data))]"
      ],
      "execution_count": 172,
      "outputs": []
    },
    {
      "cell_type": "code",
      "metadata": {
        "id": "UqYOfMmmLl_A"
      },
      "source": [
        "length7 = np.array(length7)"
      ],
      "execution_count": 173,
      "outputs": []
    },
    {
      "cell_type": "code",
      "metadata": {
        "id": "zypxQzFMV8uZ"
      },
      "source": [
        "length8 = [[data['x_8'][i] - data['x_7'][i], data['y_8'][i] - data['y_7'][i], data['z_8'][i] - data['z_7'][i]] for i in range(len(data))]"
      ],
      "execution_count": 174,
      "outputs": []
    },
    {
      "cell_type": "code",
      "metadata": {
        "id": "3dhSxFdPLnX8"
      },
      "source": [
        "length8 = np.array(length8)"
      ],
      "execution_count": 175,
      "outputs": []
    },
    {
      "cell_type": "code",
      "metadata": {
        "id": "4W2fSfmrWAeV"
      },
      "source": [
        "length9 = [[data['x_9'][i] - data['x_5'][i], data['y_9'][i] - data['y_5'][i], data['z_9'][i] - data['z_5'][i]] for i in range(len(data))]"
      ],
      "execution_count": 176,
      "outputs": []
    },
    {
      "cell_type": "code",
      "metadata": {
        "id": "b8sz2rz1Lo6R"
      },
      "source": [
        "length9 = np.array(length9)"
      ],
      "execution_count": 177,
      "outputs": []
    },
    {
      "cell_type": "code",
      "metadata": {
        "id": "VPR2q2SeWJMA"
      },
      "source": [
        "length10 = [[data['x_10'][i] - data['x_9'][i], data['y_10'][i] - data['y_9'][i], data['z_10'][i] - data['z_9'][i]] for i in range(len(data))]"
      ],
      "execution_count": 178,
      "outputs": []
    },
    {
      "cell_type": "code",
      "metadata": {
        "id": "1UJsHrwLLq25"
      },
      "source": [
        "length10 = np.array(length10)"
      ],
      "execution_count": 179,
      "outputs": []
    },
    {
      "cell_type": "code",
      "metadata": {
        "id": "KTW_HDGaWQMI"
      },
      "source": [
        "length11 = [[data['x_11'][i] - data['x_10'][i], data['y_11'][i] - data['y_10'][i], data['z_11'][i] - data['z_10'][i]] for i in range(len(data))]"
      ],
      "execution_count": 180,
      "outputs": []
    },
    {
      "cell_type": "code",
      "metadata": {
        "id": "4-f4X3RGLskh"
      },
      "source": [
        "length11 = np.array(length11)"
      ],
      "execution_count": 181,
      "outputs": []
    },
    {
      "cell_type": "code",
      "metadata": {
        "id": "MRe7hnPLWWiD"
      },
      "source": [
        "length12 = [[data['x_12'][i] - data['x_11'][i], data['y_12'][i] - data['y_11'][i], data['z_12'][i] - data['z_11'][i]] for i in range(len(data))]"
      ],
      "execution_count": 182,
      "outputs": []
    },
    {
      "cell_type": "code",
      "metadata": {
        "id": "i_KIWv_7Ltw5"
      },
      "source": [
        "length12 = np.array(length12)"
      ],
      "execution_count": 183,
      "outputs": []
    },
    {
      "cell_type": "code",
      "metadata": {
        "id": "l4pLtaLMWbfa"
      },
      "source": [
        "length13 = [[data['x_13'][i] - data['x_9'][i], data['y_13'][i] - data['y_9'][i], data['z_13'][i] - data['z_9'][i]] for i in range(len(data))]"
      ],
      "execution_count": 184,
      "outputs": []
    },
    {
      "cell_type": "code",
      "metadata": {
        "id": "dnoYT4wZLvGJ"
      },
      "source": [
        "length13 = np.array(length13)"
      ],
      "execution_count": 185,
      "outputs": []
    },
    {
      "cell_type": "code",
      "metadata": {
        "id": "kq6SJM7BWfiX"
      },
      "source": [
        "length14 = [[data['x_14'][i] - data['x_13'][i], data['y_14'][i] - data['y_13'][i], data['z_14'][i] - data['z_13'][i]] for i in range(len(data))]"
      ],
      "execution_count": 186,
      "outputs": []
    },
    {
      "cell_type": "code",
      "metadata": {
        "id": "If8vUK9PLwZx"
      },
      "source": [
        "length14 = np.array(length14)"
      ],
      "execution_count": 187,
      "outputs": []
    },
    {
      "cell_type": "code",
      "metadata": {
        "id": "kVq0GVYgWl6x"
      },
      "source": [
        "length15 = [[data['x_15'][i] - data['x_14'][i], data['y_15'][i] - data['y_14'][i], data['z_15'][i] - data['z_14'][i]] for i in range(len(data))]"
      ],
      "execution_count": 188,
      "outputs": []
    },
    {
      "cell_type": "code",
      "metadata": {
        "id": "zyrD82CYLxxY"
      },
      "source": [
        "length15 = np.array(length15)"
      ],
      "execution_count": 189,
      "outputs": []
    },
    {
      "cell_type": "code",
      "metadata": {
        "id": "BJ6ROQzYWpuv"
      },
      "source": [
        "length16 = [[data['x_16'][i] - data['x_15'][i], data['y_16'][i] - data['y_15'][i], data['z_16'][i] - data['z_15'][i]] for i in range(len(data))]"
      ],
      "execution_count": 190,
      "outputs": []
    },
    {
      "cell_type": "code",
      "metadata": {
        "id": "0_eUSGL9LyJJ"
      },
      "source": [
        "length16 = np.array(length16)"
      ],
      "execution_count": 191,
      "outputs": []
    },
    {
      "cell_type": "markdown",
      "metadata": {
        "id": "uflvnAYuhTj7"
      },
      "source": [
        "#벡터 저장"
      ]
    },
    {
      "cell_type": "code",
      "metadata": {
        "id": "y70oaQ0Fgbnc"
      },
      "source": [
        "vector = pd.DataFrame(list(zip(length1,length2,length3,length4,length5,length6,length7,length8,length9,length10,length11,length12,length13,length14,length15,length16)))"
      ],
      "execution_count": 192,
      "outputs": []
    },
    {
      "cell_type": "code",
      "metadata": {
        "id": "XgUlzfTyPHp4"
      },
      "source": [
        "vector2 = pd.DataFrame(list(zip(length1,length2,length3,length4,length5,length6,length7,length8,length9,length10,length11,length12,length13,length14,length15,length16)))"
      ],
      "execution_count": null,
      "outputs": []
    },
    {
      "cell_type": "code",
      "metadata": {
        "colab": {
          "base_uri": "https://localhost:8080/"
        },
        "id": "QKHpvSRlbew5",
        "outputId": "4acb8943-f237-4c3d-b666-ef80ad1aed6b"
      },
      "source": [
        "pd.DataFrame(list(zip(length1,length2))).to_numpy().shape\n",
        "#np.array(pd.DataFrame(list(zip(length1,length2))))[1][0]"
      ],
      "execution_count": null,
      "outputs": [
        {
          "output_type": "execute_result",
          "data": {
            "text/plain": [
              "(79, 2)"
            ]
          },
          "metadata": {
            "tags": []
          },
          "execution_count": 153
        }
      ]
    },
    {
      "cell_type": "code",
      "metadata": {
        "colab": {
          "base_uri": "https://localhost:8080/",
          "height": 779
        },
        "id": "dYoweZbGjhO7",
        "outputId": "3f8505af-2f87-41c4-b525-b242a4d79a4d"
      },
      "source": [
        "vector"
      ],
      "execution_count": 193,
      "outputs": [
        {
          "output_type": "execute_result",
          "data": {
            "text/html": [
              "<div>\n",
              "<style scoped>\n",
              "    .dataframe tbody tr th:only-of-type {\n",
              "        vertical-align: middle;\n",
              "    }\n",
              "\n",
              "    .dataframe tbody tr th {\n",
              "        vertical-align: top;\n",
              "    }\n",
              "\n",
              "    .dataframe thead th {\n",
              "        text-align: right;\n",
              "    }\n",
              "</style>\n",
              "<table border=\"1\" class=\"dataframe\">\n",
              "  <thead>\n",
              "    <tr style=\"text-align: right;\">\n",
              "      <th></th>\n",
              "      <th>0</th>\n",
              "      <th>1</th>\n",
              "      <th>2</th>\n",
              "      <th>3</th>\n",
              "      <th>4</th>\n",
              "      <th>5</th>\n",
              "      <th>6</th>\n",
              "      <th>7</th>\n",
              "      <th>8</th>\n",
              "      <th>9</th>\n",
              "      <th>10</th>\n",
              "      <th>11</th>\n",
              "      <th>12</th>\n",
              "      <th>13</th>\n",
              "      <th>14</th>\n",
              "      <th>15</th>\n",
              "    </tr>\n",
              "  </thead>\n",
              "  <tbody>\n",
              "    <tr>\n",
              "      <th>0</th>\n",
              "      <td>[-0.06572818756103516, -0.04461735486984253, -...</td>\n",
              "      <td>[-0.07645869255065918, -0.10601675510406494, -...</td>\n",
              "      <td>[-0.05482161045074463, -0.10351574420928955, -...</td>\n",
              "      <td>[-0.06120544672012329, -0.084809809923172, -0....</td>\n",
              "      <td>[-0.201979398727417, -0.19724184274673462, 0.0...</td>\n",
              "      <td>[-0.0784640908241272, -0.05691760778427124, 0....</td>\n",
              "      <td>[-0.0445902943611145, -0.005879044532775879, -...</td>\n",
              "      <td>[-0.020432680845260565, 0.02321147918701172, -...</td>\n",
              "      <td>[0.022713959217071533, -0.03410327434539795, 0...</td>\n",
              "      <td>[-0.07061254978179932, -0.08959931135177612, 0...</td>\n",
              "      <td>[-0.043231308460235596, -0.020373463630676214,...</td>\n",
              "      <td>[-0.021784305572509766, 0.02058577537536621, -...</td>\n",
              "      <td>[0.023247122764587402, -0.01641172170639038, 0...</td>\n",
              "      <td>[-0.051287829875946045, -0.07457059621810919, ...</td>\n",
              "      <td>[-0.028137028217315674, -0.021847128868102972,...</td>\n",
              "      <td>[-0.013915061950683594, 0.010568320751190186, ...</td>\n",
              "    </tr>\n",
              "    <tr>\n",
              "      <th>1</th>\n",
              "      <td>[-0.07388782501220703, -0.05209249258041382, -...</td>\n",
              "      <td>[-0.06998378038406372, -0.09699004888534546, -...</td>\n",
              "      <td>[-0.056945979595184326, -0.096027672290802, -0...</td>\n",
              "      <td>[-0.061784446239471436, -0.08234530687332159, ...</td>\n",
              "      <td>[-0.1842222809791565, -0.19894033670425415, 0....</td>\n",
              "      <td>[-0.07912927865982056, -0.05662858486175537, 0...</td>\n",
              "      <td>[-0.05034744739532471, -0.01627814769744873, -...</td>\n",
              "      <td>[-0.03674760460853577, 0.006662189960479736, -...</td>\n",
              "      <td>[0.02073657512664795, -0.01979672908782959, 0....</td>\n",
              "      <td>[-0.07960140705108643, -0.07656222581863403, 0...</td>\n",
              "      <td>[-0.05283921957015991, -0.02853301167488098, -...</td>\n",
              "      <td>[-0.03944486379623413, 0.0050293803215026855, ...</td>\n",
              "      <td>[0.022181212902069092, -0.0047376155853271484,...</td>\n",
              "      <td>[-0.06804555654525757, -0.05982625484466553, 0...</td>\n",
              "      <td>[-0.039045512676239014, -0.005316615104675293,...</td>\n",
              "      <td>[-0.0276871919631958, 0.017233550548553467, -0...</td>\n",
              "    </tr>\n",
              "    <tr>\n",
              "      <th>2</th>\n",
              "      <td>[-0.06928050518035889, -0.06292134523391724, -...</td>\n",
              "      <td>[-0.06725186109542847, -0.09918302297592163, -...</td>\n",
              "      <td>[-0.0583953857421875, -0.0915977954864502, -0....</td>\n",
              "      <td>[-0.06433629989624023, -0.08488893508911127, -...</td>\n",
              "      <td>[-0.16558778285980225, -0.22206032276153564, 0...</td>\n",
              "      <td>[-0.08064842224121094, -0.053456127643585205, ...</td>\n",
              "      <td>[-0.05496138334274292, 0.0044738054275512695, ...</td>\n",
              "      <td>[-0.037297129631042425, 0.030081331729888916, ...</td>\n",
              "      <td>[0.019818782806396484, -0.008190691471099854, ...</td>\n",
              "      <td>[-0.08125877380371094, -0.07003873586654663, 0...</td>\n",
              "      <td>[-0.05489504337310791, -0.013431549072265625, ...</td>\n",
              "      <td>[-0.03864407539367676, 0.015730082988739014, -...</td>\n",
              "      <td>[0.01744621992111206, 0.0032224059104919434, 0...</td>\n",
              "      <td>[-0.06690186262130737, -0.05841916799545288, 0...</td>\n",
              "      <td>[-0.042097389698028564, -0.008934438228607178,...</td>\n",
              "      <td>[-0.027266204357147217, 0.012859463691711426, ...</td>\n",
              "    </tr>\n",
              "    <tr>\n",
              "      <th>3</th>\n",
              "      <td>[-0.06853991746902466, -0.054810404777526855, ...</td>\n",
              "      <td>[-0.06388479471206665, -0.10440373420715332, -...</td>\n",
              "      <td>[-0.05512237548828125, -0.09888637065887451, -...</td>\n",
              "      <td>[-0.06247854232788086, -0.0856389999389649, -0...</td>\n",
              "      <td>[-0.1456412672996521, -0.2553848624229431, -0....</td>\n",
              "      <td>[-0.07531344890594482, -0.05188688635826105, -...</td>\n",
              "      <td>[-0.060668885707855225, 0.0068556964397429865,...</td>\n",
              "      <td>[-0.04620352387428289, 0.03717714548110962, -0...</td>\n",
              "      <td>[0.01610511541366577, -0.005347490310668945, 0...</td>\n",
              "      <td>[-0.0752597451210022, -0.0687410831451416, 0.0...</td>\n",
              "      <td>[-0.0574493408203125, -0.007703691720962524, -...</td>\n",
              "      <td>[-0.045026540756225586, 0.026187151670455933, ...</td>\n",
              "      <td>[0.013154745101928711, 0.010985732078552246, 0...</td>\n",
              "      <td>[-0.06295514106750488, -0.05063486099243164, 0...</td>\n",
              "      <td>[-0.03868532180786133, 0.00427854061126709, -0...</td>\n",
              "      <td>[-0.027878165245056152, 0.0262872576713562, -0...</td>\n",
              "    </tr>\n",
              "    <tr>\n",
              "      <th>4</th>\n",
              "      <td>[-0.07718551158905029, -0.03035372495651245, -...</td>\n",
              "      <td>[-0.06067603826522827, -0.10714221000671387, -...</td>\n",
              "      <td>[-0.04414421319961548, -0.10575050115585327, -...</td>\n",
              "      <td>[-0.06364995241165161, -0.08342784643173223, -...</td>\n",
              "      <td>[-0.14791303873062134, -0.23749291896820068, -...</td>\n",
              "      <td>[-0.07333743572235107, -0.049428343772888184, ...</td>\n",
              "      <td>[-0.060043513774871826, -0.0018973350524902344...</td>\n",
              "      <td>[-0.04565864801406855, 0.021472275257110596, -...</td>\n",
              "      <td>[0.02604687213897705, -0.015959739685058594, 0...</td>\n",
              "      <td>[-0.07755029201507568, -0.06305533647537231, 0...</td>\n",
              "      <td>[-0.052722811698913574, 0.0059958696365357, -0...</td>\n",
              "      <td>[-0.043713927268981934, 0.022524535655975286, ...</td>\n",
              "      <td>[0.020582258701324463, -0.001644432544708252, ...</td>\n",
              "      <td>[-0.06997925043106079, -0.04145157337188715, 0...</td>\n",
              "      <td>[-0.03558081388473511, 0.023539900779724066, -...</td>\n",
              "      <td>[-0.02524179220199585, 0.02422279119491577, -0...</td>\n",
              "    </tr>\n",
              "    <tr>\n",
              "      <th>...</th>\n",
              "      <td>...</td>\n",
              "      <td>...</td>\n",
              "      <td>...</td>\n",
              "      <td>...</td>\n",
              "      <td>...</td>\n",
              "      <td>...</td>\n",
              "      <td>...</td>\n",
              "      <td>...</td>\n",
              "      <td>...</td>\n",
              "      <td>...</td>\n",
              "      <td>...</td>\n",
              "      <td>...</td>\n",
              "      <td>...</td>\n",
              "      <td>...</td>\n",
              "      <td>...</td>\n",
              "      <td>...</td>\n",
              "    </tr>\n",
              "    <tr>\n",
              "      <th>92</th>\n",
              "      <td>[-0.07730454206466675, 0.013328969478607178, -...</td>\n",
              "      <td>[-0.05332040786743164, -0.10059809684753418, -...</td>\n",
              "      <td>[-0.02486288547515869, -0.10814964771270752, 0...</td>\n",
              "      <td>[-0.025912046432495117, -0.07756292819976807, ...</td>\n",
              "      <td>[-0.10366237163543701, -0.1682642102241516, -0...</td>\n",
              "      <td>[-0.07046425342559814, -0.07302874326705933, -...</td>\n",
              "      <td>[-0.049298107624053955, -0.04344639182090754, ...</td>\n",
              "      <td>[-0.04331517219543457, -0.03845939040184021, -...</td>\n",
              "      <td>[0.025796949863433838, -0.03338909149169922, 0...</td>\n",
              "      <td>[-0.07251578569412231, -0.04610133171081543, -...</td>\n",
              "      <td>[-0.04243046045303345, -0.007541954517364502, ...</td>\n",
              "      <td>[-0.032318949699401855, -0.008045434951782227,...</td>\n",
              "      <td>[0.017096281051635742, -0.018341779708862305, ...</td>\n",
              "      <td>[-0.05890333652496338, 0.0051503777503967285, ...</td>\n",
              "      <td>[0.005135834217071533, 0.07768917083740234, 0....</td>\n",
              "      <td>[0.011371195316314697, 0.04828369617462158, 0....</td>\n",
              "    </tr>\n",
              "    <tr>\n",
              "      <th>93</th>\n",
              "      <td>[-0.06416440010070801, -0.005995452404022217, ...</td>\n",
              "      <td>[-0.054105401039123535, -0.11639159917831421, ...</td>\n",
              "      <td>[-0.0308646559715271, -0.11446326971054077, 0....</td>\n",
              "      <td>[-0.03191035985946655, -0.08641186356544489, -...</td>\n",
              "      <td>[-0.11690205335617065, -0.1333032250404358, -0...</td>\n",
              "      <td>[-0.07492965459823608, -0.04800152778625488, -...</td>\n",
              "      <td>[-0.05176025629043579, -0.027057945728302002, ...</td>\n",
              "      <td>[-0.046895503997802734, -0.02883315086364746, ...</td>\n",
              "      <td>[0.02191317081451416, -0.04383808374404907, 0....</td>\n",
              "      <td>[-0.06588417291641235, -0.07712727785110474, -...</td>\n",
              "      <td>[-0.032211244106292725, -0.0325276255607605, -...</td>\n",
              "      <td>[-0.021848738193511963, -0.02630370855331421, ...</td>\n",
              "      <td>[0.01961517333984375, -0.03361767530441284, 0....</td>\n",
              "      <td>[-0.04772144556045532, -0.06900334358215332, -...</td>\n",
              "      <td>[0.005891203880310059, 0.03911328315734863, 0....</td>\n",
              "      <td>[0.01126706600189209, 0.033062756061553955, 0....</td>\n",
              "    </tr>\n",
              "    <tr>\n",
              "      <th>94</th>\n",
              "      <td>[-0.07648944854736328, 0.013399720191955566, -...</td>\n",
              "      <td>[-0.05722779035568237, -0.09568357467651367, -...</td>\n",
              "      <td>[-0.02019059658050537, -0.10789710283279419, 0...</td>\n",
              "      <td>[-0.019705474376678467, -0.08353710174560547, ...</td>\n",
              "      <td>[-0.10675156116485596, -0.14484244585037231, -...</td>\n",
              "      <td>[-0.06332045793533325, -0.07983160018920898, -...</td>\n",
              "      <td>[-0.05039268732070923, -0.04994910955429077, -...</td>\n",
              "      <td>[-0.04337078332901001, -0.038156747817993164, ...</td>\n",
              "      <td>[0.02628910541534424, -0.04651224613189697, 0....</td>\n",
              "      <td>[-0.05742830038070679, -0.08468210697174072, -...</td>\n",
              "      <td>[-0.0408402681350708, -0.031138122081756647, -...</td>\n",
              "      <td>[-0.026500582695007324, -0.016856074333190862,...</td>\n",
              "      <td>[0.02017301321029663, -0.026253163814544678, 0...</td>\n",
              "      <td>[-0.048522889614105225, -0.054663121700286865,...</td>\n",
              "      <td>[-0.0004832744598388672, 0.06423020362854004, ...</td>\n",
              "      <td>[0.01101982593536377, 0.05046325922012329, 0.0...</td>\n",
              "    </tr>\n",
              "    <tr>\n",
              "      <th>95</th>\n",
              "      <td>[-0.07750743627548218, 0.028175175189971924, -...</td>\n",
              "      <td>[-0.06562572717666626, -0.10763192176818848, -...</td>\n",
              "      <td>[-0.028455078601837158, -0.1306048035621643, 0...</td>\n",
              "      <td>[-0.016407489776611328, -0.0952904224395752, 0...</td>\n",
              "      <td>[-0.1062631607055664, -0.13140177726745605, -0...</td>\n",
              "      <td>[-0.07610362768173218, -0.0750921368598938, -0...</td>\n",
              "      <td>[-0.04791194200515747, -0.04708528518676758, -...</td>\n",
              "      <td>[-0.04377615451812744, -0.04289877414703369, -...</td>\n",
              "      <td>[0.03145343065261841, -0.05800074338912964, 0....</td>\n",
              "      <td>[-0.07611238956451416, -0.058874428272247314, ...</td>\n",
              "      <td>[-0.03189504146575928, 0.03052830696105957, 0....</td>\n",
              "      <td>[-0.023673713207244873, 0.022286295890808105, ...</td>\n",
              "      <td>[0.02140212059020996, -0.039012134075164795, 0...</td>\n",
              "      <td>[-0.06830674409866333, -0.029328346252441406, ...</td>\n",
              "      <td>[-0.004505813121795654, 0.07072079181671143, 0...</td>\n",
              "      <td>[0.008563339710235596, 0.04893767833709717, 0....</td>\n",
              "    </tr>\n",
              "    <tr>\n",
              "      <th>96</th>\n",
              "      <td>[-0.07855898141860962, 0.024803519248962402, -...</td>\n",
              "      <td>[-0.05953246355056763, -0.09940576553344727, -...</td>\n",
              "      <td>[-0.02402210235595703, -0.12061882019042969, 0...</td>\n",
              "      <td>[-0.019671201705932617, -0.09210002422332764, ...</td>\n",
              "      <td>[-0.11705219745635986, -0.12430685758590698, -...</td>\n",
              "      <td>[-0.07161957025527954, -0.07420307397842407, -...</td>\n",
              "      <td>[-0.049439191818237305, -0.0449526309967041, -...</td>\n",
              "      <td>[-0.04629594087600708, -0.040118515491485596, ...</td>\n",
              "      <td>[0.029105305671691895, -0.049184560775756836, ...</td>\n",
              "      <td>[-0.07410061359405518, -0.05549311637878418, -...</td>\n",
              "      <td>[-0.03796732425689697, 0.006940305233001709, -...</td>\n",
              "      <td>[-0.029595494270324707, 0.005202770233154297, ...</td>\n",
              "      <td>[0.021849393844604492, -0.03810352087020874, 0...</td>\n",
              "      <td>[-0.056304991245269775, -0.022410094738006592,...</td>\n",
              "      <td>[0.0066606998443603516, 0.07127445936203003, 0...</td>\n",
              "      <td>[0.013408839702606201, 0.05015206336975098, 0....</td>\n",
              "    </tr>\n",
              "  </tbody>\n",
              "</table>\n",
              "<p>97 rows × 16 columns</p>\n",
              "</div>"
            ],
            "text/plain": [
              "                                                   0   ...                                                 15\n",
              "0   [-0.06572818756103516, -0.04461735486984253, -...  ...  [-0.013915061950683594, 0.010568320751190186, ...\n",
              "1   [-0.07388782501220703, -0.05209249258041382, -...  ...  [-0.0276871919631958, 0.017233550548553467, -0...\n",
              "2   [-0.06928050518035889, -0.06292134523391724, -...  ...  [-0.027266204357147217, 0.012859463691711426, ...\n",
              "3   [-0.06853991746902466, -0.054810404777526855, ...  ...  [-0.027878165245056152, 0.0262872576713562, -0...\n",
              "4   [-0.07718551158905029, -0.03035372495651245, -...  ...  [-0.02524179220199585, 0.02422279119491577, -0...\n",
              "..                                                ...  ...                                                ...\n",
              "92  [-0.07730454206466675, 0.013328969478607178, -...  ...  [0.011371195316314697, 0.04828369617462158, 0....\n",
              "93  [-0.06416440010070801, -0.005995452404022217, ...  ...  [0.01126706600189209, 0.033062756061553955, 0....\n",
              "94  [-0.07648944854736328, 0.013399720191955566, -...  ...  [0.01101982593536377, 0.05046325922012329, 0.0...\n",
              "95  [-0.07750743627548218, 0.028175175189971924, -...  ...  [0.008563339710235596, 0.04893767833709717, 0....\n",
              "96  [-0.07855898141860962, 0.024803519248962402, -...  ...  [0.013408839702606201, 0.05015206336975098, 0....\n",
              "\n",
              "[97 rows x 16 columns]"
            ]
          },
          "metadata": {
            "tags": []
          },
          "execution_count": 193
        }
      ]
    },
    {
      "cell_type": "code",
      "metadata": {
        "colab": {
          "base_uri": "https://localhost:8080/",
          "height": 776
        },
        "id": "2PtCmm8GPK_n",
        "outputId": "77ee9c35-f22e-4093-f96a-3b12d1745c3a"
      },
      "source": [
        "vector2"
      ],
      "execution_count": null,
      "outputs": [
        {
          "output_type": "execute_result",
          "data": {
            "text/html": [
              "<div>\n",
              "<style scoped>\n",
              "    .dataframe tbody tr th:only-of-type {\n",
              "        vertical-align: middle;\n",
              "    }\n",
              "\n",
              "    .dataframe tbody tr th {\n",
              "        vertical-align: top;\n",
              "    }\n",
              "\n",
              "    .dataframe thead th {\n",
              "        text-align: right;\n",
              "    }\n",
              "</style>\n",
              "<table border=\"1\" class=\"dataframe\">\n",
              "  <thead>\n",
              "    <tr style=\"text-align: right;\">\n",
              "      <th></th>\n",
              "      <th>0</th>\n",
              "      <th>1</th>\n",
              "      <th>2</th>\n",
              "      <th>3</th>\n",
              "      <th>4</th>\n",
              "      <th>5</th>\n",
              "      <th>6</th>\n",
              "      <th>7</th>\n",
              "      <th>8</th>\n",
              "      <th>9</th>\n",
              "      <th>10</th>\n",
              "      <th>11</th>\n",
              "      <th>12</th>\n",
              "      <th>13</th>\n",
              "      <th>14</th>\n",
              "      <th>15</th>\n",
              "    </tr>\n",
              "  </thead>\n",
              "  <tbody>\n",
              "    <tr>\n",
              "      <th>0</th>\n",
              "      <td>[0.009176313877105713, -0.17186957597732544, -...</td>\n",
              "      <td>[-0.017397284507751465, -0.2208247184753418, -...</td>\n",
              "      <td>[-0.039512038230895996, -0.17657890915870672, ...</td>\n",
              "      <td>[-0.03119075298309326, -0.14843080937862388, 0...</td>\n",
              "      <td>[0.0141754150390625, -0.5601564943790436, 0.00...</td>\n",
              "      <td>[-0.07724624872207642, -0.1514984518289566, -0...</td>\n",
              "      <td>[-0.07167172431945801, 0.024730607867240878, -...</td>\n",
              "      <td>[-0.05262470245361328, 0.06885609030723569, -0...</td>\n",
              "      <td>[-0.044480204582214355, 0.0468644499778747, 0....</td>\n",
              "      <td>[-0.10236221551895142, -0.12421301007270813, -...</td>\n",
              "      <td>[-0.08214020729064941, 0.05972206592559809, -0...</td>\n",
              "      <td>[-0.05325150489807129, 0.08851116895675665, -0...</td>\n",
              "      <td>[-0.04267382621765137, 0.06594350934028625, 0....</td>\n",
              "      <td>[-0.09928065538406372, -0.06615313887596125, -...</td>\n",
              "      <td>[-0.07024586200714111, 0.07333499193191528, -0...</td>\n",
              "      <td>[-0.04566359519958496, 0.08096888661384577, -0...</td>\n",
              "    </tr>\n",
              "    <tr>\n",
              "      <th>1</th>\n",
              "      <td>[0.008523285388946533, -0.2103392481803894, -0...</td>\n",
              "      <td>[-0.022219419479370117, -0.2099541425704956, -...</td>\n",
              "      <td>[-0.04624873399734497, -0.1656947135925293, 0....</td>\n",
              "      <td>[-0.02820289134979248, -0.1533594131469727, 0....</td>\n",
              "      <td>[0.013717889785766602, -0.5541937351226807, 0....</td>\n",
              "      <td>[-0.056770503520965576, -0.1512844860553741, -...</td>\n",
              "      <td>[-0.053790390491485596, -0.013255059719085693,...</td>\n",
              "      <td>[-0.03665393590927124, 0.03911420702934271, -0...</td>\n",
              "      <td>[-0.05116093158721924, 0.05486452579498302, 0....</td>\n",
              "      <td>[-0.08101201057434082, -0.12990769743919384, -...</td>\n",
              "      <td>[-0.07296055555343628, 0.025314301252365112, -...</td>\n",
              "      <td>[-0.04148131608963013, 0.0684046745300293, -0....</td>\n",
              "      <td>[-0.046138644218444824, 0.06371635198593134, 0...</td>\n",
              "      <td>[-0.08349907398223877, -0.08249747753143316, -...</td>\n",
              "      <td>[-0.06634747982025146, 0.04864409565925604, -0...</td>\n",
              "      <td>[-0.03794705867767334, 0.06730714440345764, -0...</td>\n",
              "    </tr>\n",
              "    <tr>\n",
              "      <th>2</th>\n",
              "      <td>[0.01734769344329834, -0.20793521404266357, -0...</td>\n",
              "      <td>[-0.01876896619796753, -0.2114829421043396, -0...</td>\n",
              "      <td>[-0.05464732646942139, -0.16662579774856573, 0...</td>\n",
              "      <td>[-0.03108161687850952, -0.14590901136398307, -...</td>\n",
              "      <td>[0.01885199546813965, -0.5612156689167023, 0.0...</td>\n",
              "      <td>[-0.0750114917755127, -0.1375803649425506, -0....</td>\n",
              "      <td>[-0.07263350486755371, -0.023770600557327298, ...</td>\n",
              "      <td>[-0.06480687856674194, 0.0317060053348541, -0....</td>\n",
              "      <td>[-0.05592077970504761, 0.04779878258705139, 0....</td>\n",
              "      <td>[-0.08271610736846924, -0.1237337589263916, -0...</td>\n",
              "      <td>[-0.0788121223449707, -0.00037786364555358887,...</td>\n",
              "      <td>[-0.0638653039932251, 0.04147246479988098, -0....</td>\n",
              "      <td>[-0.04902082681655884, 0.06688711047172552, 0....</td>\n",
              "      <td>[-0.08012962341308594, -0.07331624627113353, -...</td>\n",
              "      <td>[-0.06528353691101074, 0.03271162509918224, -0...</td>\n",
              "      <td>[-0.05087465047836304, 0.051442235708236694, -...</td>\n",
              "    </tr>\n",
              "    <tr>\n",
              "      <th>3</th>\n",
              "      <td>[0.011838853359222412, -0.20685434341430664, -...</td>\n",
              "      <td>[-0.017779409885406494, -0.21178466081619263, ...</td>\n",
              "      <td>[-0.049974799156188965, -0.1681293249130249, 0...</td>\n",
              "      <td>[-0.025821149349212646, -0.14895585179328918, ...</td>\n",
              "      <td>[0.021643757820129395, -0.5544382035732269, 0....</td>\n",
              "      <td>[-0.06448161602020264, -0.13699847459793094, -...</td>\n",
              "      <td>[-0.06514686346054077, -0.018739968538284274, ...</td>\n",
              "      <td>[-0.05481767654418945, 0.03689044713973999, -0...</td>\n",
              "      <td>[-0.05188250541687012, 0.04759052395820618, 0....</td>\n",
              "      <td>[-0.080721914768219, -0.11899635195732122, -0....</td>\n",
              "      <td>[-0.07767742872238159, 0.011150687932968195, -...</td>\n",
              "      <td>[-0.055507779121398926, 0.05415529012680054, -...</td>\n",
              "      <td>[-0.046701133251190186, 0.061300247907638494, ...</td>\n",
              "      <td>[-0.07972067594528198, -0.07423731684684748, -...</td>\n",
              "      <td>[-0.06474196910858154, 0.04099768400192261, -0...</td>\n",
              "      <td>[-0.045729637145996094, 0.06182771921157837, -...</td>\n",
              "    </tr>\n",
              "    <tr>\n",
              "      <th>4</th>\n",
              "      <td>[0.004919648170471191, -0.21311110258102417, -...</td>\n",
              "      <td>[-0.021608293056488037, -0.2089640498161316, -...</td>\n",
              "      <td>[-0.04752391576766968, -0.1600872278213501, 0....</td>\n",
              "      <td>[-0.026946187019348145, -0.14637303352355957, ...</td>\n",
              "      <td>[0.02028876543045044, -0.5444007515907288, 0.0...</td>\n",
              "      <td>[-0.057173848152160645, -0.13418662548065186, ...</td>\n",
              "      <td>[-0.0570794939994812, -0.026575118303298922, -...</td>\n",
              "      <td>[-0.04689288139343262, 0.024184405803680392, -...</td>\n",
              "      <td>[-0.051720261573791504, 0.051343500614166204, ...</td>\n",
              "      <td>[-0.08055514097213745, -0.11437663435935969, -...</td>\n",
              "      <td>[-0.0791434645652771, 0.014036595821380615, -0...</td>\n",
              "      <td>[-0.05646848678588867, 0.057454913854599, -0.0...</td>\n",
              "      <td>[-0.04673045873641968, 0.06297451257705694, 0....</td>\n",
              "      <td>[-0.08286106586456299, -0.0744141936302185, -0...</td>\n",
              "      <td>[-0.0702047348022461, 0.03762337565422058, -0....</td>\n",
              "      <td>[-0.05045813322067261, 0.058401793241500854, -...</td>\n",
              "    </tr>\n",
              "    <tr>\n",
              "      <th>...</th>\n",
              "      <td>...</td>\n",
              "      <td>...</td>\n",
              "      <td>...</td>\n",
              "      <td>...</td>\n",
              "      <td>...</td>\n",
              "      <td>...</td>\n",
              "      <td>...</td>\n",
              "      <td>...</td>\n",
              "      <td>...</td>\n",
              "      <td>...</td>\n",
              "      <td>...</td>\n",
              "      <td>...</td>\n",
              "      <td>...</td>\n",
              "      <td>...</td>\n",
              "      <td>...</td>\n",
              "      <td>...</td>\n",
              "    </tr>\n",
              "    <tr>\n",
              "      <th>74</th>\n",
              "      <td>[0.011402308940887451, -0.20979976654052734, -...</td>\n",
              "      <td>[-0.019465148448944092, -0.20151948928833008, ...</td>\n",
              "      <td>[-0.04720121622085571, -0.1499045491218567, 0....</td>\n",
              "      <td>[-0.03100001811981201, -0.14361500740051272, -...</td>\n",
              "      <td>[0.016090810298919678, -0.5182658433914185, 0....</td>\n",
              "      <td>[-0.05745893716812134, -0.12586447596549993, -...</td>\n",
              "      <td>[-0.05853492021560669, -0.036617934703826904, ...</td>\n",
              "      <td>[-0.05223953723907471, 0.014400511980056818, -...</td>\n",
              "      <td>[-0.05104029178619385, 0.056097447872161754, 0...</td>\n",
              "      <td>[-0.07919478416442871, -0.1045814156532287, -0...</td>\n",
              "      <td>[-0.07470101118087769, 0.008412837982177734, -...</td>\n",
              "      <td>[-0.05451303720474243, 0.04834052920341486, -0...</td>\n",
              "      <td>[-0.044353485107421875, 0.06232321262359619, 0...</td>\n",
              "      <td>[-0.07456099987030029, -0.08411750197410578, -...</td>\n",
              "      <td>[-0.06069469451904297, 0.03377416729927063, -0...</td>\n",
              "      <td>[-0.04299771785736084, 0.0605921745300293, -0....</td>\n",
              "    </tr>\n",
              "    <tr>\n",
              "      <th>75</th>\n",
              "      <td>[0.016287565231323242, -0.2042199969291687, -0...</td>\n",
              "      <td>[-0.019492685794830322, -0.19814923405647278, ...</td>\n",
              "      <td>[-0.054631710052490234, -0.15072736144065862, ...</td>\n",
              "      <td>[-0.03581291437149048, -0.13995623588562006, -...</td>\n",
              "      <td>[0.015384912490844727, -0.5116817653179169, 0....</td>\n",
              "      <td>[-0.05896347761154175, -0.128390371799469, -0....</td>\n",
              "      <td>[-0.0585440993309021, -0.04398712515830991, -0...</td>\n",
              "      <td>[-0.05582559108734131, 0.0065140128135680875, ...</td>\n",
              "      <td>[-0.055113017559051514, 0.049206346273422186, ...</td>\n",
              "      <td>[-0.06920468807220459, -0.11906430125236511, -...</td>\n",
              "      <td>[-0.07055652141571045, -0.01864007115364069, -...</td>\n",
              "      <td>[-0.05920994281768799, 0.021029829978942927, -...</td>\n",
              "      <td>[-0.046535372734069824, 0.06454375386238098, 0...</td>\n",
              "      <td>[-0.07318353652954102, -0.07222118973731989, -...</td>\n",
              "      <td>[-0.06375575065612793, 0.02478843927383423, -0...</td>\n",
              "      <td>[-0.048998892307281494, 0.04277613759040827, -...</td>\n",
              "    </tr>\n",
              "    <tr>\n",
              "      <th>76</th>\n",
              "      <td>[0.010876297950744629, -0.19091981649398804, -...</td>\n",
              "      <td>[-0.025403857231140137, -0.1998925805091858, -...</td>\n",
              "      <td>[-0.0573040246963501, -0.1502489149570465, 0.0...</td>\n",
              "      <td>[-0.039767444133758545, -0.14234066009521487, ...</td>\n",
              "      <td>[0.016466200351715088, -0.5232782363891602, 0....</td>\n",
              "      <td>[-0.06855106353759766, -0.1247795820236206, -0...</td>\n",
              "      <td>[-0.06834173202514648, -0.03617742657661441, -...</td>\n",
              "      <td>[-0.06559783220291138, 0.010167598724365207, -...</td>\n",
              "      <td>[-0.052114248275756836, 0.05690935254096979, 0...</td>\n",
              "      <td>[-0.0798196792602539, -0.11351296305656433, -0...</td>\n",
              "      <td>[-0.07964664697647095, -0.0146254301071167, -0...</td>\n",
              "      <td>[-0.0692744255065918, 0.01814478635787964, -0....</td>\n",
              "      <td>[-0.04735499620437622, 0.06770646572113037, 0....</td>\n",
              "      <td>[-0.07954466342926025, -0.07280293107032776, -...</td>\n",
              "      <td>[-0.06310290098190308, 0.031986773014068604, -...</td>\n",
              "      <td>[-0.05059492588043213, 0.04629778861999506, -0...</td>\n",
              "    </tr>\n",
              "    <tr>\n",
              "      <th>77</th>\n",
              "      <td>[0.00846564769744873, -0.20522809028625488, -0...</td>\n",
              "      <td>[-0.02309519052505493, -0.20286566019058228, -...</td>\n",
              "      <td>[-0.050862014293670654, -0.14910119771957392, ...</td>\n",
              "      <td>[-0.032387375831604004, -0.1465056538581849, -...</td>\n",
              "      <td>[0.011974096298217773, -0.5246903300285339, 0....</td>\n",
              "      <td>[-0.06515824794769287, -0.1253899931907653, -0...</td>\n",
              "      <td>[-0.05847817659378052, -0.0422475337982178, -0...</td>\n",
              "      <td>[-0.0510982871055603, 0.006702452898025513, -0...</td>\n",
              "      <td>[-0.05078232288360596, 0.055403113365173395, 0...</td>\n",
              "      <td>[-0.0855209231376648, -0.10763972997665411, -0...</td>\n",
              "      <td>[-0.0739087462425232, 0.010360956192016602, -0...</td>\n",
              "      <td>[-0.05278372764587402, 0.0531141459941864, -0....</td>\n",
              "      <td>[-0.044787585735321045, 0.06150975823402399, 0...</td>\n",
              "      <td>[-0.0792188048362732, -0.0860938131809234, -0....</td>\n",
              "      <td>[-0.06196296215057373, 0.03373116254806524, -0...</td>\n",
              "      <td>[-0.043412625789642334, 0.06006580591201777, -...</td>\n",
              "    </tr>\n",
              "    <tr>\n",
              "      <th>78</th>\n",
              "      <td>[0.008352935314178467, -0.21068406105041504, -...</td>\n",
              "      <td>[-0.024718761444091797, -0.1996176838874817, -...</td>\n",
              "      <td>[-0.05331146717071533, -0.14910519123077393, 0...</td>\n",
              "      <td>[-0.032827019691467285, -0.1475841403007507, -...</td>\n",
              "      <td>[0.012629806995391846, -0.5266836285591125, 0....</td>\n",
              "      <td>[-0.05753380060195923, -0.1263414323329926, -0...</td>\n",
              "      <td>[-0.05926543474197388, -0.04357942938804618, -...</td>\n",
              "      <td>[-0.054076313972473145, 0.008730441331863403, ...</td>\n",
              "      <td>[-0.05286216735839844, 0.052938103675842285, 0...</td>\n",
              "      <td>[-0.07145464420318604, -0.11971420049667358, -...</td>\n",
              "      <td>[-0.06945353746414185, -0.02522361278533941, -...</td>\n",
              "      <td>[-0.05449110269546509, 0.014784961938858088, -...</td>\n",
              "      <td>[-0.047055840492248535, 0.06454023718833923, 0...</td>\n",
              "      <td>[-0.07390588521957397, -0.08466431498527532, -...</td>\n",
              "      <td>[-0.06286978721618652, 0.01785928010940563, -0...</td>\n",
              "      <td>[-0.04643434286117554, 0.03966879844665516, -0...</td>\n",
              "    </tr>\n",
              "  </tbody>\n",
              "</table>\n",
              "<p>79 rows × 16 columns</p>\n",
              "</div>"
            ],
            "text/plain": [
              "                                                   0   ...                                                 15\n",
              "0   [0.009176313877105713, -0.17186957597732544, -...  ...  [-0.04566359519958496, 0.08096888661384577, -0...\n",
              "1   [0.008523285388946533, -0.2103392481803894, -0...  ...  [-0.03794705867767334, 0.06730714440345764, -0...\n",
              "2   [0.01734769344329834, -0.20793521404266357, -0...  ...  [-0.05087465047836304, 0.051442235708236694, -...\n",
              "3   [0.011838853359222412, -0.20685434341430664, -...  ...  [-0.045729637145996094, 0.06182771921157837, -...\n",
              "4   [0.004919648170471191, -0.21311110258102417, -...  ...  [-0.05045813322067261, 0.058401793241500854, -...\n",
              "..                                                ...  ...                                                ...\n",
              "74  [0.011402308940887451, -0.20979976654052734, -...  ...  [-0.04299771785736084, 0.0605921745300293, -0....\n",
              "75  [0.016287565231323242, -0.2042199969291687, -0...  ...  [-0.048998892307281494, 0.04277613759040827, -...\n",
              "76  [0.010876297950744629, -0.19091981649398804, -...  ...  [-0.05059492588043213, 0.04629778861999506, -0...\n",
              "77  [0.00846564769744873, -0.20522809028625488, -0...  ...  [-0.043412625789642334, 0.06006580591201777, -...\n",
              "78  [0.008352935314178467, -0.21068406105041504, -...  ...  [-0.04643434286117554, 0.03966879844665516, -0...\n",
              "\n",
              "[79 rows x 16 columns]"
            ]
          },
          "metadata": {
            "tags": []
          },
          "execution_count": 75
        }
      ]
    },
    {
      "cell_type": "code",
      "metadata": {
        "id": "garMpeOGhVvZ"
      },
      "source": [
        "vector.to_excel('correct1_vector.xlsx')"
      ],
      "execution_count": null,
      "outputs": []
    },
    {
      "cell_type": "markdown",
      "metadata": {
        "id": "mfW18DK7Yv8P"
      },
      "source": [
        "#시각화"
      ]
    },
    {
      "cell_type": "code",
      "metadata": {
        "id": "CA-4A9--bcSt"
      },
      "source": [
        "import matplotlib.pyplot as plt\n",
        "x=data['x_0']\n",
        "y=data['y_0']\n",
        "z=data['z_0']"
      ],
      "execution_count": null,
      "outputs": []
    },
    {
      "cell_type": "code",
      "metadata": {
        "colab": {
          "base_uri": "https://localhost:8080/",
          "height": 303
        },
        "id": "_E722erXbw8q",
        "outputId": "9eb2b1d7-97e0-4b50-f00d-3795b6daf802"
      },
      "source": [
        "fig = plt.figure(figsize=(5, 5))\n",
        "ax = fig.gca(projection='3d')\n",
        "ax.scatter(x,y,z, marker='o', s=15, c='darkgreen')\n",
        "plt.show()"
      ],
      "execution_count": null,
      "outputs": [
        {
          "output_type": "display_data",
          "data": {
            "image/png": "[encoded data removed]",
            "text/plain": [
              "<Figure size 360x360 with 1 Axes>"
            ]
          },
          "metadata": {
            "tags": [],
            "needs_background": "light"
          }
        }
      ]
    },
    {
      "cell_type": "code",
      "metadata": {
        "id": "EURISPXGdnN7"
      },
      "source": [
        "x=[data['x_0'][0],data['x_1'][0],data['x_2'][0],data['x_3'][0],data['x_4'][0],data['x_5'][0],data['x_6'][0],\n",
        "   data['x_7'][0],data['x_8'][0],data['x_9'][0],data['x_10'][0],data['x_11'][0],data['x_12'][0],data['x_13'][0],\n",
        "   data['x_14'][0],data['x_15'][0],data['x_16'][0]]\n",
        "y=[data['y_0'][0],data['y_1'][0],data['y_2'][0],data['y_3'][0],data['y_4'][0],data['y_5'][0],data['y_6'][0],\n",
        "   data['y_7'][0],data['y_8'][0],data['y_9'][0],data['y_10'][0],data['y_11'][0],data['y_12'][0],data['y_13'][0],\n",
        "   data['y_14'][0],data['y_15'][0],data['y_16'][0]]\n",
        "z=[data['z_0'][0],data['z_1'][0],data['z_2'][0],data['z_3'][0],data['z_4'][0],data['z_5'][0],data['z_6'][0],\n",
        "   data['z_7'][0],data['z_8'][0],data['z_9'][0],data['z_10'][0],data['z_11'][0],data['z_12'][0],data['z_13'][0],\n",
        "   data['z_14'][0],data['z_15'][0],data['z_16'][0]]"
      ],
      "execution_count": null,
      "outputs": []
    },
    {
      "cell_type": "code",
      "metadata": {
        "colab": {
          "base_uri": "https://localhost:8080/",
          "height": 303
        },
        "id": "L4ttYiT5dMSY",
        "outputId": "2c336ef4-23a5-41ae-c630-21c985282567"
      },
      "source": [
        "fig = plt.figure(figsize=(5, 5))\n",
        "ax = fig.gca(projection='3d')\n",
        "ax.scatter(x,y,z, marker='o', s=15, c='darkgreen')\n",
        "plt.show()\n",
        "\n",
        "#0~1까지"
      ],
      "execution_count": null,
      "outputs": [
        {
          "output_type": "display_data",
          "data": {
            "image/png": "[encoded data removed]",
            "text/plain": [
              "<Figure size 360x360 with 1 Axes>"
            ]
          },
          "metadata": {
            "tags": [],
            "needs_background": "light"
          }
        }
      ]
    },
    {
      "cell_type": "code",
      "metadata": {
        "id": "rxLw-wF1em56"
      },
      "source": [
        ""
      ],
      "execution_count": null,
      "outputs": []
    },
    {
      "cell_type": "code",
      "metadata": {
        "id": "fxRSy4COMP6K"
      },
      "source": [
        ""
      ],
      "execution_count": null,
      "outputs": []
    },
    {
      "cell_type": "markdown",
      "metadata": {
        "id": "D5k00gMhMQGg"
      },
      "source": [
        "#LSTM"
      ]
    },
    {
      "cell_type": "code",
      "metadata": {
        "colab": {
          "base_uri": "https://localhost:8080/"
        },
        "id": "QOfcJJhfMRHp",
        "outputId": "8d9781ec-d0cb-40a0-d7da-208fd21ec77e"
      },
      "source": [
        "vector[0][0][0]"
      ],
      "execution_count": null,
      "outputs": [
        {
          "output_type": "execute_result",
          "data": {
            "text/plain": [
              "-0.06572818756103516"
            ]
          },
          "metadata": {
            "tags": []
          },
          "execution_count": 118
        }
      ]
    },
    {
      "cell_type": "code",
      "metadata": {
        "colab": {
          "base_uri": "https://localhost:8080/"
        },
        "id": "TOROqKBhREwn",
        "outputId": "8717bfec-2bb8-487a-8793-93eee55c1362"
      },
      "source": [
        "vector2[0][0][0]"
      ],
      "execution_count": null,
      "outputs": [
        {
          "output_type": "execute_result",
          "data": {
            "text/plain": [
              "0.009176313877105713"
            ]
          },
          "metadata": {
            "tags": []
          },
          "execution_count": 119
        }
      ]
    },
    {
      "cell_type": "markdown",
      "metadata": {
        "id": "lB_OB93YQYlY"
      },
      "source": [
        "데이터셋 분리"
      ]
    },
    {
      "cell_type": "code",
      "metadata": {
        "id": "Cn-0bNe9NMFR"
      },
      "source": [
        "from sklearn.model_selection import train_test_split"
      ],
      "execution_count": 9,
      "outputs": []
    },
    {
      "cell_type": "code",
      "metadata": {
        "id": "ug8L2cgGNk2h"
      },
      "source": [
        "vector0 = np.array(vector)\n",
        "vector1 = np.array(vector2)"
      ],
      "execution_count": null,
      "outputs": []
    },
    {
      "cell_type": "code",
      "metadata": {
        "colab": {
          "base_uri": "https://localhost:8080/"
        },
        "id": "1U_XhJgmCqH-",
        "outputId": "6b7c897f-c9d3-4a1e-ec2d-8d85e680dbfc"
      },
      "source": [
        "len(vector0), len(vector1)"
      ],
      "execution_count": null,
      "outputs": [
        {
          "output_type": "execute_result",
          "data": {
            "text/plain": [
              "(97, 79)"
            ]
          },
          "metadata": {
            "tags": []
          },
          "execution_count": 122
        }
      ]
    },
    {
      "cell_type": "code",
      "metadata": {
        "colab": {
          "base_uri": "https://localhost:8080/"
        },
        "id": "afsS6n6JJsbh",
        "outputId": "37d5aa6e-aa25-4164-9ba9-1ab2073fed7d"
      },
      "source": [
        "vector0.shape, vector1.shape"
      ],
      "execution_count": null,
      "outputs": [
        {
          "output_type": "execute_result",
          "data": {
            "text/plain": [
              "((97, 16), (79, 16))"
            ]
          },
          "metadata": {
            "tags": []
          },
          "execution_count": 120
        }
      ]
    },
    {
      "cell_type": "code",
      "metadata": {
        "id": "u68c8ka2PW9Y"
      },
      "source": [
        "x0_train = vector0[:68]\n",
        "x0_test = vector0[68:]"
      ],
      "execution_count": null,
      "outputs": []
    },
    {
      "cell_type": "code",
      "metadata": {
        "id": "f869iDlyPizY"
      },
      "source": [
        "x1_train = vector1[:55]\n",
        "x1_test = vector1[55:]"
      ],
      "execution_count": null,
      "outputs": []
    },
    {
      "cell_type": "code",
      "metadata": {
        "id": "S8aqMMCNiRuN"
      },
      "source": [
        "#새로운 시도\n",
        "x0_train = length1[:68]\n",
        "x0_test = length1[68:]"
      ],
      "execution_count": 29,
      "outputs": []
    },
    {
      "cell_type": "code",
      "metadata": {
        "colab": {
          "base_uri": "https://localhost:8080/"
        },
        "id": "F0SzKurVGjl0",
        "outputId": "5c8700bf-d847-4405-d6a2-9168113f6286"
      },
      "source": [
        "x0_train.shape, x0_test.shape"
      ],
      "execution_count": 36,
      "outputs": [
        {
          "output_type": "execute_result",
          "data": {
            "text/plain": [
              "((68, 3), (29, 3))"
            ]
          },
          "metadata": {
            "tags": []
          },
          "execution_count": 36
        }
      ]
    },
    {
      "cell_type": "code",
      "metadata": {
        "id": "_dYhvL6SjcSl"
      },
      "source": [
        "x1_train = length1[:55]\n",
        "x1_test = length1[55:]"
      ],
      "execution_count": 35,
      "outputs": []
    },
    {
      "cell_type": "code",
      "metadata": {
        "colab": {
          "base_uri": "https://localhost:8080/"
        },
        "id": "TjgKrExTkXgL",
        "outputId": "02f32a66-601f-427c-e80e-557a502c6a92"
      },
      "source": [
        "x1_train.shape, x1_test.shape"
      ],
      "execution_count": 37,
      "outputs": [
        {
          "output_type": "execute_result",
          "data": {
            "text/plain": [
              "((55, 3), (24, 3))"
            ]
          },
          "metadata": {
            "tags": []
          },
          "execution_count": 37
        }
      ]
    },
    {
      "cell_type": "code",
      "metadata": {
        "id": "JxTx9e42PxEg"
      },
      "source": [
        "x0_test_tot = np.hstack((x0_test, np.zeros(x0_test.shape[0]).reshape(-1,1)))\n",
        "x1_test_tot = np.hstack((x1_test, np.ones(x1_test.shape[0]).reshape(-1,1)))\n",
        "test_tot = np.vstack((x0_test_tot, x1_test_tot))"
      ],
      "execution_count": 38,
      "outputs": []
    },
    {
      "cell_type": "code",
      "metadata": {
        "id": "xAyNVgrgOOj1"
      },
      "source": [
        "x_test, x_valid, y_test, y_valid = train_test_split(test_tot[:,:-1], test_tot[:,-1], test_size=0.3)"
      ],
      "execution_count": 39,
      "outputs": []
    },
    {
      "cell_type": "code",
      "metadata": {
        "colab": {
          "base_uri": "https://localhost:8080/"
        },
        "id": "etQFpobdQGh0",
        "outputId": "103c73c3-a5bd-4a4d-d8d2-45d86e75d89f"
      },
      "source": [
        "print(x_test.shape, x_valid.shape, y_test.shape)"
      ],
      "execution_count": 40,
      "outputs": [
        {
          "output_type": "stream",
          "text": [
            "(37, 3) (16, 3) (37,)\n"
          ],
          "name": "stdout"
        }
      ]
    },
    {
      "cell_type": "markdown",
      "metadata": {
        "id": "iP7G2ffBQaea"
      },
      "source": [
        "데이터 차원 변경"
      ]
    },
    {
      "cell_type": "code",
      "metadata": {
        "id": "fPV6Vc3IQIns"
      },
      "source": [
        "x1_train =x1_train.reshape(x1_train.shape[0],1,x1_train.shape[1])\n",
        "x_test =x_test.reshape(x_test.shape[0],1,x_test.shape[1])\n",
        "x_valid = x_valid.reshape(x_valid.shape[0],1,x_valid.shape[1])"
      ],
      "execution_count": 41,
      "outputs": []
    },
    {
      "cell_type": "code",
      "metadata": {
        "colab": {
          "base_uri": "https://localhost:8080/"
        },
        "id": "t-QotlneSM6_",
        "outputId": "45b16da4-3612-49e0-ca7a-826ae7c3dc0f"
      },
      "source": [
        "print(x1_train.shape,x_test.shape,x_valid.shape)"
      ],
      "execution_count": 42,
      "outputs": [
        {
          "output_type": "stream",
          "text": [
            "(55, 1, 3) (37, 1, 3) (16, 1, 3)\n"
          ],
          "name": "stdout"
        }
      ]
    },
    {
      "cell_type": "markdown",
      "metadata": {
        "id": "UL2x2mmvSKPK"
      },
      "source": [
        "신경망 구축"
      ]
    },
    {
      "cell_type": "code",
      "metadata": {
        "id": "nw6Jl0FrSsZA"
      },
      "source": [
        "from keras import regularizers\n",
        "from keras.models import Model\n",
        "from keras.callbacks import EarlyStopping\n",
        "from keras.layers import Input, Dropout, Dense, LSTM, TimeDistributed, RepeatVector"
      ],
      "execution_count": 43,
      "outputs": []
    },
    {
      "cell_type": "code",
      "metadata": {
        "id": "02slthVOQldb"
      },
      "source": [
        "def autoencoder_model(X):\n",
        "    inputs = Input(shape=(X.shape[1], X.shape[2]))\n",
        "    # return_sequences 가 True면 각 time_steps의 셀이 모두 출력으로 내보냄 , False 면 최종 셀만 출력으로 내보냄\n",
        "    L1 = LSTM(24, activation='relu', return_sequences=True, \n",
        "              kernel_regularizer=regularizers.l2(0.00))(inputs)\n",
        "    L2 = LSTM(10, activation='relu', return_sequences=False)(L1)\n",
        "    L3 = RepeatVector(X.shape[1])(L2)\n",
        "    L4 = LSTM(10, activation='relu', return_sequences=True)(L3)\n",
        "    L5 = LSTM(24, activation='relu', return_sequences=True)(L4)\n",
        "    output = TimeDistributed(Dense(X.shape[2]))(L5)    \n",
        "    model = Model(inputs=inputs, outputs=output)\n",
        "    return model"
      ],
      "execution_count": 44,
      "outputs": []
    },
    {
      "cell_type": "code",
      "metadata": {
        "colab": {
          "base_uri": "https://localhost:8080/"
        },
        "id": "8OWO0n9iTqaG",
        "outputId": "73bc687c-cd9b-4e81-9bb1-acd1426236ea"
      },
      "source": [
        "model = autoencoder_model(x1_train)\n",
        "model.compile(optimizer='adam',loss='mse')\n",
        "model.summary()"
      ],
      "execution_count": 45,
      "outputs": [
        {
          "output_type": "stream",
          "text": [
            "WARNING:tensorflow:Layer lstm will not use cuDNN kernels since it doesn't meet the criteria. It will use a generic GPU kernel as fallback when running on GPU.\n",
            "WARNING:tensorflow:Layer lstm_1 will not use cuDNN kernels since it doesn't meet the criteria. It will use a generic GPU kernel as fallback when running on GPU.\n",
            "WARNING:tensorflow:Layer lstm_2 will not use cuDNN kernels since it doesn't meet the criteria. It will use a generic GPU kernel as fallback when running on GPU.\n",
            "WARNING:tensorflow:Layer lstm_3 will not use cuDNN kernels since it doesn't meet the criteria. It will use a generic GPU kernel as fallback when running on GPU.\n",
            "Model: \"model\"\n",
            "_________________________________________________________________\n",
            "Layer (type)                 Output Shape              Param #   \n",
            "=================================================================\n",
            "input_1 (InputLayer)         [(None, 1, 3)]            0         \n",
            "_________________________________________________________________\n",
            "lstm (LSTM)                  (None, 1, 24)             2688      \n",
            "_________________________________________________________________\n",
            "lstm_1 (LSTM)                (None, 10)                1400      \n",
            "_________________________________________________________________\n",
            "repeat_vector (RepeatVector) (None, 1, 10)             0         \n",
            "_________________________________________________________________\n",
            "lstm_2 (LSTM)                (None, 1, 10)             840       \n",
            "_________________________________________________________________\n",
            "lstm_3 (LSTM)                (None, 1, 24)             3360      \n",
            "_________________________________________________________________\n",
            "time_distributed (TimeDistri (None, 1, 3)              75        \n",
            "=================================================================\n",
            "Total params: 8,363\n",
            "Trainable params: 8,363\n",
            "Non-trainable params: 0\n",
            "_________________________________________________________________\n"
          ],
          "name": "stdout"
        }
      ]
    },
    {
      "cell_type": "code",
      "metadata": {
        "id": "mWSIYzNlT17o",
        "colab": {
          "base_uri": "https://localhost:8080/"
        },
        "outputId": "64682e81-9c6c-47c0-e299-06729c90188c"
      },
      "source": [
        "model = autoencoder_model(x1_train)\n",
        "model.compile(optimizer='adam',loss='mse')"
      ],
      "execution_count": 57,
      "outputs": [
        {
          "output_type": "stream",
          "text": [
            "WARNING:tensorflow:Layer lstm_12 will not use cuDNN kernels since it doesn't meet the criteria. It will use a generic GPU kernel as fallback when running on GPU.\n",
            "WARNING:tensorflow:Layer lstm_13 will not use cuDNN kernels since it doesn't meet the criteria. It will use a generic GPU kernel as fallback when running on GPU.\n",
            "WARNING:tensorflow:Layer lstm_14 will not use cuDNN kernels since it doesn't meet the criteria. It will use a generic GPU kernel as fallback when running on GPU.\n",
            "WARNING:tensorflow:Layer lstm_15 will not use cuDNN kernels since it doesn't meet the criteria. It will use a generic GPU kernel as fallback when running on GPU.\n"
          ],
          "name": "stdout"
        }
      ]
    },
    {
      "cell_type": "code",
      "metadata": {
        "colab": {
          "base_uri": "https://localhost:8080/"
        },
        "id": "53lZUq7MUSiP",
        "outputId": "a63f9fdb-bfa5-4f42-fbd6-53b767cf8607"
      },
      "source": [
        "epochs=10\n",
        "batch_size=5\n",
        "callbacks=[EarlyStopping(monitor='val_loss',patience=5)]\n",
        "\n",
        "history = model.fit(x1_train, x1_train, epochs=epochs, batch_size= batch_size,callbacks = callbacks, validation_split=0.05).history"
      ],
      "execution_count": 58,
      "outputs": [
        {
          "output_type": "stream",
          "text": [
            "Epoch 1/10\n",
            "11/11 [==============================] - 7s 171ms/step - loss: 0.0151 - val_loss: 0.0137\n",
            "Epoch 2/10\n",
            "11/11 [==============================] - 0s 13ms/step - loss: 0.0122 - val_loss: 0.0112\n",
            "Epoch 3/10\n",
            "11/11 [==============================] - 0s 14ms/step - loss: 0.0100 - val_loss: 0.0090\n",
            "Epoch 4/10\n",
            "11/11 [==============================] - 0s 15ms/step - loss: 0.0079 - val_loss: 0.0070\n",
            "Epoch 5/10\n",
            "11/11 [==============================] - 0s 13ms/step - loss: 0.0059 - val_loss: 0.0053\n",
            "Epoch 6/10\n",
            "11/11 [==============================] - 0s 14ms/step - loss: 0.0045 - val_loss: 0.0039\n",
            "Epoch 7/10\n",
            "11/11 [==============================] - 0s 14ms/step - loss: 0.0032 - val_loss: 0.0027\n",
            "Epoch 8/10\n",
            "11/11 [==============================] - 0s 14ms/step - loss: 0.0021 - val_loss: 0.0017\n",
            "Epoch 9/10\n",
            "11/11 [==============================] - 0s 15ms/step - loss: 0.0013 - val_loss: 0.0010\n",
            "Epoch 10/10\n",
            "11/11 [==============================] - 0s 15ms/step - loss: 7.3017e-04 - val_loss: 5.3709e-04\n"
          ],
          "name": "stdout"
        }
      ]
    },
    {
      "cell_type": "code",
      "metadata": {
        "id": "TLOZT9UjlDnL"
      },
      "source": [
        "import seaborn as sns\n",
        "sns.set(color_codes=True)\n",
        "import matplotlib.pyplot as plt\n",
        "%matplotlib inline"
      ],
      "execution_count": 50,
      "outputs": []
    },
    {
      "cell_type": "code",
      "metadata": {
        "id": "YoLeVXMyUrFd",
        "colab": {
          "base_uri": "https://localhost:8080/",
          "height": 406
        },
        "outputId": "e6141afd-1e14-4b7f-bdbf-eb7cac59b87c"
      },
      "source": [
        "# 학습 손실 시각화\n",
        "fig, ax = plt.subplots(figsize=(14, 6), dpi=80)\n",
        "ax.plot(history['val_loss'], 'b', label='Train', linewidth=2)\n",
        "ax.plot(history['loss'], 'r', label='Validation', linewidth=2)\n",
        "ax.set_title('Model loss', fontsize=16)\n",
        "ax.set_ylabel('Loss (mae)')\n",
        "ax.set_xlabel('Epoch')\n",
        "ax.legend(loc='upper right')\n",
        "plt.show()"
      ],
      "execution_count": 59,
      "outputs": [
        {
          "output_type": "display_data",
          "data": {
            "image/png": "[encoded data removed]",
            "text/plain": [
              "<Figure size 1120x480 with 1 Axes>"
            ]
          },
          "metadata": {
            "tags": [],
            "needs_background": "light"
          }
        }
      ]
    },
    {
      "cell_type": "code",
      "metadata": {
        "id": "1Qn-f0L2oOW7"
      },
      "source": [
        "from sklearn import metrics"
      ],
      "execution_count": 63,
      "outputs": []
    },
    {
      "cell_type": "code",
      "metadata": {
        "colab": {
          "base_uri": "https://localhost:8080/",
          "height": 375
        },
        "id": "JmEimWqZmooQ",
        "outputId": "03a898b1-16ba-4e88-abe1-4cc0ac6cae0f"
      },
      "source": [
        "#검증 데이터 입력\n",
        "predictions_3d = model.predict(x_valid)\n",
        "predictions = predictions_3d.reshape(predictions_3d.shape[0], predictions_3d.shape[2])\n",
        "x_valid_ = x_valid.reshape(x_valid.shape[0], x_valid.shape[2])\n",
        "\n",
        "#재구성 손실 값 도출\n",
        "mse = np.mean(np.power(x_valid_ - predictions, 2), axis = 1)\n",
        "\n",
        "error_df = pd.DataFrame({'Reconstruction_error':mse, 'True_class': y_valid})\n",
        "\n",
        "precision_rt, recall_rt, threshold_rt = metrics.precision_recall_curve(error_df['True_class'], error_df['Reconstruction_error'])\n",
        "\n",
        "#모델 최적의 threshold 값 찾기\n",
        "best_cnt_dic = abs(precision_rt - recall_rt)\n",
        "threshold_fixed = threshold_rt[np.argmin(best_cnt_dic)]\n",
        "print('precision: ', precision_rt[np.argmin(best_cnt_dic)], ', recall: ', recall_rt[np.argmin(best_cnt_dic)])\n",
        "print('threshold: ', threshold_fixed)\n",
        "\n",
        "plt.figure(figsize=(8,5))\n",
        "plt.plot(threshold_rt, precision_rt[1:], label = 'Precision')\n",
        "plt.plot(threshold_rt, recall_rt[1:], label = 'Recall')\n",
        "plt.xlabel('Threshold'); plt.ylabel('Precision/Recall')\n",
        "plt.legend()\n",
        "plt.show()"
      ],
      "execution_count": 66,
      "outputs": [
        {
          "output_type": "stream",
          "text": [
            "precision:  0.0 , recall:  0.0\n",
            "threshold:  0.01029282766128626\n"
          ],
          "name": "stdout"
        },
        {
          "output_type": "display_data",
          "data": {
            "image/png": "[encoded data removed]",
            "text/plain": [
              "<Figure size 576x360 with 1 Axes>"
            ]
          },
          "metadata": {
            "tags": [],
            "needs_background": "light"
          }
        }
      ]
    },
    {
      "cell_type": "markdown",
      "metadata": {
        "id": "y2QJ4zymsDAh"
      },
      "source": [
        "모델 성능 평가"
      ]
    },
    {
      "cell_type": "code",
      "metadata": {
        "colab": {
          "base_uri": "https://localhost:8080/",
          "height": 301
        },
        "id": "7gZIkGTspJc6",
        "outputId": "b126f167-e4c3-4874-f104-d3acbb542b0f"
      },
      "source": [
        "from sklearn.metrics import roc_curve, auc\n",
        "\n",
        "fpr, tpr, thresholds = roc_curve(y_valid, mse)\n",
        "roc_auc = auc(fpr, tpr)\n",
        "\n",
        "plt.title('Receiver Operating Characteristic')\n",
        "plt.plot(fpr, tpr, label = 'AUC = %0.4f' % roc_auc, linewidth=5)\n",
        "plt.legend(loc = 'lower right')\n",
        "plt.plot([0,1], [0,1],'r--')\n",
        "plt.xlim([-0.001,1])\n",
        "plt.ylim([0,1.001])\n",
        "plt.ylabel('True positive rate')\n",
        "plt.xlabel('False positive rate')\n",
        "plt.show()"
      ],
      "execution_count": 67,
      "outputs": [
        {
          "output_type": "display_data",
          "data": {
            "image/png": "[encoded data removed]",
            "text/plain": [
              "<Figure size 432x288 with 1 Axes>"
            ]
          },
          "metadata": {
            "tags": [],
            "needs_background": "light"
          }
        }
      ]
    },
    {
      "cell_type": "code",
      "metadata": {
        "colab": {
          "base_uri": "https://localhost:8080/",
          "height": 301
        },
        "id": "Tjw-esXllJxA",
        "outputId": "df2b614e-257f-426a-ea17-52ea0fc89b42"
      },
      "source": [
        "test_predictions_3d = model.predict(x_test)\n",
        "test_predictions = test_predictions_3d.reshape(test_predictions_3d.shape[0], test_predictions_3d.shape[2])\n",
        "x_test_ = x_test.reshape(x_test.shape[0], x_test.shape[2])\n",
        "mse = np.mean(np.power(x_test_ - test_predictions, 2), axis=1)\n",
        "\n",
        "error_df = pd.DataFrame({'Reconstruction_error': mse, 'True_class': y_test})\n",
        "\n",
        "pred_y = [1 if e > threshold_fixed else 0 for e in error_df['Reconstruction_error'].values]\n",
        "conf_matrix = metrics.confusion_matrix(error_df['True_class'], pred_y)\n",
        "\n",
        "accuracy = (conf_matrix[0][0]+ conf_matrix[1][[1]])/conf_matrix.sum()\n",
        "\n",
        "sns.heatmap(conf_matrix, xticklabels=['Normal','Abnormal'], yticklabels=['Normal', 'Abnormal'], annot=True, fmt='d', annot_kws={'size':10})\n",
        "b,t = plt.ylim()\n",
        "b+=0.5\n",
        "t-=0.5\n",
        "plt.ylim(b,t)\n",
        "plt.title('Confusion Matrix')\n",
        "plt.xlabel('Predicted Class'); plt.ylabel('True Class')\n",
        "plt.show()"
      ],
      "execution_count": 70,
      "outputs": [
        {
          "output_type": "display_data",
          "data": {
            "image/png": "[encoded data removed]",
            "text/plain": [
              "<Figure size 432x288 with 2 Axes>"
            ]
          },
          "metadata": {
            "tags": [],
            "needs_background": "light"
          }
        }
      ]
    },
    {
      "cell_type": "code",
      "metadata": {
        "colab": {
          "base_uri": "https://localhost:8080/",
          "height": 301
        },
        "id": "R1RPxsf9mVa4",
        "outputId": "96296305-989c-4f90-bd06-1da362caaacb"
      },
      "source": [
        "groups = error_df.groupby('True_class')\n",
        "fig, ax = plt.subplots()\n",
        "\n",
        "for name, group in groups:\n",
        "  ax.plot(group.index, group.Reconstruction_error, marker = 'o', ms=3.5, linestyle='',\n",
        "          label='Abnormal' if name ==1 else 'Normal')\n",
        "\n",
        "ax.hlines(threshold_fixed, ax.get_xlim()[0], ax.get_xlim()[1], colors ='r', zorder=100, label ='Threshold')\n",
        "ax.legend()\n",
        "plt.title(\"Reconstruction error for different classes\")  \n",
        "plt.ylabel(\"Reconstrction error\")\n",
        "plt.xlabel(\"Data point index\")\n",
        "plt.show()"
      ],
      "execution_count": 72,
      "outputs": [
        {
          "output_type": "display_data",
          "data": {
            "image/png": "[encoded data removed]",
            "text/plain": [
              "<Figure size 432x288 with 1 Axes>"
            ]
          },
          "metadata": {
            "tags": [],
            "needs_background": "light"
          }
        }
      ]
    },
    {
      "cell_type": "code",
      "metadata": {
        "id": "SKjzhbUHrx72"
      },
      "source": [
        ""
      ],
      "execution_count": null,
      "outputs": []
    }
  ]
}