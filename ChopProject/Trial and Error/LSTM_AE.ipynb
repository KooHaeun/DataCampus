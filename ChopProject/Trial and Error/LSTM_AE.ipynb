{
  "nbformat": 4,
  "nbformat_minor": 0,
  "metadata": {
    "colab": {
      "name": "LSTM AE",
      "provenance": [],
      "collapsed_sections": []
    },
    "kernelspec": {
      "name": "python3",
      "display_name": "Python 3"
    },
    "language_info": {
      "name": "python"
    }
  },
  "cells": [
    {
      "cell_type": "code",
      "metadata": {
        "colab": {
          "base_uri": "https://localhost:8080/"
        },
        "id": "Y0Iq3a3oQw2e",
        "outputId": "a2b6ec48-2926-40ca-9284-c9daf85f63ff"
      },
      "source": [
        "from google.colab import drive\n",
        "drive.mount('/content/drive')"
      ],
      "execution_count": 1,
      "outputs": [
        {
          "output_type": "stream",
          "text": [
            "Mounted at /content/drive\n"
          ],
          "name": "stdout"
        }
      ]
    },
    {
      "cell_type": "code",
      "metadata": {
        "id": "ozfh9HIPOWLq"
      },
      "source": [
        "path  ='/content/drive/Shareddrives/데이터 청년 캠퍼스/젓가락질 데이터/새 젓가락질 데이터/excel 파일/vector/notcorrect1_vector.csv'"
      ],
      "execution_count": 2,
      "outputs": []
    },
    {
      "cell_type": "code",
      "metadata": {
        "id": "OrI9m6xDOiw9",
        "colab": {
          "base_uri": "https://localhost:8080/"
        },
        "outputId": "e643f4fb-01ff-4ccf-ddd3-2a12f5988cba"
      },
      "source": [
        "import pandas as pd\n",
        "import numpy as np\n",
        "from sklearn.preprocessing import MinMaxScaler\n",
        "from sklearn.externals import joblib\n",
        "import random\n",
        "import seaborn as sns\n",
        "sns.set(color_codes = True)\n",
        "import matplotlib.pyplot as plt\n",
        "%matplotlib inline\n",
        "\n",
        "\n",
        "from numpy.random import seed\n",
        "import tensorflow as tf\n",
        "tf.compat.v1.logging.set_verbosity(tf.compat.v1.logging.ERROR)\n",
        "\n",
        "import keras\n",
        "import keras.callbacks as callabacks\n",
        "from keras.layers import Input, Dropout, Dense, LSTM, TimeDistributed, RepeatVector\n",
        "from keras.models import Model\n",
        "from keras.callbacks import EarlyStopping, ModelCheckpoint\n",
        "from keras import regularizers\n",
        "from sklearn import metrics\n",
        "from scipy.io.arff import loadarff\n",
        "from sklearn.model_selection import train_test_split\n",
        "from sklearn.metrics import roc_curve, auc, precision_recall_curve\n",
        "from sklearn.preprocessing import StandardScaler\n",
        "from sklearn.preprocessing import RobustScaler\n",
        "from sklearn.metrics import roc_curve, auc\n",
        "\n",
        "import os\n",
        "\n",
        "os.environ['CUDA_VISIBLE_DEVICES'] = ''"
      ],
      "execution_count": 3,
      "outputs": [
        {
          "output_type": "stream",
          "text": [
            "/usr/local/lib/python3.7/dist-packages/sklearn/externals/joblib/__init__.py:15: FutureWarning: sklearn.externals.joblib is deprecated in 0.21 and will be removed in 0.23. Please import this functionality directly from joblib, which can be installed with: pip install joblib. If this warning is raised when loading pickled models, you may need to re-serialize those models with scikit-learn 0.21+.\n",
            "  warnings.warn(msg, category=FutureWarning)\n"
          ],
          "name": "stderr"
        }
      ]
    },
    {
      "cell_type": "code",
      "metadata": {
        "id": "VsBjm2E1fZWo"
      },
      "source": [
        "data1 = pd.read_csv(path)"
      ],
      "execution_count": null,
      "outputs": []
    },
    {
      "cell_type": "code",
      "metadata": {
        "colab": {
          "base_uri": "https://localhost:8080/"
        },
        "id": "6JlYkLMwf5KP",
        "outputId": "18cd9a5a-ad20-483b-ef1b-295d3eca6e12"
      },
      "source": [
        "data.shape"
      ],
      "execution_count": null,
      "outputs": [
        {
          "output_type": "execute_result",
          "data": {
            "text/plain": [
              "(97, 17)"
            ]
          },
          "metadata": {
            "tags": []
          },
          "execution_count": 151
        }
      ]
    },
    {
      "cell_type": "code",
      "metadata": {
        "id": "zEZ9l4XyezmJ"
      },
      "source": [
        ""
      ],
      "execution_count": null,
      "outputs": []
    },
    {
      "cell_type": "code",
      "metadata": {
        "id": "ZiKD14XvOiu9"
      },
      "source": [
        "normal_data_raw = pd.read_csv(path, skiprows = [0], nrows = 97, names = ['time', 'data'])\n",
        "\n",
        "abnormal_data_raw = pd.read_csv(path, skiprows = [0], nrows = 97, names = ['time', 'data'])\n",
        "\n",
        "normal_data_list = normal_data_raw['data'].values.tolist()\n",
        "abnormal_data_list = abnormal_data_raw['data'].values.tolist()"
      ],
      "execution_count": 4,
      "outputs": []
    },
    {
      "cell_type": "code",
      "metadata": {
        "id": "boaPh2U0MSNm"
      },
      "source": [
        "normal_data_list = [list(map(float,x[2:-2].replace(\" \",\"\").split(\",\"))) for x in normal_data_list]\n",
        "abnormal_data_list = [list(map(float,x[2:-2].replace(\" \",\"\").split(\",\"))) for x in abnormal_data_list]"
      ],
      "execution_count": 5,
      "outputs": []
    },
    {
      "cell_type": "code",
      "metadata": {
        "id": "udtM5rw3P4Tb"
      },
      "source": [
        "normal_data_list = np.array(normal_data_list)\n",
        "abnormal_data_list = np.array(abnormal_data_list)"
      ],
      "execution_count": 6,
      "outputs": []
    },
    {
      "cell_type": "code",
      "metadata": {
        "colab": {
          "base_uri": "https://localhost:8080/"
        },
        "id": "HMSbXrF1NklO",
        "outputId": "455ab178-aa40-4377-f0e3-16fb26264481"
      },
      "source": [
        "normal_data_list.shape"
      ],
      "execution_count": 7,
      "outputs": [
        {
          "output_type": "execute_result",
          "data": {
            "text/plain": [
              "(97, 3)"
            ]
          },
          "metadata": {
            "tags": []
          },
          "execution_count": 7
        }
      ]
    },
    {
      "cell_type": "code",
      "metadata": {
        "id": "fM2p40DANkhn"
      },
      "source": [
        ""
      ],
      "execution_count": null,
      "outputs": []
    },
    {
      "cell_type": "code",
      "metadata": {
        "id": "Y33HH2_wNke2"
      },
      "source": [
        "normal_data = np.array(normal_data_list).reshape(1, 97, 3)\n",
        "normal_data_train = normal_data[:70]\n",
        "normal_data_test = normal_data[70:]\n",
        "\n",
        "abnormal_data = np.array(abnormal_data_list).reshape(1, 97, 3)\n",
        "abnormal_data_test = abnormal_data[:27]\n"
      ],
      "execution_count": 8,
      "outputs": []
    },
    {
      "cell_type": "code",
      "metadata": {
        "colab": {
          "base_uri": "https://localhost:8080/"
        },
        "id": "GKdbNy11Vh2m",
        "outputId": "0febf355-bf4a-466c-977a-df5957d92271"
      },
      "source": [
        "normal_data_test"
      ],
      "execution_count": 9,
      "outputs": [
        {
          "output_type": "execute_result",
          "data": {
            "text/plain": [
              "array([], shape=(0, 97, 3), dtype=float64)"
            ]
          },
          "metadata": {
            "tags": []
          },
          "execution_count": 9
        }
      ]
    },
    {
      "cell_type": "code",
      "metadata": {
        "id": "Bxaw8A64TtSi"
      },
      "source": [
        "normal_data = np.array(normal_data_list).reshape(-1, 3)\n",
        "normal_data_train = normal_data[:70]\n",
        "normal_data_test = normal_data[70:]\n",
        "\n",
        "abnormal_data = np.array(abnormal_data_list).reshape(-1, 3)\n",
        "abnormal_data_test = abnormal_data[:27]\n",
        "\n",
        "normal_test_tot = np.hstack((normal_data_test, np.zeros(normal_data_test.shape[0]).reshape(-1,1)))\n",
        "abnormal_test_tot = np.hstack((abnormal_data_test, np.ones(abnormal_data_test.shape[0]).reshape(-1,1)))\n",
        "test_tot = np.vstack((normal_test_tot, abnormal_test_tot))"
      ],
      "execution_count": 10,
      "outputs": []
    },
    {
      "cell_type": "code",
      "metadata": {
        "colab": {
          "base_uri": "https://localhost:8080/"
        },
        "id": "pR2su0bxTw8p",
        "outputId": "837e99a7-353d-40e4-df8d-6cd91c449795"
      },
      "source": [
        "test_tot[:,:-1][0]"
      ],
      "execution_count": 11,
      "outputs": [
        {
          "output_type": "execute_result",
          "data": {
            "text/plain": [
              "array([ 0.03372997,  0.03633669, -0.01802202])"
            ]
          },
          "metadata": {
            "tags": []
          },
          "execution_count": 11
        }
      ]
    },
    {
      "cell_type": "code",
      "metadata": {
        "colab": {
          "base_uri": "https://localhost:8080/"
        },
        "id": "JJ5hYD2gMB3f",
        "outputId": "b4350635-3570-4073-c74f-ee861668235a"
      },
      "source": [
        "x_test, x_valid, y_test, y_valid = train_test_split(test_tot[: , :-1], test_tot[:, :-1], test_size = 0.3)\n",
        "\n",
        "print(x_test.shape)\n",
        "print(y_test.shape)\n",
        "print(x_valid.shape)\n",
        "print(y_valid.shape)"
      ],
      "execution_count": 12,
      "outputs": [
        {
          "output_type": "stream",
          "text": [
            "(37, 3)\n",
            "(37, 3)\n",
            "(17, 3)\n",
            "(17, 3)\n"
          ],
          "name": "stdout"
        }
      ]
    },
    {
      "cell_type": "code",
      "metadata": {
        "colab": {
          "base_uri": "https://localhost:8080/"
        },
        "id": "PMedCiEinUws",
        "outputId": "87cefb60-537f-4018-b55d-bf89ac556455"
      },
      "source": [
        "print(y_valid)"
      ],
      "execution_count": 13,
      "outputs": [
        {
          "output_type": "stream",
          "text": [
            "[[ 0.01137149  0.04597455  0.01423399]\n",
            " [ 0.00673676  0.06655693 -0.01379266]\n",
            " [ 0.0272662   0.01285946 -0.01240011]\n",
            " [ 0.00786316  0.04985905  0.00948329]\n",
            " [ 0.02543992  0.03630245 -0.00360376]\n",
            " [ 0.01246303  0.02616706 -0.02464142]\n",
            " [ 0.01391506  0.01056832 -0.0139605 ]\n",
            " [ 0.01115906  0.05195642  0.0044994 ]\n",
            " [ 0.01268452  0.0504725   0.01880478]\n",
            " [ 0.02524179  0.02422279 -0.01059969]\n",
            " [ 0.00900471  0.06089866 -0.0111091 ]\n",
            " [ 0.01126707  0.03306276  0.00419646]\n",
            " [ 0.01536649  0.05062753 -0.00078648]\n",
            " [ 0.00178546  0.05793113 -0.00277147]\n",
            " [ 0.01133293  0.05423659 -0.00136255]\n",
            " [ 0.00547564  0.05439281  0.00951562]\n",
            " [ 0.01056081  0.05601674  0.00993312]]\n"
          ],
          "name": "stdout"
        }
      ]
    },
    {
      "cell_type": "code",
      "metadata": {
        "id": "uDXqxiKSMB2j"
      },
      "source": [
        "\n",
        "# 데이터 정규화 (0~1사이로 데이터를 정규화)\n",
        "stder = StandardScaler()\n",
        "stder.fit(normal_data_train)\n",
        "x_normal_train_scaled = stder.transform(normal_data_train)\n",
        "x_test_scaled = stder.transform(x_test)\n",
        "x_valid_scaled = stder.transform(x_valid)"
      ],
      "execution_count": 14,
      "outputs": []
    },
    {
      "cell_type": "code",
      "metadata": {
        "id": "YDgaWlpNMB0y",
        "colab": {
          "base_uri": "https://localhost:8080/"
        },
        "outputId": "d3dea449-a11f-49b1-f881-d0511eb06703"
      },
      "source": [
        "# LSTM 네트워크에 입력하기 위해 데이터 형태를 변형한다 -> [samples, timesteps, features]\n",
        "x_normal_train_scaled = x_normal_train_scaled.reshape(x_normal_train_scaled.shape[0], 1, x_normal_train_scaled.shape[1])\n",
        "x_test_scaled = x_test_scaled.reshape(x_test_scaled.shape[0], 1, x_test_scaled.shape[1])\n",
        "x_valid_scaled = x_valid_scaled.reshape(x_valid_scaled.shape[0], 1, x_valid_scaled.shape[1])\n",
        "\n",
        "print('훈련 정상 데이터 스케일/차원 변경 결과 : ', x_normal_train_scaled.shape)\n",
        "print('검증 데이터 스케일/차원 변경 결과 : ', x_valid_scaled.shape)\n",
        "print('테스트 데이터 스케일/차원 변경 결과 : ', x_test_scaled.shape)"
      ],
      "execution_count": 15,
      "outputs": [
        {
          "output_type": "stream",
          "text": [
            "훈련 정상 데이터 스케일/차원 변경 결과 :  (70, 1, 3)\n",
            "검증 데이터 스케일/차원 변경 결과 :  (17, 1, 3)\n",
            "테스트 데이터 스케일/차원 변경 결과 :  (37, 1, 3)\n"
          ],
          "name": "stdout"
        }
      ]
    },
    {
      "cell_type": "code",
      "metadata": {
        "id": "6ud8YmAHMB0E"
      },
      "source": [
        "# 오토인코더 신경망 구축 (신경망을 LSTM 레이어로 구축)\n",
        "def autoencoder_model(X) :\n",
        "  inputs = Input(shape = (X.shape[1], X.shape[2]))\n",
        "  L1 = LSTM(140, activation = 'relu', return_sequences = True,\n",
        "            kernel_regularizer = regularizers.l2(0.00))(inputs)\n",
        "  L2 = LSTM(70, activation = 'relu', return_sequences = False)(L1)\n",
        "  L3 = RepeatVector(X.shape[1])(L2)\n",
        "  L4 = LSTM(70, activation = 'relu', return_sequences = True)(L3)\n",
        "  L5 = LSTM(140, activation = 'relu', return_sequences = True)(L4)\n",
        "  output = TimeDistributed(Dense(X.shape[2]))(L5)\n",
        "  model = Model(inputs = inputs, outputs = output)\n",
        "  return model"
      ],
      "execution_count": 16,
      "outputs": []
    },
    {
      "cell_type": "code",
      "metadata": {
        "id": "_bbxdt2DMByS",
        "colab": {
          "base_uri": "https://localhost:8080/"
        },
        "outputId": "fb976a1a-5d01-4ae4-d137-c64e42ff2f12"
      },
      "source": [
        "# 오토인코더 모델 생성\n",
        "model = autoencoder_model(x_normal_train_scaled)\n",
        "model.compile(optimizer = 'adam', loss = 'mse')\n",
        "model.summary()"
      ],
      "execution_count": 17,
      "outputs": [
        {
          "output_type": "stream",
          "text": [
            "Model: \"model\"\n",
            "_________________________________________________________________\n",
            "Layer (type)                 Output Shape              Param #   \n",
            "=================================================================\n",
            "input_1 (InputLayer)         [(None, 1, 3)]            0         \n",
            "_________________________________________________________________\n",
            "lstm (LSTM)                  (None, 1, 140)            80640     \n",
            "_________________________________________________________________\n",
            "lstm_1 (LSTM)                (None, 70)                59080     \n",
            "_________________________________________________________________\n",
            "repeat_vector (RepeatVector) (None, 1, 70)             0         \n",
            "_________________________________________________________________\n",
            "lstm_2 (LSTM)                (None, 1, 70)             39480     \n",
            "_________________________________________________________________\n",
            "lstm_3 (LSTM)                (None, 1, 140)            118160    \n",
            "_________________________________________________________________\n",
            "time_distributed (TimeDistri (None, 1, 3)              423       \n",
            "=================================================================\n",
            "Total params: 297,783\n",
            "Trainable params: 297,783\n",
            "Non-trainable params: 0\n",
            "_________________________________________________________________\n"
          ],
          "name": "stdout"
        }
      ]
    },
    {
      "cell_type": "code",
      "metadata": {
        "id": "fLyvvj2aMBv4",
        "colab": {
          "base_uri": "https://localhost:8080/"
        },
        "outputId": "080f1775-868c-42f1-8ccf-e640b64bfa84"
      },
      "source": [
        "# 모델 학습 및 평가\n",
        "nb_epochs = 20\n",
        "batch_size = 5\n",
        "callbacks = [EarlyStopping(monitor = 'val_loss', patience = 5)]\n",
        "history = model.fit(x_normal_train_scaled, x_normal_train_scaled, epochs = nb_epochs, batch_size = batch_size, callbacks = callbacks, validation_split = 0.04348).history"
      ],
      "execution_count": 18,
      "outputs": [
        {
          "output_type": "stream",
          "text": [
            "Epoch 1/20\n",
            "14/14 [==============================] - 31s 163ms/step - loss: 1.0689 - val_loss: 0.8003\n",
            "Epoch 2/20\n",
            "14/14 [==============================] - 0s 10ms/step - loss: 1.0120 - val_loss: 0.7990\n",
            "Epoch 3/20\n",
            "14/14 [==============================] - 0s 9ms/step - loss: 1.0422 - val_loss: 0.7891\n",
            "Epoch 4/20\n",
            "14/14 [==============================] - 0s 8ms/step - loss: 1.0472 - val_loss: 0.7537\n",
            "Epoch 5/20\n",
            "14/14 [==============================] - 0s 9ms/step - loss: 0.8268 - val_loss: 0.6166\n",
            "Epoch 6/20\n",
            "14/14 [==============================] - 0s 8ms/step - loss: 0.5174 - val_loss: 0.4516\n",
            "Epoch 7/20\n",
            "14/14 [==============================] - 0s 8ms/step - loss: 0.3717 - val_loss: 0.4983\n",
            "Epoch 8/20\n",
            "14/14 [==============================] - 0s 8ms/step - loss: 0.4690 - val_loss: 0.4744\n",
            "Epoch 9/20\n",
            "14/14 [==============================] - 0s 8ms/step - loss: 0.3658 - val_loss: 0.4539\n",
            "Epoch 10/20\n",
            "14/14 [==============================] - 0s 8ms/step - loss: 0.3769 - val_loss: 0.4377\n",
            "Epoch 11/20\n",
            "14/14 [==============================] - 0s 7ms/step - loss: 0.3286 - val_loss: 0.4309\n",
            "Epoch 12/20\n",
            "14/14 [==============================] - 0s 8ms/step - loss: 0.3011 - val_loss: 0.4237\n",
            "Epoch 13/20\n",
            "14/14 [==============================] - 0s 8ms/step - loss: 0.3416 - val_loss: 0.4102\n",
            "Epoch 14/20\n",
            "14/14 [==============================] - 0s 8ms/step - loss: 0.3092 - val_loss: 0.3839\n",
            "Epoch 15/20\n",
            "14/14 [==============================] - 0s 8ms/step - loss: 0.3446 - val_loss: 0.3914\n",
            "Epoch 16/20\n",
            "14/14 [==============================] - 0s 8ms/step - loss: 0.3375 - val_loss: 0.3651\n",
            "Epoch 17/20\n",
            "14/14 [==============================] - 0s 8ms/step - loss: 0.2586 - val_loss: 0.3370\n",
            "Epoch 18/20\n",
            "14/14 [==============================] - 0s 8ms/step - loss: 0.3115 - val_loss: 0.2871\n",
            "Epoch 19/20\n",
            "14/14 [==============================] - 0s 8ms/step - loss: 0.2643 - val_loss: 0.2146\n",
            "Epoch 20/20\n",
            "14/14 [==============================] - 0s 8ms/step - loss: 0.2033 - val_loss: 0.1404\n"
          ],
          "name": "stdout"
        }
      ]
    },
    {
      "cell_type": "code",
      "metadata": {
        "id": "IMRrgw8ZMBt8",
        "colab": {
          "base_uri": "https://localhost:8080/",
          "height": 457
        },
        "outputId": "30db50df-47a2-4ac9-92df-f06dd2168d18"
      },
      "source": [
        "# 학습 손실 시각화\n",
        "fig, ax = plt.subplots(figsize=(14, 6), dpi=80)\n",
        "ax.plot(history['loss'], 'b', label='Train', linewidth=2)\n",
        "ax.plot(history['val_loss'], 'r', label='Validation', linewidth=2)\n",
        "ax.set_title('Model loss', fontsize=16)\n",
        "ax.set_ylabel('Loss (mae)')\n",
        "ax.set_xlabel('Epoch')\n",
        "ax.legend(loc='upper right')\n",
        "plt.show()"
      ],
      "execution_count": null,
      "outputs": [
        {
          "output_type": "display_data",
          "data": {
            "image/png": "[encoded data removed]",
            "text/plain": [
              "<Figure size 1120x480 with 1 Axes>"
            ]
          },
          "metadata": {
            "tags": [],
            "needs_background": "light"
          }
        }
      ]
    },
    {
      "cell_type": "code",
      "metadata": {
        "id": "6sT_KmvXMBrA"
      },
      "source": [
        "# 검증 데이터 입력 (결과 : 입력 데이터를 재구성한 결과)\n",
        "predictions_3d = model.predict(x_valid_scaled)\n",
        "predictions = predictions_3d.reshape(predictions_3d.shape[0], predictions_3d.shape[2])\n",
        "x_valid_ = x_valid_scaled.reshape(x_valid_scaled.shape[0], x_valid_scaled.shape[2])"
      ],
      "execution_count": null,
      "outputs": []
    },
    {
      "cell_type": "code",
      "metadata": {
        "id": "tFWeWe58MBoa",
        "colab": {
          "base_uri": "https://localhost:8080/",
          "height": 394
        },
        "outputId": "c9140e9b-00be-4e13-9539-2d6e290ceca5"
      },
      "source": [
        "# 재구성 손실 값 도출 (입력 데이터와 재구성 결과와의 차이)\n",
        "mse = np.mean(np.power(x_valid_ - predictions, 2), axis = 1)\n",
        "\n",
        "error_df = pd.DataFrame({'Reconstruction_error' : mse,\n",
        "                         'True_class' : y_valid})\n",
        "\n",
        "precision_rt, recall_rt, threshold_rt = metrics.precision_recall_curve(error_df['True_class'], error_df['Reconstruction_error'])"
      ],
      "execution_count": null,
      "outputs": [
        {
          "output_type": "error",
          "ename": "Exception",
          "evalue": "ignored",
          "traceback": [
            "\u001b[0;31m---------------------------------------------------------------------------\u001b[0m",
            "\u001b[0;31mException\u001b[0m                                 Traceback (most recent call last)",
            "\u001b[0;32m<ipython-input-44-8874186aa15e>\u001b[0m in \u001b[0;36m<module>\u001b[0;34m()\u001b[0m\n\u001b[1;32m      3\u001b[0m \u001b[0;34m\u001b[0m\u001b[0m\n\u001b[1;32m      4\u001b[0m error_df = pd.DataFrame({'Reconstruction_error' : mse,\n\u001b[0;32m----> 5\u001b[0;31m                          'True_class' : y_valid})\n\u001b[0m\u001b[1;32m      6\u001b[0m \u001b[0;34m\u001b[0m\u001b[0m\n\u001b[1;32m      7\u001b[0m \u001b[0mprecision_rt\u001b[0m\u001b[0;34m,\u001b[0m \u001b[0mrecall_rt\u001b[0m\u001b[0;34m,\u001b[0m \u001b[0mthreshold_rt\u001b[0m \u001b[0;34m=\u001b[0m \u001b[0mmetrics\u001b[0m\u001b[0;34m.\u001b[0m\u001b[0mprecision_recall_curve\u001b[0m\u001b[0;34m(\u001b[0m\u001b[0merror_df\u001b[0m\u001b[0;34m[\u001b[0m\u001b[0;34m'True_class'\u001b[0m\u001b[0;34m]\u001b[0m\u001b[0;34m,\u001b[0m \u001b[0merror_df\u001b[0m\u001b[0;34m[\u001b[0m\u001b[0;34m'Reconstruction_error'\u001b[0m\u001b[0;34m]\u001b[0m\u001b[0;34m)\u001b[0m\u001b[0;34m\u001b[0m\u001b[0;34m\u001b[0m\u001b[0m\n",
            "\u001b[0;32m/usr/local/lib/python3.7/dist-packages/pandas/core/frame.py\u001b[0m in \u001b[0;36m__init__\u001b[0;34m(self, data, index, columns, dtype, copy)\u001b[0m\n\u001b[1;32m    466\u001b[0m \u001b[0;34m\u001b[0m\u001b[0m\n\u001b[1;32m    467\u001b[0m         \u001b[0;32melif\u001b[0m \u001b[0misinstance\u001b[0m\u001b[0;34m(\u001b[0m\u001b[0mdata\u001b[0m\u001b[0;34m,\u001b[0m \u001b[0mdict\u001b[0m\u001b[0;34m)\u001b[0m\u001b[0;34m:\u001b[0m\u001b[0;34m\u001b[0m\u001b[0;34m\u001b[0m\u001b[0m\n\u001b[0;32m--> 468\u001b[0;31m             \u001b[0mmgr\u001b[0m \u001b[0;34m=\u001b[0m \u001b[0minit_dict\u001b[0m\u001b[0;34m(\u001b[0m\u001b[0mdata\u001b[0m\u001b[0;34m,\u001b[0m \u001b[0mindex\u001b[0m\u001b[0;34m,\u001b[0m \u001b[0mcolumns\u001b[0m\u001b[0;34m,\u001b[0m \u001b[0mdtype\u001b[0m\u001b[0;34m=\u001b[0m\u001b[0mdtype\u001b[0m\u001b[0;34m)\u001b[0m\u001b[0;34m\u001b[0m\u001b[0;34m\u001b[0m\u001b[0m\n\u001b[0m\u001b[1;32m    469\u001b[0m         \u001b[0;32melif\u001b[0m \u001b[0misinstance\u001b[0m\u001b[0;34m(\u001b[0m\u001b[0mdata\u001b[0m\u001b[0;34m,\u001b[0m \u001b[0mma\u001b[0m\u001b[0;34m.\u001b[0m\u001b[0mMaskedArray\u001b[0m\u001b[0;34m)\u001b[0m\u001b[0;34m:\u001b[0m\u001b[0;34m\u001b[0m\u001b[0;34m\u001b[0m\u001b[0m\n\u001b[1;32m    470\u001b[0m             \u001b[0;32mimport\u001b[0m \u001b[0mnumpy\u001b[0m\u001b[0;34m.\u001b[0m\u001b[0mma\u001b[0m\u001b[0;34m.\u001b[0m\u001b[0mmrecords\u001b[0m \u001b[0;32mas\u001b[0m \u001b[0mmrecords\u001b[0m\u001b[0;34m\u001b[0m\u001b[0;34m\u001b[0m\u001b[0m\n",
            "\u001b[0;32m/usr/local/lib/python3.7/dist-packages/pandas/core/internals/construction.py\u001b[0m in \u001b[0;36minit_dict\u001b[0;34m(data, index, columns, dtype)\u001b[0m\n\u001b[1;32m    281\u001b[0m             \u001b[0marr\u001b[0m \u001b[0;32mif\u001b[0m \u001b[0;32mnot\u001b[0m \u001b[0mis_datetime64tz_dtype\u001b[0m\u001b[0;34m(\u001b[0m\u001b[0marr\u001b[0m\u001b[0;34m)\u001b[0m \u001b[0;32melse\u001b[0m \u001b[0marr\u001b[0m\u001b[0;34m.\u001b[0m\u001b[0mcopy\u001b[0m\u001b[0;34m(\u001b[0m\u001b[0;34m)\u001b[0m \u001b[0;32mfor\u001b[0m \u001b[0marr\u001b[0m \u001b[0;32min\u001b[0m \u001b[0marrays\u001b[0m\u001b[0;34m\u001b[0m\u001b[0;34m\u001b[0m\u001b[0m\n\u001b[1;32m    282\u001b[0m         ]\n\u001b[0;32m--> 283\u001b[0;31m     \u001b[0;32mreturn\u001b[0m \u001b[0marrays_to_mgr\u001b[0m\u001b[0;34m(\u001b[0m\u001b[0marrays\u001b[0m\u001b[0;34m,\u001b[0m \u001b[0mdata_names\u001b[0m\u001b[0;34m,\u001b[0m \u001b[0mindex\u001b[0m\u001b[0;34m,\u001b[0m \u001b[0mcolumns\u001b[0m\u001b[0;34m,\u001b[0m \u001b[0mdtype\u001b[0m\u001b[0;34m=\u001b[0m\u001b[0mdtype\u001b[0m\u001b[0;34m)\u001b[0m\u001b[0;34m\u001b[0m\u001b[0;34m\u001b[0m\u001b[0m\n\u001b[0m\u001b[1;32m    284\u001b[0m \u001b[0;34m\u001b[0m\u001b[0m\n\u001b[1;32m    285\u001b[0m \u001b[0;34m\u001b[0m\u001b[0m\n",
            "\u001b[0;32m/usr/local/lib/python3.7/dist-packages/pandas/core/internals/construction.py\u001b[0m in \u001b[0;36marrays_to_mgr\u001b[0;34m(arrays, arr_names, index, columns, dtype, verify_integrity)\u001b[0m\n\u001b[1;32m     81\u001b[0m \u001b[0;34m\u001b[0m\u001b[0m\n\u001b[1;32m     82\u001b[0m         \u001b[0;31m# don't force copy because getting jammed in an ndarray anyway\u001b[0m\u001b[0;34m\u001b[0m\u001b[0;34m\u001b[0m\u001b[0;34m\u001b[0m\u001b[0m\n\u001b[0;32m---> 83\u001b[0;31m         \u001b[0marrays\u001b[0m \u001b[0;34m=\u001b[0m \u001b[0m_homogenize\u001b[0m\u001b[0;34m(\u001b[0m\u001b[0marrays\u001b[0m\u001b[0;34m,\u001b[0m \u001b[0mindex\u001b[0m\u001b[0;34m,\u001b[0m \u001b[0mdtype\u001b[0m\u001b[0;34m)\u001b[0m\u001b[0;34m\u001b[0m\u001b[0;34m\u001b[0m\u001b[0m\n\u001b[0m\u001b[1;32m     84\u001b[0m \u001b[0;34m\u001b[0m\u001b[0m\n\u001b[1;32m     85\u001b[0m         \u001b[0mcolumns\u001b[0m \u001b[0;34m=\u001b[0m \u001b[0mensure_index\u001b[0m\u001b[0;34m(\u001b[0m\u001b[0mcolumns\u001b[0m\u001b[0;34m)\u001b[0m\u001b[0;34m\u001b[0m\u001b[0;34m\u001b[0m\u001b[0m\n",
            "\u001b[0;32m/usr/local/lib/python3.7/dist-packages/pandas/core/internals/construction.py\u001b[0m in \u001b[0;36m_homogenize\u001b[0;34m(data, index, dtype)\u001b[0m\n\u001b[1;32m    350\u001b[0m                 \u001b[0mval\u001b[0m \u001b[0;34m=\u001b[0m \u001b[0mlib\u001b[0m\u001b[0;34m.\u001b[0m\u001b[0mfast_multiget\u001b[0m\u001b[0;34m(\u001b[0m\u001b[0mval\u001b[0m\u001b[0;34m,\u001b[0m \u001b[0moindex\u001b[0m\u001b[0;34m.\u001b[0m\u001b[0m_values\u001b[0m\u001b[0;34m,\u001b[0m \u001b[0mdefault\u001b[0m\u001b[0;34m=\u001b[0m\u001b[0mnp\u001b[0m\u001b[0;34m.\u001b[0m\u001b[0mnan\u001b[0m\u001b[0;34m)\u001b[0m\u001b[0;34m\u001b[0m\u001b[0;34m\u001b[0m\u001b[0m\n\u001b[1;32m    351\u001b[0m             val = sanitize_array(\n\u001b[0;32m--> 352\u001b[0;31m                 \u001b[0mval\u001b[0m\u001b[0;34m,\u001b[0m \u001b[0mindex\u001b[0m\u001b[0;34m,\u001b[0m \u001b[0mdtype\u001b[0m\u001b[0;34m=\u001b[0m\u001b[0mdtype\u001b[0m\u001b[0;34m,\u001b[0m \u001b[0mcopy\u001b[0m\u001b[0;34m=\u001b[0m\u001b[0;32mFalse\u001b[0m\u001b[0;34m,\u001b[0m \u001b[0mraise_cast_failure\u001b[0m\u001b[0;34m=\u001b[0m\u001b[0;32mFalse\u001b[0m\u001b[0;34m\u001b[0m\u001b[0;34m\u001b[0m\u001b[0m\n\u001b[0m\u001b[1;32m    353\u001b[0m             )\n\u001b[1;32m    354\u001b[0m \u001b[0;34m\u001b[0m\u001b[0m\n",
            "\u001b[0;32m/usr/local/lib/python3.7/dist-packages/pandas/core/construction.py\u001b[0m in \u001b[0;36msanitize_array\u001b[0;34m(data, index, dtype, copy, raise_cast_failure)\u001b[0m\n\u001b[1;32m    494\u001b[0m     \u001b[0;32melif\u001b[0m \u001b[0msubarr\u001b[0m\u001b[0;34m.\u001b[0m\u001b[0mndim\u001b[0m \u001b[0;34m>\u001b[0m \u001b[0;36m1\u001b[0m\u001b[0;34m:\u001b[0m\u001b[0;34m\u001b[0m\u001b[0;34m\u001b[0m\u001b[0m\n\u001b[1;32m    495\u001b[0m         \u001b[0;32mif\u001b[0m \u001b[0misinstance\u001b[0m\u001b[0;34m(\u001b[0m\u001b[0mdata\u001b[0m\u001b[0;34m,\u001b[0m \u001b[0mnp\u001b[0m\u001b[0;34m.\u001b[0m\u001b[0mndarray\u001b[0m\u001b[0;34m)\u001b[0m\u001b[0;34m:\u001b[0m\u001b[0;34m\u001b[0m\u001b[0;34m\u001b[0m\u001b[0m\n\u001b[0;32m--> 496\u001b[0;31m             \u001b[0;32mraise\u001b[0m \u001b[0mException\u001b[0m\u001b[0;34m(\u001b[0m\u001b[0;34m\"Data must be 1-dimensional\"\u001b[0m\u001b[0;34m)\u001b[0m\u001b[0;34m\u001b[0m\u001b[0;34m\u001b[0m\u001b[0m\n\u001b[0m\u001b[1;32m    497\u001b[0m         \u001b[0;32melse\u001b[0m\u001b[0;34m:\u001b[0m\u001b[0;34m\u001b[0m\u001b[0;34m\u001b[0m\u001b[0m\n\u001b[1;32m    498\u001b[0m             \u001b[0msubarr\u001b[0m \u001b[0;34m=\u001b[0m \u001b[0mcom\u001b[0m\u001b[0;34m.\u001b[0m\u001b[0masarray_tuplesafe\u001b[0m\u001b[0;34m(\u001b[0m\u001b[0mdata\u001b[0m\u001b[0;34m,\u001b[0m \u001b[0mdtype\u001b[0m\u001b[0;34m=\u001b[0m\u001b[0mdtype\u001b[0m\u001b[0;34m)\u001b[0m\u001b[0;34m\u001b[0m\u001b[0;34m\u001b[0m\u001b[0m\n",
            "\u001b[0;31mException\u001b[0m: Data must be 1-dimensional"
          ]
        }
      ]
    },
    {
      "cell_type": "code",
      "metadata": {
        "id": "qmw74-Vlp5g4",
        "colab": {
          "base_uri": "https://localhost:8080/",
          "height": 262
        },
        "outputId": "7d448492-729c-48f3-ac48-e24e2e36241b"
      },
      "source": [
        "# 모델 최적의 Threshold 값 찾기\n",
        "best_cnt_dic = abs(precision_rt - recall_rt)\n",
        "threshold_fixed = threshold_rt[np.argmin(best_cnt_dic)]\n",
        "print('precision : ', precision_rt[np.argmin(best_cnt_dic)], ', recll : ', recall_rt[np.argmin(best_cnt_dic)])\n",
        "print('threshold : ', threshold_fixed)"
      ],
      "execution_count": null,
      "outputs": [
        {
          "output_type": "error",
          "ename": "NameError",
          "evalue": "ignored",
          "traceback": [
            "\u001b[0;31m---------------------------------------------------------------------------\u001b[0m",
            "\u001b[0;31mNameError\u001b[0m                                 Traceback (most recent call last)",
            "\u001b[0;32m<ipython-input-23-120017ae1cbc>\u001b[0m in \u001b[0;36m<module>\u001b[0;34m()\u001b[0m\n\u001b[1;32m      1\u001b[0m \u001b[0;31m# 모델 최적의 Threshold 값 찾기\u001b[0m\u001b[0;34m\u001b[0m\u001b[0;34m\u001b[0m\u001b[0;34m\u001b[0m\u001b[0m\n\u001b[0;32m----> 2\u001b[0;31m \u001b[0mbest_cnt_dic\u001b[0m \u001b[0;34m=\u001b[0m \u001b[0mabs\u001b[0m\u001b[0;34m(\u001b[0m\u001b[0mprecision_rt\u001b[0m \u001b[0;34m-\u001b[0m \u001b[0mrecall_rt\u001b[0m\u001b[0;34m)\u001b[0m\u001b[0;34m\u001b[0m\u001b[0;34m\u001b[0m\u001b[0m\n\u001b[0m\u001b[1;32m      3\u001b[0m \u001b[0mthreshold_fixed\u001b[0m \u001b[0;34m=\u001b[0m \u001b[0mthreshold_rt\u001b[0m\u001b[0;34m[\u001b[0m\u001b[0mnp\u001b[0m\u001b[0;34m.\u001b[0m\u001b[0margmin\u001b[0m\u001b[0;34m(\u001b[0m\u001b[0mbest_cnt_dic\u001b[0m\u001b[0;34m)\u001b[0m\u001b[0;34m]\u001b[0m\u001b[0;34m\u001b[0m\u001b[0;34m\u001b[0m\u001b[0m\n\u001b[1;32m      4\u001b[0m \u001b[0mprint\u001b[0m\u001b[0;34m(\u001b[0m\u001b[0;34m'precision : '\u001b[0m\u001b[0;34m,\u001b[0m \u001b[0mprecision_rt\u001b[0m\u001b[0;34m[\u001b[0m\u001b[0mnp\u001b[0m\u001b[0;34m.\u001b[0m\u001b[0margmin\u001b[0m\u001b[0;34m(\u001b[0m\u001b[0mbest_cnt_dic\u001b[0m\u001b[0;34m)\u001b[0m\u001b[0;34m]\u001b[0m\u001b[0;34m,\u001b[0m \u001b[0;34m', recll : '\u001b[0m\u001b[0;34m,\u001b[0m \u001b[0mrecall_rt\u001b[0m\u001b[0;34m[\u001b[0m\u001b[0mnp\u001b[0m\u001b[0;34m.\u001b[0m\u001b[0margmin\u001b[0m\u001b[0;34m(\u001b[0m\u001b[0mbest_cnt_dic\u001b[0m\u001b[0;34m)\u001b[0m\u001b[0;34m]\u001b[0m\u001b[0;34m)\u001b[0m\u001b[0;34m\u001b[0m\u001b[0;34m\u001b[0m\u001b[0m\n\u001b[1;32m      5\u001b[0m \u001b[0mprint\u001b[0m\u001b[0;34m(\u001b[0m\u001b[0;34m'threshold : '\u001b[0m\u001b[0;34m,\u001b[0m \u001b[0mthreshold_fixed\u001b[0m\u001b[0;34m)\u001b[0m\u001b[0;34m\u001b[0m\u001b[0;34m\u001b[0m\u001b[0m\n",
            "\u001b[0;31mNameError\u001b[0m: name 'precision_rt' is not defined"
          ]
        }
      ]
    },
    {
      "cell_type": "code",
      "metadata": {
        "id": "r0j0HiqDp5eq"
      },
      "source": [
        "plt.figure(figsize = (8, 5))\n",
        "plt.plot(threshold_rt, precision_rt[1:], label = 'Precision')\n",
        "plt.plot(threshold_rt, recall_rt[1:], label = 'Recall')\n",
        "plt.xlabel('Threshold'); plt.ylabel('Precision/Recall')\n",
        "plt.legend()\n",
        "plt.show()"
      ],
      "execution_count": null,
      "outputs": []
    },
    {
      "cell_type": "code",
      "metadata": {
        "id": "fY_9tfCnp5cY"
      },
      "source": [
        "fpr, tpr, thresholds = roc_curve(y_valid, mse)\n",
        "roc_auc = auc(fpr, tpr)\n",
        "\n",
        "plt.title('Receiver Operationg Characteristic')\n",
        "plt.plot(fpr, tpr, label = 'AUC = %0.4f' % roc_auc, linewidth = 5)\n",
        "plt.legend(loc = 'lower right')\n",
        "plt.plot([0, 1], [0, 1], 'r--')\n",
        "plt.xlim([-0.001, 1])\n",
        "plt.ylim([0, 1.001])\n",
        "plt.ylabel('True Positive Rate')\n",
        "plt.xlabel('False Positive Rate')\n",
        "plt.show();"
      ],
      "execution_count": null,
      "outputs": []
    },
    {
      "cell_type": "code",
      "metadata": {
        "id": "_wzucbjcp5aU"
      },
      "source": [
        "# 검증 데이터 입력 (결과 : 입력 데이터를 재구성한 결과)\n",
        "test_predictions_3d = model.test_predict(x_test_scaled)\n",
        "test_predictions = test_predictions_3d.reshape(test_predictions_3d.shape[0], test_predictions_3d.shape[2])\n",
        "x_test_ = x_test_scaled.reshape(x_test_scaled.shape[0], x_test_scaled.shape[2])\n",
        "mse = np.mean(np.power(x_test_ - test_predictions, 2), axis = 1)\n",
        "\n",
        "error_df = pd.DataFrame({'Reconstruction_error' : mse,\n",
        "                         'True_class' : y_test})\n",
        "\n",
        "pred_y = [1 if e > threshold_fixed else 0 for e in error_df['Reconstruction_error'].values]\n",
        "conf_matrix = metrics.confusion_matrix(error_df['True_class'], pred_y)\n",
        "\n",
        "accuracy = (conf_matrix[0][0] + conf_matrix[1][1])/conf_matrix.sum()\n",
        "print(accuracy)\n",
        "\n",
        "sns.heatmap(conf_matrix, xticklabels = ['Normal', 'Break'], yticklabels = ['Normal', 'Break'], annot = True, fmt = 'd', annot_kws = {'size' : 10})\n",
        "b, t = plt.ylim()\n",
        "b += 0.5\n",
        "t -= 0.5\n",
        "plt.ylim(b, t)\n",
        "plt.title('Confusion Matrix')\n",
        "plt.xlabel('Predicted Class'); plt.ylabel('True Class')\n",
        "plt.show()"
      ],
      "execution_count": null,
      "outputs": []
    },
    {
      "cell_type": "code",
      "metadata": {
        "id": "MbLURh1ap5X_"
      },
      "source": [
        "groups = error_df.groupby('True_class')\n",
        "fig, ax = plt.subplots()\n",
        "\n",
        "for name, group in groups :\n",
        "  ax.plot(group, index, group.Reconstruction_error, maker = 'o', ms = 3.5, linestyle = '',\n",
        "          label = 'Break' if name == 1 else 'Normal')\n",
        "\n",
        "ax.hlines(threshold_fixed, ax.get_xlim()[0], ax.get_xlim()[1], colors = 'r', zorder = 100, label = 'Threshold')\n",
        "ax.legend()\n",
        "\n",
        "plt.title('Reconstruction error for different classes')\n",
        "plt.ylabel('Reconstruction error')\n",
        "plt.xlabel('Data point index')\n",
        "plt.show()"
      ],
      "execution_count": null,
      "outputs": []
    }
  ]
}