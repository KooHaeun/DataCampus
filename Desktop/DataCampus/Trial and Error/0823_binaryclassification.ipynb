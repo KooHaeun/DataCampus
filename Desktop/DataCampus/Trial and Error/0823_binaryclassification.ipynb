{
  "nbformat": 4,
  "nbformat_minor": 0,
  "metadata": {
    "colab": {
      "name": "0823_binaryclassification.ipynb",
      "provenance": [],
      "collapsed_sections": []
    },
    "kernelspec": {
      "name": "python3",
      "display_name": "Python 3"
    },
    "language_info": {
      "name": "python"
    }
  },
  "cells": [
    {
      "cell_type": "code",
      "metadata": {
        "colab": {
          "base_uri": "https://localhost:8080/"
        },
        "id": "JQLDS17jIFPO",
        "outputId": "261e9087-8c29-4113-a36d-d35d69911833"
      },
      "source": [
        "from google.colab import drive\n",
        "drive.mount('/content/drive')"
      ],
      "execution_count": 74,
      "outputs": [
        {
          "output_type": "stream",
          "text": [
            "Drive already mounted at /content/drive; to attempt to forcibly remount, call drive.mount(\"/content/drive\", force_remount=True).\n"
          ],
          "name": "stdout"
        }
      ]
    },
    {
      "cell_type": "code",
      "metadata": {
        "id": "5W_EcNbXK6qr"
      },
      "source": [
        "import pandas as pd\n",
        "import numpy as np"
      ],
      "execution_count": 75,
      "outputs": []
    },
    {
      "cell_type": "code",
      "metadata": {
        "id": "RpQU0pJsKc3j"
      },
      "source": [
        "path ='/content/drive/Shareddrives/데이터 청년 캠퍼스/젓가락질 데이터/새 젓가락질 데이터/excel 파일/preprocessing/newdata_all_0820_rotate_32_x.xlsx'"
      ],
      "execution_count": 76,
      "outputs": []
    },
    {
      "cell_type": "code",
      "metadata": {
        "id": "owzJ1EACKiWE"
      },
      "source": [
        "data = pd.read_excel(path)"
      ],
      "execution_count": 77,
      "outputs": []
    },
    {
      "cell_type": "code",
      "metadata": {
        "id": "hyDbN2loG7zr"
      },
      "source": [
        "X = data.drop(['y','image'], axis=1)"
      ],
      "execution_count": 78,
      "outputs": []
    },
    {
      "cell_type": "code",
      "metadata": {
        "id": "DOKZvi9SHIPj"
      },
      "source": [
        "y = data[\"y\"]"
      ],
      "execution_count": 79,
      "outputs": []
    },
    {
      "cell_type": "code",
      "metadata": {
        "colab": {
          "base_uri": "https://localhost:8080/",
          "height": 490
        },
        "id": "4O0-7NPlSRNP",
        "outputId": "87269716-c15c-47df-d66c-f8dedcaece95"
      },
      "source": [
        "X"
      ],
      "execution_count": 80,
      "outputs": [
        {
          "output_type": "execute_result",
          "data": {
            "text/html": [
              "<div>\n",
              "<style scoped>\n",
              "    .dataframe tbody tr th:only-of-type {\n",
              "        vertical-align: middle;\n",
              "    }\n",
              "\n",
              "    .dataframe tbody tr th {\n",
              "        vertical-align: top;\n",
              "    }\n",
              "\n",
              "    .dataframe thead th {\n",
              "        text-align: right;\n",
              "    }\n",
              "</style>\n",
              "<table border=\"1\" class=\"dataframe\">\n",
              "  <thead>\n",
              "    <tr style=\"text-align: right;\">\n",
              "      <th></th>\n",
              "      <th>x_1-0</th>\n",
              "      <th>y_1-0</th>\n",
              "      <th>x_2-1</th>\n",
              "      <th>y_2-1</th>\n",
              "      <th>x_3-2</th>\n",
              "      <th>y_3-2</th>\n",
              "      <th>x_4-3</th>\n",
              "      <th>y_4-3</th>\n",
              "      <th>x_5-4</th>\n",
              "      <th>y_5-4</th>\n",
              "      <th>x_6-5</th>\n",
              "      <th>y_6-5</th>\n",
              "      <th>x_7-6</th>\n",
              "      <th>y_7-6</th>\n",
              "      <th>x_8-7</th>\n",
              "      <th>y_8-7</th>\n",
              "      <th>x_9-8</th>\n",
              "      <th>y_9-8</th>\n",
              "      <th>x_10-9</th>\n",
              "      <th>y_10-9</th>\n",
              "      <th>x_11-10</th>\n",
              "      <th>y_11-10</th>\n",
              "      <th>x_12-11</th>\n",
              "      <th>y_12-11</th>\n",
              "      <th>x_13-12</th>\n",
              "      <th>y_13-12</th>\n",
              "      <th>x_14-13</th>\n",
              "      <th>y_14-13</th>\n",
              "      <th>x_15-14</th>\n",
              "      <th>y_15-14</th>\n",
              "      <th>x_16-15</th>\n",
              "      <th>y_16-15</th>\n",
              "    </tr>\n",
              "  </thead>\n",
              "  <tbody>\n",
              "    <tr>\n",
              "      <th>0</th>\n",
              "      <td>0.059483</td>\n",
              "      <td>0.047791</td>\n",
              "      <td>0.117681</td>\n",
              "      <td>0.037177</td>\n",
              "      <td>0.108911</td>\n",
              "      <td>-6.938894e-18</td>\n",
              "      <td>0.102761</td>\n",
              "      <td>0.000781</td>\n",
              "      <td>-0.067272</td>\n",
              "      <td>0.106284</td>\n",
              "      <td>0.090851</td>\n",
              "      <td>-0.037551</td>\n",
              "      <td>0.020762</td>\n",
              "      <td>-0.053539</td>\n",
              "      <td>-0.000663</td>\n",
              "      <td>-0.049232</td>\n",
              "      <td>-0.126677</td>\n",
              "      <td>0.091841</td>\n",
              "      <td>0.074080</td>\n",
              "      <td>-0.048951</td>\n",
              "      <td>-0.034998</td>\n",
              "      <td>-0.067212</td>\n",
              "      <td>-0.034704</td>\n",
              "      <td>-0.052495</td>\n",
              "      <td>-0.026695</td>\n",
              "      <td>0.121091</td>\n",
              "      <td>0.025404</td>\n",
              "      <td>-0.065380</td>\n",
              "      <td>-0.065823</td>\n",
              "      <td>-0.059163</td>\n",
              "      <td>-0.049266</td>\n",
              "      <td>-0.037874</td>\n",
              "    </tr>\n",
              "    <tr>\n",
              "      <th>1</th>\n",
              "      <td>0.088238</td>\n",
              "      <td>0.039870</td>\n",
              "      <td>0.111497</td>\n",
              "      <td>0.031659</td>\n",
              "      <td>0.106251</td>\n",
              "      <td>-6.938894e-18</td>\n",
              "      <td>0.091216</td>\n",
              "      <td>-0.000797</td>\n",
              "      <td>-0.054548</td>\n",
              "      <td>0.126776</td>\n",
              "      <td>0.064970</td>\n",
              "      <td>-0.066325</td>\n",
              "      <td>-0.015064</td>\n",
              "      <td>-0.069841</td>\n",
              "      <td>-0.022040</td>\n",
              "      <td>-0.044777</td>\n",
              "      <td>-0.031284</td>\n",
              "      <td>0.136956</td>\n",
              "      <td>0.062474</td>\n",
              "      <td>-0.060135</td>\n",
              "      <td>-0.055480</td>\n",
              "      <td>-0.073939</td>\n",
              "      <td>-0.047930</td>\n",
              "      <td>-0.042525</td>\n",
              "      <td>0.024458</td>\n",
              "      <td>0.131533</td>\n",
              "      <td>0.032674</td>\n",
              "      <td>-0.068518</td>\n",
              "      <td>-0.067078</td>\n",
              "      <td>-0.067196</td>\n",
              "      <td>-0.046953</td>\n",
              "      <td>-0.033332</td>\n",
              "    </tr>\n",
              "    <tr>\n",
              "      <th>2</th>\n",
              "      <td>0.074786</td>\n",
              "      <td>0.029389</td>\n",
              "      <td>0.109923</td>\n",
              "      <td>0.027463</td>\n",
              "      <td>0.106390</td>\n",
              "      <td>0.000000e+00</td>\n",
              "      <td>0.090829</td>\n",
              "      <td>-0.003327</td>\n",
              "      <td>-0.042942</td>\n",
              "      <td>0.127572</td>\n",
              "      <td>0.069100</td>\n",
              "      <td>-0.056238</td>\n",
              "      <td>-0.007140</td>\n",
              "      <td>-0.065612</td>\n",
              "      <td>-0.020420</td>\n",
              "      <td>-0.050944</td>\n",
              "      <td>-0.049653</td>\n",
              "      <td>0.131762</td>\n",
              "      <td>0.065004</td>\n",
              "      <td>-0.057998</td>\n",
              "      <td>-0.050233</td>\n",
              "      <td>-0.072696</td>\n",
              "      <td>-0.049552</td>\n",
              "      <td>-0.050360</td>\n",
              "      <td>0.016472</td>\n",
              "      <td>0.136776</td>\n",
              "      <td>0.032386</td>\n",
              "      <td>-0.064413</td>\n",
              "      <td>-0.066488</td>\n",
              "      <td>-0.063819</td>\n",
              "      <td>-0.047665</td>\n",
              "      <td>-0.037979</td>\n",
              "    </tr>\n",
              "    <tr>\n",
              "      <th>3</th>\n",
              "      <td>0.075837</td>\n",
              "      <td>0.025564</td>\n",
              "      <td>0.108562</td>\n",
              "      <td>0.021815</td>\n",
              "      <td>0.115656</td>\n",
              "      <td>-6.938894e-18</td>\n",
              "      <td>0.094668</td>\n",
              "      <td>-0.005780</td>\n",
              "      <td>-0.051041</td>\n",
              "      <td>0.129546</td>\n",
              "      <td>0.071232</td>\n",
              "      <td>-0.069228</td>\n",
              "      <td>-0.020892</td>\n",
              "      <td>-0.076479</td>\n",
              "      <td>-0.031390</td>\n",
              "      <td>-0.052954</td>\n",
              "      <td>-0.022616</td>\n",
              "      <td>0.162404</td>\n",
              "      <td>0.058829</td>\n",
              "      <td>-0.075954</td>\n",
              "      <td>-0.062551</td>\n",
              "      <td>-0.085586</td>\n",
              "      <td>-0.056928</td>\n",
              "      <td>-0.055934</td>\n",
              "      <td>0.041617</td>\n",
              "      <td>0.175992</td>\n",
              "      <td>0.026054</td>\n",
              "      <td>-0.081117</td>\n",
              "      <td>-0.064761</td>\n",
              "      <td>-0.074281</td>\n",
              "      <td>-0.045816</td>\n",
              "      <td>-0.045548</td>\n",
              "    </tr>\n",
              "    <tr>\n",
              "      <th>4</th>\n",
              "      <td>0.096608</td>\n",
              "      <td>0.045197</td>\n",
              "      <td>0.114652</td>\n",
              "      <td>0.033341</td>\n",
              "      <td>0.106542</td>\n",
              "      <td>6.938894e-18</td>\n",
              "      <td>0.096588</td>\n",
              "      <td>-0.000523</td>\n",
              "      <td>-0.063558</td>\n",
              "      <td>0.112743</td>\n",
              "      <td>0.075623</td>\n",
              "      <td>-0.047701</td>\n",
              "      <td>0.015439</td>\n",
              "      <td>-0.055260</td>\n",
              "      <td>-0.006942</td>\n",
              "      <td>-0.049723</td>\n",
              "      <td>-0.100304</td>\n",
              "      <td>0.102963</td>\n",
              "      <td>0.057556</td>\n",
              "      <td>-0.060177</td>\n",
              "      <td>-0.023646</td>\n",
              "      <td>-0.069867</td>\n",
              "      <td>-0.034987</td>\n",
              "      <td>-0.056994</td>\n",
              "      <td>-0.023224</td>\n",
              "      <td>0.139539</td>\n",
              "      <td>0.026484</td>\n",
              "      <td>-0.071770</td>\n",
              "      <td>-0.054111</td>\n",
              "      <td>-0.063163</td>\n",
              "      <td>-0.042928</td>\n",
              "      <td>-0.044375</td>\n",
              "    </tr>\n",
              "    <tr>\n",
              "      <th>...</th>\n",
              "      <td>...</td>\n",
              "      <td>...</td>\n",
              "      <td>...</td>\n",
              "      <td>...</td>\n",
              "      <td>...</td>\n",
              "      <td>...</td>\n",
              "      <td>...</td>\n",
              "      <td>...</td>\n",
              "      <td>...</td>\n",
              "      <td>...</td>\n",
              "      <td>...</td>\n",
              "      <td>...</td>\n",
              "      <td>...</td>\n",
              "      <td>...</td>\n",
              "      <td>...</td>\n",
              "      <td>...</td>\n",
              "      <td>...</td>\n",
              "      <td>...</td>\n",
              "      <td>...</td>\n",
              "      <td>...</td>\n",
              "      <td>...</td>\n",
              "      <td>...</td>\n",
              "      <td>...</td>\n",
              "      <td>...</td>\n",
              "      <td>...</td>\n",
              "      <td>...</td>\n",
              "      <td>...</td>\n",
              "      <td>...</td>\n",
              "      <td>...</td>\n",
              "      <td>...</td>\n",
              "      <td>...</td>\n",
              "      <td>...</td>\n",
              "    </tr>\n",
              "    <tr>\n",
              "      <th>1183</th>\n",
              "      <td>0.155021</td>\n",
              "      <td>0.077519</td>\n",
              "      <td>0.174503</td>\n",
              "      <td>0.043141</td>\n",
              "      <td>0.152823</td>\n",
              "      <td>1.387779e-17</td>\n",
              "      <td>0.149967</td>\n",
              "      <td>0.021214</td>\n",
              "      <td>-0.114225</td>\n",
              "      <td>0.115594</td>\n",
              "      <td>0.145628</td>\n",
              "      <td>-0.022340</td>\n",
              "      <td>0.007679</td>\n",
              "      <td>-0.082363</td>\n",
              "      <td>-0.052359</td>\n",
              "      <td>-0.088204</td>\n",
              "      <td>-0.136920</td>\n",
              "      <td>0.115682</td>\n",
              "      <td>0.147726</td>\n",
              "      <td>-0.029766</td>\n",
              "      <td>-0.007167</td>\n",
              "      <td>-0.097603</td>\n",
              "      <td>-0.045154</td>\n",
              "      <td>-0.085594</td>\n",
              "      <td>-0.141017</td>\n",
              "      <td>0.135980</td>\n",
              "      <td>0.109007</td>\n",
              "      <td>-0.045937</td>\n",
              "      <td>-0.019847</td>\n",
              "      <td>-0.096490</td>\n",
              "      <td>-0.047022</td>\n",
              "      <td>-0.078923</td>\n",
              "    </tr>\n",
              "    <tr>\n",
              "      <th>1184</th>\n",
              "      <td>0.150196</td>\n",
              "      <td>0.090659</td>\n",
              "      <td>0.170437</td>\n",
              "      <td>0.048558</td>\n",
              "      <td>0.146912</td>\n",
              "      <td>0.000000e+00</td>\n",
              "      <td>0.142907</td>\n",
              "      <td>0.021097</td>\n",
              "      <td>-0.110664</td>\n",
              "      <td>0.114058</td>\n",
              "      <td>0.144921</td>\n",
              "      <td>-0.007870</td>\n",
              "      <td>0.015625</td>\n",
              "      <td>-0.076645</td>\n",
              "      <td>-0.047765</td>\n",
              "      <td>-0.089171</td>\n",
              "      <td>-0.140453</td>\n",
              "      <td>0.090576</td>\n",
              "      <td>0.154072</td>\n",
              "      <td>-0.009768</td>\n",
              "      <td>0.009694</td>\n",
              "      <td>-0.089330</td>\n",
              "      <td>-0.034426</td>\n",
              "      <td>-0.086298</td>\n",
              "      <td>-0.171909</td>\n",
              "      <td>0.103428</td>\n",
              "      <td>0.112784</td>\n",
              "      <td>-0.035927</td>\n",
              "      <td>-0.006997</td>\n",
              "      <td>-0.094875</td>\n",
              "      <td>-0.035708</td>\n",
              "      <td>-0.083506</td>\n",
              "    </tr>\n",
              "    <tr>\n",
              "      <th>1185</th>\n",
              "      <td>0.150619</td>\n",
              "      <td>0.092911</td>\n",
              "      <td>0.163893</td>\n",
              "      <td>0.047062</td>\n",
              "      <td>0.142344</td>\n",
              "      <td>0.000000e+00</td>\n",
              "      <td>0.142907</td>\n",
              "      <td>0.021708</td>\n",
              "      <td>-0.101500</td>\n",
              "      <td>0.107907</td>\n",
              "      <td>0.147984</td>\n",
              "      <td>0.000143</td>\n",
              "      <td>0.015389</td>\n",
              "      <td>-0.069576</td>\n",
              "      <td>-0.055730</td>\n",
              "      <td>-0.085872</td>\n",
              "      <td>-0.140190</td>\n",
              "      <td>0.070350</td>\n",
              "      <td>0.154307</td>\n",
              "      <td>-0.007271</td>\n",
              "      <td>0.005616</td>\n",
              "      <td>-0.084368</td>\n",
              "      <td>-0.046397</td>\n",
              "      <td>-0.083842</td>\n",
              "      <td>-0.158008</td>\n",
              "      <td>0.092519</td>\n",
              "      <td>0.113788</td>\n",
              "      <td>-0.029118</td>\n",
              "      <td>-0.012646</td>\n",
              "      <td>-0.086687</td>\n",
              "      <td>-0.049147</td>\n",
              "      <td>-0.077047</td>\n",
              "    </tr>\n",
              "    <tr>\n",
              "      <th>1186</th>\n",
              "      <td>0.144129</td>\n",
              "      <td>0.091378</td>\n",
              "      <td>0.167189</td>\n",
              "      <td>0.047378</td>\n",
              "      <td>0.148878</td>\n",
              "      <td>0.000000e+00</td>\n",
              "      <td>0.146398</td>\n",
              "      <td>0.022524</td>\n",
              "      <td>-0.106003</td>\n",
              "      <td>0.109750</td>\n",
              "      <td>0.138529</td>\n",
              "      <td>-0.006895</td>\n",
              "      <td>0.006532</td>\n",
              "      <td>-0.076884</td>\n",
              "      <td>-0.059461</td>\n",
              "      <td>-0.090202</td>\n",
              "      <td>-0.110858</td>\n",
              "      <td>0.091502</td>\n",
              "      <td>0.151581</td>\n",
              "      <td>-0.007886</td>\n",
              "      <td>0.000093</td>\n",
              "      <td>-0.089106</td>\n",
              "      <td>-0.046714</td>\n",
              "      <td>-0.087615</td>\n",
              "      <td>-0.147400</td>\n",
              "      <td>0.102553</td>\n",
              "      <td>0.113283</td>\n",
              "      <td>-0.030557</td>\n",
              "      <td>-0.013723</td>\n",
              "      <td>-0.091946</td>\n",
              "      <td>-0.047030</td>\n",
              "      <td>-0.083713</td>\n",
              "    </tr>\n",
              "    <tr>\n",
              "      <th>1187</th>\n",
              "      <td>0.134424</td>\n",
              "      <td>0.092247</td>\n",
              "      <td>0.163150</td>\n",
              "      <td>0.052307</td>\n",
              "      <td>0.149304</td>\n",
              "      <td>0.000000e+00</td>\n",
              "      <td>0.143818</td>\n",
              "      <td>0.022951</td>\n",
              "      <td>-0.100799</td>\n",
              "      <td>0.117945</td>\n",
              "      <td>0.138034</td>\n",
              "      <td>-0.008600</td>\n",
              "      <td>0.001909</td>\n",
              "      <td>-0.083704</td>\n",
              "      <td>-0.058760</td>\n",
              "      <td>-0.091891</td>\n",
              "      <td>-0.102510</td>\n",
              "      <td>0.101235</td>\n",
              "      <td>0.148062</td>\n",
              "      <td>-0.010883</td>\n",
              "      <td>-0.010285</td>\n",
              "      <td>-0.098263</td>\n",
              "      <td>-0.050684</td>\n",
              "      <td>-0.089389</td>\n",
              "      <td>-0.127701</td>\n",
              "      <td>0.115235</td>\n",
              "      <td>0.105295</td>\n",
              "      <td>-0.035368</td>\n",
              "      <td>-0.021154</td>\n",
              "      <td>-0.097286</td>\n",
              "      <td>-0.048750</td>\n",
              "      <td>-0.083347</td>\n",
              "    </tr>\n",
              "  </tbody>\n",
              "</table>\n",
              "<p>1188 rows × 32 columns</p>\n",
              "</div>"
            ],
            "text/plain": [
              "         x_1-0     y_1-0     x_2-1  ...   y_15-14   x_16-15   y_16-15\n",
              "0     0.059483  0.047791  0.117681  ... -0.059163 -0.049266 -0.037874\n",
              "1     0.088238  0.039870  0.111497  ... -0.067196 -0.046953 -0.033332\n",
              "2     0.074786  0.029389  0.109923  ... -0.063819 -0.047665 -0.037979\n",
              "3     0.075837  0.025564  0.108562  ... -0.074281 -0.045816 -0.045548\n",
              "4     0.096608  0.045197  0.114652  ... -0.063163 -0.042928 -0.044375\n",
              "...        ...       ...       ...  ...       ...       ...       ...\n",
              "1183  0.155021  0.077519  0.174503  ... -0.096490 -0.047022 -0.078923\n",
              "1184  0.150196  0.090659  0.170437  ... -0.094875 -0.035708 -0.083506\n",
              "1185  0.150619  0.092911  0.163893  ... -0.086687 -0.049147 -0.077047\n",
              "1186  0.144129  0.091378  0.167189  ... -0.091946 -0.047030 -0.083713\n",
              "1187  0.134424  0.092247  0.163150  ... -0.097286 -0.048750 -0.083347\n",
              "\n",
              "[1188 rows x 32 columns]"
            ]
          },
          "metadata": {},
          "execution_count": 80
        }
      ]
    },
    {
      "cell_type": "code",
      "metadata": {
        "id": "xugWPM9IVHY1"
      },
      "source": [
        "path2='/content/drive/Shareddrives/데이터 청년 캠퍼스/젓가락질 데이터/새 젓가락질 데이터/excel 파일/preprocessing/correct38_semi_final.xlsx'"
      ],
      "execution_count": 81,
      "outputs": []
    },
    {
      "cell_type": "code",
      "metadata": {
        "id": "2LWQGp0HVe_1"
      },
      "source": [
        "testdata = pd.read_excel(path2)\n",
        "new_x = testdata.drop(['d_ratio','sin dif','y','image'], axis=1)\n",
        "#y = data[\"y\"]"
      ],
      "execution_count": 82,
      "outputs": []
    },
    {
      "cell_type": "code",
      "metadata": {
        "id": "Y774uX6IKloS"
      },
      "source": [
        "#X1 = data[data['y']==1]\n",
        "#X0 = data[data['y']==0]"
      ],
      "execution_count": 83,
      "outputs": []
    },
    {
      "cell_type": "code",
      "metadata": {
        "id": "wIkHYbfqaSQs"
      },
      "source": [
        "#X1 = X1.drop(['Unnamed: 0','y','image'], axis = 1)\n",
        "#X0 = X0.drop(['Unnamed: 0','y','image'], axis = 1)"
      ],
      "execution_count": 84,
      "outputs": []
    },
    {
      "cell_type": "markdown",
      "metadata": {
        "id": "N3hZzAxnFNbV"
      },
      "source": [
        "#모델"
      ]
    },
    {
      "cell_type": "code",
      "metadata": {
        "id": "_mqy5U8SbO8u"
      },
      "source": [
        "import numpy as np\n",
        "import pandas as pd\n",
        "import seaborn as sns\n",
        "import matplotlib.pyplot as plt\n",
        "import tensorflow as tf\n",
        "from tensorflow import keras\n",
        "from tensorflow.keras import layers\n",
        "from scipy.stats import norm, boxcox\n",
        "from scipy import stats\n",
        "from collections import Counter\n",
        "from sklearn.model_selection import cross_val_score, cross_validate\n",
        "from sklearn.metrics import roc_curve\n",
        "import warnings\n",
        "warnings.simplefilter(action='ignore', category=FutureWarning)"
      ],
      "execution_count": 85,
      "outputs": []
    },
    {
      "cell_type": "markdown",
      "metadata": {
        "id": "ri2Ezw8HFHWm"
      },
      "source": [
        "#ROC curve"
      ]
    },
    {
      "cell_type": "code",
      "metadata": {
        "id": "ecTsuCC2NagZ"
      },
      "source": [
        "def plot_roc_curve(fprs, tprs):\n",
        "    \"\"\"Plot the Receiver Operating Characteristic from a list\n",
        "    of true positive rates and false positive rates.\"\"\"\n",
        "    \n",
        "    # Initialize useful lists + the plot axes.\n",
        "    tprs_interp = []\n",
        "    aucs = []\n",
        "    mean_fpr = np.linspace(0, 1, 100)\n",
        "    f, ax = plt.subplots(figsize=(14,10))\n",
        "    \n",
        "    # Plot ROC for each K-Fold + compute AUC scores.\n",
        "    for i, (fpr, tpr) in enumerate(zip(fprs, tprs)):\n",
        "        tprs_interp.append(np.interp(mean_fpr, fpr, tpr))\n",
        "        tprs_interp[-1][0] = 0.0\n",
        "        roc_auc = auc(fpr, tpr)\n",
        "        aucs.append(roc_auc)\n",
        "        ax.plot(fpr, tpr, lw=1, alpha=0.3,\n",
        "                 label='ROC fold %d (AUC = %0.2f)' % (i, roc_auc))\n",
        "        \n",
        "    # Plot the luck line.\n",
        "    plt.plot([0, 1], [0, 1], linestyle='--', lw=2, color='r',\n",
        "             label='Luck', alpha=.8)\n",
        "    \n",
        "    # Plot the mean ROC.\n",
        "    mean_tpr = np.mean(tprs_interp, axis=0)\n",
        "    mean_tpr[-1] = 1.0\n",
        "    mean_auc = auc(mean_fpr, mean_tpr)\n",
        "    std_auc = np.std(aucs)\n",
        "    ax.plot(mean_fpr, mean_tpr, color='b',\n",
        "             label=r'Mean ROC (AUC = %0.2f $\\pm$ %0.2f)' % (mean_auc, std_auc),\n",
        "             lw=2, alpha=.8)\n",
        "    \n",
        "    # Plot the standard deviation around the mean ROC.\n",
        "    std_tpr = np.std(tprs_interp, axis=0)\n",
        "    tprs_upper = np.minimum(mean_tpr + std_tpr, 1)\n",
        "    tprs_lower = np.maximum(mean_tpr - std_tpr, 0)\n",
        "    ax.fill_between(mean_fpr, tprs_lower, tprs_upper, color='grey', alpha=.2,\n",
        "                     label=r'$\\pm$ 1 std. dev.')\n",
        "    # Fine tune and show the plot.\n",
        "    ax.set_xlim([-0.05, 1.05])\n",
        "    ax.set_ylim([-0.05, 1.05])\n",
        "    ax.set_xlabel('False Positive Rate')\n",
        "    ax.set_ylabel('True Positive Rate')\n",
        "    ax.set_title('Receiver operating characteristic')\n",
        "    ax.legend(loc=\"lower right\")\n",
        "    plt.show()\n",
        "    return (f, ax)\n",
        "\n",
        "def compute_roc_auc(index):\n",
        "    y_predict = clf.predict_proba(X.iloc[index])[:,1]\n",
        "    fpr, tpr, thresholds = roc_curve(y.iloc[index], y_predict)\n",
        "    auc_score = auc(fpr, tpr)\n",
        "    return fpr, tpr, auc_score"
      ],
      "execution_count": 86,
      "outputs": []
    },
    {
      "cell_type": "markdown",
      "metadata": {
        "id": "rDsB5jNmUePF"
      },
      "source": [
        "decisiontree"
      ]
    },
    {
      "cell_type": "code",
      "metadata": {
        "id": "YAKC6nCGLSZi"
      },
      "source": [
        "from sklearn.tree import DecisionTreeClassifier\n",
        "clf = DecisionTreeClassifier()"
      ],
      "execution_count": 87,
      "outputs": []
    },
    {
      "cell_type": "code",
      "metadata": {
        "id": "gXCaa7qPWmqW"
      },
      "source": [
        "#clf.fit(X_train,y_train)\n",
        "#testdata_pred=clf.predict(new_x)\n",
        "#if sum(testdata_pred == 1) > sum(testdata_pred == 0):\n",
        "#  print(\"올바른 젓가락질입니다.\")\n",
        "#elif sum(testdata_pred == 1) == sum(testdata_pred == 0):\n",
        "#  print(\"재촬영해주세요.\")\n",
        "#else:\n",
        "#  print(\"올바르지 않은 젓가락질입니다.\")"
      ],
      "execution_count": 88,
      "outputs": []
    },
    {
      "cell_type": "code",
      "metadata": {
        "id": "I4ttH-uZNbOp",
        "colab": {
          "base_uri": "https://localhost:8080/",
          "height": 808
        },
        "outputId": "421904fd-cae2-4883-b264-fd28af12469e"
      },
      "source": [
        "from sklearn.model_selection import StratifiedKFold\n",
        "from sklearn.metrics import roc_curve, auc\n",
        "\n",
        "\n",
        "cv = StratifiedKFold(n_splits=5, random_state=1004, shuffle=True)\n",
        "results = pd.DataFrame(columns=['training_score', 'test_score'])\n",
        "fprs, tprs, scores = [], [], []\n",
        "    \n",
        "for (train, test), i in zip(cv.split(X, y), range(5)):\n",
        "    clf.fit(X.iloc[train], y.iloc[train])\n",
        "    _, _, auc_score_train = compute_roc_auc(train)\n",
        "    fpr, tpr, auc_score = compute_roc_auc(test)\n",
        "    scores.append((auc_score_train, auc_score))\n",
        "    fprs.append(fpr)\n",
        "    tprs.append(tpr)\n",
        "\n",
        "plot_roc_curve(fprs, tprs);\n",
        "pd.DataFrame(scores, columns=['AUC Train', 'AUC Test'])\n",
        "#clf.feature_importances_"
      ],
      "execution_count": 89,
      "outputs": [
        {
          "output_type": "display_data",
          "data": {
            "image/png": "[encoded data removed]",
            "text/plain": [
              "<Figure size 1008x720 with 1 Axes>"
            ]
          },
          "metadata": {
            "needs_background": "light"
          }
        },
        {
          "output_type": "execute_result",
          "data": {
            "text/html": [
              "<div>\n",
              "<style scoped>\n",
              "    .dataframe tbody tr th:only-of-type {\n",
              "        vertical-align: middle;\n",
              "    }\n",
              "\n",
              "    .dataframe tbody tr th {\n",
              "        vertical-align: top;\n",
              "    }\n",
              "\n",
              "    .dataframe thead th {\n",
              "        text-align: right;\n",
              "    }\n",
              "</style>\n",
              "<table border=\"1\" class=\"dataframe\">\n",
              "  <thead>\n",
              "    <tr style=\"text-align: right;\">\n",
              "      <th></th>\n",
              "      <th>AUC Train</th>\n",
              "      <th>AUC Test</th>\n",
              "    </tr>\n",
              "  </thead>\n",
              "  <tbody>\n",
              "    <tr>\n",
              "      <th>0</th>\n",
              "      <td>1.0</td>\n",
              "      <td>0.884827</td>\n",
              "    </tr>\n",
              "    <tr>\n",
              "      <th>1</th>\n",
              "      <td>1.0</td>\n",
              "      <td>0.907981</td>\n",
              "    </tr>\n",
              "    <tr>\n",
              "      <th>2</th>\n",
              "      <td>1.0</td>\n",
              "      <td>0.895101</td>\n",
              "    </tr>\n",
              "    <tr>\n",
              "      <th>3</th>\n",
              "      <td>1.0</td>\n",
              "      <td>0.924582</td>\n",
              "    </tr>\n",
              "    <tr>\n",
              "      <th>4</th>\n",
              "      <td>1.0</td>\n",
              "      <td>0.907384</td>\n",
              "    </tr>\n",
              "  </tbody>\n",
              "</table>\n",
              "</div>"
            ],
            "text/plain": [
              "   AUC Train  AUC Test\n",
              "0        1.0  0.884827\n",
              "1        1.0  0.907981\n",
              "2        1.0  0.895101\n",
              "3        1.0  0.924582\n",
              "4        1.0  0.907384"
            ]
          },
          "metadata": {},
          "execution_count": 89
        }
      ]
    },
    {
      "cell_type": "code",
      "metadata": {
        "colab": {
          "base_uri": "https://localhost:8080/"
        },
        "id": "G5XdF2LNwt8R",
        "outputId": "46ba5eb2-0d30-4023-b3c7-c10622f53ab7"
      },
      "source": [
        "#clf.fit(X_train,y_train)\n",
        "testdata_pred=clf.predict(new_x)\n",
        "print(testdata_pred)\n",
        "\n",
        "if sum(testdata_pred == 1) > sum(testdata_pred == 0):\n",
        "  print(\"올바른 젓가락질입니다.\")\n",
        "elif sum(testdata_pred == 1) == sum(testdata_pred == 0):\n",
        "  print(\"재촬영해주세요.\")\n",
        "else:\n",
        "  print(\"올바르지 않은 젓가락질입니다.\")"
      ],
      "execution_count": 90,
      "outputs": [
        {
          "output_type": "stream",
          "text": [
            "[1 0 1 1 1 1 1 1 1 1 1 1 1 1 1 1 1 1 1 1 1 1 1 1 1 1 1 1 1 1 1 1 1 1 1 1 1\n",
            " 1 1 1 1 1 1 1 1 1 1 1 1 1 1]\n",
            "올바른 젓가락질입니다.\n"
          ],
          "name": "stdout"
        }
      ]
    },
    {
      "cell_type": "markdown",
      "metadata": {
        "id": "0xDGt8BGUgQV"
      },
      "source": [
        "knn"
      ]
    },
    {
      "cell_type": "code",
      "metadata": {
        "id": "vp20S4q1aoPz"
      },
      "source": [
        "from sklearn.neighbors import KNeighborsClassifier\n",
        "clf = KNeighborsClassifier(n_neighbors=5)"
      ],
      "execution_count": 91,
      "outputs": []
    },
    {
      "cell_type": "code",
      "metadata": {
        "colab": {
          "base_uri": "https://localhost:8080/",
          "height": 808
        },
        "id": "OEShtzW1R0wO",
        "outputId": "4b395d99-c385-437b-fd2c-c4b29243b977"
      },
      "source": [
        "from sklearn.model_selection import StratifiedKFold\n",
        "from sklearn.metrics import roc_curve, auc\n",
        "\n",
        "\n",
        "cv = StratifiedKFold(n_splits=5, random_state=1004, shuffle=True)\n",
        "results = pd.DataFrame(columns=['training_score', 'test_score'])\n",
        "fprs, tprs, scores = [], [], []\n",
        "    \n",
        "for (train, test), i in zip(cv.split(X, y), range(5)):\n",
        "    clf.fit(X.iloc[train], y.iloc[train])\n",
        "    _, _, auc_score_train = compute_roc_auc(train)\n",
        "    fpr, tpr, auc_score = compute_roc_auc(test)\n",
        "    scores.append((auc_score_train, auc_score))\n",
        "    fprs.append(fpr)\n",
        "    tprs.append(tpr)\n",
        "\n",
        "plot_roc_curve(fprs, tprs);\n",
        "pd.DataFrame(scores, columns=['AUC Train', 'AUC Test'])"
      ],
      "execution_count": 92,
      "outputs": [
        {
          "output_type": "display_data",
          "data": {
            "image/png": "[encoded data removed]",
            "text/plain": [
              "<Figure size 1008x720 with 1 Axes>"
            ]
          },
          "metadata": {
            "needs_background": "light"
          }
        },
        {
          "output_type": "execute_result",
          "data": {
            "text/html": [
              "<div>\n",
              "<style scoped>\n",
              "    .dataframe tbody tr th:only-of-type {\n",
              "        vertical-align: middle;\n",
              "    }\n",
              "\n",
              "    .dataframe tbody tr th {\n",
              "        vertical-align: top;\n",
              "    }\n",
              "\n",
              "    .dataframe thead th {\n",
              "        text-align: right;\n",
              "    }\n",
              "</style>\n",
              "<table border=\"1\" class=\"dataframe\">\n",
              "  <thead>\n",
              "    <tr style=\"text-align: right;\">\n",
              "      <th></th>\n",
              "      <th>AUC Train</th>\n",
              "      <th>AUC Test</th>\n",
              "    </tr>\n",
              "  </thead>\n",
              "  <tbody>\n",
              "    <tr>\n",
              "      <th>0</th>\n",
              "      <td>0.998627</td>\n",
              "      <td>0.984999</td>\n",
              "    </tr>\n",
              "    <tr>\n",
              "      <th>1</th>\n",
              "      <td>0.998323</td>\n",
              "      <td>0.994491</td>\n",
              "    </tr>\n",
              "    <tr>\n",
              "      <th>2</th>\n",
              "      <td>0.998625</td>\n",
              "      <td>0.995272</td>\n",
              "    </tr>\n",
              "    <tr>\n",
              "      <th>3</th>\n",
              "      <td>0.998446</td>\n",
              "      <td>0.991796</td>\n",
              "    </tr>\n",
              "    <tr>\n",
              "      <th>4</th>\n",
              "      <td>0.997674</td>\n",
              "      <td>0.995823</td>\n",
              "    </tr>\n",
              "  </tbody>\n",
              "</table>\n",
              "</div>"
            ],
            "text/plain": [
              "   AUC Train  AUC Test\n",
              "0   0.998627  0.984999\n",
              "1   0.998323  0.994491\n",
              "2   0.998625  0.995272\n",
              "3   0.998446  0.991796\n",
              "4   0.997674  0.995823"
            ]
          },
          "metadata": {},
          "execution_count": 92
        }
      ]
    },
    {
      "cell_type": "code",
      "metadata": {
        "colab": {
          "base_uri": "https://localhost:8080/"
        },
        "id": "3oupw0qWpz5p",
        "outputId": "b9699695-22cd-4fb2-fdb4-db8a50373b87"
      },
      "source": [
        "#clf.fit(X_train,y_train)\n",
        "testdata_pred=clf.predict(new_x)\n",
        "print(testdata_pred)\n",
        "\n",
        "if sum(testdata_pred == 1) > sum(testdata_pred == 0):\n",
        "  print(\"올바른 젓가락질입니다.\")\n",
        "elif sum(testdata_pred == 1) == sum(testdata_pred == 0):\n",
        "  print(\"재촬영해주세요.\")\n",
        "else:\n",
        "  print(\"올바르지 않은 젓가락질입니다.\")"
      ],
      "execution_count": 93,
      "outputs": [
        {
          "output_type": "stream",
          "text": [
            "[1 1 0 1 1 1 1 1 1 1 1 1 1 1 1 1 1 1 1 1 1 1 1 1 1 1 1 1 1 1 1 1 1 1 1 1 1\n",
            " 1 1 1 1 1 1 1 1 1 1 1 1 1 1]\n",
            "올바른 젓가락질입니다.\n"
          ],
          "name": "stdout"
        }
      ]
    },
    {
      "cell_type": "markdown",
      "metadata": {
        "id": "y3IO-9gMUiGF"
      },
      "source": [
        "randomforest"
      ]
    },
    {
      "cell_type": "code",
      "metadata": {
        "id": "lHyzxAHrns9B"
      },
      "source": [
        "from sklearn.ensemble import RandomForestClassifier\n",
        "clf =RandomForestClassifier()"
      ],
      "execution_count": 94,
      "outputs": []
    },
    {
      "cell_type": "code",
      "metadata": {
        "colab": {
          "base_uri": "https://localhost:8080/",
          "height": 808
        },
        "id": "aD2DY5ZeR2QA",
        "outputId": "131acc8d-4b10-4b96-add6-ed972518508c"
      },
      "source": [
        "from sklearn.model_selection import StratifiedKFold\n",
        "from sklearn.metrics import roc_curve, auc\n",
        "\n",
        "\n",
        "cv = StratifiedKFold(n_splits=5, random_state=1004, shuffle=True)\n",
        "results = pd.DataFrame(columns=['training_score', 'test_score'])\n",
        "fprs, tprs, scores = [], [], []\n",
        "    \n",
        "for (train, test), i in zip(cv.split(X, y), range(5)):\n",
        "    clf.fit(X.iloc[train], y.iloc[train])\n",
        "    _, _, auc_score_train = compute_roc_auc(train)\n",
        "    fpr, tpr, auc_score = compute_roc_auc(test)\n",
        "    scores.append((auc_score_train, auc_score))\n",
        "    fprs.append(fpr)\n",
        "    tprs.append(tpr)\n",
        "\n",
        "plot_roc_curve(fprs, tprs);\n",
        "pd.DataFrame(scores, columns=['AUC Train', 'AUC Test'])"
      ],
      "execution_count": 95,
      "outputs": [
        {
          "output_type": "display_data",
          "data": {
            "image/png": "[encoded data removed]",
            "text/plain": [
              "<Figure size 1008x720 with 1 Axes>"
            ]
          },
          "metadata": {
            "needs_background": "light"
          }
        },
        {
          "output_type": "execute_result",
          "data": {
            "text/html": [
              "<div>\n",
              "<style scoped>\n",
              "    .dataframe tbody tr th:only-of-type {\n",
              "        vertical-align: middle;\n",
              "    }\n",
              "\n",
              "    .dataframe tbody tr th {\n",
              "        vertical-align: top;\n",
              "    }\n",
              "\n",
              "    .dataframe thead th {\n",
              "        text-align: right;\n",
              "    }\n",
              "</style>\n",
              "<table border=\"1\" class=\"dataframe\">\n",
              "  <thead>\n",
              "    <tr style=\"text-align: right;\">\n",
              "      <th></th>\n",
              "      <th>AUC Train</th>\n",
              "      <th>AUC Test</th>\n",
              "    </tr>\n",
              "  </thead>\n",
              "  <tbody>\n",
              "    <tr>\n",
              "      <th>0</th>\n",
              "      <td>1.0</td>\n",
              "      <td>0.989205</td>\n",
              "    </tr>\n",
              "    <tr>\n",
              "      <th>1</th>\n",
              "      <td>1.0</td>\n",
              "      <td>0.997208</td>\n",
              "    </tr>\n",
              "    <tr>\n",
              "      <th>2</th>\n",
              "      <td>1.0</td>\n",
              "      <td>0.988163</td>\n",
              "    </tr>\n",
              "    <tr>\n",
              "      <th>3</th>\n",
              "      <td>1.0</td>\n",
              "      <td>0.996086</td>\n",
              "    </tr>\n",
              "    <tr>\n",
              "      <th>4</th>\n",
              "      <td>1.0</td>\n",
              "      <td>0.998833</td>\n",
              "    </tr>\n",
              "  </tbody>\n",
              "</table>\n",
              "</div>"
            ],
            "text/plain": [
              "   AUC Train  AUC Test\n",
              "0        1.0  0.989205\n",
              "1        1.0  0.997208\n",
              "2        1.0  0.988163\n",
              "3        1.0  0.996086\n",
              "4        1.0  0.998833"
            ]
          },
          "metadata": {},
          "execution_count": 95
        }
      ]
    },
    {
      "cell_type": "code",
      "metadata": {
        "colab": {
          "base_uri": "https://localhost:8080/"
        },
        "id": "CCbyKXBuwQvI",
        "outputId": "3dd99c25-c43a-46a3-dfb6-72195f2ee5cc"
      },
      "source": [
        "#clf.fit(X_train,y_train)\n",
        "testdata_pred=clf.predict(new_x)\n",
        "print(testdata_pred)\n",
        "\n",
        "if sum(testdata_pred == 1) > sum(testdata_pred == 0):\n",
        "  print(\"올바른 젓가락질입니다.\")\n",
        "elif sum(testdata_pred == 1) == sum(testdata_pred == 0):\n",
        "  print(\"재촬영해주세요.\")\n",
        "else:\n",
        "  print(\"올바르지 않은 젓가락질입니다.\")"
      ],
      "execution_count": 96,
      "outputs": [
        {
          "output_type": "stream",
          "text": [
            "[1 1 1 1 1 1 1 1 1 1 1 1 1 1 1 1 1 1 1 1 1 1 1 1 1 1 1 1 1 1 1 1 1 1 1 1 1\n",
            " 1 1 1 1 1 1 1 1 1 1 1 1 1 1]\n",
            "올바른 젓가락질입니다.\n"
          ],
          "name": "stdout"
        }
      ]
    }
  ]
}