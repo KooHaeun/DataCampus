from PIL import Image
import os, glob, numpy as np
from sklearn.model_selection import train_test_split
folder_len=12
image_w = 192 #이미지의 크기를 모두 통일해준다
image_h = 108
label=1
for i in range(folder_len):
  print(i)
  X = []
  y = []
  groups_folder_path = "/content/drive/Shareddrives/데이터 청년 캠퍼스/젓가락질 데이터/새 젓가락질 데이터/추출된 올바르지 않은 이미지/not_correct"+str(i+1)+"/"
  file_list = os.listdir(groups_folder_path) 
  for jpg in file_list: 
      files = glob.glob(image_dir+"/*.jpg")
      img = Image.open(f)      #폴더를 열어주고 이미지를 읽음
      img = img.convert("RGB")   #RGB로 바꿈
      img = img.resize((image_w, image_h)) #이미지 크기를 모두 통일
      data = np.asarray(img) #숫자로
      X.append(data) #리스트에 추가 
      y.append(label)
  X = np.array(X)
  y = np.array(y)
  xy = (X,Y)
  np.save("/content/drive/Shareddrives/데이터 청년 캠퍼스/젓가락질 데이터/새 젓가락질 데이터/추출된 올바르지 않은 이미지/not_correct"+str(i+1)+"/not_correct"+str(i+1), xy) #그렇게 xy를 multi_image_data.npy로 저장
  print("ok", len(y))
