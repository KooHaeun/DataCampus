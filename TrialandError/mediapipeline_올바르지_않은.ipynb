{
  "nbformat": 4,
  "nbformat_minor": 0,
  "metadata": {
    "colab": {
      "name": "mediapipeline_올바르지 않은",
      "provenance": [],
      "collapsed_sections": []
    },
    "kernelspec": {
      "name": "python3",
      "display_name": "Python 3"
    },
    "language_info": {
      "name": "python"
    }
  },
  "cells": [
    {
      "cell_type": "code",
      "metadata": {
        "colab": {
          "base_uri": "https://localhost:8080/"
        },
        "id": "VBUrpSIOipcR",
        "outputId": "b264da35-a688-4998-94da-65cd6d622017"
      },
      "source": [
        "!pip install mediapipe opencv-python"
      ],
      "execution_count": null,
      "outputs": [
        {
          "output_type": "stream",
          "text": [
            "Collecting mediapipe\n",
            "  Downloading mediapipe-0.8.6.2-cp37-cp37m-manylinux_2_17_x86_64.manylinux2014_x86_64.whl (32.2 MB)\n",
            "\u001b[K     |████████████████████████████████| 32.2 MB 19 kB/s \n",
            "\u001b[?25hRequirement already satisfied: opencv-python in /usr/local/lib/python3.7/dist-packages (4.1.2.30)\n",
            "Requirement already satisfied: protobuf>=3.11.4 in /usr/local/lib/python3.7/dist-packages (from mediapipe) (3.17.3)\n",
            "Requirement already satisfied: opencv-contrib-python in /usr/local/lib/python3.7/dist-packages (from mediapipe) (4.1.2.30)\n",
            "Requirement already satisfied: absl-py in /usr/local/lib/python3.7/dist-packages (from mediapipe) (0.12.0)\n",
            "Requirement already satisfied: attrs>=19.1.0 in /usr/local/lib/python3.7/dist-packages (from mediapipe) (21.2.0)\n",
            "Requirement already satisfied: matplotlib in /usr/local/lib/python3.7/dist-packages (from mediapipe) (3.2.2)\n",
            "Requirement already satisfied: wheel in /usr/local/lib/python3.7/dist-packages (from mediapipe) (0.36.2)\n",
            "Requirement already satisfied: numpy in /usr/local/lib/python3.7/dist-packages (from mediapipe) (1.19.5)\n",
            "Requirement already satisfied: six in /usr/local/lib/python3.7/dist-packages (from mediapipe) (1.15.0)\n",
            "Requirement already satisfied: kiwisolver>=1.0.1 in /usr/local/lib/python3.7/dist-packages (from matplotlib->mediapipe) (1.3.1)\n",
            "Requirement already satisfied: cycler>=0.10 in /usr/local/lib/python3.7/dist-packages (from matplotlib->mediapipe) (0.10.0)\n",
            "Requirement already satisfied: pyparsing!=2.0.4,!=2.1.2,!=2.1.6,>=2.0.1 in /usr/local/lib/python3.7/dist-packages (from matplotlib->mediapipe) (2.4.7)\n",
            "Requirement already satisfied: python-dateutil>=2.1 in /usr/local/lib/python3.7/dist-packages (from matplotlib->mediapipe) (2.8.1)\n",
            "Installing collected packages: mediapipe\n",
            "Successfully installed mediapipe-0.8.6.2\n"
          ],
          "name": "stdout"
        }
      ]
    },
    {
      "cell_type": "code",
      "metadata": {
        "id": "AK__dhB-ivBn"
      },
      "source": [
        "import mediapipe as mp\n",
        "import cv2\n",
        "import numpy as np\n",
        "import uuid\n",
        "import os"
      ],
      "execution_count": null,
      "outputs": []
    },
    {
      "cell_type": "code",
      "metadata": {
        "id": "IxH91baziwRu"
      },
      "source": [
        "mp_drawing = mp.solutions.drawing_utils\n",
        "mp_hands = mp.solutions.hands"
      ],
      "execution_count": null,
      "outputs": []
    },
    {
      "cell_type": "code",
      "metadata": {
        "colab": {
          "base_uri": "https://localhost:8080/"
        },
        "id": "_UicGjAvix8f",
        "outputId": "7e10acaf-cf95-4d44-e651-e0b15c7f7aec"
      },
      "source": [
        "mp_hands.HAND_CONNECTIONS"
      ],
      "execution_count": null,
      "outputs": [
        {
          "output_type": "execute_result",
          "data": {
            "text/plain": [
              "frozenset({(<HandLandmark.WRIST: 0>, <HandLandmark.THUMB_CMC: 1>),\n",
              "           (<HandLandmark.WRIST: 0>, <HandLandmark.INDEX_FINGER_MCP: 5>),\n",
              "           (<HandLandmark.WRIST: 0>, <HandLandmark.PINKY_MCP: 17>),\n",
              "           (<HandLandmark.THUMB_CMC: 1>, <HandLandmark.THUMB_MCP: 2>),\n",
              "           (<HandLandmark.THUMB_MCP: 2>, <HandLandmark.THUMB_IP: 3>),\n",
              "           (<HandLandmark.THUMB_IP: 3>, <HandLandmark.THUMB_TIP: 4>),\n",
              "           (<HandLandmark.INDEX_FINGER_MCP: 5>,\n",
              "            <HandLandmark.INDEX_FINGER_PIP: 6>),\n",
              "           (<HandLandmark.INDEX_FINGER_MCP: 5>,\n",
              "            <HandLandmark.MIDDLE_FINGER_MCP: 9>),\n",
              "           (<HandLandmark.INDEX_FINGER_PIP: 6>,\n",
              "            <HandLandmark.INDEX_FINGER_DIP: 7>),\n",
              "           (<HandLandmark.INDEX_FINGER_DIP: 7>,\n",
              "            <HandLandmark.INDEX_FINGER_TIP: 8>),\n",
              "           (<HandLandmark.MIDDLE_FINGER_MCP: 9>,\n",
              "            <HandLandmark.MIDDLE_FINGER_PIP: 10>),\n",
              "           (<HandLandmark.MIDDLE_FINGER_MCP: 9>,\n",
              "            <HandLandmark.RING_FINGER_MCP: 13>),\n",
              "           (<HandLandmark.MIDDLE_FINGER_PIP: 10>,\n",
              "            <HandLandmark.MIDDLE_FINGER_DIP: 11>),\n",
              "           (<HandLandmark.MIDDLE_FINGER_DIP: 11>,\n",
              "            <HandLandmark.MIDDLE_FINGER_TIP: 12>),\n",
              "           (<HandLandmark.RING_FINGER_MCP: 13>,\n",
              "            <HandLandmark.RING_FINGER_PIP: 14>),\n",
              "           (<HandLandmark.RING_FINGER_MCP: 13>, <HandLandmark.PINKY_MCP: 17>),\n",
              "           (<HandLandmark.RING_FINGER_PIP: 14>,\n",
              "            <HandLandmark.RING_FINGER_DIP: 15>),\n",
              "           (<HandLandmark.RING_FINGER_DIP: 15>,\n",
              "            <HandLandmark.RING_FINGER_TIP: 16>),\n",
              "           (<HandLandmark.PINKY_MCP: 17>, <HandLandmark.PINKY_PIP: 18>),\n",
              "           (<HandLandmark.PINKY_PIP: 18>, <HandLandmark.PINKY_DIP: 19>),\n",
              "           (<HandLandmark.PINKY_DIP: 19>, <HandLandmark.PINKY_TIP: 20>)})"
            ]
          },
          "metadata": {
            "tags": []
          },
          "execution_count": 3
        }
      ]
    },
    {
      "cell_type": "code",
      "metadata": {
        "id": "JLtWOX4Fi1rp"
      },
      "source": [
        "from os import listdir\n",
        "import time"
      ],
      "execution_count": null,
      "outputs": []
    },
    {
      "cell_type": "code",
      "metadata": {
        "colab": {
          "base_uri": "https://localhost:8080/"
        },
        "id": "FIO38INgjEpI",
        "outputId": "c3ba4fd2-b9fe-41f5-92be-535ab49d3d1b"
      },
      "source": [
        "from google.colab import drive\n",
        "drive.mount('/content/drive')"
      ],
      "execution_count": null,
      "outputs": [
        {
          "output_type": "stream",
          "text": [
            "Drive already mounted at /content/drive; to attempt to forcibly remount, call drive.mount(\"/content/drive\", force_remount=True).\n"
          ],
          "name": "stdout"
        }
      ]
    },
    {
      "cell_type": "markdown",
      "metadata": {
        "id": "ZT82VoD3zVMe"
      },
      "source": [
        "#0~999"
      ]
    },
    {
      "cell_type": "code",
      "metadata": {
        "id": "gdt1vrYJFlbn"
      },
      "source": [
        "!unzip -uq \"/content/drive/Shareddrives/데이터 청년 캠퍼스/젓가락질 데이터/올바르지 않은 이미지 파일/올바르지 않은0~999.zip\" -d \"/content/drive/Shareddrives/데이터 청년 캠퍼스/젓가락질 데이터/올바르지 않은 이미지 파일/올바르지 않은0~999\""
      ],
      "execution_count": null,
      "outputs": []
    },
    {
      "cell_type": "code",
      "metadata": {
        "id": "m6-jZ1a4jLxF"
      },
      "source": [
        "path='/content/drive/Shareddrives/데이터 청년 캠퍼스/젓가락질 데이터/올바르지 않은 이미지 파일/올바르지 않은0~999/'"
      ],
      "execution_count": null,
      "outputs": []
    },
    {
      "cell_type": "code",
      "metadata": {
        "id": "MmSUdkX5Lak7"
      },
      "source": [
        "!unzip -uq \"/content/drive/Shareddrives/데이터 청년 캠퍼스/젓가락질 데이터/올바르지 않은 이미지 파일/올바르지 않은1000~1999.zip\" -d \"/content/drive/Shareddrives/데이터 청년 캠퍼스/젓가락질 데이터/올바르지 않은 이미지 파일/올바르지 않은1000~1999\""
      ],
      "execution_count": null,
      "outputs": []
    },
    {
      "cell_type": "code",
      "metadata": {
        "id": "pzSX2Xyw0IsG"
      },
      "source": [
        "path='/content/drive/Shareddrives/데이터 청년 캠퍼스/젓가락질 데이터/올바르지 않은 이미지 파일/올바르지 않은1000~1999/'"
      ],
      "execution_count": null,
      "outputs": []
    },
    {
      "cell_type": "code",
      "metadata": {
        "id": "ykAxb1j82qHV"
      },
      "source": [
        "!unzip -uq \"/content/drive/Shareddrives/데이터 청년 캠퍼스/젓가락질 데이터/올바르지 않은 이미지 파일/올바르지 않은2000~2999.zip\" -d \"/content/drive/Shareddrives/데이터 청년 캠퍼스/젓가락질 데이터/올바르지 않은 이미지 파일/올바르지 않은2000~2999\""
      ],
      "execution_count": null,
      "outputs": []
    },
    {
      "cell_type": "code",
      "metadata": {
        "id": "zDeG-91522Bl"
      },
      "source": [
        "path='/content/drive/Shareddrives/데이터 청년 캠퍼스/젓가락질 데이터/올바르지 않은 이미지 파일/올바르지 않은2000~2999/'"
      ],
      "execution_count": null,
      "outputs": []
    },
    {
      "cell_type": "code",
      "metadata": {
        "id": "zV32RrBX4RAk"
      },
      "source": [
        "!unzip -uq \"/content/drive/Shareddrives/데이터 청년 캠퍼스/젓가락질 데이터/올바르지 않은 이미지 파일/올바르지 않은3000~3999.zip\" -d \"/content/drive/Shareddrives/데이터 청년 캠퍼스/젓가락질 데이터/올바르지 않은 이미지 파일/올바르지 않은3000~3999\""
      ],
      "execution_count": null,
      "outputs": []
    },
    {
      "cell_type": "code",
      "metadata": {
        "id": "X8iVdsgN4Vrb"
      },
      "source": [
        "path='/content/drive/Shareddrives/데이터 청년 캠퍼스/젓가락질 데이터/올바르지 않은 이미지 파일/올바르지 않은3000~3999/'"
      ],
      "execution_count": null,
      "outputs": []
    },
    {
      "cell_type": "code",
      "metadata": {
        "id": "_18o230X4ZYj"
      },
      "source": [
        "!unzip -uq \"/content/drive/Shareddrives/데이터 청년 캠퍼스/젓가락질 데이터/올바르지 않은 이미지 파일/올바르지 않은4000~4999.zip\" -d \"/content/drive/Shareddrives/데이터 청년 캠퍼스/젓가락질 데이터/올바르지 않은 이미지 파일/올바르지 않은4000~4999\"\n",
        "path='/content/drive/Shareddrives/데이터 청년 캠퍼스/젓가락질 데이터/올바르지 않은 이미지 파일/올바르지 않은4000~4999/'"
      ],
      "execution_count": null,
      "outputs": []
    },
    {
      "cell_type": "code",
      "metadata": {
        "id": "TqHX6H0u4ba1"
      },
      "source": [
        "!unzip -uq \"/content/drive/Shareddrives/데이터 청년 캠퍼스/젓가락질 데이터/올바르지 않은 이미지 파일/올바르지 않은5000~5999.zip\" -d \"/content/drive/Shareddrives/데이터 청년 캠퍼스/젓가락질 데이터/올바르지 않은 이미지 파일/올바르지 않은5000~5999\"\n",
        "path='/content/drive/Shareddrives/데이터 청년 캠퍼스/젓가락질 데이터/올바르지 않은 이미지 파일/올바르지 않은5000~5999/'"
      ],
      "execution_count": null,
      "outputs": []
    },
    {
      "cell_type": "code",
      "metadata": {
        "id": "8jK_SrRk4cwS"
      },
      "source": [
        "!unzip -uq \"/content/drive/Shareddrives/데이터 청년 캠퍼스/젓가락질 데이터/올바르지 않은 이미지 파일/올바르지 않은6000~6999.zip\" -d \"/content/drive/Shareddrives/데이터 청년 캠퍼스/젓가락질 데이터/올바르지 않은 이미지 파일/올바르지 않은6000~6999\"\n",
        "path='/content/drive/Shareddrives/데이터 청년 캠퍼스/젓가락질 데이터/올바르지 않은 이미지 파일/올바르지 않은6000~6999/'"
      ],
      "execution_count": null,
      "outputs": []
    },
    {
      "cell_type": "code",
      "metadata": {
        "id": "NguOM95_4gI9"
      },
      "source": [
        "!unzip -uq \"/content/drive/Shareddrives/데이터 청년 캠퍼스/젓가락질 데이터/올바르지 않은 이미지 파일/올바르지 않은7000~7999.zip\" -d \"/content/drive/Shareddrives/데이터 청년 캠퍼스/젓가락질 데이터/올바르지 않은 이미지 파일/올바르지 않은7000~7999\"\n",
        "path='/content/drive/Shareddrives/데이터 청년 캠퍼스/젓가락질 데이터/올바르지 않은 이미지 파일/올바르지 않은7000~7999/'"
      ],
      "execution_count": null,
      "outputs": []
    },
    {
      "cell_type": "code",
      "metadata": {
        "id": "DNcz9RX54ZIf"
      },
      "source": [
        ""
      ],
      "execution_count": null,
      "outputs": []
    },
    {
      "cell_type": "code",
      "metadata": {
        "colab": {
          "base_uri": "https://localhost:8080/",
          "height": 35
        },
        "id": "RhtWLeU0QeSn",
        "outputId": "53590e8d-52d2-4f23-e857-dfb1ea19a423"
      },
      "source": [
        "listdir(path)[0]"
      ],
      "execution_count": null,
      "outputs": [
        {
          "output_type": "execute_result",
          "data": {
            "application/vnd.google.colaboratory.intrinsic+json": {
              "type": "string"
            },
            "text/plain": [
              "'올바르지 않은007000.jpg'"
            ]
          },
          "metadata": {
            "tags": []
          },
          "execution_count": 5
        }
      ]
    },
    {
      "cell_type": "code",
      "metadata": {
        "colab": {
          "base_uri": "https://localhost:8080/"
        },
        "id": "PCR3deTRi3Wg",
        "outputId": "8ed00fa0-687d-480d-c5c7-7699c405bfde"
      },
      "source": [
        "info1 = list()\n",
        "with mp_hands.Hands(min_detection_confidence = 0.8, min_tracking_confidence = 0.5) as hands:\n",
        "      for i in range(len(listdir(path))):\n",
        "          cap = cv2.VideoCapture(path+listdir(path)[i])\n",
        "          #while cap.isOpened(): ##비디오에 사용?\n",
        "          ret, frame = cap.read()\n",
        "\n",
        "          # BGR 2 RGB\n",
        "          image = cv2.cvtColor(frame, cv2.COLOR_BGR2RGB)\n",
        "\n",
        "          # Flip on horizontal\n",
        "          # image = cv2.flip(image, 1)\n",
        "\n",
        "          # Set flag\n",
        "          image.flags.writeable = False\n",
        "\n",
        "          # Detections\n",
        "          results = hands.process(image)\n",
        "\n",
        "          # Set flag to true\n",
        "          image.flags.writeable = True\n",
        "\n",
        "          # RGB 2 BGR\n",
        "          image = cv2.cvtColor(frame, cv2.COLOR_RGB2BGR)\n",
        "\n",
        "          # Detections\n",
        "          print('{} {}'.format(results,i))        \n",
        "          \n",
        "          if results.multi_hand_landmarks:\n",
        "            landmarks = results.multi_hand_landmarks    \n",
        "            imagename = listdir(path)[i]\n",
        "            info1.append((landmarks,imagename))\n",
        "          if i%25 == 0:\n",
        "            time.sleep(3)\n",
        "\n",
        "\n",
        "          if cv2.waitKey(10) & 0xFF == ord('q') :\n",
        "              break\n",
        "        \n",
        "cap.release()\n",
        "cv2.destroyAllWindows()"
      ],
      "execution_count": null,
      "outputs": [
        {
          "output_type": "stream",
          "text": [
            "<class 'mediapipe.python.solution_base.SolutionOutputs'> 0\n",
            "<class 'mediapipe.python.solution_base.SolutionOutputs'> 1\n",
            "<class 'mediapipe.python.solution_base.SolutionOutputs'> 2\n",
            "<class 'mediapipe.python.solution_base.SolutionOutputs'> 3\n",
            "<class 'mediapipe.python.solution_base.SolutionOutputs'> 4\n",
            "<class 'mediapipe.python.solution_base.SolutionOutputs'> 5\n",
            "<class 'mediapipe.python.solution_base.SolutionOutputs'> 6\n",
            "<class 'mediapipe.python.solution_base.SolutionOutputs'> 7\n",
            "<class 'mediapipe.python.solution_base.SolutionOutputs'> 8\n",
            "<class 'mediapipe.python.solution_base.SolutionOutputs'> 9\n",
            "<class 'mediapipe.python.solution_base.SolutionOutputs'> 10\n",
            "<class 'mediapipe.python.solution_base.SolutionOutputs'> 11\n",
            "<class 'mediapipe.python.solution_base.SolutionOutputs'> 12\n",
            "<class 'mediapipe.python.solution_base.SolutionOutputs'> 13\n",
            "<class 'mediapipe.python.solution_base.SolutionOutputs'> 14\n",
            "<class 'mediapipe.python.solution_base.SolutionOutputs'> 15\n",
            "<class 'mediapipe.python.solution_base.SolutionOutputs'> 16\n",
            "<class 'mediapipe.python.solution_base.SolutionOutputs'> 17\n",
            "<class 'mediapipe.python.solution_base.SolutionOutputs'> 18\n",
            "<class 'mediapipe.python.solution_base.SolutionOutputs'> 19\n",
            "<class 'mediapipe.python.solution_base.SolutionOutputs'> 20\n",
            "<class 'mediapipe.python.solution_base.SolutionOutputs'> 21\n",
            "<class 'mediapipe.python.solution_base.SolutionOutputs'> 22\n",
            "<class 'mediapipe.python.solution_base.SolutionOutputs'> 23\n",
            "<class 'mediapipe.python.solution_base.SolutionOutputs'> 24\n",
            "<class 'mediapipe.python.solution_base.SolutionOutputs'> 25\n",
            "<class 'mediapipe.python.solution_base.SolutionOutputs'> 26\n",
            "<class 'mediapipe.python.solution_base.SolutionOutputs'> 27\n",
            "<class 'mediapipe.python.solution_base.SolutionOutputs'> 28\n",
            "<class 'mediapipe.python.solution_base.SolutionOutputs'> 29\n",
            "<class 'mediapipe.python.solution_base.SolutionOutputs'> 30\n",
            "<class 'mediapipe.python.solution_base.SolutionOutputs'> 31\n",
            "<class 'mediapipe.python.solution_base.SolutionOutputs'> 32\n",
            "<class 'mediapipe.python.solution_base.SolutionOutputs'> 33\n",
            "<class 'mediapipe.python.solution_base.SolutionOutputs'> 34\n",
            "<class 'mediapipe.python.solution_base.SolutionOutputs'> 35\n",
            "<class 'mediapipe.python.solution_base.SolutionOutputs'> 36\n",
            "<class 'mediapipe.python.solution_base.SolutionOutputs'> 37\n",
            "<class 'mediapipe.python.solution_base.SolutionOutputs'> 38\n",
            "<class 'mediapipe.python.solution_base.SolutionOutputs'> 39\n",
            "<class 'mediapipe.python.solution_base.SolutionOutputs'> 40\n",
            "<class 'mediapipe.python.solution_base.SolutionOutputs'> 41\n",
            "<class 'mediapipe.python.solution_base.SolutionOutputs'> 42\n",
            "<class 'mediapipe.python.solution_base.SolutionOutputs'> 43\n",
            "<class 'mediapipe.python.solution_base.SolutionOutputs'> 44\n",
            "<class 'mediapipe.python.solution_base.SolutionOutputs'> 45\n",
            "<class 'mediapipe.python.solution_base.SolutionOutputs'> 46\n",
            "<class 'mediapipe.python.solution_base.SolutionOutputs'> 47\n",
            "<class 'mediapipe.python.solution_base.SolutionOutputs'> 48\n",
            "<class 'mediapipe.python.solution_base.SolutionOutputs'> 49\n",
            "<class 'mediapipe.python.solution_base.SolutionOutputs'> 50\n",
            "<class 'mediapipe.python.solution_base.SolutionOutputs'> 51\n",
            "<class 'mediapipe.python.solution_base.SolutionOutputs'> 52\n",
            "<class 'mediapipe.python.solution_base.SolutionOutputs'> 53\n",
            "<class 'mediapipe.python.solution_base.SolutionOutputs'> 54\n",
            "<class 'mediapipe.python.solution_base.SolutionOutputs'> 55\n",
            "<class 'mediapipe.python.solution_base.SolutionOutputs'> 56\n",
            "<class 'mediapipe.python.solution_base.SolutionOutputs'> 57\n",
            "<class 'mediapipe.python.solution_base.SolutionOutputs'> 58\n",
            "<class 'mediapipe.python.solution_base.SolutionOutputs'> 59\n",
            "<class 'mediapipe.python.solution_base.SolutionOutputs'> 60\n",
            "<class 'mediapipe.python.solution_base.SolutionOutputs'> 61\n",
            "<class 'mediapipe.python.solution_base.SolutionOutputs'> 62\n",
            "<class 'mediapipe.python.solution_base.SolutionOutputs'> 63\n",
            "<class 'mediapipe.python.solution_base.SolutionOutputs'> 64\n",
            "<class 'mediapipe.python.solution_base.SolutionOutputs'> 65\n",
            "<class 'mediapipe.python.solution_base.SolutionOutputs'> 66\n",
            "<class 'mediapipe.python.solution_base.SolutionOutputs'> 67\n",
            "<class 'mediapipe.python.solution_base.SolutionOutputs'> 68\n",
            "<class 'mediapipe.python.solution_base.SolutionOutputs'> 69\n",
            "<class 'mediapipe.python.solution_base.SolutionOutputs'> 70\n",
            "<class 'mediapipe.python.solution_base.SolutionOutputs'> 71\n",
            "<class 'mediapipe.python.solution_base.SolutionOutputs'> 72\n",
            "<class 'mediapipe.python.solution_base.SolutionOutputs'> 73\n",
            "<class 'mediapipe.python.solution_base.SolutionOutputs'> 74\n",
            "<class 'mediapipe.python.solution_base.SolutionOutputs'> 75\n",
            "<class 'mediapipe.python.solution_base.SolutionOutputs'> 76\n",
            "<class 'mediapipe.python.solution_base.SolutionOutputs'> 77\n",
            "<class 'mediapipe.python.solution_base.SolutionOutputs'> 78\n",
            "<class 'mediapipe.python.solution_base.SolutionOutputs'> 79\n",
            "<class 'mediapipe.python.solution_base.SolutionOutputs'> 80\n",
            "<class 'mediapipe.python.solution_base.SolutionOutputs'> 81\n",
            "<class 'mediapipe.python.solution_base.SolutionOutputs'> 82\n",
            "<class 'mediapipe.python.solution_base.SolutionOutputs'> 83\n",
            "<class 'mediapipe.python.solution_base.SolutionOutputs'> 84\n",
            "<class 'mediapipe.python.solution_base.SolutionOutputs'> 85\n",
            "<class 'mediapipe.python.solution_base.SolutionOutputs'> 86\n",
            "<class 'mediapipe.python.solution_base.SolutionOutputs'> 87\n",
            "<class 'mediapipe.python.solution_base.SolutionOutputs'> 88\n",
            "<class 'mediapipe.python.solution_base.SolutionOutputs'> 89\n",
            "<class 'mediapipe.python.solution_base.SolutionOutputs'> 90\n",
            "<class 'mediapipe.python.solution_base.SolutionOutputs'> 91\n",
            "<class 'mediapipe.python.solution_base.SolutionOutputs'> 92\n",
            "<class 'mediapipe.python.solution_base.SolutionOutputs'> 93\n",
            "<class 'mediapipe.python.solution_base.SolutionOutputs'> 94\n",
            "<class 'mediapipe.python.solution_base.SolutionOutputs'> 95\n",
            "<class 'mediapipe.python.solution_base.SolutionOutputs'> 96\n",
            "<class 'mediapipe.python.solution_base.SolutionOutputs'> 97\n",
            "<class 'mediapipe.python.solution_base.SolutionOutputs'> 98\n",
            "<class 'mediapipe.python.solution_base.SolutionOutputs'> 99\n",
            "<class 'mediapipe.python.solution_base.SolutionOutputs'> 100\n",
            "<class 'mediapipe.python.solution_base.SolutionOutputs'> 101\n",
            "<class 'mediapipe.python.solution_base.SolutionOutputs'> 102\n",
            "<class 'mediapipe.python.solution_base.SolutionOutputs'> 103\n",
            "<class 'mediapipe.python.solution_base.SolutionOutputs'> 104\n",
            "<class 'mediapipe.python.solution_base.SolutionOutputs'> 105\n",
            "<class 'mediapipe.python.solution_base.SolutionOutputs'> 106\n",
            "<class 'mediapipe.python.solution_base.SolutionOutputs'> 107\n",
            "<class 'mediapipe.python.solution_base.SolutionOutputs'> 108\n",
            "<class 'mediapipe.python.solution_base.SolutionOutputs'> 109\n",
            "<class 'mediapipe.python.solution_base.SolutionOutputs'> 110\n",
            "<class 'mediapipe.python.solution_base.SolutionOutputs'> 111\n",
            "<class 'mediapipe.python.solution_base.SolutionOutputs'> 112\n",
            "<class 'mediapipe.python.solution_base.SolutionOutputs'> 113\n",
            "<class 'mediapipe.python.solution_base.SolutionOutputs'> 114\n",
            "<class 'mediapipe.python.solution_base.SolutionOutputs'> 115\n",
            "<class 'mediapipe.python.solution_base.SolutionOutputs'> 116\n",
            "<class 'mediapipe.python.solution_base.SolutionOutputs'> 117\n",
            "<class 'mediapipe.python.solution_base.SolutionOutputs'> 118\n",
            "<class 'mediapipe.python.solution_base.SolutionOutputs'> 119\n",
            "<class 'mediapipe.python.solution_base.SolutionOutputs'> 120\n",
            "<class 'mediapipe.python.solution_base.SolutionOutputs'> 121\n",
            "<class 'mediapipe.python.solution_base.SolutionOutputs'> 122\n",
            "<class 'mediapipe.python.solution_base.SolutionOutputs'> 123\n",
            "<class 'mediapipe.python.solution_base.SolutionOutputs'> 124\n",
            "<class 'mediapipe.python.solution_base.SolutionOutputs'> 125\n",
            "<class 'mediapipe.python.solution_base.SolutionOutputs'> 126\n",
            "<class 'mediapipe.python.solution_base.SolutionOutputs'> 127\n",
            "<class 'mediapipe.python.solution_base.SolutionOutputs'> 128\n",
            "<class 'mediapipe.python.solution_base.SolutionOutputs'> 129\n",
            "<class 'mediapipe.python.solution_base.SolutionOutputs'> 130\n",
            "<class 'mediapipe.python.solution_base.SolutionOutputs'> 131\n",
            "<class 'mediapipe.python.solution_base.SolutionOutputs'> 132\n",
            "<class 'mediapipe.python.solution_base.SolutionOutputs'> 133\n",
            "<class 'mediapipe.python.solution_base.SolutionOutputs'> 134\n",
            "<class 'mediapipe.python.solution_base.SolutionOutputs'> 135\n",
            "<class 'mediapipe.python.solution_base.SolutionOutputs'> 136\n",
            "<class 'mediapipe.python.solution_base.SolutionOutputs'> 137\n",
            "<class 'mediapipe.python.solution_base.SolutionOutputs'> 138\n",
            "<class 'mediapipe.python.solution_base.SolutionOutputs'> 139\n",
            "<class 'mediapipe.python.solution_base.SolutionOutputs'> 140\n",
            "<class 'mediapipe.python.solution_base.SolutionOutputs'> 141\n",
            "<class 'mediapipe.python.solution_base.SolutionOutputs'> 142\n",
            "<class 'mediapipe.python.solution_base.SolutionOutputs'> 143\n",
            "<class 'mediapipe.python.solution_base.SolutionOutputs'> 144\n",
            "<class 'mediapipe.python.solution_base.SolutionOutputs'> 145\n",
            "<class 'mediapipe.python.solution_base.SolutionOutputs'> 146\n",
            "<class 'mediapipe.python.solution_base.SolutionOutputs'> 147\n",
            "<class 'mediapipe.python.solution_base.SolutionOutputs'> 148\n",
            "<class 'mediapipe.python.solution_base.SolutionOutputs'> 149\n",
            "<class 'mediapipe.python.solution_base.SolutionOutputs'> 150\n",
            "<class 'mediapipe.python.solution_base.SolutionOutputs'> 151\n",
            "<class 'mediapipe.python.solution_base.SolutionOutputs'> 152\n",
            "<class 'mediapipe.python.solution_base.SolutionOutputs'> 153\n",
            "<class 'mediapipe.python.solution_base.SolutionOutputs'> 154\n",
            "<class 'mediapipe.python.solution_base.SolutionOutputs'> 155\n",
            "<class 'mediapipe.python.solution_base.SolutionOutputs'> 156\n",
            "<class 'mediapipe.python.solution_base.SolutionOutputs'> 157\n",
            "<class 'mediapipe.python.solution_base.SolutionOutputs'> 158\n",
            "<class 'mediapipe.python.solution_base.SolutionOutputs'> 159\n",
            "<class 'mediapipe.python.solution_base.SolutionOutputs'> 160\n",
            "<class 'mediapipe.python.solution_base.SolutionOutputs'> 161\n",
            "<class 'mediapipe.python.solution_base.SolutionOutputs'> 162\n",
            "<class 'mediapipe.python.solution_base.SolutionOutputs'> 163\n",
            "<class 'mediapipe.python.solution_base.SolutionOutputs'> 164\n",
            "<class 'mediapipe.python.solution_base.SolutionOutputs'> 165\n",
            "<class 'mediapipe.python.solution_base.SolutionOutputs'> 166\n",
            "<class 'mediapipe.python.solution_base.SolutionOutputs'> 167\n",
            "<class 'mediapipe.python.solution_base.SolutionOutputs'> 168\n",
            "<class 'mediapipe.python.solution_base.SolutionOutputs'> 169\n",
            "<class 'mediapipe.python.solution_base.SolutionOutputs'> 170\n",
            "<class 'mediapipe.python.solution_base.SolutionOutputs'> 171\n",
            "<class 'mediapipe.python.solution_base.SolutionOutputs'> 172\n",
            "<class 'mediapipe.python.solution_base.SolutionOutputs'> 173\n",
            "<class 'mediapipe.python.solution_base.SolutionOutputs'> 174\n",
            "<class 'mediapipe.python.solution_base.SolutionOutputs'> 175\n",
            "<class 'mediapipe.python.solution_base.SolutionOutputs'> 176\n",
            "<class 'mediapipe.python.solution_base.SolutionOutputs'> 177\n",
            "<class 'mediapipe.python.solution_base.SolutionOutputs'> 178\n",
            "<class 'mediapipe.python.solution_base.SolutionOutputs'> 179\n",
            "<class 'mediapipe.python.solution_base.SolutionOutputs'> 180\n",
            "<class 'mediapipe.python.solution_base.SolutionOutputs'> 181\n",
            "<class 'mediapipe.python.solution_base.SolutionOutputs'> 182\n",
            "<class 'mediapipe.python.solution_base.SolutionOutputs'> 183\n",
            "<class 'mediapipe.python.solution_base.SolutionOutputs'> 184\n",
            "<class 'mediapipe.python.solution_base.SolutionOutputs'> 185\n",
            "<class 'mediapipe.python.solution_base.SolutionOutputs'> 186\n",
            "<class 'mediapipe.python.solution_base.SolutionOutputs'> 187\n",
            "<class 'mediapipe.python.solution_base.SolutionOutputs'> 188\n",
            "<class 'mediapipe.python.solution_base.SolutionOutputs'> 189\n",
            "<class 'mediapipe.python.solution_base.SolutionOutputs'> 190\n",
            "<class 'mediapipe.python.solution_base.SolutionOutputs'> 191\n",
            "<class 'mediapipe.python.solution_base.SolutionOutputs'> 192\n",
            "<class 'mediapipe.python.solution_base.SolutionOutputs'> 193\n",
            "<class 'mediapipe.python.solution_base.SolutionOutputs'> 194\n",
            "<class 'mediapipe.python.solution_base.SolutionOutputs'> 195\n",
            "<class 'mediapipe.python.solution_base.SolutionOutputs'> 196\n",
            "<class 'mediapipe.python.solution_base.SolutionOutputs'> 197\n",
            "<class 'mediapipe.python.solution_base.SolutionOutputs'> 198\n",
            "<class 'mediapipe.python.solution_base.SolutionOutputs'> 199\n",
            "<class 'mediapipe.python.solution_base.SolutionOutputs'> 200\n",
            "<class 'mediapipe.python.solution_base.SolutionOutputs'> 201\n",
            "<class 'mediapipe.python.solution_base.SolutionOutputs'> 202\n",
            "<class 'mediapipe.python.solution_base.SolutionOutputs'> 203\n",
            "<class 'mediapipe.python.solution_base.SolutionOutputs'> 204\n",
            "<class 'mediapipe.python.solution_base.SolutionOutputs'> 205\n",
            "<class 'mediapipe.python.solution_base.SolutionOutputs'> 206\n",
            "<class 'mediapipe.python.solution_base.SolutionOutputs'> 207\n",
            "<class 'mediapipe.python.solution_base.SolutionOutputs'> 208\n",
            "<class 'mediapipe.python.solution_base.SolutionOutputs'> 209\n",
            "<class 'mediapipe.python.solution_base.SolutionOutputs'> 210\n",
            "<class 'mediapipe.python.solution_base.SolutionOutputs'> 211\n",
            "<class 'mediapipe.python.solution_base.SolutionOutputs'> 212\n",
            "<class 'mediapipe.python.solution_base.SolutionOutputs'> 213\n",
            "<class 'mediapipe.python.solution_base.SolutionOutputs'> 214\n",
            "<class 'mediapipe.python.solution_base.SolutionOutputs'> 215\n",
            "<class 'mediapipe.python.solution_base.SolutionOutputs'> 216\n",
            "<class 'mediapipe.python.solution_base.SolutionOutputs'> 217\n",
            "<class 'mediapipe.python.solution_base.SolutionOutputs'> 218\n",
            "<class 'mediapipe.python.solution_base.SolutionOutputs'> 219\n",
            "<class 'mediapipe.python.solution_base.SolutionOutputs'> 220\n",
            "<class 'mediapipe.python.solution_base.SolutionOutputs'> 221\n",
            "<class 'mediapipe.python.solution_base.SolutionOutputs'> 222\n",
            "<class 'mediapipe.python.solution_base.SolutionOutputs'> 223\n",
            "<class 'mediapipe.python.solution_base.SolutionOutputs'> 224\n",
            "<class 'mediapipe.python.solution_base.SolutionOutputs'> 225\n",
            "<class 'mediapipe.python.solution_base.SolutionOutputs'> 226\n",
            "<class 'mediapipe.python.solution_base.SolutionOutputs'> 227\n",
            "<class 'mediapipe.python.solution_base.SolutionOutputs'> 228\n",
            "<class 'mediapipe.python.solution_base.SolutionOutputs'> 229\n",
            "<class 'mediapipe.python.solution_base.SolutionOutputs'> 230\n",
            "<class 'mediapipe.python.solution_base.SolutionOutputs'> 231\n",
            "<class 'mediapipe.python.solution_base.SolutionOutputs'> 232\n",
            "<class 'mediapipe.python.solution_base.SolutionOutputs'> 233\n",
            "<class 'mediapipe.python.solution_base.SolutionOutputs'> 234\n",
            "<class 'mediapipe.python.solution_base.SolutionOutputs'> 235\n",
            "<class 'mediapipe.python.solution_base.SolutionOutputs'> 236\n",
            "<class 'mediapipe.python.solution_base.SolutionOutputs'> 237\n",
            "<class 'mediapipe.python.solution_base.SolutionOutputs'> 238\n",
            "<class 'mediapipe.python.solution_base.SolutionOutputs'> 239\n",
            "<class 'mediapipe.python.solution_base.SolutionOutputs'> 240\n",
            "<class 'mediapipe.python.solution_base.SolutionOutputs'> 241\n",
            "<class 'mediapipe.python.solution_base.SolutionOutputs'> 242\n",
            "<class 'mediapipe.python.solution_base.SolutionOutputs'> 243\n",
            "<class 'mediapipe.python.solution_base.SolutionOutputs'> 244\n",
            "<class 'mediapipe.python.solution_base.SolutionOutputs'> 245\n",
            "<class 'mediapipe.python.solution_base.SolutionOutputs'> 246\n",
            "<class 'mediapipe.python.solution_base.SolutionOutputs'> 247\n",
            "<class 'mediapipe.python.solution_base.SolutionOutputs'> 248\n",
            "<class 'mediapipe.python.solution_base.SolutionOutputs'> 249\n",
            "<class 'mediapipe.python.solution_base.SolutionOutputs'> 250\n",
            "<class 'mediapipe.python.solution_base.SolutionOutputs'> 251\n",
            "<class 'mediapipe.python.solution_base.SolutionOutputs'> 252\n",
            "<class 'mediapipe.python.solution_base.SolutionOutputs'> 253\n",
            "<class 'mediapipe.python.solution_base.SolutionOutputs'> 254\n",
            "<class 'mediapipe.python.solution_base.SolutionOutputs'> 255\n",
            "<class 'mediapipe.python.solution_base.SolutionOutputs'> 256\n",
            "<class 'mediapipe.python.solution_base.SolutionOutputs'> 257\n",
            "<class 'mediapipe.python.solution_base.SolutionOutputs'> 258\n",
            "<class 'mediapipe.python.solution_base.SolutionOutputs'> 259\n",
            "<class 'mediapipe.python.solution_base.SolutionOutputs'> 260\n",
            "<class 'mediapipe.python.solution_base.SolutionOutputs'> 261\n",
            "<class 'mediapipe.python.solution_base.SolutionOutputs'> 262\n",
            "<class 'mediapipe.python.solution_base.SolutionOutputs'> 263\n",
            "<class 'mediapipe.python.solution_base.SolutionOutputs'> 264\n",
            "<class 'mediapipe.python.solution_base.SolutionOutputs'> 265\n",
            "<class 'mediapipe.python.solution_base.SolutionOutputs'> 266\n",
            "<class 'mediapipe.python.solution_base.SolutionOutputs'> 267\n",
            "<class 'mediapipe.python.solution_base.SolutionOutputs'> 268\n",
            "<class 'mediapipe.python.solution_base.SolutionOutputs'> 269\n",
            "<class 'mediapipe.python.solution_base.SolutionOutputs'> 270\n",
            "<class 'mediapipe.python.solution_base.SolutionOutputs'> 271\n",
            "<class 'mediapipe.python.solution_base.SolutionOutputs'> 272\n",
            "<class 'mediapipe.python.solution_base.SolutionOutputs'> 273\n",
            "<class 'mediapipe.python.solution_base.SolutionOutputs'> 274\n",
            "<class 'mediapipe.python.solution_base.SolutionOutputs'> 275\n",
            "<class 'mediapipe.python.solution_base.SolutionOutputs'> 276\n",
            "<class 'mediapipe.python.solution_base.SolutionOutputs'> 277\n",
            "<class 'mediapipe.python.solution_base.SolutionOutputs'> 278\n",
            "<class 'mediapipe.python.solution_base.SolutionOutputs'> 279\n",
            "<class 'mediapipe.python.solution_base.SolutionOutputs'> 280\n",
            "<class 'mediapipe.python.solution_base.SolutionOutputs'> 281\n",
            "<class 'mediapipe.python.solution_base.SolutionOutputs'> 282\n",
            "<class 'mediapipe.python.solution_base.SolutionOutputs'> 283\n",
            "<class 'mediapipe.python.solution_base.SolutionOutputs'> 284\n",
            "<class 'mediapipe.python.solution_base.SolutionOutputs'> 285\n",
            "<class 'mediapipe.python.solution_base.SolutionOutputs'> 286\n",
            "<class 'mediapipe.python.solution_base.SolutionOutputs'> 287\n",
            "<class 'mediapipe.python.solution_base.SolutionOutputs'> 288\n",
            "<class 'mediapipe.python.solution_base.SolutionOutputs'> 289\n",
            "<class 'mediapipe.python.solution_base.SolutionOutputs'> 290\n",
            "<class 'mediapipe.python.solution_base.SolutionOutputs'> 291\n",
            "<class 'mediapipe.python.solution_base.SolutionOutputs'> 292\n",
            "<class 'mediapipe.python.solution_base.SolutionOutputs'> 293\n",
            "<class 'mediapipe.python.solution_base.SolutionOutputs'> 294\n",
            "<class 'mediapipe.python.solution_base.SolutionOutputs'> 295\n",
            "<class 'mediapipe.python.solution_base.SolutionOutputs'> 296\n",
            "<class 'mediapipe.python.solution_base.SolutionOutputs'> 297\n",
            "<class 'mediapipe.python.solution_base.SolutionOutputs'> 298\n",
            "<class 'mediapipe.python.solution_base.SolutionOutputs'> 299\n",
            "<class 'mediapipe.python.solution_base.SolutionOutputs'> 300\n",
            "<class 'mediapipe.python.solution_base.SolutionOutputs'> 301\n",
            "<class 'mediapipe.python.solution_base.SolutionOutputs'> 302\n",
            "<class 'mediapipe.python.solution_base.SolutionOutputs'> 303\n",
            "<class 'mediapipe.python.solution_base.SolutionOutputs'> 304\n",
            "<class 'mediapipe.python.solution_base.SolutionOutputs'> 305\n",
            "<class 'mediapipe.python.solution_base.SolutionOutputs'> 306\n",
            "<class 'mediapipe.python.solution_base.SolutionOutputs'> 307\n",
            "<class 'mediapipe.python.solution_base.SolutionOutputs'> 308\n",
            "<class 'mediapipe.python.solution_base.SolutionOutputs'> 309\n",
            "<class 'mediapipe.python.solution_base.SolutionOutputs'> 310\n",
            "<class 'mediapipe.python.solution_base.SolutionOutputs'> 311\n",
            "<class 'mediapipe.python.solution_base.SolutionOutputs'> 312\n",
            "<class 'mediapipe.python.solution_base.SolutionOutputs'> 313\n",
            "<class 'mediapipe.python.solution_base.SolutionOutputs'> 314\n",
            "<class 'mediapipe.python.solution_base.SolutionOutputs'> 315\n",
            "<class 'mediapipe.python.solution_base.SolutionOutputs'> 316\n",
            "<class 'mediapipe.python.solution_base.SolutionOutputs'> 317\n",
            "<class 'mediapipe.python.solution_base.SolutionOutputs'> 318\n",
            "<class 'mediapipe.python.solution_base.SolutionOutputs'> 319\n",
            "<class 'mediapipe.python.solution_base.SolutionOutputs'> 320\n",
            "<class 'mediapipe.python.solution_base.SolutionOutputs'> 321\n",
            "<class 'mediapipe.python.solution_base.SolutionOutputs'> 322\n",
            "<class 'mediapipe.python.solution_base.SolutionOutputs'> 323\n",
            "<class 'mediapipe.python.solution_base.SolutionOutputs'> 324\n",
            "<class 'mediapipe.python.solution_base.SolutionOutputs'> 325\n",
            "<class 'mediapipe.python.solution_base.SolutionOutputs'> 326\n",
            "<class 'mediapipe.python.solution_base.SolutionOutputs'> 327\n",
            "<class 'mediapipe.python.solution_base.SolutionOutputs'> 328\n",
            "<class 'mediapipe.python.solution_base.SolutionOutputs'> 329\n",
            "<class 'mediapipe.python.solution_base.SolutionOutputs'> 330\n",
            "<class 'mediapipe.python.solution_base.SolutionOutputs'> 331\n",
            "<class 'mediapipe.python.solution_base.SolutionOutputs'> 332\n",
            "<class 'mediapipe.python.solution_base.SolutionOutputs'> 333\n",
            "<class 'mediapipe.python.solution_base.SolutionOutputs'> 334\n",
            "<class 'mediapipe.python.solution_base.SolutionOutputs'> 335\n",
            "<class 'mediapipe.python.solution_base.SolutionOutputs'> 336\n",
            "<class 'mediapipe.python.solution_base.SolutionOutputs'> 337\n",
            "<class 'mediapipe.python.solution_base.SolutionOutputs'> 338\n",
            "<class 'mediapipe.python.solution_base.SolutionOutputs'> 339\n",
            "<class 'mediapipe.python.solution_base.SolutionOutputs'> 340\n",
            "<class 'mediapipe.python.solution_base.SolutionOutputs'> 341\n",
            "<class 'mediapipe.python.solution_base.SolutionOutputs'> 342\n",
            "<class 'mediapipe.python.solution_base.SolutionOutputs'> 343\n",
            "<class 'mediapipe.python.solution_base.SolutionOutputs'> 344\n",
            "<class 'mediapipe.python.solution_base.SolutionOutputs'> 345\n",
            "<class 'mediapipe.python.solution_base.SolutionOutputs'> 346\n",
            "<class 'mediapipe.python.solution_base.SolutionOutputs'> 347\n",
            "<class 'mediapipe.python.solution_base.SolutionOutputs'> 348\n",
            "<class 'mediapipe.python.solution_base.SolutionOutputs'> 349\n",
            "<class 'mediapipe.python.solution_base.SolutionOutputs'> 350\n",
            "<class 'mediapipe.python.solution_base.SolutionOutputs'> 351\n",
            "<class 'mediapipe.python.solution_base.SolutionOutputs'> 352\n",
            "<class 'mediapipe.python.solution_base.SolutionOutputs'> 353\n",
            "<class 'mediapipe.python.solution_base.SolutionOutputs'> 354\n",
            "<class 'mediapipe.python.solution_base.SolutionOutputs'> 355\n",
            "<class 'mediapipe.python.solution_base.SolutionOutputs'> 356\n",
            "<class 'mediapipe.python.solution_base.SolutionOutputs'> 357\n",
            "<class 'mediapipe.python.solution_base.SolutionOutputs'> 358\n",
            "<class 'mediapipe.python.solution_base.SolutionOutputs'> 359\n",
            "<class 'mediapipe.python.solution_base.SolutionOutputs'> 360\n",
            "<class 'mediapipe.python.solution_base.SolutionOutputs'> 361\n",
            "<class 'mediapipe.python.solution_base.SolutionOutputs'> 362\n",
            "<class 'mediapipe.python.solution_base.SolutionOutputs'> 363\n",
            "<class 'mediapipe.python.solution_base.SolutionOutputs'> 364\n",
            "<class 'mediapipe.python.solution_base.SolutionOutputs'> 365\n",
            "<class 'mediapipe.python.solution_base.SolutionOutputs'> 366\n",
            "<class 'mediapipe.python.solution_base.SolutionOutputs'> 367\n",
            "<class 'mediapipe.python.solution_base.SolutionOutputs'> 368\n",
            "<class 'mediapipe.python.solution_base.SolutionOutputs'> 369\n",
            "<class 'mediapipe.python.solution_base.SolutionOutputs'> 370\n",
            "<class 'mediapipe.python.solution_base.SolutionOutputs'> 371\n",
            "<class 'mediapipe.python.solution_base.SolutionOutputs'> 372\n",
            "<class 'mediapipe.python.solution_base.SolutionOutputs'> 373\n",
            "<class 'mediapipe.python.solution_base.SolutionOutputs'> 374\n",
            "<class 'mediapipe.python.solution_base.SolutionOutputs'> 375\n",
            "<class 'mediapipe.python.solution_base.SolutionOutputs'> 376\n",
            "<class 'mediapipe.python.solution_base.SolutionOutputs'> 377\n",
            "<class 'mediapipe.python.solution_base.SolutionOutputs'> 378\n",
            "<class 'mediapipe.python.solution_base.SolutionOutputs'> 379\n",
            "<class 'mediapipe.python.solution_base.SolutionOutputs'> 380\n",
            "<class 'mediapipe.python.solution_base.SolutionOutputs'> 381\n",
            "<class 'mediapipe.python.solution_base.SolutionOutputs'> 382\n",
            "<class 'mediapipe.python.solution_base.SolutionOutputs'> 383\n",
            "<class 'mediapipe.python.solution_base.SolutionOutputs'> 384\n",
            "<class 'mediapipe.python.solution_base.SolutionOutputs'> 385\n",
            "<class 'mediapipe.python.solution_base.SolutionOutputs'> 386\n",
            "<class 'mediapipe.python.solution_base.SolutionOutputs'> 387\n",
            "<class 'mediapipe.python.solution_base.SolutionOutputs'> 388\n",
            "<class 'mediapipe.python.solution_base.SolutionOutputs'> 389\n",
            "<class 'mediapipe.python.solution_base.SolutionOutputs'> 390\n",
            "<class 'mediapipe.python.solution_base.SolutionOutputs'> 391\n",
            "<class 'mediapipe.python.solution_base.SolutionOutputs'> 392\n",
            "<class 'mediapipe.python.solution_base.SolutionOutputs'> 393\n",
            "<class 'mediapipe.python.solution_base.SolutionOutputs'> 394\n",
            "<class 'mediapipe.python.solution_base.SolutionOutputs'> 395\n",
            "<class 'mediapipe.python.solution_base.SolutionOutputs'> 396\n",
            "<class 'mediapipe.python.solution_base.SolutionOutputs'> 397\n",
            "<class 'mediapipe.python.solution_base.SolutionOutputs'> 398\n",
            "<class 'mediapipe.python.solution_base.SolutionOutputs'> 399\n",
            "<class 'mediapipe.python.solution_base.SolutionOutputs'> 400\n",
            "<class 'mediapipe.python.solution_base.SolutionOutputs'> 401\n",
            "<class 'mediapipe.python.solution_base.SolutionOutputs'> 402\n",
            "<class 'mediapipe.python.solution_base.SolutionOutputs'> 403\n",
            "<class 'mediapipe.python.solution_base.SolutionOutputs'> 404\n",
            "<class 'mediapipe.python.solution_base.SolutionOutputs'> 405\n",
            "<class 'mediapipe.python.solution_base.SolutionOutputs'> 406\n",
            "<class 'mediapipe.python.solution_base.SolutionOutputs'> 407\n",
            "<class 'mediapipe.python.solution_base.SolutionOutputs'> 408\n",
            "<class 'mediapipe.python.solution_base.SolutionOutputs'> 409\n",
            "<class 'mediapipe.python.solution_base.SolutionOutputs'> 410\n",
            "<class 'mediapipe.python.solution_base.SolutionOutputs'> 411\n",
            "<class 'mediapipe.python.solution_base.SolutionOutputs'> 412\n",
            "<class 'mediapipe.python.solution_base.SolutionOutputs'> 413\n",
            "<class 'mediapipe.python.solution_base.SolutionOutputs'> 414\n",
            "<class 'mediapipe.python.solution_base.SolutionOutputs'> 415\n",
            "<class 'mediapipe.python.solution_base.SolutionOutputs'> 416\n",
            "<class 'mediapipe.python.solution_base.SolutionOutputs'> 417\n",
            "<class 'mediapipe.python.solution_base.SolutionOutputs'> 418\n",
            "<class 'mediapipe.python.solution_base.SolutionOutputs'> 419\n",
            "<class 'mediapipe.python.solution_base.SolutionOutputs'> 420\n",
            "<class 'mediapipe.python.solution_base.SolutionOutputs'> 421\n",
            "<class 'mediapipe.python.solution_base.SolutionOutputs'> 422\n",
            "<class 'mediapipe.python.solution_base.SolutionOutputs'> 423\n",
            "<class 'mediapipe.python.solution_base.SolutionOutputs'> 424\n",
            "<class 'mediapipe.python.solution_base.SolutionOutputs'> 425\n",
            "<class 'mediapipe.python.solution_base.SolutionOutputs'> 426\n",
            "<class 'mediapipe.python.solution_base.SolutionOutputs'> 427\n",
            "<class 'mediapipe.python.solution_base.SolutionOutputs'> 428\n",
            "<class 'mediapipe.python.solution_base.SolutionOutputs'> 429\n",
            "<class 'mediapipe.python.solution_base.SolutionOutputs'> 430\n",
            "<class 'mediapipe.python.solution_base.SolutionOutputs'> 431\n",
            "<class 'mediapipe.python.solution_base.SolutionOutputs'> 432\n",
            "<class 'mediapipe.python.solution_base.SolutionOutputs'> 433\n",
            "<class 'mediapipe.python.solution_base.SolutionOutputs'> 434\n",
            "<class 'mediapipe.python.solution_base.SolutionOutputs'> 435\n",
            "<class 'mediapipe.python.solution_base.SolutionOutputs'> 436\n",
            "<class 'mediapipe.python.solution_base.SolutionOutputs'> 437\n",
            "<class 'mediapipe.python.solution_base.SolutionOutputs'> 438\n",
            "<class 'mediapipe.python.solution_base.SolutionOutputs'> 439\n",
            "<class 'mediapipe.python.solution_base.SolutionOutputs'> 440\n",
            "<class 'mediapipe.python.solution_base.SolutionOutputs'> 441\n",
            "<class 'mediapipe.python.solution_base.SolutionOutputs'> 442\n",
            "<class 'mediapipe.python.solution_base.SolutionOutputs'> 443\n",
            "<class 'mediapipe.python.solution_base.SolutionOutputs'> 444\n",
            "<class 'mediapipe.python.solution_base.SolutionOutputs'> 445\n",
            "<class 'mediapipe.python.solution_base.SolutionOutputs'> 446\n",
            "<class 'mediapipe.python.solution_base.SolutionOutputs'> 447\n",
            "<class 'mediapipe.python.solution_base.SolutionOutputs'> 448\n",
            "<class 'mediapipe.python.solution_base.SolutionOutputs'> 449\n",
            "<class 'mediapipe.python.solution_base.SolutionOutputs'> 450\n",
            "<class 'mediapipe.python.solution_base.SolutionOutputs'> 451\n",
            "<class 'mediapipe.python.solution_base.SolutionOutputs'> 452\n",
            "<class 'mediapipe.python.solution_base.SolutionOutputs'> 453\n",
            "<class 'mediapipe.python.solution_base.SolutionOutputs'> 454\n",
            "<class 'mediapipe.python.solution_base.SolutionOutputs'> 455\n",
            "<class 'mediapipe.python.solution_base.SolutionOutputs'> 456\n",
            "<class 'mediapipe.python.solution_base.SolutionOutputs'> 457\n",
            "<class 'mediapipe.python.solution_base.SolutionOutputs'> 458\n",
            "<class 'mediapipe.python.solution_base.SolutionOutputs'> 459\n",
            "<class 'mediapipe.python.solution_base.SolutionOutputs'> 460\n",
            "<class 'mediapipe.python.solution_base.SolutionOutputs'> 461\n",
            "<class 'mediapipe.python.solution_base.SolutionOutputs'> 462\n",
            "<class 'mediapipe.python.solution_base.SolutionOutputs'> 463\n",
            "<class 'mediapipe.python.solution_base.SolutionOutputs'> 464\n",
            "<class 'mediapipe.python.solution_base.SolutionOutputs'> 465\n",
            "<class 'mediapipe.python.solution_base.SolutionOutputs'> 466\n",
            "<class 'mediapipe.python.solution_base.SolutionOutputs'> 467\n",
            "<class 'mediapipe.python.solution_base.SolutionOutputs'> 468\n",
            "<class 'mediapipe.python.solution_base.SolutionOutputs'> 469\n",
            "<class 'mediapipe.python.solution_base.SolutionOutputs'> 470\n",
            "<class 'mediapipe.python.solution_base.SolutionOutputs'> 471\n",
            "<class 'mediapipe.python.solution_base.SolutionOutputs'> 472\n",
            "<class 'mediapipe.python.solution_base.SolutionOutputs'> 473\n",
            "<class 'mediapipe.python.solution_base.SolutionOutputs'> 474\n",
            "<class 'mediapipe.python.solution_base.SolutionOutputs'> 475\n",
            "<class 'mediapipe.python.solution_base.SolutionOutputs'> 476\n",
            "<class 'mediapipe.python.solution_base.SolutionOutputs'> 477\n",
            "<class 'mediapipe.python.solution_base.SolutionOutputs'> 478\n",
            "<class 'mediapipe.python.solution_base.SolutionOutputs'> 479\n",
            "<class 'mediapipe.python.solution_base.SolutionOutputs'> 480\n",
            "<class 'mediapipe.python.solution_base.SolutionOutputs'> 481\n",
            "<class 'mediapipe.python.solution_base.SolutionOutputs'> 482\n",
            "<class 'mediapipe.python.solution_base.SolutionOutputs'> 483\n",
            "<class 'mediapipe.python.solution_base.SolutionOutputs'> 484\n",
            "<class 'mediapipe.python.solution_base.SolutionOutputs'> 485\n",
            "<class 'mediapipe.python.solution_base.SolutionOutputs'> 486\n",
            "<class 'mediapipe.python.solution_base.SolutionOutputs'> 487\n",
            "<class 'mediapipe.python.solution_base.SolutionOutputs'> 488\n",
            "<class 'mediapipe.python.solution_base.SolutionOutputs'> 489\n",
            "<class 'mediapipe.python.solution_base.SolutionOutputs'> 490\n",
            "<class 'mediapipe.python.solution_base.SolutionOutputs'> 491\n",
            "<class 'mediapipe.python.solution_base.SolutionOutputs'> 492\n",
            "<class 'mediapipe.python.solution_base.SolutionOutputs'> 493\n",
            "<class 'mediapipe.python.solution_base.SolutionOutputs'> 494\n",
            "<class 'mediapipe.python.solution_base.SolutionOutputs'> 495\n",
            "<class 'mediapipe.python.solution_base.SolutionOutputs'> 496\n",
            "<class 'mediapipe.python.solution_base.SolutionOutputs'> 497\n",
            "<class 'mediapipe.python.solution_base.SolutionOutputs'> 498\n",
            "<class 'mediapipe.python.solution_base.SolutionOutputs'> 499\n",
            "<class 'mediapipe.python.solution_base.SolutionOutputs'> 500\n",
            "<class 'mediapipe.python.solution_base.SolutionOutputs'> 501\n",
            "<class 'mediapipe.python.solution_base.SolutionOutputs'> 502\n",
            "<class 'mediapipe.python.solution_base.SolutionOutputs'> 503\n",
            "<class 'mediapipe.python.solution_base.SolutionOutputs'> 504\n",
            "<class 'mediapipe.python.solution_base.SolutionOutputs'> 505\n",
            "<class 'mediapipe.python.solution_base.SolutionOutputs'> 506\n",
            "<class 'mediapipe.python.solution_base.SolutionOutputs'> 507\n",
            "<class 'mediapipe.python.solution_base.SolutionOutputs'> 508\n",
            "<class 'mediapipe.python.solution_base.SolutionOutputs'> 509\n",
            "<class 'mediapipe.python.solution_base.SolutionOutputs'> 510\n",
            "<class 'mediapipe.python.solution_base.SolutionOutputs'> 511\n",
            "<class 'mediapipe.python.solution_base.SolutionOutputs'> 512\n",
            "<class 'mediapipe.python.solution_base.SolutionOutputs'> 513\n",
            "<class 'mediapipe.python.solution_base.SolutionOutputs'> 514\n",
            "<class 'mediapipe.python.solution_base.SolutionOutputs'> 515\n",
            "<class 'mediapipe.python.solution_base.SolutionOutputs'> 516\n",
            "<class 'mediapipe.python.solution_base.SolutionOutputs'> 517\n",
            "<class 'mediapipe.python.solution_base.SolutionOutputs'> 518\n",
            "<class 'mediapipe.python.solution_base.SolutionOutputs'> 519\n",
            "<class 'mediapipe.python.solution_base.SolutionOutputs'> 520\n",
            "<class 'mediapipe.python.solution_base.SolutionOutputs'> 521\n",
            "<class 'mediapipe.python.solution_base.SolutionOutputs'> 522\n",
            "<class 'mediapipe.python.solution_base.SolutionOutputs'> 523\n",
            "<class 'mediapipe.python.solution_base.SolutionOutputs'> 524\n",
            "<class 'mediapipe.python.solution_base.SolutionOutputs'> 525\n",
            "<class 'mediapipe.python.solution_base.SolutionOutputs'> 526\n",
            "<class 'mediapipe.python.solution_base.SolutionOutputs'> 527\n",
            "<class 'mediapipe.python.solution_base.SolutionOutputs'> 528\n",
            "<class 'mediapipe.python.solution_base.SolutionOutputs'> 529\n",
            "<class 'mediapipe.python.solution_base.SolutionOutputs'> 530\n",
            "<class 'mediapipe.python.solution_base.SolutionOutputs'> 531\n",
            "<class 'mediapipe.python.solution_base.SolutionOutputs'> 532\n",
            "<class 'mediapipe.python.solution_base.SolutionOutputs'> 533\n",
            "<class 'mediapipe.python.solution_base.SolutionOutputs'> 534\n",
            "<class 'mediapipe.python.solution_base.SolutionOutputs'> 535\n",
            "<class 'mediapipe.python.solution_base.SolutionOutputs'> 536\n",
            "<class 'mediapipe.python.solution_base.SolutionOutputs'> 537\n",
            "<class 'mediapipe.python.solution_base.SolutionOutputs'> 538\n",
            "<class 'mediapipe.python.solution_base.SolutionOutputs'> 539\n",
            "<class 'mediapipe.python.solution_base.SolutionOutputs'> 540\n",
            "<class 'mediapipe.python.solution_base.SolutionOutputs'> 541\n",
            "<class 'mediapipe.python.solution_base.SolutionOutputs'> 542\n",
            "<class 'mediapipe.python.solution_base.SolutionOutputs'> 543\n",
            "<class 'mediapipe.python.solution_base.SolutionOutputs'> 544\n",
            "<class 'mediapipe.python.solution_base.SolutionOutputs'> 545\n",
            "<class 'mediapipe.python.solution_base.SolutionOutputs'> 546\n",
            "<class 'mediapipe.python.solution_base.SolutionOutputs'> 547\n",
            "<class 'mediapipe.python.solution_base.SolutionOutputs'> 548\n",
            "<class 'mediapipe.python.solution_base.SolutionOutputs'> 549\n",
            "<class 'mediapipe.python.solution_base.SolutionOutputs'> 550\n",
            "<class 'mediapipe.python.solution_base.SolutionOutputs'> 551\n",
            "<class 'mediapipe.python.solution_base.SolutionOutputs'> 552\n",
            "<class 'mediapipe.python.solution_base.SolutionOutputs'> 553\n",
            "<class 'mediapipe.python.solution_base.SolutionOutputs'> 554\n",
            "<class 'mediapipe.python.solution_base.SolutionOutputs'> 555\n",
            "<class 'mediapipe.python.solution_base.SolutionOutputs'> 556\n",
            "<class 'mediapipe.python.solution_base.SolutionOutputs'> 557\n",
            "<class 'mediapipe.python.solution_base.SolutionOutputs'> 558\n",
            "<class 'mediapipe.python.solution_base.SolutionOutputs'> 559\n",
            "<class 'mediapipe.python.solution_base.SolutionOutputs'> 560\n",
            "<class 'mediapipe.python.solution_base.SolutionOutputs'> 561\n",
            "<class 'mediapipe.python.solution_base.SolutionOutputs'> 562\n",
            "<class 'mediapipe.python.solution_base.SolutionOutputs'> 563\n",
            "<class 'mediapipe.python.solution_base.SolutionOutputs'> 564\n",
            "<class 'mediapipe.python.solution_base.SolutionOutputs'> 565\n",
            "<class 'mediapipe.python.solution_base.SolutionOutputs'> 566\n",
            "<class 'mediapipe.python.solution_base.SolutionOutputs'> 567\n",
            "<class 'mediapipe.python.solution_base.SolutionOutputs'> 568\n",
            "<class 'mediapipe.python.solution_base.SolutionOutputs'> 569\n",
            "<class 'mediapipe.python.solution_base.SolutionOutputs'> 570\n",
            "<class 'mediapipe.python.solution_base.SolutionOutputs'> 571\n",
            "<class 'mediapipe.python.solution_base.SolutionOutputs'> 572\n",
            "<class 'mediapipe.python.solution_base.SolutionOutputs'> 573\n",
            "<class 'mediapipe.python.solution_base.SolutionOutputs'> 574\n",
            "<class 'mediapipe.python.solution_base.SolutionOutputs'> 575\n",
            "<class 'mediapipe.python.solution_base.SolutionOutputs'> 576\n",
            "<class 'mediapipe.python.solution_base.SolutionOutputs'> 577\n",
            "<class 'mediapipe.python.solution_base.SolutionOutputs'> 578\n",
            "<class 'mediapipe.python.solution_base.SolutionOutputs'> 579\n",
            "<class 'mediapipe.python.solution_base.SolutionOutputs'> 580\n",
            "<class 'mediapipe.python.solution_base.SolutionOutputs'> 581\n",
            "<class 'mediapipe.python.solution_base.SolutionOutputs'> 582\n",
            "<class 'mediapipe.python.solution_base.SolutionOutputs'> 583\n",
            "<class 'mediapipe.python.solution_base.SolutionOutputs'> 584\n",
            "<class 'mediapipe.python.solution_base.SolutionOutputs'> 585\n",
            "<class 'mediapipe.python.solution_base.SolutionOutputs'> 586\n",
            "<class 'mediapipe.python.solution_base.SolutionOutputs'> 587\n",
            "<class 'mediapipe.python.solution_base.SolutionOutputs'> 588\n",
            "<class 'mediapipe.python.solution_base.SolutionOutputs'> 589\n",
            "<class 'mediapipe.python.solution_base.SolutionOutputs'> 590\n",
            "<class 'mediapipe.python.solution_base.SolutionOutputs'> 591\n",
            "<class 'mediapipe.python.solution_base.SolutionOutputs'> 592\n",
            "<class 'mediapipe.python.solution_base.SolutionOutputs'> 593\n",
            "<class 'mediapipe.python.solution_base.SolutionOutputs'> 594\n",
            "<class 'mediapipe.python.solution_base.SolutionOutputs'> 595\n",
            "<class 'mediapipe.python.solution_base.SolutionOutputs'> 596\n",
            "<class 'mediapipe.python.solution_base.SolutionOutputs'> 597\n",
            "<class 'mediapipe.python.solution_base.SolutionOutputs'> 598\n",
            "<class 'mediapipe.python.solution_base.SolutionOutputs'> 599\n",
            "<class 'mediapipe.python.solution_base.SolutionOutputs'> 600\n",
            "<class 'mediapipe.python.solution_base.SolutionOutputs'> 601\n",
            "<class 'mediapipe.python.solution_base.SolutionOutputs'> 602\n",
            "<class 'mediapipe.python.solution_base.SolutionOutputs'> 603\n",
            "<class 'mediapipe.python.solution_base.SolutionOutputs'> 604\n",
            "<class 'mediapipe.python.solution_base.SolutionOutputs'> 605\n",
            "<class 'mediapipe.python.solution_base.SolutionOutputs'> 606\n",
            "<class 'mediapipe.python.solution_base.SolutionOutputs'> 607\n",
            "<class 'mediapipe.python.solution_base.SolutionOutputs'> 608\n",
            "<class 'mediapipe.python.solution_base.SolutionOutputs'> 609\n",
            "<class 'mediapipe.python.solution_base.SolutionOutputs'> 610\n",
            "<class 'mediapipe.python.solution_base.SolutionOutputs'> 611\n",
            "<class 'mediapipe.python.solution_base.SolutionOutputs'> 612\n",
            "<class 'mediapipe.python.solution_base.SolutionOutputs'> 613\n",
            "<class 'mediapipe.python.solution_base.SolutionOutputs'> 614\n",
            "<class 'mediapipe.python.solution_base.SolutionOutputs'> 615\n",
            "<class 'mediapipe.python.solution_base.SolutionOutputs'> 616\n",
            "<class 'mediapipe.python.solution_base.SolutionOutputs'> 617\n",
            "<class 'mediapipe.python.solution_base.SolutionOutputs'> 618\n",
            "<class 'mediapipe.python.solution_base.SolutionOutputs'> 619\n",
            "<class 'mediapipe.python.solution_base.SolutionOutputs'> 620\n",
            "<class 'mediapipe.python.solution_base.SolutionOutputs'> 621\n",
            "<class 'mediapipe.python.solution_base.SolutionOutputs'> 622\n",
            "<class 'mediapipe.python.solution_base.SolutionOutputs'> 623\n",
            "<class 'mediapipe.python.solution_base.SolutionOutputs'> 624\n",
            "<class 'mediapipe.python.solution_base.SolutionOutputs'> 625\n",
            "<class 'mediapipe.python.solution_base.SolutionOutputs'> 626\n",
            "<class 'mediapipe.python.solution_base.SolutionOutputs'> 627\n",
            "<class 'mediapipe.python.solution_base.SolutionOutputs'> 628\n",
            "<class 'mediapipe.python.solution_base.SolutionOutputs'> 629\n",
            "<class 'mediapipe.python.solution_base.SolutionOutputs'> 630\n",
            "<class 'mediapipe.python.solution_base.SolutionOutputs'> 631\n",
            "<class 'mediapipe.python.solution_base.SolutionOutputs'> 632\n",
            "<class 'mediapipe.python.solution_base.SolutionOutputs'> 633\n",
            "<class 'mediapipe.python.solution_base.SolutionOutputs'> 634\n",
            "<class 'mediapipe.python.solution_base.SolutionOutputs'> 635\n",
            "<class 'mediapipe.python.solution_base.SolutionOutputs'> 636\n",
            "<class 'mediapipe.python.solution_base.SolutionOutputs'> 637\n",
            "<class 'mediapipe.python.solution_base.SolutionOutputs'> 638\n",
            "<class 'mediapipe.python.solution_base.SolutionOutputs'> 639\n",
            "<class 'mediapipe.python.solution_base.SolutionOutputs'> 640\n",
            "<class 'mediapipe.python.solution_base.SolutionOutputs'> 641\n",
            "<class 'mediapipe.python.solution_base.SolutionOutputs'> 642\n",
            "<class 'mediapipe.python.solution_base.SolutionOutputs'> 643\n",
            "<class 'mediapipe.python.solution_base.SolutionOutputs'> 644\n",
            "<class 'mediapipe.python.solution_base.SolutionOutputs'> 645\n",
            "<class 'mediapipe.python.solution_base.SolutionOutputs'> 646\n",
            "<class 'mediapipe.python.solution_base.SolutionOutputs'> 647\n",
            "<class 'mediapipe.python.solution_base.SolutionOutputs'> 648\n",
            "<class 'mediapipe.python.solution_base.SolutionOutputs'> 649\n",
            "<class 'mediapipe.python.solution_base.SolutionOutputs'> 650\n",
            "<class 'mediapipe.python.solution_base.SolutionOutputs'> 651\n",
            "<class 'mediapipe.python.solution_base.SolutionOutputs'> 652\n",
            "<class 'mediapipe.python.solution_base.SolutionOutputs'> 653\n",
            "<class 'mediapipe.python.solution_base.SolutionOutputs'> 654\n",
            "<class 'mediapipe.python.solution_base.SolutionOutputs'> 655\n",
            "<class 'mediapipe.python.solution_base.SolutionOutputs'> 656\n",
            "<class 'mediapipe.python.solution_base.SolutionOutputs'> 657\n",
            "<class 'mediapipe.python.solution_base.SolutionOutputs'> 658\n",
            "<class 'mediapipe.python.solution_base.SolutionOutputs'> 659\n",
            "<class 'mediapipe.python.solution_base.SolutionOutputs'> 660\n",
            "<class 'mediapipe.python.solution_base.SolutionOutputs'> 661\n",
            "<class 'mediapipe.python.solution_base.SolutionOutputs'> 662\n",
            "<class 'mediapipe.python.solution_base.SolutionOutputs'> 663\n",
            "<class 'mediapipe.python.solution_base.SolutionOutputs'> 664\n",
            "<class 'mediapipe.python.solution_base.SolutionOutputs'> 665\n",
            "<class 'mediapipe.python.solution_base.SolutionOutputs'> 666\n",
            "<class 'mediapipe.python.solution_base.SolutionOutputs'> 667\n",
            "<class 'mediapipe.python.solution_base.SolutionOutputs'> 668\n",
            "<class 'mediapipe.python.solution_base.SolutionOutputs'> 669\n",
            "<class 'mediapipe.python.solution_base.SolutionOutputs'> 670\n",
            "<class 'mediapipe.python.solution_base.SolutionOutputs'> 671\n",
            "<class 'mediapipe.python.solution_base.SolutionOutputs'> 672\n",
            "<class 'mediapipe.python.solution_base.SolutionOutputs'> 673\n",
            "<class 'mediapipe.python.solution_base.SolutionOutputs'> 674\n",
            "<class 'mediapipe.python.solution_base.SolutionOutputs'> 675\n",
            "<class 'mediapipe.python.solution_base.SolutionOutputs'> 676\n",
            "<class 'mediapipe.python.solution_base.SolutionOutputs'> 677\n",
            "<class 'mediapipe.python.solution_base.SolutionOutputs'> 678\n",
            "<class 'mediapipe.python.solution_base.SolutionOutputs'> 679\n",
            "<class 'mediapipe.python.solution_base.SolutionOutputs'> 680\n",
            "<class 'mediapipe.python.solution_base.SolutionOutputs'> 681\n",
            "<class 'mediapipe.python.solution_base.SolutionOutputs'> 682\n",
            "<class 'mediapipe.python.solution_base.SolutionOutputs'> 683\n",
            "<class 'mediapipe.python.solution_base.SolutionOutputs'> 684\n",
            "<class 'mediapipe.python.solution_base.SolutionOutputs'> 685\n",
            "<class 'mediapipe.python.solution_base.SolutionOutputs'> 686\n",
            "<class 'mediapipe.python.solution_base.SolutionOutputs'> 687\n",
            "<class 'mediapipe.python.solution_base.SolutionOutputs'> 688\n",
            "<class 'mediapipe.python.solution_base.SolutionOutputs'> 689\n",
            "<class 'mediapipe.python.solution_base.SolutionOutputs'> 690\n",
            "<class 'mediapipe.python.solution_base.SolutionOutputs'> 691\n",
            "<class 'mediapipe.python.solution_base.SolutionOutputs'> 692\n",
            "<class 'mediapipe.python.solution_base.SolutionOutputs'> 693\n",
            "<class 'mediapipe.python.solution_base.SolutionOutputs'> 694\n",
            "<class 'mediapipe.python.solution_base.SolutionOutputs'> 695\n",
            "<class 'mediapipe.python.solution_base.SolutionOutputs'> 696\n",
            "<class 'mediapipe.python.solution_base.SolutionOutputs'> 697\n",
            "<class 'mediapipe.python.solution_base.SolutionOutputs'> 698\n",
            "<class 'mediapipe.python.solution_base.SolutionOutputs'> 699\n",
            "<class 'mediapipe.python.solution_base.SolutionOutputs'> 700\n",
            "<class 'mediapipe.python.solution_base.SolutionOutputs'> 701\n",
            "<class 'mediapipe.python.solution_base.SolutionOutputs'> 702\n",
            "<class 'mediapipe.python.solution_base.SolutionOutputs'> 703\n",
            "<class 'mediapipe.python.solution_base.SolutionOutputs'> 704\n",
            "<class 'mediapipe.python.solution_base.SolutionOutputs'> 705\n",
            "<class 'mediapipe.python.solution_base.SolutionOutputs'> 706\n",
            "<class 'mediapipe.python.solution_base.SolutionOutputs'> 707\n",
            "<class 'mediapipe.python.solution_base.SolutionOutputs'> 708\n",
            "<class 'mediapipe.python.solution_base.SolutionOutputs'> 709\n",
            "<class 'mediapipe.python.solution_base.SolutionOutputs'> 710\n",
            "<class 'mediapipe.python.solution_base.SolutionOutputs'> 711\n",
            "<class 'mediapipe.python.solution_base.SolutionOutputs'> 712\n",
            "<class 'mediapipe.python.solution_base.SolutionOutputs'> 713\n",
            "<class 'mediapipe.python.solution_base.SolutionOutputs'> 714\n",
            "<class 'mediapipe.python.solution_base.SolutionOutputs'> 715\n",
            "<class 'mediapipe.python.solution_base.SolutionOutputs'> 716\n",
            "<class 'mediapipe.python.solution_base.SolutionOutputs'> 717\n",
            "<class 'mediapipe.python.solution_base.SolutionOutputs'> 718\n",
            "<class 'mediapipe.python.solution_base.SolutionOutputs'> 719\n",
            "<class 'mediapipe.python.solution_base.SolutionOutputs'> 720\n",
            "<class 'mediapipe.python.solution_base.SolutionOutputs'> 721\n",
            "<class 'mediapipe.python.solution_base.SolutionOutputs'> 722\n",
            "<class 'mediapipe.python.solution_base.SolutionOutputs'> 723\n",
            "<class 'mediapipe.python.solution_base.SolutionOutputs'> 724\n",
            "<class 'mediapipe.python.solution_base.SolutionOutputs'> 725\n",
            "<class 'mediapipe.python.solution_base.SolutionOutputs'> 726\n",
            "<class 'mediapipe.python.solution_base.SolutionOutputs'> 727\n",
            "<class 'mediapipe.python.solution_base.SolutionOutputs'> 728\n",
            "<class 'mediapipe.python.solution_base.SolutionOutputs'> 729\n",
            "<class 'mediapipe.python.solution_base.SolutionOutputs'> 730\n",
            "<class 'mediapipe.python.solution_base.SolutionOutputs'> 731\n",
            "<class 'mediapipe.python.solution_base.SolutionOutputs'> 732\n",
            "<class 'mediapipe.python.solution_base.SolutionOutputs'> 733\n",
            "<class 'mediapipe.python.solution_base.SolutionOutputs'> 734\n",
            "<class 'mediapipe.python.solution_base.SolutionOutputs'> 735\n",
            "<class 'mediapipe.python.solution_base.SolutionOutputs'> 736\n",
            "<class 'mediapipe.python.solution_base.SolutionOutputs'> 737\n",
            "<class 'mediapipe.python.solution_base.SolutionOutputs'> 738\n",
            "<class 'mediapipe.python.solution_base.SolutionOutputs'> 739\n",
            "<class 'mediapipe.python.solution_base.SolutionOutputs'> 740\n",
            "<class 'mediapipe.python.solution_base.SolutionOutputs'> 741\n",
            "<class 'mediapipe.python.solution_base.SolutionOutputs'> 742\n",
            "<class 'mediapipe.python.solution_base.SolutionOutputs'> 743\n",
            "<class 'mediapipe.python.solution_base.SolutionOutputs'> 744\n",
            "<class 'mediapipe.python.solution_base.SolutionOutputs'> 745\n",
            "<class 'mediapipe.python.solution_base.SolutionOutputs'> 746\n",
            "<class 'mediapipe.python.solution_base.SolutionOutputs'> 747\n",
            "<class 'mediapipe.python.solution_base.SolutionOutputs'> 748\n",
            "<class 'mediapipe.python.solution_base.SolutionOutputs'> 749\n",
            "<class 'mediapipe.python.solution_base.SolutionOutputs'> 750\n",
            "<class 'mediapipe.python.solution_base.SolutionOutputs'> 751\n",
            "<class 'mediapipe.python.solution_base.SolutionOutputs'> 752\n",
            "<class 'mediapipe.python.solution_base.SolutionOutputs'> 753\n",
            "<class 'mediapipe.python.solution_base.SolutionOutputs'> 754\n",
            "<class 'mediapipe.python.solution_base.SolutionOutputs'> 755\n",
            "<class 'mediapipe.python.solution_base.SolutionOutputs'> 756\n",
            "<class 'mediapipe.python.solution_base.SolutionOutputs'> 757\n",
            "<class 'mediapipe.python.solution_base.SolutionOutputs'> 758\n",
            "<class 'mediapipe.python.solution_base.SolutionOutputs'> 759\n",
            "<class 'mediapipe.python.solution_base.SolutionOutputs'> 760\n",
            "<class 'mediapipe.python.solution_base.SolutionOutputs'> 761\n",
            "<class 'mediapipe.python.solution_base.SolutionOutputs'> 762\n",
            "<class 'mediapipe.python.solution_base.SolutionOutputs'> 763\n",
            "<class 'mediapipe.python.solution_base.SolutionOutputs'> 764\n",
            "<class 'mediapipe.python.solution_base.SolutionOutputs'> 765\n",
            "<class 'mediapipe.python.solution_base.SolutionOutputs'> 766\n",
            "<class 'mediapipe.python.solution_base.SolutionOutputs'> 767\n",
            "<class 'mediapipe.python.solution_base.SolutionOutputs'> 768\n",
            "<class 'mediapipe.python.solution_base.SolutionOutputs'> 769\n",
            "<class 'mediapipe.python.solution_base.SolutionOutputs'> 770\n",
            "<class 'mediapipe.python.solution_base.SolutionOutputs'> 771\n",
            "<class 'mediapipe.python.solution_base.SolutionOutputs'> 772\n",
            "<class 'mediapipe.python.solution_base.SolutionOutputs'> 773\n",
            "<class 'mediapipe.python.solution_base.SolutionOutputs'> 774\n",
            "<class 'mediapipe.python.solution_base.SolutionOutputs'> 775\n",
            "<class 'mediapipe.python.solution_base.SolutionOutputs'> 776\n",
            "<class 'mediapipe.python.solution_base.SolutionOutputs'> 777\n",
            "<class 'mediapipe.python.solution_base.SolutionOutputs'> 778\n",
            "<class 'mediapipe.python.solution_base.SolutionOutputs'> 779\n",
            "<class 'mediapipe.python.solution_base.SolutionOutputs'> 780\n",
            "<class 'mediapipe.python.solution_base.SolutionOutputs'> 781\n",
            "<class 'mediapipe.python.solution_base.SolutionOutputs'> 782\n",
            "<class 'mediapipe.python.solution_base.SolutionOutputs'> 783\n",
            "<class 'mediapipe.python.solution_base.SolutionOutputs'> 784\n",
            "<class 'mediapipe.python.solution_base.SolutionOutputs'> 785\n",
            "<class 'mediapipe.python.solution_base.SolutionOutputs'> 786\n",
            "<class 'mediapipe.python.solution_base.SolutionOutputs'> 787\n",
            "<class 'mediapipe.python.solution_base.SolutionOutputs'> 788\n",
            "<class 'mediapipe.python.solution_base.SolutionOutputs'> 789\n",
            "<class 'mediapipe.python.solution_base.SolutionOutputs'> 790\n",
            "<class 'mediapipe.python.solution_base.SolutionOutputs'> 791\n",
            "<class 'mediapipe.python.solution_base.SolutionOutputs'> 792\n",
            "<class 'mediapipe.python.solution_base.SolutionOutputs'> 793\n",
            "<class 'mediapipe.python.solution_base.SolutionOutputs'> 794\n",
            "<class 'mediapipe.python.solution_base.SolutionOutputs'> 795\n",
            "<class 'mediapipe.python.solution_base.SolutionOutputs'> 796\n",
            "<class 'mediapipe.python.solution_base.SolutionOutputs'> 797\n",
            "<class 'mediapipe.python.solution_base.SolutionOutputs'> 798\n",
            "<class 'mediapipe.python.solution_base.SolutionOutputs'> 799\n",
            "<class 'mediapipe.python.solution_base.SolutionOutputs'> 800\n",
            "<class 'mediapipe.python.solution_base.SolutionOutputs'> 801\n",
            "<class 'mediapipe.python.solution_base.SolutionOutputs'> 802\n",
            "<class 'mediapipe.python.solution_base.SolutionOutputs'> 803\n",
            "<class 'mediapipe.python.solution_base.SolutionOutputs'> 804\n",
            "<class 'mediapipe.python.solution_base.SolutionOutputs'> 805\n",
            "<class 'mediapipe.python.solution_base.SolutionOutputs'> 806\n",
            "<class 'mediapipe.python.solution_base.SolutionOutputs'> 807\n",
            "<class 'mediapipe.python.solution_base.SolutionOutputs'> 808\n",
            "<class 'mediapipe.python.solution_base.SolutionOutputs'> 809\n",
            "<class 'mediapipe.python.solution_base.SolutionOutputs'> 810\n",
            "<class 'mediapipe.python.solution_base.SolutionOutputs'> 811\n",
            "<class 'mediapipe.python.solution_base.SolutionOutputs'> 812\n",
            "<class 'mediapipe.python.solution_base.SolutionOutputs'> 813\n",
            "<class 'mediapipe.python.solution_base.SolutionOutputs'> 814\n",
            "<class 'mediapipe.python.solution_base.SolutionOutputs'> 815\n",
            "<class 'mediapipe.python.solution_base.SolutionOutputs'> 816\n",
            "<class 'mediapipe.python.solution_base.SolutionOutputs'> 817\n",
            "<class 'mediapipe.python.solution_base.SolutionOutputs'> 818\n",
            "<class 'mediapipe.python.solution_base.SolutionOutputs'> 819\n",
            "<class 'mediapipe.python.solution_base.SolutionOutputs'> 820\n",
            "<class 'mediapipe.python.solution_base.SolutionOutputs'> 821\n",
            "<class 'mediapipe.python.solution_base.SolutionOutputs'> 822\n",
            "<class 'mediapipe.python.solution_base.SolutionOutputs'> 823\n",
            "<class 'mediapipe.python.solution_base.SolutionOutputs'> 824\n",
            "<class 'mediapipe.python.solution_base.SolutionOutputs'> 825\n",
            "<class 'mediapipe.python.solution_base.SolutionOutputs'> 826\n",
            "<class 'mediapipe.python.solution_base.SolutionOutputs'> 827\n",
            "<class 'mediapipe.python.solution_base.SolutionOutputs'> 828\n",
            "<class 'mediapipe.python.solution_base.SolutionOutputs'> 829\n",
            "<class 'mediapipe.python.solution_base.SolutionOutputs'> 830\n",
            "<class 'mediapipe.python.solution_base.SolutionOutputs'> 831\n",
            "<class 'mediapipe.python.solution_base.SolutionOutputs'> 832\n",
            "<class 'mediapipe.python.solution_base.SolutionOutputs'> 833\n",
            "<class 'mediapipe.python.solution_base.SolutionOutputs'> 834\n",
            "<class 'mediapipe.python.solution_base.SolutionOutputs'> 835\n",
            "<class 'mediapipe.python.solution_base.SolutionOutputs'> 836\n",
            "<class 'mediapipe.python.solution_base.SolutionOutputs'> 837\n",
            "<class 'mediapipe.python.solution_base.SolutionOutputs'> 838\n",
            "<class 'mediapipe.python.solution_base.SolutionOutputs'> 839\n",
            "<class 'mediapipe.python.solution_base.SolutionOutputs'> 840\n",
            "<class 'mediapipe.python.solution_base.SolutionOutputs'> 841\n",
            "<class 'mediapipe.python.solution_base.SolutionOutputs'> 842\n",
            "<class 'mediapipe.python.solution_base.SolutionOutputs'> 843\n",
            "<class 'mediapipe.python.solution_base.SolutionOutputs'> 844\n",
            "<class 'mediapipe.python.solution_base.SolutionOutputs'> 845\n",
            "<class 'mediapipe.python.solution_base.SolutionOutputs'> 846\n",
            "<class 'mediapipe.python.solution_base.SolutionOutputs'> 847\n",
            "<class 'mediapipe.python.solution_base.SolutionOutputs'> 848\n",
            "<class 'mediapipe.python.solution_base.SolutionOutputs'> 849\n",
            "<class 'mediapipe.python.solution_base.SolutionOutputs'> 850\n",
            "<class 'mediapipe.python.solution_base.SolutionOutputs'> 851\n",
            "<class 'mediapipe.python.solution_base.SolutionOutputs'> 852\n",
            "<class 'mediapipe.python.solution_base.SolutionOutputs'> 853\n",
            "<class 'mediapipe.python.solution_base.SolutionOutputs'> 854\n",
            "<class 'mediapipe.python.solution_base.SolutionOutputs'> 855\n",
            "<class 'mediapipe.python.solution_base.SolutionOutputs'> 856\n",
            "<class 'mediapipe.python.solution_base.SolutionOutputs'> 857\n",
            "<class 'mediapipe.python.solution_base.SolutionOutputs'> 858\n",
            "<class 'mediapipe.python.solution_base.SolutionOutputs'> 859\n",
            "<class 'mediapipe.python.solution_base.SolutionOutputs'> 860\n",
            "<class 'mediapipe.python.solution_base.SolutionOutputs'> 861\n",
            "<class 'mediapipe.python.solution_base.SolutionOutputs'> 862\n",
            "<class 'mediapipe.python.solution_base.SolutionOutputs'> 863\n",
            "<class 'mediapipe.python.solution_base.SolutionOutputs'> 864\n",
            "<class 'mediapipe.python.solution_base.SolutionOutputs'> 865\n",
            "<class 'mediapipe.python.solution_base.SolutionOutputs'> 866\n",
            "<class 'mediapipe.python.solution_base.SolutionOutputs'> 867\n",
            "<class 'mediapipe.python.solution_base.SolutionOutputs'> 868\n",
            "<class 'mediapipe.python.solution_base.SolutionOutputs'> 869\n",
            "<class 'mediapipe.python.solution_base.SolutionOutputs'> 870\n",
            "<class 'mediapipe.python.solution_base.SolutionOutputs'> 871\n",
            "<class 'mediapipe.python.solution_base.SolutionOutputs'> 872\n",
            "<class 'mediapipe.python.solution_base.SolutionOutputs'> 873\n",
            "<class 'mediapipe.python.solution_base.SolutionOutputs'> 874\n",
            "<class 'mediapipe.python.solution_base.SolutionOutputs'> 875\n",
            "<class 'mediapipe.python.solution_base.SolutionOutputs'> 876\n",
            "<class 'mediapipe.python.solution_base.SolutionOutputs'> 877\n",
            "<class 'mediapipe.python.solution_base.SolutionOutputs'> 878\n",
            "<class 'mediapipe.python.solution_base.SolutionOutputs'> 879\n",
            "<class 'mediapipe.python.solution_base.SolutionOutputs'> 880\n",
            "<class 'mediapipe.python.solution_base.SolutionOutputs'> 881\n",
            "<class 'mediapipe.python.solution_base.SolutionOutputs'> 882\n",
            "<class 'mediapipe.python.solution_base.SolutionOutputs'> 883\n",
            "<class 'mediapipe.python.solution_base.SolutionOutputs'> 884\n",
            "<class 'mediapipe.python.solution_base.SolutionOutputs'> 885\n",
            "<class 'mediapipe.python.solution_base.SolutionOutputs'> 886\n",
            "<class 'mediapipe.python.solution_base.SolutionOutputs'> 887\n",
            "<class 'mediapipe.python.solution_base.SolutionOutputs'> 888\n",
            "<class 'mediapipe.python.solution_base.SolutionOutputs'> 889\n",
            "<class 'mediapipe.python.solution_base.SolutionOutputs'> 890\n",
            "<class 'mediapipe.python.solution_base.SolutionOutputs'> 891\n",
            "<class 'mediapipe.python.solution_base.SolutionOutputs'> 892\n",
            "<class 'mediapipe.python.solution_base.SolutionOutputs'> 893\n",
            "<class 'mediapipe.python.solution_base.SolutionOutputs'> 894\n",
            "<class 'mediapipe.python.solution_base.SolutionOutputs'> 895\n",
            "<class 'mediapipe.python.solution_base.SolutionOutputs'> 896\n",
            "<class 'mediapipe.python.solution_base.SolutionOutputs'> 897\n",
            "<class 'mediapipe.python.solution_base.SolutionOutputs'> 898\n",
            "<class 'mediapipe.python.solution_base.SolutionOutputs'> 899\n",
            "<class 'mediapipe.python.solution_base.SolutionOutputs'> 900\n",
            "<class 'mediapipe.python.solution_base.SolutionOutputs'> 901\n",
            "<class 'mediapipe.python.solution_base.SolutionOutputs'> 902\n",
            "<class 'mediapipe.python.solution_base.SolutionOutputs'> 903\n",
            "<class 'mediapipe.python.solution_base.SolutionOutputs'> 904\n",
            "<class 'mediapipe.python.solution_base.SolutionOutputs'> 905\n",
            "<class 'mediapipe.python.solution_base.SolutionOutputs'> 906\n",
            "<class 'mediapipe.python.solution_base.SolutionOutputs'> 907\n",
            "<class 'mediapipe.python.solution_base.SolutionOutputs'> 908\n",
            "<class 'mediapipe.python.solution_base.SolutionOutputs'> 909\n",
            "<class 'mediapipe.python.solution_base.SolutionOutputs'> 910\n",
            "<class 'mediapipe.python.solution_base.SolutionOutputs'> 911\n",
            "<class 'mediapipe.python.solution_base.SolutionOutputs'> 912\n",
            "<class 'mediapipe.python.solution_base.SolutionOutputs'> 913\n",
            "<class 'mediapipe.python.solution_base.SolutionOutputs'> 914\n",
            "<class 'mediapipe.python.solution_base.SolutionOutputs'> 915\n",
            "<class 'mediapipe.python.solution_base.SolutionOutputs'> 916\n",
            "<class 'mediapipe.python.solution_base.SolutionOutputs'> 917\n",
            "<class 'mediapipe.python.solution_base.SolutionOutputs'> 918\n",
            "<class 'mediapipe.python.solution_base.SolutionOutputs'> 919\n",
            "<class 'mediapipe.python.solution_base.SolutionOutputs'> 920\n",
            "<class 'mediapipe.python.solution_base.SolutionOutputs'> 921\n",
            "<class 'mediapipe.python.solution_base.SolutionOutputs'> 922\n",
            "<class 'mediapipe.python.solution_base.SolutionOutputs'> 923\n",
            "<class 'mediapipe.python.solution_base.SolutionOutputs'> 924\n",
            "<class 'mediapipe.python.solution_base.SolutionOutputs'> 925\n",
            "<class 'mediapipe.python.solution_base.SolutionOutputs'> 926\n",
            "<class 'mediapipe.python.solution_base.SolutionOutputs'> 927\n",
            "<class 'mediapipe.python.solution_base.SolutionOutputs'> 928\n",
            "<class 'mediapipe.python.solution_base.SolutionOutputs'> 929\n",
            "<class 'mediapipe.python.solution_base.SolutionOutputs'> 930\n",
            "<class 'mediapipe.python.solution_base.SolutionOutputs'> 931\n",
            "<class 'mediapipe.python.solution_base.SolutionOutputs'> 932\n",
            "<class 'mediapipe.python.solution_base.SolutionOutputs'> 933\n",
            "<class 'mediapipe.python.solution_base.SolutionOutputs'> 934\n",
            "<class 'mediapipe.python.solution_base.SolutionOutputs'> 935\n",
            "<class 'mediapipe.python.solution_base.SolutionOutputs'> 936\n",
            "<class 'mediapipe.python.solution_base.SolutionOutputs'> 937\n",
            "<class 'mediapipe.python.solution_base.SolutionOutputs'> 938\n",
            "<class 'mediapipe.python.solution_base.SolutionOutputs'> 939\n",
            "<class 'mediapipe.python.solution_base.SolutionOutputs'> 940\n",
            "<class 'mediapipe.python.solution_base.SolutionOutputs'> 941\n",
            "<class 'mediapipe.python.solution_base.SolutionOutputs'> 942\n",
            "<class 'mediapipe.python.solution_base.SolutionOutputs'> 943\n",
            "<class 'mediapipe.python.solution_base.SolutionOutputs'> 944\n",
            "<class 'mediapipe.python.solution_base.SolutionOutputs'> 945\n",
            "<class 'mediapipe.python.solution_base.SolutionOutputs'> 946\n",
            "<class 'mediapipe.python.solution_base.SolutionOutputs'> 947\n",
            "<class 'mediapipe.python.solution_base.SolutionOutputs'> 948\n",
            "<class 'mediapipe.python.solution_base.SolutionOutputs'> 949\n",
            "<class 'mediapipe.python.solution_base.SolutionOutputs'> 950\n",
            "<class 'mediapipe.python.solution_base.SolutionOutputs'> 951\n",
            "<class 'mediapipe.python.solution_base.SolutionOutputs'> 952\n",
            "<class 'mediapipe.python.solution_base.SolutionOutputs'> 953\n",
            "<class 'mediapipe.python.solution_base.SolutionOutputs'> 954\n",
            "<class 'mediapipe.python.solution_base.SolutionOutputs'> 955\n",
            "<class 'mediapipe.python.solution_base.SolutionOutputs'> 956\n",
            "<class 'mediapipe.python.solution_base.SolutionOutputs'> 957\n",
            "<class 'mediapipe.python.solution_base.SolutionOutputs'> 958\n",
            "<class 'mediapipe.python.solution_base.SolutionOutputs'> 959\n",
            "<class 'mediapipe.python.solution_base.SolutionOutputs'> 960\n",
            "<class 'mediapipe.python.solution_base.SolutionOutputs'> 961\n",
            "<class 'mediapipe.python.solution_base.SolutionOutputs'> 962\n",
            "<class 'mediapipe.python.solution_base.SolutionOutputs'> 963\n",
            "<class 'mediapipe.python.solution_base.SolutionOutputs'> 964\n",
            "<class 'mediapipe.python.solution_base.SolutionOutputs'> 965\n",
            "<class 'mediapipe.python.solution_base.SolutionOutputs'> 966\n",
            "<class 'mediapipe.python.solution_base.SolutionOutputs'> 967\n",
            "<class 'mediapipe.python.solution_base.SolutionOutputs'> 968\n",
            "<class 'mediapipe.python.solution_base.SolutionOutputs'> 969\n",
            "<class 'mediapipe.python.solution_base.SolutionOutputs'> 970\n",
            "<class 'mediapipe.python.solution_base.SolutionOutputs'> 971\n",
            "<class 'mediapipe.python.solution_base.SolutionOutputs'> 972\n",
            "<class 'mediapipe.python.solution_base.SolutionOutputs'> 973\n",
            "<class 'mediapipe.python.solution_base.SolutionOutputs'> 974\n",
            "<class 'mediapipe.python.solution_base.SolutionOutputs'> 975\n",
            "<class 'mediapipe.python.solution_base.SolutionOutputs'> 976\n",
            "<class 'mediapipe.python.solution_base.SolutionOutputs'> 977\n",
            "<class 'mediapipe.python.solution_base.SolutionOutputs'> 978\n",
            "<class 'mediapipe.python.solution_base.SolutionOutputs'> 979\n",
            "<class 'mediapipe.python.solution_base.SolutionOutputs'> 980\n",
            "<class 'mediapipe.python.solution_base.SolutionOutputs'> 981\n",
            "<class 'mediapipe.python.solution_base.SolutionOutputs'> 982\n",
            "<class 'mediapipe.python.solution_base.SolutionOutputs'> 983\n",
            "<class 'mediapipe.python.solution_base.SolutionOutputs'> 984\n",
            "<class 'mediapipe.python.solution_base.SolutionOutputs'> 985\n",
            "<class 'mediapipe.python.solution_base.SolutionOutputs'> 986\n",
            "<class 'mediapipe.python.solution_base.SolutionOutputs'> 987\n",
            "<class 'mediapipe.python.solution_base.SolutionOutputs'> 988\n",
            "<class 'mediapipe.python.solution_base.SolutionOutputs'> 989\n",
            "<class 'mediapipe.python.solution_base.SolutionOutputs'> 990\n",
            "<class 'mediapipe.python.solution_base.SolutionOutputs'> 991\n",
            "<class 'mediapipe.python.solution_base.SolutionOutputs'> 992\n",
            "<class 'mediapipe.python.solution_base.SolutionOutputs'> 993\n",
            "<class 'mediapipe.python.solution_base.SolutionOutputs'> 994\n",
            "<class 'mediapipe.python.solution_base.SolutionOutputs'> 995\n",
            "<class 'mediapipe.python.solution_base.SolutionOutputs'> 996\n",
            "<class 'mediapipe.python.solution_base.SolutionOutputs'> 997\n",
            "<class 'mediapipe.python.solution_base.SolutionOutputs'> 998\n",
            "<class 'mediapipe.python.solution_base.SolutionOutputs'> 999\n"
          ],
          "name": "stdout"
        }
      ]
    },
    {
      "cell_type": "code",
      "metadata": {
        "colab": {
          "base_uri": "https://localhost:8080/"
        },
        "id": "PgqMslNZJqpI",
        "outputId": "b3fe635a-62b9-4fe3-e21d-d52b921c88b7"
      },
      "source": [
        "len(info1)"
      ],
      "execution_count": null,
      "outputs": [
        {
          "output_type": "execute_result",
          "data": {
            "text/plain": [
              "481"
            ]
          },
          "metadata": {
            "tags": []
          },
          "execution_count": 7
        }
      ]
    },
    {
      "cell_type": "code",
      "metadata": {
        "colab": {
          "base_uri": "https://localhost:8080/"
        },
        "id": "_Ulhxy9aW6hT",
        "outputId": "a6d1d890-b0a0-49d9-c817-5a0f3908e2de"
      },
      "source": [
        "temp = str(info1[0][0][0]).split('}')[:-1]\n",
        "temp"
      ],
      "execution_count": null,
      "outputs": [
        {
          "output_type": "execute_result",
          "data": {
            "text/plain": [
              "['landmark {\\n  x: 0.5287085771560669\\n  y: 0.5467444658279419\\n  z: -0.00010661299165803939\\n',\n",
              " '\\nlandmark {\\n  x: 0.5830560922622681\\n  y: 0.4679906368255615\\n  z: -0.09693589061498642\\n',\n",
              " '\\nlandmark {\\n  x: 0.6013302803039551\\n  y: 0.3391837477684021\\n  z: -0.16414521634578705\\n',\n",
              " '\\nlandmark {\\n  x: 0.5921518802642822\\n  y: 0.23539884388446808\\n  z: -0.22464410960674286\\n',\n",
              " '\\nlandmark {\\n  x: 0.598871648311615\\n  y: 0.1344304233789444\\n  z: -0.27907198667526245\\n',\n",
              " '\\nlandmark {\\n  x: 0.5228242874145508\\n  y: 0.25562289357185364\\n  z: -0.17014357447624207\\n',\n",
              " '\\nlandmark {\\n  x: 0.5069348812103271\\n  y: 0.1984020471572876\\n  z: -0.2803882360458374\\n',\n",
              " '\\nlandmark {\\n  x: 0.527148425579071\\n  y: 0.3066452443599701\\n  z: -0.3000629246234894\\n',\n",
              " '\\nlandmark {\\n  x: 0.5385846495628357\\n  y: 0.3891022205352783\\n  z: -0.2883904278278351\\n',\n",
              " '\\nlandmark {\\n  x: 0.4724941849708557\\n  y: 0.30549758672714233\\n  z: -0.1595868617296219\\n',\n",
              " '\\nlandmark {\\n  x: 0.4515594244003296\\n  y: 0.29208099842071533\\n  z: -0.29002928733825684\\n',\n",
              " '\\nlandmark {\\n  x: 0.48750367760658264\\n  y: 0.4015800654888153\\n  z: -0.3086475431919098\\n',\n",
              " '\\nlandmark {\\n  x: 0.5105423927307129\\n  y: 0.4679850935935974\\n  z: -0.2897166609764099\\n',\n",
              " '\\nlandmark {\\n  x: 0.43327653408050537\\n  y: 0.36588630080223083\\n  z: -0.15930907428264618\\n',\n",
              " '\\nlandmark {\\n  x: 0.41757500171661377\\n  y: 0.38236376643180847\\n  z: -0.2713122069835663\\n',\n",
              " '\\nlandmark {\\n  x: 0.4571278691291809\\n  y: 0.4824388325214386\\n  z: -0.29028600454330444\\n',\n",
              " '\\nlandmark {\\n  x: 0.48045194149017334\\n  y: 0.5418119430541992\\n  z: -0.27106308937072754\\n',\n",
              " '\\nlandmark {\\n  x: 0.40355274081230164\\n  y: 0.43066513538360596\\n  z: -0.1636430025100708\\n',\n",
              " '\\nlandmark {\\n  x: 0.3670414388179779\\n  y: 0.427297979593277\\n  z: -0.24368038773536682\\n',\n",
              " '\\nlandmark {\\n  x: 0.3913542926311493\\n  y: 0.48792564868927\\n  z: -0.27500098943710327\\n',\n",
              " '\\nlandmark {\\n  x: 0.4145047962665558\\n  y: 0.5323717594146729\\n  z: -0.27640530467033386\\n']"
            ]
          },
          "metadata": {
            "tags": []
          },
          "execution_count": 8
        }
      ]
    },
    {
      "cell_type": "markdown",
      "metadata": {
        "id": "jNsV3Vz5x7Ba"
      },
      "source": [
        "#DB화 코드"
      ]
    },
    {
      "cell_type": "code",
      "metadata": {
        "id": "cLWgp8z3M8yl",
        "colab": {
          "base_uri": "https://localhost:8080/"
        },
        "outputId": "d1a1b67f-cf1e-45cb-fa93-8a86e4eb6575"
      },
      "source": [
        "x_list= list()\n",
        "y_list= list()\n",
        "z_list= list()\n",
        "count=0\n",
        "\n",
        "for i in range(len(info1)):\n",
        "  temp = str(info1[i][0][0]).split('}')[:-1]\n",
        "  if len(temp) !=21:\n",
        "    print(info1[i][1])\n",
        "    count+=1\n",
        "  else:\n",
        "    temp2=list()\n",
        "    for j in range(len(temp)):\n",
        "      if j == 0:\n",
        "        x,y,z = temp[j].split('\\n')[1:-1]\n",
        "        temp2.append([float(x[5:]),float(y[5:]),float(z[5:])])\n",
        "      else:\n",
        "        x,y,z = temp[j].split('\\n')[2:-1]\n",
        "        temp2.append([float(x[5:]),float(y[5:]),float(z[5:])])\n",
        "    x_list.append(temp2)\n",
        "    y_list.append(temp2)\n",
        "    z_list.append(temp2)\n",
        "print(count)"
      ],
      "execution_count": null,
      "outputs": [
        {
          "output_type": "stream",
          "text": [
            "0\n"
          ],
          "name": "stdout"
        }
      ]
    },
    {
      "cell_type": "code",
      "metadata": {
        "colab": {
          "base_uri": "https://localhost:8080/"
        },
        "id": "OnOWGkk6jFxu",
        "outputId": "10ef7add-0203-4e93-a8f6-034aa8deba44"
      },
      "source": [
        "#확인코드\n",
        "print(len(x_list))\n",
        "x_list[0][0]"
      ],
      "execution_count": null,
      "outputs": [
        {
          "output_type": "stream",
          "text": [
            "481\n"
          ],
          "name": "stdout"
        },
        {
          "output_type": "execute_result",
          "data": {
            "text/plain": [
              "[0.5287085771560669, 0.5467444658279419, -0.00010661299165803939]"
            ]
          },
          "metadata": {
            "tags": []
          },
          "execution_count": 10
        }
      ]
    },
    {
      "cell_type": "code",
      "metadata": {
        "id": "scz59rFzwyUZ"
      },
      "source": [
        "#x0,y0,z0,x1,y1,z1,...,x16,y16,z16\n",
        "x_0=[x_list[i][0][0] for i in range (len(x_list))]\n",
        "y_0=[y_list[i][0][1] for i in range (len(x_list))]\n",
        "z_0=[z_list[i][0][2] for i in range (len(x_list))]\n",
        "x_1=[x_list[i][1][0] for i in range (len(x_list))]\n",
        "y_1=[y_list[i][1][1] for i in range (len(x_list))]\n",
        "z_1=[z_list[i][1][2] for i in range (len(x_list))]\n",
        "x_2=[x_list[i][2][0] for i in range (len(x_list))]\n",
        "y_2=[y_list[i][2][1] for i in range (len(x_list))]\n",
        "z_2=[z_list[i][2][2] for i in range (len(x_list))]\n",
        "x_3=[x_list[i][3][0] for i in range (len(x_list))]\n",
        "y_3=[y_list[i][3][1] for i in range (len(x_list))]\n",
        "z_3=[z_list[i][3][2] for i in range (len(x_list))]\n",
        "x_4=[x_list[i][4][0] for i in range (len(x_list))]\n",
        "y_4=[y_list[i][4][1] for i in range (len(x_list))]\n",
        "z_4=[z_list[i][4][2] for i in range (len(x_list))]\n",
        "x_5=[x_list[i][5][0] for i in range (len(x_list))]\n",
        "y_5=[y_list[i][5][1] for i in range (len(x_list))]\n",
        "z_5=[z_list[i][5][2] for i in range (len(x_list))]\n",
        "x_6=[x_list[i][6][0] for i in range (len(x_list))]\n",
        "y_6=[y_list[i][6][1] for i in range (len(x_list))]\n",
        "z_6=[z_list[i][6][2] for i in range (len(x_list))]\n",
        "x_7=[x_list[i][7][0] for i in range (len(x_list))]\n",
        "y_7=[y_list[i][7][1] for i in range (len(x_list))]\n",
        "z_7=[z_list[i][7][2] for i in range (len(x_list))]\n",
        "x_8=[x_list[i][8][0] for i in range (len(x_list))]\n",
        "y_8=[y_list[i][8][1] for i in range (len(x_list))]\n",
        "z_8=[z_list[i][8][2] for i in range (len(x_list))]\n",
        "x_9=[x_list[i][9][0] for i in range (len(x_list))]\n",
        "y_9=[y_list[i][9][1] for i in range (len(x_list))]\n",
        "z_9=[z_list[i][9][2] for i in range (len(x_list))]\n",
        "x_10=[x_list[i][10][0] for i in range (len(x_list))]\n",
        "y_10=[y_list[i][10][1] for i in range (len(x_list))]\n",
        "z_10=[z_list[i][10][2] for i in range (len(x_list))]\n",
        "x_11=[x_list[i][11][0] for i in range (len(x_list))]\n",
        "y_11=[y_list[i][11][1] for i in range (len(x_list))]\n",
        "z_11=[z_list[i][11][2] for i in range (len(x_list))]\n",
        "x_12=[x_list[i][12][0] for i in range (len(x_list))]\n",
        "y_12=[y_list[i][12][1] for i in range (len(x_list))]\n",
        "z_12=[z_list[i][12][2] for i in range (len(x_list))]\n",
        "x_13=[x_list[i][13][0] for i in range (len(x_list))]\n",
        "y_13=[y_list[i][13][1] for i in range (len(x_list))]\n",
        "z_13=[z_list[i][13][2] for i in range (len(x_list))]\n",
        "x_14=[x_list[i][14][0] for i in range (len(x_list))]\n",
        "y_14=[y_list[i][14][1] for i in range (len(x_list))]\n",
        "z_14=[z_list[i][14][2] for i in range (len(x_list))]\n",
        "x_15=[x_list[i][15][0] for i in range (len(x_list))]\n",
        "y_15=[y_list[i][15][1] for i in range (len(x_list))]\n",
        "z_15=[z_list[i][15][2] for i in range (len(x_list))]\n",
        "x_16=[x_list[i][16][0] for i in range (len(x_list))]\n",
        "y_16=[y_list[i][16][1] for i in range (len(x_list))]\n",
        "z_16=[z_list[i][16][2] for i in range (len(x_list))]"
      ],
      "execution_count": null,
      "outputs": []
    },
    {
      "cell_type": "code",
      "metadata": {
        "id": "V6Gv9mJ5oIXi"
      },
      "source": [
        "#실패코드\n",
        "#for i in range(16):\n",
        "#  x=[x_list[i][i][0] for i in range (len(x_list))]\n",
        "#  y=[y_list[i][i][1] for i in range (len(x_list))]\n",
        "#  z=[z_list[i][i][2] for i in range (len(x_list))]"
      ],
      "execution_count": null,
      "outputs": []
    },
    {
      "cell_type": "code",
      "metadata": {
        "id": "QreUNwocR6Mt"
      },
      "source": [
        "import pandas as pd"
      ],
      "execution_count": null,
      "outputs": []
    },
    {
      "cell_type": "code",
      "metadata": {
        "id": "Ol2Cp9YluQ7C"
      },
      "source": [
        "data1 = pd.DataFrame(list(zip(x_0,y_0,z_0,x_1,y_1,z_1,x_2,y_2,z_2,x_3,y_3,z_3,x_4,y_4,z_4,x_5,y_5,z_5,x_6,y_6,z_6,x_7,y_7,z_7,x_8,y_8,z_8,\n",
        "                              x_9,y_9,z_9,x_10,y_10,z_10,x_11,y_11,z_11,x_12,y_12,z_12,x_13,y_13,z_13,x_14,y_14,z_14,x_15,y_15,z_15,x_16,y_16,z_16)), \n",
        "                     columns=['x_0','y_0','z_0','x_1','y_1','z_1','x_2','y_2','z_2','x_3','y_3','z_3','x_4','y_4','z_4','x_5','y_5','z_5','x_6','y_6','z_6','x_7','y_7','z_7','x_8','y_8','z_8',\n",
        "                              'x_9','y_9','z_9','x_10','y_10','z_10','x_11','y_11','z_11','x_12','y_12','z_12','x_13','y_13','z_13','x_14','y_14','z_14','x_15','y_15','z_15','x_16','y_16','z_16'])\n",
        "data1[\"y\"] = 0 #올바르지 않은\n",
        "data1[\"image\"] = [info1[i][1] for i in range(len(info1))]"
      ],
      "execution_count": null,
      "outputs": []
    },
    {
      "cell_type": "code",
      "metadata": {
        "id": "aSCf2MGbw44g"
      },
      "source": [
        "data1"
      ],
      "execution_count": null,
      "outputs": []
    },
    {
      "cell_type": "code",
      "metadata": {
        "id": "O5bVGRY70y1r"
      },
      "source": [
        "data1.to_excel('data1.xlsx')"
      ],
      "execution_count": null,
      "outputs": []
    },
    {
      "cell_type": "code",
      "metadata": {
        "id": "gWHWdJxV0u-O"
      },
      "source": [
        "data2 = pd.DataFrame(list(zip(x_0,y_0,z_0,x_1,y_1,z_1,x_2,y_2,z_2,x_3,y_3,z_3,x_4,y_4,z_4,x_5,y_5,z_5,x_6,y_6,z_6,x_7,y_7,z_7,x_8,y_8,z_8,\n",
        "                              x_9,y_9,z_9,x_10,y_10,z_10,x_11,y_11,z_11,x_12,y_12,z_12,x_13,y_13,z_13,x_14,y_14,z_14,x_15,y_15,z_15,x_16,y_16,z_16)), \n",
        "                     columns=['x_0','y_0','z_0','x_1','y_1','z_1','x_2','y_2','z_2','x_3','y_3','z_3','x_4','y_4','z_4','x_5','y_5','z_5','x_6','y_6','z_6','x_7','y_7','z_7','x_8','y_8','z_8',\n",
        "                              'x_9','y_9','z_9','x_10','y_10','z_10','x_11','y_11','z_11','x_12','y_12','z_12','x_13','y_13','z_13','x_14','y_14','z_14','x_15','y_15','z_15','x_16','y_16','z_16'])\n",
        "data2[\"y\"] = 0 #올바르지 않은\n",
        "data2[\"image\"] = [info1[i][1] for i in range(len(info1))]"
      ],
      "execution_count": null,
      "outputs": []
    },
    {
      "cell_type": "code",
      "metadata": {
        "id": "EBxvfA9n3ORx"
      },
      "source": [
        "data3 = pd.DataFrame(list(zip(x_0,y_0,z_0,x_1,y_1,z_1,x_2,y_2,z_2,x_3,y_3,z_3,x_4,y_4,z_4,x_5,y_5,z_5,x_6,y_6,z_6,x_7,y_7,z_7,x_8,y_8,z_8,\n",
        "                              x_9,y_9,z_9,x_10,y_10,z_10,x_11,y_11,z_11,x_12,y_12,z_12,x_13,y_13,z_13,x_14,y_14,z_14,x_15,y_15,z_15,x_16,y_16,z_16)), \n",
        "                     columns=['x_0','y_0','z_0','x_1','y_1','z_1','x_2','y_2','z_2','x_3','y_3','z_3','x_4','y_4','z_4','x_5','y_5','z_5','x_6','y_6','z_6','x_7','y_7','z_7','x_8','y_8','z_8',\n",
        "                              'x_9','y_9','z_9','x_10','y_10','z_10','x_11','y_11','z_11','x_12','y_12','z_12','x_13','y_13','z_13','x_14','y_14','z_14','x_15','y_15','z_15','x_16','y_16','z_16'])\n",
        "data3[\"y\"] = 0 #올바르지 않은\n",
        "data3[\"image\"] = [info1[i][1] for i in range(len(info1))]"
      ],
      "execution_count": null,
      "outputs": []
    },
    {
      "cell_type": "code",
      "metadata": {
        "id": "C-wAlOXn499B"
      },
      "source": [
        "data4 = pd.DataFrame(list(zip(x_0,y_0,z_0,x_1,y_1,z_1,x_2,y_2,z_2,x_3,y_3,z_3,x_4,y_4,z_4,x_5,y_5,z_5,x_6,y_6,z_6,x_7,y_7,z_7,x_8,y_8,z_8,\n",
        "                              x_9,y_9,z_9,x_10,y_10,z_10,x_11,y_11,z_11,x_12,y_12,z_12,x_13,y_13,z_13,x_14,y_14,z_14,x_15,y_15,z_15,x_16,y_16,z_16)), \n",
        "                     columns=['x_0','y_0','z_0','x_1','y_1','z_1','x_2','y_2','z_2','x_3','y_3','z_3','x_4','y_4','z_4','x_5','y_5','z_5','x_6','y_6','z_6','x_7','y_7','z_7','x_8','y_8','z_8',\n",
        "                              'x_9','y_9','z_9','x_10','y_10','z_10','x_11','y_11','z_11','x_12','y_12','z_12','x_13','y_13','z_13','x_14','y_14','z_14','x_15','y_15','z_15','x_16','y_16','z_16'])\n",
        "data4[\"y\"] = 0 #올바르지 않은\n",
        "data4[\"image\"] = [info1[i][1] for i in range(len(info1))]"
      ],
      "execution_count": null,
      "outputs": []
    },
    {
      "cell_type": "code",
      "metadata": {
        "id": "fzXG4KpG4Ots"
      },
      "source": [
        ""
      ],
      "execution_count": null,
      "outputs": []
    },
    {
      "cell_type": "code",
      "metadata": {
        "id": "fuALyFqW5HFf"
      },
      "source": [
        "data5 = pd.DataFrame(list(zip(x_0,y_0,z_0,x_1,y_1,z_1,x_2,y_2,z_2,x_3,y_3,z_3,x_4,y_4,z_4,x_5,y_5,z_5,x_6,y_6,z_6,x_7,y_7,z_7,x_8,y_8,z_8,\n",
        "                              x_9,y_9,z_9,x_10,y_10,z_10,x_11,y_11,z_11,x_12,y_12,z_12,x_13,y_13,z_13,x_14,y_14,z_14,x_15,y_15,z_15,x_16,y_16,z_16)), \n",
        "                     columns=['x_0','y_0','z_0','x_1','y_1','z_1','x_2','y_2','z_2','x_3','y_3','z_3','x_4','y_4','z_4','x_5','y_5','z_5','x_6','y_6','z_6','x_7','y_7','z_7','x_8','y_8','z_8',\n",
        "                              'x_9','y_9','z_9','x_10','y_10','z_10','x_11','y_11','z_11','x_12','y_12','z_12','x_13','y_13','z_13','x_14','y_14','z_14','x_15','y_15','z_15','x_16','y_16','z_16'])\n",
        "data5[\"y\"] = 0 #올바르지 않은\n",
        "data5[\"image\"] = [info1[i][1] for i in range(len(info1))]"
      ],
      "execution_count": null,
      "outputs": []
    },
    {
      "cell_type": "code",
      "metadata": {
        "id": "A_yAIda75IzZ"
      },
      "source": [
        "data6 = pd.DataFrame(list(zip(x_0,y_0,z_0,x_1,y_1,z_1,x_2,y_2,z_2,x_3,y_3,z_3,x_4,y_4,z_4,x_5,y_5,z_5,x_6,y_6,z_6,x_7,y_7,z_7,x_8,y_8,z_8,\n",
        "                              x_9,y_9,z_9,x_10,y_10,z_10,x_11,y_11,z_11,x_12,y_12,z_12,x_13,y_13,z_13,x_14,y_14,z_14,x_15,y_15,z_15,x_16,y_16,z_16)), \n",
        "                     columns=['x_0','y_0','z_0','x_1','y_1','z_1','x_2','y_2','z_2','x_3','y_3','z_3','x_4','y_4','z_4','x_5','y_5','z_5','x_6','y_6','z_6','x_7','y_7','z_7','x_8','y_8','z_8',\n",
        "                              'x_9','y_9','z_9','x_10','y_10','z_10','x_11','y_11','z_11','x_12','y_12','z_12','x_13','y_13','z_13','x_14','y_14','z_14','x_15','y_15','z_15','x_16','y_16','z_16'])\n",
        "data6[\"y\"] = 0 #올바르지 않은\n",
        "data6[\"image\"] = [info1[i][1] for i in range(len(info1))]"
      ],
      "execution_count": null,
      "outputs": []
    },
    {
      "cell_type": "code",
      "metadata": {
        "id": "8PKxd1F05QsN"
      },
      "source": [
        "data7 = pd.DataFrame(list(zip(x_0,y_0,z_0,x_1,y_1,z_1,x_2,y_2,z_2,x_3,y_3,z_3,x_4,y_4,z_4,x_5,y_5,z_5,x_6,y_6,z_6,x_7,y_7,z_7,x_8,y_8,z_8,\n",
        "                              x_9,y_9,z_9,x_10,y_10,z_10,x_11,y_11,z_11,x_12,y_12,z_12,x_13,y_13,z_13,x_14,y_14,z_14,x_15,y_15,z_15,x_16,y_16,z_16)), \n",
        "                     columns=['x_0','y_0','z_0','x_1','y_1','z_1','x_2','y_2','z_2','x_3','y_3','z_3','x_4','y_4','z_4','x_5','y_5','z_5','x_6','y_6','z_6','x_7','y_7','z_7','x_8','y_8','z_8',\n",
        "                              'x_9','y_9','z_9','x_10','y_10','z_10','x_11','y_11','z_11','x_12','y_12','z_12','x_13','y_13','z_13','x_14','y_14','z_14','x_15','y_15','z_15','x_16','y_16','z_16'])\n",
        "data7[\"y\"] = 0 #올바르지 않은\n",
        "data7[\"image\"] = [info1[i][1] for i in range(len(info1))]"
      ],
      "execution_count": null,
      "outputs": []
    },
    {
      "cell_type": "code",
      "metadata": {
        "id": "rfhpQvmk5USd"
      },
      "source": [
        "data8 = pd.DataFrame(list(zip(x_0,y_0,z_0,x_1,y_1,z_1,x_2,y_2,z_2,x_3,y_3,z_3,x_4,y_4,z_4,x_5,y_5,z_5,x_6,y_6,z_6,x_7,y_7,z_7,x_8,y_8,z_8,\n",
        "                              x_9,y_9,z_9,x_10,y_10,z_10,x_11,y_11,z_11,x_12,y_12,z_12,x_13,y_13,z_13,x_14,y_14,z_14,x_15,y_15,z_15,x_16,y_16,z_16)), \n",
        "                     columns=['x_0','y_0','z_0','x_1','y_1','z_1','x_2','y_2','z_2','x_3','y_3','z_3','x_4','y_4','z_4','x_5','y_5','z_5','x_6','y_6','z_6','x_7','y_7','z_7','x_8','y_8','z_8',\n",
        "                              'x_9','y_9','z_9','x_10','y_10','z_10','x_11','y_11','z_11','x_12','y_12','z_12','x_13','y_13','z_13','x_14','y_14','z_14','x_15','y_15','z_15','x_16','y_16','z_16'])\n",
        "data8[\"y\"] = 0 #올바르지 않은\n",
        "data8[\"image\"] = [info1[i][1] for i in range(len(info1))]"
      ],
      "execution_count": null,
      "outputs": []
    },
    {
      "cell_type": "code",
      "metadata": {
        "colab": {
          "base_uri": "https://localhost:8080/",
          "height": 17
        },
        "id": "-mOklDba1uLx",
        "outputId": "c54df258-582c-4f27-f7f5-2b79fc3688e7"
      },
      "source": [
        "#pd.concat([data7,data8]).reset_index(drop = True).to_excel('data78.xlsx', index=False)\n",
        "data8.reset_index(drop = True).to_excel('data8.xlsx', index=False)\n",
        "from google.colab import files\n",
        "files.download('data8.xlsx')"
      ],
      "execution_count": null,
      "outputs": [
        {
          "output_type": "display_data",
          "data": {
            "application/javascript": [
              "\n",
              "    async function download(id, filename, size) {\n",
              "      if (!google.colab.kernel.accessAllowed) {\n",
              "        return;\n",
              "      }\n",
              "      const div = document.createElement('div');\n",
              "      const label = document.createElement('label');\n",
              "      label.textContent = `Downloading \"${filename}\": `;\n",
              "      div.appendChild(label);\n",
              "      const progress = document.createElement('progress');\n",
              "      progress.max = size;\n",
              "      div.appendChild(progress);\n",
              "      document.body.appendChild(div);\n",
              "\n",
              "      const buffers = [];\n",
              "      let downloaded = 0;\n",
              "\n",
              "      const channel = await google.colab.kernel.comms.open(id);\n",
              "      // Send a message to notify the kernel that we're ready.\n",
              "      channel.send({})\n",
              "\n",
              "      for await (const message of channel.messages) {\n",
              "        // Send a message to notify the kernel that we're ready.\n",
              "        channel.send({})\n",
              "        if (message.buffers) {\n",
              "          for (const buffer of message.buffers) {\n",
              "            buffers.push(buffer);\n",
              "            downloaded += buffer.byteLength;\n",
              "            progress.value = downloaded;\n",
              "          }\n",
              "        }\n",
              "      }\n",
              "      const blob = new Blob(buffers, {type: 'application/binary'});\n",
              "      const a = document.createElement('a');\n",
              "      a.href = window.URL.createObjectURL(blob);\n",
              "      a.download = filename;\n",
              "      div.appendChild(a);\n",
              "      a.click();\n",
              "      div.remove();\n",
              "    }\n",
              "  "
            ],
            "text/plain": [
              "<IPython.core.display.Javascript object>"
            ]
          },
          "metadata": {
            "tags": []
          }
        },
        {
          "output_type": "display_data",
          "data": {
            "application/javascript": [
              "download(\"download_d1675183-a9d9-44cb-96c9-eb713daea739\", \"data8.xlsx\", 318238)"
            ],
            "text/plain": [
              "<IPython.core.display.Javascript object>"
            ]
          },
          "metadata": {
            "tags": []
          }
        }
      ]
    },
    {
      "cell_type": "markdown",
      "metadata": {
        "id": "k72Jx6kDBFuK"
      },
      "source": [
        "#파일 합치기"
      ]
    },
    {
      "cell_type": "code",
      "metadata": {
        "id": "KV7vmzE-6zFS"
      },
      "source": [
        "path1 = '/content/drive/Shareddrives/데이터 청년 캠퍼스/임시/data12.xlsx'\n",
        "path2 = '/content/drive/Shareddrives/데이터 청년 캠퍼스/임시/data34.xlsx'\n",
        "path3 = '/content/drive/Shareddrives/데이터 청년 캠퍼스/임시/data56.xlsx'\n",
        "path4 = '/content/drive/Shareddrives/데이터 청년 캠퍼스/임시/data7.xlsx'\n",
        "path5 = '/content/drive/Shareddrives/데이터 청년 캠퍼스/임시/data8.xlsx'"
      ],
      "execution_count": null,
      "outputs": []
    },
    {
      "cell_type": "code",
      "metadata": {
        "id": "fc2o7GthA_9T"
      },
      "source": [
        "data12 = pd.read_excel(path1)\n",
        "data34 = pd.read_excel(path2)\n",
        "data56 = pd.read_excel(path3)\n",
        "data7 = pd.read_excel(path4)\n",
        "data8 = pd.read_excel(path5)"
      ],
      "execution_count": null,
      "outputs": []
    },
    {
      "cell_type": "code",
      "metadata": {
        "colab": {
          "base_uri": "https://localhost:8080/"
        },
        "id": "2w4n8doFBgMI",
        "outputId": "456f6b74-c4ab-4d1b-c62d-5a21f01d19fa"
      },
      "source": [
        "len(pd.concat([data12,data34,data56,data7,data8]).reset_index(drop = True))"
      ],
      "execution_count": null,
      "outputs": [
        {
          "output_type": "execute_result",
          "data": {
            "text/plain": [
              "4774"
            ]
          },
          "metadata": {
            "tags": []
          },
          "execution_count": 26
        }
      ]
    },
    {
      "cell_type": "code",
      "metadata": {
        "colab": {
          "base_uri": "https://localhost:8080/",
          "height": 17
        },
        "id": "bJs6KxQeBmjw",
        "outputId": "eab84ff8-92a1-4c1c-fb1e-ebeb3c194e16"
      },
      "source": [
        "pd.concat([data12,data34,data56,data7,data8]).reset_index(drop = True).to_excel('data_0.xlsx', index=False)\n",
        "from google.colab import files\n",
        "files.download('data_0.xlsx')"
      ],
      "execution_count": null,
      "outputs": [
        {
          "output_type": "display_data",
          "data": {
            "application/javascript": [
              "\n",
              "    async function download(id, filename, size) {\n",
              "      if (!google.colab.kernel.accessAllowed) {\n",
              "        return;\n",
              "      }\n",
              "      const div = document.createElement('div');\n",
              "      const label = document.createElement('label');\n",
              "      label.textContent = `Downloading \"${filename}\": `;\n",
              "      div.appendChild(label);\n",
              "      const progress = document.createElement('progress');\n",
              "      progress.max = size;\n",
              "      div.appendChild(progress);\n",
              "      document.body.appendChild(div);\n",
              "\n",
              "      const buffers = [];\n",
              "      let downloaded = 0;\n",
              "\n",
              "      const channel = await google.colab.kernel.comms.open(id);\n",
              "      // Send a message to notify the kernel that we're ready.\n",
              "      channel.send({})\n",
              "\n",
              "      for await (const message of channel.messages) {\n",
              "        // Send a message to notify the kernel that we're ready.\n",
              "        channel.send({})\n",
              "        if (message.buffers) {\n",
              "          for (const buffer of message.buffers) {\n",
              "            buffers.push(buffer);\n",
              "            downloaded += buffer.byteLength;\n",
              "            progress.value = downloaded;\n",
              "          }\n",
              "        }\n",
              "      }\n",
              "      const blob = new Blob(buffers, {type: 'application/binary'});\n",
              "      const a = document.createElement('a');\n",
              "      a.href = window.URL.createObjectURL(blob);\n",
              "      a.download = filename;\n",
              "      div.appendChild(a);\n",
              "      a.click();\n",
              "      div.remove();\n",
              "    }\n",
              "  "
            ],
            "text/plain": [
              "<IPython.core.display.Javascript object>"
            ]
          },
          "metadata": {
            "tags": []
          }
        },
        {
          "output_type": "display_data",
          "data": {
            "application/javascript": [
              "download(\"download_d2aa4b92-e281-46af-94ae-88f047007d5d\", \"data_0.xlsx\", 3168068)"
            ],
            "text/plain": [
              "<IPython.core.display.Javascript object>"
            ]
          },
          "metadata": {
            "tags": []
          }
        }
      ]
    }
  ]
}