{
  "nbformat": 4,
  "nbformat_minor": 0,
  "metadata": {
    "colab": {
      "name": "main_code.ipynb",
      "provenance": [],
      "collapsed_sections": [
        "TjNeL3sSftNa"
      ]
    },
    "kernelspec": {
      "name": "python3",
      "display_name": "Python 3"
    },
    "language_info": {
      "name": "python"
    }
  },
  "cells": [
    {
      "cell_type": "code",
      "metadata": {
        "colab": {
          "base_uri": "https://localhost:8080/"
        },
        "id": "JQLDS17jIFPO",
        "outputId": "5a2a4d77-69f0-4d6f-e251-2f1cbceab5b2"
      },
      "source": [
        "from google.colab import drive\n",
        "drive.mount('/content/drive')"
      ],
      "execution_count": 1,
      "outputs": [
        {
          "output_type": "stream",
          "text": [
            "Mounted at /content/drive\n"
          ],
          "name": "stdout"
        }
      ]
    },
    {
      "cell_type": "code",
      "metadata": {
        "id": "RpQU0pJsKc3j"
      },
      "source": [
        "path = '/content/drive/Shareddrives/데이터 청년 캠퍼스/DB/data.xlsx'"
      ],
      "execution_count": 113,
      "outputs": []
    },
    {
      "cell_type": "code",
      "metadata": {
        "id": "5W_EcNbXK6qr"
      },
      "source": [
        "import pandas as pd\n",
        "import numpy as np"
      ],
      "execution_count": 114,
      "outputs": []
    },
    {
      "cell_type": "code",
      "metadata": {
        "id": "owzJ1EACKiWE"
      },
      "source": [
        "data = pd.read_excel(path)"
      ],
      "execution_count": 119,
      "outputs": []
    },
    {
      "cell_type": "code",
      "metadata": {
        "id": "Y774uX6IKloS"
      },
      "source": [
        "data.info()"
      ],
      "execution_count": null,
      "outputs": []
    },
    {
      "cell_type": "code",
      "metadata": {
        "id": "wIkHYbfqaSQs"
      },
      "source": [
        "#X = data.drop(['z_0','z_1','z_2','z_3','z_4','z_5','z_6','z_7','z_8','z_9','z_10','z_11','z_12','z_13','z_14','z_15','z_16','y','image'], axis = 1)\n",
        "#X = data.drop(['x_0','y_0','z_0','x_1','y_1','z_1','x_5','y_5','z_5','x_9','y_9','z_9','x_13','y_13','z_13','y','image'], axis = 1)\n",
        "X = data.drop(['y','image'], axis = 1)"
      ],
      "execution_count": 120,
      "outputs": []
    },
    {
      "cell_type": "code",
      "metadata": {
        "id": "t_vPE_KjNg6K"
      },
      "source": [
        "y = data[\"y\"]"
      ],
      "execution_count": 121,
      "outputs": []
    },
    {
      "cell_type": "markdown",
      "metadata": {
        "id": "h8yOrlj7LMlT"
      },
      "source": [
        "#데이터 정규화"
      ]
    },
    {
      "cell_type": "markdown",
      "metadata": {
        "id": "m8Gfs5twPm86"
      },
      "source": [
        "##손바닥 - 엄지손가락 vector을 통해 이미지 같은 방향으로 맞춘다"
      ]
    },
    {
      "cell_type": "code",
      "metadata": {
        "id": "lHPuxavkFjAz"
      },
      "source": [
        "a=np.array([X['x_3'],X['y_3'],X['z_3']])\n",
        "b=np.array([X['x_2'],X['y_2'],X['z_2']])"
      ],
      "execution_count": 117,
      "outputs": []
    },
    {
      "cell_type": "code",
      "metadata": {
        "colab": {
          "base_uri": "https://localhost:8080/"
        },
        "id": "AtLtYxHxGYYT",
        "outputId": "9c60120b-cf3b-4281-93b7-1cec75543767"
      },
      "source": [
        "a"
      ],
      "execution_count": 39,
      "outputs": [
        {
          "output_type": "execute_result",
          "data": {
            "text/plain": [
              "array([[ 0.75511527,  0.75979513,  0.7501415 , ...,  0.56462747,\n",
              "         0.5635196 ,  0.56402957],\n",
              "       [ 0.60444057,  0.6462059 ,  0.58616829, ...,  0.51695204,\n",
              "         0.51092553,  0.51341414],\n",
              "       [ 0.09105777,  0.15562966,  0.14300613, ..., -0.07074934,\n",
              "        -0.06770804, -0.06342685]])"
            ]
          },
          "metadata": {
            "tags": []
          },
          "execution_count": 39
        }
      ]
    },
    {
      "cell_type": "code",
      "metadata": {
        "colab": {
          "base_uri": "https://localhost:8080/"
        },
        "id": "4_NKyynZGc2E",
        "outputId": "b5cbc91e-3dd0-47c3-ce5c-c9eaf7731e94"
      },
      "source": [
        "b"
      ],
      "execution_count": 40,
      "outputs": [
        {
          "output_type": "execute_result",
          "data": {
            "text/plain": [
              "array([[ 0.74612272,  0.74858558,  0.73697418, ...,  0.62364095,\n",
              "         0.62450492,  0.62337637],\n",
              "       [ 0.65694594,  0.68164796,  0.62346029, ...,  0.52636206,\n",
              "         0.52090895,  0.52263832],\n",
              "       [ 0.04406672,  0.09784388,  0.08692711, ..., -0.05859124,\n",
              "        -0.05629389, -0.05269257]])"
            ]
          },
          "metadata": {
            "tags": []
          },
          "execution_count": 40
        }
      ]
    },
    {
      "cell_type": "code",
      "metadata": {
        "id": "Sl78_geQPtj6"
      },
      "source": [
        "vector23= a-b"
      ],
      "execution_count": 88,
      "outputs": []
    },
    {
      "cell_type": "code",
      "metadata": {
        "colab": {
          "base_uri": "https://localhost:8080/"
        },
        "id": "1_u1b_MpF4ka",
        "outputId": "bd94b6a1-a783-4086-b5d7-b9e4b201ae22"
      },
      "source": [
        "vector23 #방향의 x,y,z 좌표"
      ],
      "execution_count": 89,
      "outputs": [
        {
          "output_type": "execute_result",
          "data": {
            "text/plain": [
              "array([[ 0.00899255,  0.01120955,  0.01316732, ..., -0.05901349,\n",
              "        -0.06098533, -0.0593468 ],\n",
              "       [-0.05250537, -0.03544205, -0.037292  , ..., -0.00941002,\n",
              "        -0.00998342, -0.00922418],\n",
              "       [ 0.04699105,  0.05778579,  0.05607902, ..., -0.0121581 ,\n",
              "        -0.01141415, -0.01073429]])"
            ]
          },
          "metadata": {
            "tags": []
          },
          "execution_count": 89
        }
      ]
    },
    {
      "cell_type": "markdown",
      "metadata": {
        "id": "3hZK_lLIPuCh"
      },
      "source": [
        "##엄지 손가락 기준으로 손크기 맞춘다"
      ]
    },
    {
      "cell_type": "code",
      "metadata": {
        "id": "13cD_fBxWBUw"
      },
      "source": [
        "#X = X.iloc[num]\n",
        "#y = y.iloc[num]"
      ],
      "execution_count": 44,
      "outputs": []
    },
    {
      "cell_type": "code",
      "metadata": {
        "id": "Z3yQOln_WKsX"
      },
      "source": [
        "a=np.array([X['x_3'],X['y_3'],X['z_3']])\n",
        "b=np.array([X['x_2'],X['y_2'],X['z_2']])"
      ],
      "execution_count": 90,
      "outputs": []
    },
    {
      "cell_type": "code",
      "metadata": {
        "id": "w2xEXow1ENoc"
      },
      "source": [
        "length = sum((a-b)**2)**(1/2)"
      ],
      "execution_count": 91,
      "outputs": []
    },
    {
      "cell_type": "code",
      "metadata": {
        "colab": {
          "base_uri": "https://localhost:8080/"
        },
        "id": "YCq3QGnYKQQQ",
        "outputId": "c0ba0af2-950d-44ff-e4d3-af520de486d7"
      },
      "source": [
        "length"
      ],
      "execution_count": 92,
      "outputs": [
        {
          "output_type": "execute_result",
          "data": {
            "text/plain": [
              "array([0.07103407, 0.06870946, 0.06862163, ..., 0.06098327, 0.06284235,\n",
              "       0.06101108])"
            ]
          },
          "metadata": {
            "tags": []
          },
          "execution_count": 92
        }
      ]
    },
    {
      "cell_type": "code",
      "metadata": {
        "colab": {
          "base_uri": "https://localhost:8080/"
        },
        "id": "B6iLEdkmIz9a",
        "outputId": "f4f92ac2-69c8-4eb1-d6f1-40b86ef58fd2"
      },
      "source": [
        "length.mean()"
      ],
      "execution_count": 93,
      "outputs": [
        {
          "output_type": "execute_result",
          "data": {
            "text/plain": [
              "0.10155944029787327"
            ]
          },
          "metadata": {
            "tags": []
          },
          "execution_count": 93
        }
      ]
    },
    {
      "cell_type": "code",
      "metadata": {
        "id": "z3XXX9RPKZrI"
      },
      "source": [
        "divide = length/length.mean()"
      ],
      "execution_count": 94,
      "outputs": []
    },
    {
      "cell_type": "code",
      "metadata": {
        "colab": {
          "base_uri": "https://localhost:8080/"
        },
        "id": "qRxuGqrgQSUD",
        "outputId": "2571f1dc-beaf-40ab-ab5c-a87cd1a15c7c"
      },
      "source": [
        "divide"
      ],
      "execution_count": 95,
      "outputs": [
        {
          "output_type": "execute_result",
          "data": {
            "text/plain": [
              "array([0.69943348, 0.67654433, 0.67567952, ..., 0.60046877, 0.61877413,\n",
              "       0.60074262])"
            ]
          },
          "metadata": {
            "tags": []
          },
          "execution_count": 95
        }
      ]
    },
    {
      "cell_type": "code",
      "metadata": {
        "id": "0eHPgYfkPF8c"
      },
      "source": [
        "for i in range(len(X)):\n",
        "  X.iloc[i] = X.iloc[i]/divide[i]"
      ],
      "execution_count": 96,
      "outputs": []
    },
    {
      "cell_type": "code",
      "metadata": {
        "id": "2S7am3UgbZAN"
      },
      "source": [
        ""
      ],
      "execution_count": null,
      "outputs": []
    },
    {
      "cell_type": "markdown",
      "metadata": {
        "id": "xQ_9gO5Qj-ve"
      },
      "source": [
        "##특정 landmark 위치 옮긴다"
      ]
    },
    {
      "cell_type": "code",
      "metadata": {
        "id": "ZwJKftzxcLUV"
      },
      "source": [
        ""
      ],
      "execution_count": null,
      "outputs": []
    },
    {
      "cell_type": "markdown",
      "metadata": {
        "id": "P5oTLDCQLP5b"
      },
      "source": [
        "#모델"
      ]
    },
    {
      "cell_type": "code",
      "metadata": {
        "id": "erp5RHZ1UznJ"
      },
      "source": [
        "X = X.drop(['x_0','y_0','z_0','x_1','y_1','z_1','x_5','y_5','z_5','x_9','y_9','z_9','x_13','y_13','z_13'], axis = 1)"
      ],
      "execution_count": 122,
      "outputs": []
    },
    {
      "cell_type": "code",
      "metadata": {
        "id": "xtPJ3qjrVCuh"
      },
      "source": [
        "#X = X.drop(['z_0','z_1','z_2','z_3','z_4','z_5','z_6','z_7','z_8','z_9','z_10','z_11','z_12','z_13','z_14','z_15','z_16'], axis = 1)\n",
        "#X = X.drop(['z_2','z_3','z_4','z_6','z_7','z_8','z_10','z_11','z_12','z_14','z_15','z_16'], axis = 1)"
      ],
      "execution_count": 29,
      "outputs": []
    },
    {
      "cell_type": "code",
      "metadata": {
        "id": "QQmK9ErbLSWz"
      },
      "source": [
        "#from sklearn.model_selection import train_test_split\n",
        "#X_train, X_test, y_train, y_test = train_test_split(X, y, test_size=0.3, shuffle=True, random_state=104)\n",
        "X_test= pd.concat([X[3374:4774],X[8073:9473]])\n",
        "y_test= pd.concat([y[3374:4774],y[8073:9473]])"
      ],
      "execution_count": 101,
      "outputs": []
    },
    {
      "cell_type": "code",
      "metadata": {
        "colab": {
          "base_uri": "https://localhost:8080/"
        },
        "id": "cxb1ii4tcpBl",
        "outputId": "110f57d4-c8a9-43bb-bd51-0198c304955a"
      },
      "source": [
        "X_train = X.drop(X_test.index)\n",
        "X_train.reset_index(drop=True, inplace=True)\n",
        "y_train = y.drop(y_test.index)\n",
        "y_train.reset_index(drop=True, inplace=True)"
      ],
      "execution_count": 132,
      "outputs": [
        {
          "output_type": "execute_result",
          "data": {
            "text/plain": [
              "0       0\n",
              "1       0\n",
              "2       0\n",
              "3       0\n",
              "4       0\n",
              "       ..\n",
              "6626    1\n",
              "6627    1\n",
              "6628    1\n",
              "6629    1\n",
              "6630    1\n",
              "Name: y, Length: 6631, dtype: int64"
            ]
          },
          "metadata": {
            "tags": []
          },
          "execution_count": 132
        }
      ]
    },
    {
      "cell_type": "code",
      "metadata": {
        "id": "_mqy5U8SbO8u"
      },
      "source": [
        "import numpy as np\n",
        "import pandas as pd\n",
        "import seaborn as sns\n",
        "import matplotlib.pyplot as plt\n",
        "import tensorflow as tf\n",
        "from tensorflow import keras\n",
        "from tensorflow.keras import layers\n",
        "from scipy.stats import norm, boxcox\n",
        "from scipy import stats\n",
        "from collections import Counter\n",
        "from sklearn.model_selection import cross_val_score, cross_validate\n",
        "from sklearn.metrics import roc_curve\n",
        "import warnings\n",
        "warnings.simplefilter(action='ignore', category=FutureWarning)"
      ],
      "execution_count": 133,
      "outputs": []
    },
    {
      "cell_type": "code",
      "metadata": {
        "id": "inLGO1j0arYj"
      },
      "source": [
        "from sklearn.metrics import classification_report, confusion_matrix, accuracy_score\n",
        "\n",
        "def metrics(y_true, y_pred):\n",
        "    print('Confusion Matrix:\\n', confusion_matrix(y_true, y_pred))\n",
        "    print('\\n\\nAccuracy Score:\\n', accuracy_score(y_true, y_pred))\n",
        "    print('\\n\\nClassification Report: \\n', classification_report(y_true, y_pred))\n",
        "\n",
        "def predictions(model,X_train=X_train, X_test=X_test, y_train=y_train, y_test=y_test):\n",
        "      model.fit(X_train, y_train)\n",
        "      #predictions\n",
        "      train_pred = model.predict(X_train)\n",
        "      test_pred = model.predict(X_test)\n",
        "      actual = [y_train, y_test]\n",
        "      pred = [train_pred, test_pred]\n",
        "      for i in range(0,2):\n",
        "          if i==0:\n",
        "              print('----Train Metrics----')\n",
        "          else:\n",
        "              print('----Test Metrics----')\n",
        "          metrics(actual[i], pred[i])"
      ],
      "execution_count": 134,
      "outputs": []
    },
    {
      "cell_type": "code",
      "metadata": {
        "colab": {
          "base_uri": "https://localhost:8080/"
        },
        "id": "YAKC6nCGLSZi",
        "outputId": "e3e7dc30-6492-4547-9195-43f51b8ee184"
      },
      "source": [
        "from sklearn.tree import DecisionTreeClassifier\n",
        "dt = DecisionTreeClassifier()\n",
        "predictions(dt)\n",
        "dt.feature_importances_"
      ],
      "execution_count": 135,
      "outputs": [
        {
          "output_type": "stream",
          "text": [
            "----Train Metrics----\n",
            "Confusion Matrix:\n",
            " [[3359    0]\n",
            " [   0 3272]]\n",
            "\n",
            "\n",
            "Accuracy Score:\n",
            " 1.0\n",
            "\n",
            "\n",
            "Classification Report: \n",
            "               precision    recall  f1-score   support\n",
            "\n",
            "           0       1.00      1.00      1.00      3359\n",
            "           1       1.00      1.00      1.00      3272\n",
            "\n",
            "    accuracy                           1.00      6631\n",
            "   macro avg       1.00      1.00      1.00      6631\n",
            "weighted avg       1.00      1.00      1.00      6631\n",
            "\n",
            "----Test Metrics----\n",
            "Confusion Matrix:\n",
            " [[1057  358]\n",
            " [ 470  958]]\n",
            "\n",
            "\n",
            "Accuracy Score:\n",
            " 0.7087583538515653\n",
            "\n",
            "\n",
            "Classification Report: \n",
            "               precision    recall  f1-score   support\n",
            "\n",
            "           0       0.69      0.75      0.72      1415\n",
            "           1       0.73      0.67      0.70      1428\n",
            "\n",
            "    accuracy                           0.71      2843\n",
            "   macro avg       0.71      0.71      0.71      2843\n",
            "weighted avg       0.71      0.71      0.71      2843\n",
            "\n"
          ],
          "name": "stdout"
        },
        {
          "output_type": "execute_result",
          "data": {
            "text/plain": [
              "array([0.09987291, 0.02941067, 0.01724932, 0.04247622, 0.04247873,\n",
              "       0.0111178 , 0.01738563, 0.07991586, 0.02893717, 0.01955464,\n",
              "       0.01467836, 0.08055446, 0.00941828, 0.00289312, 0.00288662,\n",
              "       0.01416188, 0.01297965, 0.00335722, 0.02192512, 0.01203132,\n",
              "       0.01422413, 0.00932625, 0.02962987, 0.00644504, 0.01079734,\n",
              "       0.04134654, 0.02003786, 0.01370978, 0.08850889, 0.04022232,\n",
              "       0.00723323, 0.00509886, 0.03235832, 0.04863799, 0.02451052,\n",
              "       0.04462808])"
            ]
          },
          "metadata": {
            "tags": []
          },
          "execution_count": 135
        }
      ]
    },
    {
      "cell_type": "code",
      "metadata": {
        "colab": {
          "base_uri": "https://localhost:8080/"
        },
        "id": "vp20S4q1aoPz",
        "outputId": "1f114785-2fea-4c07-cbd2-d66850c2f1be"
      },
      "source": [
        "from sklearn.neighbors import KNeighborsClassifier\n",
        "knn = KNeighborsClassifier(n_neighbors=1)\n",
        "predictions(knn)"
      ],
      "execution_count": 137,
      "outputs": [
        {
          "output_type": "stream",
          "text": [
            "----Train Metrics----\n",
            "Confusion Matrix:\n",
            " [[3359    0]\n",
            " [   0 3272]]\n",
            "\n",
            "\n",
            "Accuracy Score:\n",
            " 1.0\n",
            "\n",
            "\n",
            "Classification Report: \n",
            "               precision    recall  f1-score   support\n",
            "\n",
            "           0       1.00      1.00      1.00      3359\n",
            "           1       1.00      1.00      1.00      3272\n",
            "\n",
            "    accuracy                           1.00      6631\n",
            "   macro avg       1.00      1.00      1.00      6631\n",
            "weighted avg       1.00      1.00      1.00      6631\n",
            "\n",
            "----Test Metrics----\n",
            "Confusion Matrix:\n",
            " [[1163  252]\n",
            " [ 328 1100]]\n",
            "\n",
            "\n",
            "Accuracy Score:\n",
            " 0.795990151248681\n",
            "\n",
            "\n",
            "Classification Report: \n",
            "               precision    recall  f1-score   support\n",
            "\n",
            "           0       0.78      0.82      0.80      1415\n",
            "           1       0.81      0.77      0.79      1428\n",
            "\n",
            "    accuracy                           0.80      2843\n",
            "   macro avg       0.80      0.80      0.80      2843\n",
            "weighted avg       0.80      0.80      0.80      2843\n",
            "\n"
          ],
          "name": "stdout"
        }
      ]
    },
    {
      "cell_type": "code",
      "metadata": {
        "colab": {
          "base_uri": "https://localhost:8080/",
          "height": 352
        },
        "id": "1HR1BblsLSe8",
        "outputId": "424274c2-c0f1-493e-87a6-b4325cfe63f9"
      },
      "source": [
        "import matplotlib\n",
        "matplotlib.rc(\"xtick\", labelsize=20)\n",
        "matplotlib.rc(\"ytick\", labelsize=20)\n",
        "\n",
        "train_accuracies = [0.5]\n",
        "test_accuracies = [0.5]\n",
        "\n",
        "for k in range(1, 12):\n",
        "    clf = KNeighborsClassifier(n_neighbors=k)\n",
        "    \n",
        "    # Train model\n",
        "    clf.fit(X_train, y_train)\n",
        "    # Create train and test predictions\n",
        "    train_predictions = clf.predict(X_train)\n",
        "    test_predictions = clf.predict(X_test)\n",
        "    # Calculate training and test accuracies\n",
        "    train_accuracy = accuracy_score(y_train, train_predictions)\n",
        "    test_accuracy = accuracy_score(y_test, test_predictions)\n",
        "    # Append accuracies\n",
        "    train_accuracies.append(train_accuracy)\n",
        "    test_accuracies.append(test_accuracy)\n",
        "    \n",
        "# Create plots\n",
        "plt.figure(figsize=(10, 5))\n",
        "sns.set_style(\"whitegrid\")\n",
        "plt.plot(train_accuracies, label=\"train accuracy\")\n",
        "plt.plot(test_accuracies, label=\"test accuracy\")\n",
        "plt.legend(loc=\"upper left\", prop={\"size\" : 15})\n",
        "plt.xticks(range(0, 16, 5))\n",
        "plt.xlabel(\"value k\", size=20)\n",
        "plt.ylabel(\"accuracy\", size=20)\n",
        "plt.show()"
      ],
      "execution_count": 138,
      "outputs": [
        {
          "output_type": "display_data",
          "data": {
            "image/png": "[encoded data removed]",
            "text/plain": [
              "<Figure size 720x360 with 1 Axes>"
            ]
          },
          "metadata": {
            "tags": []
          }
        }
      ]
    },
    {
      "cell_type": "code",
      "metadata": {
        "id": "lHyzxAHrns9B",
        "colab": {
          "base_uri": "https://localhost:8080/"
        },
        "outputId": "fb7e8f1a-e027-4eab-fb4f-000ee41328b0"
      },
      "source": [
        "from sklearn.ensemble import RandomForestClassifier\n",
        "rf =RandomForestClassifier()\n",
        "predictions(rf)"
      ],
      "execution_count": 139,
      "outputs": [
        {
          "output_type": "stream",
          "text": [
            "----Train Metrics----\n",
            "Confusion Matrix:\n",
            " [[3359    0]\n",
            " [   0 3272]]\n",
            "\n",
            "\n",
            "Accuracy Score:\n",
            " 1.0\n",
            "\n",
            "\n",
            "Classification Report: \n",
            "               precision    recall  f1-score   support\n",
            "\n",
            "           0       1.00      1.00      1.00      3359\n",
            "           1       1.00      1.00      1.00      3272\n",
            "\n",
            "    accuracy                           1.00      6631\n",
            "   macro avg       1.00      1.00      1.00      6631\n",
            "weighted avg       1.00      1.00      1.00      6631\n",
            "\n",
            "----Test Metrics----\n",
            "Confusion Matrix:\n",
            " [[1181  234]\n",
            " [ 412 1016]]\n",
            "\n",
            "\n",
            "Accuracy Score:\n",
            " 0.772775237425255\n",
            "\n",
            "\n",
            "Classification Report: \n",
            "               precision    recall  f1-score   support\n",
            "\n",
            "           0       0.74      0.83      0.79      1415\n",
            "           1       0.81      0.71      0.76      1428\n",
            "\n",
            "    accuracy                           0.77      2843\n",
            "   macro avg       0.78      0.77      0.77      2843\n",
            "weighted avg       0.78      0.77      0.77      2843\n",
            "\n"
          ],
          "name": "stdout"
        }
      ]
    },
    {
      "cell_type": "markdown",
      "metadata": {
        "id": "TjNeL3sSftNa"
      },
      "source": [
        "#MLP"
      ]
    },
    {
      "cell_type": "code",
      "metadata": {
        "colab": {
          "base_uri": "https://localhost:8080/"
        },
        "id": "HCInYNo6gawK",
        "outputId": "99d785e0-8440-4735-c566-fc6fe6b63c4c"
      },
      "source": [
        "print(\"shape of X: {}\\nshape of y: {}\".format(X.shape,y.shape))"
      ],
      "execution_count": null,
      "outputs": [
        {
          "output_type": "stream",
          "text": [
            "shape of X: (9474, 51)\n",
            "shape of y: (9474,)\n"
          ],
          "name": "stdout"
        }
      ]
    },
    {
      "cell_type": "code",
      "metadata": {
        "colab": {
          "base_uri": "https://localhost:8080/",
          "height": 365
        },
        "id": "ggzEuRU3h91i",
        "outputId": "e7448903-8346-47f0-d1a2-a2e0f4a831b3"
      },
      "source": [
        "import torch\n",
        "from torch.utils.data import Dataset, DataLoader\n",
        "\n",
        "class dataset(Dataset):\n",
        "  def __init__(self,x,y):\n",
        "    self.x = torch.tensor(x,dtype=torch.float32)\n",
        "    self.y = torch.tensor(y,dtype=torch.float32)\n",
        "    self.length = self.x.shape[0]\n",
        " \n",
        "  def __getitem__(self,idx):\n",
        "    return self.x[idx],self.y[idx]\n",
        "  def __len__(self):\n",
        "    return self.length\n",
        "\n",
        "trainset = dataset(X,y)\n",
        "#DataLoader\n",
        "trainloader = DataLoader(trainset,batch_size=64,shuffle=False)"
      ],
      "execution_count": null,
      "outputs": [
        {
          "output_type": "error",
          "ename": "ValueError",
          "evalue": "ignored",
          "traceback": [
            "\u001b[0;31m---------------------------------------------------------------------------\u001b[0m",
            "\u001b[0;31mValueError\u001b[0m                                Traceback (most recent call last)",
            "\u001b[0;32m<ipython-input-17-c95c1adc4bd5>\u001b[0m in \u001b[0;36m<module>\u001b[0;34m()\u001b[0m\n\u001b[1;32m     13\u001b[0m     \u001b[0;32mreturn\u001b[0m \u001b[0mself\u001b[0m\u001b[0;34m.\u001b[0m\u001b[0mlength\u001b[0m\u001b[0;34m\u001b[0m\u001b[0;34m\u001b[0m\u001b[0m\n\u001b[1;32m     14\u001b[0m \u001b[0;34m\u001b[0m\u001b[0m\n\u001b[0;32m---> 15\u001b[0;31m \u001b[0mtrainset\u001b[0m \u001b[0;34m=\u001b[0m \u001b[0mdataset\u001b[0m\u001b[0;34m(\u001b[0m\u001b[0mX\u001b[0m\u001b[0;34m,\u001b[0m\u001b[0my\u001b[0m\u001b[0;34m)\u001b[0m\u001b[0;34m\u001b[0m\u001b[0;34m\u001b[0m\u001b[0m\n\u001b[0m\u001b[1;32m     16\u001b[0m \u001b[0;31m#DataLoader\u001b[0m\u001b[0;34m\u001b[0m\u001b[0;34m\u001b[0m\u001b[0;34m\u001b[0m\u001b[0m\n\u001b[1;32m     17\u001b[0m \u001b[0mtrainloader\u001b[0m \u001b[0;34m=\u001b[0m \u001b[0mDataLoader\u001b[0m\u001b[0;34m(\u001b[0m\u001b[0mtrainset\u001b[0m\u001b[0;34m,\u001b[0m\u001b[0mbatch_size\u001b[0m\u001b[0;34m=\u001b[0m\u001b[0;36m64\u001b[0m\u001b[0;34m,\u001b[0m\u001b[0mshuffle\u001b[0m\u001b[0;34m=\u001b[0m\u001b[0;32mFalse\u001b[0m\u001b[0;34m)\u001b[0m\u001b[0;34m\u001b[0m\u001b[0;34m\u001b[0m\u001b[0m\n",
            "\u001b[0;32m<ipython-input-17-c95c1adc4bd5>\u001b[0m in \u001b[0;36m__init__\u001b[0;34m(self, x, y)\u001b[0m\n\u001b[1;32m      4\u001b[0m \u001b[0;32mclass\u001b[0m \u001b[0mdataset\u001b[0m\u001b[0;34m(\u001b[0m\u001b[0mDataset\u001b[0m\u001b[0;34m)\u001b[0m\u001b[0;34m:\u001b[0m\u001b[0;34m\u001b[0m\u001b[0;34m\u001b[0m\u001b[0m\n\u001b[1;32m      5\u001b[0m   \u001b[0;32mdef\u001b[0m \u001b[0m__init__\u001b[0m\u001b[0;34m(\u001b[0m\u001b[0mself\u001b[0m\u001b[0;34m,\u001b[0m\u001b[0mx\u001b[0m\u001b[0;34m,\u001b[0m\u001b[0my\u001b[0m\u001b[0;34m)\u001b[0m\u001b[0;34m:\u001b[0m\u001b[0;34m\u001b[0m\u001b[0;34m\u001b[0m\u001b[0m\n\u001b[0;32m----> 6\u001b[0;31m     \u001b[0mself\u001b[0m\u001b[0;34m.\u001b[0m\u001b[0mx\u001b[0m \u001b[0;34m=\u001b[0m \u001b[0mtorch\u001b[0m\u001b[0;34m.\u001b[0m\u001b[0mtensor\u001b[0m\u001b[0;34m(\u001b[0m\u001b[0mx\u001b[0m\u001b[0;34m,\u001b[0m\u001b[0mdtype\u001b[0m\u001b[0;34m=\u001b[0m\u001b[0mtorch\u001b[0m\u001b[0;34m.\u001b[0m\u001b[0mfloat32\u001b[0m\u001b[0;34m)\u001b[0m\u001b[0;34m\u001b[0m\u001b[0;34m\u001b[0m\u001b[0m\n\u001b[0m\u001b[1;32m      7\u001b[0m     \u001b[0mself\u001b[0m\u001b[0;34m.\u001b[0m\u001b[0my\u001b[0m \u001b[0;34m=\u001b[0m \u001b[0mtorch\u001b[0m\u001b[0;34m.\u001b[0m\u001b[0mtensor\u001b[0m\u001b[0;34m(\u001b[0m\u001b[0my\u001b[0m\u001b[0;34m,\u001b[0m\u001b[0mdtype\u001b[0m\u001b[0;34m=\u001b[0m\u001b[0mtorch\u001b[0m\u001b[0;34m.\u001b[0m\u001b[0mfloat32\u001b[0m\u001b[0;34m)\u001b[0m\u001b[0;34m\u001b[0m\u001b[0;34m\u001b[0m\u001b[0m\n\u001b[1;32m      8\u001b[0m     \u001b[0mself\u001b[0m\u001b[0;34m.\u001b[0m\u001b[0mlength\u001b[0m \u001b[0;34m=\u001b[0m \u001b[0mself\u001b[0m\u001b[0;34m.\u001b[0m\u001b[0mx\u001b[0m\u001b[0;34m.\u001b[0m\u001b[0mshape\u001b[0m\u001b[0;34m[\u001b[0m\u001b[0;36m0\u001b[0m\u001b[0;34m]\u001b[0m\u001b[0;34m\u001b[0m\u001b[0;34m\u001b[0m\u001b[0m\n",
            "\u001b[0;31mValueError\u001b[0m: could not determine the shape of object type 'DataFrame'"
          ]
        }
      ]
    },
    {
      "cell_type": "code",
      "metadata": {
        "id": "ITwf4Ddhisz4"
      },
      "source": [
        "#defining the network\n",
        "from torch import nn\n",
        "from torch.nn import functional as F\n",
        "class Net(nn.Module):\n",
        "  def __init__(self,input_shape):\n",
        "    super(Net,self).__init__()\n",
        "    self.fc1 = nn.Linear(input_shape,32)\n",
        "    self.fc2 = nn.Linear(32,64)\n",
        "    self.fc3 = nn.Linear(64,1)\n",
        "  def forward(self,x):\n",
        "    x = torch.relu(self.fc1(x))\n",
        "    x = torch.relu(self.fc2(x))\n",
        "    x = torch.sigmoid(self.fc3(x))\n",
        "    return x"
      ],
      "execution_count": null,
      "outputs": []
    },
    {
      "cell_type": "code",
      "metadata": {
        "id": "AArx65BuivUZ"
      },
      "source": [
        "#hyper parameters\n",
        "learning_rate = 0.01\n",
        "epochs = 700\n",
        "# Model , Optimizer, Loss\n",
        "model = Net(input_shape=x.shape[1])\n",
        "optimizer = torch.optim.SGD(model.parameters(),lr=learning_rate)\n",
        "loss_fn = nn.BCELoss()"
      ],
      "execution_count": null,
      "outputs": []
    },
    {
      "cell_type": "code",
      "metadata": {
        "id": "ghBEEx3hiwwJ"
      },
      "source": [
        "#forward loop\n",
        "losses = []\n",
        "accur = []\n",
        "for i in range(epochs):\n",
        "  for j,(x_train,y_train) in enumerate(trainloader):\n",
        "    \n",
        "    #calculate output\n",
        "    output = model(x_train)\n",
        " \n",
        "    #calculate loss\n",
        "    loss = loss_fn(output,y_train.reshape(-1,1))\n",
        " \n",
        "    #accuracy\n",
        "    predicted = model(torch.tensor(x,dtype=torch.float32))\n",
        "    acc = (predicted.reshape(-1).detach().numpy().round() == y).mean()\n",
        "    #backprop\n",
        "    optimizer.zero_grad()\n",
        "    loss.backward()\n",
        "    optimizer.step()\n",
        "\n",
        "  if i%50 == 0:\n",
        "    losses.append(loss)\n",
        "    accur.append(acc)\n",
        "    print(\"epoch {}\\tloss : {}\\t accuracy : {}\".format(i,loss,acc))"
      ],
      "execution_count": null,
      "outputs": []
    },
    {
      "cell_type": "code",
      "metadata": {
        "id": "PvwmM0zliykJ"
      },
      "source": [
        "#plotting the loss\n",
        "plt.plot(losses)\n",
        "plt.title('Loss vs Epochs')\n",
        "plt.xlabel('Epochs')\n",
        "plt.ylabel('loss')"
      ],
      "execution_count": null,
      "outputs": []
    },
    {
      "cell_type": "code",
      "metadata": {
        "id": "TlkYwktCi1-I"
      },
      "source": [
        "#printing the accuracy\n",
        "plt.plot(accur)\n",
        "plt.title('Accuracy vs Epochs')\n",
        "plt.xlabel('Accuracy')\n",
        "plt.ylabel('loss')"
      ],
      "execution_count": null,
      "outputs": []
    }
  ]
}