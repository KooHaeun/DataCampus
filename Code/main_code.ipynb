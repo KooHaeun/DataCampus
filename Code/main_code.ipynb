{
  "nbformat": 4,
  "nbformat_minor": 0,
  "metadata": {
    "colab": {
      "name": "main_code.ipynb",
      "provenance": [],
      "collapsed_sections": []
    },
    "kernelspec": {
      "name": "python3",
      "display_name": "Python 3"
    },
    "language_info": {
      "name": "python"
    },
    "accelerator": "GPU"
  },
  "cells": [
    {
      "cell_type": "code",
      "metadata": {
        "colab": {
          "base_uri": "https://localhost:8080/"
        },
        "id": "JQLDS17jIFPO",
        "outputId": "b15e12fe-c6c0-450c-e1d4-0da16559da5d"
      },
      "source": [
        "from google.colab import drive\n",
        "drive.mount('/content/drive')"
      ],
      "execution_count": null,
      "outputs": [
        {
          "output_type": "stream",
          "text": [
            "Mounted at /content/drive\n"
          ],
          "name": "stdout"
        }
      ]
    },
    {
      "cell_type": "code",
      "metadata": {
        "id": "RpQU0pJsKc3j"
      },
      "source": [
        "path = '/content/drive/Shareddrives/데이터 청년 캠퍼스/DB/data.xlsx'"
      ],
      "execution_count": null,
      "outputs": []
    },
    {
      "cell_type": "code",
      "metadata": {
        "id": "5W_EcNbXK6qr"
      },
      "source": [
        "import pandas as pd"
      ],
      "execution_count": null,
      "outputs": []
    },
    {
      "cell_type": "code",
      "metadata": {
        "id": "owzJ1EACKiWE"
      },
      "source": [
        "data = pd.read_excel(path)"
      ],
      "execution_count": null,
      "outputs": []
    },
    {
      "cell_type": "code",
      "metadata": {
        "colab": {
          "base_uri": "https://localhost:8080/"
        },
        "id": "Y774uX6IKloS",
        "outputId": "483133ee-2661-45aa-8d2c-7c164ae1b152"
      },
      "source": [
        "data.info()"
      ],
      "execution_count": null,
      "outputs": [
        {
          "output_type": "stream",
          "text": [
            "<class 'pandas.core.frame.DataFrame'>\n",
            "RangeIndex: 9474 entries, 0 to 9473\n",
            "Data columns (total 53 columns):\n",
            " #   Column  Non-Null Count  Dtype  \n",
            "---  ------  --------------  -----  \n",
            " 0   x_0     9474 non-null   float64\n",
            " 1   y_0     9474 non-null   float64\n",
            " 2   z_0     9474 non-null   float64\n",
            " 3   x_1     9474 non-null   float64\n",
            " 4   y_1     9474 non-null   float64\n",
            " 5   z_1     9474 non-null   float64\n",
            " 6   x_2     9474 non-null   float64\n",
            " 7   y_2     9474 non-null   float64\n",
            " 8   z_2     9474 non-null   float64\n",
            " 9   x_3     9474 non-null   float64\n",
            " 10  y_3     9474 non-null   float64\n",
            " 11  z_3     9474 non-null   float64\n",
            " 12  x_4     9474 non-null   float64\n",
            " 13  y_4     9474 non-null   float64\n",
            " 14  z_4     9474 non-null   float64\n",
            " 15  x_5     9474 non-null   float64\n",
            " 16  y_5     9474 non-null   float64\n",
            " 17  z_5     9474 non-null   float64\n",
            " 18  x_6     9474 non-null   float64\n",
            " 19  y_6     9474 non-null   float64\n",
            " 20  z_6     9474 non-null   float64\n",
            " 21  x_7     9474 non-null   float64\n",
            " 22  y_7     9474 non-null   float64\n",
            " 23  z_7     9474 non-null   float64\n",
            " 24  x_8     9474 non-null   float64\n",
            " 25  y_8     9474 non-null   float64\n",
            " 26  z_8     9474 non-null   float64\n",
            " 27  x_9     9474 non-null   float64\n",
            " 28  y_9     9474 non-null   float64\n",
            " 29  z_9     9474 non-null   float64\n",
            " 30  x_10    9474 non-null   float64\n",
            " 31  y_10    9474 non-null   float64\n",
            " 32  z_10    9474 non-null   float64\n",
            " 33  x_11    9474 non-null   float64\n",
            " 34  y_11    9474 non-null   float64\n",
            " 35  z_11    9474 non-null   float64\n",
            " 36  x_12    9474 non-null   float64\n",
            " 37  y_12    9474 non-null   float64\n",
            " 38  z_12    9474 non-null   float64\n",
            " 39  x_13    9474 non-null   float64\n",
            " 40  y_13    9474 non-null   float64\n",
            " 41  z_13    9474 non-null   float64\n",
            " 42  x_14    9474 non-null   float64\n",
            " 43  y_14    9474 non-null   float64\n",
            " 44  z_14    9474 non-null   float64\n",
            " 45  x_15    9474 non-null   float64\n",
            " 46  y_15    9474 non-null   float64\n",
            " 47  z_15    9474 non-null   float64\n",
            " 48  x_16    9474 non-null   float64\n",
            " 49  y_16    9474 non-null   float64\n",
            " 50  z_16    9474 non-null   float64\n",
            " 51  y       9474 non-null   int64  \n",
            " 52  image   9474 non-null   object \n",
            "dtypes: float64(51), int64(1), object(1)\n",
            "memory usage: 3.8+ MB\n"
          ],
          "name": "stdout"
        }
      ]
    },
    {
      "cell_type": "code",
      "metadata": {
        "id": "wIkHYbfqaSQs"
      },
      "source": [
        "#X = data.drop(['z_0','z_1','z_2','z_3','z_4','z_5','z_6','z_7','z_8','z_9','z_10','z_11','z_12','z_13','z_14','z_15','z_16','y','image'], axis = 1)\n",
        "X = data.drop(['x_0','y_0','z_0','x_1','y_1','z_1','x_5','y_5','z_5','x_9','y_9','z_9','x_13','y_13','z_13','y','image'], axis = 1)\n",
        "#X = data.drop(['y','image'], axis = 1)"
      ],
      "execution_count": null,
      "outputs": []
    },
    {
      "cell_type": "code",
      "metadata": {
        "id": "t_vPE_KjNg6K"
      },
      "source": [
        "y = data[\"y\"]"
      ],
      "execution_count": null,
      "outputs": []
    },
    {
      "cell_type": "markdown",
      "metadata": {
        "id": "h8yOrlj7LMlT"
      },
      "source": [
        "#데이터 정규화"
      ]
    },
    {
      "cell_type": "markdown",
      "metadata": {
        "id": "m8Gfs5twPm86"
      },
      "source": [
        "##손바닥 - 엄지손가락 vector을 통해 이미지 같은 방향으로 맞춘다"
      ]
    },
    {
      "cell_type": "code",
      "metadata": {
        "id": "EqxjrFG7lcpn"
      },
      "source": [
        ""
      ],
      "execution_count": null,
      "outputs": []
    },
    {
      "cell_type": "markdown",
      "metadata": {
        "id": "3hZK_lLIPuCh"
      },
      "source": [
        "##엄지 손가락 기준으로 손크기 맞춘다"
      ]
    },
    {
      "cell_type": "code",
      "metadata": {
        "id": "Sl78_geQPtj6"
      },
      "source": [
        ""
      ],
      "execution_count": null,
      "outputs": []
    },
    {
      "cell_type": "markdown",
      "metadata": {
        "id": "P5oTLDCQLP5b"
      },
      "source": [
        "#모델"
      ]
    },
    {
      "cell_type": "code",
      "metadata": {
        "id": "_mqy5U8SbO8u"
      },
      "source": [
        "import numpy as np\n",
        "import pandas as pd\n",
        "import seaborn as sns\n",
        "import matplotlib.pyplot as plt\n",
        "import tensorflow as tf\n",
        "from tensorflow import keras\n",
        "from tensorflow.keras import layers\n",
        "from scipy.stats import norm, boxcox\n",
        "from scipy import stats\n",
        "from collections import Counter\n",
        "from sklearn.model_selection import cross_val_score, cross_validate\n",
        "from sklearn.metrics import roc_curve\n",
        "import warnings\n",
        "warnings.simplefilter(action='ignore', category=FutureWarning)"
      ],
      "execution_count": null,
      "outputs": []
    },
    {
      "cell_type": "code",
      "metadata": {
        "id": "QQmK9ErbLSWz"
      },
      "source": [
        "from sklearn.model_selection import train_test_split\n",
        "X_train, X_test, y_train, y_test = train_test_split(X, y, test_size=0.3, shuffle=False, random_state=1004)"
      ],
      "execution_count": null,
      "outputs": []
    },
    {
      "cell_type": "code",
      "metadata": {
        "id": "inLGO1j0arYj"
      },
      "source": [
        "from sklearn.metrics import classification_report, confusion_matrix, accuracy_score\n",
        "\n",
        "def metrics(y_true, y_pred):\n",
        "    print('Confusion Matrix:\\n', confusion_matrix(y_true, y_pred))\n",
        "    print('\\n\\nAccuracy Score:\\n', accuracy_score(y_true, y_pred))\n",
        "    print('\\n\\nClassification Report: \\n', classification_report(y_true, y_pred))\n",
        "\n",
        "def predictions(model,X_train=X_train, X_test=X_test, y_train=y_train, y_test=y_test):\n",
        "      model.fit(X_train, y_train)\n",
        "      #predictions\n",
        "      train_pred = model.predict(X_train)\n",
        "      test_pred = model.predict(X_test)\n",
        "      actual = [y_train, y_test]\n",
        "      pred = [train_pred, test_pred]\n",
        "      for i in range(0,2):\n",
        "          if i==0:\n",
        "              print('----Train Metrics----')\n",
        "          else:\n",
        "              print('----Test Metrics----')\n",
        "          metrics(actual[i], pred[i])"
      ],
      "execution_count": null,
      "outputs": []
    },
    {
      "cell_type": "code",
      "metadata": {
        "colab": {
          "base_uri": "https://localhost:8080/"
        },
        "id": "YAKC6nCGLSZi",
        "outputId": "240e1cc8-9882-4d34-aebc-5e79a1a0df05"
      },
      "source": [
        "from sklearn.tree import DecisionTreeClassifier\n",
        "dt = DecisionTreeClassifier()\n",
        "predictions(dt)\n",
        "dt.feature_importances_"
      ],
      "execution_count": null,
      "outputs": [
        {
          "output_type": "stream",
          "text": [
            "----Train Metrics----\n",
            "Confusion Matrix:\n",
            " [[4774    0]\n",
            " [   0 1857]]\n",
            "\n",
            "\n",
            "Accuracy Score:\n",
            " 1.0\n",
            "\n",
            "\n",
            "Classification Report: \n",
            "               precision    recall  f1-score   support\n",
            "\n",
            "           0       1.00      1.00      1.00      4774\n",
            "           1       1.00      1.00      1.00      1857\n",
            "\n",
            "    accuracy                           1.00      6631\n",
            "   macro avg       1.00      1.00      1.00      6631\n",
            "weighted avg       1.00      1.00      1.00      6631\n",
            "\n",
            "----Test Metrics----\n",
            "Confusion Matrix:\n",
            " [[   0    0]\n",
            " [1741 1102]]\n",
            "\n",
            "\n",
            "Accuracy Score:\n",
            " 0.38761871262750613\n",
            "\n",
            "\n",
            "Classification Report: \n",
            "               precision    recall  f1-score   support\n",
            "\n",
            "           0       0.00      0.00      0.00         0\n",
            "           1       1.00      0.39      0.56      2843\n",
            "\n",
            "    accuracy                           0.39      2843\n",
            "   macro avg       0.50      0.19      0.28      2843\n",
            "weighted avg       1.00      0.39      0.56      2843\n",
            "\n"
          ],
          "name": "stdout"
        },
        {
          "output_type": "stream",
          "text": [
            "/usr/local/lib/python3.7/dist-packages/sklearn/metrics/_classification.py:1272: UndefinedMetricWarning: Recall and F-score are ill-defined and being set to 0.0 in labels with no true samples. Use `zero_division` parameter to control this behavior.\n",
            "  _warn_prf(average, modifier, msg_start, len(result))\n"
          ],
          "name": "stderr"
        },
        {
          "output_type": "execute_result",
          "data": {
            "text/plain": [
              "array([0.02439157, 0.04817045, 0.04750987, 0.02535626, 0.03164238,\n",
              "       0.01668014, 0.02348349, 0.0319599 , 0.04918858, 0.01211779,\n",
              "       0.00707008, 0.03919895, 0.00721243, 0.00641028, 0.01198747,\n",
              "       0.02140213, 0.01913978, 0.00653817, 0.0156457 , 0.01165262,\n",
              "       0.01719422, 0.00417244, 0.03805031, 0.02712182, 0.02578131,\n",
              "       0.05432511, 0.01450755, 0.04860601, 0.18762857, 0.01406398,\n",
              "       0.0081561 , 0.01165714, 0.01049304, 0.0405004 , 0.02449375,\n",
              "       0.0164902 ])"
            ]
          },
          "metadata": {
            "tags": []
          },
          "execution_count": 26
        }
      ]
    },
    {
      "cell_type": "code",
      "metadata": {
        "colab": {
          "base_uri": "https://localhost:8080/"
        },
        "id": "vp20S4q1aoPz",
        "outputId": "f35c46c7-50e6-49ef-c871-b9775d4b6601"
      },
      "source": [
        "from sklearn.neighbors import KNeighborsClassifier\n",
        "knn = KNeighborsClassifier(n_neighbors=1)\n",
        "predictions(knn)"
      ],
      "execution_count": null,
      "outputs": [
        {
          "output_type": "stream",
          "text": [
            "----Train Metrics----\n",
            "Confusion Matrix:\n",
            " [[4774    0]\n",
            " [   0 1857]]\n",
            "\n",
            "\n",
            "Accuracy Score:\n",
            " 1.0\n",
            "\n",
            "\n",
            "Classification Report: \n",
            "               precision    recall  f1-score   support\n",
            "\n",
            "           0       1.00      1.00      1.00      4774\n",
            "           1       1.00      1.00      1.00      1857\n",
            "\n",
            "    accuracy                           1.00      6631\n",
            "   macro avg       1.00      1.00      1.00      6631\n",
            "weighted avg       1.00      1.00      1.00      6631\n",
            "\n",
            "----Test Metrics----\n",
            "Confusion Matrix:\n",
            " [[   0    0]\n",
            " [1708 1135]]\n",
            "\n",
            "\n",
            "Accuracy Score:\n",
            " 0.39922616953921913\n",
            "\n",
            "\n",
            "Classification Report: \n",
            "               precision    recall  f1-score   support\n",
            "\n",
            "           0       0.00      0.00      0.00         0\n",
            "           1       1.00      0.40      0.57      2843\n",
            "\n",
            "    accuracy                           0.40      2843\n",
            "   macro avg       0.50      0.20      0.29      2843\n",
            "weighted avg       1.00      0.40      0.57      2843\n",
            "\n"
          ],
          "name": "stdout"
        },
        {
          "output_type": "stream",
          "text": [
            "/usr/local/lib/python3.7/dist-packages/sklearn/metrics/_classification.py:1272: UndefinedMetricWarning: Recall and F-score are ill-defined and being set to 0.0 in labels with no true samples. Use `zero_division` parameter to control this behavior.\n",
            "  _warn_prf(average, modifier, msg_start, len(result))\n"
          ],
          "name": "stderr"
        }
      ]
    },
    {
      "cell_type": "code",
      "metadata": {
        "colab": {
          "base_uri": "https://localhost:8080/",
          "height": 352
        },
        "id": "1HR1BblsLSe8",
        "outputId": "831731df-4235-4398-f0bd-73d3378f4734"
      },
      "source": [
        "import matplotlib\n",
        "matplotlib.rc(\"xtick\", labelsize=20)\n",
        "matplotlib.rc(\"ytick\", labelsize=20)\n",
        "\n",
        "train_accuracies = [0.5]\n",
        "test_accuracies = [0.5]\n",
        "\n",
        "for k in range(1, 12):\n",
        "    clf = KNeighborsClassifier(n_neighbors=k)\n",
        "    \n",
        "    # Train model\n",
        "    clf.fit(X_train, y_train)\n",
        "    # Create train and test predictions\n",
        "    train_predictions = clf.predict(X_train)\n",
        "    test_predictions = clf.predict(X_test)\n",
        "    # Calculate training and test accuracies\n",
        "    train_accuracy = accuracy_score(y_train, train_predictions)\n",
        "    test_accuracy = accuracy_score(y_test, test_predictions)\n",
        "    # Append accuracies\n",
        "    train_accuracies.append(train_accuracy)\n",
        "    test_accuracies.append(test_accuracy)\n",
        "    \n",
        "# Create plots\n",
        "plt.figure(figsize=(10, 5))\n",
        "sns.set_style(\"whitegrid\")\n",
        "plt.plot(train_accuracies, label=\"train accuracy\")\n",
        "plt.plot(test_accuracies, label=\"test accuracy\")\n",
        "plt.legend(loc=\"upper left\", prop={\"size\" : 15})\n",
        "plt.xticks(range(0, 16, 5))\n",
        "plt.xlabel(\"value k\", size=20)\n",
        "plt.ylabel(\"accuracy\", size=20)\n",
        "plt.show()"
      ],
      "execution_count": null,
      "outputs": [
        {
          "output_type": "display_data",
          "data": {
            "image/png": "[encoded data removed]",
            "text/plain": [
              "<Figure size 720x360 with 1 Axes>"
            ]
          },
          "metadata": {
            "tags": []
          }
        }
      ]
    },
    {
      "cell_type": "markdown",
      "metadata": {
        "id": "TjNeL3sSftNa"
      },
      "source": [
        "#MLP"
      ]
    },
    {
      "cell_type": "code",
      "metadata": {
        "colab": {
          "base_uri": "https://localhost:8080/"
        },
        "id": "HCInYNo6gawK",
        "outputId": "99d785e0-8440-4735-c566-fc6fe6b63c4c"
      },
      "source": [
        "print(\"shape of X: {}\\nshape of y: {}\".format(X.shape,y.shape))"
      ],
      "execution_count": null,
      "outputs": [
        {
          "output_type": "stream",
          "text": [
            "shape of X: (9474, 51)\n",
            "shape of y: (9474,)\n"
          ],
          "name": "stdout"
        }
      ]
    },
    {
      "cell_type": "code",
      "metadata": {
        "colab": {
          "base_uri": "https://localhost:8080/",
          "height": 365
        },
        "id": "ggzEuRU3h91i",
        "outputId": "e7448903-8346-47f0-d1a2-a2e0f4a831b3"
      },
      "source": [
        "import torch\n",
        "from torch.utils.data import Dataset, DataLoader\n",
        "\n",
        "class dataset(Dataset):\n",
        "  def __init__(self,x,y):\n",
        "    self.x = torch.tensor(x,dtype=torch.float32)\n",
        "    self.y = torch.tensor(y,dtype=torch.float32)\n",
        "    self.length = self.x.shape[0]\n",
        " \n",
        "  def __getitem__(self,idx):\n",
        "    return self.x[idx],self.y[idx]\n",
        "  def __len__(self):\n",
        "    return self.length\n",
        "\n",
        "trainset = dataset(X,y)\n",
        "#DataLoader\n",
        "trainloader = DataLoader(trainset,batch_size=64,shuffle=False)"
      ],
      "execution_count": null,
      "outputs": [
        {
          "output_type": "error",
          "ename": "ValueError",
          "evalue": "ignored",
          "traceback": [
            "\u001b[0;31m---------------------------------------------------------------------------\u001b[0m",
            "\u001b[0;31mValueError\u001b[0m                                Traceback (most recent call last)",
            "\u001b[0;32m<ipython-input-17-c95c1adc4bd5>\u001b[0m in \u001b[0;36m<module>\u001b[0;34m()\u001b[0m\n\u001b[1;32m     13\u001b[0m     \u001b[0;32mreturn\u001b[0m \u001b[0mself\u001b[0m\u001b[0;34m.\u001b[0m\u001b[0mlength\u001b[0m\u001b[0;34m\u001b[0m\u001b[0;34m\u001b[0m\u001b[0m\n\u001b[1;32m     14\u001b[0m \u001b[0;34m\u001b[0m\u001b[0m\n\u001b[0;32m---> 15\u001b[0;31m \u001b[0mtrainset\u001b[0m \u001b[0;34m=\u001b[0m \u001b[0mdataset\u001b[0m\u001b[0;34m(\u001b[0m\u001b[0mX\u001b[0m\u001b[0;34m,\u001b[0m\u001b[0my\u001b[0m\u001b[0;34m)\u001b[0m\u001b[0;34m\u001b[0m\u001b[0;34m\u001b[0m\u001b[0m\n\u001b[0m\u001b[1;32m     16\u001b[0m \u001b[0;31m#DataLoader\u001b[0m\u001b[0;34m\u001b[0m\u001b[0;34m\u001b[0m\u001b[0;34m\u001b[0m\u001b[0m\n\u001b[1;32m     17\u001b[0m \u001b[0mtrainloader\u001b[0m \u001b[0;34m=\u001b[0m \u001b[0mDataLoader\u001b[0m\u001b[0;34m(\u001b[0m\u001b[0mtrainset\u001b[0m\u001b[0;34m,\u001b[0m\u001b[0mbatch_size\u001b[0m\u001b[0;34m=\u001b[0m\u001b[0;36m64\u001b[0m\u001b[0;34m,\u001b[0m\u001b[0mshuffle\u001b[0m\u001b[0;34m=\u001b[0m\u001b[0;32mFalse\u001b[0m\u001b[0;34m)\u001b[0m\u001b[0;34m\u001b[0m\u001b[0;34m\u001b[0m\u001b[0m\n",
            "\u001b[0;32m<ipython-input-17-c95c1adc4bd5>\u001b[0m in \u001b[0;36m__init__\u001b[0;34m(self, x, y)\u001b[0m\n\u001b[1;32m      4\u001b[0m \u001b[0;32mclass\u001b[0m \u001b[0mdataset\u001b[0m\u001b[0;34m(\u001b[0m\u001b[0mDataset\u001b[0m\u001b[0;34m)\u001b[0m\u001b[0;34m:\u001b[0m\u001b[0;34m\u001b[0m\u001b[0;34m\u001b[0m\u001b[0m\n\u001b[1;32m      5\u001b[0m   \u001b[0;32mdef\u001b[0m \u001b[0m__init__\u001b[0m\u001b[0;34m(\u001b[0m\u001b[0mself\u001b[0m\u001b[0;34m,\u001b[0m\u001b[0mx\u001b[0m\u001b[0;34m,\u001b[0m\u001b[0my\u001b[0m\u001b[0;34m)\u001b[0m\u001b[0;34m:\u001b[0m\u001b[0;34m\u001b[0m\u001b[0;34m\u001b[0m\u001b[0m\n\u001b[0;32m----> 6\u001b[0;31m     \u001b[0mself\u001b[0m\u001b[0;34m.\u001b[0m\u001b[0mx\u001b[0m \u001b[0;34m=\u001b[0m \u001b[0mtorch\u001b[0m\u001b[0;34m.\u001b[0m\u001b[0mtensor\u001b[0m\u001b[0;34m(\u001b[0m\u001b[0mx\u001b[0m\u001b[0;34m,\u001b[0m\u001b[0mdtype\u001b[0m\u001b[0;34m=\u001b[0m\u001b[0mtorch\u001b[0m\u001b[0;34m.\u001b[0m\u001b[0mfloat32\u001b[0m\u001b[0;34m)\u001b[0m\u001b[0;34m\u001b[0m\u001b[0;34m\u001b[0m\u001b[0m\n\u001b[0m\u001b[1;32m      7\u001b[0m     \u001b[0mself\u001b[0m\u001b[0;34m.\u001b[0m\u001b[0my\u001b[0m \u001b[0;34m=\u001b[0m \u001b[0mtorch\u001b[0m\u001b[0;34m.\u001b[0m\u001b[0mtensor\u001b[0m\u001b[0;34m(\u001b[0m\u001b[0my\u001b[0m\u001b[0;34m,\u001b[0m\u001b[0mdtype\u001b[0m\u001b[0;34m=\u001b[0m\u001b[0mtorch\u001b[0m\u001b[0;34m.\u001b[0m\u001b[0mfloat32\u001b[0m\u001b[0;34m)\u001b[0m\u001b[0;34m\u001b[0m\u001b[0;34m\u001b[0m\u001b[0m\n\u001b[1;32m      8\u001b[0m     \u001b[0mself\u001b[0m\u001b[0;34m.\u001b[0m\u001b[0mlength\u001b[0m \u001b[0;34m=\u001b[0m \u001b[0mself\u001b[0m\u001b[0;34m.\u001b[0m\u001b[0mx\u001b[0m\u001b[0;34m.\u001b[0m\u001b[0mshape\u001b[0m\u001b[0;34m[\u001b[0m\u001b[0;36m0\u001b[0m\u001b[0;34m]\u001b[0m\u001b[0;34m\u001b[0m\u001b[0;34m\u001b[0m\u001b[0m\n",
            "\u001b[0;31mValueError\u001b[0m: could not determine the shape of object type 'DataFrame'"
          ]
        }
      ]
    },
    {
      "cell_type": "code",
      "metadata": {
        "id": "ITwf4Ddhisz4"
      },
      "source": [
        "#defining the network\n",
        "from torch import nn\n",
        "from torch.nn import functional as F\n",
        "class Net(nn.Module):\n",
        "  def __init__(self,input_shape):\n",
        "    super(Net,self).__init__()\n",
        "    self.fc1 = nn.Linear(input_shape,32)\n",
        "    self.fc2 = nn.Linear(32,64)\n",
        "    self.fc3 = nn.Linear(64,1)\n",
        "  def forward(self,x):\n",
        "    x = torch.relu(self.fc1(x))\n",
        "    x = torch.relu(self.fc2(x))\n",
        "    x = torch.sigmoid(self.fc3(x))\n",
        "    return x"
      ],
      "execution_count": null,
      "outputs": []
    },
    {
      "cell_type": "code",
      "metadata": {
        "id": "AArx65BuivUZ"
      },
      "source": [
        "#hyper parameters\n",
        "learning_rate = 0.01\n",
        "epochs = 700\n",
        "# Model , Optimizer, Loss\n",
        "model = Net(input_shape=x.shape[1])\n",
        "optimizer = torch.optim.SGD(model.parameters(),lr=learning_rate)\n",
        "loss_fn = nn.BCELoss()"
      ],
      "execution_count": null,
      "outputs": []
    },
    {
      "cell_type": "code",
      "metadata": {
        "id": "ghBEEx3hiwwJ"
      },
      "source": [
        "#forward loop\n",
        "losses = []\n",
        "accur = []\n",
        "for i in range(epochs):\n",
        "  for j,(x_train,y_train) in enumerate(trainloader):\n",
        "    \n",
        "    #calculate output\n",
        "    output = model(x_train)\n",
        " \n",
        "    #calculate loss\n",
        "    loss = loss_fn(output,y_train.reshape(-1,1))\n",
        " \n",
        "    #accuracy\n",
        "    predicted = model(torch.tensor(x,dtype=torch.float32))\n",
        "    acc = (predicted.reshape(-1).detach().numpy().round() == y).mean()\n",
        "    #backprop\n",
        "    optimizer.zero_grad()\n",
        "    loss.backward()\n",
        "    optimizer.step()\n",
        "\n",
        "  if i%50 == 0:\n",
        "    losses.append(loss)\n",
        "    accur.append(acc)\n",
        "    print(\"epoch {}\\tloss : {}\\t accuracy : {}\".format(i,loss,acc))"
      ],
      "execution_count": null,
      "outputs": []
    },
    {
      "cell_type": "code",
      "metadata": {
        "id": "PvwmM0zliykJ"
      },
      "source": [
        "#plotting the loss\n",
        "plt.plot(losses)\n",
        "plt.title('Loss vs Epochs')\n",
        "plt.xlabel('Epochs')\n",
        "plt.ylabel('loss')"
      ],
      "execution_count": null,
      "outputs": []
    },
    {
      "cell_type": "code",
      "metadata": {
        "id": "TlkYwktCi1-I"
      },
      "source": [
        "#printing the accuracy\n",
        "plt.plot(accur)\n",
        "plt.title('Accuracy vs Epochs')\n",
        "plt.xlabel('Accuracy')\n",
        "plt.ylabel('loss')"
      ],
      "execution_count": null,
      "outputs": []
    }
  ]
}