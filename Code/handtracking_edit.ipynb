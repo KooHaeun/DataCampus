{
 "cells": [
  {
   "cell_type": "code",
   "execution_count": 19,
   "id": "3e82c997",
   "metadata": {},
   "outputs": [
    {
     "name": "stdout",
     "output_type": "stream",
     "text": [
      "16\n",
      "C:\\Users\\heni1\\sample\\bright_1.jpg\n",
      "C:\\Users\\heni1\\sample\\bright_13.jpg\n",
      "[4, 834, 432]\n",
      "C:\\Users\\heni1\\sample\\bright_14.jpg\n",
      "C:\\Users\\heni1\\sample\\bright_15.jpg\n",
      "[4, 798, 187]\n",
      "C:\\Users\\heni1\\sample\\bright_16.jpg\n",
      "[4, 997, 457]\n",
      "C:\\Users\\heni1\\sample\\bright_2.jpg\n",
      "[4, 1034, 259]\n",
      "C:\\Users\\heni1\\sample\\bright_3.jpg\n",
      "[4, 1288, 375]\n",
      "C:\\Users\\heni1\\sample\\bright_34.jpg\n",
      "[4, 1037, 414]\n",
      "C:\\Users\\heni1\\sample\\bright_35.jpg\n",
      "[4, 1044, 328]\n",
      "C:\\Users\\heni1\\sample\\bright_36.jpg\n",
      "[4, 479, 350]\n",
      "C:\\Users\\heni1\\sample\\bright_37.jpg\n",
      "[4, 1156, 783]\n",
      "C:\\Users\\heni1\\sample\\bright_38.jpg\n",
      "[4, 800, 423]\n",
      "C:\\Users\\heni1\\sample\\bright_39.jpg\n",
      "[4, 723, 293]\n",
      "C:\\Users\\heni1\\sample\\bright_40.jpg\n",
      "[4, 1181, 380]\n",
      "C:\\Users\\heni1\\sample\\bright_41.jpg\n",
      "[4, 1199, 453]\n",
      "C:\\Users\\heni1\\sample\\bright_42.jpg\n"
     ]
    }
   ],
   "source": [
    "def main():\n",
    "    pTime = 0\n",
    "    cTime = 0\n",
    "    file_path = \"C:\\\\Users\\\\heni1\\\\sample\\\\\"\n",
    "\n",
    "    \n",
    "    file_list = os.listdir(file_path)\n",
    "    file_list.sort()\n",
    "    total_origin_image_num = len(file_list)\n",
    "    print(total_origin_image_num)\n",
    "    augment_cnt = 1\n",
    "\n",
    "    for i in range(0, len(file_list)):\n",
    "        origin_image_path = file_path+file_list[i]\n",
    "        print(origin_image_path)\n",
    "        #cap = cv2.imread(file_path, cv2.IMREAD_COLOR)\n",
    "        cap = cv2.VideoCapture(origin_image_path)\n",
    "        detector = handDetector()\n",
    "\n",
    "        \n",
    "        success, img = cap.read()\n",
    "        img = detector.findHands(img)\n",
    "        lmList = detector.findPosition(img)\n",
    "        if len(lmList) != 0:\n",
    "            print(lmList[4])\n",
    "\n",
    "        cTime = time.time()\n",
    "        fps = 1 / (cTime - pTime)\n",
    "        pTime = cTime\n",
    "        cv2.putText(img, str(int(fps)), (10, 70), cv2.FONT_HERSHEY_PLAIN, 3, (255, 0, 255), 3)\n",
    "        cv2.waitKey(1)\n",
    "        cv2.imwrite(file_path+str(augment_cnt) + '.jpg',img)\n",
    "        augment_cnt += 1\n",
    "\n",
    "if __name__ == \"__main__\":\n",
    "    main()"
   ]
  },
  {
   "cell_type": "code",
   "execution_count": null,
   "id": "7482cf2a",
   "metadata": {},
   "outputs": [],
   "source": []
  }
 ],
 "metadata": {
  "kernelspec": {
   "display_name": "Python 3",
   "language": "python",
   "name": "python3"
  },
  "language_info": {
   "codemirror_mode": {
    "name": "ipython",
    "version": 3
   },
   "file_extension": ".py",
   "mimetype": "text/x-python",
   "name": "python",
   "nbconvert_exporter": "python",
   "pygments_lexer": "ipython3",
   "version": "3.8.8"
  }
 },
 "nbformat": 4,
 "nbformat_minor": 5
}
