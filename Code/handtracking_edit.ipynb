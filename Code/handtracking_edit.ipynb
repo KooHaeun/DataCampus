{
 "cells": [
  {
   "cell_type": "code",
   "execution_count": 19,
   "id": "3e82c997",
   "metadata": {},
   "source": [
    "def main():\n",
    "    pTime = 0\n",
    "    cTime = 0\n",
    "    file_path = \"C:\\\\Users\\\\heni1\\\\sample\\\\\"\n",
    "\n",
    "    \n",
    "    file_list = os.listdir(file_path)\n",
    "    file_list.sort()\n",
    "    total_origin_image_num = len(file_list)\n",
    "    print(total_origin_image_num)\n",
    "    augment_cnt = 1\n",
    "\n",
    "    for i in range(0, len(file_list)):\n",
    "        origin_image_path = file_path+file_list[i]\n",
    "        print(origin_image_path)\n",
    "        #cap = cv2.imread(file_path, cv2.IMREAD_COLOR)\n",
    "        cap = cv2.VideoCapture(origin_image_path)\n",
    "        detector = handDetector()\n",
    "\n",
    "        \n",
    "        success, img = cap.read()\n",
    "        img = detector.findHands(img)\n",
    "        lmList = detector.findPosition(img)\n",
    "        if len(lmList) != 0:\n",
    "            print(lmList[4])\n",
    "\n",
    "        cTime = time.time()\n",
    "        fps = 1 / (cTime - pTime)\n",
    "        pTime = cTime\n",
    "        cv2.putText(img, str(int(fps)), (10, 70), cv2.FONT_HERSHEY_PLAIN, 3, (255, 0, 255), 3)\n",
    "        cv2.waitKey(1)\n",
    "        cv2.imwrite(file_path+str(augment_cnt) + '.jpg',img)\n",
    "        augment_cnt += 1\n",
    "\n",
    "if __name__ == \"__main__\":\n",
    "    main()"
   ]
  },
  {
   "cell_type": "code",
   "execution_count": null,
   "id": "7482cf2a",
   "metadata": {},
   "outputs": [],
   "source": []
  }
 ],
 "metadata": {
  "kernelspec": {
   "display_name": "Python 3",
   "language": "python",
   "name": "python3"
  },
  "language_info": {
   "codemirror_mode": {
    "name": "ipython",
    "version": 3
   },
   "file_extension": ".py",
   "mimetype": "text/x-python",
   "name": "python",
   "nbconvert_exporter": "python",
   "pygments_lexer": "ipython3",
   "version": "3.8.8"
  }
 },
 "nbformat": 4,
 "nbformat_minor": 5
}
