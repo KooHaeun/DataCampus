{
  "nbformat": 4,
  "nbformat_minor": 0,
  "metadata": {
    "colab": {
      "name": "LSTM_AE.ipynb",
      "provenance": [],
      "collapsed_sections": []
    },
    "kernelspec": {
      "name": "python3",
      "display_name": "Python 3"
    },
    "language_info": {
      "name": "python"
    }
  },
  "cells": [
    {
      "cell_type": "markdown",
      "metadata": {
        "id": "9HDIxvnFlioV"
      },
      "source": [
        "#데이터 불러오기"
      ]
    },
    {
      "cell_type": "code",
      "metadata": {
        "colab": {
          "base_uri": "https://localhost:8080/"
        },
        "id": "nNniS9GBH4g6",
        "outputId": "da039022-c404-434a-a95b-971ba4dbeef7"
      },
      "source": [
        "from google.colab import drive\n",
        "drive.mount('/content/drive')"
      ],
      "execution_count": null,
      "outputs": [
        {
          "output_type": "stream",
          "text": [
            "Drive already mounted at /content/drive; to attempt to forcibly remount, call drive.mount(\"/content/drive\", force_remount=True).\n"
          ],
          "name": "stdout"
        }
      ]
    },
    {
      "cell_type": "code",
      "metadata": {
        "id": "l-wKvH23IXGO"
      },
      "source": [
        "import pandas as pd\n",
        "import numpy as np"
      ],
      "execution_count": null,
      "outputs": []
    },
    {
      "cell_type": "code",
      "metadata": {
        "id": "OlF4eLFJH_PE"
      },
      "source": [
        "path1='/content/drive/Shareddrives/데이터 청년 캠퍼스/젓가락질 데이터/새 젓가락질 데이터/excel 파일/lstm/data0826.xlsx'"
      ],
      "execution_count": null,
      "outputs": []
    },
    {
      "cell_type": "code",
      "metadata": {
        "id": "uBJLW85cIUzM"
      },
      "source": [
        "data= pd.read_excel(path1)"
      ],
      "execution_count": null,
      "outputs": []
    },
    {
      "cell_type": "code",
      "metadata": {
        "colab": {
          "base_uri": "https://localhost:8080/"
        },
        "id": "XPLnMogGeh8Q",
        "outputId": "58ccdd78-0c38-42bb-a1c1-88d757ee81fb"
      },
      "source": [
        "data.columns"
      ],
      "execution_count": null,
      "outputs": [
        {
          "output_type": "execute_result",
          "data": {
            "text/plain": [
              "Index(['x_1-0', 'y_1-0', 'x_2-1', 'y_2-1', 'x_3-2', 'y_3-2', 'x_4-3', 'y_4-3',\n",
              "       'x_5-4', 'y_5-4', 'x_6-5', 'y_6-5', 'x_7-6', 'y_7-6', 'x_8-7', 'y_8-7',\n",
              "       'x_9-8', 'y_9-8', 'x_10-9', 'y_10-9', 'x_11-10', 'y_11-10', 'x_12-11',\n",
              "       'y_12-11', 'x_13-12', 'y_13-12', 'x_14-13', 'y_14-13', 'x_15-14',\n",
              "       'y_15-14', 'x_16-15', 'y_16-15', 'd_ratio', 'd_ratio_sq', 'sin dif',\n",
              "       '엄지 중지 내적', '검지 중지 내적', 'y', 'id', 'time'],\n",
              "      dtype='object')"
            ]
          },
          "metadata": {},
          "execution_count": 3464
        }
      ]
    },
    {
      "cell_type": "markdown",
      "metadata": {
        "id": "D5k00gMhMQGg"
      },
      "source": [
        "#LSTM-AE"
      ]
    },
    {
      "cell_type": "markdown",
      "metadata": {
        "id": "lB_OB93YQYlY"
      },
      "source": [
        "##train-test 데이터셋 분리"
      ]
    },
    {
      "cell_type": "code",
      "metadata": {
        "id": "ENXjGRxFfZN_"
      },
      "source": [
        "vector0 = data[data[\"y\"]==0].sort_values(by=['id','time'])\n",
        "vector0.reset_index(drop=True, inplace=True)\n",
        "vector0.drop(['y'],axis=1, inplace=True)"
      ],
      "execution_count": null,
      "outputs": []
    },
    {
      "cell_type": "code",
      "metadata": {
        "id": "R11weJSTfp40"
      },
      "source": [
        "vector1 = data[data[\"y\"]==1].sort_values(by=['id','time'])\n",
        "vector1.reset_index(drop=True, inplace=True)\n",
        "vector1.drop(['y'],axis=1, inplace=True)"
      ],
      "execution_count": null,
      "outputs": []
    },
    {
      "cell_type": "code",
      "metadata": {
        "colab": {
          "base_uri": "https://localhost:8080/"
        },
        "id": "xRv2jwHIgEBP",
        "outputId": "c5a578e9-577b-412b-bb2e-8ea4568b1229"
      },
      "source": [
        "vector1[vector1.id == 45].index[0]"
      ],
      "execution_count": null,
      "outputs": [
        {
          "output_type": "execute_result",
          "data": {
            "text/plain": [
              "1024"
            ]
          },
          "metadata": {},
          "execution_count": 3468
        }
      ]
    },
    {
      "cell_type": "code",
      "metadata": {
        "id": "F0SzKurVGjl0"
      },
      "source": [
        "x0_test = vector0\n",
        "x1_train = vector1[:1024]\n",
        "x1_test = vector1[1024:]"
      ],
      "execution_count": null,
      "outputs": []
    },
    {
      "cell_type": "code",
      "metadata": {
        "colab": {
          "base_uri": "https://localhost:8080/"
        },
        "id": "b9gICvI4ld97",
        "outputId": "f4ca7650-2ab8-4704-8249-f8ad6d0c39f0"
      },
      "source": [
        "len(x1_train)"
      ],
      "execution_count": null,
      "outputs": [
        {
          "output_type": "execute_result",
          "data": {
            "text/plain": [
              "1024"
            ]
          },
          "metadata": {},
          "execution_count": 3470
        }
      ]
    },
    {
      "cell_type": "code",
      "metadata": {
        "colab": {
          "base_uri": "https://localhost:8080/"
        },
        "id": "XZ6CPfUo_Ea3",
        "outputId": "cd48ec02-1921-4cc1-cc00-a68bcdd7e637"
      },
      "source": [
        "len(x1_test)"
      ],
      "execution_count": null,
      "outputs": [
        {
          "output_type": "execute_result",
          "data": {
            "text/plain": [
              "352"
            ]
          },
          "metadata": {},
          "execution_count": 3471
        }
      ]
    },
    {
      "cell_type": "code",
      "metadata": {
        "colab": {
          "base_uri": "https://localhost:8080/"
        },
        "id": "VDrxMKjsiEic",
        "outputId": "01c91ce3-0050-4085-e9cf-c497f459572b"
      },
      "source": [
        "len(x0_test)"
      ],
      "execution_count": null,
      "outputs": [
        {
          "output_type": "execute_result",
          "data": {
            "text/plain": [
              "416"
            ]
          },
          "metadata": {},
          "execution_count": 3472
        }
      ]
    },
    {
      "cell_type": "code",
      "metadata": {
        "id": "HR-09SyonkVD"
      },
      "source": [
        "x1_train = np.array(x1_train)"
      ],
      "execution_count": null,
      "outputs": []
    },
    {
      "cell_type": "markdown",
      "metadata": {
        "id": "xB_XwtxjXOvI"
      },
      "source": [
        "비정상 :1, 정상: 0 으로 testset 구성"
      ]
    },
    {
      "cell_type": "code",
      "metadata": {
        "id": "hdqTqhbG-X5w"
      },
      "source": [
        "x0_test = np.array(x0_test)\n",
        "x1_test = np.array(x1_test)"
      ],
      "execution_count": null,
      "outputs": []
    },
    {
      "cell_type": "code",
      "metadata": {
        "id": "NaTHh6qJ9UZK"
      },
      "source": [
        "x00_test_tot = np.hstack((x0_test, np.ones(x0_test.shape[0]).reshape(-1,1)))\n",
        "x11_test_tot = np.hstack((x1_test, np.zeros(x1_test.shape[0]).reshape(-1,1)))\n",
        "test = np.vstack((x00_test_tot, x11_test_tot))"
      ],
      "execution_count": null,
      "outputs": []
    },
    {
      "cell_type": "code",
      "metadata": {
        "id": "MbpjLeq_9h5p"
      },
      "source": [
        "x1_train = x1_train[:,:-2]\n",
        "x_test = test[:,:-3]\n",
        "y_test = test[:,-1]"
      ],
      "execution_count": null,
      "outputs": []
    },
    {
      "cell_type": "code",
      "metadata": {
        "colab": {
          "base_uri": "https://localhost:8080/"
        },
        "id": "t-QotlneSM6_",
        "outputId": "c70a0075-d727-4bc4-9898-68306b2bee0a"
      },
      "source": [
        "print(x1_train.shape,x_test.shape)"
      ],
      "execution_count": null,
      "outputs": [
        {
          "output_type": "stream",
          "text": [
            "(1024, 37) (768, 37)\n"
          ],
          "name": "stdout"
        }
      ]
    },
    {
      "cell_type": "code",
      "metadata": {
        "id": "8Sr7jKb3oaeC"
      },
      "source": [
        "import tensorflow as tf"
      ],
      "execution_count": null,
      "outputs": []
    },
    {
      "cell_type": "code",
      "metadata": {
        "colab": {
          "base_uri": "https://localhost:8080/"
        },
        "id": "Ys8fUUMWYmI-",
        "outputId": "016aac40-f323-49e1-b1d0-5b5a68af8bce"
      },
      "source": [
        "x1_train=tf.reshape(x1_train,[-1, 32, x1_train.shape[1]]) # 마지막은 열 개수\n",
        "print(x1_train.shape)\n",
        "\n",
        "x_test=tf.reshape(x_test,[-1, 32, x_test.shape[1]]) # 마지막은 열 개수\n",
        "print(x_test.shape)"
      ],
      "execution_count": null,
      "outputs": [
        {
          "output_type": "stream",
          "text": [
            "(32, 32, 37)\n",
            "(24, 32, 37)\n"
          ],
          "name": "stdout"
        }
      ]
    },
    {
      "cell_type": "markdown",
      "metadata": {
        "id": "UL2x2mmvSKPK"
      },
      "source": [
        "##신경망 구축"
      ]
    },
    {
      "cell_type": "code",
      "metadata": {
        "id": "nw6Jl0FrSsZA"
      },
      "source": [
        "from keras import regularizers\n",
        "from keras.models import Model\n",
        "from keras.callbacks import EarlyStopping\n",
        "from keras.layers import Input, Dropout, Dense, LSTM, TimeDistributed, RepeatVector"
      ],
      "execution_count": null,
      "outputs": []
    },
    {
      "cell_type": "code",
      "metadata": {
        "id": "02slthVOQldb"
      },
      "source": [
        "def autoencoder_model(X):\n",
        "    inputs = Input(shape=(X.shape[1], X.shape[2])) #개수, 열\n",
        "    # return_sequences 가 True면 각 time_steps의 셀이 모두 출력으로 내보냄 , False 면 최종 셀만 출력으로 내보냄\n",
        "    L1 = LSTM(32, activation='relu', return_sequences=True, \n",
        "              kernel_regularizer=regularizers.l2(0.00))(inputs)\n",
        "    L2 = LSTM(16, activation='relu', return_sequences=False)(L1)\n",
        "    L3 = RepeatVector(X.shape[1])(L2)\n",
        "    L4 = LSTM(16, activation='relu', return_sequences=True)(L3)\n",
        "    L5 = LSTM(32, activation='relu', return_sequences=True)(L4)\n",
        "    output = TimeDistributed(Dense(X.shape[2]))(L5)    \n",
        "    model = Model(inputs=inputs, outputs=output)\n",
        "    return model"
      ],
      "execution_count": null,
      "outputs": []
    },
    {
      "cell_type": "code",
      "metadata": {
        "colab": {
          "base_uri": "https://localhost:8080/"
        },
        "id": "8OWO0n9iTqaG",
        "outputId": "9dd4f80f-a50f-43df-edc2-11895d40d51e"
      },
      "source": [
        "model = autoencoder_model(x1_train)\n",
        "model.compile(optimizer='adam',loss='mse')\n",
        "model.summary()"
      ],
      "execution_count": null,
      "outputs": [
        {
          "output_type": "stream",
          "text": [
            "Model: \"model_144\"\n",
            "_________________________________________________________________\n",
            "Layer (type)                 Output Shape              Param #   \n",
            "=================================================================\n",
            "input_145 (InputLayer)       [(None, 32, 37)]          0         \n",
            "_________________________________________________________________\n",
            "lstm_576 (LSTM)              (None, 32, 32)            8960      \n",
            "_________________________________________________________________\n",
            "lstm_577 (LSTM)              (None, 16)                3136      \n",
            "_________________________________________________________________\n",
            "repeat_vector_144 (RepeatVec (None, 32, 16)            0         \n",
            "_________________________________________________________________\n",
            "lstm_578 (LSTM)              (None, 32, 16)            2112      \n",
            "_________________________________________________________________\n",
            "lstm_579 (LSTM)              (None, 32, 32)            6272      \n",
            "_________________________________________________________________\n",
            "time_distributed_144 (TimeDi (None, 32, 37)            1221      \n",
            "=================================================================\n",
            "Total params: 21,701\n",
            "Trainable params: 21,701\n",
            "Non-trainable params: 0\n",
            "_________________________________________________________________\n"
          ],
          "name": "stdout"
        }
      ]
    },
    {
      "cell_type": "code",
      "metadata": {
        "id": "mWSIYzNlT17o"
      },
      "source": [
        "model = autoencoder_model(x1_train)\n",
        "model.compile(optimizer='adam',loss='mse')"
      ],
      "execution_count": null,
      "outputs": []
    },
    {
      "cell_type": "code",
      "metadata": {
        "colab": {
          "base_uri": "https://localhost:8080/"
        },
        "id": "53lZUq7MUSiP",
        "outputId": "785af1f8-6526-4e7c-e3a6-92cd6afa3c63"
      },
      "source": [
        "epochs=100\n",
        "batch_size=10\n",
        "callbacks=[EarlyStopping(monitor='val_loss',patience=5)]\n",
        "history = model.fit(x1_train, x1_train, epochs=epochs, batch_size= batch_size,callbacks = callbacks, validation_split=0.05).history"
      ],
      "execution_count": null,
      "outputs": [
        {
          "output_type": "stream",
          "text": [
            "Epoch 1/100\n",
            "3/3 [==============================] - 4s 357ms/step - loss: 26.3233 - val_loss: 3.0286\n",
            "Epoch 2/100\n",
            "3/3 [==============================] - 0s 48ms/step - loss: 17.3466 - val_loss: 2.8564\n",
            "Epoch 3/100\n",
            "3/3 [==============================] - 0s 47ms/step - loss: 14.7163 - val_loss: 2.8015\n",
            "Epoch 4/100\n",
            "3/3 [==============================] - 0s 54ms/step - loss: 14.5148 - val_loss: 2.7655\n",
            "Epoch 5/100\n",
            "3/3 [==============================] - 0s 47ms/step - loss: 14.4698 - val_loss: 2.7300\n",
            "Epoch 6/100\n",
            "3/3 [==============================] - 0s 49ms/step - loss: 14.4302 - val_loss: 2.6951\n",
            "Epoch 7/100\n",
            "3/3 [==============================] - 0s 52ms/step - loss: 14.3844 - val_loss: 2.6558\n",
            "Epoch 8/100\n",
            "3/3 [==============================] - 0s 51ms/step - loss: 14.3397 - val_loss: 2.6079\n",
            "Epoch 9/100\n",
            "3/3 [==============================] - 0s 49ms/step - loss: 14.2870 - val_loss: 2.5432\n",
            "Epoch 10/100\n",
            "3/3 [==============================] - 0s 49ms/step - loss: 14.3069 - val_loss: 2.4980\n",
            "Epoch 11/100\n",
            "3/3 [==============================] - 0s 51ms/step - loss: 14.1959 - val_loss: 2.4588\n",
            "Epoch 12/100\n",
            "3/3 [==============================] - 0s 50ms/step - loss: 14.1571 - val_loss: 2.3948\n",
            "Epoch 13/100\n",
            "3/3 [==============================] - 0s 48ms/step - loss: 14.1046 - val_loss: 2.2976\n",
            "Epoch 14/100\n",
            "3/3 [==============================] - 0s 50ms/step - loss: 14.0315 - val_loss: 2.1479\n",
            "Epoch 15/100\n",
            "3/3 [==============================] - 0s 50ms/step - loss: 14.0023 - val_loss: 2.0108\n",
            "Epoch 16/100\n",
            "3/3 [==============================] - 0s 48ms/step - loss: 13.8587 - val_loss: 1.9579\n",
            "Epoch 17/100\n",
            "3/3 [==============================] - 0s 45ms/step - loss: 13.7695 - val_loss: 1.8485\n",
            "Epoch 18/100\n",
            "3/3 [==============================] - 0s 52ms/step - loss: 13.7061 - val_loss: 1.7289\n",
            "Epoch 19/100\n",
            "3/3 [==============================] - 0s 50ms/step - loss: 13.6049 - val_loss: 1.6373\n",
            "Epoch 20/100\n",
            "3/3 [==============================] - 0s 47ms/step - loss: 13.5283 - val_loss: 1.5429\n",
            "Epoch 21/100\n",
            "3/3 [==============================] - 0s 48ms/step - loss: 13.4410 - val_loss: 1.4594\n",
            "Epoch 22/100\n",
            "3/3 [==============================] - 0s 51ms/step - loss: 13.3580 - val_loss: 1.3397\n",
            "Epoch 23/100\n",
            "3/3 [==============================] - 0s 51ms/step - loss: 13.2593 - val_loss: 1.2515\n",
            "Epoch 24/100\n",
            "3/3 [==============================] - 0s 49ms/step - loss: 13.1835 - val_loss: 1.1720\n",
            "Epoch 25/100\n",
            "3/3 [==============================] - 0s 49ms/step - loss: 13.0916 - val_loss: 1.0416\n",
            "Epoch 26/100\n",
            "3/3 [==============================] - 0s 52ms/step - loss: 12.9952 - val_loss: 0.9298\n",
            "Epoch 27/100\n",
            "3/3 [==============================] - 0s 49ms/step - loss: 12.9086 - val_loss: 0.8269\n",
            "Epoch 28/100\n",
            "3/3 [==============================] - 0s 51ms/step - loss: 12.8121 - val_loss: 0.7375\n",
            "Epoch 29/100\n",
            "3/3 [==============================] - 0s 47ms/step - loss: 12.7263 - val_loss: 0.6631\n",
            "Epoch 30/100\n",
            "3/3 [==============================] - 0s 51ms/step - loss: 12.6524 - val_loss: 0.5919\n",
            "Epoch 31/100\n",
            "3/3 [==============================] - 0s 50ms/step - loss: 12.5748 - val_loss: 0.5316\n",
            "Epoch 32/100\n",
            "3/3 [==============================] - 0s 47ms/step - loss: 12.5063 - val_loss: 0.4912\n",
            "Epoch 33/100\n",
            "3/3 [==============================] - 0s 53ms/step - loss: 12.4283 - val_loss: 0.4598\n",
            "Epoch 34/100\n",
            "3/3 [==============================] - 0s 47ms/step - loss: 12.3584 - val_loss: 0.4433\n",
            "Epoch 35/100\n",
            "3/3 [==============================] - 0s 50ms/step - loss: 12.3276 - val_loss: 0.4280\n",
            "Epoch 36/100\n",
            "3/3 [==============================] - 0s 49ms/step - loss: 12.3184 - val_loss: 0.4190\n",
            "Epoch 37/100\n",
            "3/3 [==============================] - 0s 54ms/step - loss: 12.3116 - val_loss: 0.4323\n",
            "Epoch 38/100\n",
            "3/3 [==============================] - 0s 48ms/step - loss: 12.2804 - val_loss: 0.4232\n",
            "Epoch 39/100\n",
            "3/3 [==============================] - 0s 51ms/step - loss: 12.2393 - val_loss: 0.3965\n",
            "Epoch 40/100\n",
            "3/3 [==============================] - 0s 49ms/step - loss: 12.1802 - val_loss: 0.4003\n",
            "Epoch 41/100\n",
            "3/3 [==============================] - 0s 50ms/step - loss: 12.1096 - val_loss: 0.4075\n",
            "Epoch 42/100\n",
            "3/3 [==============================] - 0s 49ms/step - loss: 12.0117 - val_loss: 0.4075\n",
            "Epoch 43/100\n",
            "3/3 [==============================] - 0s 49ms/step - loss: 11.9600 - val_loss: 0.4356\n",
            "Epoch 44/100\n",
            "3/3 [==============================] - 0s 53ms/step - loss: 11.9192 - val_loss: 0.4100\n"
          ],
          "name": "stdout"
        }
      ]
    },
    {
      "cell_type": "code",
      "metadata": {
        "id": "TLOZT9UjlDnL"
      },
      "source": [
        "import seaborn as sns\n",
        "sns.set(color_codes=True)\n",
        "import matplotlib.pyplot as plt\n",
        "%matplotlib inline"
      ],
      "execution_count": null,
      "outputs": []
    },
    {
      "cell_type": "code",
      "metadata": {
        "id": "YoLeVXMyUrFd",
        "colab": {
          "base_uri": "https://localhost:8080/",
          "height": 457
        },
        "outputId": "4c66e7db-8b97-4429-8370-554cca91f833"
      },
      "source": [
        "# 학습 손실 시각화\n",
        "fig, ax = plt.subplots(figsize=(14, 6), dpi=80)\n",
        "ax.plot(history['val_loss'], 'b', label='Train', linewidth=2)\n",
        "ax.plot(history['loss'], 'r', label='Validation', linewidth=2)\n",
        "ax.set_title('Model loss', fontsize=16)\n",
        "ax.set_ylabel('Loss (mae)')\n",
        "ax.set_xlabel('Epoch')\n",
        "ax.legend(loc='upper right')\n",
        "plt.show()"
      ],
      "execution_count": null,
      "outputs": [
        {
          "output_type": "display_data",
          "data": {
            "image/png": "[encoded data removed]",
            "text/plain": [
              "<Figure size 1120x480 with 1 Axes>"
            ]
          },
          "metadata": {
            "needs_background": "light"
          }
        }
      ]
    },
    {
      "cell_type": "markdown",
      "metadata": {
        "id": "Rj9n-y0OdB7y"
      },
      "source": [
        "재구성손실값도출"
      ]
    },
    {
      "cell_type": "code",
      "metadata": {
        "id": "1Qn-f0L2oOW7"
      },
      "source": [
        "from sklearn import metrics"
      ],
      "execution_count": null,
      "outputs": []
    },
    {
      "cell_type": "code",
      "metadata": {
        "colab": {
          "base_uri": "https://localhost:8080/",
          "height": 645
        },
        "id": "JmEimWqZmooQ",
        "outputId": "1df59110-5f26-463f-c897-82ca82530da7"
      },
      "source": [
        "#TEST 데이터 입력\n",
        "test_predictions_3d = model.predict(x_test)\n",
        "test_predictions = test_predictions_3d.reshape(test_predictions_3d.shape[0]*test_predictions_3d.shape[1], test_predictions_3d.shape[2])\n",
        "x_test_ = np.array(x_test).reshape(x_test.shape[0]*x_test.shape[1], x_test.shape[2])\n",
        "\n",
        "#재구성 손실 값 도출\n",
        "mse = np.mean(np.power(x_test_ - test_predictions, 2), axis=1)\n",
        "error_df = pd.DataFrame({'Reconstruction_error':mse, 'True_class': y_test})\n",
        "\n",
        "print(error_df)\n",
        "\n",
        "precision_rt, recall_rt, threshold_rt = metrics.precision_recall_curve(error_df['True_class'], error_df['Reconstruction_error']) ##auc curve 사용 말고 다른 방법\n",
        "\n",
        "#모델 최적의 threshold 값 찾기\n",
        "best_cnt_dic = abs(precision_rt - recall_rt)\n",
        "threshold_fixed = threshold_rt[np.argmin(best_cnt_dic)]  #둘의 차가 최소가 될때가 threshold\n",
        "\n",
        "print(np.argmin(best_cnt_dic))\n",
        "print('precision: ', precision_rt[np.argmin(best_cnt_dic)], ', recall: ', recall_rt[np.argmin(best_cnt_dic)])\n",
        "print('threshold: ', threshold_fixed)\n",
        "\n",
        "plt.figure(figsize=(8,5))\n",
        "plt.plot(threshold_rt, precision_rt[1:], label = 'Precision')\n",
        "plt.plot(threshold_rt, recall_rt[1:], label = 'Recall')\n",
        "plt.xlabel('Threshold'); plt.ylabel('Precision/Recall')\n",
        "plt.legend()\n",
        "plt.show()"
      ],
      "execution_count": null,
      "outputs": [
        {
          "output_type": "stream",
          "text": [
            "     Reconstruction_error  True_class\n",
            "0                1.408146         1.0\n",
            "1                1.467318         1.0\n",
            "2                1.036776         1.0\n",
            "3                0.823462         1.0\n",
            "4                0.607674         1.0\n",
            "..                    ...         ...\n",
            "763              0.204944         0.0\n",
            "764              0.227898         0.0\n",
            "765              0.258377         0.0\n",
            "766              0.197748         0.0\n",
            "767              0.219638         0.0\n",
            "\n",
            "[768 rows x 2 columns]\n",
            "299\n",
            "precision:  0.8004807692307693 , recall:  0.8004807692307693\n",
            "threshold:  0.7869603714148776\n"
          ],
          "name": "stdout"
        },
        {
          "output_type": "display_data",
          "data": {
            "image/png": "[encoded data removed]",
            "text/plain": [
              "<Figure size 576x360 with 1 Axes>"
            ]
          },
          "metadata": {
            "needs_background": "light"
          }
        }
      ]
    },
    {
      "cell_type": "markdown",
      "metadata": {
        "id": "y2QJ4zymsDAh"
      },
      "source": [
        "모델 성능 평가"
      ]
    },
    {
      "cell_type": "code",
      "metadata": {
        "colab": {
          "base_uri": "https://localhost:8080/",
          "height": 301
        },
        "id": "7gZIkGTspJc6",
        "outputId": "25bdfcaf-6384-430b-c899-8f3c6340296a"
      },
      "source": [
        "from sklearn.metrics import roc_curve, auc\n",
        "\n",
        "#fpr, tpr, thresholds = roc_curve(y_valid, mse)\n",
        "\n",
        "fpr, tpr, thresholds = roc_curve(y_test, mse)\n",
        "roc_auc = auc(fpr, tpr)\n",
        "\n",
        "plt.title('Receiver Operating Characteristic')\n",
        "plt.plot(fpr, tpr, label = 'AUC = %0.4f' % roc_auc, linewidth=5)\n",
        "plt.legend(loc = 'lower right')\n",
        "plt.plot([0,1], [0,1],'r--')\n",
        "plt.xlim([-0.001,1])\n",
        "plt.ylim([0,1.001])\n",
        "plt.ylabel('True positive rate')\n",
        "plt.xlabel('False positive rate')\n",
        "plt.show()"
      ],
      "execution_count": null,
      "outputs": [
        {
          "output_type": "display_data",
          "data": {
            "image/png": "[encoded data removed]",
            "text/plain": [
              "<Figure size 432x288 with 1 Axes>"
            ]
          },
          "metadata": {
            "needs_background": "light"
          }
        }
      ]
    },
    {
      "cell_type": "markdown",
      "metadata": {
        "id": "CEqBmiGEdFLN"
      },
      "source": [
        "예측값"
      ]
    },
    {
      "cell_type": "code",
      "metadata": {
        "colab": {
          "base_uri": "https://localhost:8080/"
        },
        "id": "Tjw-esXllJxA",
        "outputId": "c8158cec-49f3-41d4-de92-9b998c3723f6"
      },
      "source": [
        "test_predictions_3d = model.predict(x_test)\n",
        "\n",
        "test_predictions = test_predictions_3d.reshape(test_predictions_3d.shape[0]*test_predictions_3d.shape[1], test_predictions_3d.shape[2])\n",
        "x_test_ = np.array(x_test).reshape(x_test.shape[0]*x_test.shape[1], x_test.shape[2])\n",
        "mse = np.mean(np.power(x_test_ - test_predictions, 2), axis=1)\n",
        "\n",
        "error_df = pd.DataFrame({'Reconstruction_error': mse, 'True_class': y_test})\n",
        "print(error_df)\n",
        "\n",
        "pred_y = [1 if e > threshold_fixed else 0 for e in error_df['Reconstruction_error'].values]"
      ],
      "execution_count": null,
      "outputs": [
        {
          "output_type": "stream",
          "text": [
            "     Reconstruction_error  True_class\n",
            "0                1.408146         1.0\n",
            "1                1.467318         1.0\n",
            "2                1.036776         1.0\n",
            "3                0.823462         1.0\n",
            "4                0.607674         1.0\n",
            "..                    ...         ...\n",
            "763              0.204944         0.0\n",
            "764              0.227898         0.0\n",
            "765              0.258377         0.0\n",
            "766              0.197748         0.0\n",
            "767              0.219638         0.0\n",
            "\n",
            "[768 rows x 2 columns]\n"
          ],
          "name": "stdout"
        }
      ]
    },
    {
      "cell_type": "code",
      "metadata": {
        "colab": {
          "base_uri": "https://localhost:8080/"
        },
        "id": "n1tNQTBFwWIV",
        "outputId": "772f3cd6-ec9a-4ec0-f506-c6be62672a8a"
      },
      "source": [
        "def list_chunk(lst):\n",
        "    return [lst[i:i+32] for i in range(0, len(lst), 32)]\n",
        "\n",
        "pred_y_32 = list_chunk(pred_y)\n",
        "print(\"분할 후 : \", pred_y_32)\n",
        "\n",
        "pred_y_32 = np.mean(np.array(pred_y_32), axis=1)\n",
        "print(\"중간 예측 값 : \", pred_y_32)\n",
        "\n",
        "pred_y = list()\n",
        "for i in range(len(pred_y_32)):\n",
        "  if pred_y_32[i] >= 0.50:\n",
        "    pred_y.append(1)\n",
        "  else:\n",
        "    pred_y.append(0)\n",
        "\n",
        "print(\"최종 예측 값 : \", pred_y)"
      ],
      "execution_count": null,
      "outputs": [
        {
          "output_type": "stream",
          "text": [
            "분할 후 :  [[1, 1, 1, 1, 0, 0, 0, 1, 1, 1, 1, 1, 1, 0, 1, 1, 1, 1, 1, 1, 1, 1, 0, 1, 1, 1, 1, 1, 1, 1, 1, 1], [1, 1, 1, 1, 1, 1, 1, 1, 1, 1, 1, 1, 1, 1, 1, 1, 1, 1, 1, 1, 1, 1, 1, 1, 1, 1, 1, 1, 1, 1, 1, 1], [1, 1, 1, 1, 1, 1, 1, 1, 1, 0, 0, 0, 1, 0, 0, 0, 1, 1, 1, 1, 1, 1, 1, 1, 0, 0, 1, 1, 0, 1, 1, 1], [1, 1, 1, 1, 1, 1, 1, 1, 1, 1, 1, 1, 1, 0, 0, 1, 0, 1, 1, 1, 1, 1, 1, 1, 1, 1, 1, 1, 1, 1, 1, 1], [1, 1, 1, 1, 1, 1, 1, 1, 1, 1, 1, 1, 1, 1, 0, 1, 0, 1, 1, 1, 1, 0, 0, 1, 1, 0, 1, 1, 1, 1, 1, 1], [1, 1, 1, 1, 1, 1, 1, 1, 1, 1, 1, 1, 0, 0, 0, 0, 0, 0, 1, 1, 0, 0, 1, 0, 1, 1, 1, 0, 0, 1, 0, 1], [1, 0, 0, 0, 1, 1, 1, 1, 1, 1, 1, 1, 1, 1, 1, 1, 1, 1, 1, 1, 1, 1, 1, 1, 1, 1, 1, 1, 1, 1, 1, 1], [1, 1, 0, 0, 0, 0, 1, 1, 1, 0, 0, 0, 0, 0, 0, 0, 0, 0, 0, 0, 1, 0, 0, 1, 0, 0, 0, 1, 0, 0, 0, 0], [1, 0, 0, 1, 1, 1, 1, 1, 1, 0, 1, 1, 0, 1, 0, 1, 1, 0, 1, 1, 0, 0, 0, 0, 0, 1, 0, 0, 0, 1, 1, 1], [1, 1, 1, 0, 0, 0, 0, 0, 1, 1, 1, 1, 1, 1, 1, 1, 1, 1, 1, 1, 1, 1, 1, 1, 1, 0, 0, 1, 0, 1, 1, 1], [1, 1, 1, 1, 1, 1, 1, 1, 1, 1, 1, 1, 1, 1, 1, 1, 1, 1, 1, 1, 1, 1, 1, 1, 1, 1, 1, 1, 1, 1, 1, 1], [1, 1, 1, 1, 1, 1, 1, 1, 1, 1, 1, 1, 1, 1, 1, 1, 1, 1, 1, 1, 1, 1, 1, 1, 1, 1, 1, 1, 1, 1, 1, 1], [1, 1, 1, 1, 1, 1, 1, 1, 1, 1, 1, 1, 1, 1, 1, 1, 1, 1, 1, 1, 1, 1, 1, 1, 1, 1, 1, 1, 1, 1, 1, 1], [1, 1, 1, 1, 0, 1, 1, 0, 0, 0, 0, 0, 0, 0, 0, 0, 0, 0, 0, 0, 0, 0, 0, 0, 0, 0, 0, 0, 0, 0, 0, 0], [1, 1, 1, 0, 0, 0, 0, 0, 0, 0, 0, 0, 0, 0, 0, 0, 0, 0, 0, 0, 0, 0, 0, 0, 1, 0, 1, 0, 0, 1, 1, 0], [1, 1, 1, 0, 0, 1, 0, 0, 1, 1, 1, 1, 0, 1, 1, 0, 1, 1, 0, 0, 1, 0, 0, 1, 0, 0, 1, 0, 0, 0, 0, 0], [1, 0, 0, 0, 0, 0, 0, 0, 0, 0, 0, 0, 0, 0, 0, 0, 0, 0, 0, 0, 0, 0, 0, 0, 0, 0, 0, 0, 0, 0, 0, 0], [0, 0, 0, 0, 0, 0, 0, 0, 0, 0, 0, 0, 0, 0, 0, 0, 0, 0, 0, 0, 0, 0, 0, 0, 0, 0, 0, 0, 0, 1, 0, 0], [1, 1, 1, 1, 0, 1, 0, 1, 0, 0, 0, 0, 0, 0, 0, 0, 0, 1, 0, 0, 1, 0, 0, 1, 0, 0, 1, 0, 1, 0, 1, 0], [1, 1, 1, 1, 0, 1, 1, 1, 1, 0, 0, 0, 1, 0, 1, 0, 1, 1, 1, 1, 0, 1, 0, 1, 0, 0, 0, 0, 0, 0, 0, 1], [0, 0, 0, 0, 0, 0, 0, 0, 0, 0, 0, 0, 0, 0, 0, 0, 0, 0, 0, 0, 0, 0, 0, 0, 0, 0, 0, 0, 0, 0, 0, 0], [1, 0, 1, 1, 1, 1, 1, 1, 1, 1, 1, 1, 1, 0, 1, 0, 0, 1, 0, 1, 0, 1, 0, 0, 1, 0, 0, 0, 0, 0, 1, 0], [1, 1, 0, 0, 0, 0, 0, 0, 0, 0, 0, 0, 0, 0, 0, 0, 0, 0, 0, 1, 0, 0, 0, 0, 0, 0, 0, 0, 0, 0, 0, 0], [0, 1, 0, 0, 0, 0, 0, 0, 0, 0, 0, 0, 1, 0, 0, 0, 0, 0, 0, 0, 0, 0, 0, 0, 0, 0, 0, 0, 0, 0, 0, 0]]\n",
            "중간 예측 값 :  [0.84375 1.      0.71875 0.90625 0.84375 0.625   0.90625 0.25    0.5625\n",
            " 0.75    1.      1.      1.      0.1875  0.21875 0.46875 0.03125 0.03125\n",
            " 0.375   0.53125 0.      0.5625  0.09375 0.0625 ]\n",
            "최종 예측 값 :  [1, 1, 1, 1, 1, 1, 1, 0, 1, 1, 1, 1, 1, 0, 0, 0, 0, 0, 0, 1, 0, 1, 0, 0]\n"
          ],
          "name": "stdout"
        }
      ]
    },
    {
      "cell_type": "code",
      "metadata": {
        "colab": {
          "base_uri": "https://localhost:8080/",
          "height": 319
        },
        "id": "JrxqD95Etl8W",
        "outputId": "b2001667-9342-43a6-a609-5ac29b4cb3f0"
      },
      "source": [
        "true_class = [1,1,1,1,1,1,1,1,1,1,1,0,0,0,0,0,0,0,0,0,0,0,0,0]\n",
        "\n",
        "conf_matrix = metrics.confusion_matrix(true_class, pred_y)\n",
        "\n",
        "accuracy = (conf_matrix[0][0]+ conf_matrix[1][[1]])/conf_matrix.sum()\n",
        "print('accuracy: ',accuracy)\n",
        "\n",
        "sns.heatmap(conf_matrix, xticklabels=['Normal','Abnormal'], yticklabels=['Normal', 'Abnormal'], annot=True, fmt='d', annot_kws={'size':10})\n",
        "b,t = plt.ylim()\n",
        "b+=0.5\n",
        "t-=0.5\n",
        "plt.ylim(b,t)\n",
        "plt.title('Confusion Matrix')\n",
        "plt.xlabel('Predicted Class'); plt.ylabel('True Class')\n",
        "plt.show()"
      ],
      "execution_count": null,
      "outputs": [
        {
          "output_type": "stream",
          "text": [
            "accuracy:  [0.79166667]\n"
          ],
          "name": "stdout"
        },
        {
          "output_type": "display_data",
          "data": {
            "image/png": "[encoded data removed]",
            "text/plain": [
              "<Figure size 432x288 with 2 Axes>"
            ]
          },
          "metadata": {
            "needs_background": "light"
          }
        }
      ]
    },
    {
      "cell_type": "code",
      "metadata": {
        "colab": {
          "base_uri": "https://localhost:8080/",
          "height": 301
        },
        "id": "R1RPxsf9mVa4",
        "outputId": "4d87c1d7-782f-486d-9e08-746996a9d117"
      },
      "source": [
        "groups = error_df.groupby('True_class')\n",
        "fig, ax = plt.subplots()\n",
        "\n",
        "for name, group in groups:\n",
        "  ax.plot(group.index, group.Reconstruction_error, marker = 'o', ms=3.5, linestyle='',\n",
        "          label='Abnormal' if name ==1 else 'Normal')\n",
        "\n",
        "ax.hlines(threshold_fixed, ax.get_xlim()[0], ax.get_xlim()[1], colors ='r', zorder=100, label ='Threshold')\n",
        "ax.legend()\n",
        "plt.title(\"Reconstruction error for different classes\")  \n",
        "plt.ylabel(\"Reconstrction error\")\n",
        "plt.xlabel(\"Data point index\")\n",
        "plt.show()"
      ],
      "execution_count": null,
      "outputs": [
        {
          "output_type": "display_data",
          "data": {
            "image/png": "[encoded data removed]",
            "text/plain": [
              "<Figure size 432x288 with 1 Axes>"
            ]
          },
          "metadata": {
            "needs_background": "light"
          }
        }
      ]
    },
    {
      "cell_type": "markdown",
      "metadata": {
        "id": "VQdMA6lrpsnD"
      },
      "source": [
        "#새로운 데이터 입력"
      ]
    },
    {
      "cell_type": "code",
      "metadata": {
        "id": "NdqYSbf2puAx"
      },
      "source": [
        "path2='/content/drive/Shareddrives/데이터 청년 캠퍼스/젓가락질 데이터/새 젓가락질 데이터/excel 파일/preprocessing/finaldata_0824_nu_correct7.xlsx'"
      ],
      "execution_count": null,
      "outputs": []
    },
    {
      "cell_type": "code",
      "metadata": {
        "id": "JxdfFh9UpupS"
      },
      "source": [
        "testdata = pd.read_excel(path2)\n",
        "testdata\n",
        "new_x1 = testdata.drop(['y','image'], axis=1)\n",
        "new_x1 = new_x1[0:32]\n",
        "\n",
        "new_x1 = np.array(new_x1)\n",
        "new_x1 = tf.reshape(x1_train,[-1,32,new_x1.shape[1]])"
      ],
      "execution_count": null,
      "outputs": []
    },
    {
      "cell_type": "code",
      "metadata": {
        "id": "0JnTWK5bpwwh"
      },
      "source": [
        "test_predictions_3d = model.predict(new_x1)\n",
        "test_predictions = test_predictions_3d.reshape(test_predictions_3d.shape[0]*test_predictions_3d.shape[1], test_predictions_3d.shape[2])\n",
        "x_test_ = new_x1.reshape(new_x1.shape[0]*new_x1.shape[1], new_x1.shape[2])\n",
        "mse = np.mean(np.power(x_test_ - test_predictions, 2), axis=1)\n",
        "\n",
        "error_df = pd.DataFrame({'Reconstruction_error': mse})\n",
        "\n",
        "#print(error_df)\n",
        "\n",
        "pred_y = [1 if e > threshold_fixed else 0 for e in error_df['Reconstruction_error'].values]\n",
        "\n",
        "#print(pred_y)\n",
        "\n",
        "correct=0\n",
        "notcorrect=0\n",
        "for i in pred_y:\n",
        "  if i == 0 :\n",
        "    correct+=1\n",
        "  else:\n",
        "    notcorrect+=1\n",
        "\n",
        "ratio_o=correct/len(pred_y)\n",
        "ratio_x=notcorrect/len(pred_y)\n",
        "if correct > notcorrect :\n",
        "  print(\"{0:0.3f} :: 올바른 젓가락질입니다.\".format(ratio_o))\n",
        "elif correct == notcorrect:\n",
        "  print(\"재촬영해주세요\")\n",
        "else:\n",
        "  print(\"{0:0.3f} :: 올바르지 않은 젓가락질입니다.\".format(ratio_x))"
      ],
      "execution_count": null,
      "outputs": []
    },
    {
      "cell_type": "markdown",
      "metadata": {
        "id": "ZE8nz5GBMAZB"
      },
      "source": [
        "#모델 저장"
      ]
    },
    {
      "cell_type": "code",
      "metadata": {
        "colab": {
          "base_uri": "https://localhost:8080/"
        },
        "id": "H8rLhp-fhGE0",
        "outputId": "4668050a-beda-4e48-c8e7-221724a76b0c"
      },
      "source": [
        "converter = tf.lite.TFLiteConverter.from_keras_model(model)\n",
        "tflite_model = converter.convert()"
      ],
      "execution_count": null,
      "outputs": [
        {
          "output_type": "stream",
          "text": [
            "INFO:tensorflow:Assets written to: /tmp/tmp05at5odi/assets\n"
          ],
          "name": "stdout"
        },
        {
          "output_type": "stream",
          "text": [
            "INFO:tensorflow:Assets written to: /tmp/tmp05at5odi/assets\n"
          ],
          "name": "stderr"
        }
      ]
    },
    {
      "cell_type": "code",
      "metadata": {
        "colab": {
          "base_uri": "https://localhost:8080/"
        },
        "id": "AzLBM9r-MKYL",
        "outputId": "8e4bc384-caa9-4cfb-bf47-0faecef69b86"
      },
      "source": [
        "#저장\n",
        "open('LSTM_AE.tflite', 'wb').write(tflite_model)"
      ],
      "execution_count": null,
      "outputs": [
        {
          "output_type": "execute_result",
          "data": {
            "text/plain": [
              "133816"
            ]
          },
          "metadata": {},
          "execution_count": 3509
        }
      ]
    }
  ]
}