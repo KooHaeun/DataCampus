{
  "nbformat": 4,
  "nbformat_minor": 0,
  "metadata": {
    "colab": {
      "name": "binaryclassification.ipynb",
      "provenance": [],
      "collapsed_sections": []
    },
    "kernelspec": {
      "name": "python3",
      "display_name": "Python 3"
    },
    "language_info": {
      "name": "python"
    }
  },
  "cells": [
    {
      "cell_type": "code",
      "metadata": {
        "colab": {
          "base_uri": "https://localhost:8080/"
        },
        "id": "JQLDS17jIFPO",
        "outputId": "2d1831b7-4bdb-4c84-9cba-a1ad6a7b3cb7"
      },
      "source": [
        "from google.colab import drive\n",
        "drive.mount('/content/drive')"
      ],
      "execution_count": 220,
      "outputs": [
        {
          "output_type": "stream",
          "text": [
            "Drive already mounted at /content/drive; to attempt to forcibly remount, call drive.mount(\"/content/drive\", force_remount=True).\n"
          ],
          "name": "stdout"
        }
      ]
    },
    {
      "cell_type": "code",
      "metadata": {
        "id": "RpQU0pJsKc3j"
      },
      "source": [
        "path ='/content/drive/Shareddrives/데이터 청년 캠퍼스/젓가락질 데이터/새 젓가락질 데이터/excel 파일/vector/newdata_all_0818_ver1_final.xlsx'"
      ],
      "execution_count": 221,
      "outputs": []
    },
    {
      "cell_type": "code",
      "metadata": {
        "id": "5W_EcNbXK6qr"
      },
      "source": [
        "import pandas as pd\n",
        "import numpy as np"
      ],
      "execution_count": 222,
      "outputs": []
    },
    {
      "cell_type": "code",
      "metadata": {
        "id": "owzJ1EACKiWE"
      },
      "source": [
        "data = pd.read_excel(path)"
      ],
      "execution_count": 223,
      "outputs": []
    },
    {
      "cell_type": "code",
      "metadata": {
        "id": "Y774uX6IKloS",
        "colab": {
          "base_uri": "https://localhost:8080/",
          "height": 473
        },
        "outputId": "bd958773-f109-4ef9-bfd7-bf7972a0465c"
      },
      "source": [
        "data[data['y']==1]"
      ],
      "execution_count": 224,
      "outputs": [
        {
          "output_type": "execute_result",
          "data": {
            "text/html": [
              "<div>\n",
              "<style scoped>\n",
              "    .dataframe tbody tr th:only-of-type {\n",
              "        vertical-align: middle;\n",
              "    }\n",
              "\n",
              "    .dataframe tbody tr th {\n",
              "        vertical-align: top;\n",
              "    }\n",
              "\n",
              "    .dataframe thead th {\n",
              "        text-align: right;\n",
              "    }\n",
              "</style>\n",
              "<table border=\"1\" class=\"dataframe\">\n",
              "  <thead>\n",
              "    <tr style=\"text-align: right;\">\n",
              "      <th></th>\n",
              "      <th>x_4-3</th>\n",
              "      <th>y_4-3</th>\n",
              "      <th>z_4-3</th>\n",
              "      <th>x_7-6</th>\n",
              "      <th>y_7-6</th>\n",
              "      <th>z_7-6</th>\n",
              "      <th>x_8-7</th>\n",
              "      <th>y_8-7</th>\n",
              "      <th>z_8-7</th>\n",
              "      <th>x_11-10</th>\n",
              "      <th>y_11-10</th>\n",
              "      <th>z_11-10</th>\n",
              "      <th>x_12-11</th>\n",
              "      <th>y_12-11</th>\n",
              "      <th>z_12-11</th>\n",
              "      <th>x_15-14</th>\n",
              "      <th>y_15-14</th>\n",
              "      <th>z_15-14</th>\n",
              "      <th>x_16-15</th>\n",
              "      <th>y_16-15</th>\n",
              "      <th>z_16-15</th>\n",
              "      <th>d_ratio</th>\n",
              "      <th>약중, 중검 sin차</th>\n",
              "      <th>y</th>\n",
              "      <th>image</th>\n",
              "    </tr>\n",
              "  </thead>\n",
              "  <tbody>\n",
              "    <tr>\n",
              "      <th>458</th>\n",
              "      <td>-0.050499</td>\n",
              "      <td>-0.096789</td>\n",
              "      <td>-0.004149</td>\n",
              "      <td>-0.065824</td>\n",
              "      <td>0.017185</td>\n",
              "      <td>-0.030639</td>\n",
              "      <td>-0.051809</td>\n",
              "      <td>0.031795</td>\n",
              "      <td>-0.019083</td>\n",
              "      <td>-0.056468</td>\n",
              "      <td>0.045383</td>\n",
              "      <td>-0.031966</td>\n",
              "      <td>-0.043653</td>\n",
              "      <td>0.050203</td>\n",
              "      <td>-0.011863</td>\n",
              "      <td>0.005273</td>\n",
              "      <td>0.095492</td>\n",
              "      <td>-0.021605</td>\n",
              "      <td>0.004449</td>\n",
              "      <td>0.066515</td>\n",
              "      <td>-0.001972</td>\n",
              "      <td>2.335702</td>\n",
              "      <td>0.418055</td>\n",
              "      <td>1</td>\n",
              "      <td>correct18.MP4_000003.040.jpg</td>\n",
              "    </tr>\n",
              "    <tr>\n",
              "      <th>459</th>\n",
              "      <td>-0.045597</td>\n",
              "      <td>-0.095922</td>\n",
              "      <td>-0.007820</td>\n",
              "      <td>-0.067625</td>\n",
              "      <td>0.025150</td>\n",
              "      <td>-0.036259</td>\n",
              "      <td>-0.048180</td>\n",
              "      <td>0.024944</td>\n",
              "      <td>-0.023464</td>\n",
              "      <td>-0.049121</td>\n",
              "      <td>0.074268</td>\n",
              "      <td>-0.028600</td>\n",
              "      <td>-0.031525</td>\n",
              "      <td>0.044615</td>\n",
              "      <td>0.001884</td>\n",
              "      <td>-0.000689</td>\n",
              "      <td>0.104183</td>\n",
              "      <td>-0.023285</td>\n",
              "      <td>0.006173</td>\n",
              "      <td>0.053962</td>\n",
              "      <td>0.005258</td>\n",
              "      <td>1.060104</td>\n",
              "      <td>0.031185</td>\n",
              "      <td>1</td>\n",
              "      <td>correct18.MP4_000003.160.jpg</td>\n",
              "    </tr>\n",
              "    <tr>\n",
              "      <th>460</th>\n",
              "      <td>-0.046064</td>\n",
              "      <td>-0.101250</td>\n",
              "      <td>-0.012496</td>\n",
              "      <td>-0.066167</td>\n",
              "      <td>0.021700</td>\n",
              "      <td>-0.032029</td>\n",
              "      <td>-0.047121</td>\n",
              "      <td>0.033193</td>\n",
              "      <td>-0.015409</td>\n",
              "      <td>-0.055864</td>\n",
              "      <td>0.055993</td>\n",
              "      <td>-0.032659</td>\n",
              "      <td>-0.040520</td>\n",
              "      <td>0.050498</td>\n",
              "      <td>-0.003940</td>\n",
              "      <td>-0.010193</td>\n",
              "      <td>0.100900</td>\n",
              "      <td>-0.028670</td>\n",
              "      <td>-0.004660</td>\n",
              "      <td>0.066045</td>\n",
              "      <td>-0.002595</td>\n",
              "      <td>1.525121</td>\n",
              "      <td>0.190338</td>\n",
              "      <td>1</td>\n",
              "      <td>correct18.MP4_000003.281.jpg</td>\n",
              "    </tr>\n",
              "    <tr>\n",
              "      <th>461</th>\n",
              "      <td>-0.044232</td>\n",
              "      <td>-0.095748</td>\n",
              "      <td>-0.022823</td>\n",
              "      <td>-0.065586</td>\n",
              "      <td>0.018020</td>\n",
              "      <td>-0.050544</td>\n",
              "      <td>-0.049288</td>\n",
              "      <td>0.033734</td>\n",
              "      <td>-0.036613</td>\n",
              "      <td>-0.056635</td>\n",
              "      <td>0.051073</td>\n",
              "      <td>-0.052325</td>\n",
              "      <td>-0.035887</td>\n",
              "      <td>0.048859</td>\n",
              "      <td>-0.027687</td>\n",
              "      <td>-0.026183</td>\n",
              "      <td>0.075688</td>\n",
              "      <td>-0.050305</td>\n",
              "      <td>-0.012808</td>\n",
              "      <td>0.054766</td>\n",
              "      <td>-0.020711</td>\n",
              "      <td>1.001780</td>\n",
              "      <td>0.038810</td>\n",
              "      <td>1</td>\n",
              "      <td>correct18.MP4_000003.400.jpg</td>\n",
              "    </tr>\n",
              "    <tr>\n",
              "      <th>462</th>\n",
              "      <td>-0.047409</td>\n",
              "      <td>-0.094231</td>\n",
              "      <td>-0.023750</td>\n",
              "      <td>-0.063951</td>\n",
              "      <td>0.017307</td>\n",
              "      <td>-0.040269</td>\n",
              "      <td>-0.047503</td>\n",
              "      <td>0.015823</td>\n",
              "      <td>-0.027124</td>\n",
              "      <td>-0.038447</td>\n",
              "      <td>0.074010</td>\n",
              "      <td>-0.041358</td>\n",
              "      <td>-0.015953</td>\n",
              "      <td>0.046753</td>\n",
              "      <td>-0.011920</td>\n",
              "      <td>-0.005354</td>\n",
              "      <td>0.096254</td>\n",
              "      <td>-0.032362</td>\n",
              "      <td>0.004490</td>\n",
              "      <td>0.050607</td>\n",
              "      <td>-0.007475</td>\n",
              "      <td>0.758280</td>\n",
              "      <td>0.260717</td>\n",
              "      <td>1</td>\n",
              "      <td>correct18.MP4_000003.521.jpg</td>\n",
              "    </tr>\n",
              "    <tr>\n",
              "      <th>...</th>\n",
              "      <td>...</td>\n",
              "      <td>...</td>\n",
              "      <td>...</td>\n",
              "      <td>...</td>\n",
              "      <td>...</td>\n",
              "      <td>...</td>\n",
              "      <td>...</td>\n",
              "      <td>...</td>\n",
              "      <td>...</td>\n",
              "      <td>...</td>\n",
              "      <td>...</td>\n",
              "      <td>...</td>\n",
              "      <td>...</td>\n",
              "      <td>...</td>\n",
              "      <td>...</td>\n",
              "      <td>...</td>\n",
              "      <td>...</td>\n",
              "      <td>...</td>\n",
              "      <td>...</td>\n",
              "      <td>...</td>\n",
              "      <td>...</td>\n",
              "      <td>...</td>\n",
              "      <td>...</td>\n",
              "      <td>...</td>\n",
              "      <td>...</td>\n",
              "    </tr>\n",
              "    <tr>\n",
              "      <th>1183</th>\n",
              "      <td>-0.057392</td>\n",
              "      <td>-0.140165</td>\n",
              "      <td>-0.008456</td>\n",
              "      <td>-0.074975</td>\n",
              "      <td>0.034949</td>\n",
              "      <td>-0.071350</td>\n",
              "      <td>-0.049709</td>\n",
              "      <td>0.089724</td>\n",
              "      <td>-0.050381</td>\n",
              "      <td>-0.080636</td>\n",
              "      <td>0.055457</td>\n",
              "      <td>-0.103652</td>\n",
              "      <td>-0.051093</td>\n",
              "      <td>0.082187</td>\n",
              "      <td>-0.073307</td>\n",
              "      <td>-0.073274</td>\n",
              "      <td>0.065841</td>\n",
              "      <td>-0.117383</td>\n",
              "      <td>-0.044392</td>\n",
              "      <td>0.080432</td>\n",
              "      <td>-0.072210</td>\n",
              "      <td>1.230190</td>\n",
              "      <td>0.053147</td>\n",
              "      <td>1</td>\n",
              "      <td>correct4.mp4_000005.383.jpg</td>\n",
              "    </tr>\n",
              "    <tr>\n",
              "      <th>1184</th>\n",
              "      <td>-0.059703</td>\n",
              "      <td>-0.131541</td>\n",
              "      <td>-0.004620</td>\n",
              "      <td>-0.072885</td>\n",
              "      <td>0.028398</td>\n",
              "      <td>-0.073373</td>\n",
              "      <td>-0.049064</td>\n",
              "      <td>0.088463</td>\n",
              "      <td>-0.048969</td>\n",
              "      <td>-0.080332</td>\n",
              "      <td>0.040256</td>\n",
              "      <td>-0.102161</td>\n",
              "      <td>-0.053878</td>\n",
              "      <td>0.075695</td>\n",
              "      <td>-0.072372</td>\n",
              "      <td>-0.075949</td>\n",
              "      <td>0.057289</td>\n",
              "      <td>-0.122773</td>\n",
              "      <td>-0.050837</td>\n",
              "      <td>0.075260</td>\n",
              "      <td>-0.079431</td>\n",
              "      <td>1.580634</td>\n",
              "      <td>0.015383</td>\n",
              "      <td>1</td>\n",
              "      <td>correct4.mp4_000005.450.jpg</td>\n",
              "    </tr>\n",
              "    <tr>\n",
              "      <th>1185</th>\n",
              "      <td>-0.059844</td>\n",
              "      <td>-0.131576</td>\n",
              "      <td>-0.006878</td>\n",
              "      <td>-0.066692</td>\n",
              "      <td>0.025098</td>\n",
              "      <td>-0.070125</td>\n",
              "      <td>-0.041511</td>\n",
              "      <td>0.093577</td>\n",
              "      <td>-0.051930</td>\n",
              "      <td>-0.073747</td>\n",
              "      <td>0.041362</td>\n",
              "      <td>-0.099599</td>\n",
              "      <td>-0.044907</td>\n",
              "      <td>0.084649</td>\n",
              "      <td>-0.073877</td>\n",
              "      <td>-0.065719</td>\n",
              "      <td>0.057927</td>\n",
              "      <td>-0.117041</td>\n",
              "      <td>-0.037712</td>\n",
              "      <td>0.083243</td>\n",
              "      <td>-0.077085</td>\n",
              "      <td>1.339072</td>\n",
              "      <td>0.008756</td>\n",
              "      <td>1</td>\n",
              "      <td>correct4.mp4_000005.517.jpg</td>\n",
              "    </tr>\n",
              "    <tr>\n",
              "      <th>1186</th>\n",
              "      <td>-0.061015</td>\n",
              "      <td>-0.134970</td>\n",
              "      <td>-0.003229</td>\n",
              "      <td>-0.067992</td>\n",
              "      <td>0.036482</td>\n",
              "      <td>-0.071695</td>\n",
              "      <td>-0.043140</td>\n",
              "      <td>0.099050</td>\n",
              "      <td>-0.048635</td>\n",
              "      <td>-0.074719</td>\n",
              "      <td>0.048547</td>\n",
              "      <td>-0.098355</td>\n",
              "      <td>-0.047928</td>\n",
              "      <td>0.086957</td>\n",
              "      <td>-0.071311</td>\n",
              "      <td>-0.069560</td>\n",
              "      <td>0.061675</td>\n",
              "      <td>-0.121139</td>\n",
              "      <td>-0.044486</td>\n",
              "      <td>0.085093</td>\n",
              "      <td>-0.078301</td>\n",
              "      <td>1.512748</td>\n",
              "      <td>0.021204</td>\n",
              "      <td>1</td>\n",
              "      <td>correct4.mp4_000005.583.jpg</td>\n",
              "    </tr>\n",
              "    <tr>\n",
              "      <th>1187</th>\n",
              "      <td>-0.062171</td>\n",
              "      <td>-0.131701</td>\n",
              "      <td>-0.012305</td>\n",
              "      <td>-0.070194</td>\n",
              "      <td>0.045637</td>\n",
              "      <td>-0.070760</td>\n",
              "      <td>-0.042734</td>\n",
              "      <td>0.100352</td>\n",
              "      <td>-0.046171</td>\n",
              "      <td>-0.075338</td>\n",
              "      <td>0.063918</td>\n",
              "      <td>-0.096984</td>\n",
              "      <td>-0.045223</td>\n",
              "      <td>0.092273</td>\n",
              "      <td>-0.065356</td>\n",
              "      <td>-0.068400</td>\n",
              "      <td>0.072343</td>\n",
              "      <td>-0.117004</td>\n",
              "      <td>-0.041324</td>\n",
              "      <td>0.087267</td>\n",
              "      <td>-0.070094</td>\n",
              "      <td>1.388997</td>\n",
              "      <td>0.003069</td>\n",
              "      <td>1</td>\n",
              "      <td>correct4.mp4_000005.650.jpg</td>\n",
              "    </tr>\n",
              "  </tbody>\n",
              "</table>\n",
              "<p>730 rows × 25 columns</p>\n",
              "</div>"
            ],
            "text/plain": [
              "         x_4-3     y_4-3  ...  y                         image\n",
              "458  -0.050499 -0.096789  ...  1  correct18.MP4_000003.040.jpg\n",
              "459  -0.045597 -0.095922  ...  1  correct18.MP4_000003.160.jpg\n",
              "460  -0.046064 -0.101250  ...  1  correct18.MP4_000003.281.jpg\n",
              "461  -0.044232 -0.095748  ...  1  correct18.MP4_000003.400.jpg\n",
              "462  -0.047409 -0.094231  ...  1  correct18.MP4_000003.521.jpg\n",
              "...        ...       ...  ... ..                           ...\n",
              "1183 -0.057392 -0.140165  ...  1   correct4.mp4_000005.383.jpg\n",
              "1184 -0.059703 -0.131541  ...  1   correct4.mp4_000005.450.jpg\n",
              "1185 -0.059844 -0.131576  ...  1   correct4.mp4_000005.517.jpg\n",
              "1186 -0.061015 -0.134970  ...  1   correct4.mp4_000005.583.jpg\n",
              "1187 -0.062171 -0.131701  ...  1   correct4.mp4_000005.650.jpg\n",
              "\n",
              "[730 rows x 25 columns]"
            ]
          },
          "metadata": {},
          "execution_count": 224
        }
      ]
    },
    {
      "cell_type": "code",
      "metadata": {
        "id": "wIkHYbfqaSQs"
      },
      "source": [
        "X = data.drop(['y','image'], axis = 1)"
      ],
      "execution_count": 225,
      "outputs": []
    },
    {
      "cell_type": "code",
      "metadata": {
        "id": "t_vPE_KjNg6K"
      },
      "source": [
        "y = data[\"y\"]"
      ],
      "execution_count": 226,
      "outputs": []
    },
    {
      "cell_type": "markdown",
      "metadata": {
        "id": "P5oTLDCQLP5b"
      },
      "source": [
        "#모델"
      ]
    },
    {
      "cell_type": "code",
      "metadata": {
        "id": "QQmK9ErbLSWz"
      },
      "source": [
        "from sklearn.model_selection import train_test_split\n",
        "#X_train, X_test, y_train, y_test = train_test_split(X, y, test_size=0.3, shuffle=True, random_state=104)"
      ],
      "execution_count": 227,
      "outputs": []
    },
    {
      "cell_type": "code",
      "metadata": {
        "id": "Pl6mZreSRZUt"
      },
      "source": [
        "X_test= pd.concat([X[int(0.8*457):457],X[1041:1187]])\n",
        "y_test= pd.concat([y[int(0.8*457):457],y[1041:1187]])\n",
        "X_train = X.drop(X_test.index)\n",
        "X_train.reset_index(drop=True, inplace=True)\n",
        "y_train = y.drop(y_test.index)\n",
        "y_train.reset_index(drop=True, inplace=True)"
      ],
      "execution_count": 228,
      "outputs": []
    },
    {
      "cell_type": "code",
      "metadata": {
        "colab": {
          "base_uri": "https://localhost:8080/"
        },
        "id": "p1HezS5jR97c",
        "outputId": "700ccec2-d408-4d32-e733-a01ffcc4934a"
      },
      "source": [
        "y_test"
      ],
      "execution_count": 229,
      "outputs": [
        {
          "output_type": "execute_result",
          "data": {
            "text/plain": [
              "365     0\n",
              "366     0\n",
              "367     0\n",
              "368     0\n",
              "369     0\n",
              "       ..\n",
              "1182    1\n",
              "1183    1\n",
              "1184    1\n",
              "1185    1\n",
              "1186    1\n",
              "Name: y, Length: 238, dtype: int64"
            ]
          },
          "metadata": {},
          "execution_count": 229
        }
      ]
    },
    {
      "cell_type": "markdown",
      "metadata": {
        "id": "h8yOrlj7LMlT"
      },
      "source": [
        "#데이터 정규화"
      ]
    },
    {
      "cell_type": "code",
      "metadata": {
        "id": "ZwJKftzxcLUV"
      },
      "source": [
        "from sklearn.preprocessing import MinMaxScaler\n",
        "scaler = MinMaxScaler()\n",
        "#from sklearn.preprocessing import StandardScaler\n",
        "#scaler = StandardScaler()\n",
        "X_train=scaler.fit_transform(X_train)\n",
        "X_test= scaler.fit_transform(X_test)"
      ],
      "execution_count": 230,
      "outputs": []
    },
    {
      "cell_type": "code",
      "metadata": {
        "id": "_mqy5U8SbO8u"
      },
      "source": [
        "import numpy as np\n",
        "import pandas as pd\n",
        "import seaborn as sns\n",
        "import matplotlib.pyplot as plt\n",
        "import tensorflow as tf\n",
        "from tensorflow import keras\n",
        "from tensorflow.keras import layers\n",
        "from scipy.stats import norm, boxcox\n",
        "from scipy import stats\n",
        "from collections import Counter\n",
        "from sklearn.model_selection import cross_val_score, cross_validate\n",
        "from sklearn.metrics import roc_curve\n",
        "import warnings\n",
        "warnings.simplefilter(action='ignore', category=FutureWarning)"
      ],
      "execution_count": 231,
      "outputs": []
    },
    {
      "cell_type": "code",
      "metadata": {
        "id": "inLGO1j0arYj"
      },
      "source": [
        "from sklearn.metrics import classification_report, confusion_matrix, accuracy_score\n",
        "\n",
        "def metrics(y_true, y_pred):\n",
        "    print('Confusion Matrix:\\n', confusion_matrix(y_true, y_pred))\n",
        "    print('\\n\\nAccuracy Score:\\n', accuracy_score(y_true, y_pred))\n",
        "    print('\\n\\nClassification Report: \\n', classification_report(y_true, y_pred))\n",
        "\n",
        "def predictions(model,X_train=X_train, X_test=X_test, y_train=y_train, y_test=y_test):\n",
        "      model.fit(X_train, y_train)\n",
        "      #predictions\n",
        "      train_pred = model.predict(X_train)\n",
        "      test_pred = model.predict(X_test)\n",
        "      actual = [y_train, y_test]\n",
        "      pred = [train_pred, test_pred]\n",
        "      for i in range(0,2):\n",
        "          if i==0:\n",
        "              print('----Train Metrics----')\n",
        "          else:\n",
        "              print('----Test Metrics----')\n",
        "          metrics(actual[i], pred[i])"
      ],
      "execution_count": 232,
      "outputs": []
    },
    {
      "cell_type": "code",
      "metadata": {
        "colab": {
          "base_uri": "https://localhost:8080/"
        },
        "id": "YAKC6nCGLSZi",
        "outputId": "0e2b087a-447b-490c-c8ac-e7597625ba83"
      },
      "source": [
        "from sklearn.tree import DecisionTreeClassifier\n",
        "dt = DecisionTreeClassifier()\n",
        "predictions(dt)\n",
        "dt.feature_importances_"
      ],
      "execution_count": 233,
      "outputs": [
        {
          "output_type": "stream",
          "text": [
            "----Train Metrics----\n",
            "Confusion Matrix:\n",
            " [[366   0]\n",
            " [  0 584]]\n",
            "\n",
            "\n",
            "Accuracy Score:\n",
            " 1.0\n",
            "\n",
            "\n",
            "Classification Report: \n",
            "               precision    recall  f1-score   support\n",
            "\n",
            "           0       1.00      1.00      1.00       366\n",
            "           1       1.00      1.00      1.00       584\n",
            "\n",
            "    accuracy                           1.00       950\n",
            "   macro avg       1.00      1.00      1.00       950\n",
            "weighted avg       1.00      1.00      1.00       950\n",
            "\n",
            "----Test Metrics----\n",
            "Confusion Matrix:\n",
            " [[34 58]\n",
            " [61 85]]\n",
            "\n",
            "\n",
            "Accuracy Score:\n",
            " 0.5\n",
            "\n",
            "\n",
            "Classification Report: \n",
            "               precision    recall  f1-score   support\n",
            "\n",
            "           0       0.36      0.37      0.36        92\n",
            "           1       0.59      0.58      0.59       146\n",
            "\n",
            "    accuracy                           0.50       238\n",
            "   macro avg       0.48      0.48      0.48       238\n",
            "weighted avg       0.50      0.50      0.50       238\n",
            "\n"
          ],
          "name": "stdout"
        },
        {
          "output_type": "execute_result",
          "data": {
            "text/plain": [
              "array([0.0471474 , 0.05244158, 0.07904753, 0.0214792 , 0.13046611,\n",
              "       0.02252383, 0.00355566, 0.00592609, 0.02372526, 0.41184811,\n",
              "       0.        , 0.0417635 , 0.00428583, 0.00333343, 0.        ,\n",
              "       0.01551305, 0.        , 0.05357122, 0.00879146, 0.01978174,\n",
              "       0.03001874, 0.01258945, 0.01219082])"
            ]
          },
          "metadata": {},
          "execution_count": 233
        }
      ]
    },
    {
      "cell_type": "code",
      "metadata": {
        "colab": {
          "base_uri": "https://localhost:8080/"
        },
        "id": "vp20S4q1aoPz",
        "outputId": "6c7b5ca2-1692-4244-ccbe-22ace1f4acdd"
      },
      "source": [
        "from sklearn.neighbors import KNeighborsClassifier\n",
        "knn = KNeighborsClassifier()\n",
        "predictions(knn)"
      ],
      "execution_count": 234,
      "outputs": [
        {
          "output_type": "stream",
          "text": [
            "----Train Metrics----\n",
            "Confusion Matrix:\n",
            " [[360   6]\n",
            " [ 18 566]]\n",
            "\n",
            "\n",
            "Accuracy Score:\n",
            " 0.9747368421052631\n",
            "\n",
            "\n",
            "Classification Report: \n",
            "               precision    recall  f1-score   support\n",
            "\n",
            "           0       0.95      0.98      0.97       366\n",
            "           1       0.99      0.97      0.98       584\n",
            "\n",
            "    accuracy                           0.97       950\n",
            "   macro avg       0.97      0.98      0.97       950\n",
            "weighted avg       0.98      0.97      0.97       950\n",
            "\n",
            "----Test Metrics----\n",
            "Confusion Matrix:\n",
            " [[60 32]\n",
            " [89 57]]\n",
            "\n",
            "\n",
            "Accuracy Score:\n",
            " 0.49159663865546216\n",
            "\n",
            "\n",
            "Classification Report: \n",
            "               precision    recall  f1-score   support\n",
            "\n",
            "           0       0.40      0.65      0.50        92\n",
            "           1       0.64      0.39      0.49       146\n",
            "\n",
            "    accuracy                           0.49       238\n",
            "   macro avg       0.52      0.52      0.49       238\n",
            "weighted avg       0.55      0.49      0.49       238\n",
            "\n"
          ],
          "name": "stdout"
        }
      ]
    },
    {
      "cell_type": "code",
      "metadata": {
        "colab": {
          "base_uri": "https://localhost:8080/",
          "height": 352
        },
        "id": "1HR1BblsLSe8",
        "outputId": "063ff9e8-5d2e-4c59-9d64-05f029b0edc3"
      },
      "source": [
        "import matplotlib\n",
        "matplotlib.rc(\"xtick\", labelsize=20)\n",
        "matplotlib.rc(\"ytick\", labelsize=20)\n",
        "\n",
        "train_accuracies = [0.5]\n",
        "test_accuracies = [0.5]\n",
        "\n",
        "for k in range(1, 12):\n",
        "    clf = KNeighborsClassifier(n_neighbors=k)\n",
        "    \n",
        "    # Train model\n",
        "    clf.fit(X_train, y_train)\n",
        "    # Create train and test predictions\n",
        "    train_predictions = clf.predict(X_train)\n",
        "    test_predictions = clf.predict(X_test)\n",
        "    # Calculate training and test accuracies\n",
        "    train_accuracy = accuracy_score(y_train, train_predictions)\n",
        "    test_accuracy = accuracy_score(y_test, test_predictions)\n",
        "    # Append accuracies\n",
        "    train_accuracies.append(train_accuracy)\n",
        "    test_accuracies.append(test_accuracy)\n",
        "    \n",
        "# Create plots\n",
        "plt.figure(figsize=(10, 5))\n",
        "sns.set_style(\"whitegrid\")\n",
        "plt.plot(train_accuracies, label=\"train accuracy\")\n",
        "plt.plot(test_accuracies, label=\"test accuracy\")\n",
        "plt.legend(loc=\"upper left\", prop={\"size\" : 15})\n",
        "plt.xticks(range(0, 16, 5))\n",
        "plt.xlabel(\"value k\", size=20)\n",
        "plt.ylabel(\"accuracy\", size=20)\n",
        "plt.show()"
      ],
      "execution_count": 235,
      "outputs": [
        {
          "output_type": "display_data",
          "data": {
            "image/png": "[encoded data removed]",
            "text/plain": [
              "<Figure size 720x360 with 1 Axes>"
            ]
          },
          "metadata": {}
        }
      ]
    },
    {
      "cell_type": "code",
      "metadata": {
        "id": "lHyzxAHrns9B",
        "colab": {
          "base_uri": "https://localhost:8080/"
        },
        "outputId": "79124297-67f9-4d44-9e9b-583bb25c1343"
      },
      "source": [
        "from sklearn.ensemble import RandomForestClassifier\n",
        "rf =RandomForestClassifier()\n",
        "predictions(rf)"
      ],
      "execution_count": 236,
      "outputs": [
        {
          "output_type": "stream",
          "text": [
            "----Train Metrics----\n",
            "Confusion Matrix:\n",
            " [[366   0]\n",
            " [  0 584]]\n",
            "\n",
            "\n",
            "Accuracy Score:\n",
            " 1.0\n",
            "\n",
            "\n",
            "Classification Report: \n",
            "               precision    recall  f1-score   support\n",
            "\n",
            "           0       1.00      1.00      1.00       366\n",
            "           1       1.00      1.00      1.00       584\n",
            "\n",
            "    accuracy                           1.00       950\n",
            "   macro avg       1.00      1.00      1.00       950\n",
            "weighted avg       1.00      1.00      1.00       950\n",
            "\n",
            "----Test Metrics----\n",
            "Confusion Matrix:\n",
            " [[35 57]\n",
            " [83 63]]\n",
            "\n",
            "\n",
            "Accuracy Score:\n",
            " 0.4117647058823529\n",
            "\n",
            "\n",
            "Classification Report: \n",
            "               precision    recall  f1-score   support\n",
            "\n",
            "           0       0.30      0.38      0.33        92\n",
            "           1       0.53      0.43      0.47       146\n",
            "\n",
            "    accuracy                           0.41       238\n",
            "   macro avg       0.41      0.41      0.40       238\n",
            "weighted avg       0.44      0.41      0.42       238\n",
            "\n"
          ],
          "name": "stdout"
        }
      ]
    },
    {
      "cell_type": "markdown",
      "metadata": {
        "id": "TjNeL3sSftNa"
      },
      "source": [
        "#MLP"
      ]
    },
    {
      "cell_type": "code",
      "metadata": {
        "colab": {
          "base_uri": "https://localhost:8080/"
        },
        "id": "HCInYNo6gawK",
        "outputId": "a62cde39-6eb9-4a56-d0c9-d4bb917b8718"
      },
      "source": [
        "print(\"shape of X: {}\\nshape of y: {}\".format(X.shape,y.shape))"
      ],
      "execution_count": 237,
      "outputs": [
        {
          "output_type": "stream",
          "text": [
            "shape of X: (1188, 23)\n",
            "shape of y: (1188,)\n"
          ],
          "name": "stdout"
        }
      ]
    }
  ]
}