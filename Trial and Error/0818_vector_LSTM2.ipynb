{
  "nbformat": 4,
  "nbformat_minor": 0,
  "metadata": {
    "colab": {
      "name": "0818_vector_LSTM2.ipynb",
      "provenance": [],
      "collapsed_sections": []
    },
    "kernelspec": {
      "name": "python3",
      "display_name": "Python 3"
    },
    "language_info": {
      "name": "python"
    },
    "accelerator": "GPU"
  },
  "cells": [
    {
      "cell_type": "markdown",
      "metadata": {
        "id": "9HDIxvnFlioV"
      },
      "source": [
        "#새로운 feature로 시도"
      ]
    },
    {
      "cell_type": "code",
      "metadata": {
        "colab": {
          "base_uri": "https://localhost:8080/"
        },
        "id": "nNniS9GBH4g6",
        "outputId": "882af566-497e-4aee-dfa7-c7a7e5e30e64"
      },
      "source": [
        "from google.colab import drive\n",
        "drive.mount('/content/drive')"
      ],
      "execution_count": 1,
      "outputs": [
        {
          "output_type": "stream",
          "text": [
            "Mounted at /content/drive\n"
          ],
          "name": "stdout"
        }
      ]
    },
    {
      "cell_type": "code",
      "metadata": {
        "id": "l-wKvH23IXGO"
      },
      "source": [
        "import pandas as pd\n",
        "import numpy as np"
      ],
      "execution_count": 2,
      "outputs": []
    },
    {
      "cell_type": "code",
      "metadata": {
        "id": "Xoalsm3PrMCb"
      },
      "source": [
        "from os import listdir"
      ],
      "execution_count": 62,
      "outputs": []
    },
    {
      "cell_type": "code",
      "metadata": {
        "id": "FnemoeveroqA"
      },
      "source": [
        "path='/content/drive/Shareddrives/데이터 청년 캠퍼스/젓가락질 데이터/새 젓가락질 데이터/excel 파일/'"
      ],
      "execution_count": 63,
      "outputs": []
    },
    {
      "cell_type": "code",
      "metadata": {
        "colab": {
          "base_uri": "https://localhost:8080/"
        },
        "id": "j3fIRsnSr5xY",
        "outputId": "72565511-4f93-4fef-88d8-cf2d93656996"
      },
      "source": [
        "listdir(path)"
      ],
      "execution_count": 64,
      "outputs": [
        {
          "output_type": "execute_result",
          "data": {
            "text/plain": [
              "['newdata_0.xlsx',\n",
              " 'newdata1_notcorrect.xlsx',\n",
              " 'newdata2_notcorrect.xlsx',\n",
              " 'newdata3_notcorrect.xlsx',\n",
              " 'newdata4_notcorrect.xlsx',\n",
              " 'newdata5_notcorrect.xlsx',\n",
              " 'newdata6_notcorrect.xlsx',\n",
              " 'newdata1_correct.xlsx',\n",
              " 'vector',\n",
              " 'newdata2_correct.xlsx',\n",
              " 'newdata3_correct.xlsx',\n",
              " 'newdata4_correct.xlsx',\n",
              " 'newdata5_correct.xlsx',\n",
              " 'newdata6_correct.xlsx',\n",
              " 'newdata8_correct.xlsx',\n",
              " 'newdata7_correct.xlsx',\n",
              " 'newdata9_correct.xlsx',\n",
              " 'newdata10_correct.xlsx',\n",
              " 'newdata_1.xlsx',\n",
              " 'newdata_all.xlsx']"
            ]
          },
          "metadata": {
            "tags": []
          },
          "execution_count": 64
        }
      ]
    },
    {
      "cell_type": "code",
      "metadata": {
        "id": "h14h_KKBso8g"
      },
      "source": [
        "listdir0 = ['newdata1_notcorrect.xlsx',\n",
        "            'newdata2_notcorrect.xlsx',\n",
        "            'newdata3_notcorrect.xlsx',\n",
        "            'newdata4_notcorrect.xlsx',\n",
        "            'newdata5_notcorrect.xlsx',\n",
        "            'newdata6_notcorrect.xlsx',]\n",
        "listdir1 = ['newdata1_correct.xlsx',\n",
        "            'newdata2_correct.xlsx',\n",
        "            'newdata3_correct.xlsx',\n",
        "            'newdata4_correct.xlsx',\n",
        "            'newdata5_correct.xlsx',\n",
        "            'newdata6_correct.xlsx',\n",
        "            'newdata8_correct.xlsx',\n",
        "            'newdata7_correct.xlsx',\n",
        "            'newdata9_correct.xlsx',\n",
        "            'newdata10_correct.xlsx']"
      ],
      "execution_count": 65,
      "outputs": []
    },
    {
      "cell_type": "code",
      "metadata": {
        "id": "vsxyANRtxFKo"
      },
      "source": [
        "temp=[]\n",
        "for i in range(len(listdir0)):\n",
        "  data= pd.read_excel(path+listdir0[i])\n",
        "  temp.append(data)\n",
        "\n",
        "data = pd.concat(temp,ignore_index=True)"
      ],
      "execution_count": 66,
      "outputs": []
    },
    {
      "cell_type": "code",
      "metadata": {
        "id": "uMor1z5NvKoc"
      },
      "source": [
        "data.sort_values(by='image' ,ascending=True, inplace=True)"
      ],
      "execution_count": 67,
      "outputs": []
    },
    {
      "cell_type": "code",
      "metadata": {
        "id": "8XmPInaWs2qo"
      },
      "source": [
        "notcorrect = data.drop(['Unnamed: 0'],axis=1)"
      ],
      "execution_count": 68,
      "outputs": []
    },
    {
      "cell_type": "code",
      "metadata": {
        "id": "Ux4Pln7iyO5O"
      },
      "source": [
        "temp=[]\n",
        "for i in range(len(listdir1)):\n",
        "  data= pd.read_excel(path+listdir1[i])\n",
        "  temp.append(data)\n",
        "\n",
        "data = pd.concat(temp,ignore_index=True)"
      ],
      "execution_count": 69,
      "outputs": []
    },
    {
      "cell_type": "code",
      "metadata": {
        "id": "u18rbyczySMK"
      },
      "source": [
        "data.sort_values(by='image' ,ascending=True, inplace=True)"
      ],
      "execution_count": 70,
      "outputs": []
    },
    {
      "cell_type": "code",
      "metadata": {
        "id": "tOFoGKXyyXkn"
      },
      "source": [
        "data['y']=1"
      ],
      "execution_count": 71,
      "outputs": []
    },
    {
      "cell_type": "code",
      "metadata": {
        "id": "Nxo4H6eNyUGk"
      },
      "source": [
        "correct = data.drop(['Unnamed: 0'],axis=1)"
      ],
      "execution_count": 72,
      "outputs": []
    },
    {
      "cell_type": "code",
      "metadata": {
        "id": "s1UmkBn2yivv"
      },
      "source": [
        "newdata_all = pd.concat([notcorrect,correct], axis=0)"
      ],
      "execution_count": 75,
      "outputs": []
    },
    {
      "cell_type": "code",
      "metadata": {
        "id": "kW9SAoq_zEcd"
      },
      "source": [
        "newdata_all.to_excel('newdata_all_0818.xlsx', index=False)"
      ],
      "execution_count": 76,
      "outputs": []
    },
    {
      "cell_type": "markdown",
      "metadata": {
        "id": "m56HufPcINeG"
      },
      "source": [
        "##올바르지 않은"
      ]
    },
    {
      "cell_type": "code",
      "metadata": {
        "id": "OlF4eLFJH_PE"
      },
      "source": [
        "path1='/content/drive/Shareddrives/데이터 청년 캠퍼스/젓가락질 데이터/새 젓가락질 데이터/excel 파일/vector/newdata_all_0818_ver1_final.xlsx'"
      ],
      "execution_count": 3,
      "outputs": []
    },
    {
      "cell_type": "code",
      "metadata": {
        "id": "uBJLW85cIUzM"
      },
      "source": [
        "data= pd.read_excel(path1)"
      ],
      "execution_count": 4,
      "outputs": []
    },
    {
      "cell_type": "code",
      "metadata": {
        "colab": {
          "base_uri": "https://localhost:8080/",
          "height": 472
        },
        "id": "Kpyzb-mqlVhd",
        "outputId": "9604b362-4bde-4b08-c97b-a68f346282a1"
      },
      "source": [
        "data"
      ],
      "execution_count": 5,
      "outputs": [
        {
          "output_type": "execute_result",
          "data": {
            "text/html": [
              "<div>\n",
              "<style scoped>\n",
              "    .dataframe tbody tr th:only-of-type {\n",
              "        vertical-align: middle;\n",
              "    }\n",
              "\n",
              "    .dataframe tbody tr th {\n",
              "        vertical-align: top;\n",
              "    }\n",
              "\n",
              "    .dataframe thead th {\n",
              "        text-align: right;\n",
              "    }\n",
              "</style>\n",
              "<table border=\"1\" class=\"dataframe\">\n",
              "  <thead>\n",
              "    <tr style=\"text-align: right;\">\n",
              "      <th></th>\n",
              "      <th>x_4-3</th>\n",
              "      <th>y_4-3</th>\n",
              "      <th>z_4-3</th>\n",
              "      <th>x_7-6</th>\n",
              "      <th>y_7-6</th>\n",
              "      <th>z_7-6</th>\n",
              "      <th>x_8-7</th>\n",
              "      <th>y_8-7</th>\n",
              "      <th>z_8-7</th>\n",
              "      <th>x_11-10</th>\n",
              "      <th>y_11-10</th>\n",
              "      <th>z_11-10</th>\n",
              "      <th>x_12-11</th>\n",
              "      <th>y_12-11</th>\n",
              "      <th>z_12-11</th>\n",
              "      <th>x_15-14</th>\n",
              "      <th>y_15-14</th>\n",
              "      <th>z_15-14</th>\n",
              "      <th>x_16-15</th>\n",
              "      <th>y_16-15</th>\n",
              "      <th>z_16-15</th>\n",
              "      <th>d_ratio</th>\n",
              "      <th>약중, 중검 sin차</th>\n",
              "      <th>y</th>\n",
              "      <th>image</th>\n",
              "    </tr>\n",
              "  </thead>\n",
              "  <tbody>\n",
              "    <tr>\n",
              "      <th>0</th>\n",
              "      <td>-0.051071</td>\n",
              "      <td>-0.089175</td>\n",
              "      <td>-0.011617</td>\n",
              "      <td>-0.056711</td>\n",
              "      <td>0.009023</td>\n",
              "      <td>-0.035640</td>\n",
              "      <td>-0.042200</td>\n",
              "      <td>0.025364</td>\n",
              "      <td>-0.015922</td>\n",
              "      <td>-0.040445</td>\n",
              "      <td>0.064082</td>\n",
              "      <td>-0.060423</td>\n",
              "      <td>-0.027878</td>\n",
              "      <td>0.056417</td>\n",
              "      <td>-0.034819</td>\n",
              "      <td>-0.017969</td>\n",
              "      <td>0.086660</td>\n",
              "      <td>-0.051700</td>\n",
              "      <td>-0.007913</td>\n",
              "      <td>0.061635</td>\n",
              "      <td>-0.018434</td>\n",
              "      <td>0.905420</td>\n",
              "      <td>0.319156</td>\n",
              "      <td>0</td>\n",
              "      <td>not_correct10.MP4_000002.243.jpg</td>\n",
              "    </tr>\n",
              "    <tr>\n",
              "      <th>1</th>\n",
              "      <td>-0.047749</td>\n",
              "      <td>-0.077724</td>\n",
              "      <td>-0.006179</td>\n",
              "      <td>-0.052053</td>\n",
              "      <td>0.048940</td>\n",
              "      <td>-0.035879</td>\n",
              "      <td>-0.026984</td>\n",
              "      <td>0.041984</td>\n",
              "      <td>-0.018712</td>\n",
              "      <td>-0.034710</td>\n",
              "      <td>0.085675</td>\n",
              "      <td>-0.044229</td>\n",
              "      <td>-0.011696</td>\n",
              "      <td>0.062999</td>\n",
              "      <td>-0.018837</td>\n",
              "      <td>-0.022949</td>\n",
              "      <td>0.092131</td>\n",
              "      <td>-0.042533</td>\n",
              "      <td>-0.004325</td>\n",
              "      <td>0.057419</td>\n",
              "      <td>-0.011981</td>\n",
              "      <td>0.846204</td>\n",
              "      <td>0.247713</td>\n",
              "      <td>0</td>\n",
              "      <td>not_correct10.MP4_000004.040.jpg</td>\n",
              "    </tr>\n",
              "    <tr>\n",
              "      <th>2</th>\n",
              "      <td>-0.046319</td>\n",
              "      <td>-0.078202</td>\n",
              "      <td>-0.014352</td>\n",
              "      <td>-0.054228</td>\n",
              "      <td>0.037620</td>\n",
              "      <td>-0.040993</td>\n",
              "      <td>-0.034997</td>\n",
              "      <td>0.042278</td>\n",
              "      <td>-0.019873</td>\n",
              "      <td>-0.039861</td>\n",
              "      <td>0.078861</td>\n",
              "      <td>-0.048183</td>\n",
              "      <td>-0.020565</td>\n",
              "      <td>0.067591</td>\n",
              "      <td>-0.019756</td>\n",
              "      <td>-0.024298</td>\n",
              "      <td>0.088900</td>\n",
              "      <td>-0.035966</td>\n",
              "      <td>-0.010591</td>\n",
              "      <td>0.060018</td>\n",
              "      <td>-0.006999</td>\n",
              "      <td>0.847929</td>\n",
              "      <td>0.197722</td>\n",
              "      <td>0</td>\n",
              "      <td>not_correct10.MP4_000004.240.jpg</td>\n",
              "    </tr>\n",
              "    <tr>\n",
              "      <th>3</th>\n",
              "      <td>-0.049426</td>\n",
              "      <td>-0.080947</td>\n",
              "      <td>-0.014980</td>\n",
              "      <td>-0.057800</td>\n",
              "      <td>0.054264</td>\n",
              "      <td>-0.035718</td>\n",
              "      <td>-0.032098</td>\n",
              "      <td>0.052528</td>\n",
              "      <td>-0.015484</td>\n",
              "      <td>-0.046345</td>\n",
              "      <td>0.095341</td>\n",
              "      <td>-0.048831</td>\n",
              "      <td>-0.022775</td>\n",
              "      <td>0.076490</td>\n",
              "      <td>-0.020460</td>\n",
              "      <td>-0.035321</td>\n",
              "      <td>0.092001</td>\n",
              "      <td>-0.041675</td>\n",
              "      <td>-0.018800</td>\n",
              "      <td>0.061808</td>\n",
              "      <td>-0.015120</td>\n",
              "      <td>0.606794</td>\n",
              "      <td>0.240847</td>\n",
              "      <td>0</td>\n",
              "      <td>not_correct10.MP4_000004.440.jpg</td>\n",
              "    </tr>\n",
              "    <tr>\n",
              "      <th>4</th>\n",
              "      <td>-0.052603</td>\n",
              "      <td>-0.081008</td>\n",
              "      <td>-0.020653</td>\n",
              "      <td>-0.054847</td>\n",
              "      <td>0.016849</td>\n",
              "      <td>-0.035693</td>\n",
              "      <td>-0.038099</td>\n",
              "      <td>0.032696</td>\n",
              "      <td>-0.018814</td>\n",
              "      <td>-0.046033</td>\n",
              "      <td>0.057633</td>\n",
              "      <td>-0.056383</td>\n",
              "      <td>-0.029073</td>\n",
              "      <td>0.060226</td>\n",
              "      <td>-0.026523</td>\n",
              "      <td>-0.023937</td>\n",
              "      <td>0.079653</td>\n",
              "      <td>-0.054701</td>\n",
              "      <td>-0.014164</td>\n",
              "      <td>0.060094</td>\n",
              "      <td>-0.022454</td>\n",
              "      <td>0.800791</td>\n",
              "      <td>0.165280</td>\n",
              "      <td>0</td>\n",
              "      <td>not_correct10.MP4_000004.640.jpg</td>\n",
              "    </tr>\n",
              "    <tr>\n",
              "      <th>...</th>\n",
              "      <td>...</td>\n",
              "      <td>...</td>\n",
              "      <td>...</td>\n",
              "      <td>...</td>\n",
              "      <td>...</td>\n",
              "      <td>...</td>\n",
              "      <td>...</td>\n",
              "      <td>...</td>\n",
              "      <td>...</td>\n",
              "      <td>...</td>\n",
              "      <td>...</td>\n",
              "      <td>...</td>\n",
              "      <td>...</td>\n",
              "      <td>...</td>\n",
              "      <td>...</td>\n",
              "      <td>...</td>\n",
              "      <td>...</td>\n",
              "      <td>...</td>\n",
              "      <td>...</td>\n",
              "      <td>...</td>\n",
              "      <td>...</td>\n",
              "      <td>...</td>\n",
              "      <td>...</td>\n",
              "      <td>...</td>\n",
              "      <td>...</td>\n",
              "    </tr>\n",
              "    <tr>\n",
              "      <th>1183</th>\n",
              "      <td>-0.057392</td>\n",
              "      <td>-0.140165</td>\n",
              "      <td>-0.008456</td>\n",
              "      <td>-0.074975</td>\n",
              "      <td>0.034949</td>\n",
              "      <td>-0.071350</td>\n",
              "      <td>-0.049709</td>\n",
              "      <td>0.089724</td>\n",
              "      <td>-0.050381</td>\n",
              "      <td>-0.080636</td>\n",
              "      <td>0.055457</td>\n",
              "      <td>-0.103652</td>\n",
              "      <td>-0.051093</td>\n",
              "      <td>0.082187</td>\n",
              "      <td>-0.073307</td>\n",
              "      <td>-0.073274</td>\n",
              "      <td>0.065841</td>\n",
              "      <td>-0.117383</td>\n",
              "      <td>-0.044392</td>\n",
              "      <td>0.080432</td>\n",
              "      <td>-0.072210</td>\n",
              "      <td>1.230190</td>\n",
              "      <td>0.053147</td>\n",
              "      <td>1</td>\n",
              "      <td>correct4.mp4_000005.383.jpg</td>\n",
              "    </tr>\n",
              "    <tr>\n",
              "      <th>1184</th>\n",
              "      <td>-0.059703</td>\n",
              "      <td>-0.131541</td>\n",
              "      <td>-0.004620</td>\n",
              "      <td>-0.072885</td>\n",
              "      <td>0.028398</td>\n",
              "      <td>-0.073373</td>\n",
              "      <td>-0.049064</td>\n",
              "      <td>0.088463</td>\n",
              "      <td>-0.048969</td>\n",
              "      <td>-0.080332</td>\n",
              "      <td>0.040256</td>\n",
              "      <td>-0.102161</td>\n",
              "      <td>-0.053878</td>\n",
              "      <td>0.075695</td>\n",
              "      <td>-0.072372</td>\n",
              "      <td>-0.075949</td>\n",
              "      <td>0.057289</td>\n",
              "      <td>-0.122773</td>\n",
              "      <td>-0.050837</td>\n",
              "      <td>0.075260</td>\n",
              "      <td>-0.079431</td>\n",
              "      <td>1.580634</td>\n",
              "      <td>0.015383</td>\n",
              "      <td>1</td>\n",
              "      <td>correct4.mp4_000005.450.jpg</td>\n",
              "    </tr>\n",
              "    <tr>\n",
              "      <th>1185</th>\n",
              "      <td>-0.059844</td>\n",
              "      <td>-0.131576</td>\n",
              "      <td>-0.006878</td>\n",
              "      <td>-0.066692</td>\n",
              "      <td>0.025098</td>\n",
              "      <td>-0.070125</td>\n",
              "      <td>-0.041511</td>\n",
              "      <td>0.093577</td>\n",
              "      <td>-0.051930</td>\n",
              "      <td>-0.073747</td>\n",
              "      <td>0.041362</td>\n",
              "      <td>-0.099599</td>\n",
              "      <td>-0.044907</td>\n",
              "      <td>0.084649</td>\n",
              "      <td>-0.073877</td>\n",
              "      <td>-0.065719</td>\n",
              "      <td>0.057927</td>\n",
              "      <td>-0.117041</td>\n",
              "      <td>-0.037712</td>\n",
              "      <td>0.083243</td>\n",
              "      <td>-0.077085</td>\n",
              "      <td>1.339072</td>\n",
              "      <td>0.008756</td>\n",
              "      <td>1</td>\n",
              "      <td>correct4.mp4_000005.517.jpg</td>\n",
              "    </tr>\n",
              "    <tr>\n",
              "      <th>1186</th>\n",
              "      <td>-0.061015</td>\n",
              "      <td>-0.134970</td>\n",
              "      <td>-0.003229</td>\n",
              "      <td>-0.067992</td>\n",
              "      <td>0.036482</td>\n",
              "      <td>-0.071695</td>\n",
              "      <td>-0.043140</td>\n",
              "      <td>0.099050</td>\n",
              "      <td>-0.048635</td>\n",
              "      <td>-0.074719</td>\n",
              "      <td>0.048547</td>\n",
              "      <td>-0.098355</td>\n",
              "      <td>-0.047928</td>\n",
              "      <td>0.086957</td>\n",
              "      <td>-0.071311</td>\n",
              "      <td>-0.069560</td>\n",
              "      <td>0.061675</td>\n",
              "      <td>-0.121139</td>\n",
              "      <td>-0.044486</td>\n",
              "      <td>0.085093</td>\n",
              "      <td>-0.078301</td>\n",
              "      <td>1.512748</td>\n",
              "      <td>0.021204</td>\n",
              "      <td>1</td>\n",
              "      <td>correct4.mp4_000005.583.jpg</td>\n",
              "    </tr>\n",
              "    <tr>\n",
              "      <th>1187</th>\n",
              "      <td>-0.062171</td>\n",
              "      <td>-0.131701</td>\n",
              "      <td>-0.012305</td>\n",
              "      <td>-0.070194</td>\n",
              "      <td>0.045637</td>\n",
              "      <td>-0.070760</td>\n",
              "      <td>-0.042734</td>\n",
              "      <td>0.100352</td>\n",
              "      <td>-0.046171</td>\n",
              "      <td>-0.075338</td>\n",
              "      <td>0.063918</td>\n",
              "      <td>-0.096984</td>\n",
              "      <td>-0.045223</td>\n",
              "      <td>0.092273</td>\n",
              "      <td>-0.065356</td>\n",
              "      <td>-0.068400</td>\n",
              "      <td>0.072343</td>\n",
              "      <td>-0.117004</td>\n",
              "      <td>-0.041324</td>\n",
              "      <td>0.087267</td>\n",
              "      <td>-0.070094</td>\n",
              "      <td>1.388997</td>\n",
              "      <td>0.003069</td>\n",
              "      <td>1</td>\n",
              "      <td>correct4.mp4_000005.650.jpg</td>\n",
              "    </tr>\n",
              "  </tbody>\n",
              "</table>\n",
              "<p>1188 rows × 25 columns</p>\n",
              "</div>"
            ],
            "text/plain": [
              "         x_4-3     y_4-3  ...  y                             image\n",
              "0    -0.051071 -0.089175  ...  0  not_correct10.MP4_000002.243.jpg\n",
              "1    -0.047749 -0.077724  ...  0  not_correct10.MP4_000004.040.jpg\n",
              "2    -0.046319 -0.078202  ...  0  not_correct10.MP4_000004.240.jpg\n",
              "3    -0.049426 -0.080947  ...  0  not_correct10.MP4_000004.440.jpg\n",
              "4    -0.052603 -0.081008  ...  0  not_correct10.MP4_000004.640.jpg\n",
              "...        ...       ...  ... ..                               ...\n",
              "1183 -0.057392 -0.140165  ...  1       correct4.mp4_000005.383.jpg\n",
              "1184 -0.059703 -0.131541  ...  1       correct4.mp4_000005.450.jpg\n",
              "1185 -0.059844 -0.131576  ...  1       correct4.mp4_000005.517.jpg\n",
              "1186 -0.061015 -0.134970  ...  1       correct4.mp4_000005.583.jpg\n",
              "1187 -0.062171 -0.131701  ...  1       correct4.mp4_000005.650.jpg\n",
              "\n",
              "[1188 rows x 25 columns]"
            ]
          },
          "metadata": {
            "tags": []
          },
          "execution_count": 5
        }
      ]
    },
    {
      "cell_type": "code",
      "metadata": {
        "id": "rHMNOdH-fAEh"
      },
      "source": [
        "vector0= data[data['y']==0]"
      ],
      "execution_count": 6,
      "outputs": []
    },
    {
      "cell_type": "code",
      "metadata": {
        "colab": {
          "base_uri": "https://localhost:8080/"
        },
        "id": "u_KGwC8Dl7Ej",
        "outputId": "9042ead6-1d4d-499e-f557-8630c7d5fc5d"
      },
      "source": [
        "len(vector0)"
      ],
      "execution_count": 7,
      "outputs": [
        {
          "output_type": "execute_result",
          "data": {
            "text/plain": [
              "458"
            ]
          },
          "metadata": {
            "tags": []
          },
          "execution_count": 7
        }
      ]
    },
    {
      "cell_type": "code",
      "metadata": {
        "id": "4G3V0yeiH0bO",
        "colab": {
          "base_uri": "https://localhost:8080/"
        },
        "outputId": "9a5a9dcf-0fc5-48a6-c5ac-d975d638e855"
      },
      "source": [
        "vector0.drop(['y','image'], axis=1, inplace=True)"
      ],
      "execution_count": 8,
      "outputs": [
        {
          "output_type": "stream",
          "text": [
            "/usr/local/lib/python3.7/dist-packages/pandas/core/frame.py:4174: SettingWithCopyWarning: \n",
            "A value is trying to be set on a copy of a slice from a DataFrame\n",
            "\n",
            "See the caveats in the documentation: https://pandas.pydata.org/pandas-docs/stable/user_guide/indexing.html#returning-a-view-versus-a-copy\n",
            "  errors=errors,\n"
          ],
          "name": "stderr"
        }
      ]
    },
    {
      "cell_type": "markdown",
      "metadata": {
        "id": "ah-O_j4-IQid"
      },
      "source": [
        "##올바른"
      ]
    },
    {
      "cell_type": "code",
      "metadata": {
        "id": "B8VIJreM5IyC"
      },
      "source": [
        "vector1= data[data['y']==1]"
      ],
      "execution_count": 9,
      "outputs": []
    },
    {
      "cell_type": "code",
      "metadata": {
        "id": "aQLDghknIhWo",
        "colab": {
          "base_uri": "https://localhost:8080/"
        },
        "outputId": "79501e92-b6dd-4067-a0c7-9cbbfd94bf36"
      },
      "source": [
        "vector1.drop(['y','image'], axis=1, inplace=True)"
      ],
      "execution_count": 10,
      "outputs": [
        {
          "output_type": "stream",
          "text": [
            "/usr/local/lib/python3.7/dist-packages/pandas/core/frame.py:4174: SettingWithCopyWarning: \n",
            "A value is trying to be set on a copy of a slice from a DataFrame\n",
            "\n",
            "See the caveats in the documentation: https://pandas.pydata.org/pandas-docs/stable/user_guide/indexing.html#returning-a-view-versus-a-copy\n",
            "  errors=errors,\n"
          ],
          "name": "stderr"
        }
      ]
    },
    {
      "cell_type": "code",
      "metadata": {
        "colab": {
          "base_uri": "https://localhost:8080/",
          "height": 472
        },
        "id": "r05vtzUd4D1A",
        "outputId": "9b4ae2ab-c08f-43e3-fa3c-899567711d2b"
      },
      "source": [
        "vector1"
      ],
      "execution_count": 11,
      "outputs": [
        {
          "output_type": "execute_result",
          "data": {
            "text/html": [
              "<div>\n",
              "<style scoped>\n",
              "    .dataframe tbody tr th:only-of-type {\n",
              "        vertical-align: middle;\n",
              "    }\n",
              "\n",
              "    .dataframe tbody tr th {\n",
              "        vertical-align: top;\n",
              "    }\n",
              "\n",
              "    .dataframe thead th {\n",
              "        text-align: right;\n",
              "    }\n",
              "</style>\n",
              "<table border=\"1\" class=\"dataframe\">\n",
              "  <thead>\n",
              "    <tr style=\"text-align: right;\">\n",
              "      <th></th>\n",
              "      <th>x_4-3</th>\n",
              "      <th>y_4-3</th>\n",
              "      <th>z_4-3</th>\n",
              "      <th>x_7-6</th>\n",
              "      <th>y_7-6</th>\n",
              "      <th>z_7-6</th>\n",
              "      <th>x_8-7</th>\n",
              "      <th>y_8-7</th>\n",
              "      <th>z_8-7</th>\n",
              "      <th>x_11-10</th>\n",
              "      <th>y_11-10</th>\n",
              "      <th>z_11-10</th>\n",
              "      <th>x_12-11</th>\n",
              "      <th>y_12-11</th>\n",
              "      <th>z_12-11</th>\n",
              "      <th>x_15-14</th>\n",
              "      <th>y_15-14</th>\n",
              "      <th>z_15-14</th>\n",
              "      <th>x_16-15</th>\n",
              "      <th>y_16-15</th>\n",
              "      <th>z_16-15</th>\n",
              "      <th>d_ratio</th>\n",
              "      <th>약중, 중검 sin차</th>\n",
              "    </tr>\n",
              "  </thead>\n",
              "  <tbody>\n",
              "    <tr>\n",
              "      <th>458</th>\n",
              "      <td>-0.050499</td>\n",
              "      <td>-0.096789</td>\n",
              "      <td>-0.004149</td>\n",
              "      <td>-0.065824</td>\n",
              "      <td>0.017185</td>\n",
              "      <td>-0.030639</td>\n",
              "      <td>-0.051809</td>\n",
              "      <td>0.031795</td>\n",
              "      <td>-0.019083</td>\n",
              "      <td>-0.056468</td>\n",
              "      <td>0.045383</td>\n",
              "      <td>-0.031966</td>\n",
              "      <td>-0.043653</td>\n",
              "      <td>0.050203</td>\n",
              "      <td>-0.011863</td>\n",
              "      <td>0.005273</td>\n",
              "      <td>0.095492</td>\n",
              "      <td>-0.021605</td>\n",
              "      <td>0.004449</td>\n",
              "      <td>0.066515</td>\n",
              "      <td>-0.001972</td>\n",
              "      <td>2.335702</td>\n",
              "      <td>0.418055</td>\n",
              "    </tr>\n",
              "    <tr>\n",
              "      <th>459</th>\n",
              "      <td>-0.045597</td>\n",
              "      <td>-0.095922</td>\n",
              "      <td>-0.007820</td>\n",
              "      <td>-0.067625</td>\n",
              "      <td>0.025150</td>\n",
              "      <td>-0.036259</td>\n",
              "      <td>-0.048180</td>\n",
              "      <td>0.024944</td>\n",
              "      <td>-0.023464</td>\n",
              "      <td>-0.049121</td>\n",
              "      <td>0.074268</td>\n",
              "      <td>-0.028600</td>\n",
              "      <td>-0.031525</td>\n",
              "      <td>0.044615</td>\n",
              "      <td>0.001884</td>\n",
              "      <td>-0.000689</td>\n",
              "      <td>0.104183</td>\n",
              "      <td>-0.023285</td>\n",
              "      <td>0.006173</td>\n",
              "      <td>0.053962</td>\n",
              "      <td>0.005258</td>\n",
              "      <td>1.060104</td>\n",
              "      <td>0.031185</td>\n",
              "    </tr>\n",
              "    <tr>\n",
              "      <th>460</th>\n",
              "      <td>-0.046064</td>\n",
              "      <td>-0.101250</td>\n",
              "      <td>-0.012496</td>\n",
              "      <td>-0.066167</td>\n",
              "      <td>0.021700</td>\n",
              "      <td>-0.032029</td>\n",
              "      <td>-0.047121</td>\n",
              "      <td>0.033193</td>\n",
              "      <td>-0.015409</td>\n",
              "      <td>-0.055864</td>\n",
              "      <td>0.055993</td>\n",
              "      <td>-0.032659</td>\n",
              "      <td>-0.040520</td>\n",
              "      <td>0.050498</td>\n",
              "      <td>-0.003940</td>\n",
              "      <td>-0.010193</td>\n",
              "      <td>0.100900</td>\n",
              "      <td>-0.028670</td>\n",
              "      <td>-0.004660</td>\n",
              "      <td>0.066045</td>\n",
              "      <td>-0.002595</td>\n",
              "      <td>1.525121</td>\n",
              "      <td>0.190338</td>\n",
              "    </tr>\n",
              "    <tr>\n",
              "      <th>461</th>\n",
              "      <td>-0.044232</td>\n",
              "      <td>-0.095748</td>\n",
              "      <td>-0.022823</td>\n",
              "      <td>-0.065586</td>\n",
              "      <td>0.018020</td>\n",
              "      <td>-0.050544</td>\n",
              "      <td>-0.049288</td>\n",
              "      <td>0.033734</td>\n",
              "      <td>-0.036613</td>\n",
              "      <td>-0.056635</td>\n",
              "      <td>0.051073</td>\n",
              "      <td>-0.052325</td>\n",
              "      <td>-0.035887</td>\n",
              "      <td>0.048859</td>\n",
              "      <td>-0.027687</td>\n",
              "      <td>-0.026183</td>\n",
              "      <td>0.075688</td>\n",
              "      <td>-0.050305</td>\n",
              "      <td>-0.012808</td>\n",
              "      <td>0.054766</td>\n",
              "      <td>-0.020711</td>\n",
              "      <td>1.001780</td>\n",
              "      <td>0.038810</td>\n",
              "    </tr>\n",
              "    <tr>\n",
              "      <th>462</th>\n",
              "      <td>-0.047409</td>\n",
              "      <td>-0.094231</td>\n",
              "      <td>-0.023750</td>\n",
              "      <td>-0.063951</td>\n",
              "      <td>0.017307</td>\n",
              "      <td>-0.040269</td>\n",
              "      <td>-0.047503</td>\n",
              "      <td>0.015823</td>\n",
              "      <td>-0.027124</td>\n",
              "      <td>-0.038447</td>\n",
              "      <td>0.074010</td>\n",
              "      <td>-0.041358</td>\n",
              "      <td>-0.015953</td>\n",
              "      <td>0.046753</td>\n",
              "      <td>-0.011920</td>\n",
              "      <td>-0.005354</td>\n",
              "      <td>0.096254</td>\n",
              "      <td>-0.032362</td>\n",
              "      <td>0.004490</td>\n",
              "      <td>0.050607</td>\n",
              "      <td>-0.007475</td>\n",
              "      <td>0.758280</td>\n",
              "      <td>0.260717</td>\n",
              "    </tr>\n",
              "    <tr>\n",
              "      <th>...</th>\n",
              "      <td>...</td>\n",
              "      <td>...</td>\n",
              "      <td>...</td>\n",
              "      <td>...</td>\n",
              "      <td>...</td>\n",
              "      <td>...</td>\n",
              "      <td>...</td>\n",
              "      <td>...</td>\n",
              "      <td>...</td>\n",
              "      <td>...</td>\n",
              "      <td>...</td>\n",
              "      <td>...</td>\n",
              "      <td>...</td>\n",
              "      <td>...</td>\n",
              "      <td>...</td>\n",
              "      <td>...</td>\n",
              "      <td>...</td>\n",
              "      <td>...</td>\n",
              "      <td>...</td>\n",
              "      <td>...</td>\n",
              "      <td>...</td>\n",
              "      <td>...</td>\n",
              "      <td>...</td>\n",
              "    </tr>\n",
              "    <tr>\n",
              "      <th>1183</th>\n",
              "      <td>-0.057392</td>\n",
              "      <td>-0.140165</td>\n",
              "      <td>-0.008456</td>\n",
              "      <td>-0.074975</td>\n",
              "      <td>0.034949</td>\n",
              "      <td>-0.071350</td>\n",
              "      <td>-0.049709</td>\n",
              "      <td>0.089724</td>\n",
              "      <td>-0.050381</td>\n",
              "      <td>-0.080636</td>\n",
              "      <td>0.055457</td>\n",
              "      <td>-0.103652</td>\n",
              "      <td>-0.051093</td>\n",
              "      <td>0.082187</td>\n",
              "      <td>-0.073307</td>\n",
              "      <td>-0.073274</td>\n",
              "      <td>0.065841</td>\n",
              "      <td>-0.117383</td>\n",
              "      <td>-0.044392</td>\n",
              "      <td>0.080432</td>\n",
              "      <td>-0.072210</td>\n",
              "      <td>1.230190</td>\n",
              "      <td>0.053147</td>\n",
              "    </tr>\n",
              "    <tr>\n",
              "      <th>1184</th>\n",
              "      <td>-0.059703</td>\n",
              "      <td>-0.131541</td>\n",
              "      <td>-0.004620</td>\n",
              "      <td>-0.072885</td>\n",
              "      <td>0.028398</td>\n",
              "      <td>-0.073373</td>\n",
              "      <td>-0.049064</td>\n",
              "      <td>0.088463</td>\n",
              "      <td>-0.048969</td>\n",
              "      <td>-0.080332</td>\n",
              "      <td>0.040256</td>\n",
              "      <td>-0.102161</td>\n",
              "      <td>-0.053878</td>\n",
              "      <td>0.075695</td>\n",
              "      <td>-0.072372</td>\n",
              "      <td>-0.075949</td>\n",
              "      <td>0.057289</td>\n",
              "      <td>-0.122773</td>\n",
              "      <td>-0.050837</td>\n",
              "      <td>0.075260</td>\n",
              "      <td>-0.079431</td>\n",
              "      <td>1.580634</td>\n",
              "      <td>0.015383</td>\n",
              "    </tr>\n",
              "    <tr>\n",
              "      <th>1185</th>\n",
              "      <td>-0.059844</td>\n",
              "      <td>-0.131576</td>\n",
              "      <td>-0.006878</td>\n",
              "      <td>-0.066692</td>\n",
              "      <td>0.025098</td>\n",
              "      <td>-0.070125</td>\n",
              "      <td>-0.041511</td>\n",
              "      <td>0.093577</td>\n",
              "      <td>-0.051930</td>\n",
              "      <td>-0.073747</td>\n",
              "      <td>0.041362</td>\n",
              "      <td>-0.099599</td>\n",
              "      <td>-0.044907</td>\n",
              "      <td>0.084649</td>\n",
              "      <td>-0.073877</td>\n",
              "      <td>-0.065719</td>\n",
              "      <td>0.057927</td>\n",
              "      <td>-0.117041</td>\n",
              "      <td>-0.037712</td>\n",
              "      <td>0.083243</td>\n",
              "      <td>-0.077085</td>\n",
              "      <td>1.339072</td>\n",
              "      <td>0.008756</td>\n",
              "    </tr>\n",
              "    <tr>\n",
              "      <th>1186</th>\n",
              "      <td>-0.061015</td>\n",
              "      <td>-0.134970</td>\n",
              "      <td>-0.003229</td>\n",
              "      <td>-0.067992</td>\n",
              "      <td>0.036482</td>\n",
              "      <td>-0.071695</td>\n",
              "      <td>-0.043140</td>\n",
              "      <td>0.099050</td>\n",
              "      <td>-0.048635</td>\n",
              "      <td>-0.074719</td>\n",
              "      <td>0.048547</td>\n",
              "      <td>-0.098355</td>\n",
              "      <td>-0.047928</td>\n",
              "      <td>0.086957</td>\n",
              "      <td>-0.071311</td>\n",
              "      <td>-0.069560</td>\n",
              "      <td>0.061675</td>\n",
              "      <td>-0.121139</td>\n",
              "      <td>-0.044486</td>\n",
              "      <td>0.085093</td>\n",
              "      <td>-0.078301</td>\n",
              "      <td>1.512748</td>\n",
              "      <td>0.021204</td>\n",
              "    </tr>\n",
              "    <tr>\n",
              "      <th>1187</th>\n",
              "      <td>-0.062171</td>\n",
              "      <td>-0.131701</td>\n",
              "      <td>-0.012305</td>\n",
              "      <td>-0.070194</td>\n",
              "      <td>0.045637</td>\n",
              "      <td>-0.070760</td>\n",
              "      <td>-0.042734</td>\n",
              "      <td>0.100352</td>\n",
              "      <td>-0.046171</td>\n",
              "      <td>-0.075338</td>\n",
              "      <td>0.063918</td>\n",
              "      <td>-0.096984</td>\n",
              "      <td>-0.045223</td>\n",
              "      <td>0.092273</td>\n",
              "      <td>-0.065356</td>\n",
              "      <td>-0.068400</td>\n",
              "      <td>0.072343</td>\n",
              "      <td>-0.117004</td>\n",
              "      <td>-0.041324</td>\n",
              "      <td>0.087267</td>\n",
              "      <td>-0.070094</td>\n",
              "      <td>1.388997</td>\n",
              "      <td>0.003069</td>\n",
              "    </tr>\n",
              "  </tbody>\n",
              "</table>\n",
              "<p>730 rows × 23 columns</p>\n",
              "</div>"
            ],
            "text/plain": [
              "         x_4-3     y_4-3     z_4-3  ...   z_16-15   d_ratio  약중, 중검 sin차\n",
              "458  -0.050499 -0.096789 -0.004149  ... -0.001972  2.335702     0.418055\n",
              "459  -0.045597 -0.095922 -0.007820  ...  0.005258  1.060104     0.031185\n",
              "460  -0.046064 -0.101250 -0.012496  ... -0.002595  1.525121     0.190338\n",
              "461  -0.044232 -0.095748 -0.022823  ... -0.020711  1.001780     0.038810\n",
              "462  -0.047409 -0.094231 -0.023750  ... -0.007475  0.758280     0.260717\n",
              "...        ...       ...       ...  ...       ...       ...          ...\n",
              "1183 -0.057392 -0.140165 -0.008456  ... -0.072210  1.230190     0.053147\n",
              "1184 -0.059703 -0.131541 -0.004620  ... -0.079431  1.580634     0.015383\n",
              "1185 -0.059844 -0.131576 -0.006878  ... -0.077085  1.339072     0.008756\n",
              "1186 -0.061015 -0.134970 -0.003229  ... -0.078301  1.512748     0.021204\n",
              "1187 -0.062171 -0.131701 -0.012305  ... -0.070094  1.388997     0.003069\n",
              "\n",
              "[730 rows x 23 columns]"
            ]
          },
          "metadata": {
            "tags": []
          },
          "execution_count": 11
        }
      ]
    },
    {
      "cell_type": "markdown",
      "metadata": {
        "id": "D5k00gMhMQGg"
      },
      "source": [
        "#LSTM"
      ]
    },
    {
      "cell_type": "markdown",
      "metadata": {
        "id": "lB_OB93YQYlY"
      },
      "source": [
        "데이터셋 분리"
      ]
    },
    {
      "cell_type": "code",
      "metadata": {
        "id": "Cn-0bNe9NMFR"
      },
      "source": [
        "from sklearn.model_selection import train_test_split"
      ],
      "execution_count": 12,
      "outputs": []
    },
    {
      "cell_type": "code",
      "metadata": {
        "colab": {
          "base_uri": "https://localhost:8080/"
        },
        "id": "ug8L2cgGNk2h",
        "outputId": "82415d8c-8bbf-4e48-93b5-a2964f47a40f"
      },
      "source": [
        "vector0 = np.array(vector0)\n",
        "vector1 = np.array(vector1)\n",
        "len(vector0), len(vector1)\n",
        "vector0.shape, vector1.shape"
      ],
      "execution_count": 13,
      "outputs": [
        {
          "output_type": "execute_result",
          "data": {
            "text/plain": [
              "((458, 23), (730, 23))"
            ]
          },
          "metadata": {
            "tags": []
          },
          "execution_count": 13
        }
      ]
    },
    {
      "cell_type": "code",
      "metadata": {
        "id": "S8aqMMCNiRuN"
      },
      "source": [
        "#수정필요,,,?\n",
        "\n",
        "x0_train = vector0[:int(0.7*len(vector0))]\n",
        "x0_test = vector0[int(0.7*len(vector0)):]"
      ],
      "execution_count": 14,
      "outputs": []
    },
    {
      "cell_type": "code",
      "metadata": {
        "colab": {
          "base_uri": "https://localhost:8080/"
        },
        "id": "F0SzKurVGjl0",
        "outputId": "9d2ecc74-c13e-4899-eeec-126b6e2749e8"
      },
      "source": [
        "x0_train.shape, x0_test.shape"
      ],
      "execution_count": 15,
      "outputs": [
        {
          "output_type": "execute_result",
          "data": {
            "text/plain": [
              "((320, 23), (138, 23))"
            ]
          },
          "metadata": {
            "tags": []
          },
          "execution_count": 15
        }
      ]
    },
    {
      "cell_type": "code",
      "metadata": {
        "id": "_dYhvL6SjcSl"
      },
      "source": [
        "x1_train = vector1[:int(0.7*len(vector1))]\n",
        "x1_test = vector1[int(0.7*len(vector1)):]"
      ],
      "execution_count": 16,
      "outputs": []
    },
    {
      "cell_type": "code",
      "metadata": {
        "colab": {
          "base_uri": "https://localhost:8080/"
        },
        "id": "TjgKrExTkXgL",
        "outputId": "c8373d4e-9ac6-45a5-b8af-cf8ee8f71e82"
      },
      "source": [
        "x1_train.shape, x1_test.shape"
      ],
      "execution_count": 17,
      "outputs": [
        {
          "output_type": "execute_result",
          "data": {
            "text/plain": [
              "((510, 23), (220, 23))"
            ]
          },
          "metadata": {
            "tags": []
          },
          "execution_count": 17
        }
      ]
    },
    {
      "cell_type": "markdown",
      "metadata": {
        "id": "xB_XwtxjXOvI"
      },
      "source": [
        "비정상 :1, 정상: 0"
      ]
    },
    {
      "cell_type": "code",
      "metadata": {
        "id": "JxTx9e42PxEg"
      },
      "source": [
        "x0_test_tot = np.hstack((x0_test, np.ones(x0_test.shape[0]).reshape(-1,1)))\n",
        "x1_test_tot = np.hstack((x1_test, np.zeros(x1_test.shape[0]).reshape(-1,1)))\n",
        "test_tot = np.vstack((x0_test_tot, x1_test_tot))"
      ],
      "execution_count": 18,
      "outputs": []
    },
    {
      "cell_type": "code",
      "metadata": {
        "id": "xAyNVgrgOOj1"
      },
      "source": [
        "x_test, x_valid, y_test, y_valid = train_test_split(test_tot[:,:-1], test_tot[:,-1], test_size=0.3)"
      ],
      "execution_count": 19,
      "outputs": []
    },
    {
      "cell_type": "code",
      "metadata": {
        "colab": {
          "base_uri": "https://localhost:8080/"
        },
        "id": "etQFpobdQGh0",
        "outputId": "32d2df45-16be-4fbf-de82-636a16140424"
      },
      "source": [
        "print(x_test.shape, x_valid.shape, y_test.shape)"
      ],
      "execution_count": 20,
      "outputs": [
        {
          "output_type": "stream",
          "text": [
            "(250, 23) (108, 23) (250,)\n"
          ],
          "name": "stdout"
        }
      ]
    },
    {
      "cell_type": "markdown",
      "metadata": {
        "id": "iP7G2ffBQaea"
      },
      "source": [
        "데이터 차원 변경"
      ]
    },
    {
      "cell_type": "code",
      "metadata": {
        "id": "fPV6Vc3IQIns"
      },
      "source": [
        "x1_train =x1_train.reshape(x1_train.shape[0],1,x1_train.shape[1])\n",
        "x_test =x_test.reshape(x_test.shape[0],1,x_test.shape[1])\n",
        "x_valid =x_valid.reshape(x_valid.shape[0],1,x_valid.shape[1])"
      ],
      "execution_count": 21,
      "outputs": []
    },
    {
      "cell_type": "code",
      "metadata": {
        "colab": {
          "base_uri": "https://localhost:8080/"
        },
        "id": "t-QotlneSM6_",
        "outputId": "50d8791a-a6e9-49a2-98b9-8e327908778a"
      },
      "source": [
        "print(x1_train.shape,x_test.shape,x_valid.shape)"
      ],
      "execution_count": 22,
      "outputs": [
        {
          "output_type": "stream",
          "text": [
            "(510, 1, 23) (250, 1, 23) (108, 1, 23)\n"
          ],
          "name": "stdout"
        }
      ]
    },
    {
      "cell_type": "markdown",
      "metadata": {
        "id": "UL2x2mmvSKPK"
      },
      "source": [
        "신경망 구축"
      ]
    },
    {
      "cell_type": "code",
      "metadata": {
        "id": "nw6Jl0FrSsZA"
      },
      "source": [
        "from keras import regularizers\n",
        "from keras.models import Model\n",
        "from keras.callbacks import EarlyStopping\n",
        "from keras.layers import Input, Dropout, Dense, LSTM, TimeDistributed, RepeatVector"
      ],
      "execution_count": 23,
      "outputs": []
    },
    {
      "cell_type": "code",
      "metadata": {
        "id": "02slthVOQldb"
      },
      "source": [
        "def autoencoder_model(X):\n",
        "    inputs = Input(shape=(X.shape[1], X.shape[2]))\n",
        "    # return_sequences 가 True면 각 time_steps의 셀이 모두 출력으로 내보냄 , False 면 최종 셀만 출력으로 내보냄\n",
        "    L1 = LSTM(32, activation='relu', return_sequences=True, \n",
        "              kernel_regularizer=regularizers.l2(0.00))(inputs)\n",
        "    L2 = LSTM(16, activation='relu', return_sequences=False)(L1)\n",
        "    L3 = RepeatVector(X.shape[1])(L2)\n",
        "    L4 = LSTM(16, activation='relu', return_sequences=True)(L3)\n",
        "    L5 = LSTM(32, activation='relu', return_sequences=True)(L4)\n",
        "    output = TimeDistributed(Dense(X.shape[2]))(L5)    \n",
        "    model = Model(inputs=inputs, outputs=output)\n",
        "    return model"
      ],
      "execution_count": 24,
      "outputs": []
    },
    {
      "cell_type": "code",
      "metadata": {
        "colab": {
          "base_uri": "https://localhost:8080/"
        },
        "id": "8OWO0n9iTqaG",
        "outputId": "bdc438e2-adb8-4b59-94b1-016d515045ed"
      },
      "source": [
        "model = autoencoder_model(x1_train)\n",
        "model.compile(optimizer='adam',loss='mse')\n",
        "model.summary()"
      ],
      "execution_count": 25,
      "outputs": [
        {
          "output_type": "stream",
          "text": [
            "WARNING:tensorflow:Layer lstm will not use cuDNN kernels since it doesn't meet the criteria. It will use a generic GPU kernel as fallback when running on GPU.\n",
            "WARNING:tensorflow:Layer lstm_1 will not use cuDNN kernels since it doesn't meet the criteria. It will use a generic GPU kernel as fallback when running on GPU.\n",
            "WARNING:tensorflow:Layer lstm_2 will not use cuDNN kernels since it doesn't meet the criteria. It will use a generic GPU kernel as fallback when running on GPU.\n",
            "WARNING:tensorflow:Layer lstm_3 will not use cuDNN kernels since it doesn't meet the criteria. It will use a generic GPU kernel as fallback when running on GPU.\n",
            "Model: \"model\"\n",
            "_________________________________________________________________\n",
            "Layer (type)                 Output Shape              Param #   \n",
            "=================================================================\n",
            "input_1 (InputLayer)         [(None, 1, 23)]           0         \n",
            "_________________________________________________________________\n",
            "lstm (LSTM)                  (None, 1, 32)             7168      \n",
            "_________________________________________________________________\n",
            "lstm_1 (LSTM)                (None, 16)                3136      \n",
            "_________________________________________________________________\n",
            "repeat_vector (RepeatVector) (None, 1, 16)             0         \n",
            "_________________________________________________________________\n",
            "lstm_2 (LSTM)                (None, 1, 16)             2112      \n",
            "_________________________________________________________________\n",
            "lstm_3 (LSTM)                (None, 1, 32)             6272      \n",
            "_________________________________________________________________\n",
            "time_distributed (TimeDistri (None, 1, 23)             759       \n",
            "=================================================================\n",
            "Total params: 19,447\n",
            "Trainable params: 19,447\n",
            "Non-trainable params: 0\n",
            "_________________________________________________________________\n"
          ],
          "name": "stdout"
        }
      ]
    },
    {
      "cell_type": "code",
      "metadata": {
        "id": "mWSIYzNlT17o",
        "colab": {
          "base_uri": "https://localhost:8080/"
        },
        "outputId": "80514098-aab0-4322-87e5-f45c8e55289f"
      },
      "source": [
        "model = autoencoder_model(x1_train)\n",
        "model.compile(optimizer='adam',loss='mse')"
      ],
      "execution_count": 26,
      "outputs": [
        {
          "output_type": "stream",
          "text": [
            "WARNING:tensorflow:Layer lstm_4 will not use cuDNN kernels since it doesn't meet the criteria. It will use a generic GPU kernel as fallback when running on GPU.\n",
            "WARNING:tensorflow:Layer lstm_5 will not use cuDNN kernels since it doesn't meet the criteria. It will use a generic GPU kernel as fallback when running on GPU.\n",
            "WARNING:tensorflow:Layer lstm_6 will not use cuDNN kernels since it doesn't meet the criteria. It will use a generic GPU kernel as fallback when running on GPU.\n",
            "WARNING:tensorflow:Layer lstm_7 will not use cuDNN kernels since it doesn't meet the criteria. It will use a generic GPU kernel as fallback when running on GPU.\n"
          ],
          "name": "stdout"
        }
      ]
    },
    {
      "cell_type": "code",
      "metadata": {
        "colab": {
          "base_uri": "https://localhost:8080/"
        },
        "id": "53lZUq7MUSiP",
        "outputId": "21f0c3ce-5b5c-409b-fcda-5f0e81287a0a"
      },
      "source": [
        "epochs=10\n",
        "batch_size=5\n",
        "callbacks=[EarlyStopping(monitor='val_loss',patience=5)]\n",
        "\n",
        "history = model.fit(x1_train, x1_train, epochs=epochs, batch_size= batch_size,callbacks = callbacks, validation_split=0.05).history"
      ],
      "execution_count": 27,
      "outputs": [
        {
          "output_type": "stream",
          "text": [
            "Epoch 1/10\n",
            "97/97 [==============================] - 9s 27ms/step - loss: 0.0704 - val_loss: 0.0045\n",
            "Epoch 2/10\n",
            "97/97 [==============================] - 2s 20ms/step - loss: 0.0686 - val_loss: 0.0034\n",
            "Epoch 3/10\n",
            "97/97 [==============================] - 2s 21ms/step - loss: 0.0107 - val_loss: 0.0058\n",
            "Epoch 4/10\n",
            "97/97 [==============================] - 2s 20ms/step - loss: 0.0090 - val_loss: 0.0065\n",
            "Epoch 5/10\n",
            "97/97 [==============================] - 2s 20ms/step - loss: 0.0077 - val_loss: 0.0066\n",
            "Epoch 6/10\n",
            "97/97 [==============================] - 2s 20ms/step - loss: 0.0066 - val_loss: 0.0050\n",
            "Epoch 7/10\n",
            "97/97 [==============================] - 2s 20ms/step - loss: 0.0054 - val_loss: 0.0045\n"
          ],
          "name": "stdout"
        }
      ]
    },
    {
      "cell_type": "code",
      "metadata": {
        "id": "TLOZT9UjlDnL"
      },
      "source": [
        "import seaborn as sns\n",
        "sns.set(color_codes=True)\n",
        "import matplotlib.pyplot as plt\n",
        "%matplotlib inline"
      ],
      "execution_count": 28,
      "outputs": []
    },
    {
      "cell_type": "code",
      "metadata": {
        "id": "YoLeVXMyUrFd",
        "colab": {
          "base_uri": "https://localhost:8080/",
          "height": 457
        },
        "outputId": "d737fad3-a1b0-4e0a-f178-bb9cae22eadd"
      },
      "source": [
        "# 학습 손실 시각화\n",
        "fig, ax = plt.subplots(figsize=(14, 6), dpi=80)\n",
        "ax.plot(history['val_loss'], 'b', label='Train', linewidth=2)\n",
        "ax.plot(history['loss'], 'r', label='Validation', linewidth=2)\n",
        "ax.set_title('Model loss', fontsize=16)\n",
        "ax.set_ylabel('Loss (mae)')\n",
        "ax.set_xlabel('Epoch')\n",
        "ax.legend(loc='upper right')\n",
        "plt.show()"
      ],
      "execution_count": 29,
      "outputs": [
        {
          "output_type": "display_data",
          "data": {
            "image/png": "[encoded data removed]",
            "text/plain": [
              "<Figure size 1120x480 with 1 Axes>"
            ]
          },
          "metadata": {
            "tags": [],
            "needs_background": "light"
          }
        }
      ]
    },
    {
      "cell_type": "code",
      "metadata": {
        "id": "1Qn-f0L2oOW7"
      },
      "source": [
        "from sklearn import metrics"
      ],
      "execution_count": 30,
      "outputs": []
    },
    {
      "cell_type": "code",
      "metadata": {
        "colab": {
          "base_uri": "https://localhost:8080/",
          "height": 374
        },
        "id": "JmEimWqZmooQ",
        "outputId": "6a11148f-f5be-422b-d115-251ee02fffda"
      },
      "source": [
        "#검증 데이터 입력\n",
        "predictions_3d = model.predict(x_valid)\n",
        "predictions = predictions_3d.reshape(predictions_3d.shape[0], predictions_3d.shape[2])\n",
        "x_valid_ = x_valid.reshape(x_valid.shape[0], x_valid.shape[2])\n",
        "\n",
        "#재구성 손실 값 도출\n",
        "mse = np.mean(np.power(x_valid_ - predictions, 2), axis = 1)\n",
        "\n",
        "error_df = pd.DataFrame({'Reconstruction_error':mse, 'True_class': y_valid})\n",
        "\n",
        "precision_rt, recall_rt, threshold_rt = metrics.precision_recall_curve(error_df['True_class'], error_df['Reconstruction_error'])\n",
        "\n",
        "#모델 최적의 threshold 값 찾기\n",
        "best_cnt_dic = abs(precision_rt - recall_rt)\n",
        "threshold_fixed = threshold_rt[np.argmin(best_cnt_dic)]\n",
        "print('precision: ', precision_rt[np.argmin(best_cnt_dic)], ', recall: ', recall_rt[np.argmin(best_cnt_dic)])\n",
        "print('threshold: ', threshold_fixed)\n",
        "\n",
        "plt.figure(figsize=(8,5))\n",
        "plt.plot(threshold_rt, precision_rt[1:], label = 'Precision')\n",
        "plt.plot(threshold_rt, recall_rt[1:], label = 'Recall')\n",
        "plt.xlabel('Threshold'); plt.ylabel('Precision/Recall')\n",
        "plt.legend()\n",
        "plt.show()"
      ],
      "execution_count": 31,
      "outputs": [
        {
          "output_type": "stream",
          "text": [
            "precision:  0.45 , recall:  0.45\n",
            "threshold:  0.003095439745448842\n"
          ],
          "name": "stdout"
        },
        {
          "output_type": "display_data",
          "data": {
            "image/png": "[encoded data removed]",
            "text/plain": [
              "<Figure size 576x360 with 1 Axes>"
            ]
          },
          "metadata": {
            "tags": [],
            "needs_background": "light"
          }
        }
      ]
    },
    {
      "cell_type": "markdown",
      "metadata": {
        "id": "y2QJ4zymsDAh"
      },
      "source": [
        "모델 성능 평가"
      ]
    },
    {
      "cell_type": "code",
      "metadata": {
        "colab": {
          "base_uri": "https://localhost:8080/",
          "height": 301
        },
        "id": "7gZIkGTspJc6",
        "outputId": "ed6a73e8-41f0-48c9-c2e2-51c27e716c6e"
      },
      "source": [
        "from sklearn.metrics import roc_curve, auc\n",
        "\n",
        "fpr, tpr, thresholds = roc_curve(y_valid, mse)\n",
        "roc_auc = auc(fpr, tpr)\n",
        "\n",
        "plt.title('Receiver Operating Characteristic')\n",
        "plt.plot(fpr, tpr, label = 'AUC = %0.4f' % roc_auc, linewidth=5)\n",
        "plt.legend(loc = 'lower right')\n",
        "plt.plot([0,1], [0,1],'r--')\n",
        "plt.xlim([-0.001,1])\n",
        "plt.ylim([0,1.001])\n",
        "plt.ylabel('True positive rate')\n",
        "plt.xlabel('False positive rate')\n",
        "plt.show()"
      ],
      "execution_count": 32,
      "outputs": [
        {
          "output_type": "display_data",
          "data": {
            "image/png": "[encoded data removed]",
            "text/plain": [
              "<Figure size 432x288 with 1 Axes>"
            ]
          },
          "metadata": {
            "tags": [],
            "needs_background": "light"
          }
        }
      ]
    },
    {
      "cell_type": "code",
      "metadata": {
        "colab": {
          "base_uri": "https://localhost:8080/",
          "height": 319
        },
        "id": "Tjw-esXllJxA",
        "outputId": "36667656-6f82-4226-a456-9b05dc528adc"
      },
      "source": [
        "test_predictions_3d = model.predict(x_test)\n",
        "test_predictions = test_predictions_3d.reshape(test_predictions_3d.shape[0], test_predictions_3d.shape[2])\n",
        "x_test_ = x_test.reshape(x_test.shape[0], x_test.shape[2])\n",
        "mse = np.mean(np.power(x_test_ - test_predictions, 2), axis=1)\n",
        "\n",
        "error_df = pd.DataFrame({'Reconstruction_error': mse, 'True_class': y_test})\n",
        "\n",
        "pred_y = [1 if e > threshold_fixed else 0 for e in error_df['Reconstruction_error'].values]\n",
        "conf_matrix = metrics.confusion_matrix(error_df['True_class'], pred_y)\n",
        "\n",
        "accuracy = (conf_matrix[0][0]+ conf_matrix[1][[1]])/conf_matrix.sum()\n",
        "print('accuracy: ',accuracy)\n",
        "\n",
        "sns.heatmap(conf_matrix, xticklabels=['Normal','Abnormal'], yticklabels=['Normal', 'Abnormal'], annot=True, fmt='d', annot_kws={'size':10})\n",
        "b,t = plt.ylim()\n",
        "b+=0.5\n",
        "t-=0.5\n",
        "plt.ylim(b,t)\n",
        "plt.title('Confusion Matrix')\n",
        "plt.xlabel('Predicted Class'); plt.ylabel('True Class')\n",
        "plt.show()"
      ],
      "execution_count": 33,
      "outputs": [
        {
          "output_type": "stream",
          "text": [
            "accuracy:  [0.668]\n"
          ],
          "name": "stdout"
        },
        {
          "output_type": "display_data",
          "data": {
            "image/png": "[encoded data removed]",
            "text/plain": [
              "<Figure size 432x288 with 2 Axes>"
            ]
          },
          "metadata": {
            "tags": [],
            "needs_background": "light"
          }
        }
      ]
    },
    {
      "cell_type": "code",
      "metadata": {
        "colab": {
          "base_uri": "https://localhost:8080/",
          "height": 301
        },
        "id": "R1RPxsf9mVa4",
        "outputId": "46c5656b-2d28-4ae2-d8c5-0e521f0fbd45"
      },
      "source": [
        "groups = error_df.groupby('True_class')\n",
        "fig, ax = plt.subplots()\n",
        "\n",
        "for name, group in groups:\n",
        "  ax.plot(group.index, group.Reconstruction_error, marker = 'o', ms=3.5, linestyle='',\n",
        "          label='Abnormal' if name ==1 else 'Normal')\n",
        "\n",
        "ax.hlines(threshold_fixed, ax.get_xlim()[0], ax.get_xlim()[1], colors ='r', zorder=100, label ='Threshold')\n",
        "ax.legend()\n",
        "plt.title(\"Reconstruction error for different classes\")  \n",
        "plt.ylabel(\"Reconstrction error\")\n",
        "plt.xlabel(\"Data point index\")\n",
        "plt.show()"
      ],
      "execution_count": 34,
      "outputs": [
        {
          "output_type": "display_data",
          "data": {
            "image/png": "[encoded data removed]",
            "text/plain": [
              "<Figure size 432x288 with 1 Axes>"
            ]
          },
          "metadata": {
            "tags": [],
            "needs_background": "light"
          }
        }
      ]
    },
    {
      "cell_type": "code",
      "metadata": {
        "id": "SKjzhbUHrx72"
      },
      "source": [
        ""
      ],
      "execution_count": null,
      "outputs": []
    }
  ]
}