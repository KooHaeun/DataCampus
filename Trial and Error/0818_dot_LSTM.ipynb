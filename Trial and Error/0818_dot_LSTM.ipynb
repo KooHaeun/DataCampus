{
  "nbformat": 4,
  "nbformat_minor": 0,
  "metadata": {
    "colab": {
      "name": "0818_dot_LSTM.ipynb",
      "provenance": [],
      "collapsed_sections": []
    },
    "kernelspec": {
      "name": "python3",
      "display_name": "Python 3"
    },
    "language_info": {
      "name": "python"
    },
    "accelerator": "GPU"
  },
  "cells": [
    {
      "cell_type": "markdown",
      "metadata": {
        "id": "9HDIxvnFlioV"
      },
      "source": [
        "#dot로 시도"
      ]
    },
    {
      "cell_type": "code",
      "metadata": {
        "colab": {
          "base_uri": "https://localhost:8080/"
        },
        "id": "nNniS9GBH4g6",
        "outputId": "c6ad1df9-83a0-4c4a-c2e3-db5cd2eee239"
      },
      "source": [
        "from google.colab import drive\n",
        "drive.mount('/content/drive')"
      ],
      "execution_count": 1,
      "outputs": [
        {
          "output_type": "stream",
          "text": [
            "Drive already mounted at /content/drive; to attempt to forcibly remount, call drive.mount(\"/content/drive\", force_remount=True).\n"
          ],
          "name": "stdout"
        }
      ]
    },
    {
      "cell_type": "code",
      "metadata": {
        "id": "l-wKvH23IXGO"
      },
      "source": [
        "import pandas as pd\n",
        "import numpy as np"
      ],
      "execution_count": 2,
      "outputs": []
    },
    {
      "cell_type": "code",
      "metadata": {
        "id": "KP7rO5CXhwh-"
      },
      "source": [
        "path1='/content/drive/Shareddrives/데이터 청년 캠퍼스/젓가락질 데이터/새 젓가락질 데이터/excel 파일/newdata_all_0818.xlsx'"
      ],
      "execution_count": 3,
      "outputs": []
    },
    {
      "cell_type": "code",
      "metadata": {
        "id": "OfurOVObh5Yj"
      },
      "source": [
        "path2='/content/drive/Shareddrives/데이터 청년 캠퍼스/젓가락질 데이터/새 젓가락질 데이터/excel 파일/vector/newdata_all_0818_ver1_final.xlsx'"
      ],
      "execution_count": 4,
      "outputs": []
    },
    {
      "cell_type": "markdown",
      "metadata": {
        "id": "m56HufPcINeG"
      },
      "source": [
        "##올바르지 않은"
      ]
    },
    {
      "cell_type": "code",
      "metadata": {
        "id": "uBJLW85cIUzM"
      },
      "source": [
        "data = pd.read_excel(path1)\n",
        "pick = pd.read_excel(path2)"
      ],
      "execution_count": 5,
      "outputs": []
    },
    {
      "cell_type": "code",
      "metadata": {
        "colab": {
          "base_uri": "https://localhost:8080/",
          "height": 439
        },
        "id": "uHYQsnBZi5Po",
        "outputId": "791a95fb-9c2b-427f-fcf7-8f003c7ee134"
      },
      "source": [
        "data"
      ],
      "execution_count": 6,
      "outputs": [
        {
          "output_type": "execute_result",
          "data": {
            "text/html": [
              "<div>\n",
              "<style scoped>\n",
              "    .dataframe tbody tr th:only-of-type {\n",
              "        vertical-align: middle;\n",
              "    }\n",
              "\n",
              "    .dataframe tbody tr th {\n",
              "        vertical-align: top;\n",
              "    }\n",
              "\n",
              "    .dataframe thead th {\n",
              "        text-align: right;\n",
              "    }\n",
              "</style>\n",
              "<table border=\"1\" class=\"dataframe\">\n",
              "  <thead>\n",
              "    <tr style=\"text-align: right;\">\n",
              "      <th></th>\n",
              "      <th>x_0</th>\n",
              "      <th>y_0</th>\n",
              "      <th>z_0</th>\n",
              "      <th>x_1</th>\n",
              "      <th>y_1</th>\n",
              "      <th>z_1</th>\n",
              "      <th>x_2</th>\n",
              "      <th>y_2</th>\n",
              "      <th>z_2</th>\n",
              "      <th>x_3</th>\n",
              "      <th>y_3</th>\n",
              "      <th>z_3</th>\n",
              "      <th>x_4</th>\n",
              "      <th>y_4</th>\n",
              "      <th>z_4</th>\n",
              "      <th>x_5</th>\n",
              "      <th>y_5</th>\n",
              "      <th>z_5</th>\n",
              "      <th>x_6</th>\n",
              "      <th>y_6</th>\n",
              "      <th>z_6</th>\n",
              "      <th>x_7</th>\n",
              "      <th>y_7</th>\n",
              "      <th>z_7</th>\n",
              "      <th>x_8</th>\n",
              "      <th>y_8</th>\n",
              "      <th>z_8</th>\n",
              "      <th>x_9</th>\n",
              "      <th>y_9</th>\n",
              "      <th>z_9</th>\n",
              "      <th>x_10</th>\n",
              "      <th>y_10</th>\n",
              "      <th>z_10</th>\n",
              "      <th>x_11</th>\n",
              "      <th>y_11</th>\n",
              "      <th>z_11</th>\n",
              "      <th>x_12</th>\n",
              "      <th>y_12</th>\n",
              "      <th>z_12</th>\n",
              "      <th>x_13</th>\n",
              "      <th>y_13</th>\n",
              "      <th>z_13</th>\n",
              "      <th>x_14</th>\n",
              "      <th>y_14</th>\n",
              "      <th>z_14</th>\n",
              "      <th>x_15</th>\n",
              "      <th>y_15</th>\n",
              "      <th>z_15</th>\n",
              "      <th>x_16</th>\n",
              "      <th>y_16</th>\n",
              "      <th>z_16</th>\n",
              "      <th>y</th>\n",
              "      <th>image</th>\n",
              "    </tr>\n",
              "  </thead>\n",
              "  <tbody>\n",
              "    <tr>\n",
              "      <th>0</th>\n",
              "      <td>0.813085</td>\n",
              "      <td>0.846067</td>\n",
              "      <td>-0.000055</td>\n",
              "      <td>0.824422</td>\n",
              "      <td>0.770610</td>\n",
              "      <td>-0.124702</td>\n",
              "      <td>0.797283</td>\n",
              "      <td>0.650218</td>\n",
              "      <td>-0.159701</td>\n",
              "      <td>0.742439</td>\n",
              "      <td>0.556123</td>\n",
              "      <td>-0.170803</td>\n",
              "      <td>0.691368</td>\n",
              "      <td>0.466948</td>\n",
              "      <td>-0.182419</td>\n",
              "      <td>0.817069</td>\n",
              "      <td>0.471548</td>\n",
              "      <td>-0.059792</td>\n",
              "      <td>0.738878</td>\n",
              "      <td>0.411966</td>\n",
              "      <td>-0.103471</td>\n",
              "      <td>0.682167</td>\n",
              "      <td>0.420989</td>\n",
              "      <td>-0.139112</td>\n",
              "      <td>0.639966</td>\n",
              "      <td>0.446352</td>\n",
              "      <td>-0.155034</td>\n",
              "      <td>0.783102</td>\n",
              "      <td>0.509549</td>\n",
              "      <td>-0.013305</td>\n",
              "      <td>0.703507</td>\n",
              "      <td>0.470197</td>\n",
              "      <td>-0.073678</td>\n",
              "      <td>0.663062</td>\n",
              "      <td>0.534278</td>\n",
              "      <td>-0.134101</td>\n",
              "      <td>0.635184</td>\n",
              "      <td>0.590695</td>\n",
              "      <td>-0.168920</td>\n",
              "      <td>0.753243</td>\n",
              "      <td>0.552782</td>\n",
              "      <td>0.023123</td>\n",
              "      <td>0.683966</td>\n",
              "      <td>0.563757</td>\n",
              "      <td>-0.054008</td>\n",
              "      <td>0.665996</td>\n",
              "      <td>0.650417</td>\n",
              "      <td>-0.105708</td>\n",
              "      <td>0.658083</td>\n",
              "      <td>0.712052</td>\n",
              "      <td>-0.124142</td>\n",
              "      <td>0</td>\n",
              "      <td>not_correct10.MP4_000002.243.jpg</td>\n",
              "    </tr>\n",
              "    <tr>\n",
              "      <th>1</th>\n",
              "      <td>0.811608</td>\n",
              "      <td>0.900154</td>\n",
              "      <td>0.000049</td>\n",
              "      <td>0.800232</td>\n",
              "      <td>0.803997</td>\n",
              "      <td>-0.128185</td>\n",
              "      <td>0.769821</td>\n",
              "      <td>0.692153</td>\n",
              "      <td>-0.163109</td>\n",
              "      <td>0.714997</td>\n",
              "      <td>0.601138</td>\n",
              "      <td>-0.173176</td>\n",
              "      <td>0.667249</td>\n",
              "      <td>0.523414</td>\n",
              "      <td>-0.179355</td>\n",
              "      <td>0.803990</td>\n",
              "      <td>0.504725</td>\n",
              "      <td>-0.065811</td>\n",
              "      <td>0.713653</td>\n",
              "      <td>0.483295</td>\n",
              "      <td>-0.111253</td>\n",
              "      <td>0.661599</td>\n",
              "      <td>0.532235</td>\n",
              "      <td>-0.147132</td>\n",
              "      <td>0.634616</td>\n",
              "      <td>0.574219</td>\n",
              "      <td>-0.165844</td>\n",
              "      <td>0.768074</td>\n",
              "      <td>0.530350</td>\n",
              "      <td>-0.011554</td>\n",
              "      <td>0.684327</td>\n",
              "      <td>0.507863</td>\n",
              "      <td>-0.067704</td>\n",
              "      <td>0.649618</td>\n",
              "      <td>0.593538</td>\n",
              "      <td>-0.111933</td>\n",
              "      <td>0.637922</td>\n",
              "      <td>0.656537</td>\n",
              "      <td>-0.130769</td>\n",
              "      <td>0.737973</td>\n",
              "      <td>0.567718</td>\n",
              "      <td>0.029811</td>\n",
              "      <td>0.662422</td>\n",
              "      <td>0.575084</td>\n",
              "      <td>-0.043147</td>\n",
              "      <td>0.639473</td>\n",
              "      <td>0.667215</td>\n",
              "      <td>-0.085680</td>\n",
              "      <td>0.635148</td>\n",
              "      <td>0.724634</td>\n",
              "      <td>-0.097661</td>\n",
              "      <td>0</td>\n",
              "      <td>not_correct10.MP4_000004.040.jpg</td>\n",
              "    </tr>\n",
              "    <tr>\n",
              "      <th>2</th>\n",
              "      <td>0.804972</td>\n",
              "      <td>0.898247</td>\n",
              "      <td>0.000036</td>\n",
              "      <td>0.795059</td>\n",
              "      <td>0.818508</td>\n",
              "      <td>-0.124139</td>\n",
              "      <td>0.766665</td>\n",
              "      <td>0.708822</td>\n",
              "      <td>-0.161453</td>\n",
              "      <td>0.715835</td>\n",
              "      <td>0.615361</td>\n",
              "      <td>-0.176281</td>\n",
              "      <td>0.669516</td>\n",
              "      <td>0.537159</td>\n",
              "      <td>-0.190632</td>\n",
              "      <td>0.802102</td>\n",
              "      <td>0.513931</td>\n",
              "      <td>-0.062936</td>\n",
              "      <td>0.719684</td>\n",
              "      <td>0.480097</td>\n",
              "      <td>-0.111553</td>\n",
              "      <td>0.665456</td>\n",
              "      <td>0.517717</td>\n",
              "      <td>-0.152546</td>\n",
              "      <td>0.630459</td>\n",
              "      <td>0.559995</td>\n",
              "      <td>-0.172420</td>\n",
              "      <td>0.769932</td>\n",
              "      <td>0.540662</td>\n",
              "      <td>-0.013439</td>\n",
              "      <td>0.687925</td>\n",
              "      <td>0.511267</td>\n",
              "      <td>-0.074293</td>\n",
              "      <td>0.648063</td>\n",
              "      <td>0.590128</td>\n",
              "      <td>-0.122476</td>\n",
              "      <td>0.627498</td>\n",
              "      <td>0.657720</td>\n",
              "      <td>-0.142231</td>\n",
              "      <td>0.739783</td>\n",
              "      <td>0.577900</td>\n",
              "      <td>0.023670</td>\n",
              "      <td>0.667724</td>\n",
              "      <td>0.580225</td>\n",
              "      <td>-0.050296</td>\n",
              "      <td>0.643426</td>\n",
              "      <td>0.669124</td>\n",
              "      <td>-0.086262</td>\n",
              "      <td>0.632836</td>\n",
              "      <td>0.729143</td>\n",
              "      <td>-0.093261</td>\n",
              "      <td>0</td>\n",
              "      <td>not_correct10.MP4_000004.240.jpg</td>\n",
              "    </tr>\n",
              "    <tr>\n",
              "      <th>3</th>\n",
              "      <td>0.810611</td>\n",
              "      <td>0.890062</td>\n",
              "      <td>0.000032</td>\n",
              "      <td>0.797697</td>\n",
              "      <td>0.811081</td>\n",
              "      <td>-0.132050</td>\n",
              "      <td>0.766151</td>\n",
              "      <td>0.704937</td>\n",
              "      <td>-0.172678</td>\n",
              "      <td>0.712006</td>\n",
              "      <td>0.602737</td>\n",
              "      <td>-0.188355</td>\n",
              "      <td>0.662580</td>\n",
              "      <td>0.521790</td>\n",
              "      <td>-0.203335</td>\n",
              "      <td>0.800948</td>\n",
              "      <td>0.506245</td>\n",
              "      <td>-0.075835</td>\n",
              "      <td>0.706428</td>\n",
              "      <td>0.475711</td>\n",
              "      <td>-0.123942</td>\n",
              "      <td>0.648628</td>\n",
              "      <td>0.529975</td>\n",
              "      <td>-0.159660</td>\n",
              "      <td>0.616530</td>\n",
              "      <td>0.582503</td>\n",
              "      <td>-0.175144</td>\n",
              "      <td>0.770626</td>\n",
              "      <td>0.526458</td>\n",
              "      <td>-0.020276</td>\n",
              "      <td>0.675969</td>\n",
              "      <td>0.510031</td>\n",
              "      <td>-0.075999</td>\n",
              "      <td>0.629624</td>\n",
              "      <td>0.605371</td>\n",
              "      <td>-0.124830</td>\n",
              "      <td>0.606849</td>\n",
              "      <td>0.681861</td>\n",
              "      <td>-0.145291</td>\n",
              "      <td>0.742881</td>\n",
              "      <td>0.562696</td>\n",
              "      <td>0.021927</td>\n",
              "      <td>0.659005</td>\n",
              "      <td>0.577648</td>\n",
              "      <td>-0.049330</td>\n",
              "      <td>0.623684</td>\n",
              "      <td>0.669649</td>\n",
              "      <td>-0.091005</td>\n",
              "      <td>0.604884</td>\n",
              "      <td>0.731458</td>\n",
              "      <td>-0.106125</td>\n",
              "      <td>0</td>\n",
              "      <td>not_correct10.MP4_000004.440.jpg</td>\n",
              "    </tr>\n",
              "    <tr>\n",
              "      <th>4</th>\n",
              "      <td>0.813915</td>\n",
              "      <td>0.895303</td>\n",
              "      <td>0.000028</td>\n",
              "      <td>0.799781</td>\n",
              "      <td>0.789586</td>\n",
              "      <td>-0.113865</td>\n",
              "      <td>0.765924</td>\n",
              "      <td>0.675086</td>\n",
              "      <td>-0.142654</td>\n",
              "      <td>0.708385</td>\n",
              "      <td>0.585417</td>\n",
              "      <td>-0.154692</td>\n",
              "      <td>0.655782</td>\n",
              "      <td>0.504408</td>\n",
              "      <td>-0.175345</td>\n",
              "      <td>0.784996</td>\n",
              "      <td>0.497014</td>\n",
              "      <td>-0.041157</td>\n",
              "      <td>0.704009</td>\n",
              "      <td>0.459128</td>\n",
              "      <td>-0.076921</td>\n",
              "      <td>0.649163</td>\n",
              "      <td>0.475977</td>\n",
              "      <td>-0.112614</td>\n",
              "      <td>0.611063</td>\n",
              "      <td>0.508673</td>\n",
              "      <td>-0.131428</td>\n",
              "      <td>0.751889</td>\n",
              "      <td>0.537486</td>\n",
              "      <td>0.007954</td>\n",
              "      <td>0.670158</td>\n",
              "      <td>0.521544</td>\n",
              "      <td>-0.035843</td>\n",
              "      <td>0.624126</td>\n",
              "      <td>0.579177</td>\n",
              "      <td>-0.092226</td>\n",
              "      <td>0.595052</td>\n",
              "      <td>0.639403</td>\n",
              "      <td>-0.118748</td>\n",
              "      <td>0.725035</td>\n",
              "      <td>0.583591</td>\n",
              "      <td>0.047228</td>\n",
              "      <td>0.650328</td>\n",
              "      <td>0.600061</td>\n",
              "      <td>-0.012425</td>\n",
              "      <td>0.626391</td>\n",
              "      <td>0.679714</td>\n",
              "      <td>-0.067126</td>\n",
              "      <td>0.612227</td>\n",
              "      <td>0.739808</td>\n",
              "      <td>-0.089580</td>\n",
              "      <td>0</td>\n",
              "      <td>not_correct10.MP4_000004.640.jpg</td>\n",
              "    </tr>\n",
              "    <tr>\n",
              "      <th>...</th>\n",
              "      <td>...</td>\n",
              "      <td>...</td>\n",
              "      <td>...</td>\n",
              "      <td>...</td>\n",
              "      <td>...</td>\n",
              "      <td>...</td>\n",
              "      <td>...</td>\n",
              "      <td>...</td>\n",
              "      <td>...</td>\n",
              "      <td>...</td>\n",
              "      <td>...</td>\n",
              "      <td>...</td>\n",
              "      <td>...</td>\n",
              "      <td>...</td>\n",
              "      <td>...</td>\n",
              "      <td>...</td>\n",
              "      <td>...</td>\n",
              "      <td>...</td>\n",
              "      <td>...</td>\n",
              "      <td>...</td>\n",
              "      <td>...</td>\n",
              "      <td>...</td>\n",
              "      <td>...</td>\n",
              "      <td>...</td>\n",
              "      <td>...</td>\n",
              "      <td>...</td>\n",
              "      <td>...</td>\n",
              "      <td>...</td>\n",
              "      <td>...</td>\n",
              "      <td>...</td>\n",
              "      <td>...</td>\n",
              "      <td>...</td>\n",
              "      <td>...</td>\n",
              "      <td>...</td>\n",
              "      <td>...</td>\n",
              "      <td>...</td>\n",
              "      <td>...</td>\n",
              "      <td>...</td>\n",
              "      <td>...</td>\n",
              "      <td>...</td>\n",
              "      <td>...</td>\n",
              "      <td>...</td>\n",
              "      <td>...</td>\n",
              "      <td>...</td>\n",
              "      <td>...</td>\n",
              "      <td>...</td>\n",
              "      <td>...</td>\n",
              "      <td>...</td>\n",
              "      <td>...</td>\n",
              "      <td>...</td>\n",
              "      <td>...</td>\n",
              "      <td>...</td>\n",
              "      <td>...</td>\n",
              "    </tr>\n",
              "    <tr>\n",
              "      <th>1183</th>\n",
              "      <td>0.845585</td>\n",
              "      <td>0.939924</td>\n",
              "      <td>-0.000010</td>\n",
              "      <td>0.834245</td>\n",
              "      <td>0.766973</td>\n",
              "      <td>-0.124223</td>\n",
              "      <td>0.783395</td>\n",
              "      <td>0.594559</td>\n",
              "      <td>-0.147035</td>\n",
              "      <td>0.706249</td>\n",
              "      <td>0.462637</td>\n",
              "      <td>-0.155887</td>\n",
              "      <td>0.648856</td>\n",
              "      <td>0.322473</td>\n",
              "      <td>-0.164343</td>\n",
              "      <td>0.806302</td>\n",
              "      <td>0.362722</td>\n",
              "      <td>0.003236</td>\n",
              "      <td>0.713503</td>\n",
              "      <td>0.248290</td>\n",
              "      <td>-0.044954</td>\n",
              "      <td>0.638528</td>\n",
              "      <td>0.283239</td>\n",
              "      <td>-0.116305</td>\n",
              "      <td>0.588820</td>\n",
              "      <td>0.372963</td>\n",
              "      <td>-0.166686</td>\n",
              "      <td>0.757798</td>\n",
              "      <td>0.432758</td>\n",
              "      <td>0.052386</td>\n",
              "      <td>0.657530</td>\n",
              "      <td>0.320263</td>\n",
              "      <td>0.000556</td>\n",
              "      <td>0.576895</td>\n",
              "      <td>0.375720</td>\n",
              "      <td>-0.103096</td>\n",
              "      <td>0.525801</td>\n",
              "      <td>0.457907</td>\n",
              "      <td>-0.176403</td>\n",
              "      <td>0.714370</td>\n",
              "      <td>0.510993</td>\n",
              "      <td>0.089071</td>\n",
              "      <td>0.619689</td>\n",
              "      <td>0.440084</td>\n",
              "      <td>0.016014</td>\n",
              "      <td>0.546414</td>\n",
              "      <td>0.505925</td>\n",
              "      <td>-0.101369</td>\n",
              "      <td>0.502023</td>\n",
              "      <td>0.586357</td>\n",
              "      <td>-0.173579</td>\n",
              "      <td>1</td>\n",
              "      <td>correct4.mp4_000005.383.jpg</td>\n",
              "    </tr>\n",
              "    <tr>\n",
              "      <th>1184</th>\n",
              "      <td>0.846682</td>\n",
              "      <td>0.942074</td>\n",
              "      <td>0.000018</td>\n",
              "      <td>0.841494</td>\n",
              "      <td>0.766714</td>\n",
              "      <td>-0.124047</td>\n",
              "      <td>0.789954</td>\n",
              "      <td>0.597155</td>\n",
              "      <td>-0.146498</td>\n",
              "      <td>0.710350</td>\n",
              "      <td>0.473680</td>\n",
              "      <td>-0.154309</td>\n",
              "      <td>0.650647</td>\n",
              "      <td>0.342139</td>\n",
              "      <td>-0.158929</td>\n",
              "      <td>0.806473</td>\n",
              "      <td>0.373347</td>\n",
              "      <td>-0.000659</td>\n",
              "      <td>0.721333</td>\n",
              "      <td>0.255809</td>\n",
              "      <td>-0.051297</td>\n",
              "      <td>0.648449</td>\n",
              "      <td>0.284207</td>\n",
              "      <td>-0.124670</td>\n",
              "      <td>0.599384</td>\n",
              "      <td>0.372669</td>\n",
              "      <td>-0.173639</td>\n",
              "      <td>0.751615</td>\n",
              "      <td>0.441638</td>\n",
              "      <td>0.046504</td>\n",
              "      <td>0.659921</td>\n",
              "      <td>0.317437</td>\n",
              "      <td>-0.003432</td>\n",
              "      <td>0.579589</td>\n",
              "      <td>0.357693</td>\n",
              "      <td>-0.105593</td>\n",
              "      <td>0.525711</td>\n",
              "      <td>0.433388</td>\n",
              "      <td>-0.177965</td>\n",
              "      <td>0.705788</td>\n",
              "      <td>0.521830</td>\n",
              "      <td>0.080786</td>\n",
              "      <td>0.614481</td>\n",
              "      <td>0.446506</td>\n",
              "      <td>0.011814</td>\n",
              "      <td>0.538532</td>\n",
              "      <td>0.503794</td>\n",
              "      <td>-0.110959</td>\n",
              "      <td>0.487695</td>\n",
              "      <td>0.579054</td>\n",
              "      <td>-0.190390</td>\n",
              "      <td>1</td>\n",
              "      <td>correct4.mp4_000005.450.jpg</td>\n",
              "    </tr>\n",
              "    <tr>\n",
              "      <th>1185</th>\n",
              "      <td>0.843230</td>\n",
              "      <td>0.931821</td>\n",
              "      <td>0.000009</td>\n",
              "      <td>0.838827</td>\n",
              "      <td>0.754905</td>\n",
              "      <td>-0.119154</td>\n",
              "      <td>0.788764</td>\n",
              "      <td>0.591904</td>\n",
              "      <td>-0.143966</td>\n",
              "      <td>0.711042</td>\n",
              "      <td>0.472652</td>\n",
              "      <td>-0.155143</td>\n",
              "      <td>0.651198</td>\n",
              "      <td>0.341076</td>\n",
              "      <td>-0.162021</td>\n",
              "      <td>0.797020</td>\n",
              "      <td>0.367190</td>\n",
              "      <td>-0.000366</td>\n",
              "      <td>0.716338</td>\n",
              "      <td>0.243136</td>\n",
              "      <td>-0.043323</td>\n",
              "      <td>0.649646</td>\n",
              "      <td>0.268233</td>\n",
              "      <td>-0.113448</td>\n",
              "      <td>0.608135</td>\n",
              "      <td>0.361810</td>\n",
              "      <td>-0.165378</td>\n",
              "      <td>0.743618</td>\n",
              "      <td>0.440844</td>\n",
              "      <td>0.044773</td>\n",
              "      <td>0.653271</td>\n",
              "      <td>0.315541</td>\n",
              "      <td>-0.003232</td>\n",
              "      <td>0.579524</td>\n",
              "      <td>0.356903</td>\n",
              "      <td>-0.102831</td>\n",
              "      <td>0.534618</td>\n",
              "      <td>0.441552</td>\n",
              "      <td>-0.176708</td>\n",
              "      <td>0.698404</td>\n",
              "      <td>0.523409</td>\n",
              "      <td>0.077914</td>\n",
              "      <td>0.611879</td>\n",
              "      <td>0.443980</td>\n",
              "      <td>0.013151</td>\n",
              "      <td>0.546160</td>\n",
              "      <td>0.501907</td>\n",
              "      <td>-0.103890</td>\n",
              "      <td>0.508448</td>\n",
              "      <td>0.585151</td>\n",
              "      <td>-0.180975</td>\n",
              "      <td>1</td>\n",
              "      <td>correct4.mp4_000005.517.jpg</td>\n",
              "    </tr>\n",
              "    <tr>\n",
              "      <th>1186</th>\n",
              "      <td>0.846199</td>\n",
              "      <td>0.936584</td>\n",
              "      <td>0.000021</td>\n",
              "      <td>0.844121</td>\n",
              "      <td>0.765941</td>\n",
              "      <td>-0.125628</td>\n",
              "      <td>0.792588</td>\n",
              "      <td>0.599986</td>\n",
              "      <td>-0.149340</td>\n",
              "      <td>0.711345</td>\n",
              "      <td>0.475229</td>\n",
              "      <td>-0.158008</td>\n",
              "      <td>0.650330</td>\n",
              "      <td>0.340259</td>\n",
              "      <td>-0.161237</td>\n",
              "      <td>0.800144</td>\n",
              "      <td>0.369197</td>\n",
              "      <td>-0.007623</td>\n",
              "      <td>0.718771</td>\n",
              "      <td>0.256875</td>\n",
              "      <td>-0.058639</td>\n",
              "      <td>0.650779</td>\n",
              "      <td>0.293357</td>\n",
              "      <td>-0.130334</td>\n",
              "      <td>0.607640</td>\n",
              "      <td>0.392408</td>\n",
              "      <td>-0.178969</td>\n",
              "      <td>0.744812</td>\n",
              "      <td>0.435372</td>\n",
              "      <td>0.041362</td>\n",
              "      <td>0.655486</td>\n",
              "      <td>0.312653</td>\n",
              "      <td>-0.013967</td>\n",
              "      <td>0.580767</td>\n",
              "      <td>0.361200</td>\n",
              "      <td>-0.112322</td>\n",
              "      <td>0.532839</td>\n",
              "      <td>0.448157</td>\n",
              "      <td>-0.183633</td>\n",
              "      <td>0.699213</td>\n",
              "      <td>0.515712</td>\n",
              "      <td>0.077237</td>\n",
              "      <td>0.611788</td>\n",
              "      <td>0.437458</td>\n",
              "      <td>0.000973</td>\n",
              "      <td>0.542228</td>\n",
              "      <td>0.499133</td>\n",
              "      <td>-0.120166</td>\n",
              "      <td>0.497742</td>\n",
              "      <td>0.584226</td>\n",
              "      <td>-0.198468</td>\n",
              "      <td>1</td>\n",
              "      <td>correct4.mp4_000005.583.jpg</td>\n",
              "    </tr>\n",
              "    <tr>\n",
              "      <th>1187</th>\n",
              "      <td>0.844087</td>\n",
              "      <td>0.922825</td>\n",
              "      <td>0.000058</td>\n",
              "      <td>0.844435</td>\n",
              "      <td>0.759794</td>\n",
              "      <td>-0.127801</td>\n",
              "      <td>0.795600</td>\n",
              "      <td>0.595571</td>\n",
              "      <td>-0.156887</td>\n",
              "      <td>0.711384</td>\n",
              "      <td>0.472286</td>\n",
              "      <td>-0.170927</td>\n",
              "      <td>0.649213</td>\n",
              "      <td>0.340585</td>\n",
              "      <td>-0.183231</td>\n",
              "      <td>0.803461</td>\n",
              "      <td>0.357289</td>\n",
              "      <td>-0.012722</td>\n",
              "      <td>0.718500</td>\n",
              "      <td>0.248161</td>\n",
              "      <td>-0.069848</td>\n",
              "      <td>0.648306</td>\n",
              "      <td>0.293798</td>\n",
              "      <td>-0.140607</td>\n",
              "      <td>0.605573</td>\n",
              "      <td>0.394150</td>\n",
              "      <td>-0.186779</td>\n",
              "      <td>0.746988</td>\n",
              "      <td>0.421694</td>\n",
              "      <td>0.035764</td>\n",
              "      <td>0.654486</td>\n",
              "      <td>0.305573</td>\n",
              "      <td>-0.027716</td>\n",
              "      <td>0.579148</td>\n",
              "      <td>0.369491</td>\n",
              "      <td>-0.124700</td>\n",
              "      <td>0.533926</td>\n",
              "      <td>0.461764</td>\n",
              "      <td>-0.190056</td>\n",
              "      <td>0.701110</td>\n",
              "      <td>0.502211</td>\n",
              "      <td>0.071558</td>\n",
              "      <td>0.612512</td>\n",
              "      <td>0.435215</td>\n",
              "      <td>-0.011303</td>\n",
              "      <td>0.544112</td>\n",
              "      <td>0.507558</td>\n",
              "      <td>-0.128306</td>\n",
              "      <td>0.502788</td>\n",
              "      <td>0.594825</td>\n",
              "      <td>-0.198400</td>\n",
              "      <td>1</td>\n",
              "      <td>correct4.mp4_000005.650.jpg</td>\n",
              "    </tr>\n",
              "  </tbody>\n",
              "</table>\n",
              "<p>1188 rows × 53 columns</p>\n",
              "</div>"
            ],
            "text/plain": [
              "           x_0       y_0  ...  y                             image\n",
              "0     0.813085  0.846067  ...  0  not_correct10.MP4_000002.243.jpg\n",
              "1     0.811608  0.900154  ...  0  not_correct10.MP4_000004.040.jpg\n",
              "2     0.804972  0.898247  ...  0  not_correct10.MP4_000004.240.jpg\n",
              "3     0.810611  0.890062  ...  0  not_correct10.MP4_000004.440.jpg\n",
              "4     0.813915  0.895303  ...  0  not_correct10.MP4_000004.640.jpg\n",
              "...        ...       ...  ... ..                               ...\n",
              "1183  0.845585  0.939924  ...  1       correct4.mp4_000005.383.jpg\n",
              "1184  0.846682  0.942074  ...  1       correct4.mp4_000005.450.jpg\n",
              "1185  0.843230  0.931821  ...  1       correct4.mp4_000005.517.jpg\n",
              "1186  0.846199  0.936584  ...  1       correct4.mp4_000005.583.jpg\n",
              "1187  0.844087  0.922825  ...  1       correct4.mp4_000005.650.jpg\n",
              "\n",
              "[1188 rows x 53 columns]"
            ]
          },
          "metadata": {
            "tags": []
          },
          "execution_count": 6
        }
      ]
    },
    {
      "cell_type": "code",
      "metadata": {
        "id": "TQzpiR_xjBmh"
      },
      "source": [
        "pick= pick[[\"d_ratio\",\"약중, 중검 sin차\"]]"
      ],
      "execution_count": 7,
      "outputs": []
    },
    {
      "cell_type": "code",
      "metadata": {
        "id": "g5kmVqEKjSmd"
      },
      "source": [
        "data = pd.concat([data,pick],axis=1)"
      ],
      "execution_count": 8,
      "outputs": []
    },
    {
      "cell_type": "code",
      "metadata": {
        "colab": {
          "base_uri": "https://localhost:8080/",
          "height": 473
        },
        "id": "HRdXOmYejpq_",
        "outputId": "1e1151dc-6e4e-466f-fb91-5fe4c3e0369d"
      },
      "source": [
        "data"
      ],
      "execution_count": 9,
      "outputs": [
        {
          "output_type": "execute_result",
          "data": {
            "text/html": [
              "<div>\n",
              "<style scoped>\n",
              "    .dataframe tbody tr th:only-of-type {\n",
              "        vertical-align: middle;\n",
              "    }\n",
              "\n",
              "    .dataframe tbody tr th {\n",
              "        vertical-align: top;\n",
              "    }\n",
              "\n",
              "    .dataframe thead th {\n",
              "        text-align: right;\n",
              "    }\n",
              "</style>\n",
              "<table border=\"1\" class=\"dataframe\">\n",
              "  <thead>\n",
              "    <tr style=\"text-align: right;\">\n",
              "      <th></th>\n",
              "      <th>x_0</th>\n",
              "      <th>y_0</th>\n",
              "      <th>z_0</th>\n",
              "      <th>x_1</th>\n",
              "      <th>y_1</th>\n",
              "      <th>z_1</th>\n",
              "      <th>x_2</th>\n",
              "      <th>y_2</th>\n",
              "      <th>z_2</th>\n",
              "      <th>x_3</th>\n",
              "      <th>y_3</th>\n",
              "      <th>z_3</th>\n",
              "      <th>x_4</th>\n",
              "      <th>y_4</th>\n",
              "      <th>z_4</th>\n",
              "      <th>x_5</th>\n",
              "      <th>y_5</th>\n",
              "      <th>z_5</th>\n",
              "      <th>x_6</th>\n",
              "      <th>y_6</th>\n",
              "      <th>z_6</th>\n",
              "      <th>x_7</th>\n",
              "      <th>y_7</th>\n",
              "      <th>z_7</th>\n",
              "      <th>x_8</th>\n",
              "      <th>y_8</th>\n",
              "      <th>z_8</th>\n",
              "      <th>x_9</th>\n",
              "      <th>y_9</th>\n",
              "      <th>z_9</th>\n",
              "      <th>x_10</th>\n",
              "      <th>y_10</th>\n",
              "      <th>z_10</th>\n",
              "      <th>x_11</th>\n",
              "      <th>y_11</th>\n",
              "      <th>z_11</th>\n",
              "      <th>x_12</th>\n",
              "      <th>y_12</th>\n",
              "      <th>z_12</th>\n",
              "      <th>x_13</th>\n",
              "      <th>y_13</th>\n",
              "      <th>z_13</th>\n",
              "      <th>x_14</th>\n",
              "      <th>y_14</th>\n",
              "      <th>z_14</th>\n",
              "      <th>x_15</th>\n",
              "      <th>y_15</th>\n",
              "      <th>z_15</th>\n",
              "      <th>x_16</th>\n",
              "      <th>y_16</th>\n",
              "      <th>z_16</th>\n",
              "      <th>y</th>\n",
              "      <th>image</th>\n",
              "      <th>d_ratio</th>\n",
              "      <th>약중, 중검 sin차</th>\n",
              "    </tr>\n",
              "  </thead>\n",
              "  <tbody>\n",
              "    <tr>\n",
              "      <th>0</th>\n",
              "      <td>0.813085</td>\n",
              "      <td>0.846067</td>\n",
              "      <td>-0.000055</td>\n",
              "      <td>0.824422</td>\n",
              "      <td>0.770610</td>\n",
              "      <td>-0.124702</td>\n",
              "      <td>0.797283</td>\n",
              "      <td>0.650218</td>\n",
              "      <td>-0.159701</td>\n",
              "      <td>0.742439</td>\n",
              "      <td>0.556123</td>\n",
              "      <td>-0.170803</td>\n",
              "      <td>0.691368</td>\n",
              "      <td>0.466948</td>\n",
              "      <td>-0.182419</td>\n",
              "      <td>0.817069</td>\n",
              "      <td>0.471548</td>\n",
              "      <td>-0.059792</td>\n",
              "      <td>0.738878</td>\n",
              "      <td>0.411966</td>\n",
              "      <td>-0.103471</td>\n",
              "      <td>0.682167</td>\n",
              "      <td>0.420989</td>\n",
              "      <td>-0.139112</td>\n",
              "      <td>0.639966</td>\n",
              "      <td>0.446352</td>\n",
              "      <td>-0.155034</td>\n",
              "      <td>0.783102</td>\n",
              "      <td>0.509549</td>\n",
              "      <td>-0.013305</td>\n",
              "      <td>0.703507</td>\n",
              "      <td>0.470197</td>\n",
              "      <td>-0.073678</td>\n",
              "      <td>0.663062</td>\n",
              "      <td>0.534278</td>\n",
              "      <td>-0.134101</td>\n",
              "      <td>0.635184</td>\n",
              "      <td>0.590695</td>\n",
              "      <td>-0.168920</td>\n",
              "      <td>0.753243</td>\n",
              "      <td>0.552782</td>\n",
              "      <td>0.023123</td>\n",
              "      <td>0.683966</td>\n",
              "      <td>0.563757</td>\n",
              "      <td>-0.054008</td>\n",
              "      <td>0.665996</td>\n",
              "      <td>0.650417</td>\n",
              "      <td>-0.105708</td>\n",
              "      <td>0.658083</td>\n",
              "      <td>0.712052</td>\n",
              "      <td>-0.124142</td>\n",
              "      <td>0</td>\n",
              "      <td>not_correct10.MP4_000002.243.jpg</td>\n",
              "      <td>0.905420</td>\n",
              "      <td>0.319156</td>\n",
              "    </tr>\n",
              "    <tr>\n",
              "      <th>1</th>\n",
              "      <td>0.811608</td>\n",
              "      <td>0.900154</td>\n",
              "      <td>0.000049</td>\n",
              "      <td>0.800232</td>\n",
              "      <td>0.803997</td>\n",
              "      <td>-0.128185</td>\n",
              "      <td>0.769821</td>\n",
              "      <td>0.692153</td>\n",
              "      <td>-0.163109</td>\n",
              "      <td>0.714997</td>\n",
              "      <td>0.601138</td>\n",
              "      <td>-0.173176</td>\n",
              "      <td>0.667249</td>\n",
              "      <td>0.523414</td>\n",
              "      <td>-0.179355</td>\n",
              "      <td>0.803990</td>\n",
              "      <td>0.504725</td>\n",
              "      <td>-0.065811</td>\n",
              "      <td>0.713653</td>\n",
              "      <td>0.483295</td>\n",
              "      <td>-0.111253</td>\n",
              "      <td>0.661599</td>\n",
              "      <td>0.532235</td>\n",
              "      <td>-0.147132</td>\n",
              "      <td>0.634616</td>\n",
              "      <td>0.574219</td>\n",
              "      <td>-0.165844</td>\n",
              "      <td>0.768074</td>\n",
              "      <td>0.530350</td>\n",
              "      <td>-0.011554</td>\n",
              "      <td>0.684327</td>\n",
              "      <td>0.507863</td>\n",
              "      <td>-0.067704</td>\n",
              "      <td>0.649618</td>\n",
              "      <td>0.593538</td>\n",
              "      <td>-0.111933</td>\n",
              "      <td>0.637922</td>\n",
              "      <td>0.656537</td>\n",
              "      <td>-0.130769</td>\n",
              "      <td>0.737973</td>\n",
              "      <td>0.567718</td>\n",
              "      <td>0.029811</td>\n",
              "      <td>0.662422</td>\n",
              "      <td>0.575084</td>\n",
              "      <td>-0.043147</td>\n",
              "      <td>0.639473</td>\n",
              "      <td>0.667215</td>\n",
              "      <td>-0.085680</td>\n",
              "      <td>0.635148</td>\n",
              "      <td>0.724634</td>\n",
              "      <td>-0.097661</td>\n",
              "      <td>0</td>\n",
              "      <td>not_correct10.MP4_000004.040.jpg</td>\n",
              "      <td>0.846204</td>\n",
              "      <td>0.247713</td>\n",
              "    </tr>\n",
              "    <tr>\n",
              "      <th>2</th>\n",
              "      <td>0.804972</td>\n",
              "      <td>0.898247</td>\n",
              "      <td>0.000036</td>\n",
              "      <td>0.795059</td>\n",
              "      <td>0.818508</td>\n",
              "      <td>-0.124139</td>\n",
              "      <td>0.766665</td>\n",
              "      <td>0.708822</td>\n",
              "      <td>-0.161453</td>\n",
              "      <td>0.715835</td>\n",
              "      <td>0.615361</td>\n",
              "      <td>-0.176281</td>\n",
              "      <td>0.669516</td>\n",
              "      <td>0.537159</td>\n",
              "      <td>-0.190632</td>\n",
              "      <td>0.802102</td>\n",
              "      <td>0.513931</td>\n",
              "      <td>-0.062936</td>\n",
              "      <td>0.719684</td>\n",
              "      <td>0.480097</td>\n",
              "      <td>-0.111553</td>\n",
              "      <td>0.665456</td>\n",
              "      <td>0.517717</td>\n",
              "      <td>-0.152546</td>\n",
              "      <td>0.630459</td>\n",
              "      <td>0.559995</td>\n",
              "      <td>-0.172420</td>\n",
              "      <td>0.769932</td>\n",
              "      <td>0.540662</td>\n",
              "      <td>-0.013439</td>\n",
              "      <td>0.687925</td>\n",
              "      <td>0.511267</td>\n",
              "      <td>-0.074293</td>\n",
              "      <td>0.648063</td>\n",
              "      <td>0.590128</td>\n",
              "      <td>-0.122476</td>\n",
              "      <td>0.627498</td>\n",
              "      <td>0.657720</td>\n",
              "      <td>-0.142231</td>\n",
              "      <td>0.739783</td>\n",
              "      <td>0.577900</td>\n",
              "      <td>0.023670</td>\n",
              "      <td>0.667724</td>\n",
              "      <td>0.580225</td>\n",
              "      <td>-0.050296</td>\n",
              "      <td>0.643426</td>\n",
              "      <td>0.669124</td>\n",
              "      <td>-0.086262</td>\n",
              "      <td>0.632836</td>\n",
              "      <td>0.729143</td>\n",
              "      <td>-0.093261</td>\n",
              "      <td>0</td>\n",
              "      <td>not_correct10.MP4_000004.240.jpg</td>\n",
              "      <td>0.847929</td>\n",
              "      <td>0.197722</td>\n",
              "    </tr>\n",
              "    <tr>\n",
              "      <th>3</th>\n",
              "      <td>0.810611</td>\n",
              "      <td>0.890062</td>\n",
              "      <td>0.000032</td>\n",
              "      <td>0.797697</td>\n",
              "      <td>0.811081</td>\n",
              "      <td>-0.132050</td>\n",
              "      <td>0.766151</td>\n",
              "      <td>0.704937</td>\n",
              "      <td>-0.172678</td>\n",
              "      <td>0.712006</td>\n",
              "      <td>0.602737</td>\n",
              "      <td>-0.188355</td>\n",
              "      <td>0.662580</td>\n",
              "      <td>0.521790</td>\n",
              "      <td>-0.203335</td>\n",
              "      <td>0.800948</td>\n",
              "      <td>0.506245</td>\n",
              "      <td>-0.075835</td>\n",
              "      <td>0.706428</td>\n",
              "      <td>0.475711</td>\n",
              "      <td>-0.123942</td>\n",
              "      <td>0.648628</td>\n",
              "      <td>0.529975</td>\n",
              "      <td>-0.159660</td>\n",
              "      <td>0.616530</td>\n",
              "      <td>0.582503</td>\n",
              "      <td>-0.175144</td>\n",
              "      <td>0.770626</td>\n",
              "      <td>0.526458</td>\n",
              "      <td>-0.020276</td>\n",
              "      <td>0.675969</td>\n",
              "      <td>0.510031</td>\n",
              "      <td>-0.075999</td>\n",
              "      <td>0.629624</td>\n",
              "      <td>0.605371</td>\n",
              "      <td>-0.124830</td>\n",
              "      <td>0.606849</td>\n",
              "      <td>0.681861</td>\n",
              "      <td>-0.145291</td>\n",
              "      <td>0.742881</td>\n",
              "      <td>0.562696</td>\n",
              "      <td>0.021927</td>\n",
              "      <td>0.659005</td>\n",
              "      <td>0.577648</td>\n",
              "      <td>-0.049330</td>\n",
              "      <td>0.623684</td>\n",
              "      <td>0.669649</td>\n",
              "      <td>-0.091005</td>\n",
              "      <td>0.604884</td>\n",
              "      <td>0.731458</td>\n",
              "      <td>-0.106125</td>\n",
              "      <td>0</td>\n",
              "      <td>not_correct10.MP4_000004.440.jpg</td>\n",
              "      <td>0.606794</td>\n",
              "      <td>0.240847</td>\n",
              "    </tr>\n",
              "    <tr>\n",
              "      <th>4</th>\n",
              "      <td>0.813915</td>\n",
              "      <td>0.895303</td>\n",
              "      <td>0.000028</td>\n",
              "      <td>0.799781</td>\n",
              "      <td>0.789586</td>\n",
              "      <td>-0.113865</td>\n",
              "      <td>0.765924</td>\n",
              "      <td>0.675086</td>\n",
              "      <td>-0.142654</td>\n",
              "      <td>0.708385</td>\n",
              "      <td>0.585417</td>\n",
              "      <td>-0.154692</td>\n",
              "      <td>0.655782</td>\n",
              "      <td>0.504408</td>\n",
              "      <td>-0.175345</td>\n",
              "      <td>0.784996</td>\n",
              "      <td>0.497014</td>\n",
              "      <td>-0.041157</td>\n",
              "      <td>0.704009</td>\n",
              "      <td>0.459128</td>\n",
              "      <td>-0.076921</td>\n",
              "      <td>0.649163</td>\n",
              "      <td>0.475977</td>\n",
              "      <td>-0.112614</td>\n",
              "      <td>0.611063</td>\n",
              "      <td>0.508673</td>\n",
              "      <td>-0.131428</td>\n",
              "      <td>0.751889</td>\n",
              "      <td>0.537486</td>\n",
              "      <td>0.007954</td>\n",
              "      <td>0.670158</td>\n",
              "      <td>0.521544</td>\n",
              "      <td>-0.035843</td>\n",
              "      <td>0.624126</td>\n",
              "      <td>0.579177</td>\n",
              "      <td>-0.092226</td>\n",
              "      <td>0.595052</td>\n",
              "      <td>0.639403</td>\n",
              "      <td>-0.118748</td>\n",
              "      <td>0.725035</td>\n",
              "      <td>0.583591</td>\n",
              "      <td>0.047228</td>\n",
              "      <td>0.650328</td>\n",
              "      <td>0.600061</td>\n",
              "      <td>-0.012425</td>\n",
              "      <td>0.626391</td>\n",
              "      <td>0.679714</td>\n",
              "      <td>-0.067126</td>\n",
              "      <td>0.612227</td>\n",
              "      <td>0.739808</td>\n",
              "      <td>-0.089580</td>\n",
              "      <td>0</td>\n",
              "      <td>not_correct10.MP4_000004.640.jpg</td>\n",
              "      <td>0.800791</td>\n",
              "      <td>0.165280</td>\n",
              "    </tr>\n",
              "    <tr>\n",
              "      <th>...</th>\n",
              "      <td>...</td>\n",
              "      <td>...</td>\n",
              "      <td>...</td>\n",
              "      <td>...</td>\n",
              "      <td>...</td>\n",
              "      <td>...</td>\n",
              "      <td>...</td>\n",
              "      <td>...</td>\n",
              "      <td>...</td>\n",
              "      <td>...</td>\n",
              "      <td>...</td>\n",
              "      <td>...</td>\n",
              "      <td>...</td>\n",
              "      <td>...</td>\n",
              "      <td>...</td>\n",
              "      <td>...</td>\n",
              "      <td>...</td>\n",
              "      <td>...</td>\n",
              "      <td>...</td>\n",
              "      <td>...</td>\n",
              "      <td>...</td>\n",
              "      <td>...</td>\n",
              "      <td>...</td>\n",
              "      <td>...</td>\n",
              "      <td>...</td>\n",
              "      <td>...</td>\n",
              "      <td>...</td>\n",
              "      <td>...</td>\n",
              "      <td>...</td>\n",
              "      <td>...</td>\n",
              "      <td>...</td>\n",
              "      <td>...</td>\n",
              "      <td>...</td>\n",
              "      <td>...</td>\n",
              "      <td>...</td>\n",
              "      <td>...</td>\n",
              "      <td>...</td>\n",
              "      <td>...</td>\n",
              "      <td>...</td>\n",
              "      <td>...</td>\n",
              "      <td>...</td>\n",
              "      <td>...</td>\n",
              "      <td>...</td>\n",
              "      <td>...</td>\n",
              "      <td>...</td>\n",
              "      <td>...</td>\n",
              "      <td>...</td>\n",
              "      <td>...</td>\n",
              "      <td>...</td>\n",
              "      <td>...</td>\n",
              "      <td>...</td>\n",
              "      <td>...</td>\n",
              "      <td>...</td>\n",
              "      <td>...</td>\n",
              "      <td>...</td>\n",
              "    </tr>\n",
              "    <tr>\n",
              "      <th>1183</th>\n",
              "      <td>0.845585</td>\n",
              "      <td>0.939924</td>\n",
              "      <td>-0.000010</td>\n",
              "      <td>0.834245</td>\n",
              "      <td>0.766973</td>\n",
              "      <td>-0.124223</td>\n",
              "      <td>0.783395</td>\n",
              "      <td>0.594559</td>\n",
              "      <td>-0.147035</td>\n",
              "      <td>0.706249</td>\n",
              "      <td>0.462637</td>\n",
              "      <td>-0.155887</td>\n",
              "      <td>0.648856</td>\n",
              "      <td>0.322473</td>\n",
              "      <td>-0.164343</td>\n",
              "      <td>0.806302</td>\n",
              "      <td>0.362722</td>\n",
              "      <td>0.003236</td>\n",
              "      <td>0.713503</td>\n",
              "      <td>0.248290</td>\n",
              "      <td>-0.044954</td>\n",
              "      <td>0.638528</td>\n",
              "      <td>0.283239</td>\n",
              "      <td>-0.116305</td>\n",
              "      <td>0.588820</td>\n",
              "      <td>0.372963</td>\n",
              "      <td>-0.166686</td>\n",
              "      <td>0.757798</td>\n",
              "      <td>0.432758</td>\n",
              "      <td>0.052386</td>\n",
              "      <td>0.657530</td>\n",
              "      <td>0.320263</td>\n",
              "      <td>0.000556</td>\n",
              "      <td>0.576895</td>\n",
              "      <td>0.375720</td>\n",
              "      <td>-0.103096</td>\n",
              "      <td>0.525801</td>\n",
              "      <td>0.457907</td>\n",
              "      <td>-0.176403</td>\n",
              "      <td>0.714370</td>\n",
              "      <td>0.510993</td>\n",
              "      <td>0.089071</td>\n",
              "      <td>0.619689</td>\n",
              "      <td>0.440084</td>\n",
              "      <td>0.016014</td>\n",
              "      <td>0.546414</td>\n",
              "      <td>0.505925</td>\n",
              "      <td>-0.101369</td>\n",
              "      <td>0.502023</td>\n",
              "      <td>0.586357</td>\n",
              "      <td>-0.173579</td>\n",
              "      <td>1</td>\n",
              "      <td>correct4.mp4_000005.383.jpg</td>\n",
              "      <td>1.230190</td>\n",
              "      <td>0.053147</td>\n",
              "    </tr>\n",
              "    <tr>\n",
              "      <th>1184</th>\n",
              "      <td>0.846682</td>\n",
              "      <td>0.942074</td>\n",
              "      <td>0.000018</td>\n",
              "      <td>0.841494</td>\n",
              "      <td>0.766714</td>\n",
              "      <td>-0.124047</td>\n",
              "      <td>0.789954</td>\n",
              "      <td>0.597155</td>\n",
              "      <td>-0.146498</td>\n",
              "      <td>0.710350</td>\n",
              "      <td>0.473680</td>\n",
              "      <td>-0.154309</td>\n",
              "      <td>0.650647</td>\n",
              "      <td>0.342139</td>\n",
              "      <td>-0.158929</td>\n",
              "      <td>0.806473</td>\n",
              "      <td>0.373347</td>\n",
              "      <td>-0.000659</td>\n",
              "      <td>0.721333</td>\n",
              "      <td>0.255809</td>\n",
              "      <td>-0.051297</td>\n",
              "      <td>0.648449</td>\n",
              "      <td>0.284207</td>\n",
              "      <td>-0.124670</td>\n",
              "      <td>0.599384</td>\n",
              "      <td>0.372669</td>\n",
              "      <td>-0.173639</td>\n",
              "      <td>0.751615</td>\n",
              "      <td>0.441638</td>\n",
              "      <td>0.046504</td>\n",
              "      <td>0.659921</td>\n",
              "      <td>0.317437</td>\n",
              "      <td>-0.003432</td>\n",
              "      <td>0.579589</td>\n",
              "      <td>0.357693</td>\n",
              "      <td>-0.105593</td>\n",
              "      <td>0.525711</td>\n",
              "      <td>0.433388</td>\n",
              "      <td>-0.177965</td>\n",
              "      <td>0.705788</td>\n",
              "      <td>0.521830</td>\n",
              "      <td>0.080786</td>\n",
              "      <td>0.614481</td>\n",
              "      <td>0.446506</td>\n",
              "      <td>0.011814</td>\n",
              "      <td>0.538532</td>\n",
              "      <td>0.503794</td>\n",
              "      <td>-0.110959</td>\n",
              "      <td>0.487695</td>\n",
              "      <td>0.579054</td>\n",
              "      <td>-0.190390</td>\n",
              "      <td>1</td>\n",
              "      <td>correct4.mp4_000005.450.jpg</td>\n",
              "      <td>1.580634</td>\n",
              "      <td>0.015383</td>\n",
              "    </tr>\n",
              "    <tr>\n",
              "      <th>1185</th>\n",
              "      <td>0.843230</td>\n",
              "      <td>0.931821</td>\n",
              "      <td>0.000009</td>\n",
              "      <td>0.838827</td>\n",
              "      <td>0.754905</td>\n",
              "      <td>-0.119154</td>\n",
              "      <td>0.788764</td>\n",
              "      <td>0.591904</td>\n",
              "      <td>-0.143966</td>\n",
              "      <td>0.711042</td>\n",
              "      <td>0.472652</td>\n",
              "      <td>-0.155143</td>\n",
              "      <td>0.651198</td>\n",
              "      <td>0.341076</td>\n",
              "      <td>-0.162021</td>\n",
              "      <td>0.797020</td>\n",
              "      <td>0.367190</td>\n",
              "      <td>-0.000366</td>\n",
              "      <td>0.716338</td>\n",
              "      <td>0.243136</td>\n",
              "      <td>-0.043323</td>\n",
              "      <td>0.649646</td>\n",
              "      <td>0.268233</td>\n",
              "      <td>-0.113448</td>\n",
              "      <td>0.608135</td>\n",
              "      <td>0.361810</td>\n",
              "      <td>-0.165378</td>\n",
              "      <td>0.743618</td>\n",
              "      <td>0.440844</td>\n",
              "      <td>0.044773</td>\n",
              "      <td>0.653271</td>\n",
              "      <td>0.315541</td>\n",
              "      <td>-0.003232</td>\n",
              "      <td>0.579524</td>\n",
              "      <td>0.356903</td>\n",
              "      <td>-0.102831</td>\n",
              "      <td>0.534618</td>\n",
              "      <td>0.441552</td>\n",
              "      <td>-0.176708</td>\n",
              "      <td>0.698404</td>\n",
              "      <td>0.523409</td>\n",
              "      <td>0.077914</td>\n",
              "      <td>0.611879</td>\n",
              "      <td>0.443980</td>\n",
              "      <td>0.013151</td>\n",
              "      <td>0.546160</td>\n",
              "      <td>0.501907</td>\n",
              "      <td>-0.103890</td>\n",
              "      <td>0.508448</td>\n",
              "      <td>0.585151</td>\n",
              "      <td>-0.180975</td>\n",
              "      <td>1</td>\n",
              "      <td>correct4.mp4_000005.517.jpg</td>\n",
              "      <td>1.339072</td>\n",
              "      <td>0.008756</td>\n",
              "    </tr>\n",
              "    <tr>\n",
              "      <th>1186</th>\n",
              "      <td>0.846199</td>\n",
              "      <td>0.936584</td>\n",
              "      <td>0.000021</td>\n",
              "      <td>0.844121</td>\n",
              "      <td>0.765941</td>\n",
              "      <td>-0.125628</td>\n",
              "      <td>0.792588</td>\n",
              "      <td>0.599986</td>\n",
              "      <td>-0.149340</td>\n",
              "      <td>0.711345</td>\n",
              "      <td>0.475229</td>\n",
              "      <td>-0.158008</td>\n",
              "      <td>0.650330</td>\n",
              "      <td>0.340259</td>\n",
              "      <td>-0.161237</td>\n",
              "      <td>0.800144</td>\n",
              "      <td>0.369197</td>\n",
              "      <td>-0.007623</td>\n",
              "      <td>0.718771</td>\n",
              "      <td>0.256875</td>\n",
              "      <td>-0.058639</td>\n",
              "      <td>0.650779</td>\n",
              "      <td>0.293357</td>\n",
              "      <td>-0.130334</td>\n",
              "      <td>0.607640</td>\n",
              "      <td>0.392408</td>\n",
              "      <td>-0.178969</td>\n",
              "      <td>0.744812</td>\n",
              "      <td>0.435372</td>\n",
              "      <td>0.041362</td>\n",
              "      <td>0.655486</td>\n",
              "      <td>0.312653</td>\n",
              "      <td>-0.013967</td>\n",
              "      <td>0.580767</td>\n",
              "      <td>0.361200</td>\n",
              "      <td>-0.112322</td>\n",
              "      <td>0.532839</td>\n",
              "      <td>0.448157</td>\n",
              "      <td>-0.183633</td>\n",
              "      <td>0.699213</td>\n",
              "      <td>0.515712</td>\n",
              "      <td>0.077237</td>\n",
              "      <td>0.611788</td>\n",
              "      <td>0.437458</td>\n",
              "      <td>0.000973</td>\n",
              "      <td>0.542228</td>\n",
              "      <td>0.499133</td>\n",
              "      <td>-0.120166</td>\n",
              "      <td>0.497742</td>\n",
              "      <td>0.584226</td>\n",
              "      <td>-0.198468</td>\n",
              "      <td>1</td>\n",
              "      <td>correct4.mp4_000005.583.jpg</td>\n",
              "      <td>1.512748</td>\n",
              "      <td>0.021204</td>\n",
              "    </tr>\n",
              "    <tr>\n",
              "      <th>1187</th>\n",
              "      <td>0.844087</td>\n",
              "      <td>0.922825</td>\n",
              "      <td>0.000058</td>\n",
              "      <td>0.844435</td>\n",
              "      <td>0.759794</td>\n",
              "      <td>-0.127801</td>\n",
              "      <td>0.795600</td>\n",
              "      <td>0.595571</td>\n",
              "      <td>-0.156887</td>\n",
              "      <td>0.711384</td>\n",
              "      <td>0.472286</td>\n",
              "      <td>-0.170927</td>\n",
              "      <td>0.649213</td>\n",
              "      <td>0.340585</td>\n",
              "      <td>-0.183231</td>\n",
              "      <td>0.803461</td>\n",
              "      <td>0.357289</td>\n",
              "      <td>-0.012722</td>\n",
              "      <td>0.718500</td>\n",
              "      <td>0.248161</td>\n",
              "      <td>-0.069848</td>\n",
              "      <td>0.648306</td>\n",
              "      <td>0.293798</td>\n",
              "      <td>-0.140607</td>\n",
              "      <td>0.605573</td>\n",
              "      <td>0.394150</td>\n",
              "      <td>-0.186779</td>\n",
              "      <td>0.746988</td>\n",
              "      <td>0.421694</td>\n",
              "      <td>0.035764</td>\n",
              "      <td>0.654486</td>\n",
              "      <td>0.305573</td>\n",
              "      <td>-0.027716</td>\n",
              "      <td>0.579148</td>\n",
              "      <td>0.369491</td>\n",
              "      <td>-0.124700</td>\n",
              "      <td>0.533926</td>\n",
              "      <td>0.461764</td>\n",
              "      <td>-0.190056</td>\n",
              "      <td>0.701110</td>\n",
              "      <td>0.502211</td>\n",
              "      <td>0.071558</td>\n",
              "      <td>0.612512</td>\n",
              "      <td>0.435215</td>\n",
              "      <td>-0.011303</td>\n",
              "      <td>0.544112</td>\n",
              "      <td>0.507558</td>\n",
              "      <td>-0.128306</td>\n",
              "      <td>0.502788</td>\n",
              "      <td>0.594825</td>\n",
              "      <td>-0.198400</td>\n",
              "      <td>1</td>\n",
              "      <td>correct4.mp4_000005.650.jpg</td>\n",
              "      <td>1.388997</td>\n",
              "      <td>0.003069</td>\n",
              "    </tr>\n",
              "  </tbody>\n",
              "</table>\n",
              "<p>1188 rows × 55 columns</p>\n",
              "</div>"
            ],
            "text/plain": [
              "           x_0       y_0  ...   d_ratio  약중, 중검 sin차\n",
              "0     0.813085  0.846067  ...  0.905420     0.319156\n",
              "1     0.811608  0.900154  ...  0.846204     0.247713\n",
              "2     0.804972  0.898247  ...  0.847929     0.197722\n",
              "3     0.810611  0.890062  ...  0.606794     0.240847\n",
              "4     0.813915  0.895303  ...  0.800791     0.165280\n",
              "...        ...       ...  ...       ...          ...\n",
              "1183  0.845585  0.939924  ...  1.230190     0.053147\n",
              "1184  0.846682  0.942074  ...  1.580634     0.015383\n",
              "1185  0.843230  0.931821  ...  1.339072     0.008756\n",
              "1186  0.846199  0.936584  ...  1.512748     0.021204\n",
              "1187  0.844087  0.922825  ...  1.388997     0.003069\n",
              "\n",
              "[1188 rows x 55 columns]"
            ]
          },
          "metadata": {
            "tags": []
          },
          "execution_count": 9
        }
      ]
    },
    {
      "cell_type": "code",
      "metadata": {
        "id": "ENLl8y05kXs_"
      },
      "source": [
        "#data.drop(['x_0','y_0','z_0','x_1','y_1','z_1','x_2','y_2','z_2','x_5','y_5','z_5','x_9','y_9','z_9','x_13','y_13','z_13'],axis=1, inplace=True)"
      ],
      "execution_count": 10,
      "outputs": []
    },
    {
      "cell_type": "code",
      "metadata": {
        "id": "t4I8HIRgm44-"
      },
      "source": [
        "#data.drop(['z_0','z_1','z_2','z_3','z_4','z_5','z_6','z_7','z_8','z_9','z_10','z_11','z_12','x_13','z_14','z_15','z_16'],axis=1, inplace=True)"
      ],
      "execution_count": 11,
      "outputs": []
    },
    {
      "cell_type": "code",
      "metadata": {
        "id": "rHMNOdH-fAEh"
      },
      "source": [
        "vector0= data[data['y']==0]"
      ],
      "execution_count": 12,
      "outputs": []
    },
    {
      "cell_type": "code",
      "metadata": {
        "colab": {
          "base_uri": "https://localhost:8080/"
        },
        "id": "u_KGwC8Dl7Ej",
        "outputId": "437720f1-a55b-4b27-88c2-59d671530028"
      },
      "source": [
        "len(vector0)"
      ],
      "execution_count": 13,
      "outputs": [
        {
          "output_type": "execute_result",
          "data": {
            "text/plain": [
              "458"
            ]
          },
          "metadata": {
            "tags": []
          },
          "execution_count": 13
        }
      ]
    },
    {
      "cell_type": "code",
      "metadata": {
        "id": "4G3V0yeiH0bO",
        "colab": {
          "base_uri": "https://localhost:8080/"
        },
        "outputId": "1622b841-b485-42e1-89b4-ee2f6dce170d"
      },
      "source": [
        "vector0.drop(['y','image'], axis=1, inplace=True)"
      ],
      "execution_count": 14,
      "outputs": [
        {
          "output_type": "stream",
          "text": [
            "/usr/local/lib/python3.7/dist-packages/pandas/core/frame.py:4174: SettingWithCopyWarning: \n",
            "A value is trying to be set on a copy of a slice from a DataFrame\n",
            "\n",
            "See the caveats in the documentation: https://pandas.pydata.org/pandas-docs/stable/user_guide/indexing.html#returning-a-view-versus-a-copy\n",
            "  errors=errors,\n"
          ],
          "name": "stderr"
        }
      ]
    },
    {
      "cell_type": "markdown",
      "metadata": {
        "id": "GeSdtZfjZtor"
      },
      "source": [
        "정규화"
      ]
    },
    {
      "cell_type": "code",
      "metadata": {
        "id": "dObhAbMEZtJU"
      },
      "source": [
        "#RobustScaler: outlier 많은 경우 -> boxplot 보고 결정\n",
        "#StandardScaler: 거리 기반 알고리즘\n",
        "#MinMaxScaler: gradient descent 알고리즘"
      ],
      "execution_count": 15,
      "outputs": []
    },
    {
      "cell_type": "code",
      "metadata": {
        "id": "HyKwdJNkOwUD"
      },
      "source": [
        "from sklearn.preprocessing import MinMaxScaler\n",
        "from sklearn.preprocessing import RobustScaler\n",
        "from sklearn.preprocessing import StandardScaler\n",
        "#scaler = MinMaxScaler()\n",
        "#scaler = StandardScaler()\n",
        "scaler = RobustScaler()\n",
        "vector0_=scaler.fit_transform(vector0)"
      ],
      "execution_count": 16,
      "outputs": []
    },
    {
      "cell_type": "code",
      "metadata": {
        "colab": {
          "base_uri": "https://localhost:8080/"
        },
        "id": "jVuS-C3mQ1TA",
        "outputId": "5cc1bc50-0df3-49af-ff0b-bb49b31a3ac0"
      },
      "source": [
        "vector0_"
      ],
      "execution_count": 17,
      "outputs": [
        {
          "output_type": "execute_result",
          "data": {
            "text/plain": [
              "array([[ 0.10856317,  0.49403856, -0.87295115, ..., -1.43811681,\n",
              "         0.05021796,  0.46990976],\n",
              "       [ 0.09869244,  0.9746825 ,  1.10199132, ..., -1.06868135,\n",
              "        -0.06266647,  0.14472333],\n",
              "       [ 0.05432651,  0.95773955,  0.84877742, ..., -1.0073006 ,\n",
              "        -0.05937835, -0.08281795],\n",
              "       ...,\n",
              "       [-0.95297603,  0.85406321,  1.40200671, ..., -0.53240204,\n",
              "         0.73373984,  0.39554853],\n",
              "       [-0.94285547,  0.58052246, -1.46554541, ...,  0.14219588,\n",
              "        -0.16345561, -0.85056605],\n",
              "       [-0.88033389,  0.64940767, -1.02507076, ..., -0.0229794 ,\n",
              "         0.81690844, -0.94403109]])"
            ]
          },
          "metadata": {
            "tags": []
          },
          "execution_count": 17
        }
      ]
    },
    {
      "cell_type": "markdown",
      "metadata": {
        "id": "ah-O_j4-IQid"
      },
      "source": [
        "##올바른"
      ]
    },
    {
      "cell_type": "code",
      "metadata": {
        "id": "B8VIJreM5IyC"
      },
      "source": [
        "vector1= data[data['y']==1]"
      ],
      "execution_count": 18,
      "outputs": []
    },
    {
      "cell_type": "code",
      "metadata": {
        "colab": {
          "base_uri": "https://localhost:8080/"
        },
        "id": "YOYzgoUFPk5I",
        "outputId": "af22b2f5-bdb6-4e1f-f73a-3d1870e45778"
      },
      "source": [
        "vector1.drop(['y','image'], axis=1, inplace=True)"
      ],
      "execution_count": 19,
      "outputs": [
        {
          "output_type": "stream",
          "text": [
            "/usr/local/lib/python3.7/dist-packages/pandas/core/frame.py:4174: SettingWithCopyWarning: \n",
            "A value is trying to be set on a copy of a slice from a DataFrame\n",
            "\n",
            "See the caveats in the documentation: https://pandas.pydata.org/pandas-docs/stable/user_guide/indexing.html#returning-a-view-versus-a-copy\n",
            "  errors=errors,\n"
          ],
          "name": "stderr"
        }
      ]
    },
    {
      "cell_type": "code",
      "metadata": {
        "id": "xnxORBPfQCZw"
      },
      "source": [
        "#scaler = MinMaxScaler()\n",
        "#scaler = StandardScaler()\n",
        "scaler = RobustScaler()\n",
        "vector1_=scaler.fit_transform(vector1)"
      ],
      "execution_count": 20,
      "outputs": []
    },
    {
      "cell_type": "code",
      "metadata": {
        "colab": {
          "base_uri": "https://localhost:8080/"
        },
        "id": "r05vtzUd4D1A",
        "outputId": "e22a9eb4-e6b3-457f-deda-923f0bf352ee"
      },
      "source": [
        "vector1_"
      ],
      "execution_count": 21,
      "outputs": [
        {
          "output_type": "execute_result",
          "data": {
            "text/plain": [
              "array([[ 0.12584687, -0.7160803 , -0.63468727, ..., -0.23526876,\n",
              "         2.18615481,  1.21865171],\n",
              "       [ 0.18390533, -0.71363211, -0.56514514, ...,  0.12647374,\n",
              "         0.15735845, -0.53257018],\n",
              "       [ 0.21766393, -0.88087196, -0.54208624, ..., -0.15877544,\n",
              "         0.89695193,  0.18785666],\n",
              "       ...,\n",
              "       [ 0.47045663,  0.83326738,  0.24258049, ..., -0.87157749,\n",
              "         0.60104758, -0.6340985 ],\n",
              "       [ 0.49557418,  0.86219595,  0.4079727 , ..., -1.02158136,\n",
              "         0.87727336, -0.57775202],\n",
              "       [ 0.47770884,  0.77862453,  0.91920991, ..., -1.02100405,\n",
              "         0.68045126, -0.65984476]])"
            ]
          },
          "metadata": {
            "tags": []
          },
          "execution_count": 21
        }
      ]
    },
    {
      "cell_type": "markdown",
      "metadata": {
        "id": "D5k00gMhMQGg"
      },
      "source": [
        "#LSTM"
      ]
    },
    {
      "cell_type": "markdown",
      "metadata": {
        "id": "lB_OB93YQYlY"
      },
      "source": [
        "데이터셋 분리"
      ]
    },
    {
      "cell_type": "code",
      "metadata": {
        "id": "Cn-0bNe9NMFR"
      },
      "source": [
        "from sklearn.model_selection import train_test_split"
      ],
      "execution_count": 22,
      "outputs": []
    },
    {
      "cell_type": "code",
      "metadata": {
        "colab": {
          "base_uri": "https://localhost:8080/"
        },
        "id": "ug8L2cgGNk2h",
        "outputId": "4a6b44d8-9dfc-4490-e903-c9772e320283"
      },
      "source": [
        "vector0 = np.array(vector0_)\n",
        "vector1 = np.array(vector1_)\n",
        "len(vector0), len(vector1)\n",
        "vector0.shape, vector1.shape"
      ],
      "execution_count": 23,
      "outputs": [
        {
          "output_type": "execute_result",
          "data": {
            "text/plain": [
              "((458, 53), (730, 53))"
            ]
          },
          "metadata": {
            "tags": []
          },
          "execution_count": 23
        }
      ]
    },
    {
      "cell_type": "code",
      "metadata": {
        "id": "S8aqMMCNiRuN"
      },
      "source": [
        "#수정필요,,,?\n",
        "\n",
        "x0_train = vector0[:int(0.7*len(vector0))]\n",
        "x0_test = vector0[int(0.7*len(vector0)):]"
      ],
      "execution_count": 24,
      "outputs": []
    },
    {
      "cell_type": "code",
      "metadata": {
        "colab": {
          "base_uri": "https://localhost:8080/"
        },
        "id": "F0SzKurVGjl0",
        "outputId": "686f5d93-d744-4fee-a685-7ac8e58f4e10"
      },
      "source": [
        "x0_train.shape, x0_test.shape"
      ],
      "execution_count": 25,
      "outputs": [
        {
          "output_type": "execute_result",
          "data": {
            "text/plain": [
              "((320, 53), (138, 53))"
            ]
          },
          "metadata": {
            "tags": []
          },
          "execution_count": 25
        }
      ]
    },
    {
      "cell_type": "code",
      "metadata": {
        "id": "_dYhvL6SjcSl"
      },
      "source": [
        "x1_train = vector1[:int(0.7*len(vector1))]\n",
        "x1_test = vector1[int(0.7*len(vector1)):]"
      ],
      "execution_count": 26,
      "outputs": []
    },
    {
      "cell_type": "code",
      "metadata": {
        "colab": {
          "base_uri": "https://localhost:8080/"
        },
        "id": "TjgKrExTkXgL",
        "outputId": "97b47ede-8c43-444b-e20f-dc4c64739a48"
      },
      "source": [
        "x1_train.shape, x1_test.shape"
      ],
      "execution_count": 27,
      "outputs": [
        {
          "output_type": "execute_result",
          "data": {
            "text/plain": [
              "((510, 53), (220, 53))"
            ]
          },
          "metadata": {
            "tags": []
          },
          "execution_count": 27
        }
      ]
    },
    {
      "cell_type": "markdown",
      "metadata": {
        "id": "xB_XwtxjXOvI"
      },
      "source": [
        "비정상 :1, 정상: 0"
      ]
    },
    {
      "cell_type": "code",
      "metadata": {
        "id": "JxTx9e42PxEg"
      },
      "source": [
        "x0_test_tot = np.hstack((x0_test, np.ones(x0_test.shape[0]).reshape(-1,1)))\n",
        "x1_test_tot = np.hstack((x1_test, np.zeros(x1_test.shape[0]).reshape(-1,1)))\n",
        "test_tot = np.vstack((x0_test_tot, x1_test_tot))"
      ],
      "execution_count": 28,
      "outputs": []
    },
    {
      "cell_type": "code",
      "metadata": {
        "id": "xAyNVgrgOOj1"
      },
      "source": [
        "x_test, x_valid, y_test, y_valid = train_test_split(test_tot[:,:-1], test_tot[:,-1], test_size=0.3)"
      ],
      "execution_count": 29,
      "outputs": []
    },
    {
      "cell_type": "code",
      "metadata": {
        "colab": {
          "base_uri": "https://localhost:8080/"
        },
        "id": "etQFpobdQGh0",
        "outputId": "73fa46b0-6182-4b15-b804-516f3f27ab2f"
      },
      "source": [
        "print(x_test.shape, x_valid.shape, y_test.shape)"
      ],
      "execution_count": 30,
      "outputs": [
        {
          "output_type": "stream",
          "text": [
            "(250, 53) (108, 53) (250,)\n"
          ],
          "name": "stdout"
        }
      ]
    },
    {
      "cell_type": "markdown",
      "metadata": {
        "id": "iP7G2ffBQaea"
      },
      "source": [
        "데이터 차원 변경"
      ]
    },
    {
      "cell_type": "code",
      "metadata": {
        "id": "fPV6Vc3IQIns"
      },
      "source": [
        "x1_train =x1_train.reshape(x1_train.shape[0],1,x1_train.shape[1])\n",
        "x_test =x_test.reshape(x_test.shape[0],1,x_test.shape[1])\n",
        "x_valid =x_valid.reshape(x_valid.shape[0],1,x_valid.shape[1])"
      ],
      "execution_count": 31,
      "outputs": []
    },
    {
      "cell_type": "code",
      "metadata": {
        "colab": {
          "base_uri": "https://localhost:8080/"
        },
        "id": "t-QotlneSM6_",
        "outputId": "e8686406-08c5-4c81-a1d5-944312278d2f"
      },
      "source": [
        "print(x1_train.shape,x_test.shape,x_valid.shape)"
      ],
      "execution_count": 32,
      "outputs": [
        {
          "output_type": "stream",
          "text": [
            "(510, 1, 53) (250, 1, 53) (108, 1, 53)\n"
          ],
          "name": "stdout"
        }
      ]
    },
    {
      "cell_type": "markdown",
      "metadata": {
        "id": "UL2x2mmvSKPK"
      },
      "source": [
        "신경망 구축"
      ]
    },
    {
      "cell_type": "code",
      "metadata": {
        "id": "nw6Jl0FrSsZA"
      },
      "source": [
        "from keras import regularizers\n",
        "from keras.models import Model\n",
        "from keras.callbacks import EarlyStopping\n",
        "from keras.layers import Input, Dropout, Dense, LSTM, TimeDistributed, RepeatVector"
      ],
      "execution_count": 33,
      "outputs": []
    },
    {
      "cell_type": "code",
      "metadata": {
        "id": "02slthVOQldb"
      },
      "source": [
        "def autoencoder_model(X):\n",
        "    inputs = Input(shape=(X.shape[1], X.shape[2]))\n",
        "    # return_sequences 가 True면 각 time_steps의 셀이 모두 출력으로 내보냄 , False 면 최종 셀만 출력으로 내보냄\n",
        "    L1 = LSTM(32, activation='relu', return_sequences=True, \n",
        "              kernel_regularizer=regularizers.l2(0.00))(inputs)\n",
        "    L2 = LSTM(16, activation='relu', return_sequences=False)(L1)\n",
        "    L3 = RepeatVector(X.shape[1])(L2)\n",
        "    L4 = LSTM(16, activation='relu', return_sequences=True)(L3)\n",
        "    L5 = LSTM(32, activation='relu', return_sequences=True)(L4)\n",
        "    output = TimeDistributed(Dense(X.shape[2]))(L5)    \n",
        "    model = Model(inputs=inputs, outputs=output)\n",
        "    return model"
      ],
      "execution_count": 34,
      "outputs": []
    },
    {
      "cell_type": "code",
      "metadata": {
        "colab": {
          "base_uri": "https://localhost:8080/"
        },
        "id": "8OWO0n9iTqaG",
        "outputId": "6f6190ac-ffc6-4d14-83c9-4a1d5b6131aa"
      },
      "source": [
        "model = autoencoder_model(x1_train)\n",
        "model.compile(optimizer='adam',loss='mse')\n",
        "model.summary()"
      ],
      "execution_count": 35,
      "outputs": [
        {
          "output_type": "stream",
          "text": [
            "WARNING:tensorflow:Layer lstm will not use cuDNN kernels since it doesn't meet the criteria. It will use a generic GPU kernel as fallback when running on GPU.\n",
            "WARNING:tensorflow:Layer lstm_1 will not use cuDNN kernels since it doesn't meet the criteria. It will use a generic GPU kernel as fallback when running on GPU.\n",
            "WARNING:tensorflow:Layer lstm_2 will not use cuDNN kernels since it doesn't meet the criteria. It will use a generic GPU kernel as fallback when running on GPU.\n",
            "WARNING:tensorflow:Layer lstm_3 will not use cuDNN kernels since it doesn't meet the criteria. It will use a generic GPU kernel as fallback when running on GPU.\n",
            "Model: \"model\"\n",
            "_________________________________________________________________\n",
            "Layer (type)                 Output Shape              Param #   \n",
            "=================================================================\n",
            "input_1 (InputLayer)         [(None, 1, 53)]           0         \n",
            "_________________________________________________________________\n",
            "lstm (LSTM)                  (None, 1, 32)             11008     \n",
            "_________________________________________________________________\n",
            "lstm_1 (LSTM)                (None, 16)                3136      \n",
            "_________________________________________________________________\n",
            "repeat_vector (RepeatVector) (None, 1, 16)             0         \n",
            "_________________________________________________________________\n",
            "lstm_2 (LSTM)                (None, 1, 16)             2112      \n",
            "_________________________________________________________________\n",
            "lstm_3 (LSTM)                (None, 1, 32)             6272      \n",
            "_________________________________________________________________\n",
            "time_distributed (TimeDistri (None, 1, 53)             1749      \n",
            "=================================================================\n",
            "Total params: 24,277\n",
            "Trainable params: 24,277\n",
            "Non-trainable params: 0\n",
            "_________________________________________________________________\n"
          ],
          "name": "stdout"
        }
      ]
    },
    {
      "cell_type": "code",
      "metadata": {
        "id": "mWSIYzNlT17o",
        "colab": {
          "base_uri": "https://localhost:8080/"
        },
        "outputId": "dcd3562f-e561-490c-e23b-70160b65b74d"
      },
      "source": [
        "model = autoencoder_model(x1_train)\n",
        "model.compile(optimizer='adam',loss='mse')"
      ],
      "execution_count": 36,
      "outputs": [
        {
          "output_type": "stream",
          "text": [
            "WARNING:tensorflow:Layer lstm_4 will not use cuDNN kernels since it doesn't meet the criteria. It will use a generic GPU kernel as fallback when running on GPU.\n",
            "WARNING:tensorflow:Layer lstm_5 will not use cuDNN kernels since it doesn't meet the criteria. It will use a generic GPU kernel as fallback when running on GPU.\n",
            "WARNING:tensorflow:Layer lstm_6 will not use cuDNN kernels since it doesn't meet the criteria. It will use a generic GPU kernel as fallback when running on GPU.\n",
            "WARNING:tensorflow:Layer lstm_7 will not use cuDNN kernels since it doesn't meet the criteria. It will use a generic GPU kernel as fallback when running on GPU.\n"
          ],
          "name": "stdout"
        }
      ]
    },
    {
      "cell_type": "code",
      "metadata": {
        "colab": {
          "base_uri": "https://localhost:8080/"
        },
        "id": "53lZUq7MUSiP",
        "outputId": "f01a39ea-769a-4308-d217-7fd59b963422"
      },
      "source": [
        "epochs=25\n",
        "batch_size=5\n",
        "callbacks=[EarlyStopping(monitor='val_loss',patience=5)]\n",
        "\n",
        "history = model.fit(x1_train, x1_train, epochs=epochs, batch_size= batch_size,callbacks = callbacks, validation_split=0.05).history"
      ],
      "execution_count": 37,
      "outputs": [
        {
          "output_type": "stream",
          "text": [
            "Epoch 1/25\n",
            "97/97 [==============================] - 6s 18ms/step - loss: 0.4799 - val_loss: 0.4246\n",
            "Epoch 2/25\n",
            "97/97 [==============================] - 1s 13ms/step - loss: 0.3169 - val_loss: 0.1121\n",
            "Epoch 3/25\n",
            "97/97 [==============================] - 1s 12ms/step - loss: 0.1892 - val_loss: 0.0612\n",
            "Epoch 4/25\n",
            "97/97 [==============================] - 1s 12ms/step - loss: 0.1200 - val_loss: 0.0417\n",
            "Epoch 5/25\n",
            "97/97 [==============================] - 1s 12ms/step - loss: 0.0975 - val_loss: 0.0351\n",
            "Epoch 6/25\n",
            "97/97 [==============================] - 1s 13ms/step - loss: 0.0878 - val_loss: 0.0319\n",
            "Epoch 7/25\n",
            "97/97 [==============================] - 1s 13ms/step - loss: 0.0817 - val_loss: 0.0283\n",
            "Epoch 8/25\n",
            "97/97 [==============================] - 1s 13ms/step - loss: 0.0774 - val_loss: 0.0277\n",
            "Epoch 9/25\n",
            "97/97 [==============================] - 1s 13ms/step - loss: 0.0724 - val_loss: 0.0280\n",
            "Epoch 10/25\n",
            "97/97 [==============================] - 1s 13ms/step - loss: 0.0665 - val_loss: 0.0269\n",
            "Epoch 11/25\n",
            "97/97 [==============================] - 1s 12ms/step - loss: 0.0626 - val_loss: 0.0268\n",
            "Epoch 12/25\n",
            "97/97 [==============================] - 1s 12ms/step - loss: 0.0589 - val_loss: 0.0265\n",
            "Epoch 13/25\n",
            "97/97 [==============================] - 1s 13ms/step - loss: 0.0535 - val_loss: 0.0256\n",
            "Epoch 14/25\n",
            "97/97 [==============================] - 1s 12ms/step - loss: 0.0519 - val_loss: 0.0255\n",
            "Epoch 15/25\n",
            "97/97 [==============================] - 1s 13ms/step - loss: 0.0491 - val_loss: 0.0248\n",
            "Epoch 16/25\n",
            "97/97 [==============================] - 1s 13ms/step - loss: 0.0476 - val_loss: 0.0232\n",
            "Epoch 17/25\n",
            "97/97 [==============================] - 1s 12ms/step - loss: 0.0455 - val_loss: 0.0228\n",
            "Epoch 18/25\n",
            "97/97 [==============================] - 1s 13ms/step - loss: 0.0426 - val_loss: 0.0239\n",
            "Epoch 19/25\n",
            "97/97 [==============================] - 1s 12ms/step - loss: 0.0414 - val_loss: 0.0216\n",
            "Epoch 20/25\n",
            "97/97 [==============================] - 1s 12ms/step - loss: 0.0389 - val_loss: 0.0192\n",
            "Epoch 21/25\n",
            "97/97 [==============================] - 1s 13ms/step - loss: 0.0372 - val_loss: 0.0210\n",
            "Epoch 22/25\n",
            "97/97 [==============================] - 1s 13ms/step - loss: 0.0357 - val_loss: 0.0235\n",
            "Epoch 23/25\n",
            "97/97 [==============================] - 1s 12ms/step - loss: 0.0345 - val_loss: 0.0218\n",
            "Epoch 24/25\n",
            "97/97 [==============================] - 1s 13ms/step - loss: 0.0328 - val_loss: 0.0194\n",
            "Epoch 25/25\n",
            "97/97 [==============================] - 1s 12ms/step - loss: 0.0316 - val_loss: 0.0206\n"
          ],
          "name": "stdout"
        }
      ]
    },
    {
      "cell_type": "code",
      "metadata": {
        "id": "TLOZT9UjlDnL"
      },
      "source": [
        "import seaborn as sns\n",
        "sns.set(color_codes=True)\n",
        "import matplotlib.pyplot as plt\n",
        "%matplotlib inline"
      ],
      "execution_count": 38,
      "outputs": []
    },
    {
      "cell_type": "code",
      "metadata": {
        "id": "YoLeVXMyUrFd",
        "colab": {
          "base_uri": "https://localhost:8080/",
          "height": 457
        },
        "outputId": "645509fc-d984-4110-d008-6537789066ed"
      },
      "source": [
        "# 학습 손실 시각화\n",
        "fig, ax = plt.subplots(figsize=(14, 6), dpi=80)\n",
        "ax.plot(history['val_loss'], 'b', label='Train', linewidth=2)\n",
        "ax.plot(history['loss'], 'r', label='Validation', linewidth=2)\n",
        "ax.set_title('Model loss', fontsize=16)\n",
        "ax.set_ylabel('Loss (mae)')\n",
        "ax.set_xlabel('Epoch')\n",
        "ax.legend(loc='upper right')\n",
        "plt.show()"
      ],
      "execution_count": 39,
      "outputs": [
        {
          "output_type": "display_data",
          "data": {
            "image/png": "[encoded data removed]",
            "text/plain": [
              "<Figure size 1120x480 with 1 Axes>"
            ]
          },
          "metadata": {
            "tags": [],
            "needs_background": "light"
          }
        }
      ]
    },
    {
      "cell_type": "code",
      "metadata": {
        "id": "1Qn-f0L2oOW7"
      },
      "source": [
        "from sklearn import metrics"
      ],
      "execution_count": 40,
      "outputs": []
    },
    {
      "cell_type": "code",
      "metadata": {
        "colab": {
          "base_uri": "https://localhost:8080/",
          "height": 375
        },
        "id": "JmEimWqZmooQ",
        "outputId": "1e517cff-878c-49ea-98c7-da93b96f30d7"
      },
      "source": [
        "#검증 데이터 입력\n",
        "predictions_3d = model.predict(x_valid)\n",
        "predictions = predictions_3d.reshape(predictions_3d.shape[0], predictions_3d.shape[2])\n",
        "x_valid_ = x_valid.reshape(x_valid.shape[0], x_valid.shape[2])\n",
        "\n",
        "#재구성 손실 값 도출\n",
        "mse = np.mean(np.power(x_valid_ - predictions, 2), axis = 1)\n",
        "\n",
        "error_df = pd.DataFrame({'Reconstruction_error':mse, 'True_class': y_valid})\n",
        "\n",
        "precision_rt, recall_rt, threshold_rt = metrics.precision_recall_curve(error_df['True_class'], error_df['Reconstruction_error'])\n",
        "\n",
        "#모델 최적의 threshold 값 찾기\n",
        "best_cnt_dic = abs(precision_rt - recall_rt)\n",
        "threshold_fixed = threshold_rt[np.argmin(best_cnt_dic)]\n",
        "print('precision: ', precision_rt[np.argmin(best_cnt_dic)], ', recall: ', recall_rt[np.argmin(best_cnt_dic)])\n",
        "print('threshold: ', threshold_fixed)\n",
        "\n",
        "plt.figure(figsize=(8,5))\n",
        "plt.plot(threshold_rt, precision_rt[1:], label = 'Precision')\n",
        "plt.plot(threshold_rt, recall_rt[1:], label = 'Recall')\n",
        "plt.xlabel('Threshold'); plt.ylabel('Precision/Recall')\n",
        "plt.legend()\n",
        "plt.show()"
      ],
      "execution_count": 41,
      "outputs": [
        {
          "output_type": "stream",
          "text": [
            "precision:  0.6888888888888889 , recall:  0.6888888888888889\n",
            "threshold:  0.2264170625640536\n"
          ],
          "name": "stdout"
        },
        {
          "output_type": "display_data",
          "data": {
            "image/png": "[encoded data removed]",
            "text/plain": [
              "<Figure size 576x360 with 1 Axes>"
            ]
          },
          "metadata": {
            "tags": [],
            "needs_background": "light"
          }
        }
      ]
    },
    {
      "cell_type": "markdown",
      "metadata": {
        "id": "y2QJ4zymsDAh"
      },
      "source": [
        "모델 성능 평가"
      ]
    },
    {
      "cell_type": "code",
      "metadata": {
        "colab": {
          "base_uri": "https://localhost:8080/",
          "height": 301
        },
        "id": "7gZIkGTspJc6",
        "outputId": "206bf973-ca3c-4d3f-89de-51baafd42a83"
      },
      "source": [
        "from sklearn.metrics import roc_curve, auc\n",
        "\n",
        "fpr, tpr, thresholds = roc_curve(y_valid, mse)\n",
        "roc_auc = auc(fpr, tpr)\n",
        "\n",
        "plt.title('Receiver Operating Characteristic')\n",
        "plt.plot(fpr, tpr, label = 'AUC = %0.4f' % roc_auc, linewidth=5)\n",
        "plt.legend(loc = 'lower right')\n",
        "plt.plot([0,1], [0,1],'r--')\n",
        "plt.xlim([-0.001,1])\n",
        "plt.ylim([0,1.001])\n",
        "plt.ylabel('True positive rate')\n",
        "plt.xlabel('False positive rate')\n",
        "plt.show()"
      ],
      "execution_count": 42,
      "outputs": [
        {
          "output_type": "display_data",
          "data": {
            "image/png": "[encoded data removed]",
            "text/plain": [
              "<Figure size 432x288 with 1 Axes>"
            ]
          },
          "metadata": {
            "tags": [],
            "needs_background": "light"
          }
        }
      ]
    },
    {
      "cell_type": "code",
      "metadata": {
        "colab": {
          "base_uri": "https://localhost:8080/",
          "height": 319
        },
        "id": "Tjw-esXllJxA",
        "outputId": "56927e0a-cbcd-4269-cb29-b67c3fbcfc48"
      },
      "source": [
        "test_predictions_3d = model.predict(x_test)\n",
        "test_predictions = test_predictions_3d.reshape(test_predictions_3d.shape[0], test_predictions_3d.shape[2])\n",
        "x_test_ = x_test.reshape(x_test.shape[0], x_test.shape[2])\n",
        "mse = np.mean(np.power(x_test_ - test_predictions, 2), axis=1)\n",
        "\n",
        "error_df = pd.DataFrame({'Reconstruction_error': mse, 'True_class': y_test})\n",
        "\n",
        "pred_y = [1 if e > threshold_fixed else 0 for e in error_df['Reconstruction_error'].values]\n",
        "conf_matrix = metrics.confusion_matrix(error_df['True_class'], pred_y)\n",
        "\n",
        "accuracy = (conf_matrix[0][0]+ conf_matrix[1][[1]])/conf_matrix.sum()\n",
        "print('accuracy: ',accuracy)\n",
        "\n",
        "sns.heatmap(conf_matrix, xticklabels=['Normal','Abnormal'], yticklabels=['Normal', 'Abnormal'], annot=True, fmt='d', annot_kws={'size':10})\n",
        "b,t = plt.ylim()\n",
        "b+=0.5\n",
        "t-=0.5\n",
        "plt.ylim(b,t)\n",
        "plt.title('Confusion Matrix')\n",
        "plt.xlabel('Predicted Class'); plt.ylabel('True Class')\n",
        "plt.show()"
      ],
      "execution_count": 43,
      "outputs": [
        {
          "output_type": "stream",
          "text": [
            "accuracy:  [0.808]\n"
          ],
          "name": "stdout"
        },
        {
          "output_type": "display_data",
          "data": {
            "image/png": "[encoded data removed]",
            "text/plain": [
              "<Figure size 432x288 with 2 Axes>"
            ]
          },
          "metadata": {
            "tags": [],
            "needs_background": "light"
          }
        }
      ]
    },
    {
      "cell_type": "code",
      "metadata": {
        "colab": {
          "base_uri": "https://localhost:8080/",
          "height": 301
        },
        "id": "R1RPxsf9mVa4",
        "outputId": "bcdc5fcc-7dfd-4f1b-93d4-104b90dd34ef"
      },
      "source": [
        "groups = error_df.groupby('True_class')\n",
        "fig, ax = plt.subplots()\n",
        "\n",
        "for name, group in groups:\n",
        "  ax.plot(group.index, group.Reconstruction_error, marker = 'o', ms=3.5, linestyle='',\n",
        "          label='Abnormal' if name ==1 else 'Normal')\n",
        "\n",
        "ax.hlines(threshold_fixed, ax.get_xlim()[0], ax.get_xlim()[1], colors ='r', zorder=100, label ='Threshold')\n",
        "ax.legend()\n",
        "plt.title(\"Reconstruction error for different classes\")  \n",
        "plt.ylabel(\"Reconstrction error\")\n",
        "plt.xlabel(\"Data point index\")\n",
        "plt.show()"
      ],
      "execution_count": 44,
      "outputs": [
        {
          "output_type": "display_data",
          "data": {
            "image/png": "[encoded data removed]",
            "text/plain": [
              "<Figure size 432x288 with 1 Axes>"
            ]
          },
          "metadata": {
            "tags": [],
            "needs_background": "light"
          }
        }
      ]
    },
    {
      "cell_type": "code",
      "metadata": {
        "id": "J4YIs07mlFep"
      },
      "source": [
        ""
      ],
      "execution_count": 44,
      "outputs": []
    },
    {
      "cell_type": "markdown",
      "metadata": {
        "id": "hyXtSkwLlHit"
      },
      "source": [
        "모든 점 + feature \\\n",
        "auc: 0.79 accuracy: 0.788 => minmax \\\n",
        "auc: 0.89 accuracy: 0.8 => robust \\\n",
        "auc: 0.66 accuracy: 0.711 => standard\n",
        "\n",
        "일부 점 + feature \\\n",
        "auc: 0.90 accuracy: 0.69 \n",
        "\n",
        "z값 제외 + feature \\\n",
        "auc: 0.81 accuracy: 0.724 => robust\n",
        "\n",
        "모든 점 \\\n",
        "auc: 0.83 accuracy: 0.74 => robust"
      ]
    }
  ]
}