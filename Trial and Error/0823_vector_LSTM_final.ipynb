{
  "nbformat": 4,
  "nbformat_minor": 0,
  "metadata": {
    "colab": {
      "name": "0823_vector_LSTM_final.ipynb",
      "provenance": [],
      "collapsed_sections": []
    },
    "kernelspec": {
      "name": "python3",
      "display_name": "Python 3"
    },
    "language_info": {
      "name": "python"
    },
    "accelerator": "GPU"
  },
  "cells": [
    {
      "cell_type": "markdown",
      "metadata": {
        "id": "9HDIxvnFlioV"
      },
      "source": [
        "#새로운 feature로 시도"
      ]
    },
    {
      "cell_type": "code",
      "metadata": {
        "colab": {
          "base_uri": "https://localhost:8080/"
        },
        "id": "nNniS9GBH4g6",
        "outputId": "cb5d1622-c814-4ac4-a54c-ca862001c6db"
      },
      "source": [
        "from google.colab import drive\n",
        "drive.mount('/content/drive')"
      ],
      "execution_count": 1942,
      "outputs": [
        {
          "output_type": "stream",
          "text": [
            "Drive already mounted at /content/drive; to attempt to forcibly remount, call drive.mount(\"/content/drive\", force_remount=True).\n"
          ],
          "name": "stdout"
        }
      ]
    },
    {
      "cell_type": "code",
      "metadata": {
        "id": "l-wKvH23IXGO"
      },
      "source": [
        "import pandas as pd\n",
        "import numpy as np"
      ],
      "execution_count": 1943,
      "outputs": []
    },
    {
      "cell_type": "code",
      "metadata": {
        "id": "OlF4eLFJH_PE"
      },
      "source": [
        "path1='/content/drive/Shareddrives/데이터 청년 캠퍼스/젓가락질 데이터/새 젓가락질 데이터/excel 파일/preprocessing/newdata_all_0820_rotate_32_x.xlsx'\n",
        "#'/content/drive/Shareddrives/데이터 청년 캠퍼스/젓가락질 데이터/새 젓가락질 데이터/excel 파일/preprocessing/newdata_all_0819_normed_min.xlsx'"
      ],
      "execution_count": 1944,
      "outputs": []
    },
    {
      "cell_type": "code",
      "metadata": {
        "id": "uBJLW85cIUzM"
      },
      "source": [
        "data= pd.read_excel(path1)"
      ],
      "execution_count": 1945,
      "outputs": []
    },
    {
      "cell_type": "code",
      "metadata": {
        "colab": {
          "base_uri": "https://localhost:8080/",
          "height": 490
        },
        "id": "VLA0HTs_sLZH",
        "outputId": "cdfb8912-5a4b-4aeb-bac1-848347f2461d"
      },
      "source": [
        "data"
      ],
      "execution_count": 1946,
      "outputs": [
        {
          "output_type": "execute_result",
          "data": {
            "text/html": [
              "<div>\n",
              "<style scoped>\n",
              "    .dataframe tbody tr th:only-of-type {\n",
              "        vertical-align: middle;\n",
              "    }\n",
              "\n",
              "    .dataframe tbody tr th {\n",
              "        vertical-align: top;\n",
              "    }\n",
              "\n",
              "    .dataframe thead th {\n",
              "        text-align: right;\n",
              "    }\n",
              "</style>\n",
              "<table border=\"1\" class=\"dataframe\">\n",
              "  <thead>\n",
              "    <tr style=\"text-align: right;\">\n",
              "      <th></th>\n",
              "      <th>x_1-0</th>\n",
              "      <th>y_1-0</th>\n",
              "      <th>x_2-1</th>\n",
              "      <th>y_2-1</th>\n",
              "      <th>x_3-2</th>\n",
              "      <th>y_3-2</th>\n",
              "      <th>x_4-3</th>\n",
              "      <th>y_4-3</th>\n",
              "      <th>x_5-4</th>\n",
              "      <th>y_5-4</th>\n",
              "      <th>x_6-5</th>\n",
              "      <th>y_6-5</th>\n",
              "      <th>x_7-6</th>\n",
              "      <th>y_7-6</th>\n",
              "      <th>x_8-7</th>\n",
              "      <th>y_8-7</th>\n",
              "      <th>x_9-8</th>\n",
              "      <th>y_9-8</th>\n",
              "      <th>x_10-9</th>\n",
              "      <th>y_10-9</th>\n",
              "      <th>x_11-10</th>\n",
              "      <th>y_11-10</th>\n",
              "      <th>x_12-11</th>\n",
              "      <th>y_12-11</th>\n",
              "      <th>x_13-12</th>\n",
              "      <th>y_13-12</th>\n",
              "      <th>x_14-13</th>\n",
              "      <th>y_14-13</th>\n",
              "      <th>x_15-14</th>\n",
              "      <th>y_15-14</th>\n",
              "      <th>x_16-15</th>\n",
              "      <th>y_16-15</th>\n",
              "      <th>y</th>\n",
              "      <th>image</th>\n",
              "    </tr>\n",
              "  </thead>\n",
              "  <tbody>\n",
              "    <tr>\n",
              "      <th>0</th>\n",
              "      <td>0.059483</td>\n",
              "      <td>0.047791</td>\n",
              "      <td>0.117681</td>\n",
              "      <td>0.037177</td>\n",
              "      <td>0.108911</td>\n",
              "      <td>-6.938894e-18</td>\n",
              "      <td>0.102761</td>\n",
              "      <td>0.000781</td>\n",
              "      <td>-0.067272</td>\n",
              "      <td>0.106284</td>\n",
              "      <td>0.090851</td>\n",
              "      <td>-0.037551</td>\n",
              "      <td>0.020762</td>\n",
              "      <td>-0.053539</td>\n",
              "      <td>-0.000663</td>\n",
              "      <td>-0.049232</td>\n",
              "      <td>-0.126677</td>\n",
              "      <td>0.091841</td>\n",
              "      <td>0.074080</td>\n",
              "      <td>-0.048951</td>\n",
              "      <td>-0.034998</td>\n",
              "      <td>-0.067212</td>\n",
              "      <td>-0.034704</td>\n",
              "      <td>-0.052495</td>\n",
              "      <td>-0.026695</td>\n",
              "      <td>0.121091</td>\n",
              "      <td>0.025404</td>\n",
              "      <td>-0.065380</td>\n",
              "      <td>-0.065823</td>\n",
              "      <td>-0.059163</td>\n",
              "      <td>-0.049266</td>\n",
              "      <td>-0.037874</td>\n",
              "      <td>0</td>\n",
              "      <td>not_correct10.MP4_000002.243.jpg</td>\n",
              "    </tr>\n",
              "    <tr>\n",
              "      <th>1</th>\n",
              "      <td>0.088238</td>\n",
              "      <td>0.039870</td>\n",
              "      <td>0.111497</td>\n",
              "      <td>0.031659</td>\n",
              "      <td>0.106251</td>\n",
              "      <td>-6.938894e-18</td>\n",
              "      <td>0.091216</td>\n",
              "      <td>-0.000797</td>\n",
              "      <td>-0.054548</td>\n",
              "      <td>0.126776</td>\n",
              "      <td>0.064970</td>\n",
              "      <td>-0.066325</td>\n",
              "      <td>-0.015064</td>\n",
              "      <td>-0.069841</td>\n",
              "      <td>-0.022040</td>\n",
              "      <td>-0.044777</td>\n",
              "      <td>-0.031284</td>\n",
              "      <td>0.136956</td>\n",
              "      <td>0.062474</td>\n",
              "      <td>-0.060135</td>\n",
              "      <td>-0.055480</td>\n",
              "      <td>-0.073939</td>\n",
              "      <td>-0.047930</td>\n",
              "      <td>-0.042525</td>\n",
              "      <td>0.024458</td>\n",
              "      <td>0.131533</td>\n",
              "      <td>0.032674</td>\n",
              "      <td>-0.068518</td>\n",
              "      <td>-0.067078</td>\n",
              "      <td>-0.067196</td>\n",
              "      <td>-0.046953</td>\n",
              "      <td>-0.033332</td>\n",
              "      <td>0</td>\n",
              "      <td>not_correct10.MP4_000004.040.jpg</td>\n",
              "    </tr>\n",
              "    <tr>\n",
              "      <th>2</th>\n",
              "      <td>0.074786</td>\n",
              "      <td>0.029389</td>\n",
              "      <td>0.109923</td>\n",
              "      <td>0.027463</td>\n",
              "      <td>0.106390</td>\n",
              "      <td>0.000000e+00</td>\n",
              "      <td>0.090829</td>\n",
              "      <td>-0.003327</td>\n",
              "      <td>-0.042942</td>\n",
              "      <td>0.127572</td>\n",
              "      <td>0.069100</td>\n",
              "      <td>-0.056238</td>\n",
              "      <td>-0.007140</td>\n",
              "      <td>-0.065612</td>\n",
              "      <td>-0.020420</td>\n",
              "      <td>-0.050944</td>\n",
              "      <td>-0.049653</td>\n",
              "      <td>0.131762</td>\n",
              "      <td>0.065004</td>\n",
              "      <td>-0.057998</td>\n",
              "      <td>-0.050233</td>\n",
              "      <td>-0.072696</td>\n",
              "      <td>-0.049552</td>\n",
              "      <td>-0.050360</td>\n",
              "      <td>0.016472</td>\n",
              "      <td>0.136776</td>\n",
              "      <td>0.032386</td>\n",
              "      <td>-0.064413</td>\n",
              "      <td>-0.066488</td>\n",
              "      <td>-0.063819</td>\n",
              "      <td>-0.047665</td>\n",
              "      <td>-0.037979</td>\n",
              "      <td>0</td>\n",
              "      <td>not_correct10.MP4_000004.240.jpg</td>\n",
              "    </tr>\n",
              "    <tr>\n",
              "      <th>3</th>\n",
              "      <td>0.075837</td>\n",
              "      <td>0.025564</td>\n",
              "      <td>0.108562</td>\n",
              "      <td>0.021815</td>\n",
              "      <td>0.115656</td>\n",
              "      <td>-6.938894e-18</td>\n",
              "      <td>0.094668</td>\n",
              "      <td>-0.005780</td>\n",
              "      <td>-0.051041</td>\n",
              "      <td>0.129546</td>\n",
              "      <td>0.071232</td>\n",
              "      <td>-0.069228</td>\n",
              "      <td>-0.020892</td>\n",
              "      <td>-0.076479</td>\n",
              "      <td>-0.031390</td>\n",
              "      <td>-0.052954</td>\n",
              "      <td>-0.022616</td>\n",
              "      <td>0.162404</td>\n",
              "      <td>0.058829</td>\n",
              "      <td>-0.075954</td>\n",
              "      <td>-0.062551</td>\n",
              "      <td>-0.085586</td>\n",
              "      <td>-0.056928</td>\n",
              "      <td>-0.055934</td>\n",
              "      <td>0.041617</td>\n",
              "      <td>0.175992</td>\n",
              "      <td>0.026054</td>\n",
              "      <td>-0.081117</td>\n",
              "      <td>-0.064761</td>\n",
              "      <td>-0.074281</td>\n",
              "      <td>-0.045816</td>\n",
              "      <td>-0.045548</td>\n",
              "      <td>0</td>\n",
              "      <td>not_correct10.MP4_000004.440.jpg</td>\n",
              "    </tr>\n",
              "    <tr>\n",
              "      <th>4</th>\n",
              "      <td>0.096608</td>\n",
              "      <td>0.045197</td>\n",
              "      <td>0.114652</td>\n",
              "      <td>0.033341</td>\n",
              "      <td>0.106542</td>\n",
              "      <td>6.938894e-18</td>\n",
              "      <td>0.096588</td>\n",
              "      <td>-0.000523</td>\n",
              "      <td>-0.063558</td>\n",
              "      <td>0.112743</td>\n",
              "      <td>0.075623</td>\n",
              "      <td>-0.047701</td>\n",
              "      <td>0.015439</td>\n",
              "      <td>-0.055260</td>\n",
              "      <td>-0.006942</td>\n",
              "      <td>-0.049723</td>\n",
              "      <td>-0.100304</td>\n",
              "      <td>0.102963</td>\n",
              "      <td>0.057556</td>\n",
              "      <td>-0.060177</td>\n",
              "      <td>-0.023646</td>\n",
              "      <td>-0.069867</td>\n",
              "      <td>-0.034987</td>\n",
              "      <td>-0.056994</td>\n",
              "      <td>-0.023224</td>\n",
              "      <td>0.139539</td>\n",
              "      <td>0.026484</td>\n",
              "      <td>-0.071770</td>\n",
              "      <td>-0.054111</td>\n",
              "      <td>-0.063163</td>\n",
              "      <td>-0.042928</td>\n",
              "      <td>-0.044375</td>\n",
              "      <td>0</td>\n",
              "      <td>not_correct10.MP4_000004.640.jpg</td>\n",
              "    </tr>\n",
              "    <tr>\n",
              "      <th>...</th>\n",
              "      <td>...</td>\n",
              "      <td>...</td>\n",
              "      <td>...</td>\n",
              "      <td>...</td>\n",
              "      <td>...</td>\n",
              "      <td>...</td>\n",
              "      <td>...</td>\n",
              "      <td>...</td>\n",
              "      <td>...</td>\n",
              "      <td>...</td>\n",
              "      <td>...</td>\n",
              "      <td>...</td>\n",
              "      <td>...</td>\n",
              "      <td>...</td>\n",
              "      <td>...</td>\n",
              "      <td>...</td>\n",
              "      <td>...</td>\n",
              "      <td>...</td>\n",
              "      <td>...</td>\n",
              "      <td>...</td>\n",
              "      <td>...</td>\n",
              "      <td>...</td>\n",
              "      <td>...</td>\n",
              "      <td>...</td>\n",
              "      <td>...</td>\n",
              "      <td>...</td>\n",
              "      <td>...</td>\n",
              "      <td>...</td>\n",
              "      <td>...</td>\n",
              "      <td>...</td>\n",
              "      <td>...</td>\n",
              "      <td>...</td>\n",
              "      <td>...</td>\n",
              "      <td>...</td>\n",
              "    </tr>\n",
              "    <tr>\n",
              "      <th>1183</th>\n",
              "      <td>0.155021</td>\n",
              "      <td>0.077519</td>\n",
              "      <td>0.174503</td>\n",
              "      <td>0.043141</td>\n",
              "      <td>0.152823</td>\n",
              "      <td>1.387779e-17</td>\n",
              "      <td>0.149967</td>\n",
              "      <td>0.021214</td>\n",
              "      <td>-0.114225</td>\n",
              "      <td>0.115594</td>\n",
              "      <td>0.145628</td>\n",
              "      <td>-0.022340</td>\n",
              "      <td>0.007679</td>\n",
              "      <td>-0.082363</td>\n",
              "      <td>-0.052359</td>\n",
              "      <td>-0.088204</td>\n",
              "      <td>-0.136920</td>\n",
              "      <td>0.115682</td>\n",
              "      <td>0.147726</td>\n",
              "      <td>-0.029766</td>\n",
              "      <td>-0.007167</td>\n",
              "      <td>-0.097603</td>\n",
              "      <td>-0.045154</td>\n",
              "      <td>-0.085594</td>\n",
              "      <td>-0.141017</td>\n",
              "      <td>0.135980</td>\n",
              "      <td>0.109007</td>\n",
              "      <td>-0.045937</td>\n",
              "      <td>-0.019847</td>\n",
              "      <td>-0.096490</td>\n",
              "      <td>-0.047022</td>\n",
              "      <td>-0.078923</td>\n",
              "      <td>1</td>\n",
              "      <td>correct4.mp4_000005.383.jpg</td>\n",
              "    </tr>\n",
              "    <tr>\n",
              "      <th>1184</th>\n",
              "      <td>0.150196</td>\n",
              "      <td>0.090659</td>\n",
              "      <td>0.170437</td>\n",
              "      <td>0.048558</td>\n",
              "      <td>0.146912</td>\n",
              "      <td>0.000000e+00</td>\n",
              "      <td>0.142907</td>\n",
              "      <td>0.021097</td>\n",
              "      <td>-0.110664</td>\n",
              "      <td>0.114058</td>\n",
              "      <td>0.144921</td>\n",
              "      <td>-0.007870</td>\n",
              "      <td>0.015625</td>\n",
              "      <td>-0.076645</td>\n",
              "      <td>-0.047765</td>\n",
              "      <td>-0.089171</td>\n",
              "      <td>-0.140453</td>\n",
              "      <td>0.090576</td>\n",
              "      <td>0.154072</td>\n",
              "      <td>-0.009768</td>\n",
              "      <td>0.009694</td>\n",
              "      <td>-0.089330</td>\n",
              "      <td>-0.034426</td>\n",
              "      <td>-0.086298</td>\n",
              "      <td>-0.171909</td>\n",
              "      <td>0.103428</td>\n",
              "      <td>0.112784</td>\n",
              "      <td>-0.035927</td>\n",
              "      <td>-0.006997</td>\n",
              "      <td>-0.094875</td>\n",
              "      <td>-0.035708</td>\n",
              "      <td>-0.083506</td>\n",
              "      <td>1</td>\n",
              "      <td>correct4.mp4_000005.450.jpg</td>\n",
              "    </tr>\n",
              "    <tr>\n",
              "      <th>1185</th>\n",
              "      <td>0.150619</td>\n",
              "      <td>0.092911</td>\n",
              "      <td>0.163893</td>\n",
              "      <td>0.047062</td>\n",
              "      <td>0.142344</td>\n",
              "      <td>0.000000e+00</td>\n",
              "      <td>0.142907</td>\n",
              "      <td>0.021708</td>\n",
              "      <td>-0.101500</td>\n",
              "      <td>0.107907</td>\n",
              "      <td>0.147984</td>\n",
              "      <td>0.000143</td>\n",
              "      <td>0.015389</td>\n",
              "      <td>-0.069576</td>\n",
              "      <td>-0.055730</td>\n",
              "      <td>-0.085872</td>\n",
              "      <td>-0.140190</td>\n",
              "      <td>0.070350</td>\n",
              "      <td>0.154307</td>\n",
              "      <td>-0.007271</td>\n",
              "      <td>0.005616</td>\n",
              "      <td>-0.084368</td>\n",
              "      <td>-0.046397</td>\n",
              "      <td>-0.083842</td>\n",
              "      <td>-0.158008</td>\n",
              "      <td>0.092519</td>\n",
              "      <td>0.113788</td>\n",
              "      <td>-0.029118</td>\n",
              "      <td>-0.012646</td>\n",
              "      <td>-0.086687</td>\n",
              "      <td>-0.049147</td>\n",
              "      <td>-0.077047</td>\n",
              "      <td>1</td>\n",
              "      <td>correct4.mp4_000005.517.jpg</td>\n",
              "    </tr>\n",
              "    <tr>\n",
              "      <th>1186</th>\n",
              "      <td>0.144129</td>\n",
              "      <td>0.091378</td>\n",
              "      <td>0.167189</td>\n",
              "      <td>0.047378</td>\n",
              "      <td>0.148878</td>\n",
              "      <td>0.000000e+00</td>\n",
              "      <td>0.146398</td>\n",
              "      <td>0.022524</td>\n",
              "      <td>-0.106003</td>\n",
              "      <td>0.109750</td>\n",
              "      <td>0.138529</td>\n",
              "      <td>-0.006895</td>\n",
              "      <td>0.006532</td>\n",
              "      <td>-0.076884</td>\n",
              "      <td>-0.059461</td>\n",
              "      <td>-0.090202</td>\n",
              "      <td>-0.110858</td>\n",
              "      <td>0.091502</td>\n",
              "      <td>0.151581</td>\n",
              "      <td>-0.007886</td>\n",
              "      <td>0.000093</td>\n",
              "      <td>-0.089106</td>\n",
              "      <td>-0.046714</td>\n",
              "      <td>-0.087615</td>\n",
              "      <td>-0.147400</td>\n",
              "      <td>0.102553</td>\n",
              "      <td>0.113283</td>\n",
              "      <td>-0.030557</td>\n",
              "      <td>-0.013723</td>\n",
              "      <td>-0.091946</td>\n",
              "      <td>-0.047030</td>\n",
              "      <td>-0.083713</td>\n",
              "      <td>1</td>\n",
              "      <td>correct4.mp4_000005.583.jpg</td>\n",
              "    </tr>\n",
              "    <tr>\n",
              "      <th>1187</th>\n",
              "      <td>0.134424</td>\n",
              "      <td>0.092247</td>\n",
              "      <td>0.163150</td>\n",
              "      <td>0.052307</td>\n",
              "      <td>0.149304</td>\n",
              "      <td>0.000000e+00</td>\n",
              "      <td>0.143818</td>\n",
              "      <td>0.022951</td>\n",
              "      <td>-0.100799</td>\n",
              "      <td>0.117945</td>\n",
              "      <td>0.138034</td>\n",
              "      <td>-0.008600</td>\n",
              "      <td>0.001909</td>\n",
              "      <td>-0.083704</td>\n",
              "      <td>-0.058760</td>\n",
              "      <td>-0.091891</td>\n",
              "      <td>-0.102510</td>\n",
              "      <td>0.101235</td>\n",
              "      <td>0.148062</td>\n",
              "      <td>-0.010883</td>\n",
              "      <td>-0.010285</td>\n",
              "      <td>-0.098263</td>\n",
              "      <td>-0.050684</td>\n",
              "      <td>-0.089389</td>\n",
              "      <td>-0.127701</td>\n",
              "      <td>0.115235</td>\n",
              "      <td>0.105295</td>\n",
              "      <td>-0.035368</td>\n",
              "      <td>-0.021154</td>\n",
              "      <td>-0.097286</td>\n",
              "      <td>-0.048750</td>\n",
              "      <td>-0.083347</td>\n",
              "      <td>1</td>\n",
              "      <td>correct4.mp4_000005.650.jpg</td>\n",
              "    </tr>\n",
              "  </tbody>\n",
              "</table>\n",
              "<p>1188 rows × 34 columns</p>\n",
              "</div>"
            ],
            "text/plain": [
              "         x_1-0     y_1-0  ...  y                             image\n",
              "0     0.059483  0.047791  ...  0  not_correct10.MP4_000002.243.jpg\n",
              "1     0.088238  0.039870  ...  0  not_correct10.MP4_000004.040.jpg\n",
              "2     0.074786  0.029389  ...  0  not_correct10.MP4_000004.240.jpg\n",
              "3     0.075837  0.025564  ...  0  not_correct10.MP4_000004.440.jpg\n",
              "4     0.096608  0.045197  ...  0  not_correct10.MP4_000004.640.jpg\n",
              "...        ...       ...  ... ..                               ...\n",
              "1183  0.155021  0.077519  ...  1       correct4.mp4_000005.383.jpg\n",
              "1184  0.150196  0.090659  ...  1       correct4.mp4_000005.450.jpg\n",
              "1185  0.150619  0.092911  ...  1       correct4.mp4_000005.517.jpg\n",
              "1186  0.144129  0.091378  ...  1       correct4.mp4_000005.583.jpg\n",
              "1187  0.134424  0.092247  ...  1       correct4.mp4_000005.650.jpg\n",
              "\n",
              "[1188 rows x 34 columns]"
            ]
          },
          "metadata": {},
          "execution_count": 1946
        }
      ]
    },
    {
      "cell_type": "code",
      "metadata": {
        "id": "06zBEe8WrWJy"
      },
      "source": [
        "path2='/content/drive/Shareddrives/데이터 청년 캠퍼스/젓가락질 데이터/새 젓가락질 데이터/excel 파일/preprocessing/correct38_semi_final.xlsx'"
      ],
      "execution_count": 1947,
      "outputs": []
    },
    {
      "cell_type": "code",
      "metadata": {
        "id": "lxWsP8iP0_em"
      },
      "source": [
        "path3='/content/drive/Shareddrives/데이터 청년 캠퍼스/젓가락질 데이터/새 젓가락질 데이터/excel 파일/preprocessing/not_correct18_semi_final2.xlsx'"
      ],
      "execution_count": 1948,
      "outputs": []
    },
    {
      "cell_type": "code",
      "metadata": {
        "id": "ALV0bvaSp4uj"
      },
      "source": [
        "testdata = pd.read_excel(path2)\n",
        "testdata\n",
        "new_x1 = testdata.drop(['d_ratio','sin dif','y','image'], axis=1)\n",
        "#y = data[\"y\"]"
      ],
      "execution_count": 1949,
      "outputs": []
    },
    {
      "cell_type": "code",
      "metadata": {
        "id": "LDDUSaq82kcO"
      },
      "source": [
        "testdata = pd.read_excel(path3)\n",
        "testdata\n",
        "new_x2 = testdata.drop(['d_ratio','sin dif','y','image'], axis=1)\n",
        "#y = data[\"y\"]"
      ],
      "execution_count": 1950,
      "outputs": []
    },
    {
      "cell_type": "markdown",
      "metadata": {
        "id": "m56HufPcINeG"
      },
      "source": [
        "##올바르지 않은"
      ]
    },
    {
      "cell_type": "code",
      "metadata": {
        "id": "Kpyzb-mqlVhd"
      },
      "source": [
        "#data.drop(['z_4-3','z_7-6','z_8-7','z_11-10','z_12-11','z_15-14','z_16-15'], axis=1)"
      ],
      "execution_count": 1951,
      "outputs": []
    },
    {
      "cell_type": "code",
      "metadata": {
        "id": "rHMNOdH-fAEh"
      },
      "source": [
        "vector0= data[data['y']==0]"
      ],
      "execution_count": 1952,
      "outputs": []
    },
    {
      "cell_type": "code",
      "metadata": {
        "colab": {
          "base_uri": "https://localhost:8080/"
        },
        "id": "u_KGwC8Dl7Ej",
        "outputId": "ec191a97-bde1-46b0-88d9-fb7e5fadc40d"
      },
      "source": [
        "len(vector0)"
      ],
      "execution_count": 1953,
      "outputs": [
        {
          "output_type": "execute_result",
          "data": {
            "text/plain": [
              "458"
            ]
          },
          "metadata": {},
          "execution_count": 1953
        }
      ]
    },
    {
      "cell_type": "code",
      "metadata": {
        "id": "4G3V0yeiH0bO",
        "colab": {
          "base_uri": "https://localhost:8080/"
        },
        "outputId": "9ece4f59-c338-4660-af6b-258852a312df"
      },
      "source": [
        "#vector0.drop(['Unnamed: 0', 'y','image'], axis=1, inplace=True)\n",
        "vector0.drop(['y','image'], axis=1, inplace=True)"
      ],
      "execution_count": 1954,
      "outputs": [
        {
          "output_type": "stream",
          "text": [
            "/usr/local/lib/python3.7/dist-packages/pandas/core/frame.py:4174: SettingWithCopyWarning: \n",
            "A value is trying to be set on a copy of a slice from a DataFrame\n",
            "\n",
            "See the caveats in the documentation: https://pandas.pydata.org/pandas-docs/stable/user_guide/indexing.html#returning-a-view-versus-a-copy\n",
            "  errors=errors,\n"
          ],
          "name": "stderr"
        }
      ]
    },
    {
      "cell_type": "markdown",
      "metadata": {
        "id": "GeSdtZfjZtor"
      },
      "source": [
        "정규화"
      ]
    },
    {
      "cell_type": "code",
      "metadata": {
        "id": "dObhAbMEZtJU"
      },
      "source": [
        "#RobustScaler: outlier 많은 경우 -> boxplot 보고 결정\n",
        "#StandardScaler: 거리 기반 알고리즘\n",
        "#MinMaxScaler: gradient descent 알고리즘"
      ],
      "execution_count": 1955,
      "outputs": []
    },
    {
      "cell_type": "code",
      "metadata": {
        "id": "HyKwdJNkOwUD"
      },
      "source": [
        "from sklearn.preprocessing import MinMaxScaler\n",
        "from sklearn.preprocessing import RobustScaler\n",
        "from sklearn.preprocessing import StandardScaler\n",
        "#scaler = MinMaxScaler()\n",
        "#scaler = StandardScaler()\n",
        "#scaler = RobustScaler()\n",
        "#vector0_=scaler.fit_transform(vector0)"
      ],
      "execution_count": 1956,
      "outputs": []
    },
    {
      "cell_type": "code",
      "metadata": {
        "id": "jVuS-C3mQ1TA"
      },
      "source": [
        "#vector0_"
      ],
      "execution_count": 1957,
      "outputs": []
    },
    {
      "cell_type": "markdown",
      "metadata": {
        "id": "ah-O_j4-IQid"
      },
      "source": [
        "##올바른"
      ]
    },
    {
      "cell_type": "code",
      "metadata": {
        "id": "B8VIJreM5IyC"
      },
      "source": [
        "vector1= data[data['y']==1]"
      ],
      "execution_count": 1958,
      "outputs": []
    },
    {
      "cell_type": "code",
      "metadata": {
        "colab": {
          "base_uri": "https://localhost:8080/"
        },
        "id": "YOYzgoUFPk5I",
        "outputId": "8cb452b1-cc87-495f-f889-3a7c85da4b18"
      },
      "source": [
        "#vector1.drop(['Unnamed: 0', 'y','image'], axis=1, inplace=True)\n",
        "vector1.drop(['y','image'], axis=1, inplace=True)"
      ],
      "execution_count": 1959,
      "outputs": [
        {
          "output_type": "stream",
          "text": [
            "/usr/local/lib/python3.7/dist-packages/pandas/core/frame.py:4174: SettingWithCopyWarning: \n",
            "A value is trying to be set on a copy of a slice from a DataFrame\n",
            "\n",
            "See the caveats in the documentation: https://pandas.pydata.org/pandas-docs/stable/user_guide/indexing.html#returning-a-view-versus-a-copy\n",
            "  errors=errors,\n"
          ],
          "name": "stderr"
        }
      ]
    },
    {
      "cell_type": "code",
      "metadata": {
        "id": "xnxORBPfQCZw"
      },
      "source": [
        "scaler = MinMaxScaler()\n",
        "#scaler = StandardScaler()\n",
        "scaler = RobustScaler()\n",
        "#vector1_=scaler.fit_transform(vector1)"
      ],
      "execution_count": 1960,
      "outputs": []
    },
    {
      "cell_type": "code",
      "metadata": {
        "id": "r05vtzUd4D1A"
      },
      "source": [
        "#vector1_"
      ],
      "execution_count": 1961,
      "outputs": []
    },
    {
      "cell_type": "markdown",
      "metadata": {
        "id": "D5k00gMhMQGg"
      },
      "source": [
        "#LSTM"
      ]
    },
    {
      "cell_type": "markdown",
      "metadata": {
        "id": "lB_OB93YQYlY"
      },
      "source": [
        "데이터셋 분리"
      ]
    },
    {
      "cell_type": "code",
      "metadata": {
        "id": "Cn-0bNe9NMFR"
      },
      "source": [
        "from sklearn.model_selection import train_test_split"
      ],
      "execution_count": 1962,
      "outputs": []
    },
    {
      "cell_type": "code",
      "metadata": {
        "colab": {
          "base_uri": "https://localhost:8080/"
        },
        "id": "ug8L2cgGNk2h",
        "outputId": "cb3cb4a9-f86c-44e3-e877-834c0c158ae7"
      },
      "source": [
        "vector0 = np.array(vector0_)\n",
        "vector1 = np.array(vector1_)\n",
        "len(vector0), len(vector1)\n",
        "vector0.shape, vector1.shape"
      ],
      "execution_count": 1963,
      "outputs": [
        {
          "output_type": "execute_result",
          "data": {
            "text/plain": [
              "((458, 32), (730, 32))"
            ]
          },
          "metadata": {},
          "execution_count": 1963
        }
      ]
    },
    {
      "cell_type": "code",
      "metadata": {
        "id": "S8aqMMCNiRuN"
      },
      "source": [
        "#x0_train = vector0[:int(0.7*len(vector0))]\n",
        "#x0_test = vector0[int(0.7*len(vector0)):]"
      ],
      "execution_count": 1964,
      "outputs": []
    },
    {
      "cell_type": "code",
      "metadata": {
        "colab": {
          "base_uri": "https://localhost:8080/"
        },
        "id": "F0SzKurVGjl0",
        "outputId": "93d68f8c-406a-4076-b678-54e8b9a6baaf"
      },
      "source": [
        "#x0_train.shape, x0_test.shape\n",
        "x0_test = vector0\n",
        "x0_test.shape"
      ],
      "execution_count": 1965,
      "outputs": [
        {
          "output_type": "execute_result",
          "data": {
            "text/plain": [
              "(458, 32)"
            ]
          },
          "metadata": {},
          "execution_count": 1965
        }
      ]
    },
    {
      "cell_type": "code",
      "metadata": {
        "id": "_dYhvL6SjcSl"
      },
      "source": [
        "x1_train = vector1[:int(0.7*len(vector1))]\n",
        "x1_test = vector1[int(0.7*len(vector1)):]"
      ],
      "execution_count": 1966,
      "outputs": []
    },
    {
      "cell_type": "code",
      "metadata": {
        "colab": {
          "base_uri": "https://localhost:8080/"
        },
        "id": "TjgKrExTkXgL",
        "outputId": "0d1a9d61-1871-456e-f568-69d6ead06fe7"
      },
      "source": [
        "x1_train.shape, x1_test.shape"
      ],
      "execution_count": 1967,
      "outputs": [
        {
          "output_type": "execute_result",
          "data": {
            "text/plain": [
              "((510, 32), (220, 32))"
            ]
          },
          "metadata": {},
          "execution_count": 1967
        }
      ]
    },
    {
      "cell_type": "markdown",
      "metadata": {
        "id": "xB_XwtxjXOvI"
      },
      "source": [
        "비정상 :1, 정상: 0"
      ]
    },
    {
      "cell_type": "code",
      "metadata": {
        "id": "JxTx9e42PxEg"
      },
      "source": [
        "x0_test_tot = np.hstack((x0_test, np.ones(x0_test.shape[0]).reshape(-1,1)))\n",
        "x1_test_tot = np.hstack((x1_test, np.zeros(x1_test.shape[0]).reshape(-1,1)))\n",
        "test_tot = np.vstack((x0_test_tot, x1_test_tot))"
      ],
      "execution_count": 1968,
      "outputs": []
    },
    {
      "cell_type": "code",
      "metadata": {
        "id": "xAyNVgrgOOj1"
      },
      "source": [
        "x_test, x_valid, y_test, y_valid = train_test_split(test_tot[:,:-1], test_tot[:,-1], test_size=0.3)"
      ],
      "execution_count": 1969,
      "outputs": []
    },
    {
      "cell_type": "code",
      "metadata": {
        "colab": {
          "base_uri": "https://localhost:8080/"
        },
        "id": "etQFpobdQGh0",
        "outputId": "5d900cbc-1b22-416f-d44b-bbdbfb0b08fa"
      },
      "source": [
        "print(x_test.shape, x_valid.shape, y_test.shape)"
      ],
      "execution_count": 1970,
      "outputs": [
        {
          "output_type": "stream",
          "text": [
            "(474, 32) (204, 32) (474,)\n"
          ],
          "name": "stdout"
        }
      ]
    },
    {
      "cell_type": "markdown",
      "metadata": {
        "id": "iP7G2ffBQaea"
      },
      "source": [
        "데이터 차원 변경"
      ]
    },
    {
      "cell_type": "code",
      "metadata": {
        "id": "fPV6Vc3IQIns"
      },
      "source": [
        "x1_train =x1_train.reshape(x1_train.shape[0],1,x1_train.shape[1])\n",
        "x_test =x_test.reshape(x_test.shape[0],1,x_test.shape[1])\n",
        "x_valid =x_valid.reshape(x_valid.shape[0],1,x_valid.shape[1])"
      ],
      "execution_count": 1971,
      "outputs": []
    },
    {
      "cell_type": "code",
      "metadata": {
        "colab": {
          "base_uri": "https://localhost:8080/"
        },
        "id": "t-QotlneSM6_",
        "outputId": "a817dee7-2884-41c9-962f-2c5f25dfff73"
      },
      "source": [
        "print(x1_train.shape,x_test.shape,x_valid.shape)"
      ],
      "execution_count": 1972,
      "outputs": [
        {
          "output_type": "stream",
          "text": [
            "(510, 1, 32) (474, 1, 32) (204, 1, 32)\n"
          ],
          "name": "stdout"
        }
      ]
    },
    {
      "cell_type": "markdown",
      "metadata": {
        "id": "UL2x2mmvSKPK"
      },
      "source": [
        "신경망 구축"
      ]
    },
    {
      "cell_type": "code",
      "metadata": {
        "id": "nw6Jl0FrSsZA"
      },
      "source": [
        "from keras import regularizers\n",
        "from keras.models import Model\n",
        "from keras.callbacks import EarlyStopping\n",
        "from keras.layers import Input, Dropout, Dense, LSTM, TimeDistributed, RepeatVector"
      ],
      "execution_count": 1973,
      "outputs": []
    },
    {
      "cell_type": "code",
      "metadata": {
        "id": "02slthVOQldb"
      },
      "source": [
        "def autoencoder_model(X):\n",
        "    inputs = Input(shape=(X.shape[1], X.shape[2]))\n",
        "    # return_sequences 가 True면 각 time_steps의 셀이 모두 출력으로 내보냄 , False 면 최종 셀만 출력으로 내보냄\n",
        "    L1 = LSTM(64, activation='relu', return_sequences=True, \n",
        "              kernel_regularizer=regularizers.l2(0.00))(inputs)\n",
        "    L2 = LSTM(32, activation='relu', return_sequences=False)(L1)\n",
        "    L3 = RepeatVector(X.shape[1])(L2)\n",
        "    L4 = LSTM(32, activation='relu', return_sequences=True)(L3)\n",
        "    L5 = LSTM(64, activation='relu', return_sequences=True)(L4)\n",
        "    output = TimeDistributed(Dense(X.shape[2]))(L5)    \n",
        "    model = Model(inputs=inputs, outputs=output)\n",
        "    return model"
      ],
      "execution_count": 1974,
      "outputs": []
    },
    {
      "cell_type": "code",
      "metadata": {
        "colab": {
          "base_uri": "https://localhost:8080/"
        },
        "id": "8OWO0n9iTqaG",
        "outputId": "43bba3ed-bf2b-4f09-cbd1-70e41b58f756"
      },
      "source": [
        "model = autoencoder_model(x1_train)\n",
        "model.compile(optimizer='adam',loss='mse')\n",
        "model.summary()"
      ],
      "execution_count": 1975,
      "outputs": [
        {
          "output_type": "stream",
          "text": [
            "Model: \"model_80\"\n",
            "_________________________________________________________________\n",
            "Layer (type)                 Output Shape              Param #   \n",
            "=================================================================\n",
            "input_81 (InputLayer)        [(None, 1, 32)]           0         \n",
            "_________________________________________________________________\n",
            "lstm_320 (LSTM)              (None, 1, 64)             24832     \n",
            "_________________________________________________________________\n",
            "lstm_321 (LSTM)              (None, 32)                12416     \n",
            "_________________________________________________________________\n",
            "repeat_vector_80 (RepeatVect (None, 1, 32)             0         \n",
            "_________________________________________________________________\n",
            "lstm_322 (LSTM)              (None, 1, 32)             8320      \n",
            "_________________________________________________________________\n",
            "lstm_323 (LSTM)              (None, 1, 64)             24832     \n",
            "_________________________________________________________________\n",
            "time_distributed_80 (TimeDis (None, 1, 32)             2080      \n",
            "=================================================================\n",
            "Total params: 72,480\n",
            "Trainable params: 72,480\n",
            "Non-trainable params: 0\n",
            "_________________________________________________________________\n"
          ],
          "name": "stdout"
        }
      ]
    },
    {
      "cell_type": "code",
      "metadata": {
        "id": "mWSIYzNlT17o"
      },
      "source": [
        "model = autoencoder_model(x1_train)\n",
        "model.compile(optimizer='adam',loss='mse')"
      ],
      "execution_count": 1976,
      "outputs": []
    },
    {
      "cell_type": "code",
      "metadata": {
        "colab": {
          "base_uri": "https://localhost:8080/"
        },
        "id": "53lZUq7MUSiP",
        "outputId": "bd9d1c0f-ab47-4074-d259-8ab584d23c81"
      },
      "source": [
        "epochs=25\n",
        "batch_size=15\n",
        "callbacks=[EarlyStopping(monitor='val_loss',patience=10)]\n",
        "\n",
        "history = model.fit(x1_train, x1_train, epochs=epochs, batch_size= batch_size,callbacks = callbacks, validation_split=0.05).history"
      ],
      "execution_count": 1977,
      "outputs": [
        {
          "output_type": "stream",
          "text": [
            "Epoch 1/25\n",
            "33/33 [==============================] - 5s 23ms/step - loss: 0.2653 - val_loss: 0.3474\n",
            "Epoch 2/25\n",
            "33/33 [==============================] - 0s 6ms/step - loss: 0.1417 - val_loss: 0.0828\n",
            "Epoch 3/25\n",
            "33/33 [==============================] - 0s 6ms/step - loss: 0.0417 - val_loss: 0.0714\n",
            "Epoch 4/25\n",
            "33/33 [==============================] - 0s 5ms/step - loss: 0.0374 - val_loss: 0.0714\n",
            "Epoch 5/25\n",
            "33/33 [==============================] - 0s 6ms/step - loss: 0.0371 - val_loss: 0.0715\n",
            "Epoch 6/25\n",
            "33/33 [==============================] - 0s 6ms/step - loss: 0.0368 - val_loss: 0.0687\n",
            "Epoch 7/25\n",
            "33/33 [==============================] - 0s 6ms/step - loss: 0.0366 - val_loss: 0.0697\n",
            "Epoch 8/25\n",
            "33/33 [==============================] - 0s 6ms/step - loss: 0.0362 - val_loss: 0.0659\n",
            "Epoch 9/25\n",
            "33/33 [==============================] - 0s 6ms/step - loss: 0.0359 - val_loss: 0.0643\n",
            "Epoch 10/25\n",
            "33/33 [==============================] - 0s 6ms/step - loss: 0.0353 - val_loss: 0.0669\n",
            "Epoch 11/25\n",
            "33/33 [==============================] - 0s 6ms/step - loss: 0.0348 - val_loss: 0.0520\n",
            "Epoch 12/25\n",
            "33/33 [==============================] - 0s 6ms/step - loss: 0.0332 - val_loss: 0.0481\n",
            "Epoch 13/25\n",
            "33/33 [==============================] - 0s 6ms/step - loss: 0.0309 - val_loss: 0.0427\n",
            "Epoch 14/25\n",
            "33/33 [==============================] - 0s 6ms/step - loss: 0.0266 - val_loss: 0.0208\n",
            "Epoch 15/25\n",
            "33/33 [==============================] - 0s 6ms/step - loss: 0.0215 - val_loss: 0.0122\n",
            "Epoch 16/25\n",
            "33/33 [==============================] - 0s 6ms/step - loss: 0.0198 - val_loss: 0.0112\n",
            "Epoch 17/25\n",
            "33/33 [==============================] - 0s 6ms/step - loss: 0.0189 - val_loss: 0.0095\n",
            "Epoch 18/25\n",
            "33/33 [==============================] - 0s 6ms/step - loss: 0.0182 - val_loss: 0.0101\n",
            "Epoch 19/25\n",
            "33/33 [==============================] - 0s 6ms/step - loss: 0.0166 - val_loss: 0.0114\n",
            "Epoch 20/25\n",
            "33/33 [==============================] - 0s 5ms/step - loss: 0.0130 - val_loss: 0.0102\n",
            "Epoch 21/25\n",
            "33/33 [==============================] - 0s 6ms/step - loss: 0.0102 - val_loss: 0.0096\n",
            "Epoch 22/25\n",
            "33/33 [==============================] - 0s 5ms/step - loss: 0.0095 - val_loss: 0.0090\n",
            "Epoch 23/25\n",
            "33/33 [==============================] - 0s 6ms/step - loss: 0.0092 - val_loss: 0.0103\n",
            "Epoch 24/25\n",
            "33/33 [==============================] - 0s 6ms/step - loss: 0.0093 - val_loss: 0.0095\n",
            "Epoch 25/25\n",
            "33/33 [==============================] - 0s 6ms/step - loss: 0.0091 - val_loss: 0.0082\n"
          ],
          "name": "stdout"
        }
      ]
    },
    {
      "cell_type": "code",
      "metadata": {
        "id": "TLOZT9UjlDnL"
      },
      "source": [
        "import seaborn as sns\n",
        "sns.set(color_codes=True)\n",
        "import matplotlib.pyplot as plt\n",
        "%matplotlib inline"
      ],
      "execution_count": 1978,
      "outputs": []
    },
    {
      "cell_type": "code",
      "metadata": {
        "id": "YoLeVXMyUrFd",
        "colab": {
          "base_uri": "https://localhost:8080/",
          "height": 457
        },
        "outputId": "65feae4d-f415-4ec4-bd76-54937caa389c"
      },
      "source": [
        "# 학습 손실 시각화\n",
        "fig, ax = plt.subplots(figsize=(14, 6), dpi=80)\n",
        "ax.plot(history['val_loss'], 'b', label='Train', linewidth=2)\n",
        "ax.plot(history['loss'], 'r', label='Validation', linewidth=2)\n",
        "ax.set_title('Model loss', fontsize=16)\n",
        "ax.set_ylabel('Loss (mae)')\n",
        "ax.set_xlabel('Epoch')\n",
        "ax.legend(loc='upper right')\n",
        "plt.show()"
      ],
      "execution_count": 1979,
      "outputs": [
        {
          "output_type": "display_data",
          "data": {
            "image/png": "[encoded data removed]",
            "text/plain": [
              "<Figure size 1120x480 with 1 Axes>"
            ]
          },
          "metadata": {
            "needs_background": "light"
          }
        }
      ]
    },
    {
      "cell_type": "code",
      "metadata": {
        "id": "1Qn-f0L2oOW7"
      },
      "source": [
        "from sklearn import metrics"
      ],
      "execution_count": 1980,
      "outputs": []
    },
    {
      "cell_type": "code",
      "metadata": {
        "colab": {
          "base_uri": "https://localhost:8080/",
          "height": 375
        },
        "id": "JmEimWqZmooQ",
        "outputId": "fea66a4c-fdc7-4af3-ddce-b92f63eeae18"
      },
      "source": [
        "#검증 데이터 입력\n",
        "predictions_3d = model.predict(x_valid)\n",
        "predictions = predictions_3d.reshape(predictions_3d.shape[0], predictions_3d.shape[2])\n",
        "x_valid_ = x_valid.reshape(x_valid.shape[0], x_valid.shape[2])\n",
        "\n",
        "#재구성 손실 값 도출\n",
        "mse = np.mean(np.power(x_valid_ - predictions, 2), axis = 1)\n",
        "\n",
        "error_df = pd.DataFrame({'Reconstruction_error':mse, 'True_class': y_valid})\n",
        "\n",
        "precision_rt, recall_rt, threshold_rt = metrics.precision_recall_curve(error_df['True_class'], error_df['Reconstruction_error']) ##auc curve 사용 말고 다른 방법\n",
        "\n",
        "#모델 최적의 threshold 값 찾기\n",
        "best_cnt_dic = abs(precision_rt - recall_rt)\n",
        "threshold_fixed = threshold_rt[np.argmin(best_cnt_dic)]  #둘의 차가 최소가 될때가 threshold\n",
        "print('precision: ', precision_rt[np.argmin(best_cnt_dic)], ', recall: ', recall_rt[np.argmin(best_cnt_dic)])\n",
        "print('threshold: ', threshold_fixed)\n",
        "\n",
        "plt.figure(figsize=(8,5))\n",
        "plt.plot(threshold_rt, precision_rt[1:], label = 'Precision')\n",
        "plt.plot(threshold_rt, recall_rt[1:], label = 'Recall')\n",
        "plt.xlabel('Threshold'); plt.ylabel('Precision/Recall')\n",
        "plt.legend()\n",
        "plt.show()"
      ],
      "execution_count": 1981,
      "outputs": [
        {
          "output_type": "stream",
          "text": [
            "precision:  0.8321678321678322 , recall:  0.8321678321678322\n",
            "threshold:  0.018841396094356165\n"
          ],
          "name": "stdout"
        },
        {
          "output_type": "display_data",
          "data": {
            "image/png": "[encoded data removed]",
            "text/plain": [
              "<Figure size 576x360 with 1 Axes>"
            ]
          },
          "metadata": {
            "needs_background": "light"
          }
        }
      ]
    },
    {
      "cell_type": "code",
      "metadata": {
        "id": "4MjhtuJAkyKF"
      },
      "source": [
        "#from sklearn.metrics import f1_score\n",
        "#f1 = f1_score(error_df['True_class'], error_df['Reconstruction_error'])"
      ],
      "execution_count": 1982,
      "outputs": []
    },
    {
      "cell_type": "markdown",
      "metadata": {
        "id": "y2QJ4zymsDAh"
      },
      "source": [
        "모델 성능 평가"
      ]
    },
    {
      "cell_type": "code",
      "metadata": {
        "colab": {
          "base_uri": "https://localhost:8080/",
          "height": 301
        },
        "id": "7gZIkGTspJc6",
        "outputId": "14d1cb0b-315a-4617-8014-339fd39e6cdb"
      },
      "source": [
        "from sklearn.metrics import roc_curve, auc\n",
        "\n",
        "fpr, tpr, thresholds = roc_curve(y_valid, mse)\n",
        "roc_auc = auc(fpr, tpr)\n",
        "\n",
        "plt.title('Receiver Operating Characteristic')\n",
        "plt.plot(fpr, tpr, label = 'AUC = %0.4f' % roc_auc, linewidth=5)\n",
        "plt.legend(loc = 'lower right')\n",
        "plt.plot([0,1], [0,1],'r--')\n",
        "plt.xlim([-0.001,1])\n",
        "plt.ylim([0,1.001])\n",
        "plt.ylabel('True positive rate')\n",
        "plt.xlabel('False positive rate')\n",
        "plt.show()"
      ],
      "execution_count": 1983,
      "outputs": [
        {
          "output_type": "display_data",
          "data": {
            "image/png": "[encoded data removed]",
            "text/plain": [
              "<Figure size 432x288 with 1 Axes>"
            ]
          },
          "metadata": {
            "needs_background": "light"
          }
        }
      ]
    },
    {
      "cell_type": "code",
      "metadata": {
        "colab": {
          "base_uri": "https://localhost:8080/",
          "height": 571
        },
        "id": "Tjw-esXllJxA",
        "outputId": "52150ceb-779c-48d2-dd73-fe4d1ae71dbc"
      },
      "source": [
        "test_predictions_3d = model.predict(x_test)\n",
        "test_predictions = test_predictions_3d.reshape(test_predictions_3d.shape[0], test_predictions_3d.shape[2])\n",
        "x_test_ = x_test.reshape(x_test.shape[0], x_test.shape[2])\n",
        "mse = np.mean(np.power(x_test_ - test_predictions, 2), axis=1)\n",
        "\n",
        "error_df = pd.DataFrame({'Reconstruction_error': mse, 'True_class': y_test})\n",
        "print(error_df)\n",
        "\n",
        "pred_y = [1 if e > threshold_fixed else 0 for e in error_df['Reconstruction_error'].values]\n",
        "conf_matrix = metrics.confusion_matrix(error_df['True_class'], pred_y)\n",
        "\n",
        "accuracy = (conf_matrix[0][0]+ conf_matrix[1][[1]])/conf_matrix.sum()\n",
        "print('accuracy: ',accuracy)\n",
        "\n",
        "sns.heatmap(conf_matrix, xticklabels=['Normal','Abnormal'], yticklabels=['Normal', 'Abnormal'], annot=True, fmt='d', annot_kws={'size':10})\n",
        "b,t = plt.ylim()\n",
        "b+=0.5\n",
        "t-=0.5\n",
        "plt.ylim(b,t)\n",
        "plt.title('Confusion Matrix')\n",
        "plt.xlabel('Predicted Class'); plt.ylabel('True Class')\n",
        "plt.show()"
      ],
      "execution_count": 1984,
      "outputs": [
        {
          "output_type": "stream",
          "text": [
            "     Reconstruction_error  True_class\n",
            "0                0.046768         1.0\n",
            "1                0.036814         1.0\n",
            "2                0.036647         1.0\n",
            "3                0.022611         1.0\n",
            "4                0.045127         1.0\n",
            "..                    ...         ...\n",
            "469              0.026126         1.0\n",
            "470              0.026176         1.0\n",
            "471              0.021150         0.0\n",
            "472              0.019957         1.0\n",
            "473              0.026784         1.0\n",
            "\n",
            "[474 rows x 2 columns]\n",
            "accuracy:  [0.73839662]\n"
          ],
          "name": "stdout"
        },
        {
          "output_type": "display_data",
          "data": {
            "image/png": "[encoded data removed]",
            "text/plain": [
              "<Figure size 432x288 with 2 Axes>"
            ]
          },
          "metadata": {
            "needs_background": "light"
          }
        }
      ]
    },
    {
      "cell_type": "code",
      "metadata": {
        "colab": {
          "base_uri": "https://localhost:8080/",
          "height": 301
        },
        "id": "R1RPxsf9mVa4",
        "outputId": "aca8dc20-c76e-4ec1-d058-e0d4918ad064"
      },
      "source": [
        "groups = error_df.groupby('True_class')\n",
        "fig, ax = plt.subplots()\n",
        "\n",
        "for name, group in groups:\n",
        "  ax.plot(group.index, group.Reconstruction_error, marker = 'o', ms=3.5, linestyle='',\n",
        "          label='Abnormal' if name ==1 else 'Normal')\n",
        "\n",
        "ax.hlines(threshold_fixed, ax.get_xlim()[0], ax.get_xlim()[1], colors ='r', zorder=100, label ='Threshold')\n",
        "ax.legend()\n",
        "plt.title(\"Reconstruction error for different classes\")  \n",
        "plt.ylabel(\"Reconstrction error\")\n",
        "plt.xlabel(\"Data point index\")\n",
        "plt.show()"
      ],
      "execution_count": 1985,
      "outputs": [
        {
          "output_type": "display_data",
          "data": {
            "image/png": "[encoded data removed]",
            "text/plain": [
              "<Figure size 432x288 with 1 Axes>"
            ]
          },
          "metadata": {
            "needs_background": "light"
          }
        }
      ]
    },
    {
      "cell_type": "markdown",
      "metadata": {
        "id": "3oqHQzRMYdkl"
      },
      "source": [
        "새로운 데이터 예측"
      ]
    },
    {
      "cell_type": "code",
      "metadata": {
        "colab": {
          "base_uri": "https://localhost:8080/"
        },
        "id": "2BgK3si4sw1T",
        "outputId": "ce550bfc-60c9-4de7-a293-87b769fc9517"
      },
      "source": [
        "new_x1= np.array(new_x1)\n",
        "new_x1 =new_x1.reshape(new_x1.shape[0],1,new_x1.shape[1])\n",
        "\n",
        "new_x1.shape"
      ],
      "execution_count": 1986,
      "outputs": [
        {
          "output_type": "execute_result",
          "data": {
            "text/plain": [
              "(51, 1, 32)"
            ]
          },
          "metadata": {},
          "execution_count": 1986
        }
      ]
    },
    {
      "cell_type": "code",
      "metadata": {
        "id": "SKjzhbUHrx72",
        "colab": {
          "base_uri": "https://localhost:8080/"
        },
        "outputId": "bf53fc0e-c427-4690-c5bb-5a1a69b6297e"
      },
      "source": [
        "#올바른 젓가락질\n",
        "test_predictions_3d = model.predict(new_x1)\n",
        "test_predictions = test_predictions_3d.reshape(test_predictions_3d.shape[0], test_predictions_3d.shape[2])\n",
        "x_test_ = new_x1.reshape(new_x1.shape[0], new_x1.shape[2])\n",
        "mse = np.mean(np.power(x_test_ - test_predictions, 2), axis=1)\n",
        "\n",
        "error_df = pd.DataFrame({'Reconstruction_error': mse})\n",
        "\n",
        "pred_y = [1 if e > threshold_fixed else 0 for e in error_df['Reconstruction_error'].values]\n",
        "\n",
        "print(pred_y)\n",
        "\n",
        "correct=0\n",
        "notcorrect=0\n",
        "for i in pred_y:\n",
        "  if i == 0 :\n",
        "    correct+=1\n",
        "  else:\n",
        "    notcorrect+=1\n",
        "\n",
        "if correct > notcorrect :\n",
        "  print(\"올바른 젓가락질입니다.\")\n",
        "elif correct == notcorrect:\n",
        "  print(\"재촬영해주세요\")\n",
        "else:\n",
        "  print(\"올바르지 않은 젓가락질입니다.\")"
      ],
      "execution_count": 1987,
      "outputs": [
        {
          "output_type": "stream",
          "text": [
            "[1, 1, 1, 1, 1, 1, 1, 1, 1, 1, 1, 1, 1, 1, 1, 1, 1, 1, 1, 1, 1, 1, 1, 1, 1, 1, 1, 1, 1, 1, 1, 1, 1, 1, 1, 1, 1, 1, 1, 1, 1, 1, 1, 1, 1, 1, 1, 1, 1, 1, 1]\n",
            "올바르지 않은 젓가락질입니다.\n"
          ],
          "name": "stdout"
        }
      ]
    },
    {
      "cell_type": "code",
      "metadata": {
        "colab": {
          "base_uri": "https://localhost:8080/"
        },
        "id": "NmMfLVBu2u-a",
        "outputId": "e19302cd-5bce-4560-ebf0-ac1ce8e00344"
      },
      "source": [
        "new_x2= np.array(new_x2)\n",
        "new_x2 =new_x2.reshape(new_x2.shape[0],1,new_x2.shape[1])\n",
        "\n",
        "new_x2.shape"
      ],
      "execution_count": 1988,
      "outputs": [
        {
          "output_type": "execute_result",
          "data": {
            "text/plain": [
              "(60, 1, 32)"
            ]
          },
          "metadata": {},
          "execution_count": 1988
        }
      ]
    },
    {
      "cell_type": "code",
      "metadata": {
        "colab": {
          "base_uri": "https://localhost:8080/"
        },
        "id": "Rf_rMOIF21N_",
        "outputId": "e45184d3-e248-497b-8980-5ae77f7eefff"
      },
      "source": [
        "#올바르지 않은\n",
        "test_predictions_3d = model.predict(new_x2)\n",
        "test_predictions = test_predictions_3d.reshape(test_predictions_3d.shape[0], test_predictions_3d.shape[2])\n",
        "x_test_ = new_x2.reshape(new_x2.shape[0], new_x2.shape[2])\n",
        "mse = np.mean(np.power(x_test_ - test_predictions, 2), axis=1)\n",
        "\n",
        "error_df = pd.DataFrame({'Reconstruction_error': mse})\n",
        "\n",
        "pred_y = [1 if e > threshold_fixed else 0 for e in error_df['Reconstruction_error'].values]\n",
        "\n",
        "print(pred_y)\n",
        "\n",
        "correct=0\n",
        "notcorrect=0\n",
        "for i in pred_y:\n",
        "  if i == 0 :\n",
        "    correct+=1\n",
        "  else:\n",
        "    notcorrect+=1\n",
        "\n",
        "if correct > notcorrect :\n",
        "  print(\"올바른 젓가락질입니다.\")\n",
        "elif correct == notcorrect:\n",
        "  print(\"재촬영해주세요\")\n",
        "else:\n",
        "  print(\"올바르지 않은 젓가락질입니다.\")"
      ],
      "execution_count": 1989,
      "outputs": [
        {
          "output_type": "stream",
          "text": [
            "[1, 1, 1, 1, 1, 1, 1, 1, 1, 1, 1, 1, 1, 1, 1, 1, 1, 1, 1, 1, 1, 1, 1, 1, 1, 1, 1, 1, 1, 1, 1, 1, 1, 1, 1, 1, 1, 1, 1, 1, 1, 1, 1, 1, 1, 1, 1, 1, 1, 1, 1, 1, 1, 1, 1, 1, 1, 1, 1, 1]\n",
            "올바르지 않은 젓가락질입니다.\n"
          ],
          "name": "stdout"
        }
      ]
    },
    {
      "cell_type": "code",
      "metadata": {
        "id": "BNJyuJvp3Ggc"
      },
      "source": [
        ""
      ],
      "execution_count": 1989,
      "outputs": []
    }
  ]
}