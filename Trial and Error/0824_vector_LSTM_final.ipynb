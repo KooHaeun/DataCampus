{
  "nbformat": 4,
  "nbformat_minor": 0,
  "metadata": {
    "colab": {
      "name": "0824_vector_LSTM_final.ipynb",
      "provenance": [],
      "collapsed_sections": []
    },
    "kernelspec": {
      "name": "python3",
      "display_name": "Python 3"
    },
    "language_info": {
      "name": "python"
    }
  },
  "cells": [
    {
      "cell_type": "markdown",
      "metadata": {
        "id": "9HDIxvnFlioV"
      },
      "source": [
        "#새로운 feature로 시도"
      ]
    },
    {
      "cell_type": "code",
      "metadata": {
        "colab": {
          "base_uri": "https://localhost:8080/"
        },
        "id": "nNniS9GBH4g6",
        "outputId": "08ce0297-2d04-4d6d-9573-f02eb43c6b1d"
      },
      "source": [
        "from google.colab import drive\n",
        "drive.mount('/content/drive')"
      ],
      "execution_count": 356,
      "outputs": [
        {
          "output_type": "stream",
          "text": [
            "Drive already mounted at /content/drive; to attempt to forcibly remount, call drive.mount(\"/content/drive\", force_remount=True).\n"
          ],
          "name": "stdout"
        }
      ]
    },
    {
      "cell_type": "code",
      "metadata": {
        "id": "l-wKvH23IXGO"
      },
      "source": [
        "import pandas as pd\n",
        "import numpy as np"
      ],
      "execution_count": 357,
      "outputs": []
    },
    {
      "cell_type": "code",
      "metadata": {
        "id": "OlF4eLFJH_PE"
      },
      "source": [
        "path1='/content/drive/Shareddrives/데이터 청년 캠퍼스/젓가락질 데이터/새 젓가락질 데이터/excel 파일/preprocessing/finaldata_0824_nu_all-2.xlsx'\n",
        "#'/content/drive/Shareddrives/데이터 청년 캠퍼스/젓가락질 데이터/새 젓가락질 데이터/excel 파일/preprocessing/newdata_all_0819_normed_min.xlsx'"
      ],
      "execution_count": 358,
      "outputs": []
    },
    {
      "cell_type": "code",
      "metadata": {
        "id": "uBJLW85cIUzM"
      },
      "source": [
        "data= pd.read_excel(path1)"
      ],
      "execution_count": 359,
      "outputs": []
    },
    {
      "cell_type": "code",
      "metadata": {
        "colab": {
          "base_uri": "https://localhost:8080/",
          "height": 609
        },
        "id": "YpdfNRaim0wd",
        "outputId": "efb5e9dd-4dca-4808-aac6-e1882acc8596"
      },
      "source": [
        "data"
      ],
      "execution_count": 360,
      "outputs": [
        {
          "output_type": "execute_result",
          "data": {
            "text/html": [
              "<div>\n",
              "<style scoped>\n",
              "    .dataframe tbody tr th:only-of-type {\n",
              "        vertical-align: middle;\n",
              "    }\n",
              "\n",
              "    .dataframe tbody tr th {\n",
              "        vertical-align: top;\n",
              "    }\n",
              "\n",
              "    .dataframe thead th {\n",
              "        text-align: right;\n",
              "    }\n",
              "</style>\n",
              "<table border=\"1\" class=\"dataframe\">\n",
              "  <thead>\n",
              "    <tr style=\"text-align: right;\">\n",
              "      <th></th>\n",
              "      <th>x_3-2</th>\n",
              "      <th>x_4-3</th>\n",
              "      <th>y_4-3</th>\n",
              "      <th>x_6-5</th>\n",
              "      <th>y_6-5</th>\n",
              "      <th>x_7-6</th>\n",
              "      <th>y_7-6</th>\n",
              "      <th>x_8-7</th>\n",
              "      <th>y_8-7</th>\n",
              "      <th>x_10-9</th>\n",
              "      <th>y_10-9</th>\n",
              "      <th>x_11-10</th>\n",
              "      <th>y_11-10</th>\n",
              "      <th>x_12-11</th>\n",
              "      <th>y_12-11</th>\n",
              "      <th>x_15-14</th>\n",
              "      <th>y_15-14</th>\n",
              "      <th>x_16-15</th>\n",
              "      <th>y_16-15</th>\n",
              "      <th>d_ratio</th>\n",
              "      <th>sin dif</th>\n",
              "      <th>y</th>\n",
              "      <th>image</th>\n",
              "    </tr>\n",
              "  </thead>\n",
              "  <tbody>\n",
              "    <tr>\n",
              "      <th>0</th>\n",
              "      <td>0.013730</td>\n",
              "      <td>0.012809</td>\n",
              "      <td>-0.000391</td>\n",
              "      <td>0.010591</td>\n",
              "      <td>-0.007104</td>\n",
              "      <td>0.001264</td>\n",
              "      <td>-0.008162</td>\n",
              "      <td>-0.001226</td>\n",
              "      <td>-0.007178</td>\n",
              "      <td>0.009940</td>\n",
              "      <td>-0.007748</td>\n",
              "      <td>-0.002149</td>\n",
              "      <td>-0.008704</td>\n",
              "      <td>-0.003215</td>\n",
              "      <td>-0.007260</td>\n",
              "      <td>-0.008992</td>\n",
              "      <td>-0.005652</td>\n",
              "      <td>-0.006409</td>\n",
              "      <td>-0.003961</td>\n",
              "      <td>6.275347</td>\n",
              "      <td>-1.359156e-05</td>\n",
              "      <td>1</td>\n",
              "      <td>correct18.MP4_000003.040.jpg</td>\n",
              "    </tr>\n",
              "    <tr>\n",
              "      <th>1</th>\n",
              "      <td>0.013872</td>\n",
              "      <td>0.012782</td>\n",
              "      <td>-0.000433</td>\n",
              "      <td>0.009899</td>\n",
              "      <td>-0.007601</td>\n",
              "      <td>0.001281</td>\n",
              "      <td>-0.008214</td>\n",
              "      <td>-0.001177</td>\n",
              "      <td>-0.007313</td>\n",
              "      <td>0.009502</td>\n",
              "      <td>-0.008042</td>\n",
              "      <td>-0.001872</td>\n",
              "      <td>-0.009495</td>\n",
              "      <td>-0.003689</td>\n",
              "      <td>-0.008518</td>\n",
              "      <td>-0.008944</td>\n",
              "      <td>-0.006595</td>\n",
              "      <td>-0.006970</td>\n",
              "      <td>-0.004992</td>\n",
              "      <td>4.564632</td>\n",
              "      <td>-1.715147e-05</td>\n",
              "      <td>1</td>\n",
              "      <td>correct18.MP4_000003.160.jpg</td>\n",
              "    </tr>\n",
              "    <tr>\n",
              "      <th>2</th>\n",
              "      <td>0.116926</td>\n",
              "      <td>0.093571</td>\n",
              "      <td>-0.002151</td>\n",
              "      <td>0.084516</td>\n",
              "      <td>-0.045402</td>\n",
              "      <td>0.013020</td>\n",
              "      <td>-0.061673</td>\n",
              "      <td>-0.013559</td>\n",
              "      <td>-0.064367</td>\n",
              "      <td>0.091630</td>\n",
              "      <td>-0.047467</td>\n",
              "      <td>-0.008853</td>\n",
              "      <td>-0.068489</td>\n",
              "      <td>-0.024995</td>\n",
              "      <td>-0.059683</td>\n",
              "      <td>-0.049372</td>\n",
              "      <td>-0.050698</td>\n",
              "      <td>-0.042431</td>\n",
              "      <td>-0.034752</td>\n",
              "      <td>5.007295</td>\n",
              "      <td>-3.021811e-01</td>\n",
              "      <td>1</td>\n",
              "      <td>correct18.MP4_000003.281.jpg</td>\n",
              "    </tr>\n",
              "    <tr>\n",
              "      <th>3</th>\n",
              "      <td>0.115006</td>\n",
              "      <td>0.105220</td>\n",
              "      <td>0.006920</td>\n",
              "      <td>0.066537</td>\n",
              "      <td>-0.074469</td>\n",
              "      <td>0.004632</td>\n",
              "      <td>-0.070392</td>\n",
              "      <td>-0.011684</td>\n",
              "      <td>-0.057457</td>\n",
              "      <td>0.059887</td>\n",
              "      <td>-0.081961</td>\n",
              "      <td>-0.023267</td>\n",
              "      <td>-0.073425</td>\n",
              "      <td>-0.029949</td>\n",
              "      <td>-0.049818</td>\n",
              "      <td>-0.057207</td>\n",
              "      <td>-0.058195</td>\n",
              "      <td>-0.042380</td>\n",
              "      <td>-0.035394</td>\n",
              "      <td>2.360753</td>\n",
              "      <td>-9.722381e-02</td>\n",
              "      <td>1</td>\n",
              "      <td>correct18.MP4_000003.400.jpg</td>\n",
              "    </tr>\n",
              "    <tr>\n",
              "      <th>4</th>\n",
              "      <td>0.112020</td>\n",
              "      <td>0.101939</td>\n",
              "      <td>0.008908</td>\n",
              "      <td>0.078198</td>\n",
              "      <td>-0.049214</td>\n",
              "      <td>0.007220</td>\n",
              "      <td>-0.066179</td>\n",
              "      <td>-0.018551</td>\n",
              "      <td>-0.060107</td>\n",
              "      <td>0.081753</td>\n",
              "      <td>-0.044583</td>\n",
              "      <td>-0.000928</td>\n",
              "      <td>-0.075393</td>\n",
              "      <td>-0.020552</td>\n",
              "      <td>-0.059859</td>\n",
              "      <td>-0.024373</td>\n",
              "      <td>-0.070635</td>\n",
              "      <td>-0.025609</td>\n",
              "      <td>-0.048101</td>\n",
              "      <td>2.336987</td>\n",
              "      <td>-1.976772e-01</td>\n",
              "      <td>1</td>\n",
              "      <td>correct18.MP4_000003.640.jpg</td>\n",
              "    </tr>\n",
              "    <tr>\n",
              "      <th>...</th>\n",
              "      <td>...</td>\n",
              "      <td>...</td>\n",
              "      <td>...</td>\n",
              "      <td>...</td>\n",
              "      <td>...</td>\n",
              "      <td>...</td>\n",
              "      <td>...</td>\n",
              "      <td>...</td>\n",
              "      <td>...</td>\n",
              "      <td>...</td>\n",
              "      <td>...</td>\n",
              "      <td>...</td>\n",
              "      <td>...</td>\n",
              "      <td>...</td>\n",
              "      <td>...</td>\n",
              "      <td>...</td>\n",
              "      <td>...</td>\n",
              "      <td>...</td>\n",
              "      <td>...</td>\n",
              "      <td>...</td>\n",
              "      <td>...</td>\n",
              "      <td>...</td>\n",
              "      <td>...</td>\n",
              "    </tr>\n",
              "    <tr>\n",
              "      <th>1989</th>\n",
              "      <td>0.017029</td>\n",
              "      <td>0.012231</td>\n",
              "      <td>-0.001163</td>\n",
              "      <td>0.010635</td>\n",
              "      <td>-0.006686</td>\n",
              "      <td>0.005534</td>\n",
              "      <td>-0.005760</td>\n",
              "      <td>0.004455</td>\n",
              "      <td>-0.005318</td>\n",
              "      <td>0.009462</td>\n",
              "      <td>-0.006402</td>\n",
              "      <td>0.000796</td>\n",
              "      <td>-0.004625</td>\n",
              "      <td>0.000838</td>\n",
              "      <td>-0.003517</td>\n",
              "      <td>-0.008783</td>\n",
              "      <td>-0.002477</td>\n",
              "      <td>-0.006815</td>\n",
              "      <td>-0.000442</td>\n",
              "      <td>4.044143</td>\n",
              "      <td>-4.235492e-06</td>\n",
              "      <td>0</td>\n",
              "      <td>not_correct6.mp4_000006.387.jpg</td>\n",
              "    </tr>\n",
              "    <tr>\n",
              "      <th>1990</th>\n",
              "      <td>0.014851</td>\n",
              "      <td>0.011693</td>\n",
              "      <td>-0.001179</td>\n",
              "      <td>0.008800</td>\n",
              "      <td>-0.006568</td>\n",
              "      <td>0.005562</td>\n",
              "      <td>-0.005068</td>\n",
              "      <td>0.005500</td>\n",
              "      <td>-0.004315</td>\n",
              "      <td>0.009620</td>\n",
              "      <td>-0.005844</td>\n",
              "      <td>0.000232</td>\n",
              "      <td>-0.003914</td>\n",
              "      <td>0.000544</td>\n",
              "      <td>-0.002441</td>\n",
              "      <td>-0.007676</td>\n",
              "      <td>-0.002627</td>\n",
              "      <td>-0.005856</td>\n",
              "      <td>-0.000655</td>\n",
              "      <td>2.341872</td>\n",
              "      <td>-2.141895e-06</td>\n",
              "      <td>0</td>\n",
              "      <td>not_correct6.mp4_000006.454.jpg</td>\n",
              "    </tr>\n",
              "    <tr>\n",
              "      <th>1991</th>\n",
              "      <td>0.013734</td>\n",
              "      <td>0.010166</td>\n",
              "      <td>-0.000538</td>\n",
              "      <td>0.009729</td>\n",
              "      <td>-0.006292</td>\n",
              "      <td>0.005774</td>\n",
              "      <td>-0.004519</td>\n",
              "      <td>0.005288</td>\n",
              "      <td>-0.003653</td>\n",
              "      <td>0.009216</td>\n",
              "      <td>-0.005892</td>\n",
              "      <td>0.003020</td>\n",
              "      <td>-0.004148</td>\n",
              "      <td>0.002211</td>\n",
              "      <td>-0.003023</td>\n",
              "      <td>-0.006191</td>\n",
              "      <td>-0.003245</td>\n",
              "      <td>-0.005109</td>\n",
              "      <td>-0.001396</td>\n",
              "      <td>9.443710</td>\n",
              "      <td>-7.090232e-06</td>\n",
              "      <td>0</td>\n",
              "      <td>not_correct6.mp4_000006.521.jpg</td>\n",
              "    </tr>\n",
              "    <tr>\n",
              "      <th>1992</th>\n",
              "      <td>0.012786</td>\n",
              "      <td>0.010690</td>\n",
              "      <td>-0.001966</td>\n",
              "      <td>0.006897</td>\n",
              "      <td>-0.005614</td>\n",
              "      <td>0.004112</td>\n",
              "      <td>-0.005037</td>\n",
              "      <td>0.003732</td>\n",
              "      <td>-0.004500</td>\n",
              "      <td>0.005770</td>\n",
              "      <td>-0.005421</td>\n",
              "      <td>-0.001342</td>\n",
              "      <td>-0.003776</td>\n",
              "      <td>-0.000339</td>\n",
              "      <td>-0.002928</td>\n",
              "      <td>-0.008039</td>\n",
              "      <td>-0.001928</td>\n",
              "      <td>-0.005606</td>\n",
              "      <td>-0.000363</td>\n",
              "      <td>1.877143</td>\n",
              "      <td>1.708545e-07</td>\n",
              "      <td>0</td>\n",
              "      <td>not_correct6.mp4_000006.588.jpg</td>\n",
              "    </tr>\n",
              "    <tr>\n",
              "      <th>1993</th>\n",
              "      <td>0.014266</td>\n",
              "      <td>0.010546</td>\n",
              "      <td>-0.000396</td>\n",
              "      <td>0.009425</td>\n",
              "      <td>-0.007025</td>\n",
              "      <td>0.005784</td>\n",
              "      <td>-0.005130</td>\n",
              "      <td>0.004882</td>\n",
              "      <td>-0.004498</td>\n",
              "      <td>0.007843</td>\n",
              "      <td>-0.006984</td>\n",
              "      <td>0.001041</td>\n",
              "      <td>-0.004979</td>\n",
              "      <td>0.000771</td>\n",
              "      <td>-0.003840</td>\n",
              "      <td>-0.008009</td>\n",
              "      <td>-0.002933</td>\n",
              "      <td>-0.006086</td>\n",
              "      <td>-0.000753</td>\n",
              "      <td>5.769523</td>\n",
              "      <td>-5.937125e-06</td>\n",
              "      <td>0</td>\n",
              "      <td>not_correct6.mp4_000006.656.jpg</td>\n",
              "    </tr>\n",
              "  </tbody>\n",
              "</table>\n",
              "<p>1994 rows × 23 columns</p>\n",
              "</div>"
            ],
            "text/plain": [
              "         x_3-2     x_4-3  ...  y                            image\n",
              "0     0.013730  0.012809  ...  1     correct18.MP4_000003.040.jpg\n",
              "1     0.013872  0.012782  ...  1     correct18.MP4_000003.160.jpg\n",
              "2     0.116926  0.093571  ...  1     correct18.MP4_000003.281.jpg\n",
              "3     0.115006  0.105220  ...  1     correct18.MP4_000003.400.jpg\n",
              "4     0.112020  0.101939  ...  1     correct18.MP4_000003.640.jpg\n",
              "...        ...       ...  ... ..                              ...\n",
              "1989  0.017029  0.012231  ...  0  not_correct6.mp4_000006.387.jpg\n",
              "1990  0.014851  0.011693  ...  0  not_correct6.mp4_000006.454.jpg\n",
              "1991  0.013734  0.010166  ...  0  not_correct6.mp4_000006.521.jpg\n",
              "1992  0.012786  0.010690  ...  0  not_correct6.mp4_000006.588.jpg\n",
              "1993  0.014266  0.010546  ...  0  not_correct6.mp4_000006.656.jpg\n",
              "\n",
              "[1994 rows x 23 columns]"
            ]
          },
          "metadata": {},
          "execution_count": 360
        }
      ]
    },
    {
      "cell_type": "code",
      "metadata": {
        "colab": {
          "base_uri": "https://localhost:8080/"
        },
        "id": "6y2bsqD4sSPx",
        "outputId": "5b32bf3c-6b9d-459a-8343-86c15ea8445c"
      },
      "source": [
        "data.columns"
      ],
      "execution_count": 361,
      "outputs": [
        {
          "output_type": "execute_result",
          "data": {
            "text/plain": [
              "Index(['x_3-2', 'x_4-3', 'y_4-3', 'x_6-5', 'y_6-5', 'x_7-6', 'y_7-6', 'x_8-7',\n",
              "       'y_8-7', 'x_10-9', 'y_10-9', 'x_11-10', 'y_11-10', 'x_12-11', 'y_12-11',\n",
              "       'x_15-14', 'y_15-14', 'x_16-15', 'y_16-15', 'd_ratio', 'sin dif', 'y',\n",
              "       'image'],\n",
              "      dtype='object')"
            ]
          },
          "metadata": {},
          "execution_count": 361
        }
      ]
    },
    {
      "cell_type": "code",
      "metadata": {
        "id": "dObhAbMEZtJU"
      },
      "source": [
        "#RobustScaler: outlier 많은 경우 -> boxplot 보고 결정\n",
        "#StandardScaler: 거리 기반 알고리즘\n",
        "#MinMaxScaler: gradient descent 알고리즘"
      ],
      "execution_count": 362,
      "outputs": []
    },
    {
      "cell_type": "code",
      "metadata": {
        "id": "L9EatKzK3CVo"
      },
      "source": [
        "from sklearn.preprocessing import MinMaxScaler\n",
        "from sklearn.preprocessing import RobustScaler\n",
        "from sklearn.preprocessing import StandardScaler\n",
        "scaler = StandardScaler()"
      ],
      "execution_count": 363,
      "outputs": []
    },
    {
      "cell_type": "code",
      "metadata": {
        "id": "06zBEe8WrWJy"
      },
      "source": [
        "path2='/content/drive/Shareddrives/데이터 청년 캠퍼스/젓가락질 데이터/새 젓가락질 데이터/excel 파일/preprocessing/finaldata_0824_nu_correct7.xlsx'"
      ],
      "execution_count": 364,
      "outputs": []
    },
    {
      "cell_type": "code",
      "metadata": {
        "id": "lxWsP8iP0_em"
      },
      "source": [
        "path3='/content/drive/Shareddrives/데이터 청년 캠퍼스/젓가락질 데이터/새 젓가락질 데이터/excel 파일/preprocessing/finaldata_0824_nu_notcorrect7.xlsx'"
      ],
      "execution_count": 365,
      "outputs": []
    },
    {
      "cell_type": "code",
      "metadata": {
        "id": "ALV0bvaSp4uj"
      },
      "source": [
        "testdata = pd.read_excel(path2)\n",
        "testdata\n",
        "new_x1 = testdata.drop(['y','image'], axis=1)\n",
        "#y = data[\"y\"]"
      ],
      "execution_count": 366,
      "outputs": []
    },
    {
      "cell_type": "code",
      "metadata": {
        "id": "hg4xeztH3Eq3"
      },
      "source": [
        "new_x1=scaler.fit_transform(new_x1)"
      ],
      "execution_count": 367,
      "outputs": []
    },
    {
      "cell_type": "code",
      "metadata": {
        "id": "LDDUSaq82kcO"
      },
      "source": [
        "testdata = pd.read_excel(path3)\n",
        "testdata\n",
        "new_x2 = testdata.drop(['y','image'], axis=1)\n",
        "#y = data[\"y\"]"
      ],
      "execution_count": 368,
      "outputs": []
    },
    {
      "cell_type": "code",
      "metadata": {
        "id": "oX6xxfqY31ot"
      },
      "source": [
        "new_x2=scaler.fit_transform(new_x2)"
      ],
      "execution_count": 369,
      "outputs": []
    },
    {
      "cell_type": "markdown",
      "metadata": {
        "id": "m56HufPcINeG"
      },
      "source": [
        "##올바르지 않은"
      ]
    },
    {
      "cell_type": "code",
      "metadata": {
        "id": "rHMNOdH-fAEh"
      },
      "source": [
        "vector0= data[data['y']==0]"
      ],
      "execution_count": 370,
      "outputs": []
    },
    {
      "cell_type": "code",
      "metadata": {
        "colab": {
          "base_uri": "https://localhost:8080/"
        },
        "id": "u_KGwC8Dl7Ej",
        "outputId": "0cd9e748-a6e3-4c93-ed2f-4f1392e1642f"
      },
      "source": [
        "len(vector0)"
      ],
      "execution_count": 371,
      "outputs": [
        {
          "output_type": "execute_result",
          "data": {
            "text/plain": [
              "453"
            ]
          },
          "metadata": {},
          "execution_count": 371
        }
      ]
    },
    {
      "cell_type": "code",
      "metadata": {
        "id": "4G3V0yeiH0bO",
        "colab": {
          "base_uri": "https://localhost:8080/"
        },
        "outputId": "a4938c16-f537-4849-a12c-b84f50b7f416"
      },
      "source": [
        "#vector0.drop(['Unnamed: 0', 'y','image'], axis=1, inplace=True)\n",
        "vector0.drop(['y','image'], axis=1, inplace=True)"
      ],
      "execution_count": 372,
      "outputs": [
        {
          "output_type": "stream",
          "text": [
            "/usr/local/lib/python3.7/dist-packages/pandas/core/frame.py:4174: SettingWithCopyWarning: \n",
            "A value is trying to be set on a copy of a slice from a DataFrame\n",
            "\n",
            "See the caveats in the documentation: https://pandas.pydata.org/pandas-docs/stable/user_guide/indexing.html#returning-a-view-versus-a-copy\n",
            "  errors=errors,\n"
          ],
          "name": "stderr"
        }
      ]
    },
    {
      "cell_type": "markdown",
      "metadata": {
        "id": "ah-O_j4-IQid"
      },
      "source": [
        "##올바른"
      ]
    },
    {
      "cell_type": "code",
      "metadata": {
        "id": "B8VIJreM5IyC"
      },
      "source": [
        "vector1= data[data['y']==1]"
      ],
      "execution_count": 373,
      "outputs": []
    },
    {
      "cell_type": "code",
      "metadata": {
        "colab": {
          "base_uri": "https://localhost:8080/"
        },
        "id": "7CN6bohnSUTN",
        "outputId": "b37e3b13-7bff-488d-bf07-12de1a4b082d"
      },
      "source": [
        "len(vector1)"
      ],
      "execution_count": 374,
      "outputs": [
        {
          "output_type": "execute_result",
          "data": {
            "text/plain": [
              "1541"
            ]
          },
          "metadata": {},
          "execution_count": 374
        }
      ]
    },
    {
      "cell_type": "code",
      "metadata": {
        "colab": {
          "base_uri": "https://localhost:8080/"
        },
        "id": "YOYzgoUFPk5I",
        "outputId": "80178f63-ef86-4991-ddff-25985689b62e"
      },
      "source": [
        "#vector1.drop(['Unnamed: 0', 'y','image'], axis=1, inplace=True)\n",
        "vector1.drop(['y','image'], axis=1, inplace=True)"
      ],
      "execution_count": 375,
      "outputs": [
        {
          "output_type": "stream",
          "text": [
            "/usr/local/lib/python3.7/dist-packages/pandas/core/frame.py:4174: SettingWithCopyWarning: \n",
            "A value is trying to be set on a copy of a slice from a DataFrame\n",
            "\n",
            "See the caveats in the documentation: https://pandas.pydata.org/pandas-docs/stable/user_guide/indexing.html#returning-a-view-versus-a-copy\n",
            "  errors=errors,\n"
          ],
          "name": "stderr"
        }
      ]
    },
    {
      "cell_type": "markdown",
      "metadata": {
        "id": "D5k00gMhMQGg"
      },
      "source": [
        "#LSTM"
      ]
    },
    {
      "cell_type": "markdown",
      "metadata": {
        "id": "lB_OB93YQYlY"
      },
      "source": [
        "데이터셋 분리"
      ]
    },
    {
      "cell_type": "code",
      "metadata": {
        "id": "Cn-0bNe9NMFR"
      },
      "source": [
        "from sklearn.model_selection import train_test_split"
      ],
      "execution_count": 376,
      "outputs": []
    },
    {
      "cell_type": "code",
      "metadata": {
        "colab": {
          "base_uri": "https://localhost:8080/"
        },
        "id": "ug8L2cgGNk2h",
        "outputId": "f7124c32-9eac-41eb-ef3b-46b627c24fe0"
      },
      "source": [
        "vector0 = np.array(vector0)\n",
        "vector1 = np.array(vector1)\n",
        "len(vector0), len(vector1)\n",
        "vector0.shape, vector1.shape"
      ],
      "execution_count": 377,
      "outputs": [
        {
          "output_type": "execute_result",
          "data": {
            "text/plain": [
              "((453, 21), (1541, 21))"
            ]
          },
          "metadata": {},
          "execution_count": 377
        }
      ]
    },
    {
      "cell_type": "code",
      "metadata": {
        "id": "F0SzKurVGjl0"
      },
      "source": [
        "#x0_train.shape, x0_test.shape\n",
        "x0_test = vector0"
      ],
      "execution_count": 378,
      "outputs": []
    },
    {
      "cell_type": "code",
      "metadata": {
        "id": "_dYhvL6SjcSl"
      },
      "source": [
        "x1_train = vector1[:int(0.7*len(vector1))]\n",
        "x1_test = vector1[int(0.7*len(vector1)):]"
      ],
      "execution_count": 379,
      "outputs": []
    },
    {
      "cell_type": "code",
      "metadata": {
        "colab": {
          "base_uri": "https://localhost:8080/"
        },
        "id": "TjgKrExTkXgL",
        "outputId": "d1c6a00c-2106-4b97-d9ca-d48e21234b82"
      },
      "source": [
        "x1_train.shape, x1_test.shape"
      ],
      "execution_count": 380,
      "outputs": [
        {
          "output_type": "execute_result",
          "data": {
            "text/plain": [
              "((1078, 21), (463, 21))"
            ]
          },
          "metadata": {},
          "execution_count": 380
        }
      ]
    },
    {
      "cell_type": "markdown",
      "metadata": {
        "id": "xB_XwtxjXOvI"
      },
      "source": [
        "비정상 :1, 정상: 0 으로 testset 구성"
      ]
    },
    {
      "cell_type": "code",
      "metadata": {
        "id": "JxTx9e42PxEg"
      },
      "source": [
        "x0_test_tot = np.hstack((x0_test, np.ones(x0_test.shape[0]).reshape(-1,1)))\n",
        "x1_test_tot = np.hstack((x1_test, np.zeros(x1_test.shape[0]).reshape(-1,1)))\n",
        "test_tot = np.vstack((x0_test_tot, x1_test_tot))"
      ],
      "execution_count": 381,
      "outputs": []
    },
    {
      "cell_type": "code",
      "metadata": {
        "id": "xAyNVgrgOOj1"
      },
      "source": [
        "x_test, x_valid, y_test, y_valid = train_test_split(test_tot[:,:-1], test_tot[:,-1], test_size=0.3)"
      ],
      "execution_count": 382,
      "outputs": []
    },
    {
      "cell_type": "markdown",
      "metadata": {
        "id": "z-1Td054US1t"
      },
      "source": [
        "정규화"
      ]
    },
    {
      "cell_type": "code",
      "metadata": {
        "id": "XxAK-5i6s_pp"
      },
      "source": [
        "x1_train = scaler.fit_transform(pd.DataFrame(x1_train))\n",
        "x1_train = np.array(x1_train)"
      ],
      "execution_count": 383,
      "outputs": []
    },
    {
      "cell_type": "code",
      "metadata": {
        "id": "agYUv3L2SCZx"
      },
      "source": [
        "x_test = scaler.fit_transform(pd.DataFrame(x_test))\n",
        "x_test = np.array(x_test)"
      ],
      "execution_count": 384,
      "outputs": []
    },
    {
      "cell_type": "code",
      "metadata": {
        "id": "BbgzIKRScmTj"
      },
      "source": [
        "x_valid = scaler.fit_transform(pd.DataFrame(x_valid))\n",
        "x_valid = np.array(x_valid)"
      ],
      "execution_count": 385,
      "outputs": []
    },
    {
      "cell_type": "code",
      "metadata": {
        "colab": {
          "base_uri": "https://localhost:8080/"
        },
        "id": "etQFpobdQGh0",
        "outputId": "35c34747-bfc7-4e06-b87b-ce57a84dea47"
      },
      "source": [
        "print(x1_train.shape, x_test.shape, x_valid.shape)"
      ],
      "execution_count": 386,
      "outputs": [
        {
          "output_type": "stream",
          "text": [
            "(1078, 21) (641, 21) (275, 21)\n"
          ],
          "name": "stdout"
        }
      ]
    },
    {
      "cell_type": "markdown",
      "metadata": {
        "id": "iP7G2ffBQaea"
      },
      "source": [
        "데이터 차원 변경"
      ]
    },
    {
      "cell_type": "code",
      "metadata": {
        "id": "fPV6Vc3IQIns"
      },
      "source": [
        "x1_train =x1_train.reshape(x1_train.shape[0],1,x1_train.shape[1])\n",
        "x_test =x_test.reshape(x_test.shape[0],1,x_test.shape[1])\n",
        "x_valid =x_valid.reshape(x_valid.shape[0],1,x_valid.shape[1])"
      ],
      "execution_count": 387,
      "outputs": []
    },
    {
      "cell_type": "code",
      "metadata": {
        "colab": {
          "base_uri": "https://localhost:8080/"
        },
        "id": "t-QotlneSM6_",
        "outputId": "0281386d-6035-4e73-fd8d-c54f249f44ef"
      },
      "source": [
        "print(x1_train.shape,x_test.shape,x_valid.shape)"
      ],
      "execution_count": 388,
      "outputs": [
        {
          "output_type": "stream",
          "text": [
            "(1078, 1, 21) (641, 1, 21) (275, 1, 21)\n"
          ],
          "name": "stdout"
        }
      ]
    },
    {
      "cell_type": "markdown",
      "metadata": {
        "id": "UL2x2mmvSKPK"
      },
      "source": [
        "신경망 구축"
      ]
    },
    {
      "cell_type": "code",
      "metadata": {
        "id": "nw6Jl0FrSsZA"
      },
      "source": [
        "from keras import regularizers\n",
        "from keras.models import Model\n",
        "from keras.callbacks import EarlyStopping\n",
        "from keras.layers import Input, Dropout, Dense, LSTM, TimeDistributed, RepeatVector"
      ],
      "execution_count": 389,
      "outputs": []
    },
    {
      "cell_type": "code",
      "metadata": {
        "id": "02slthVOQldb"
      },
      "source": [
        "def autoencoder_model(X):\n",
        "    inputs = Input(shape=(X.shape[1], X.shape[2]))\n",
        "    # return_sequences 가 True면 각 time_steps의 셀이 모두 출력으로 내보냄 , False 면 최종 셀만 출력으로 내보냄\n",
        "    L1 = LSTM(140, activation='sigmoid', return_sequences=True, \n",
        "              kernel_regularizer=regularizers.l2(0.00))(inputs)\n",
        "    L2 = LSTM(70, activation='sigmoid', return_sequences=False)(L1)\n",
        "    L3 = RepeatVector(X.shape[1])(L2)\n",
        "    L4 = LSTM(140, activation='sigmoid', return_sequences=True)(L3)\n",
        "    L5 = LSTM(70, activation='sigmoid', return_sequences=True)(L4)\n",
        "    output = TimeDistributed(Dense(X.shape[2]))(L5)    \n",
        "    model = Model(inputs=inputs, outputs=output)\n",
        "    return model"
      ],
      "execution_count": 390,
      "outputs": []
    },
    {
      "cell_type": "code",
      "metadata": {
        "colab": {
          "base_uri": "https://localhost:8080/"
        },
        "id": "8OWO0n9iTqaG",
        "outputId": "ecc7b3c3-c137-415a-8fe5-7c59b93f145f"
      },
      "source": [
        "model = autoencoder_model(x1_train)\n",
        "model.compile(optimizer='adam',loss='mse')\n",
        "model.summary()"
      ],
      "execution_count": 391,
      "outputs": [
        {
          "output_type": "stream",
          "text": [
            "Model: \"model_18\"\n",
            "_________________________________________________________________\n",
            "Layer (type)                 Output Shape              Param #   \n",
            "=================================================================\n",
            "input_19 (InputLayer)        [(None, 1, 21)]           0         \n",
            "_________________________________________________________________\n",
            "lstm_72 (LSTM)               (None, 1, 140)            90720     \n",
            "_________________________________________________________________\n",
            "lstm_73 (LSTM)               (None, 70)                59080     \n",
            "_________________________________________________________________\n",
            "repeat_vector_18 (RepeatVect (None, 1, 70)             0         \n",
            "_________________________________________________________________\n",
            "lstm_74 (LSTM)               (None, 1, 140)            118160    \n",
            "_________________________________________________________________\n",
            "lstm_75 (LSTM)               (None, 1, 70)             59080     \n",
            "_________________________________________________________________\n",
            "time_distributed_18 (TimeDis (None, 1, 21)             1491      \n",
            "=================================================================\n",
            "Total params: 328,531\n",
            "Trainable params: 328,531\n",
            "Non-trainable params: 0\n",
            "_________________________________________________________________\n"
          ],
          "name": "stdout"
        }
      ]
    },
    {
      "cell_type": "code",
      "metadata": {
        "id": "mWSIYzNlT17o"
      },
      "source": [
        "model = autoencoder_model(x1_train)\n",
        "model.compile(optimizer='adam',loss='mse')"
      ],
      "execution_count": 392,
      "outputs": []
    },
    {
      "cell_type": "code",
      "metadata": {
        "colab": {
          "base_uri": "https://localhost:8080/"
        },
        "id": "53lZUq7MUSiP",
        "outputId": "704be0db-7058-4987-9dcd-4d40cb4f0674"
      },
      "source": [
        "epochs=100\n",
        "batch_size=10\n",
        "callbacks=[EarlyStopping(monitor='val_loss',patience=5)]\n",
        "history = model.fit(x1_train, x1_train, epochs=epochs, batch_size= batch_size,callbacks = callbacks, validation_split=0.05).history"
      ],
      "execution_count": 393,
      "outputs": [
        {
          "output_type": "stream",
          "text": [
            "Epoch 1/100\n",
            "103/103 [==============================] - 6s 19ms/step - loss: 1.0437 - val_loss: 0.3540\n",
            "Epoch 2/100\n",
            "103/103 [==============================] - 1s 10ms/step - loss: 0.9940 - val_loss: 0.2349\n",
            "Epoch 3/100\n",
            "103/103 [==============================] - 1s 9ms/step - loss: 0.8084 - val_loss: 0.1368\n",
            "Epoch 4/100\n",
            "103/103 [==============================] - 1s 9ms/step - loss: 0.6697 - val_loss: 0.0970\n",
            "Epoch 5/100\n",
            "103/103 [==============================] - 1s 10ms/step - loss: 0.5790 - val_loss: 0.0882\n",
            "Epoch 6/100\n",
            "103/103 [==============================] - 1s 9ms/step - loss: 0.5167 - val_loss: 0.0768\n",
            "Epoch 7/100\n",
            "103/103 [==============================] - 1s 9ms/step - loss: 0.4811 - val_loss: 0.0801\n",
            "Epoch 8/100\n",
            "103/103 [==============================] - 1s 9ms/step - loss: 0.4546 - val_loss: 0.0735\n",
            "Epoch 9/100\n",
            "103/103 [==============================] - 1s 9ms/step - loss: 0.4381 - val_loss: 0.0720\n",
            "Epoch 10/100\n",
            "103/103 [==============================] - 1s 9ms/step - loss: 0.4279 - val_loss: 0.0723\n",
            "Epoch 11/100\n",
            "103/103 [==============================] - 1s 9ms/step - loss: 0.4240 - val_loss: 0.0702\n",
            "Epoch 12/100\n",
            "103/103 [==============================] - 1s 9ms/step - loss: 0.4138 - val_loss: 0.0713\n",
            "Epoch 13/100\n",
            "103/103 [==============================] - 1s 9ms/step - loss: 0.4064 - val_loss: 0.0727\n",
            "Epoch 14/100\n",
            "103/103 [==============================] - 1s 9ms/step - loss: 0.4021 - val_loss: 0.0693\n",
            "Epoch 15/100\n",
            "103/103 [==============================] - 1s 10ms/step - loss: 0.3973 - val_loss: 0.0700\n",
            "Epoch 16/100\n",
            "103/103 [==============================] - 1s 9ms/step - loss: 0.3912 - val_loss: 0.0704\n",
            "Epoch 17/100\n",
            "103/103 [==============================] - 1s 9ms/step - loss: 0.3738 - val_loss: 0.0616\n",
            "Epoch 18/100\n",
            "103/103 [==============================] - 1s 9ms/step - loss: 0.3541 - val_loss: 0.0563\n",
            "Epoch 19/100\n",
            "103/103 [==============================] - 1s 9ms/step - loss: 0.3524 - val_loss: 0.0629\n",
            "Epoch 20/100\n",
            "103/103 [==============================] - 1s 9ms/step - loss: 0.3392 - val_loss: 0.0579\n",
            "Epoch 21/100\n",
            "103/103 [==============================] - 1s 9ms/step - loss: 0.3262 - val_loss: 0.0618\n",
            "Epoch 22/100\n",
            "103/103 [==============================] - 1s 9ms/step - loss: 0.3193 - val_loss: 0.0580\n",
            "Epoch 23/100\n",
            "103/103 [==============================] - 1s 9ms/step - loss: 0.3125 - val_loss: 0.0585\n"
          ],
          "name": "stdout"
        }
      ]
    },
    {
      "cell_type": "code",
      "metadata": {
        "id": "TLOZT9UjlDnL"
      },
      "source": [
        "import seaborn as sns\n",
        "sns.set(color_codes=True)\n",
        "import matplotlib.pyplot as plt\n",
        "%matplotlib inline"
      ],
      "execution_count": 394,
      "outputs": []
    },
    {
      "cell_type": "code",
      "metadata": {
        "id": "YoLeVXMyUrFd",
        "colab": {
          "base_uri": "https://localhost:8080/",
          "height": 413
        },
        "outputId": "5cb3ac8f-b599-4a85-f229-3becded0a989"
      },
      "source": [
        "# 학습 손실 시각화\n",
        "fig, ax = plt.subplots(figsize=(14, 6), dpi=80)\n",
        "ax.plot(history['val_loss'], 'b', label='Train', linewidth=2)\n",
        "ax.plot(history['loss'], 'r', label='Validation', linewidth=2)\n",
        "ax.set_title('Model loss', fontsize=16)\n",
        "ax.set_ylabel('Loss (mae)')\n",
        "ax.set_xlabel('Epoch')\n",
        "ax.legend(loc='upper right')\n",
        "plt.show()"
      ],
      "execution_count": 395,
      "outputs": [
        {
          "output_type": "display_data",
          "data": {
            "image/png": "[encoded data removed]",
            "text/plain": [
              "<Figure size 1120x480 with 1 Axes>"
            ]
          },
          "metadata": {
            "needs_background": "light"
          }
        }
      ]
    },
    {
      "cell_type": "code",
      "metadata": {
        "id": "1Qn-f0L2oOW7"
      },
      "source": [
        "from sklearn import metrics"
      ],
      "execution_count": 396,
      "outputs": []
    },
    {
      "cell_type": "markdown",
      "metadata": {
        "id": "Rj9n-y0OdB7y"
      },
      "source": [
        "validation"
      ]
    },
    {
      "cell_type": "code",
      "metadata": {
        "colab": {
          "base_uri": "https://localhost:8080/",
          "height": 393
        },
        "id": "JmEimWqZmooQ",
        "outputId": "6406585e-31f6-40a9-c089-7e4799764f15"
      },
      "source": [
        "#검증 데이터 입력\n",
        "predictions_3d = model.predict(x_valid)\n",
        "predictions = predictions_3d.reshape(predictions_3d.shape[0], predictions_3d.shape[2])\n",
        "x_valid_ = x_valid.reshape(x_valid.shape[0], x_valid.shape[2])\n",
        "\n",
        "#재구성 손실 값 도출\n",
        "mse = np.mean(np.power(x_valid_ - predictions, 2), axis = 1)\n",
        "\n",
        "error_df = pd.DataFrame({'Reconstruction_error':mse, 'True_class': y_valid})\n",
        "\n",
        "precision_rt, recall_rt, threshold_rt = metrics.precision_recall_curve(error_df['True_class'], error_df['Reconstruction_error']) ##auc curve 사용 말고 다른 방법\n",
        "\n",
        "#모델 최적의 threshold 값 찾기\n",
        "best_cnt_dic = abs(precision_rt - recall_rt)\n",
        "threshold_fixed = threshold_rt[np.argmin(best_cnt_dic)]  #둘의 차가 최소가 될때가 threshold\n",
        "print(np.argmin(best_cnt_dic))\n",
        "print('precision: ', precision_rt[np.argmin(best_cnt_dic)], ', recall: ', recall_rt[np.argmin(best_cnt_dic)])\n",
        "print('threshold: ', threshold_fixed)\n",
        "\n",
        "plt.figure(figsize=(8,5))\n",
        "plt.plot(threshold_rt, precision_rt[1:], label = 'Precision')\n",
        "plt.plot(threshold_rt, recall_rt[1:], label = 'Recall')\n",
        "plt.xlabel('Threshold'); plt.ylabel('Precision/Recall')\n",
        "plt.legend()\n",
        "plt.show()"
      ],
      "execution_count": 397,
      "outputs": [
        {
          "output_type": "stream",
          "text": [
            "130\n",
            "precision:  0.5793103448275863 , recall:  0.5793103448275863\n",
            "threshold:  0.09313015721729083\n"
          ],
          "name": "stdout"
        },
        {
          "output_type": "display_data",
          "data": {
            "image/png": "[encoded data removed]",
            "text/plain": [
              "<Figure size 576x360 with 1 Axes>"
            ]
          },
          "metadata": {
            "needs_background": "light"
          }
        }
      ]
    },
    {
      "cell_type": "markdown",
      "metadata": {
        "id": "y2QJ4zymsDAh"
      },
      "source": [
        "모델 성능 평가"
      ]
    },
    {
      "cell_type": "code",
      "metadata": {
        "colab": {
          "base_uri": "https://localhost:8080/",
          "height": 301
        },
        "id": "7gZIkGTspJc6",
        "outputId": "dc4a903a-af0c-4561-8410-6db495d51697"
      },
      "source": [
        "from sklearn.metrics import roc_curve, auc\n",
        "\n",
        "fpr, tpr, thresholds = roc_curve(y_valid, mse)\n",
        "roc_auc = auc(fpr, tpr)\n",
        "\n",
        "plt.title('Receiver Operating Characteristic')\n",
        "plt.plot(fpr, tpr, label = 'AUC = %0.4f' % roc_auc, linewidth=5)\n",
        "plt.legend(loc = 'lower right')\n",
        "plt.plot([0,1], [0,1],'r--')\n",
        "plt.xlim([-0.001,1])\n",
        "plt.ylim([0,1.001])\n",
        "plt.ylabel('True positive rate')\n",
        "plt.xlabel('False positive rate')\n",
        "plt.show()"
      ],
      "execution_count": 398,
      "outputs": [
        {
          "output_type": "display_data",
          "data": {
            "image/png": "[encoded data removed]",
            "text/plain": [
              "<Figure size 432x288 with 1 Axes>"
            ]
          },
          "metadata": {
            "needs_background": "light"
          }
        }
      ]
    },
    {
      "cell_type": "markdown",
      "metadata": {
        "id": "CEqBmiGEdFLN"
      },
      "source": [
        "prediction"
      ]
    },
    {
      "cell_type": "code",
      "metadata": {
        "colab": {
          "base_uri": "https://localhost:8080/",
          "height": 571
        },
        "id": "Tjw-esXllJxA",
        "outputId": "e463725f-2394-45b5-c61b-4dc9cd11c1bb"
      },
      "source": [
        "test_predictions_3d = model.predict(x_test)\n",
        "test_predictions = test_predictions_3d.reshape(test_predictions_3d.shape[0], test_predictions_3d.shape[2])\n",
        "x_test_ = x_test.reshape(x_test.shape[0], x_test.shape[2])\n",
        "mse = np.mean(np.power(x_test_ - test_predictions, 2), axis=1)\n",
        "\n",
        "error_df = pd.DataFrame({'Reconstruction_error': mse, 'True_class': y_test})\n",
        "print(error_df)\n",
        "\n",
        "pred_y = [1 if e > threshold_fixed else 0 for e in error_df['Reconstruction_error'].values]\n",
        "conf_matrix = metrics.confusion_matrix(error_df['True_class'], pred_y)\n",
        "\n",
        "accuracy = (conf_matrix[0][0]+ conf_matrix[1][[1]])/conf_matrix.sum()\n",
        "print('accuracy: ',accuracy)\n",
        "\n",
        "sns.heatmap(conf_matrix, xticklabels=['Normal','Abnormal'], yticklabels=['Normal', 'Abnormal'], annot=True, fmt='d', annot_kws={'size':10})\n",
        "b,t = plt.ylim()\n",
        "b+=0.5\n",
        "t-=0.5\n",
        "plt.ylim(b,t)\n",
        "plt.title('Confusion Matrix')\n",
        "plt.xlabel('Predicted Class'); plt.ylabel('True Class')\n",
        "plt.show()"
      ],
      "execution_count": 399,
      "outputs": [
        {
          "output_type": "stream",
          "text": [
            "     Reconstruction_error  True_class\n",
            "0                0.062602         0.0\n",
            "1                0.089438         1.0\n",
            "2                0.196181         0.0\n",
            "3                0.112364         1.0\n",
            "4                0.029657         1.0\n",
            "..                    ...         ...\n",
            "636              0.339335         0.0\n",
            "637              0.043137         0.0\n",
            "638              0.628504         0.0\n",
            "639              0.048780         0.0\n",
            "640              0.084754         1.0\n",
            "\n",
            "[641 rows x 2 columns]\n",
            "accuracy:  [0.53822153]\n"
          ],
          "name": "stdout"
        },
        {
          "output_type": "display_data",
          "data": {
            "image/png": "[encoded data removed]",
            "text/plain": [
              "<Figure size 432x288 with 2 Axes>"
            ]
          },
          "metadata": {
            "needs_background": "light"
          }
        }
      ]
    },
    {
      "cell_type": "code",
      "metadata": {
        "colab": {
          "base_uri": "https://localhost:8080/",
          "height": 301
        },
        "id": "R1RPxsf9mVa4",
        "outputId": "b992de88-3c12-4cbe-c222-e4bc430fa04c"
      },
      "source": [
        "groups = error_df.groupby('True_class')\n",
        "fig, ax = plt.subplots()\n",
        "\n",
        "for name, group in groups:\n",
        "  ax.plot(group.index, group.Reconstruction_error, marker = 'o', ms=3.5, linestyle='',\n",
        "          label='Abnormal' if name ==1 else 'Normal')\n",
        "\n",
        "ax.hlines(threshold_fixed, ax.get_xlim()[0], ax.get_xlim()[1], colors ='r', zorder=100, label ='Threshold')\n",
        "ax.legend()\n",
        "plt.title(\"Reconstruction error for different classes\")  \n",
        "plt.ylabel(\"Reconstrction error\")\n",
        "plt.xlabel(\"Data point index\")\n",
        "plt.show()"
      ],
      "execution_count": 400,
      "outputs": [
        {
          "output_type": "display_data",
          "data": {
            "image/png": "[encoded data removed]",
            "text/plain": [
              "<Figure size 432x288 with 1 Axes>"
            ]
          },
          "metadata": {
            "needs_background": "light"
          }
        }
      ]
    },
    {
      "cell_type": "markdown",
      "metadata": {
        "id": "3oqHQzRMYdkl"
      },
      "source": [
        "새로운 데이터 예측"
      ]
    },
    {
      "cell_type": "code",
      "metadata": {
        "colab": {
          "base_uri": "https://localhost:8080/"
        },
        "id": "2BgK3si4sw1T",
        "outputId": "673b2b7c-09fd-4953-ad37-c019285e8623"
      },
      "source": [
        "new_x1= np.array(new_x1)\n",
        "new_x1 =new_x1.reshape(new_x1.shape[0],1,new_x1.shape[1])\n",
        "\n",
        "new_x1.shape"
      ],
      "execution_count": 401,
      "outputs": [
        {
          "output_type": "execute_result",
          "data": {
            "text/plain": [
              "(15, 1, 21)"
            ]
          },
          "metadata": {},
          "execution_count": 401
        }
      ]
    },
    {
      "cell_type": "code",
      "metadata": {
        "id": "SKjzhbUHrx72",
        "colab": {
          "base_uri": "https://localhost:8080/"
        },
        "outputId": "73562faa-3ebd-43eb-fca6-23ad1953da11"
      },
      "source": [
        "#올바른 젓가락질\n",
        "test_predictions_3d = model.predict(new_x1)\n",
        "test_predictions = test_predictions_3d.reshape(test_predictions_3d.shape[0], test_predictions_3d.shape[2])\n",
        "x_test_ = new_x1.reshape(new_x1.shape[0], new_x1.shape[2])\n",
        "mse = np.mean(np.power(x_test_ - test_predictions, 2), axis=1)\n",
        "\n",
        "error_df = pd.DataFrame({'Reconstruction_error': mse})\n",
        "\n",
        "print(error_df)\n",
        "\n",
        "pred_y = [1 if e > threshold_fixed else 0 for e in error_df['Reconstruction_error'].values]\n",
        "\n",
        "print(pred_y)\n",
        "\n",
        "correct=0\n",
        "notcorrect=0\n",
        "for i in pred_y:\n",
        "  if i == 0 :\n",
        "    correct+=1\n",
        "  else:\n",
        "    notcorrect+=1\n",
        "\n",
        "ratio_o=correct/len(pred_y)\n",
        "ratio_x=notcorrect/len(pred_y)\n",
        "if correct > notcorrect :\n",
        "  print(\"{0:0.3f} :: 올바른 젓가락질입니다.\".format(ratio_o))\n",
        "elif correct == notcorrect:\n",
        "  print(\"재촬영해주세요\")\n",
        "else:\n",
        "  print(\"{0:0.3f} :: 올바르지 않은 젓가락질입니다.\".format(ratio_x))"
      ],
      "execution_count": 402,
      "outputs": [
        {
          "output_type": "stream",
          "text": [
            "    Reconstruction_error\n",
            "0               0.941727\n",
            "1               0.336428\n",
            "2               0.520273\n",
            "3               1.036012\n",
            "4               0.666044\n",
            "5               1.078733\n",
            "6               0.629003\n",
            "7               0.304194\n",
            "8               0.275572\n",
            "9               0.436320\n",
            "10              0.458659\n",
            "11              0.250757\n",
            "12              0.340253\n",
            "13              0.447805\n",
            "14              0.870947\n",
            "[1, 1, 1, 1, 1, 1, 1, 1, 1, 1, 1, 1, 1, 1, 1]\n",
            "1.000 :: 올바르지 않은 젓가락질입니다.\n"
          ],
          "name": "stdout"
        }
      ]
    },
    {
      "cell_type": "code",
      "metadata": {
        "colab": {
          "base_uri": "https://localhost:8080/"
        },
        "id": "NmMfLVBu2u-a",
        "outputId": "92964a0d-41c4-4848-fc2e-1a3c1b7f5051"
      },
      "source": [
        "new_x2= np.array(new_x2)\n",
        "new_x2 =new_x2.reshape(new_x2.shape[0],1,new_x2.shape[1])\n",
        "\n",
        "new_x2.shape"
      ],
      "execution_count": 403,
      "outputs": [
        {
          "output_type": "execute_result",
          "data": {
            "text/plain": [
              "(36, 1, 21)"
            ]
          },
          "metadata": {},
          "execution_count": 403
        }
      ]
    },
    {
      "cell_type": "code",
      "metadata": {
        "colab": {
          "base_uri": "https://localhost:8080/"
        },
        "id": "Rf_rMOIF21N_",
        "outputId": "100a692b-b805-47cf-e2a8-012eee2f7712"
      },
      "source": [
        "#올바르지 않은\n",
        "test_predictions_3d = model.predict(new_x2)\n",
        "test_predictions = test_predictions_3d.reshape(test_predictions_3d.shape[0], test_predictions_3d.shape[2])\n",
        "x_test_ = new_x2.reshape(new_x2.shape[0], new_x2.shape[2])\n",
        "mse = np.mean(np.power(x_test_ - test_predictions, 2), axis=1)\n",
        "\n",
        "error_df = pd.DataFrame({'Reconstruction_error': mse})\n",
        "\n",
        "print(error_df)\n",
        "\n",
        "pred_y = [1 if e > threshold_fixed else 0 for e in error_df['Reconstruction_error'].values]\n",
        "\n",
        "print(pred_y)\n",
        "\n",
        "correct=0\n",
        "notcorrect=0\n",
        "for i in pred_y:\n",
        "  if i == 0 :\n",
        "    correct+=1\n",
        "  else:\n",
        "    notcorrect+=1\n",
        "\n",
        "ratio_o=correct/len(pred_y)\n",
        "ratio_x=notcorrect/len(pred_y)\n",
        "if correct > notcorrect :\n",
        "  print(\"{0:0.3f} :: 올바른 젓가락질입니다.\".format(ratio_o))\n",
        "elif correct == notcorrect:\n",
        "  print(\"재촬영해주세요\")\n",
        "else:\n",
        "  print(\"{0:0.3f} :: 올바르지 않은 젓가락질입니다.\".format(ratio_x))"
      ],
      "execution_count": 404,
      "outputs": [
        {
          "output_type": "stream",
          "text": [
            "    Reconstruction_error\n",
            "0               0.411477\n",
            "1               0.222686\n",
            "2               0.111932\n",
            "3               0.750940\n",
            "4               0.212638\n",
            "5               0.131527\n",
            "6               0.143938\n",
            "7               0.208736\n",
            "8               0.110883\n",
            "9               0.268073\n",
            "10              0.101336\n",
            "11              0.289169\n",
            "12              0.481431\n",
            "13              0.356707\n",
            "14              0.479055\n",
            "15              0.612688\n",
            "16              0.218825\n",
            "17              0.245352\n",
            "18              0.228353\n",
            "19              0.464155\n",
            "20              0.444305\n",
            "21              0.428642\n",
            "22              0.305174\n",
            "23              0.168791\n",
            "24              0.201391\n",
            "25              2.013754\n",
            "26              0.639944\n",
            "27              0.295159\n",
            "28              0.376368\n",
            "29              0.757783\n",
            "30              0.212843\n",
            "31              0.231690\n",
            "32              0.337255\n",
            "33              0.893414\n",
            "34              0.909802\n",
            "35              0.353253\n",
            "[1, 1, 1, 1, 1, 1, 1, 1, 1, 1, 1, 1, 1, 1, 1, 1, 1, 1, 1, 1, 1, 1, 1, 1, 1, 1, 1, 1, 1, 1, 1, 1, 1, 1, 1, 1]\n",
            "1.000 :: 올바르지 않은 젓가락질입니다.\n"
          ],
          "name": "stdout"
        }
      ]
    },
    {
      "cell_type": "markdown",
      "metadata": {
        "id": "iE2wL_IZwkWm"
      },
      "source": [
        "[sin] 0.56 0.48 \\\n",
        "[d_ratio & sin] 0.66 0.56 \\\n",
        "[d_ratio] 0.65 0.55 \\\n",
        "[all] 0.63 0.56 \\\n",
        "[normed_min] 0.75 0.62"
      ]
    },
    {
      "cell_type": "code",
      "metadata": {
        "id": "B9IU5gaIXz-u"
      },
      "source": [
        ""
      ],
      "execution_count": 404,
      "outputs": []
    }
  ]
}