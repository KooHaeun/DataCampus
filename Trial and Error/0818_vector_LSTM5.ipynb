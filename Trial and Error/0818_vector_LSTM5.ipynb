{
  "nbformat": 4,
  "nbformat_minor": 0,
  "metadata": {
    "colab": {
      "name": "0818_vector_LSTM4.ipynb",
      "provenance": [],
      "collapsed_sections": []
    },
    "kernelspec": {
      "name": "python3",
      "display_name": "Python 3"
    },
    "language_info": {
      "name": "python"
    },
    "accelerator": "GPU"
  },
  "cells": [
    {
      "cell_type": "markdown",
      "metadata": {
        "id": "9HDIxvnFlioV"
      },
      "source": [
        "#새로운 feature로 시도"
      ]
    },
    {
      "cell_type": "code",
      "metadata": {
        "colab": {
          "base_uri": "https://localhost:8080/"
        },
        "id": "nNniS9GBH4g6",
        "outputId": "4421d52c-4b05-4edc-8d66-4d23498571ea"
      },
      "source": [
        "from google.colab import drive\n",
        "drive.mount('/content/drive')"
      ],
      "execution_count": 313,
      "outputs": [
        {
          "output_type": "stream",
          "text": [
            "Drive already mounted at /content/drive; to attempt to forcibly remount, call drive.mount(\"/content/drive\", force_remount=True).\n"
          ],
          "name": "stdout"
        }
      ]
    },
    {
      "cell_type": "code",
      "metadata": {
        "id": "l-wKvH23IXGO"
      },
      "source": [
        "import pandas as pd\n",
        "import numpy as np"
      ],
      "execution_count": 314,
      "outputs": []
    },
    {
      "cell_type": "markdown",
      "metadata": {
        "id": "m56HufPcINeG"
      },
      "source": [
        "##올바르지 않은"
      ]
    },
    {
      "cell_type": "code",
      "metadata": {
        "id": "OlF4eLFJH_PE"
      },
      "source": [
        "path1='/content/drive/Shareddrives/데이터 청년 캠퍼스/젓가락질 데이터/새 젓가락질 데이터/excel 파일/vector/newdata_all_0818_ver1_final.xlsx'"
      ],
      "execution_count": 315,
      "outputs": []
    },
    {
      "cell_type": "code",
      "metadata": {
        "id": "uBJLW85cIUzM"
      },
      "source": [
        "data= pd.read_excel(path1)"
      ],
      "execution_count": 316,
      "outputs": []
    },
    {
      "cell_type": "code",
      "metadata": {
        "id": "Kpyzb-mqlVhd"
      },
      "source": [
        "#data.drop(['z_4-3','z_7-6','z_8-7','z_11-10','z_12-11','z_15-14','z_16-15'], axis=1)"
      ],
      "execution_count": 317,
      "outputs": []
    },
    {
      "cell_type": "code",
      "metadata": {
        "id": "rHMNOdH-fAEh"
      },
      "source": [
        "vector0= data[data['y']==0]"
      ],
      "execution_count": 318,
      "outputs": []
    },
    {
      "cell_type": "code",
      "metadata": {
        "colab": {
          "base_uri": "https://localhost:8080/"
        },
        "id": "u_KGwC8Dl7Ej",
        "outputId": "d6213ebb-8acf-443a-891b-9b031e774378"
      },
      "source": [
        "len(vector0)"
      ],
      "execution_count": 319,
      "outputs": [
        {
          "output_type": "execute_result",
          "data": {
            "text/plain": [
              "458"
            ]
          },
          "metadata": {
            "tags": []
          },
          "execution_count": 319
        }
      ]
    },
    {
      "cell_type": "code",
      "metadata": {
        "id": "4G3V0yeiH0bO",
        "colab": {
          "base_uri": "https://localhost:8080/"
        },
        "outputId": "fb57994f-9515-45e4-af7b-f0e5cfeb77a3"
      },
      "source": [
        "vector0.drop(['y','image'], axis=1, inplace=True)"
      ],
      "execution_count": 320,
      "outputs": [
        {
          "output_type": "stream",
          "text": [
            "/usr/local/lib/python3.7/dist-packages/pandas/core/frame.py:4174: SettingWithCopyWarning: \n",
            "A value is trying to be set on a copy of a slice from a DataFrame\n",
            "\n",
            "See the caveats in the documentation: https://pandas.pydata.org/pandas-docs/stable/user_guide/indexing.html#returning-a-view-versus-a-copy\n",
            "  errors=errors,\n"
          ],
          "name": "stderr"
        }
      ]
    },
    {
      "cell_type": "code",
      "metadata": {
        "id": "HyKwdJNkOwUD"
      },
      "source": [
        "from sklearn.preprocessing import MinMaxScaler\n",
        "scaler = MinMaxScaler()\n",
        "vector0_=scaler.fit_transform(vector0)"
      ],
      "execution_count": 321,
      "outputs": []
    },
    {
      "cell_type": "code",
      "metadata": {
        "colab": {
          "base_uri": "https://localhost:8080/"
        },
        "id": "jVuS-C3mQ1TA",
        "outputId": "dabe9db3-7242-4f01-e992-b0feb1936a7e"
      },
      "source": [
        "vector0_"
      ],
      "execution_count": 322,
      "outputs": [
        {
          "output_type": "execute_result",
          "data": {
            "text/plain": [
              "array([[0.16947118, 0.15200896, 0.39047881, ..., 0.49671975, 0.23276515,\n",
              "        0.3817695 ],\n",
              "       [0.19417795, 0.19715325, 0.46824719, ..., 0.58014562, 0.21369782,\n",
              "        0.29625631],\n",
              "       [0.2048083 , 0.19527092, 0.35136478, ..., 0.64454432, 0.21425322,\n",
              "        0.23642054],\n",
              "       ...,\n",
              "       [0.66370591, 0.        , 0.36603886, ..., 0.        , 0.34821892,\n",
              "        0.36221497],\n",
              "       [0.65769222, 0.15687445, 0.78970941, ..., 0.27839815, 0.19667352,\n",
              "        0.03452838],\n",
              "       [0.79786835, 0.1956777 , 0.5280553 , ..., 0.26505607, 0.36226694,\n",
              "        0.00995019]])"
            ]
          },
          "metadata": {
            "tags": []
          },
          "execution_count": 322
        }
      ]
    },
    {
      "cell_type": "markdown",
      "metadata": {
        "id": "ah-O_j4-IQid"
      },
      "source": [
        "##올바른"
      ]
    },
    {
      "cell_type": "code",
      "metadata": {
        "id": "B8VIJreM5IyC"
      },
      "source": [
        "vector1= data[data['y']==1]"
      ],
      "execution_count": 323,
      "outputs": []
    },
    {
      "cell_type": "code",
      "metadata": {
        "colab": {
          "base_uri": "https://localhost:8080/"
        },
        "id": "YOYzgoUFPk5I",
        "outputId": "92aa1af2-edc8-4e26-864e-89c097806108"
      },
      "source": [
        "vector1.drop(['y','image'], axis=1, inplace=True)"
      ],
      "execution_count": 324,
      "outputs": [
        {
          "output_type": "stream",
          "text": [
            "/usr/local/lib/python3.7/dist-packages/pandas/core/frame.py:4174: SettingWithCopyWarning: \n",
            "A value is trying to be set on a copy of a slice from a DataFrame\n",
            "\n",
            "See the caveats in the documentation: https://pandas.pydata.org/pandas-docs/stable/user_guide/indexing.html#returning-a-view-versus-a-copy\n",
            "  errors=errors,\n"
          ],
          "name": "stderr"
        }
      ]
    },
    {
      "cell_type": "code",
      "metadata": {
        "id": "xnxORBPfQCZw"
      },
      "source": [
        "from sklearn.preprocessing import MinMaxScaler\n",
        "scaler = MinMaxScaler()\n",
        "vector1_=scaler.fit_transform(vector1)"
      ],
      "execution_count": 325,
      "outputs": []
    },
    {
      "cell_type": "code",
      "metadata": {
        "colab": {
          "base_uri": "https://localhost:8080/"
        },
        "id": "r05vtzUd4D1A",
        "outputId": "b6f04ea9-d8f7-404d-8cea-eaa2144aacc9"
      },
      "source": [
        "vector1_"
      ],
      "execution_count": 326,
      "outputs": [
        {
          "output_type": "execute_result",
          "data": {
            "text/plain": [
              "array([[0.34297359, 0.33590423, 0.47927196, ..., 0.77611054, 0.18572155,\n",
              "        0.45988883],\n",
              "       [0.39394204, 0.34102994, 0.43739652, ..., 0.848468  , 0.07543671,\n",
              "        0.03400301],\n",
              "       [0.3890838 , 0.30953464, 0.38405601, ..., 0.76987515, 0.11564082,\n",
              "        0.20920615],\n",
              "       ...,\n",
              "       [0.24580877, 0.13024552, 0.44814649, ..., 0.02438274, 0.09955553,\n",
              "        0.00931198],\n",
              "       [0.23363373, 0.11018369, 0.48977205, ..., 0.01220599, 0.11457109,\n",
              "        0.02301508],\n",
              "       [0.22160929, 0.12950693, 0.3862413 , ..., 0.09434509, 0.1038719 ,\n",
              "        0.00305066]])"
            ]
          },
          "metadata": {
            "tags": []
          },
          "execution_count": 326
        }
      ]
    },
    {
      "cell_type": "markdown",
      "metadata": {
        "id": "D5k00gMhMQGg"
      },
      "source": [
        "#LSTM"
      ]
    },
    {
      "cell_type": "markdown",
      "metadata": {
        "id": "lB_OB93YQYlY"
      },
      "source": [
        "데이터셋 분리"
      ]
    },
    {
      "cell_type": "code",
      "metadata": {
        "id": "Cn-0bNe9NMFR"
      },
      "source": [
        "from sklearn.model_selection import train_test_split"
      ],
      "execution_count": 327,
      "outputs": []
    },
    {
      "cell_type": "code",
      "metadata": {
        "colab": {
          "base_uri": "https://localhost:8080/"
        },
        "id": "ug8L2cgGNk2h",
        "outputId": "c26989bd-5173-49ef-c640-609011f134f1"
      },
      "source": [
        "vector0 = np.array(vector0_)\n",
        "vector1 = np.array(vector1_)\n",
        "len(vector0), len(vector1)\n",
        "vector0.shape, vector1.shape"
      ],
      "execution_count": 328,
      "outputs": [
        {
          "output_type": "execute_result",
          "data": {
            "text/plain": [
              "((458, 23), (730, 23))"
            ]
          },
          "metadata": {
            "tags": []
          },
          "execution_count": 328
        }
      ]
    },
    {
      "cell_type": "code",
      "metadata": {
        "id": "S8aqMMCNiRuN"
      },
      "source": [
        "#수정필요,,,?\n",
        "\n",
        "x0_train = vector0[:int(0.7*len(vector0))]\n",
        "x0_test = vector0[int(0.7*len(vector0)):]"
      ],
      "execution_count": 329,
      "outputs": []
    },
    {
      "cell_type": "code",
      "metadata": {
        "colab": {
          "base_uri": "https://localhost:8080/"
        },
        "id": "F0SzKurVGjl0",
        "outputId": "6c1f2d29-f210-49f3-8e4c-56052c264201"
      },
      "source": [
        "x0_train.shape, x0_test.shape"
      ],
      "execution_count": 330,
      "outputs": [
        {
          "output_type": "execute_result",
          "data": {
            "text/plain": [
              "((320, 23), (138, 23))"
            ]
          },
          "metadata": {
            "tags": []
          },
          "execution_count": 330
        }
      ]
    },
    {
      "cell_type": "code",
      "metadata": {
        "id": "_dYhvL6SjcSl"
      },
      "source": [
        "x1_train = vector1[:int(0.7*len(vector1))]\n",
        "x1_test = vector1[int(0.7*len(vector1)):]"
      ],
      "execution_count": 331,
      "outputs": []
    },
    {
      "cell_type": "code",
      "metadata": {
        "colab": {
          "base_uri": "https://localhost:8080/"
        },
        "id": "TjgKrExTkXgL",
        "outputId": "1f677b44-3a80-494b-8fff-d4b0cabec7fe"
      },
      "source": [
        "x1_train.shape, x1_test.shape"
      ],
      "execution_count": 332,
      "outputs": [
        {
          "output_type": "execute_result",
          "data": {
            "text/plain": [
              "((510, 23), (220, 23))"
            ]
          },
          "metadata": {
            "tags": []
          },
          "execution_count": 332
        }
      ]
    },
    {
      "cell_type": "markdown",
      "metadata": {
        "id": "xB_XwtxjXOvI"
      },
      "source": [
        "비정상 :1, 정상: 0"
      ]
    },
    {
      "cell_type": "code",
      "metadata": {
        "id": "JxTx9e42PxEg"
      },
      "source": [
        "x0_test_tot = np.hstack((x0_test, np.ones(x0_test.shape[0]).reshape(-1,1)))\n",
        "x1_test_tot = np.hstack((x1_test, np.zeros(x1_test.shape[0]).reshape(-1,1)))\n",
        "test_tot = np.vstack((x0_test_tot, x1_test_tot))"
      ],
      "execution_count": 333,
      "outputs": []
    },
    {
      "cell_type": "code",
      "metadata": {
        "id": "xAyNVgrgOOj1"
      },
      "source": [
        "x_test, x_valid, y_test, y_valid = train_test_split(test_tot[:,:-1], test_tot[:,-1], test_size=0.3)"
      ],
      "execution_count": 334,
      "outputs": []
    },
    {
      "cell_type": "code",
      "metadata": {
        "colab": {
          "base_uri": "https://localhost:8080/"
        },
        "id": "etQFpobdQGh0",
        "outputId": "30bc856d-d710-48f4-8ef0-091f5f889643"
      },
      "source": [
        "print(x_test.shape, x_valid.shape, y_test.shape)"
      ],
      "execution_count": 335,
      "outputs": [
        {
          "output_type": "stream",
          "text": [
            "(250, 23) (108, 23) (250,)\n"
          ],
          "name": "stdout"
        }
      ]
    },
    {
      "cell_type": "markdown",
      "metadata": {
        "id": "iP7G2ffBQaea"
      },
      "source": [
        "데이터 차원 변경"
      ]
    },
    {
      "cell_type": "code",
      "metadata": {
        "id": "fPV6Vc3IQIns"
      },
      "source": [
        "x1_train =x1_train.reshape(x1_train.shape[0],1,x1_train.shape[1])\n",
        "x_test =x_test.reshape(x_test.shape[0],1,x_test.shape[1])\n",
        "x_valid =x_valid.reshape(x_valid.shape[0],1,x_valid.shape[1])"
      ],
      "execution_count": 336,
      "outputs": []
    },
    {
      "cell_type": "code",
      "metadata": {
        "colab": {
          "base_uri": "https://localhost:8080/"
        },
        "id": "t-QotlneSM6_",
        "outputId": "0aba840e-4467-4bc3-bf55-82deaa3747e7"
      },
      "source": [
        "print(x1_train.shape,x_test.shape,x_valid.shape)"
      ],
      "execution_count": 337,
      "outputs": [
        {
          "output_type": "stream",
          "text": [
            "(510, 1, 23) (250, 1, 23) (108, 1, 23)\n"
          ],
          "name": "stdout"
        }
      ]
    },
    {
      "cell_type": "markdown",
      "metadata": {
        "id": "UL2x2mmvSKPK"
      },
      "source": [
        "신경망 구축"
      ]
    },
    {
      "cell_type": "code",
      "metadata": {
        "id": "nw6Jl0FrSsZA"
      },
      "source": [
        "from keras import regularizers\n",
        "from keras.models import Model\n",
        "from keras.callbacks import EarlyStopping\n",
        "from keras.layers import Input, Dropout, Dense, LSTM, TimeDistributed, RepeatVector"
      ],
      "execution_count": 338,
      "outputs": []
    },
    {
      "cell_type": "code",
      "metadata": {
        "id": "02slthVOQldb"
      },
      "source": [
        "def autoencoder_model(X):\n",
        "    inputs = Input(shape=(X.shape[1], X.shape[2]))\n",
        "    # return_sequences 가 True면 각 time_steps의 셀이 모두 출력으로 내보냄 , False 면 최종 셀만 출력으로 내보냄\n",
        "    L1 = LSTM(32, activation='relu', return_sequences=True, \n",
        "              kernel_regularizer=regularizers.l2(0.00))(inputs)\n",
        "    L2 = LSTM(16, activation='relu', return_sequences=False)(L1)\n",
        "    L3 = RepeatVector(X.shape[1])(L2)\n",
        "    L4 = LSTM(16, activation='relu', return_sequences=True)(L3)\n",
        "    L5 = LSTM(32, activation='relu', return_sequences=True)(L4)\n",
        "    output = TimeDistributed(Dense(X.shape[2]))(L5)    \n",
        "    model = Model(inputs=inputs, outputs=output)\n",
        "    return model"
      ],
      "execution_count": 339,
      "outputs": []
    },
    {
      "cell_type": "code",
      "metadata": {
        "colab": {
          "base_uri": "https://localhost:8080/"
        },
        "id": "8OWO0n9iTqaG",
        "outputId": "69910933-9576-4f1e-95b4-789ed389416d"
      },
      "source": [
        "model = autoencoder_model(x1_train)\n",
        "model.compile(optimizer='adam',loss='mse')\n",
        "model.summary()"
      ],
      "execution_count": 340,
      "outputs": [
        {
          "output_type": "stream",
          "text": [
            "WARNING:tensorflow:Layer lstm_60 will not use cuDNN kernels since it doesn't meet the criteria. It will use a generic GPU kernel as fallback when running on GPU.\n",
            "WARNING:tensorflow:Layer lstm_61 will not use cuDNN kernels since it doesn't meet the criteria. It will use a generic GPU kernel as fallback when running on GPU.\n",
            "WARNING:tensorflow:Layer lstm_62 will not use cuDNN kernels since it doesn't meet the criteria. It will use a generic GPU kernel as fallback when running on GPU.\n",
            "WARNING:tensorflow:Layer lstm_63 will not use cuDNN kernels since it doesn't meet the criteria. It will use a generic GPU kernel as fallback when running on GPU.\n",
            "Model: \"model_15\"\n",
            "_________________________________________________________________\n",
            "Layer (type)                 Output Shape              Param #   \n",
            "=================================================================\n",
            "input_16 (InputLayer)        [(None, 1, 23)]           0         \n",
            "_________________________________________________________________\n",
            "lstm_60 (LSTM)               (None, 1, 32)             7168      \n",
            "_________________________________________________________________\n",
            "lstm_61 (LSTM)               (None, 16)                3136      \n",
            "_________________________________________________________________\n",
            "repeat_vector_15 (RepeatVect (None, 1, 16)             0         \n",
            "_________________________________________________________________\n",
            "lstm_62 (LSTM)               (None, 1, 16)             2112      \n",
            "_________________________________________________________________\n",
            "lstm_63 (LSTM)               (None, 1, 32)             6272      \n",
            "_________________________________________________________________\n",
            "time_distributed_15 (TimeDis (None, 1, 23)             759       \n",
            "=================================================================\n",
            "Total params: 19,447\n",
            "Trainable params: 19,447\n",
            "Non-trainable params: 0\n",
            "_________________________________________________________________\n"
          ],
          "name": "stdout"
        }
      ]
    },
    {
      "cell_type": "code",
      "metadata": {
        "id": "mWSIYzNlT17o",
        "colab": {
          "base_uri": "https://localhost:8080/"
        },
        "outputId": "37787155-641f-4a0d-a0d5-a4e8b3944a4d"
      },
      "source": [
        "model = autoencoder_model(x1_train)\n",
        "model.compile(optimizer='adam',loss='mse')"
      ],
      "execution_count": 341,
      "outputs": [
        {
          "output_type": "stream",
          "text": [
            "WARNING:tensorflow:Layer lstm_64 will not use cuDNN kernels since it doesn't meet the criteria. It will use a generic GPU kernel as fallback when running on GPU.\n",
            "WARNING:tensorflow:Layer lstm_65 will not use cuDNN kernels since it doesn't meet the criteria. It will use a generic GPU kernel as fallback when running on GPU.\n",
            "WARNING:tensorflow:Layer lstm_66 will not use cuDNN kernels since it doesn't meet the criteria. It will use a generic GPU kernel as fallback when running on GPU.\n",
            "WARNING:tensorflow:Layer lstm_67 will not use cuDNN kernels since it doesn't meet the criteria. It will use a generic GPU kernel as fallback when running on GPU.\n"
          ],
          "name": "stdout"
        }
      ]
    },
    {
      "cell_type": "code",
      "metadata": {
        "colab": {
          "base_uri": "https://localhost:8080/"
        },
        "id": "53lZUq7MUSiP",
        "outputId": "da3328b9-decc-4b8c-e68e-bb87839f9b04"
      },
      "source": [
        "epochs=25\n",
        "batch_size=5\n",
        "callbacks=[EarlyStopping(monitor='val_loss',patience=5)]\n",
        "\n",
        "history = model.fit(x1_train, x1_train, epochs=epochs, batch_size= batch_size,callbacks = callbacks, validation_split=0.05).history"
      ],
      "execution_count": 342,
      "outputs": [
        {
          "output_type": "stream",
          "text": [
            "Epoch 1/25\n",
            "97/97 [==============================] - 7s 27ms/step - loss: 0.1558 - val_loss: 0.0567\n",
            "Epoch 2/25\n",
            "97/97 [==============================] - 2s 20ms/step - loss: 0.0300 - val_loss: 0.0470\n",
            "Epoch 3/25\n",
            "97/97 [==============================] - 2s 20ms/step - loss: 0.0260 - val_loss: 0.0484\n",
            "Epoch 4/25\n",
            "97/97 [==============================] - 2s 20ms/step - loss: 0.0255 - val_loss: 0.0455\n",
            "Epoch 5/25\n",
            "97/97 [==============================] - 2s 21ms/step - loss: 0.0252 - val_loss: 0.0456\n",
            "Epoch 6/25\n",
            "97/97 [==============================] - 2s 20ms/step - loss: 0.0245 - val_loss: 0.0449\n",
            "Epoch 7/25\n",
            "97/97 [==============================] - 2s 20ms/step - loss: 0.0194 - val_loss: 0.0287\n",
            "Epoch 8/25\n",
            "97/97 [==============================] - 2s 20ms/step - loss: 0.0137 - val_loss: 0.0220\n",
            "Epoch 9/25\n",
            "97/97 [==============================] - 2s 20ms/step - loss: 0.0121 - val_loss: 0.0155\n",
            "Epoch 10/25\n",
            "97/97 [==============================] - 2s 21ms/step - loss: 0.0112 - val_loss: 0.0114\n",
            "Epoch 11/25\n",
            "97/97 [==============================] - 2s 21ms/step - loss: 0.0107 - val_loss: 0.0123\n",
            "Epoch 12/25\n",
            "97/97 [==============================] - 2s 21ms/step - loss: 0.0102 - val_loss: 0.0104\n",
            "Epoch 13/25\n",
            "97/97 [==============================] - 2s 21ms/step - loss: 0.0098 - val_loss: 0.0100\n",
            "Epoch 14/25\n",
            "97/97 [==============================] - 2s 20ms/step - loss: 0.0095 - val_loss: 0.0095\n",
            "Epoch 15/25\n",
            "97/97 [==============================] - 2s 19ms/step - loss: 0.0093 - val_loss: 0.0091\n",
            "Epoch 16/25\n",
            "97/97 [==============================] - 2s 21ms/step - loss: 0.0090 - val_loss: 0.0074\n",
            "Epoch 17/25\n",
            "97/97 [==============================] - 2s 21ms/step - loss: 0.0087 - val_loss: 0.0087\n",
            "Epoch 18/25\n",
            "97/97 [==============================] - 2s 20ms/step - loss: 0.0084 - val_loss: 0.0082\n",
            "Epoch 19/25\n",
            "97/97 [==============================] - 2s 19ms/step - loss: 0.0082 - val_loss: 0.0067\n",
            "Epoch 20/25\n",
            "97/97 [==============================] - 2s 20ms/step - loss: 0.0079 - val_loss: 0.0083\n",
            "Epoch 21/25\n",
            "97/97 [==============================] - 2s 21ms/step - loss: 0.0078 - val_loss: 0.0064\n",
            "Epoch 22/25\n",
            "97/97 [==============================] - 2s 21ms/step - loss: 0.0076 - val_loss: 0.0068\n",
            "Epoch 23/25\n",
            "97/97 [==============================] - 2s 21ms/step - loss: 0.0075 - val_loss: 0.0071\n",
            "Epoch 24/25\n",
            "97/97 [==============================] - 2s 20ms/step - loss: 0.0074 - val_loss: 0.0066\n",
            "Epoch 25/25\n",
            "97/97 [==============================] - 2s 20ms/step - loss: 0.0074 - val_loss: 0.0071\n"
          ],
          "name": "stdout"
        }
      ]
    },
    {
      "cell_type": "code",
      "metadata": {
        "id": "TLOZT9UjlDnL"
      },
      "source": [
        "import seaborn as sns\n",
        "sns.set(color_codes=True)\n",
        "import matplotlib.pyplot as plt\n",
        "%matplotlib inline"
      ],
      "execution_count": 343,
      "outputs": []
    },
    {
      "cell_type": "code",
      "metadata": {
        "id": "YoLeVXMyUrFd",
        "colab": {
          "base_uri": "https://localhost:8080/",
          "height": 457
        },
        "outputId": "27705b4d-12bb-4424-b6ff-056df1bbd7df"
      },
      "source": [
        "# 학습 손실 시각화\n",
        "fig, ax = plt.subplots(figsize=(14, 6), dpi=80)\n",
        "ax.plot(history['val_loss'], 'b', label='Train', linewidth=2)\n",
        "ax.plot(history['loss'], 'r', label='Validation', linewidth=2)\n",
        "ax.set_title('Model loss', fontsize=16)\n",
        "ax.set_ylabel('Loss (mae)')\n",
        "ax.set_xlabel('Epoch')\n",
        "ax.legend(loc='upper right')\n",
        "plt.show()"
      ],
      "execution_count": 344,
      "outputs": [
        {
          "output_type": "display_data",
          "data": {
            "image/png": "[encoded data removed]",
            "text/plain": [
              "<Figure size 1120x480 with 1 Axes>"
            ]
          },
          "metadata": {
            "tags": [],
            "needs_background": "light"
          }
        }
      ]
    },
    {
      "cell_type": "code",
      "metadata": {
        "id": "1Qn-f0L2oOW7"
      },
      "source": [
        "from sklearn import metrics"
      ],
      "execution_count": 345,
      "outputs": []
    },
    {
      "cell_type": "code",
      "metadata": {
        "colab": {
          "base_uri": "https://localhost:8080/",
          "height": 375
        },
        "id": "JmEimWqZmooQ",
        "outputId": "3055a1aa-8df9-446a-9a2a-13b3808ddac4"
      },
      "source": [
        "#검증 데이터 입력\n",
        "predictions_3d = model.predict(x_valid)\n",
        "predictions = predictions_3d.reshape(predictions_3d.shape[0], predictions_3d.shape[2])\n",
        "x_valid_ = x_valid.reshape(x_valid.shape[0], x_valid.shape[2])\n",
        "\n",
        "#재구성 손실 값 도출\n",
        "mse = np.mean(np.power(x_valid_ - predictions, 2), axis = 1)\n",
        "\n",
        "error_df = pd.DataFrame({'Reconstruction_error':mse, 'True_class': y_valid})\n",
        "\n",
        "precision_rt, recall_rt, threshold_rt = metrics.precision_recall_curve(error_df['True_class'], error_df['Reconstruction_error'])\n",
        "\n",
        "#모델 최적의 threshold 값 찾기\n",
        "best_cnt_dic = abs(precision_rt - recall_rt)\n",
        "threshold_fixed = threshold_rt[np.argmin(best_cnt_dic)]\n",
        "print('precision: ', precision_rt[np.argmin(best_cnt_dic)], ', recall: ', recall_rt[np.argmin(best_cnt_dic)])\n",
        "print('threshold: ', threshold_fixed)\n",
        "\n",
        "plt.figure(figsize=(8,5))\n",
        "plt.plot(threshold_rt, precision_rt[1:], label = 'Precision')\n",
        "plt.plot(threshold_rt, recall_rt[1:], label = 'Recall')\n",
        "plt.xlabel('Threshold'); plt.ylabel('Precision/Recall')\n",
        "plt.legend()\n",
        "plt.show()"
      ],
      "execution_count": 346,
      "outputs": [
        {
          "output_type": "stream",
          "text": [
            "precision:  0.7692307692307693 , recall:  0.7692307692307693\n",
            "threshold:  0.033027291591721616\n"
          ],
          "name": "stdout"
        },
        {
          "output_type": "display_data",
          "data": {
            "image/png": "[encoded data removed]",
            "text/plain": [
              "<Figure size 576x360 with 1 Axes>"
            ]
          },
          "metadata": {
            "tags": [],
            "needs_background": "light"
          }
        }
      ]
    },
    {
      "cell_type": "markdown",
      "metadata": {
        "id": "y2QJ4zymsDAh"
      },
      "source": [
        "모델 성능 평가"
      ]
    },
    {
      "cell_type": "code",
      "metadata": {
        "colab": {
          "base_uri": "https://localhost:8080/",
          "height": 301
        },
        "id": "7gZIkGTspJc6",
        "outputId": "adc0ce02-2eea-4dd7-8e36-a088688974fb"
      },
      "source": [
        "from sklearn.metrics import roc_curve, auc\n",
        "\n",
        "fpr, tpr, thresholds = roc_curve(y_valid, mse)\n",
        "roc_auc = auc(fpr, tpr)\n",
        "\n",
        "plt.title('Receiver Operating Characteristic')\n",
        "plt.plot(fpr, tpr, label = 'AUC = %0.4f' % roc_auc, linewidth=5)\n",
        "plt.legend(loc = 'lower right')\n",
        "plt.plot([0,1], [0,1],'r--')\n",
        "plt.xlim([-0.001,1])\n",
        "plt.ylim([0,1.001])\n",
        "plt.ylabel('True positive rate')\n",
        "plt.xlabel('False positive rate')\n",
        "plt.show()"
      ],
      "execution_count": 347,
      "outputs": [
        {
          "output_type": "display_data",
          "data": {
            "image/png": "[encoded data removed]",
            "text/plain": [
              "<Figure size 432x288 with 1 Axes>"
            ]
          },
          "metadata": {
            "tags": [],
            "needs_background": "light"
          }
        }
      ]
    },
    {
      "cell_type": "code",
      "metadata": {
        "colab": {
          "base_uri": "https://localhost:8080/",
          "height": 319
        },
        "id": "Tjw-esXllJxA",
        "outputId": "8f887a83-147d-45cf-b9fc-701ae7e621ed"
      },
      "source": [
        "test_predictions_3d = model.predict(x_test)\n",
        "test_predictions = test_predictions_3d.reshape(test_predictions_3d.shape[0], test_predictions_3d.shape[2])\n",
        "x_test_ = x_test.reshape(x_test.shape[0], x_test.shape[2])\n",
        "mse = np.mean(np.power(x_test_ - test_predictions, 2), axis=1)\n",
        "\n",
        "error_df = pd.DataFrame({'Reconstruction_error': mse, 'True_class': y_test})\n",
        "\n",
        "pred_y = [1 if e > threshold_fixed else 0 for e in error_df['Reconstruction_error'].values]\n",
        "conf_matrix = metrics.confusion_matrix(error_df['True_class'], pred_y)\n",
        "\n",
        "accuracy = (conf_matrix[0][0]+ conf_matrix[1][[1]])/conf_matrix.sum()\n",
        "print('accuracy: ',accuracy)\n",
        "\n",
        "sns.heatmap(conf_matrix, xticklabels=['Normal','Abnormal'], yticklabels=['Normal', 'Abnormal'], annot=True, fmt='d', annot_kws={'size':10})\n",
        "b,t = plt.ylim()\n",
        "b+=0.5\n",
        "t-=0.5\n",
        "plt.ylim(b,t)\n",
        "plt.title('Confusion Matrix')\n",
        "plt.xlabel('Predicted Class'); plt.ylabel('True Class')\n",
        "plt.show()"
      ],
      "execution_count": 348,
      "outputs": [
        {
          "output_type": "stream",
          "text": [
            "accuracy:  [0.86]\n"
          ],
          "name": "stdout"
        },
        {
          "output_type": "display_data",
          "data": {
            "image/png": "[encoded data removed]",
            "text/plain": [
              "<Figure size 432x288 with 2 Axes>"
            ]
          },
          "metadata": {
            "tags": [],
            "needs_background": "light"
          }
        }
      ]
    },
    {
      "cell_type": "code",
      "metadata": {
        "colab": {
          "base_uri": "https://localhost:8080/",
          "height": 301
        },
        "id": "R1RPxsf9mVa4",
        "outputId": "3b74f60e-5245-4a5c-8190-c7810d9ea723"
      },
      "source": [
        "groups = error_df.groupby('True_class')\n",
        "fig, ax = plt.subplots()\n",
        "\n",
        "for name, group in groups:\n",
        "  ax.plot(group.index, group.Reconstruction_error, marker = 'o', ms=3.5, linestyle='',\n",
        "          label='Abnormal' if name ==1 else 'Normal')\n",
        "\n",
        "ax.hlines(threshold_fixed, ax.get_xlim()[0], ax.get_xlim()[1], colors ='r', zorder=100, label ='Threshold')\n",
        "ax.legend()\n",
        "plt.title(\"Reconstruction error for different classes\")  \n",
        "plt.ylabel(\"Reconstrction error\")\n",
        "plt.xlabel(\"Data point index\")\n",
        "plt.show()"
      ],
      "execution_count": 349,
      "outputs": [
        {
          "output_type": "display_data",
          "data": {
            "image/png": "[encoded data removed]",
            "text/plain": [
              "<Figure size 432x288 with 1 Axes>"
            ]
          },
          "metadata": {
            "tags": [],
            "needs_background": "light"
          }
        }
      ]
    },
    {
      "cell_type": "code",
      "metadata": {
        "id": "SKjzhbUHrx72"
      },
      "source": [
        ""
      ],
      "execution_count": 349,
      "outputs": []
    }
  ]
}