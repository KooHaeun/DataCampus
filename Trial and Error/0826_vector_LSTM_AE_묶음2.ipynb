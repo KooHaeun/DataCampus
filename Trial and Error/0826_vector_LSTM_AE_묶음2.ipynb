{
  "nbformat": 4,
  "nbformat_minor": 0,
  "metadata": {
    "colab": {
      "name": "0826_vector_LSTM_AE_묶음2.ipynb",
      "provenance": [],
      "collapsed_sections": []
    },
    "kernelspec": {
      "name": "python3",
      "display_name": "Python 3"
    },
    "language_info": {
      "name": "python"
    }
  },
  "cells": [
    {
      "cell_type": "markdown",
      "metadata": {
        "id": "9HDIxvnFlioV"
      },
      "source": [
        "#새로운 feature로 시도"
      ]
    },
    {
      "cell_type": "code",
      "metadata": {
        "colab": {
          "base_uri": "https://localhost:8080/"
        },
        "id": "nNniS9GBH4g6",
        "outputId": "5dacbb76-fda1-4f20-9b5a-f463f7448f1c"
      },
      "source": [
        "from google.colab import drive\n",
        "drive.mount('/content/drive')"
      ],
      "execution_count": 2532,
      "outputs": [
        {
          "output_type": "stream",
          "text": [
            "Drive already mounted at /content/drive; to attempt to forcibly remount, call drive.mount(\"/content/drive\", force_remount=True).\n"
          ],
          "name": "stdout"
        }
      ]
    },
    {
      "cell_type": "code",
      "metadata": {
        "id": "l-wKvH23IXGO"
      },
      "source": [
        "import pandas as pd\n",
        "import numpy as np"
      ],
      "execution_count": 2533,
      "outputs": []
    },
    {
      "cell_type": "code",
      "metadata": {
        "id": "OlF4eLFJH_PE"
      },
      "source": [
        "path1='/content/drive/Shareddrives/데이터 청년 캠퍼스/젓가락질 데이터/새 젓가락질 데이터/excel 파일/lstm/data0826.xlsx'"
      ],
      "execution_count": 2534,
      "outputs": []
    },
    {
      "cell_type": "code",
      "metadata": {
        "id": "uBJLW85cIUzM"
      },
      "source": [
        "data= pd.read_excel(path1)"
      ],
      "execution_count": 2535,
      "outputs": []
    },
    {
      "cell_type": "code",
      "metadata": {
        "colab": {
          "base_uri": "https://localhost:8080/"
        },
        "id": "XPLnMogGeh8Q",
        "outputId": "394a987b-db02-437f-ad22-2b66afbda96e"
      },
      "source": [
        "data.columns"
      ],
      "execution_count": 2536,
      "outputs": [
        {
          "output_type": "execute_result",
          "data": {
            "text/plain": [
              "Index(['x_1-0', 'y_1-0', 'x_2-1', 'y_2-1', 'x_3-2', 'y_3-2', 'x_4-3', 'y_4-3',\n",
              "       'x_5-4', 'y_5-4', 'x_6-5', 'y_6-5', 'x_7-6', 'y_7-6', 'x_8-7', 'y_8-7',\n",
              "       'x_9-8', 'y_9-8', 'x_10-9', 'y_10-9', 'x_11-10', 'y_11-10', 'x_12-11',\n",
              "       'y_12-11', 'x_13-12', 'y_13-12', 'x_14-13', 'y_14-13', 'x_15-14',\n",
              "       'y_15-14', 'x_16-15', 'y_16-15', 'd_ratio', 'd_ratio_sq', 'sin dif',\n",
              "       '엄지 중지 내적', '검지 중지 내적', 'y', 'id', 'time'],\n",
              "      dtype='object')"
            ]
          },
          "metadata": {},
          "execution_count": 2536
        }
      ]
    },
    {
      "cell_type": "code",
      "metadata": {
        "id": "moaGcZAMb3M-"
      },
      "source": [
        "#data.drop(['엄지 중지 내적', '검지 중지 내적'],axis=1, inplace=True)\n",
        "#y_15-14\n",
        "#y_9-8, y_1-0, y_12-11\n",
        "#x_8-7, y_8-7\n",
        "#x_7-6, y_7-6\n",
        "#x_6-5,y_6-5\n",
        "#d_ratio. x_1-0. y_3-2. x_11-10. x_12-11. x_13-12. x_14-13. y_14-13. x_16-15"
      ],
      "execution_count": 2537,
      "outputs": []
    },
    {
      "cell_type": "markdown",
      "metadata": {
        "id": "D5k00gMhMQGg"
      },
      "source": [
        "#LSTM"
      ]
    },
    {
      "cell_type": "markdown",
      "metadata": {
        "id": "lB_OB93YQYlY"
      },
      "source": [
        "train-test 데이터셋 분리"
      ]
    },
    {
      "cell_type": "code",
      "metadata": {
        "id": "ENXjGRxFfZN_"
      },
      "source": [
        "vector0 = data[data[\"y\"]==0].sort_values(by=['id','time'])\n",
        "vector0.reset_index(drop=True, inplace=True)\n",
        "vector0.drop(['y'],axis=1, inplace=True)"
      ],
      "execution_count": 2538,
      "outputs": []
    },
    {
      "cell_type": "code",
      "metadata": {
        "id": "R11weJSTfp40"
      },
      "source": [
        "vector1 = data[data[\"y\"]==1].sort_values(by=['id','time'])\n",
        "vector1.reset_index(drop=True, inplace=True)\n",
        "vector1.drop(['y'],axis=1, inplace=True)"
      ],
      "execution_count": 2539,
      "outputs": []
    },
    {
      "cell_type": "code",
      "metadata": {
        "colab": {
          "base_uri": "https://localhost:8080/"
        },
        "id": "xRv2jwHIgEBP",
        "outputId": "ca076213-d399-4abb-b719-f5899406d158"
      },
      "source": [
        "vector1[vector1.id == 45].index[0]"
      ],
      "execution_count": 2540,
      "outputs": [
        {
          "output_type": "execute_result",
          "data": {
            "text/plain": [
              "1024"
            ]
          },
          "metadata": {},
          "execution_count": 2540
        }
      ]
    },
    {
      "cell_type": "code",
      "metadata": {
        "id": "F0SzKurVGjl0"
      },
      "source": [
        "x0_test = vector0\n",
        "x1_train = vector1[:1024]\n",
        "x1_test = vector1[1024:]"
      ],
      "execution_count": 2541,
      "outputs": []
    },
    {
      "cell_type": "code",
      "metadata": {
        "colab": {
          "base_uri": "https://localhost:8080/"
        },
        "id": "b9gICvI4ld97",
        "outputId": "65f66fd7-fe2d-4e03-cda3-988371ef0408"
      },
      "source": [
        "len(x1_train)"
      ],
      "execution_count": 2542,
      "outputs": [
        {
          "output_type": "execute_result",
          "data": {
            "text/plain": [
              "1024"
            ]
          },
          "metadata": {},
          "execution_count": 2542
        }
      ]
    },
    {
      "cell_type": "code",
      "metadata": {
        "colab": {
          "base_uri": "https://localhost:8080/"
        },
        "id": "XZ6CPfUo_Ea3",
        "outputId": "b59bd7e3-6c5a-44f4-9007-eaac0b800803"
      },
      "source": [
        "len(x1_test)"
      ],
      "execution_count": 2543,
      "outputs": [
        {
          "output_type": "execute_result",
          "data": {
            "text/plain": [
              "352"
            ]
          },
          "metadata": {},
          "execution_count": 2543
        }
      ]
    },
    {
      "cell_type": "markdown",
      "metadata": {
        "id": "oZ5PPOMplZ5s"
      },
      "source": [
        "test-valid"
      ]
    },
    {
      "cell_type": "code",
      "metadata": {
        "colab": {
          "base_uri": "https://localhost:8080/"
        },
        "id": "VDrxMKjsiEic",
        "outputId": "57ca154f-9cc2-48c5-c56d-5b03fe4d8b39"
      },
      "source": [
        "len(x0_test)"
      ],
      "execution_count": 2544,
      "outputs": [
        {
          "output_type": "execute_result",
          "data": {
            "text/plain": [
              "416"
            ]
          },
          "metadata": {},
          "execution_count": 2544
        }
      ]
    },
    {
      "cell_type": "code",
      "metadata": {
        "id": "pcZm_WHwioB1"
      },
      "source": [
        "#x0_test[x0_test.id == 8].index[0]"
      ],
      "execution_count": 2545,
      "outputs": []
    },
    {
      "cell_type": "code",
      "metadata": {
        "id": "wI4A8LzDi3Ov"
      },
      "source": [
        "#x0_test_ = x0_test[:256]\n",
        "#x0_valid = x0_test[256:]"
      ],
      "execution_count": 2546,
      "outputs": []
    },
    {
      "cell_type": "code",
      "metadata": {
        "id": "aaGsfKzGjyR-"
      },
      "source": [
        "#len(x0_test_), len(x0_valid)"
      ],
      "execution_count": 2547,
      "outputs": []
    },
    {
      "cell_type": "code",
      "metadata": {
        "id": "_mf3JLN7jiuO"
      },
      "source": [
        "#x1_test[x1_test.id == 47].index[0]"
      ],
      "execution_count": 2548,
      "outputs": []
    },
    {
      "cell_type": "code",
      "metadata": {
        "id": "X6rNMnrzkOuO"
      },
      "source": [
        "#x1_test_ = x1_test.loc[:1119]\n",
        "#x1_valid = x1_test.loc[1120:]"
      ],
      "execution_count": 2549,
      "outputs": []
    },
    {
      "cell_type": "code",
      "metadata": {
        "id": "pxxV4hOakV2N"
      },
      "source": [
        "#len(x1_test_), len(x1_valid)"
      ],
      "execution_count": 2550,
      "outputs": []
    },
    {
      "cell_type": "code",
      "metadata": {
        "id": "HR-09SyonkVD"
      },
      "source": [
        "x1_train = np.array(x1_train)"
      ],
      "execution_count": 2551,
      "outputs": []
    },
    {
      "cell_type": "code",
      "metadata": {
        "id": "4tPUmkRKhsSu"
      },
      "source": [
        "#x0_test_ = np.array(x0_test_)\n",
        "#x1_test_ = np.array(x1_test_)\n",
        "#x0_valid = np.array(x0_valid)\n",
        "#x1_valid = np.array(x1_valid)"
      ],
      "execution_count": 2552,
      "outputs": []
    },
    {
      "cell_type": "markdown",
      "metadata": {
        "id": "xB_XwtxjXOvI"
      },
      "source": [
        "비정상 :1, 정상: 0 으로 testset 구성"
      ]
    },
    {
      "cell_type": "code",
      "metadata": {
        "id": "JxTx9e42PxEg"
      },
      "source": [
        "#x0_test_tot = np.hstack((x0_test_, np.ones(x0_test_.shape[0]).reshape(-1,1)))\n",
        "#x1_test_tot = np.hstack((x1_test_, np.zeros(x1_test_.shape[0]).reshape(-1,1)))\n",
        "#test = np.vstack((x0_test_tot, x1_test_tot))"
      ],
      "execution_count": 2553,
      "outputs": []
    },
    {
      "cell_type": "code",
      "metadata": {
        "id": "_hhOdQsvlIMG"
      },
      "source": [
        "#x0_valid_tot = np.hstack((x0_valid, np.ones(x0_valid.shape[0]).reshape(-1,1)))\n",
        "#x1_valid_tot = np.hstack((x1_valid, np.zeros(x1_valid.shape[0]).reshape(-1,1)))\n",
        "#valid = np.vstack((x0_valid_tot, x1_valid_tot))"
      ],
      "execution_count": 2554,
      "outputs": []
    },
    {
      "cell_type": "code",
      "metadata": {
        "id": "tWQ0WovbihL3"
      },
      "source": [
        "#x1_train = x1_train[:,:-2]\n",
        "##x_test = test[:,:-3]\n",
        "#x_valid = test[:,:-3]\n",
        "#y_test = test[:,-1]\n",
        "##x_valid = valid[:,:-3]\n",
        "#x_test = valid[:,:-3]\n",
        "#y_valid = valid[:,-1]"
      ],
      "execution_count": 2555,
      "outputs": []
    },
    {
      "cell_type": "markdown",
      "metadata": {
        "id": "KwO97q0b9ipI"
      },
      "source": [
        "##수정"
      ]
    },
    {
      "cell_type": "code",
      "metadata": {
        "id": "hdqTqhbG-X5w"
      },
      "source": [
        "x0_test = np.array(x0_test)\n",
        "x1_test = np.array(x1_test)"
      ],
      "execution_count": 2556,
      "outputs": []
    },
    {
      "cell_type": "code",
      "metadata": {
        "id": "NaTHh6qJ9UZK"
      },
      "source": [
        "x00_test_tot = np.hstack((x0_test, np.ones(x0_test.shape[0]).reshape(-1,1)))\n",
        "x11_test_tot = np.hstack((x1_test, np.zeros(x1_test.shape[0]).reshape(-1,1)))\n",
        "test = np.vstack((x00_test_tot, x11_test_tot))"
      ],
      "execution_count": 2557,
      "outputs": []
    },
    {
      "cell_type": "code",
      "metadata": {
        "id": "MbpjLeq_9h5p"
      },
      "source": [
        "x1_train = x1_train[:,:-2]\n",
        "x_test = test[:,:-3]\n",
        "y_test = test[:,-1]"
      ],
      "execution_count": 2558,
      "outputs": []
    },
    {
      "cell_type": "code",
      "metadata": {
        "colab": {
          "base_uri": "https://localhost:8080/"
        },
        "id": "t-QotlneSM6_",
        "outputId": "2c49abdf-461e-4197-f9d7-c0ccd1d3f9ae"
      },
      "source": [
        "#print(x1_train.shape,x_test.shape,x_valid.shape)\n",
        "print(x1_train.shape,x_test.shape)"
      ],
      "execution_count": 2559,
      "outputs": [
        {
          "output_type": "stream",
          "text": [
            "(1024, 37) (768, 37)\n"
          ],
          "name": "stdout"
        }
      ]
    },
    {
      "cell_type": "code",
      "metadata": {
        "id": "8Sr7jKb3oaeC"
      },
      "source": [
        "import tensorflow as tf"
      ],
      "execution_count": 2560,
      "outputs": []
    },
    {
      "cell_type": "code",
      "metadata": {
        "colab": {
          "base_uri": "https://localhost:8080/"
        },
        "id": "Ys8fUUMWYmI-",
        "outputId": "cd8fa86a-7244-4476-889d-038a3ce08d8f"
      },
      "source": [
        "x1_train=tf.reshape(x1_train,[-1, 32, x1_train.shape[1]]) # 마지막은 열 개수\n",
        "print(x1_train.shape)\n",
        "\n",
        "x_test=tf.reshape(x_test,[-1, 32, x_test.shape[1]]) # 마지막은 열 개수\n",
        "print(x_test.shape)\n",
        "\n",
        "#x_valid=tf.reshape(x_valid,[-1, 32, 33]) # 마지막은 열 개수\n",
        "#print(x_valid.shape)"
      ],
      "execution_count": 2561,
      "outputs": [
        {
          "output_type": "stream",
          "text": [
            "(32, 32, 37)\n",
            "(24, 32, 37)\n"
          ],
          "name": "stdout"
        }
      ]
    },
    {
      "cell_type": "code",
      "metadata": {
        "id": "912MIvnYyiNA"
      },
      "source": [
        "#y_test = np.array([1,1,1,1,1,1,1,1,0,0,0,0])\n",
        "#y_valid = np.array([1,1,1,1,0,0,0,0,0])"
      ],
      "execution_count": 2562,
      "outputs": []
    },
    {
      "cell_type": "code",
      "metadata": {
        "id": "HuT6P4i5yXw6"
      },
      "source": [
        "#y_valid = np.array([1,1,1,1,1,1,1,1,0,0,0,0])\n",
        "#y_test = np.array([1,1,1,1,0,0,0,0,0])"
      ],
      "execution_count": 2563,
      "outputs": []
    },
    {
      "cell_type": "code",
      "metadata": {
        "id": "Kql_Tcnu-AkU"
      },
      "source": [
        "#y_test = [1,1,1,1,1,1,1,1,1,1,1,0,0,0,0,0,0,0,0,0,0,0,0,0]"
      ],
      "execution_count": 2564,
      "outputs": []
    },
    {
      "cell_type": "markdown",
      "metadata": {
        "id": "UL2x2mmvSKPK"
      },
      "source": [
        "신경망 구축"
      ]
    },
    {
      "cell_type": "code",
      "metadata": {
        "id": "nw6Jl0FrSsZA"
      },
      "source": [
        "from keras import regularizers\n",
        "from keras.models import Model\n",
        "from keras.callbacks import EarlyStopping\n",
        "from keras.layers import Input, Dropout, Dense, LSTM, TimeDistributed, RepeatVector"
      ],
      "execution_count": 2565,
      "outputs": []
    },
    {
      "cell_type": "code",
      "metadata": {
        "id": "02slthVOQldb"
      },
      "source": [
        "def autoencoder_model(X):\n",
        "    inputs = Input(shape=(X.shape[1], X.shape[2])) #개수, 열\n",
        "    # return_sequences 가 True면 각 time_steps의 셀이 모두 출력으로 내보냄 , False 면 최종 셀만 출력으로 내보냄\n",
        "    L1 = LSTM(140, activation='relu', return_sequences=True, \n",
        "              kernel_regularizer=regularizers.l2(0.00))(inputs)\n",
        "    L2 = LSTM(70, activation='relu', return_sequences=False)(L1)\n",
        "    L3 = RepeatVector(X.shape[1])(L2)\n",
        "    L4 = LSTM(70, activation='relu', return_sequences=True)(L3)\n",
        "    L5 = LSTM(140, activation='relu', return_sequences=True)(L4)\n",
        "    output = TimeDistributed(Dense(X.shape[2]))(L5)    \n",
        "    model = Model(inputs=inputs, outputs=output)\n",
        "    return model"
      ],
      "execution_count": 2566,
      "outputs": []
    },
    {
      "cell_type": "code",
      "metadata": {
        "colab": {
          "base_uri": "https://localhost:8080/"
        },
        "id": "8OWO0n9iTqaG",
        "outputId": "9d5ada42-55c3-4605-9fc0-3db7cf6709ad"
      },
      "source": [
        "model = autoencoder_model(x1_train)\n",
        "model.compile(optimizer='adam',loss='mse')\n",
        "model.summary()"
      ],
      "execution_count": 2567,
      "outputs": [
        {
          "output_type": "stream",
          "text": [
            "Model: \"model_108\"\n",
            "_________________________________________________________________\n",
            "Layer (type)                 Output Shape              Param #   \n",
            "=================================================================\n",
            "input_109 (InputLayer)       [(None, 32, 37)]          0         \n",
            "_________________________________________________________________\n",
            "lstm_432 (LSTM)              (None, 32, 140)           99680     \n",
            "_________________________________________________________________\n",
            "lstm_433 (LSTM)              (None, 70)                59080     \n",
            "_________________________________________________________________\n",
            "repeat_vector_108 (RepeatVec (None, 32, 70)            0         \n",
            "_________________________________________________________________\n",
            "lstm_434 (LSTM)              (None, 32, 70)            39480     \n",
            "_________________________________________________________________\n",
            "lstm_435 (LSTM)              (None, 32, 140)           118160    \n",
            "_________________________________________________________________\n",
            "time_distributed_108 (TimeDi (None, 32, 37)            5217      \n",
            "=================================================================\n",
            "Total params: 321,617\n",
            "Trainable params: 321,617\n",
            "Non-trainable params: 0\n",
            "_________________________________________________________________\n"
          ],
          "name": "stdout"
        }
      ]
    },
    {
      "cell_type": "code",
      "metadata": {
        "id": "mWSIYzNlT17o"
      },
      "source": [
        "model = autoencoder_model(x1_train)\n",
        "model.compile(optimizer='adam',loss='mse')"
      ],
      "execution_count": 2568,
      "outputs": []
    },
    {
      "cell_type": "code",
      "metadata": {
        "colab": {
          "base_uri": "https://localhost:8080/"
        },
        "id": "53lZUq7MUSiP",
        "outputId": "9bb82890-b4b1-4665-8eba-b67f4f8b27c6"
      },
      "source": [
        "epochs=100\n",
        "batch_size=10\n",
        "callbacks=[EarlyStopping(monitor='val_loss',patience=5)]\n",
        "history = model.fit(x1_train, x1_train, epochs=epochs, batch_size= batch_size,callbacks = callbacks, validation_split=0.05).history"
      ],
      "execution_count": 2569,
      "outputs": [
        {
          "output_type": "stream",
          "text": [
            "Epoch 1/100\n",
            "3/3 [==============================] - 4s 407ms/step - loss: 46.7305 - val_loss: 2.7297\n",
            "Epoch 2/100\n",
            "3/3 [==============================] - 0s 103ms/step - loss: 326.8183 - val_loss: 2.7489\n",
            "Epoch 3/100\n",
            "3/3 [==============================] - 0s 104ms/step - loss: 21.2934 - val_loss: 2.6598\n",
            "Epoch 4/100\n",
            "3/3 [==============================] - 0s 108ms/step - loss: 267.5640 - val_loss: 2.4842\n",
            "Epoch 5/100\n",
            "3/3 [==============================] - 0s 119ms/step - loss: 1814.0380 - val_loss: 319.2973\n",
            "Epoch 6/100\n",
            "3/3 [==============================] - 0s 123ms/step - loss: 1242.0765 - val_loss: 6286.2275\n",
            "Epoch 7/100\n",
            "3/3 [==============================] - 0s 145ms/step - loss: 4382.5449 - val_loss: 2042.6411\n",
            "Epoch 8/100\n",
            "3/3 [==============================] - 0s 140ms/step - loss: 9342.9941 - val_loss: 13057.4062\n",
            "Epoch 9/100\n",
            "3/3 [==============================] - 0s 133ms/step - loss: 5669.9141 - val_loss: 395.8263\n"
          ],
          "name": "stdout"
        }
      ]
    },
    {
      "cell_type": "code",
      "metadata": {
        "id": "TLOZT9UjlDnL"
      },
      "source": [
        "import seaborn as sns\n",
        "sns.set(color_codes=True)\n",
        "import matplotlib.pyplot as plt\n",
        "%matplotlib inline"
      ],
      "execution_count": 2570,
      "outputs": []
    },
    {
      "cell_type": "code",
      "metadata": {
        "id": "YoLeVXMyUrFd",
        "colab": {
          "base_uri": "https://localhost:8080/",
          "height": 457
        },
        "outputId": "7ef69d9e-1ed3-4807-d386-1d188552a16f"
      },
      "source": [
        "# 학습 손실 시각화\n",
        "fig, ax = plt.subplots(figsize=(14, 6), dpi=80)\n",
        "ax.plot(history['val_loss'], 'b', label='Train', linewidth=2)\n",
        "ax.plot(history['loss'], 'r', label='Validation', linewidth=2)\n",
        "ax.set_title('Model loss', fontsize=16)\n",
        "ax.set_ylabel('Loss (mae)')\n",
        "ax.set_xlabel('Epoch')\n",
        "ax.legend(loc='upper right')\n",
        "plt.show()"
      ],
      "execution_count": 2571,
      "outputs": [
        {
          "output_type": "display_data",
          "data": {
            "image/png": "[encoded data removed]",
            "text/plain": [
              "<Figure size 1120x480 with 1 Axes>"
            ]
          },
          "metadata": {
            "needs_background": "light"
          }
        }
      ]
    },
    {
      "cell_type": "markdown",
      "metadata": {
        "id": "Rj9n-y0OdB7y"
      },
      "source": [
        "validation"
      ]
    },
    {
      "cell_type": "code",
      "metadata": {
        "id": "1Qn-f0L2oOW7"
      },
      "source": [
        "from sklearn import metrics"
      ],
      "execution_count": 2572,
      "outputs": []
    },
    {
      "cell_type": "code",
      "metadata": {
        "id": "GjSzwqCdqJ5L"
      },
      "source": [
        "#x_valid.shape"
      ],
      "execution_count": 2573,
      "outputs": []
    },
    {
      "cell_type": "code",
      "metadata": {
        "colab": {
          "base_uri": "https://localhost:8080/",
          "height": 645
        },
        "id": "JmEimWqZmooQ",
        "outputId": "2c70a454-28e7-40cb-c560-05ca8873dab2"
      },
      "source": [
        "#검증 데이터 입력\n",
        "#predictions_3d = model.predict(x_valid)\n",
        "#predictions = predictions_3d.reshape(predictions_3d.shape[0]*predictions_3d.shape[1], predictions_3d.shape[2])\n",
        "#x_valid_ = np.array(x_valid).reshape(x_valid.shape[0]*x_valid.shape[1], x_valid.shape[2])\n",
        "\n",
        "#재구성 손실 값 도출\n",
        "#mse = np.mean(np.power(x_valid_ - predictions, 2), axis = 1)\n",
        "#mse = np.mean(np.mean(np.power(x_valid - predictions_3d, 2), axis=1)**(1/2), axis=1)**(1/2)\n",
        "#error_df = pd.DataFrame({'Reconstruction_error':mse, 'True_class': y_valid})\n",
        "\n",
        "\n",
        "#predictions_3d = model.predict(x_test)\n",
        "#mse = np.mean(np.mean(np.power(x_test - predictions_3d, 2), axis=1)**(1/3), axis=1)**(1/3)\n",
        "#error_df = pd.DataFrame({'Reconstruction_error':mse, 'True_class': y_test})\n",
        "\n",
        "\n",
        "test_predictions_3d = model.predict(x_test)\n",
        "test_predictions = test_predictions_3d.reshape(test_predictions_3d.shape[0]*test_predictions_3d.shape[1], test_predictions_3d.shape[2])\n",
        "x_test_ = np.array(x_test).reshape(x_test.shape[0]*x_test.shape[1], x_test.shape[2])\n",
        "mse = np.mean(np.power(x_test_ - test_predictions, 2), axis=1)\n",
        "error_df = pd.DataFrame({'Reconstruction_error':mse, 'True_class': y_test})\n",
        "\n",
        "print(error_df)\n",
        "\n",
        "precision_rt, recall_rt, threshold_rt = metrics.precision_recall_curve(error_df['True_class'], error_df['Reconstruction_error']) ##auc curve 사용 말고 다른 방법\n",
        "\n",
        "#모델 최적의 threshold 값 찾기\n",
        "best_cnt_dic = abs(precision_rt - recall_rt)\n",
        "threshold_fixed = threshold_rt[np.argmin(best_cnt_dic)]  #둘의 차가 최소가 될때가 threshold\n",
        "\n",
        "print(np.argmin(best_cnt_dic))\n",
        "print('precision: ', precision_rt[np.argmin(best_cnt_dic)], ', recall: ', recall_rt[np.argmin(best_cnt_dic)])\n",
        "print('threshold: ', threshold_fixed)\n",
        "\n",
        "plt.figure(figsize=(8,5))\n",
        "plt.plot(threshold_rt, precision_rt[1:], label = 'Precision')\n",
        "plt.plot(threshold_rt, recall_rt[1:], label = 'Recall')\n",
        "plt.xlabel('Threshold'); plt.ylabel('Precision/Recall')\n",
        "plt.legend()\n",
        "plt.show()"
      ],
      "execution_count": 2574,
      "outputs": [
        {
          "output_type": "stream",
          "text": [
            "     Reconstruction_error  True_class\n",
            "0                1.757928         1.0\n",
            "1                2.366363         1.0\n",
            "2                2.283771         1.0\n",
            "3                2.568606         1.0\n",
            "4                2.493862         1.0\n",
            "..                    ...         ...\n",
            "763              0.793305         0.0\n",
            "764              0.909499         0.0\n",
            "765              0.677776         0.0\n",
            "766              0.796127         0.0\n",
            "767              0.817084         0.0\n",
            "\n",
            "[768 rows x 2 columns]\n",
            "302\n",
            "precision:  0.6875 , recall:  0.6875\n",
            "threshold:  2.1460068696760657\n"
          ],
          "name": "stdout"
        },
        {
          "output_type": "display_data",
          "data": {
            "image/png": "[encoded data removed]",
            "text/plain": [
              "<Figure size 576x360 with 1 Axes>"
            ]
          },
          "metadata": {
            "needs_background": "light"
          }
        }
      ]
    },
    {
      "cell_type": "markdown",
      "metadata": {
        "id": "y2QJ4zymsDAh"
      },
      "source": [
        "모델 성능 평가"
      ]
    },
    {
      "cell_type": "code",
      "metadata": {
        "colab": {
          "base_uri": "https://localhost:8080/",
          "height": 301
        },
        "id": "7gZIkGTspJc6",
        "outputId": "6d53b51b-0075-4a01-fcc4-ea14b46d4e31"
      },
      "source": [
        "from sklearn.metrics import roc_curve, auc\n",
        "\n",
        "#fpr, tpr, thresholds = roc_curve(y_valid, mse)\n",
        "\n",
        "fpr, tpr, thresholds = roc_curve(y_test, mse)\n",
        "roc_auc = auc(fpr, tpr)\n",
        "\n",
        "plt.title('Receiver Operating Characteristic')\n",
        "plt.plot(fpr, tpr, label = 'AUC = %0.4f' % roc_auc, linewidth=5)\n",
        "plt.legend(loc = 'lower right')\n",
        "plt.plot([0,1], [0,1],'r--')\n",
        "plt.xlim([-0.001,1])\n",
        "plt.ylim([0,1.001])\n",
        "plt.ylabel('True positive rate')\n",
        "plt.xlabel('False positive rate')\n",
        "plt.show()"
      ],
      "execution_count": 2575,
      "outputs": [
        {
          "output_type": "display_data",
          "data": {
            "image/png": "[encoded data removed]",
            "text/plain": [
              "<Figure size 432x288 with 1 Axes>"
            ]
          },
          "metadata": {
            "needs_background": "light"
          }
        }
      ]
    },
    {
      "cell_type": "markdown",
      "metadata": {
        "id": "CEqBmiGEdFLN"
      },
      "source": [
        "prediction"
      ]
    },
    {
      "cell_type": "code",
      "metadata": {
        "colab": {
          "base_uri": "https://localhost:8080/",
          "height": 571
        },
        "id": "Tjw-esXllJxA",
        "outputId": "1706702a-b0e1-4cf5-8189-35fff16a8746"
      },
      "source": [
        "test_predictions_3d = model.predict(x_test)\n",
        "\n",
        "test_predictions = test_predictions_3d.reshape(test_predictions_3d.shape[0]*test_predictions_3d.shape[1], test_predictions_3d.shape[2])\n",
        "x_test_ = np.array(x_test).reshape(x_test.shape[0]*x_test.shape[1], x_test.shape[2])\n",
        "mse = np.mean(np.power(x_test_ - test_predictions, 2), axis=1)\n",
        "\n",
        "#mse = np.mean(np.mean(np.power(x_test - test_predictions_3d, 2), axis=1)**(1/2), axis=1)**(1/2)\n",
        "\n",
        "error_df = pd.DataFrame({'Reconstruction_error': mse, 'True_class': y_test})\n",
        "print(error_df)\n",
        "\n",
        "pred_y = [1 if e > threshold_fixed else 0 for e in error_df['Reconstruction_error'].values]\n",
        "conf_matrix = metrics.confusion_matrix(error_df['True_class'], pred_y)\n",
        "\n",
        "accuracy = (conf_matrix[0][0]+ conf_matrix[1][[1]])/conf_matrix.sum()\n",
        "print('accuracy: ',accuracy)\n",
        "\n",
        "sns.heatmap(conf_matrix, xticklabels=['Normal','Abnormal'], yticklabels=['Normal', 'Abnormal'], annot=True, fmt='d', annot_kws={'size':10})\n",
        "b,t = plt.ylim()\n",
        "b+=0.5\n",
        "t-=0.5\n",
        "plt.ylim(b,t)\n",
        "plt.title('Confusion Matrix')\n",
        "plt.xlabel('Predicted Class'); plt.ylabel('True Class')\n",
        "plt.show()"
      ],
      "execution_count": 2576,
      "outputs": [
        {
          "output_type": "stream",
          "text": [
            "     Reconstruction_error  True_class\n",
            "0                1.757928         1.0\n",
            "1                2.366363         1.0\n",
            "2                2.283771         1.0\n",
            "3                2.568606         1.0\n",
            "4                2.493862         1.0\n",
            "..                    ...         ...\n",
            "763              0.793305         0.0\n",
            "764              0.909499         0.0\n",
            "765              0.677776         0.0\n",
            "766              0.796127         0.0\n",
            "767              0.817084         0.0\n",
            "\n",
            "[768 rows x 2 columns]\n",
            "accuracy:  [0.66276042]\n"
          ],
          "name": "stdout"
        },
        {
          "output_type": "display_data",
          "data": {
            "image/png": "[encoded data removed]",
            "text/plain": [
              "<Figure size 432x288 with 2 Axes>"
            ]
          },
          "metadata": {
            "needs_background": "light"
          }
        }
      ]
    },
    {
      "cell_type": "code",
      "metadata": {
        "colab": {
          "base_uri": "https://localhost:8080/",
          "height": 301
        },
        "id": "R1RPxsf9mVa4",
        "outputId": "e1850e29-5dbe-4c36-a3ad-b89e236c21e0"
      },
      "source": [
        "groups = error_df.groupby('True_class')\n",
        "fig, ax = plt.subplots()\n",
        "\n",
        "for name, group in groups:\n",
        "  ax.plot(group.index, group.Reconstruction_error, marker = 'o', ms=3.5, linestyle='',\n",
        "          label='Abnormal' if name ==1 else 'Normal')\n",
        "\n",
        "ax.hlines(threshold_fixed, ax.get_xlim()[0], ax.get_xlim()[1], colors ='r', zorder=100, label ='Threshold')\n",
        "ax.legend()\n",
        "plt.title(\"Reconstruction error for different classes\")  \n",
        "plt.ylabel(\"Reconstrction error\")\n",
        "plt.xlabel(\"Data point index\")\n",
        "plt.show()"
      ],
      "execution_count": 2577,
      "outputs": [
        {
          "output_type": "display_data",
          "data": {
            "image/png": "[encoded data removed]",
            "text/plain": [
              "<Figure size 432x288 with 1 Axes>"
            ]
          },
          "metadata": {
            "needs_background": "light"
          }
        }
      ]
    },
    {
      "cell_type": "markdown",
      "metadata": {
        "id": "ZE8nz5GBMAZB"
      },
      "source": [
        "##모델 저장"
      ]
    },
    {
      "cell_type": "code",
      "metadata": {
        "colab": {
          "base_uri": "https://localhost:8080/"
        },
        "id": "H8rLhp-fhGE0",
        "outputId": "aa7ed10f-f532-47c5-a794-4842d0f443f1"
      },
      "source": [
        "converter = tf.lite.TFLiteConverter.from_keras_model(model)\n",
        "tflite_model = converter.convert()"
      ],
      "execution_count": 2578,
      "outputs": [
        {
          "output_type": "stream",
          "text": [
            "INFO:tensorflow:Assets written to: /tmp/tmpezjn518a/assets\n"
          ],
          "name": "stdout"
        }
      ]
    },
    {
      "cell_type": "code",
      "metadata": {
        "colab": {
          "base_uri": "https://localhost:8080/"
        },
        "id": "AzLBM9r-MKYL",
        "outputId": "8634c433-8393-4cc4-811e-7ba6efd45dd0"
      },
      "source": [
        "#저장\n",
        "open('converted_model.tflite', 'wb').write(tflite_model)"
      ],
      "execution_count": 2580,
      "outputs": [
        {
          "output_type": "execute_result",
          "data": {
            "text/plain": [
              "1359496"
            ]
          },
          "metadata": {},
          "execution_count": 2580
        }
      ]
    },
    {
      "cell_type": "code",
      "metadata": {
        "id": "IJcLfKj2Mjhh"
      },
      "source": [
        ""
      ],
      "execution_count": null,
      "outputs": []
    }
  ]
}