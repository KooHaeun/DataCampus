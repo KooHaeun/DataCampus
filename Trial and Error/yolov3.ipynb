{
 "cells": [
  {
   "cell_type": "markdown",
   "metadata": {},
   "source": [
    "#LABELING"
   ]
  },
  {
   "cell_type": "markdown",
   "metadata": {},
   "source": [
    "annotation tool\n",
    "1. CVAT : intel 에서 만든 것\n",
    "2. LabelMe : MIT 에서 만든 것"
   ]
  },
  {
   "cell_type": "markdown",
   "metadata": {},
   "source": [
    "https://heartbeat.fritz.ai/4-important-computer-vision-annotation-tools-you-need-to-know-in-2020-9f964931ed7"
   ]
  },
  {
   "cell_type": "code",
   "execution_count": 1,
   "metadata": {},
   "outputs": [
    {
     "name": "stdout",
     "output_type": "stream",
     "text": [
      "Collecting labelme"
     ]
    },
    {
     "name": "stderr",
     "output_type": "stream",
     "text": [
      "WARNING: Ignoring invalid distribution -autifulsoup4 (c:\\programdata\\anaconda3\\lib\\site-packages)"
     ]
    },
    {
     "name": "stdout",
     "output_type": "stream",
     "text": [
      "\n",
      "  Downloading labelme-4.5.9.tar.gz (1.5 MB)\n",
      "Collecting imgviz>=0.11.0\n",
      "  Downloading imgviz-1.2.6.tar.gz (7.7 MB)\n",
      "  Installing build dependencies: started\n",
      "  Installing build dependencies: finished with status 'done'\n",
      "  Getting requirements to build wheel: started\n",
      "  Getting requirements to build wheel: finished with status 'done'\n",
      "    Preparing wheel metadata: started\n",
      "    Preparing wheel metadata: finished with status 'done'\n",
      "Collecting matplotlib<3.3\n",
      "  Downloading matplotlib-3.2.2-cp37-cp37m-win_amd64.whl (9.2 MB)\n",
      "Requirement already satisfied: numpy in c:\\users\\administrator\\appdata\\roaming\\python\\python37\\site-packages (from labelme) (1.20.2)\n",
      "Requirement already satisfied: Pillow>=2.8.0 in c:\\programdata\\anaconda3\\lib\\site-packages (from labelme) (6.2.0)\n",
      "Requirement already satisfied: PyYAML in c:\\programdata\\anaconda3\\lib\\site-packages (from labelme) (5.1.2)\n",
      "Requirement already satisfied: qtpy in c:\\programdata\\anaconda3\\lib\\site-packages (from labelme) (1.9.0)\n",
      "Requirement already satisfied: termcolor in c:\\programdata\\anaconda3\\lib\\site-packages (from labelme) (1.1.0)\n",
      "Requirement already satisfied: colorama in c:\\users\\administrator\\appdata\\roaming\\python\\python37\\site-packages (from labelme) (0.4.3)\n",
      "Requirement already satisfied: pyparsing!=2.0.4,!=2.1.2,!=2.1.6,>=2.0.1 in c:\\programdata\\anaconda3\\lib\\site-packages (from matplotlib<3.3->labelme) (2.4.2)\n",
      "Requirement already satisfied: cycler>=0.10 in c:\\programdata\\anaconda3\\lib\\site-packages (from matplotlib<3.3->labelme) (0.10.0)\n",
      "Requirement already satisfied: kiwisolver>=1.0.1 in c:\\programdata\\anaconda3\\lib\\site-packages (from matplotlib<3.3->labelme) (1.1.0)\n",
      "Requirement already satisfied: python-dateutil>=2.1 in c:\\users\\administrator\\appdata\\roaming\\python\\python37\\site-packages (from matplotlib<3.3->labelme) (2.8.2)\n",
      "Requirement already satisfied: six in c:\\users\\administrator\\appdata\\roaming\\python\\python37\\site-packages (from cycler>=0.10->matplotlib<3.3->labelme) (1.15.0)\n",
      "Requirement already satisfied: setuptools in c:\\programdata\\anaconda3\\lib\\site-packages (from kiwisolver>=1.0.1->matplotlib<3.3->labelme) (41.4.0)\n",
      "Building wheels for collected packages: labelme, imgviz\n",
      "  Building wheel for labelme (setup.py): started\n",
      "  Building wheel for labelme (setup.py): finished with status 'done'\n",
      "  Created wheel for labelme: filename=labelme-4.5.9-py3-none-any.whl size=1465417 sha256=5fc96454c461057b1ae87aaea29f4e12bf531b2a81ebc6b72e1a191b814e01de\n",
      "  Stored in directory: c:\\users\\administrator\\appdata\\local\\pip\\cache\\wheels\\1a\\69\\e0\\8e8530643e291ff5b3eeb05568d873ad42b08c15166885a288\n",
      "  Building wheel for imgviz (PEP 517): started\n",
      "  Building wheel for imgviz (PEP 517): finished with status 'done'\n",
      "  Created wheel for imgviz: filename=imgviz-1.2.6-py3-none-any.whl size=7674073 sha256=4d28a19ad1dad711b29e706aa87303d1fa65f7f02792a0e509c35d9f2bbe95a7\n",
      "  Stored in directory: c:\\users\\administrator\\appdata\\local\\pip\\cache\\wheels\\e6\\64\\f9\\a28eca2133ece5f072f51282577f2f9b7d6d0492eb3d2104dd\n",
      "Successfully built labelme imgviz\n",
      "Installing collected packages: matplotlib, imgviz, labelme\n",
      "  Attempting uninstall: matplotlib\n",
      "    Found existing installation: matplotlib 3.4.2\n",
      "    Uninstalling matplotlib-3.4.2:\n",
      "      Successfully uninstalled matplotlib-3.4.2\n",
      "  Rolling back uninstall of matplotlib\n",
      "  Moving to c:\\users\\administrator\\appdata\\roaming\\python\\python37\\site-packages\\__pycache__\\pylab.cpython-37.pyc\n",
      "   from C:\\Users\\ADMINI~1\\AppData\\Local\\Temp\\pip-uninstall-txa20t6d\\pylab.cpython-37.pyc\n",
      "  Moving to c:\\users\\administrator\\appdata\\roaming\\python\\python37\\site-packages\\matplotlib-3.4.2-py3.7-nspkg.pth\n",
      "   from C:\\Users\\ADMINI~1\\AppData\\Local\\Temp\\pip-uninstall-mqmqhksg\\matplotlib-3.4.2-py3.7-nspkg.pth\n",
      "  Moving to c:\\users\\administrator\\appdata\\roaming\\python\\python37\\site-packages\\matplotlib-3.4.2.dist-info\\\n",
      "   from c:\\users\\administrator\\appdata\\roaming\\python\\python37\\site-packages\\~atplotlib-3.4.2.dist-info\n",
      "  Moving to c:\\users\\administrator\\appdata\\roaming\\python\\python37\\site-packages\\matplotlib\\\n",
      "   from c:\\users\\administrator\\appdata\\roaming\\python\\python37\\site-packages\\~atplotlib\n",
      "  Moving to c:\\users\\administrator\\appdata\\roaming\\python\\python37\\site-packages\\mpl_toolkits\\axes_grid1\\\n",
      "   from c:\\users\\administrator\\appdata\\roaming\\python\\python37\\site-packages\\mpl_toolkits\\~xes_grid1\n",
      "  Moving to c:\\users\\administrator\\appdata\\roaming\\python\\python37\\site-packages\\mpl_toolkits\\axes_grid\\\n",
      "   from c:\\users\\administrator\\appdata\\roaming\\python\\python37\\site-packages\\mpl_toolkits\\~xes_grid\n",
      "  Moving to c:\\users\\administrator\\appdata\\roaming\\python\\python37\\site-packages\\mpl_toolkits\\axisartist\\\n",
      "   from c:\\users\\administrator\\appdata\\roaming\\python\\python37\\site-packages\\mpl_toolkits\\~xisartist\n",
      "  Moving to c:\\users\\administrator\\appdata\\roaming\\python\\python37\\site-packages\\mpl_toolkits\\mplot3d\\\n",
      "   from c:\\users\\administrator\\appdata\\roaming\\python\\python37\\site-packages\\mpl_toolkits\\~plot3d\n",
      "  Moving to c:\\users\\administrator\\appdata\\roaming\\python\\python37\\site-packages\\mpl_toolkits\\tests\\\n",
      "   from c:\\users\\administrator\\appdata\\roaming\\python\\python37\\site-packages\\mpl_toolkits\\~ests\n",
      "  Moving to c:\\users\\administrator\\appdata\\roaming\\python\\python37\\site-packages\\pylab.py\n",
      "   from C:\\Users\\ADMINI~1\\AppData\\Local\\Temp\\pip-uninstall-mqmqhksg\\pylab.py\n"
     ]
    },
    {
     "name": "stderr",
     "output_type": "stream",
     "text": [
      "\n",
      "WARNING: Ignoring invalid distribution -umpy (c:\\programdata\\anaconda3\\lib\\site-packages)\n",
      "WARNING: Ignoring invalid distribution -lick (c:\\programdata\\anaconda3\\lib\\site-packages)\n",
      "WARNING: Ignoring invalid distribution -ip (c:\\programdata\\anaconda3\\lib\\site-packages)\n",
      "WARNING: Ignoring invalid distribution - (c:\\programdata\\anaconda3\\lib\\site-packages)\n",
      "WARNING: Ignoring invalid distribution -ensorflow (c:\\programdata\\anaconda3\\lib\\site-packages)\n",
      "WARNING: Ignoring invalid distribution -eautifulsoup4 (c:\\programdata\\anaconda3\\lib\\site-packages)\n",
      "WARNING: Ignoring invalid distribution -cipy (c:\\programdata\\anaconda3\\lib\\site-packages)\n",
      "WARNING: Ignoring invalid distribution -autifulsoup4 (c:\\programdata\\anaconda3\\lib\\site-packages)\n",
      "WARNING: Ignoring invalid distribution -umpy (c:\\programdata\\anaconda3\\lib\\site-packages)\n",
      "WARNING: Ignoring invalid distribution -lick (c:\\programdata\\anaconda3\\lib\\site-packages)\n",
      "WARNING: Ignoring invalid distribution -ip (c:\\programdata\\anaconda3\\lib\\site-packages)\n",
      "WARNING: Ignoring invalid distribution - (c:\\programdata\\anaconda3\\lib\\site-packages)\n",
      "WARNING: Ignoring invalid distribution -ensorflow (c:\\programdata\\anaconda3\\lib\\site-packages)\n",
      "WARNING: Ignoring invalid distribution -eautifulsoup4 (c:\\programdata\\anaconda3\\lib\\site-packages)\n",
      "WARNING: Ignoring invalid distribution -cipy (c:\\programdata\\anaconda3\\lib\\site-packages)\n",
      "WARNING: Ignoring invalid distribution -autifulsoup4 (c:\\programdata\\anaconda3\\lib\\site-packages)\n",
      "WARNING: Ignoring invalid distribution -umpy (c:\\programdata\\anaconda3\\lib\\site-packages)\n",
      "WARNING: Ignoring invalid distribution -lick (c:\\programdata\\anaconda3\\lib\\site-packages)\n",
      "WARNING: Ignoring invalid distribution -ip (c:\\programdata\\anaconda3\\lib\\site-packages)\n",
      "WARNING: Ignoring invalid distribution - (c:\\programdata\\anaconda3\\lib\\site-packages)\n",
      "WARNING: Ignoring invalid distribution -ensorflow (c:\\programdata\\anaconda3\\lib\\site-packages)\n",
      "WARNING: Ignoring invalid distribution -eautifulsoup4 (c:\\programdata\\anaconda3\\lib\\site-packages)\n",
      "WARNING: Ignoring invalid distribution -cipy (c:\\programdata\\anaconda3\\lib\\site-packages)\n",
      "ERROR: Could not install packages due to an OSError: [WinError 5] 액세스가 거부되었습니다: 'c:\\\\programdata\\\\anaconda3\\\\Lib\\\\site-packages\\\\pylab.py'\n",
      "Consider using the `--user` option or check the permissions.\n",
      "\n",
      "WARNING: Ignoring invalid distribution -autifulsoup4 (c:\\programdata\\anaconda3\\lib\\site-packages)\n",
      "WARNING: Ignoring invalid distribution -umpy (c:\\programdata\\anaconda3\\lib\\site-packages)\n",
      "WARNING: Ignoring invalid distribution -lick (c:\\programdata\\anaconda3\\lib\\site-packages)\n",
      "WARNING: Ignoring invalid distribution -ip (c:\\programdata\\anaconda3\\lib\\site-packages)\n",
      "WARNING: Ignoring invalid distribution - (c:\\programdata\\anaconda3\\lib\\site-packages)\n",
      "WARNING: Ignoring invalid distribution -ensorflow (c:\\programdata\\anaconda3\\lib\\site-packages)\n",
      "WARNING: Ignoring invalid distribution -eautifulsoup4 (c:\\programdata\\anaconda3\\lib\\site-packages)\n",
      "WARNING: Ignoring invalid distribution -cipy (c:\\programdata\\anaconda3\\lib\\site-packages)\n",
      "WARNING: Ignoring invalid distribution -autifulsoup4 (c:\\programdata\\anaconda3\\lib\\site-packages)\n",
      "WARNING: Ignoring invalid distribution -umpy (c:\\programdata\\anaconda3\\lib\\site-packages)\n",
      "WARNING: Ignoring invalid distribution -lick (c:\\programdata\\anaconda3\\lib\\site-packages)\n",
      "WARNING: Ignoring invalid distribution -ip (c:\\programdata\\anaconda3\\lib\\site-packages)\n",
      "WARNING: Ignoring invalid distribution - (c:\\programdata\\anaconda3\\lib\\site-packages)\n",
      "WARNING: Ignoring invalid distribution -ensorflow (c:\\programdata\\anaconda3\\lib\\site-packages)\n",
      "WARNING: Ignoring invalid distribution -eautifulsoup4 (c:\\programdata\\anaconda3\\lib\\site-packages)\n",
      "WARNING: Ignoring invalid distribution -cipy (c:\\programdata\\anaconda3\\lib\\site-packages)\n",
      "WARNING: Ignoring invalid distribution -autifulsoup4 (c:\\programdata\\anaconda3\\lib\\site-packages)\n",
      "WARNING: Ignoring invalid distribution -umpy (c:\\programdata\\anaconda3\\lib\\site-packages)\n",
      "WARNING: Ignoring invalid distribution -lick (c:\\programdata\\anaconda3\\lib\\site-packages)\n",
      "WARNING: Ignoring invalid distribution -ip (c:\\programdata\\anaconda3\\lib\\site-packages)\n",
      "WARNING: Ignoring invalid distribution - (c:\\programdata\\anaconda3\\lib\\site-packages)\n",
      "WARNING: Ignoring invalid distribution -ensorflow (c:\\programdata\\anaconda3\\lib\\site-packages)\n",
      "WARNING: Ignoring invalid distribution -eautifulsoup4 (c:\\programdata\\anaconda3\\lib\\site-packages)\n",
      "WARNING: Ignoring invalid distribution -cipy (c:\\programdata\\anaconda3\\lib\\site-packages)\n",
      "WARNING: You are using pip version 21.1.3; however, version 21.2.2 is available.\n",
      "You should consider upgrading via the 'c:\\programdata\\anaconda3\\python.exe -m pip install --upgrade pip' command.\n"
     ]
    }
   ],
   "source": [
    "!pip install labelme"
   ]
  },
  {
   "cell_type": "markdown",
   "metadata": {},
   "source": [
    "#YOLOV3 코드"
   ]
  },
  {
   "cell_type": "markdown",
   "metadata": {},
   "source": [
    "https://bong-sik.tistory.com/16 : 참고링크-한글 \\\n",
    "https://pysource.com/2019/06/27/yolo-object-detection-using-opencv-with-python/ : 참고링크-영어"
   ]
  },
  {
   "cell_type": "markdown",
   "metadata": {},
   "source": [
    "https://pjreddie.com/darknet/yolo/ : 다운로드 경로 \\\n",
    "(YOLOv3-tiny > YOLOv3-320 > YOLOv3-416 > YOLOv3-608 = YOLOv3-spp) : 속도빠르면 정확도 떨어짐"
   ]
  },
  {
   "cell_type": "code",
   "execution_count": 26,
   "metadata": {},
   "outputs": [],
   "source": [
    "import cv2 #open cv\n",
    "import numpy as np"
   ]
  },
  {
   "cell_type": "code",
   "execution_count": 27,
   "metadata": {},
   "outputs": [],
   "source": [
    "# Load Yolo\n",
    "net = cv2.dnn.readNet(\"yolov3.weights\", \"yolov3.cfg\")\n",
    "classes = []\n",
    "with open(\"coco.names\", \"r\") as f:\n",
    "    classes = [line.strip() for line in f.readlines()]\n",
    "layer_names = net.getLayerNames()\n",
    "output_layers = [layer_names[i[0] - 1] for i in net.getUnconnectedOutLayers()]\n",
    "colors = np.random.uniform(0, 255, size=(len(classes), 3))"
   ]
  },
  {
   "cell_type": "code",
   "execution_count": 28,
   "metadata": {},
   "outputs": [],
   "source": [
    "# 이미지 가져오기\n",
    "img = cv2.imread(\"sample.jpg\") #한국어? 오류남\n",
    "img = cv2.resize(img, None, fx=0.4, fy=0.4)\n",
    "height, width, channels = img.shape"
   ]
  },
  {
   "cell_type": "code",
   "execution_count": 29,
   "metadata": {},
   "outputs": [],
   "source": [
    "# Detecting objects\n",
    "blob = cv2.dnn.blobFromImage(img, 0.00392, (416, 416), (0, 0, 0), True, crop=False)\n",
    "net.setInput(blob)\n",
    "outs = net.forward(output_layers)"
   ]
  },
  {
   "cell_type": "code",
   "execution_count": 30,
   "metadata": {},
   "outputs": [],
   "source": [
    "# 정보를 화면에 표시\n",
    "class_ids = []\n",
    "confidences = []\n",
    "boxes = []\n",
    "for out in outs:\n",
    "    for detection in out:\n",
    "        scores = detection[5:]\n",
    "        class_id = np.argmax(scores)\n",
    "        confidence = scores[class_id]\n",
    "        if confidence > 0.5:\n",
    "            # Object detected\n",
    "            center_x = int(detection[0] * width)\n",
    "            center_y = int(detection[1] * height)\n",
    "            w = int(detection[2] * width)\n",
    "            h = int(detection[3] * height)\n",
    "            # 좌표\n",
    "            x = int(center_x - w / 2)\n",
    "            y = int(center_y - h / 2)\n",
    "            boxes.append([x, y, w, h])\n",
    "            confidences.append(float(confidence))\n",
    "            class_ids.append(class_id)"
   ]
  },
  {
   "cell_type": "code",
   "execution_count": 31,
   "metadata": {},
   "outputs": [],
   "source": [
    "#noise 제거\n",
    "indexes = cv2.dnn.NMSBoxes(boxes, confidences, 0.5, 0.4)"
   ]
  },
  {
   "cell_type": "code",
   "execution_count": 32,
   "metadata": {},
   "outputs": [],
   "source": [
    "font = cv2.FONT_HERSHEY_PLAIN\n",
    "for i in range(len(boxes)):\n",
    "    if i in indexes:\n",
    "        x, y, w, h = boxes[i]\n",
    "        label = str(classes[class_ids[i]])\n",
    "        color = colors[i]\n",
    "        cv2.rectangle(img, (x, y), (x + w, y + h), color, 2)\n",
    "        cv2.putText(img, label, (x, y + 30), font, 3, color, 3)\n",
    "cv2.imshow(\"Image\", img)\n",
    "cv2.waitKey(0)\n",
    "cv2.destroyAllWindows()"
   ]
  },
  {
   "cell_type": "code",
   "execution_count": null,
   "metadata": {},
   "outputs": [],
   "source": []
  }
 ],
 "metadata": {
  "kernelspec": {
   "display_name": "Python 3",
   "language": "python",
   "name": "python3"
  },
  "language_info": {
   "codemirror_mode": {
    "name": "ipython",
    "version": 3
   },
   "file_extension": ".py",
   "mimetype": "text/x-python",
   "name": "python",
   "nbconvert_exporter": "python",
   "pygments_lexer": "ipython3",
   "version": "3.7.4"
  }
 },
 "nbformat": 4,
 "nbformat_minor": 2
}
