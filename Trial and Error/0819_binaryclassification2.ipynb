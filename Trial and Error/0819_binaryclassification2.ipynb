{
  "nbformat": 4,
  "nbformat_minor": 0,
  "metadata": {
    "colab": {
      "name": "0819_binaryclassification2.ipynb",
      "provenance": [],
      "collapsed_sections": []
    },
    "kernelspec": {
      "name": "python3",
      "display_name": "Python 3"
    },
    "language_info": {
      "name": "python"
    }
  },
  "cells": [
    {
      "cell_type": "code",
      "metadata": {
        "colab": {
          "base_uri": "https://localhost:8080/"
        },
        "id": "JQLDS17jIFPO",
        "outputId": "3a747dd2-181e-4704-c1af-aaeb2a1e2690"
      },
      "source": [
        "from google.colab import drive\n",
        "drive.mount('/content/drive')"
      ],
      "execution_count": 272,
      "outputs": [
        {
          "output_type": "stream",
          "text": [
            "Drive already mounted at /content/drive; to attempt to forcibly remount, call drive.mount(\"/content/drive\", force_remount=True).\n"
          ],
          "name": "stdout"
        }
      ]
    },
    {
      "cell_type": "code",
      "metadata": {
        "id": "RpQU0pJsKc3j"
      },
      "source": [
        "path ='/content/drive/Shareddrives/데이터 청년 캠퍼스/젓가락질 데이터/새 젓가락질 데이터/excel 파일/preprocessing/newdata_all_0819_normed_16_15.xlsx'"
      ],
      "execution_count": 273,
      "outputs": []
    },
    {
      "cell_type": "code",
      "metadata": {
        "id": "5W_EcNbXK6qr"
      },
      "source": [
        "import pandas as pd\n",
        "import numpy as np"
      ],
      "execution_count": 274,
      "outputs": []
    },
    {
      "cell_type": "code",
      "metadata": {
        "id": "owzJ1EACKiWE"
      },
      "source": [
        "data = pd.read_excel(path)"
      ],
      "execution_count": 275,
      "outputs": []
    },
    {
      "cell_type": "code",
      "metadata": {
        "id": "Y774uX6IKloS",
        "colab": {
          "base_uri": "https://localhost:8080/",
          "height": 456
        },
        "outputId": "5a60323f-931b-449b-d0e8-9d164170e8e6"
      },
      "source": [
        "data[data['y']==1]"
      ],
      "execution_count": 276,
      "outputs": [
        {
          "output_type": "execute_result",
          "data": {
            "text/html": [
              "<div>\n",
              "<style scoped>\n",
              "    .dataframe tbody tr th:only-of-type {\n",
              "        vertical-align: middle;\n",
              "    }\n",
              "\n",
              "    .dataframe tbody tr th {\n",
              "        vertical-align: top;\n",
              "    }\n",
              "\n",
              "    .dataframe thead th {\n",
              "        text-align: right;\n",
              "    }\n",
              "</style>\n",
              "<table border=\"1\" class=\"dataframe\">\n",
              "  <thead>\n",
              "    <tr style=\"text-align: right;\">\n",
              "      <th></th>\n",
              "      <th>Unnamed: 0</th>\n",
              "      <th>x_1-0</th>\n",
              "      <th>y_1-0</th>\n",
              "      <th>x_2-1</th>\n",
              "      <th>y_2-1</th>\n",
              "      <th>x_3-2</th>\n",
              "      <th>y_3-2</th>\n",
              "      <th>x_4-3</th>\n",
              "      <th>y_4-3</th>\n",
              "      <th>x_5-4</th>\n",
              "      <th>y_5-4</th>\n",
              "      <th>x_6-5</th>\n",
              "      <th>y_6-5</th>\n",
              "      <th>x_7-6</th>\n",
              "      <th>y_7-6</th>\n",
              "      <th>x_8-7</th>\n",
              "      <th>y_8-7</th>\n",
              "      <th>x_9-8</th>\n",
              "      <th>y_9-8</th>\n",
              "      <th>x_10-9</th>\n",
              "      <th>y_10-9</th>\n",
              "      <th>x_11-10</th>\n",
              "      <th>y_11-10</th>\n",
              "      <th>x_12-11</th>\n",
              "      <th>y_12-11</th>\n",
              "      <th>x_13-12</th>\n",
              "      <th>y_13-12</th>\n",
              "      <th>x_14-13</th>\n",
              "      <th>y_14-13</th>\n",
              "      <th>x_15-14</th>\n",
              "      <th>y_15-14</th>\n",
              "      <th>x_16-15</th>\n",
              "      <th>y_16-15</th>\n",
              "      <th>y</th>\n",
              "      <th>image</th>\n",
              "    </tr>\n",
              "  </thead>\n",
              "  <tbody>\n",
              "    <tr>\n",
              "      <th>458</th>\n",
              "      <td>458</td>\n",
              "      <td>-0.135930</td>\n",
              "      <td>-0.257972</td>\n",
              "      <td>-0.612510</td>\n",
              "      <td>-1.673512</td>\n",
              "      <td>-0.723794</td>\n",
              "      <td>-1.571755</td>\n",
              "      <td>-0.757514</td>\n",
              "      <td>-1.451897</td>\n",
              "      <td>2.049881</td>\n",
              "      <td>0.309936</td>\n",
              "      <td>-1.370070</td>\n",
              "      <td>-0.817394</td>\n",
              "      <td>-0.987395</td>\n",
              "      <td>0.257779</td>\n",
              "      <td>-0.777173</td>\n",
              "      <td>0.476939</td>\n",
              "      <td>2.827758</td>\n",
              "      <td>0.225948</td>\n",
              "      <td>-1.447992</td>\n",
              "      <td>-0.744604</td>\n",
              "      <td>-0.847049</td>\n",
              "      <td>0.680779</td>\n",
              "      <td>-0.654817</td>\n",
              "      <td>0.753075</td>\n",
              "      <td>2.666184</td>\n",
              "      <td>-0.256482</td>\n",
              "      <td>-1.101312</td>\n",
              "      <td>0.203354</td>\n",
              "      <td>0.079105</td>\n",
              "      <td>1.432444</td>\n",
              "      <td>0.066736</td>\n",
              "      <td>0.997771</td>\n",
              "      <td>1</td>\n",
              "      <td>correct18.MP4_000003.040.jpg</td>\n",
              "    </tr>\n",
              "    <tr>\n",
              "      <th>459</th>\n",
              "      <td>459</td>\n",
              "      <td>-0.206932</td>\n",
              "      <td>-0.772042</td>\n",
              "      <td>-0.674569</td>\n",
              "      <td>-2.170903</td>\n",
              "      <td>-0.902731</td>\n",
              "      <td>-1.852376</td>\n",
              "      <td>-0.839510</td>\n",
              "      <td>-1.766073</td>\n",
              "      <td>2.589103</td>\n",
              "      <td>0.338699</td>\n",
              "      <td>-1.822593</td>\n",
              "      <td>-0.636802</td>\n",
              "      <td>-1.245073</td>\n",
              "      <td>0.463042</td>\n",
              "      <td>-0.887070</td>\n",
              "      <td>0.459265</td>\n",
              "      <td>3.501919</td>\n",
              "      <td>0.047737</td>\n",
              "      <td>-1.891019</td>\n",
              "      <td>-0.282085</td>\n",
              "      <td>-0.904383</td>\n",
              "      <td>1.367380</td>\n",
              "      <td>-0.580420</td>\n",
              "      <td>0.821436</td>\n",
              "      <td>2.943050</td>\n",
              "      <td>-1.364334</td>\n",
              "      <td>-1.408452</td>\n",
              "      <td>0.389076</td>\n",
              "      <td>-0.012684</td>\n",
              "      <td>1.918165</td>\n",
              "      <td>0.113661</td>\n",
              "      <td>0.993520</td>\n",
              "      <td>1</td>\n",
              "      <td>correct18.MP4_000003.160.jpg</td>\n",
              "    </tr>\n",
              "    <tr>\n",
              "      <th>460</th>\n",
              "      <td>460</td>\n",
              "      <td>-0.114962</td>\n",
              "      <td>-0.369063</td>\n",
              "      <td>-0.550478</td>\n",
              "      <td>-1.685809</td>\n",
              "      <td>-0.741818</td>\n",
              "      <td>-1.561530</td>\n",
              "      <td>-0.695740</td>\n",
              "      <td>-1.529241</td>\n",
              "      <td>2.102098</td>\n",
              "      <td>0.335158</td>\n",
              "      <td>-1.380161</td>\n",
              "      <td>-0.674198</td>\n",
              "      <td>-0.999362</td>\n",
              "      <td>0.327749</td>\n",
              "      <td>-0.711706</td>\n",
              "      <td>0.501336</td>\n",
              "      <td>2.660396</td>\n",
              "      <td>-0.077644</td>\n",
              "      <td>-1.440564</td>\n",
              "      <td>-0.452618</td>\n",
              "      <td>-0.843751</td>\n",
              "      <td>0.845695</td>\n",
              "      <td>-0.612005</td>\n",
              "      <td>0.762700</td>\n",
              "      <td>2.512574</td>\n",
              "      <td>-0.814553</td>\n",
              "      <td>-1.164256</td>\n",
              "      <td>0.181571</td>\n",
              "      <td>-0.153955</td>\n",
              "      <td>1.523967</td>\n",
              "      <td>-0.070386</td>\n",
              "      <td>0.997520</td>\n",
              "      <td>1</td>\n",
              "      <td>correct18.MP4_000003.281.jpg</td>\n",
              "    </tr>\n",
              "    <tr>\n",
              "      <th>461</th>\n",
              "      <td>461</td>\n",
              "      <td>-0.201990</td>\n",
              "      <td>-1.109322</td>\n",
              "      <td>-0.657427</td>\n",
              "      <td>-1.945670</td>\n",
              "      <td>-0.873348</td>\n",
              "      <td>-1.674480</td>\n",
              "      <td>-0.786434</td>\n",
              "      <td>-1.702392</td>\n",
              "      <td>2.167664</td>\n",
              "      <td>0.412892</td>\n",
              "      <td>-1.362697</td>\n",
              "      <td>-0.766228</td>\n",
              "      <td>-1.166105</td>\n",
              "      <td>0.320395</td>\n",
              "      <td>-0.876338</td>\n",
              "      <td>0.599785</td>\n",
              "      <td>2.787829</td>\n",
              "      <td>0.281728</td>\n",
              "      <td>-1.433443</td>\n",
              "      <td>-0.451254</td>\n",
              "      <td>-1.006958</td>\n",
              "      <td>0.908079</td>\n",
              "      <td>-0.638074</td>\n",
              "      <td>0.868715</td>\n",
              "      <td>2.565804</td>\n",
              "      <td>-0.721448</td>\n",
              "      <td>-1.199025</td>\n",
              "      <td>0.069604</td>\n",
              "      <td>-0.465528</td>\n",
              "      <td>1.345731</td>\n",
              "      <td>-0.227727</td>\n",
              "      <td>0.973725</td>\n",
              "      <td>1</td>\n",
              "      <td>correct18.MP4_000003.400.jpg</td>\n",
              "    </tr>\n",
              "    <tr>\n",
              "      <th>462</th>\n",
              "      <td>462</td>\n",
              "      <td>-0.176010</td>\n",
              "      <td>-1.257356</td>\n",
              "      <td>-0.725517</td>\n",
              "      <td>-2.215396</td>\n",
              "      <td>-1.070740</td>\n",
              "      <td>-1.835077</td>\n",
              "      <td>-0.933156</td>\n",
              "      <td>-1.854742</td>\n",
              "      <td>2.565793</td>\n",
              "      <td>0.007481</td>\n",
              "      <td>-1.689072</td>\n",
              "      <td>-0.484942</td>\n",
              "      <td>-1.258755</td>\n",
              "      <td>0.340653</td>\n",
              "      <td>-0.935006</td>\n",
              "      <td>0.311438</td>\n",
              "      <td>3.288473</td>\n",
              "      <td>0.300739</td>\n",
              "      <td>-1.732428</td>\n",
              "      <td>-0.082568</td>\n",
              "      <td>-0.756761</td>\n",
              "      <td>1.456744</td>\n",
              "      <td>-0.314004</td>\n",
              "      <td>0.920239</td>\n",
              "      <td>2.236437</td>\n",
              "      <td>-1.599045</td>\n",
              "      <td>-1.382468</td>\n",
              "      <td>0.509370</td>\n",
              "      <td>-0.105375</td>\n",
              "      <td>1.894564</td>\n",
              "      <td>0.088384</td>\n",
              "      <td>0.996086</td>\n",
              "      <td>1</td>\n",
              "      <td>correct18.MP4_000003.521.jpg</td>\n",
              "    </tr>\n",
              "    <tr>\n",
              "      <th>...</th>\n",
              "      <td>...</td>\n",
              "      <td>...</td>\n",
              "      <td>...</td>\n",
              "      <td>...</td>\n",
              "      <td>...</td>\n",
              "      <td>...</td>\n",
              "      <td>...</td>\n",
              "      <td>...</td>\n",
              "      <td>...</td>\n",
              "      <td>...</td>\n",
              "      <td>...</td>\n",
              "      <td>...</td>\n",
              "      <td>...</td>\n",
              "      <td>...</td>\n",
              "      <td>...</td>\n",
              "      <td>...</td>\n",
              "      <td>...</td>\n",
              "      <td>...</td>\n",
              "      <td>...</td>\n",
              "      <td>...</td>\n",
              "      <td>...</td>\n",
              "      <td>...</td>\n",
              "      <td>...</td>\n",
              "      <td>...</td>\n",
              "      <td>...</td>\n",
              "      <td>...</td>\n",
              "      <td>...</td>\n",
              "      <td>...</td>\n",
              "      <td>...</td>\n",
              "      <td>...</td>\n",
              "      <td>...</td>\n",
              "      <td>...</td>\n",
              "      <td>...</td>\n",
              "      <td>...</td>\n",
              "      <td>...</td>\n",
              "    </tr>\n",
              "    <tr>\n",
              "      <th>1183</th>\n",
              "      <td>1183</td>\n",
              "      <td>-0.123427</td>\n",
              "      <td>-1.882587</td>\n",
              "      <td>-0.553509</td>\n",
              "      <td>-1.876740</td>\n",
              "      <td>-0.839746</td>\n",
              "      <td>-1.435976</td>\n",
              "      <td>-0.624721</td>\n",
              "      <td>-1.525703</td>\n",
              "      <td>1.713811</td>\n",
              "      <td>0.438118</td>\n",
              "      <td>-1.010122</td>\n",
              "      <td>-1.245609</td>\n",
              "      <td>-0.816108</td>\n",
              "      <td>0.380425</td>\n",
              "      <td>-0.541084</td>\n",
              "      <td>0.976653</td>\n",
              "      <td>1.839348</td>\n",
              "      <td>0.650880</td>\n",
              "      <td>-1.091427</td>\n",
              "      <td>-1.224525</td>\n",
              "      <td>-0.877726</td>\n",
              "      <td>0.603658</td>\n",
              "      <td>-0.556155</td>\n",
              "      <td>0.894615</td>\n",
              "      <td>2.052588</td>\n",
              "      <td>0.577844</td>\n",
              "      <td>-1.030619</td>\n",
              "      <td>-0.771854</td>\n",
              "      <td>-0.797595</td>\n",
              "      <td>0.716689</td>\n",
              "      <td>-0.483205</td>\n",
              "      <td>0.875507</td>\n",
              "      <td>1</td>\n",
              "      <td>correct4.mp4_000005.383.jpg</td>\n",
              "    </tr>\n",
              "    <tr>\n",
              "      <th>1184</th>\n",
              "      <td>1184</td>\n",
              "      <td>-0.057121</td>\n",
              "      <td>-1.930839</td>\n",
              "      <td>-0.567491</td>\n",
              "      <td>-1.866969</td>\n",
              "      <td>-0.876503</td>\n",
              "      <td>-1.359553</td>\n",
              "      <td>-0.657369</td>\n",
              "      <td>-1.448360</td>\n",
              "      <td>1.715755</td>\n",
              "      <td>0.343617</td>\n",
              "      <td>-0.937454</td>\n",
              "      <td>-1.294182</td>\n",
              "      <td>-0.802512</td>\n",
              "      <td>0.312686</td>\n",
              "      <td>-0.540236</td>\n",
              "      <td>0.974038</td>\n",
              "      <td>1.676175</td>\n",
              "      <td>0.759390</td>\n",
              "      <td>-1.009616</td>\n",
              "      <td>-1.367545</td>\n",
              "      <td>-0.884518</td>\n",
              "      <td>0.443251</td>\n",
              "      <td>-0.593234</td>\n",
              "      <td>0.833457</td>\n",
              "      <td>1.982782</td>\n",
              "      <td>0.973814</td>\n",
              "      <td>-1.005366</td>\n",
              "      <td>-0.829378</td>\n",
              "      <td>-0.836251</td>\n",
              "      <td>0.630793</td>\n",
              "      <td>-0.559747</td>\n",
              "      <td>0.828664</td>\n",
              "      <td>1</td>\n",
              "      <td>correct4.mp4_000005.450.jpg</td>\n",
              "    </tr>\n",
              "    <tr>\n",
              "      <th>1185</th>\n",
              "      <td>1185</td>\n",
              "      <td>-0.048179</td>\n",
              "      <td>-1.935884</td>\n",
              "      <td>-0.547802</td>\n",
              "      <td>-1.783636</td>\n",
              "      <td>-0.850477</td>\n",
              "      <td>-1.304898</td>\n",
              "      <td>-0.654835</td>\n",
              "      <td>-1.439762</td>\n",
              "      <td>1.595650</td>\n",
              "      <td>0.285753</td>\n",
              "      <td>-0.882860</td>\n",
              "      <td>-1.357457</td>\n",
              "      <td>-0.729771</td>\n",
              "      <td>0.274628</td>\n",
              "      <td>-0.454235</td>\n",
              "      <td>1.023958</td>\n",
              "      <td>1.482520</td>\n",
              "      <td>0.864827</td>\n",
              "      <td>-0.988612</td>\n",
              "      <td>-1.371123</td>\n",
              "      <td>-0.806972</td>\n",
              "      <td>0.452600</td>\n",
              "      <td>-0.491387</td>\n",
              "      <td>0.926270</td>\n",
              "      <td>1.792215</td>\n",
              "      <td>0.895711</td>\n",
              "      <td>-0.946792</td>\n",
              "      <td>-0.869146</td>\n",
              "      <td>-0.719121</td>\n",
              "      <td>0.633865</td>\n",
              "      <td>-0.412662</td>\n",
              "      <td>0.910884</td>\n",
              "      <td>1</td>\n",
              "      <td>correct4.mp4_000005.517.jpg</td>\n",
              "    </tr>\n",
              "    <tr>\n",
              "      <th>1186</th>\n",
              "      <td>1186</td>\n",
              "      <td>-0.021648</td>\n",
              "      <td>-1.777165</td>\n",
              "      <td>-0.536696</td>\n",
              "      <td>-1.728354</td>\n",
              "      <td>-0.846106</td>\n",
              "      <td>-1.299284</td>\n",
              "      <td>-0.635441</td>\n",
              "      <td>-1.405650</td>\n",
              "      <td>1.560248</td>\n",
              "      <td>0.301372</td>\n",
              "      <td>-0.847466</td>\n",
              "      <td>-1.169779</td>\n",
              "      <td>-0.708105</td>\n",
              "      <td>0.379943</td>\n",
              "      <td>-0.449279</td>\n",
              "      <td>1.031564</td>\n",
              "      <td>1.428587</td>\n",
              "      <td>0.447451</td>\n",
              "      <td>-0.930290</td>\n",
              "      <td>-1.278062</td>\n",
              "      <td>-0.778169</td>\n",
              "      <td>0.505597</td>\n",
              "      <td>-0.499150</td>\n",
              "      <td>0.905622</td>\n",
              "      <td>1.732713</td>\n",
              "      <td>0.703558</td>\n",
              "      <td>-0.910490</td>\n",
              "      <td>-0.814984</td>\n",
              "      <td>-0.724436</td>\n",
              "      <td>0.642317</td>\n",
              "      <td>-0.463299</td>\n",
              "      <td>0.886202</td>\n",
              "      <td>1</td>\n",
              "      <td>correct4.mp4_000005.583.jpg</td>\n",
              "    </tr>\n",
              "    <tr>\n",
              "      <th>1187</th>\n",
              "      <td>1187</td>\n",
              "      <td>0.003605</td>\n",
              "      <td>-1.688448</td>\n",
              "      <td>-0.505763</td>\n",
              "      <td>-1.700788</td>\n",
              "      <td>-0.872193</td>\n",
              "      <td>-1.276811</td>\n",
              "      <td>-0.643880</td>\n",
              "      <td>-1.363973</td>\n",
              "      <td>1.597482</td>\n",
              "      <td>0.173002</td>\n",
              "      <td>-0.879902</td>\n",
              "      <td>-1.130194</td>\n",
              "      <td>-0.726969</td>\n",
              "      <td>0.472646</td>\n",
              "      <td>-0.442574</td>\n",
              "      <td>1.039302</td>\n",
              "      <td>1.464576</td>\n",
              "      <td>0.285259</td>\n",
              "      <td>-0.958003</td>\n",
              "      <td>-1.202617</td>\n",
              "      <td>-0.780239</td>\n",
              "      <td>0.661975</td>\n",
              "      <td>-0.468354</td>\n",
              "      <td>0.955628</td>\n",
              "      <td>1.731454</td>\n",
              "      <td>0.418899</td>\n",
              "      <td>-0.917569</td>\n",
              "      <td>-0.693851</td>\n",
              "      <td>-0.708387</td>\n",
              "      <td>0.749224</td>\n",
              "      <td>-0.427980</td>\n",
              "      <td>0.903788</td>\n",
              "      <td>1</td>\n",
              "      <td>correct4.mp4_000005.650.jpg</td>\n",
              "    </tr>\n",
              "  </tbody>\n",
              "</table>\n",
              "<p>730 rows × 35 columns</p>\n",
              "</div>"
            ],
            "text/plain": [
              "      Unnamed: 0     x_1-0     y_1-0  ...   y_16-15  y                         image\n",
              "458          458 -0.135930 -0.257972  ...  0.997771  1  correct18.MP4_000003.040.jpg\n",
              "459          459 -0.206932 -0.772042  ...  0.993520  1  correct18.MP4_000003.160.jpg\n",
              "460          460 -0.114962 -0.369063  ...  0.997520  1  correct18.MP4_000003.281.jpg\n",
              "461          461 -0.201990 -1.109322  ...  0.973725  1  correct18.MP4_000003.400.jpg\n",
              "462          462 -0.176010 -1.257356  ...  0.996086  1  correct18.MP4_000003.521.jpg\n",
              "...          ...       ...       ...  ...       ... ..                           ...\n",
              "1183        1183 -0.123427 -1.882587  ...  0.875507  1   correct4.mp4_000005.383.jpg\n",
              "1184        1184 -0.057121 -1.930839  ...  0.828664  1   correct4.mp4_000005.450.jpg\n",
              "1185        1185 -0.048179 -1.935884  ...  0.910884  1   correct4.mp4_000005.517.jpg\n",
              "1186        1186 -0.021648 -1.777165  ...  0.886202  1   correct4.mp4_000005.583.jpg\n",
              "1187        1187  0.003605 -1.688448  ...  0.903788  1   correct4.mp4_000005.650.jpg\n",
              "\n",
              "[730 rows x 35 columns]"
            ]
          },
          "metadata": {},
          "execution_count": 276
        }
      ]
    },
    {
      "cell_type": "code",
      "metadata": {
        "colab": {
          "base_uri": "https://localhost:8080/"
        },
        "id": "z0LI02ydBZZc",
        "outputId": "43dc322c-83b6-4130-8ac9-21bc9a090743"
      },
      "source": [
        "data.image[0:365].value_counts()"
      ],
      "execution_count": 277,
      "outputs": [
        {
          "output_type": "execute_result",
          "data": {
            "text/plain": [
              "not_correct6.mp4_000001.466.jpg     1\n",
              "not_correct10.MP4_000015.839.jpg    1\n",
              "not_correct10.MP4_000014.440.jpg    1\n",
              "not_correct10.MP4_000009.241.jpg    1\n",
              "not_correct11.MP4_000015.640.jpg    1\n",
              "                                   ..\n",
              "not_correct10.MP4_000009.440.jpg    1\n",
              "not_correct13.mp4_000005.641.jpg    1\n",
              "not_correct11.MP4_000017.040.jpg    1\n",
              "not_correct11.MP4_000012.639.jpg    1\n",
              "not_correct11.MP4_000019.440.jpg    1\n",
              "Name: image, Length: 365, dtype: int64"
            ]
          },
          "metadata": {},
          "execution_count": 277
        }
      ]
    },
    {
      "cell_type": "code",
      "metadata": {
        "colab": {
          "base_uri": "https://localhost:8080/"
        },
        "id": "wwjNKGLPBLMt",
        "outputId": "6b75e7a8-b403-4091-c463-b6c72a528a11"
      },
      "source": [
        "data.image[365:457].value_counts()"
      ],
      "execution_count": 278,
      "outputs": [
        {
          "output_type": "execute_result",
          "data": {
            "text/plain": [
              "not_correct6.mp4_000005.054.jpg    1\n",
              "not_correct6.mp4_000006.121.jpg    1\n",
              "not_correct6.mp4_000005.122.jpg    1\n",
              "not_correct6.mp4_000005.322.jpg    1\n",
              "not_correct6.mp4_000006.254.jpg    1\n",
              "                                  ..\n",
              "not_correct6.mp4_000004.190.jpg    1\n",
              "not_correct7.mp4_000000.583.jpg    1\n",
              "not_correct6.mp4_000003.188.jpg    1\n",
              "not_correct6.mp4_000006.454.jpg    1\n",
              "not_correct6.mp4_000002.988.jpg    1\n",
              "Name: image, Length: 92, dtype: int64"
            ]
          },
          "metadata": {},
          "execution_count": 278
        }
      ]
    },
    {
      "cell_type": "code",
      "metadata": {
        "id": "wIkHYbfqaSQs"
      },
      "source": [
        "X = data.drop(['y','image'], axis = 1)"
      ],
      "execution_count": 279,
      "outputs": []
    },
    {
      "cell_type": "code",
      "metadata": {
        "id": "t_vPE_KjNg6K"
      },
      "source": [
        "y = data[\"y\"]"
      ],
      "execution_count": 280,
      "outputs": []
    },
    {
      "cell_type": "markdown",
      "metadata": {
        "id": "P5oTLDCQLP5b"
      },
      "source": [
        "#모델"
      ]
    },
    {
      "cell_type": "code",
      "metadata": {
        "id": "QQmK9ErbLSWz"
      },
      "source": [
        "from sklearn.model_selection import train_test_split\n",
        "#X_train, X_test, y_train, y_test = train_test_split(X, y, test_size=0.3, shuffle=True, random_state=104)"
      ],
      "execution_count": 281,
      "outputs": []
    },
    {
      "cell_type": "code",
      "metadata": {
        "id": "Pl6mZreSRZUt"
      },
      "source": [
        "X_test= pd.concat([X[int(0.8*457):457],X[1041:1187]])\n",
        "y_test= pd.concat([y[int(0.8*457):457],y[1041:1187]])\n",
        "X_train = X.drop(X_test.index)\n",
        "X_train.reset_index(drop=True, inplace=True)\n",
        "y_train = y.drop(y_test.index)\n",
        "y_train.reset_index(drop=True, inplace=True)"
      ],
      "execution_count": 282,
      "outputs": []
    },
    {
      "cell_type": "code",
      "metadata": {
        "colab": {
          "base_uri": "https://localhost:8080/"
        },
        "id": "p1HezS5jR97c",
        "outputId": "aae84890-08de-40b2-d4a2-209ccbf0f26a"
      },
      "source": [
        "y_test"
      ],
      "execution_count": 283,
      "outputs": [
        {
          "output_type": "execute_result",
          "data": {
            "text/plain": [
              "365     0\n",
              "366     0\n",
              "367     0\n",
              "368     0\n",
              "369     0\n",
              "       ..\n",
              "1182    1\n",
              "1183    1\n",
              "1184    1\n",
              "1185    1\n",
              "1186    1\n",
              "Name: y, Length: 238, dtype: int64"
            ]
          },
          "metadata": {},
          "execution_count": 283
        }
      ]
    },
    {
      "cell_type": "code",
      "metadata": {
        "id": "_mqy5U8SbO8u"
      },
      "source": [
        "import numpy as np\n",
        "import pandas as pd\n",
        "import seaborn as sns\n",
        "import matplotlib.pyplot as plt\n",
        "import tensorflow as tf\n",
        "from tensorflow import keras\n",
        "from tensorflow.keras import layers\n",
        "from scipy.stats import norm, boxcox\n",
        "from scipy import stats\n",
        "from collections import Counter\n",
        "from sklearn.model_selection import cross_val_score, cross_validate\n",
        "from sklearn.metrics import roc_curve\n",
        "import warnings\n",
        "warnings.simplefilter(action='ignore', category=FutureWarning)"
      ],
      "execution_count": 284,
      "outputs": []
    },
    {
      "cell_type": "code",
      "metadata": {
        "id": "inLGO1j0arYj"
      },
      "source": [
        "from sklearn.metrics import classification_report, confusion_matrix, accuracy_score\n",
        "\n",
        "def metrics(y_true, y_pred):\n",
        "    print('Confusion Matrix:\\n', confusion_matrix(y_true, y_pred))\n",
        "    print('\\n\\nAccuracy Score:\\n', accuracy_score(y_true, y_pred))\n",
        "    print('\\n\\nClassification Report: \\n', classification_report(y_true, y_pred))\n",
        "\n",
        "def predictions(model,X_train=X_train, X_test=X_test, y_train=y_train, y_test=y_test):\n",
        "      model.fit(X_train, y_train)\n",
        "      #predictions\n",
        "      train_pred = model.predict(X_train)\n",
        "      test_pred = model.predict(X_test)\n",
        "      actual = [y_train, y_test]\n",
        "      pred = [train_pred, test_pred]\n",
        "      for i in range(0,2):\n",
        "          if i==0:\n",
        "              print('----Train Metrics----')\n",
        "          else:\n",
        "              print('----Test Metrics----')\n",
        "          metrics(actual[i], pred[i])"
      ],
      "execution_count": 285,
      "outputs": []
    },
    {
      "cell_type": "code",
      "metadata": {
        "colab": {
          "base_uri": "https://localhost:8080/"
        },
        "id": "YAKC6nCGLSZi",
        "outputId": "e28a3a75-abde-4e7b-9020-9f8bf5c25b20"
      },
      "source": [
        "from sklearn.tree import DecisionTreeClassifier\n",
        "dt = DecisionTreeClassifier()\n",
        "predictions(dt)\n",
        "dt.feature_importances_"
      ],
      "execution_count": 286,
      "outputs": [
        {
          "output_type": "stream",
          "text": [
            "----Train Metrics----\n",
            "Confusion Matrix:\n",
            " [[366   0]\n",
            " [  0 584]]\n",
            "\n",
            "\n",
            "Accuracy Score:\n",
            " 1.0\n",
            "\n",
            "\n",
            "Classification Report: \n",
            "               precision    recall  f1-score   support\n",
            "\n",
            "           0       1.00      1.00      1.00       366\n",
            "           1       1.00      1.00      1.00       584\n",
            "\n",
            "    accuracy                           1.00       950\n",
            "   macro avg       1.00      1.00      1.00       950\n",
            "weighted avg       1.00      1.00      1.00       950\n",
            "\n",
            "----Test Metrics----\n",
            "Confusion Matrix:\n",
            " [[ 92   0]\n",
            " [  0 146]]\n",
            "\n",
            "\n",
            "Accuracy Score:\n",
            " 1.0\n",
            "\n",
            "\n",
            "Classification Report: \n",
            "               precision    recall  f1-score   support\n",
            "\n",
            "           0       1.00      1.00      1.00        92\n",
            "           1       1.00      1.00      1.00       146\n",
            "\n",
            "    accuracy                           1.00       238\n",
            "   macro avg       1.00      1.00      1.00       238\n",
            "weighted avg       1.00      1.00      1.00       238\n",
            "\n"
          ],
          "name": "stdout"
        },
        {
          "output_type": "execute_result",
          "data": {
            "text/plain": [
              "array([1., 0., 0., 0., 0., 0., 0., 0., 0., 0., 0., 0., 0., 0., 0., 0., 0.,\n",
              "       0., 0., 0., 0., 0., 0., 0., 0., 0., 0., 0., 0., 0., 0., 0., 0.])"
            ]
          },
          "metadata": {},
          "execution_count": 286
        }
      ]
    },
    {
      "cell_type": "code",
      "metadata": {
        "colab": {
          "base_uri": "https://localhost:8080/"
        },
        "id": "vp20S4q1aoPz",
        "outputId": "f419dd4c-7023-435d-ce84-2f9940093e36"
      },
      "source": [
        "from sklearn.neighbors import KNeighborsClassifier\n",
        "knn = KNeighborsClassifier(n_neighbors=2)\n",
        "predictions(knn)"
      ],
      "execution_count": 287,
      "outputs": [
        {
          "output_type": "stream",
          "text": [
            "----Train Metrics----\n",
            "Confusion Matrix:\n",
            " [[366   0]\n",
            " [  0 584]]\n",
            "\n",
            "\n",
            "Accuracy Score:\n",
            " 1.0\n",
            "\n",
            "\n",
            "Classification Report: \n",
            "               precision    recall  f1-score   support\n",
            "\n",
            "           0       1.00      1.00      1.00       366\n",
            "           1       1.00      1.00      1.00       584\n",
            "\n",
            "    accuracy                           1.00       950\n",
            "   macro avg       1.00      1.00      1.00       950\n",
            "weighted avg       1.00      1.00      1.00       950\n",
            "\n",
            "----Test Metrics----\n",
            "Confusion Matrix:\n",
            " [[ 92   0]\n",
            " [  0 146]]\n",
            "\n",
            "\n",
            "Accuracy Score:\n",
            " 1.0\n",
            "\n",
            "\n",
            "Classification Report: \n",
            "               precision    recall  f1-score   support\n",
            "\n",
            "           0       1.00      1.00      1.00        92\n",
            "           1       1.00      1.00      1.00       146\n",
            "\n",
            "    accuracy                           1.00       238\n",
            "   macro avg       1.00      1.00      1.00       238\n",
            "weighted avg       1.00      1.00      1.00       238\n",
            "\n"
          ],
          "name": "stdout"
        }
      ]
    },
    {
      "cell_type": "code",
      "metadata": {
        "colab": {
          "base_uri": "https://localhost:8080/",
          "height": 352
        },
        "id": "1HR1BblsLSe8",
        "outputId": "69d08b76-eb04-47ef-e974-9bb31f55ef01"
      },
      "source": [
        "import matplotlib\n",
        "matplotlib.rc(\"xtick\", labelsize=20)\n",
        "matplotlib.rc(\"ytick\", labelsize=20)\n",
        "\n",
        "train_accuracies = [0.5]\n",
        "test_accuracies = [0.5]\n",
        "\n",
        "for k in range(1, 12):\n",
        "    clf = KNeighborsClassifier(n_neighbors=k)\n",
        "    \n",
        "    # Train model\n",
        "    clf.fit(X_train, y_train)\n",
        "    # Create train and test predictions\n",
        "    train_predictions = clf.predict(X_train)\n",
        "    test_predictions = clf.predict(X_test)\n",
        "    # Calculate training and test accuracies\n",
        "    train_accuracy = accuracy_score(y_train, train_predictions)\n",
        "    test_accuracy = accuracy_score(y_test, test_predictions)\n",
        "    # Append accuracies\n",
        "    train_accuracies.append(train_accuracy)\n",
        "    test_accuracies.append(test_accuracy)\n",
        "    \n",
        "# Create plots\n",
        "plt.figure(figsize=(10, 5))\n",
        "sns.set_style(\"whitegrid\")\n",
        "plt.plot(train_accuracies, label=\"train accuracy\")\n",
        "plt.plot(test_accuracies, label=\"test accuracy\")\n",
        "plt.legend(loc=\"upper left\", prop={\"size\" : 15})\n",
        "plt.xticks(range(0, 16, 5))\n",
        "plt.xlabel(\"value k\", size=20)\n",
        "plt.ylabel(\"accuracy\", size=20)\n",
        "plt.show()"
      ],
      "execution_count": 288,
      "outputs": [
        {
          "output_type": "display_data",
          "data": {
            "image/png": "[encoded data removed]",
            "text/plain": [
              "<Figure size 720x360 with 1 Axes>"
            ]
          },
          "metadata": {}
        }
      ]
    },
    {
      "cell_type": "code",
      "metadata": {
        "id": "lHyzxAHrns9B",
        "colab": {
          "base_uri": "https://localhost:8080/"
        },
        "outputId": "f800281d-a016-4c4b-c454-889373f89f4c"
      },
      "source": [
        "from sklearn.ensemble import RandomForestClassifier\n",
        "rf =RandomForestClassifier()\n",
        "predictions(rf)"
      ],
      "execution_count": 289,
      "outputs": [
        {
          "output_type": "stream",
          "text": [
            "----Train Metrics----\n",
            "Confusion Matrix:\n",
            " [[366   0]\n",
            " [  0 584]]\n",
            "\n",
            "\n",
            "Accuracy Score:\n",
            " 1.0\n",
            "\n",
            "\n",
            "Classification Report: \n",
            "               precision    recall  f1-score   support\n",
            "\n",
            "           0       1.00      1.00      1.00       366\n",
            "           1       1.00      1.00      1.00       584\n",
            "\n",
            "    accuracy                           1.00       950\n",
            "   macro avg       1.00      1.00      1.00       950\n",
            "weighted avg       1.00      1.00      1.00       950\n",
            "\n",
            "----Test Metrics----\n",
            "Confusion Matrix:\n",
            " [[ 63  29]\n",
            " [  0 146]]\n",
            "\n",
            "\n",
            "Accuracy Score:\n",
            " 0.8781512605042017\n",
            "\n",
            "\n",
            "Classification Report: \n",
            "               precision    recall  f1-score   support\n",
            "\n",
            "           0       1.00      0.68      0.81        92\n",
            "           1       0.83      1.00      0.91       146\n",
            "\n",
            "    accuracy                           0.88       238\n",
            "   macro avg       0.92      0.84      0.86       238\n",
            "weighted avg       0.90      0.88      0.87       238\n",
            "\n"
          ],
          "name": "stdout"
        }
      ]
    },
    {
      "cell_type": "markdown",
      "metadata": {
        "id": "TjNeL3sSftNa"
      },
      "source": [
        "#MLP"
      ]
    },
    {
      "cell_type": "code",
      "metadata": {
        "colab": {
          "base_uri": "https://localhost:8080/"
        },
        "id": "HCInYNo6gawK",
        "outputId": "e64e00e2-d4be-4846-f28d-7e74101f1b2a"
      },
      "source": [
        "print(\"shape of X: {}\\nshape of y: {}\".format(X.shape,y.shape))"
      ],
      "execution_count": 290,
      "outputs": [
        {
          "output_type": "stream",
          "text": [
            "shape of X: (1188, 33)\n",
            "shape of y: (1188,)\n"
          ],
          "name": "stdout"
        }
      ]
    }
  ]
}